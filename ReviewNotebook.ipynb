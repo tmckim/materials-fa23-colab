{
  "nbformat": 4,
  "nbformat_minor": 0,
  "metadata": {
    "colab": {
      "provenance": [],
      "authorship_tag": "ABX9TyNQkkFAevYsoNrnY0HjtfVu",
      "include_colab_link": true
    },
    "kernelspec": {
      "name": "python3",
      "display_name": "Python 3"
    },
    "language_info": {
      "name": "python"
    }
  },
  "cells": [
    {
      "cell_type": "markdown",
      "metadata": {
        "id": "view-in-github",
        "colab_type": "text"
      },
      "source": [
        "<a href=\"https://colab.research.google.com/github/tmckim/materials-fa23-colab/blob/main/ReviewNotebook.ipynb\" target=\"_parent\"><img src=\"https://colab.research.google.com/assets/colab-badge.svg\" alt=\"Open In Colab\"/></a>"
      ]
    },
    {
      "cell_type": "markdown",
      "source": [
        "## Before you start - Save this notebook!\n",
        "\n",
        "When you open a new Colab notebook from the WebCampus (like you hopefully did for this one), you cannot save changes. So it's  best to store the Colab notebook in your personal drive `\"File > Save a copy in drive...\"` **before** you do anything else.\n",
        "\n",
        "The file will open in a new tab in your web browser, and it is automatically named something like: \"**Copy of ReviewNotebook.ipynb**\". You can rename this to just the title of the assignment \"**ReviewNotebook.ipynb**\". Make sure you do keep an informative name (like the name of the assignment) so that you know which files to submit back to WebCampus for grading! More instructions on this are at the end of the notebook.\n",
        "\n",
        "\n",
        "**Where does the notebook get saved in Google Drive?**\n",
        "\n",
        "By default, the notebook will be copied to a folder called “Colab Notebooks” at the root (home directory) of your Google Drive. If you use this for other courses or personal code notebooks, I recommend creating a folder for this course and then moving the assignments AFTER you have completed them.\n",
        "\n"
      ],
      "metadata": {
        "id": "xe0QHc62e-W_"
      }
    },
    {
      "cell_type": "code",
      "execution_count": null,
      "metadata": {
        "id": "DKxFRJole7r7"
      },
      "outputs": [],
      "source": [
        "# Add import later if needed to access any data files.\n",
        "\n",
        "# So far, tables created by hand"
      ]
    },
    {
      "cell_type": "code",
      "source": [
        "# Import packages and other things needed\n",
        "# Don't change this cell; Just run this cell\n",
        "# If you restart colab, make sure to run this cell again after the first one above^\n",
        "\n",
        "from datascience import *\n",
        "import numpy as np\n",
        "\n",
        "%matplotlib inline\n",
        "import matplotlib.pyplot as plots\n",
        "plots.style.use('fivethirtyeight')\n",
        "import warnings\n",
        "warnings.simplefilter(action='ignore',category=np.VisibleDeprecationWarning)"
      ],
      "metadata": {
        "id": "zQhc2gzQfIEn"
      },
      "execution_count": null,
      "outputs": []
    },
    {
      "cell_type": "code",
      "source": [
        "999 % 2"
      ],
      "metadata": {
        "id": "eM7d6rBIXv8h"
      },
      "execution_count": null,
      "outputs": []
    },
    {
      "cell_type": "code",
      "source": [
        "def compute_letter_grade(score):\n",
        "  if score > 89:\n",
        "    return \"A\""
      ],
      "metadata": {
        "id": "xh39gNWbFJoW"
      },
      "execution_count": null,
      "outputs": []
    },
    {
      "cell_type": "code",
      "source": [
        "compute_letter_grade(90)"
      ],
      "metadata": {
        "id": "d7EXevMuFoBE"
      },
      "execution_count": null,
      "outputs": []
    },
    {
      "cell_type": "code",
      "source": [
        "7%2"
      ],
      "metadata": {
        "id": "PdjlXxRgGerC"
      },
      "execution_count": null,
      "outputs": []
    },
    {
      "cell_type": "code",
      "source": [
        "11%2"
      ],
      "metadata": {
        "id": "VEeicpnaGgYB"
      },
      "execution_count": null,
      "outputs": []
    },
    {
      "cell_type": "code",
      "source": [
        "5%2"
      ],
      "metadata": {
        "id": "el3agAFTGh4o"
      },
      "execution_count": null,
      "outputs": []
    },
    {
      "cell_type": "code",
      "source": [
        "chocolates = Table().with_columns(\n",
        "    'Color', make_array(\"Dark\",\"Milk\", \"White\",\"Dark\",\"Milk\",\"Milk\"),\n",
        "    'Shape', make_array(\"Round\",\"Rectangle\", \"Rectangle\",\"Round\",\"Rectangle\",\"Round\"),\n",
        "    'Amount', make_array(4,6,12,7,9,2),\n",
        "    'Price ($)', make_array(1.30,1.20,2.00,1.75,1.40,1.00),\n",
        ")\n",
        "chocolates"
      ],
      "metadata": {
        "id": "Y_zoiCytfMTP"
      },
      "execution_count": null,
      "outputs": []
    },
    {
      "cell_type": "code",
      "source": [
        "nutrition = Table().with_columns(\n",
        "    'Type', make_array(\"Dark\",\"Milk\", \"White\",\"Ruby\"),\n",
        "    'Calories', make_array(120,130,115,120),\n",
        ")\n",
        "nutrition"
      ],
      "metadata": {
        "id": "JFPVbvvAgNpN"
      },
      "execution_count": null,
      "outputs": []
    },
    {
      "cell_type": "code",
      "source": [
        "# Letter A\n",
        "chocolates.group('Shape')"
      ],
      "metadata": {
        "id": "mkn3Xwqrfw3v"
      },
      "execution_count": null,
      "outputs": []
    },
    {
      "cell_type": "code",
      "source": [
        "chocolates.group('Shape', collect = len)"
      ],
      "metadata": {
        "id": "IkF5dZqkPEoE"
      },
      "execution_count": null,
      "outputs": []
    },
    {
      "cell_type": "code",
      "source": [
        "# Letter B\n",
        "chocolates.drop('Color').group('Shape',max)"
      ],
      "metadata": {
        "id": "urw2uK-1f12z"
      },
      "execution_count": null,
      "outputs": []
    },
    {
      "cell_type": "code",
      "source": [
        "# Letter C\n",
        "chocolates.group(['Shape','Color'],max)"
      ],
      "metadata": {
        "id": "jqC_8r8bf3jl"
      },
      "execution_count": null,
      "outputs": []
    },
    {
      "cell_type": "code",
      "source": [
        "# Letter D\n",
        "chocolates.pivot('Color', 'Shape', 'Price ($)', max)"
      ],
      "metadata": {
        "id": "2BeWYDihf9P0"
      },
      "execution_count": null,
      "outputs": []
    },
    {
      "cell_type": "code",
      "source": [
        "#Explicitly naming the function arguments. You wouldn't do this in practice, but it helps to highlight the meaning of the four things we passed to the function above.\n",
        "\n",
        "chocolates.pivot(\n",
        "    columns = 'Color', # column whose unique values become columns\n",
        "    rows = 'Shape', # column whose unique values become rows\n",
        "    values = 'Price ($)', # column that will be used to do computing\n",
        "    collect = max) # how to aggregate the values"
      ],
      "metadata": {
        "id": "yMwH-F_ViCm5"
      },
      "execution_count": null,
      "outputs": []
    },
    {
      "cell_type": "code",
      "source": [
        "# Letter E\n",
        "chocolates.join('Color', nutrition, 'Type')"
      ],
      "metadata": {
        "id": "bC4ozjQJgDg_"
      },
      "execution_count": null,
      "outputs": []
    },
    {
      "cell_type": "code",
      "source": [
        "# Letter F\n",
        "chocolates.group(make_array('Shape','Color', 'Amount'), max)"
      ],
      "metadata": {
        "id": "ivFP3dLQgQLb"
      },
      "execution_count": null,
      "outputs": []
    },
    {
      "cell_type": "code",
      "source": [
        "chocolates.group(['Shape','Color'])"
      ],
      "metadata": {
        "id": "EK2y-t8aRqpz"
      },
      "execution_count": null,
      "outputs": []
    },
    {
      "cell_type": "code",
      "source": [],
      "metadata": {
        "id": "Y6kbAVsDgTiI"
      },
      "execution_count": null,
      "outputs": []
    }
  ]
}