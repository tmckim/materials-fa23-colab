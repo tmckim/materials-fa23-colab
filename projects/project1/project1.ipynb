{
  "cells": [
    {
      "cell_type": "markdown",
      "id": "bb17dd2d",
      "metadata": {
        "id": "bb17dd2d"
      },
      "source": [
        "<a href=\"https://colab.research.google.com/github/tmckim/materials-fa23-colab/blob/main/projects/project1/project1.ipynb\" target=\"_parent\"><img src=\"https://colab.research.google.com/assets/colab-badge.svg\" alt=\"Open In Colab\"/></a>"
      ]
    },
    {
      "cell_type": "markdown",
      "id": "1c869159",
      "metadata": {
        "id": "1c869159"
      },
      "source": [
        "## Before you start - Save this notebook!\n",
        "\n",
        "When you open a new Colab notebook from the WebCampus (like you hopefully did for this one), you cannot save changes. So it's  best to store the Colab notebook in your personal drive `\"File > Save a copy in drive...\"` **before** you do anything else.\n",
        "\n",
        "The file will open in a new tab in your web browser, and it is automatically named something like: \"**Copy of project1.ipynb**\". You can rename this to just the title of the assignment \"**project1.ipynb**\". Make sure you do keep an informative name (like the name of the assignment) so that you know which files to submit back to WebCampus for grading! More instructions on this are at the end of the notebook.\n",
        "\n",
        "\n",
        "**Where does the notebook get saved in Google Drive?**\n",
        "\n",
        "By default, the notebook will be copied to a folder called “Colab Notebooks” at the root (home directory) of your Google Drive. If you use this for other courses or personal code notebooks, I recommend creating a folder for this course and then moving the assignments AFTER you have completed them."
      ]
    },
    {
      "cell_type": "code",
      "execution_count": null,
      "metadata": {
        "deletable": false,
        "editable": false,
        "id": "hPTidDKhxLDY"
      },
      "outputs": [],
      "source": [
        "# Setup and add files needed to gdrive\n",
        "# If you restart colab, start by rerunning this cell first!\n",
        "from google.colab import drive\n",
        "drive.mount('/content/gdrive', force_remount=True)\n",
        "\n",
        "#!mkdir -p '/content/gdrive/My Drive/colab-materials-NS499DataSci-notebooks/'\n",
        "%cd /content/gdrive/My Drive/colab-materials-NS499DataSci-notebooks/\n",
        "!rm -r materials-fa23-colab\n",
        "!git clone https://github.com/tmckim/materials-fa23-colab '/content/gdrive/My Drive/colab-materials-NS499DataSci-notebooks/materials-fa23-colab/'\n",
        "\n",
        "%pip install otter-grader==4.3.4\n",
        "%cd /content/gdrive/MyDrive/colab-materials-NS499DataSci-notebooks/materials-fa23-colab/projects/project1/\n",
        "\n",
        "# Initialize Otter\n",
        "import otter\n",
        "grader = otter.Notebook(colab=True)"
      ],
      "id": "hPTidDKhxLDY"
    },
    {
      "cell_type": "markdown",
      "metadata": {
        "id": "dZUDIlpyxLDZ"
      },
      "source": [
        "# Project 1: World Progress"
      ],
      "id": "dZUDIlpyxLDZ"
    },
    {
      "cell_type": "markdown",
      "metadata": {
        "id": "WwNvO5kixLDZ"
      },
      "source": [
        "In this project, you'll explore data from [Gapminder.org](http://gapminder.org), a website dedicated to providing a fact-based view of the world and how it has changed. That site includes several data visualizations and presentations, but also publishes the raw data that we will use in this project to recreate and extend some of their most famous visualizations.\n",
        "\n",
        "The Gapminder website collects data from many sources and compiles them into tables that describe many countries around the world. All of the data they aggregate are published in the [Systema Globalis](https://github.com/open-numbers/ddf--gapminder--systema_globalis/blob/master/README.md). Their goal is \"to compile all public statistics; Social, Economic and Environmental; into a comparable total dataset.\" All data sets in this project are copied directly from the Systema Globalis without any changes.\n",
        "\n",
        "This project is dedicated to [Hans Rosling](https://en.wikipedia.org/wiki/Hans_Rosling) (1948-2017), who championed the use of data to understand and prioritize global development challenges."
      ],
      "id": "WwNvO5kixLDZ"
    },
    {
      "cell_type": "markdown",
      "metadata": {
        "id": "40K5Wx3AxLDZ"
      },
      "source": [
        "### Logistics\n",
        "\n",
        "**Rules.** Don't share your code with anybody but your partner. You are welcome to discuss questions with other students, but don't share the answers. The experience of solving the problems in this project will prepare you for exams (and life). If someone asks you for the answer, resist! Instead, you can demonstrate how you would solve a similar problem.\n",
        "\n",
        "**Support.** You are not alone! Come to office hours and talk to your classmates. If you want to ask about the details of your solution to a problem, come see me. If you're ever feeling overwhelmed or don't know how to make progress, email for help.\n",
        "\n",
        "**Tests.** The tests that are given are **not comprehensive** and passing the tests for a question **does not** mean that you answered the question correctly. Tests usually only check that your table has the correct column labels. However, more tests will be applied to verify the correctness of your submission in order to assign your final score, so be careful and check your work! You might want to create your own checks along the way to see if your answers make sense. Additionally, before you submit, make sure that none of your cells take a very long time to run (several minutes).\n",
        "\n",
        "**Free Response Questions:** Make sure that you put the answers to the written questions in the indicated cell we provide. **Every free response question should include an explanation** that adequately answers the question.\n",
        "\n",
        "**Tabular Thinking Guide:** Feel free to reference [Tabular Thinking Guide](https://drive.google.com/file/d/1Blr5McJ2fQ4OHn0wHCh_CKGvjb0-d_vB/view?usp=sharing) for extra guidance.\n",
        "\n",
        "**Advice.** Develop your answers incrementally. To perform a complicated table manipulation, break it up into steps, perform each step on a different line, give a new name to each result, and check that each intermediate result is what you expect. You can add any additional names or functions you want to the provided cells. Make sure that you are using distinct and meaningful variable names throughout the notebook. Along that line, **DO NOT** reuse the variable names that we use when we grade your answers. For example, in Question 1 of the Global Poverty section we ask you to assign an answer to `latest`. Do not reassign the variable name `latest` to anything else in your notebook, otherwise there is the chance that our tests grade against what `latest` was reassigned to.\n",
        "\n",
        "You **never** have to use just one line in this project or any others. Use intermediate variables and multiple lines as much as you would like!\n",
        "\n",
        "---\n",
        "\n",
        "To get started, load `datascience`, `numpy`, `plots`, and `otter`."
      ],
      "id": "40K5Wx3AxLDZ"
    },
    {
      "cell_type": "code",
      "execution_count": null,
      "metadata": {
        "deletable": false,
        "id": "CCm0laxWxLDa"
      },
      "outputs": [],
      "source": [
        "# Run this cell to set up the notebook, but please don't change it.\n",
        "# If you restart colab, start by rerunning this cell!\n",
        "\n",
        "# These lines import the NumPy and Datascience modules.\n",
        "from datascience import *\n",
        "import numpy as np\n",
        "\n",
        "# These lines do some fancy plotting magic.\n",
        "%matplotlib inline\n",
        "import matplotlib.pyplot as plots\n",
        "plots.style.use('fivethirtyeight')\n",
        "\n",
        "from ipywidgets import interact, interactive, fixed, interact_manual\n",
        "import ipywidgets as widgets\n",
        "\n",
        "import d8error"
      ],
      "id": "CCm0laxWxLDa"
    },
    {
      "cell_type": "markdown",
      "metadata": {
        "deletable": false,
        "editable": false,
        "id": "YKzTJV2lxLDa"
      },
      "source": [
        "## 1. Global Population Growth"
      ],
      "id": "YKzTJV2lxLDa"
    },
    {
      "cell_type": "markdown",
      "metadata": {
        "deletable": false,
        "editable": false,
        "id": "J6MOdg2kxLDb"
      },
      "source": [
        "The global population of humans reached 1 billion around 1800, 3 billion around 1960, and 7 billion around 2011. The potential impact of exponential population growth has concerned scientists, economists, and politicians alike.\n",
        "\n",
        "The UN Population Division estimates that the world population will likely continue to grow throughout the 21st century, but at a slower rate, perhaps reaching 11 billion by 2100. However, the UN does not rule out scenarios of more extreme growth.\n",
        "\n",
        "<a href=\"http://www.pewresearch.org/fact-tank/2015/06/08/scientists-more-worried-than-public-about-worlds-growing-population/ft_15-06-04_popcount/\">\n",
        " <img src=\"https://github.com/tmckim/materials-fa23-colab/blob/main/projects/project1/pew_population_projection.png?raw=1\"/>\n",
        "</a>\n",
        "\n",
        "In this part of the project, we will examine some of the factors that influence population growth and how they have been changing over the years and around the world. There are two main sub-parts of this analysis.\n",
        "\n",
        "- First, we will examine the data for one country, Bangladesh. We will see how factors such as life expectancy, fertility rate, and child mortality have changed over time in Bangladesh, and how they are related to the rate of population growth.\n",
        "- Next, we will examine whether the changes we have observed for Bangladesh are particular to that country or whether they reflect general patterns observable in other countries too. We will study aspects of world population growth and see how they have been changing.\n",
        "\n",
        "The first table we will consider contains the total population of each country over time. Run the cell below."
      ],
      "id": "J6MOdg2kxLDb"
    },
    {
      "cell_type": "code",
      "execution_count": null,
      "metadata": {
        "deletable": false,
        "scrolled": true,
        "id": "H2DTgm7TxLDb"
      },
      "outputs": [],
      "source": [
        "population = Table.read_table('population.csv').where(\"time\", are.below(2021))\n",
        "population.show(3)"
      ],
      "id": "H2DTgm7TxLDb"
    },
    {
      "cell_type": "markdown",
      "metadata": {
        "id": "de-UXC0jxLDb"
      },
      "source": [
        "**Note:** The population csv file can also be found [here](https://github.com/open-numbers/ddf--gapminder--systema_globalis/tree/fb4e143f5d2c0d851934db48a15401ddf0a77a19/countries-etc-datapoints). The data for this project was downloaded from the ddf--datapoints--population_total--by--geo--time.csv file in February 2017.\n"
      ],
      "id": "de-UXC0jxLDb"
    },
    {
      "cell_type": "markdown",
      "metadata": {
        "deletable": false,
        "id": "KqC5p5LoxLDb"
      },
      "source": [
        "### Bangladesh\n",
        "\n",
        "The nation of [Bangladesh](https://en.wikipedia.org/wiki/Bangladesh#People's_Republic_of_Bangladesh) was established as a parliamentary democracy after the Bangladesh Liberation War ended in 1971. The war-ravaged fledgling nation was almost immediately faced with floods and famine. In this section of the project, we will examine aspects of the development of Bangladesh since that time.\n",
        "\n",
        "In the `population` table, the `geo` column contains three-letter codes established by the [International Organization for Standardization](https://en.wikipedia.org/wiki/International_Organization_for_Standardization) (ISO) in the [Alpha-3](https://en.wikipedia.org/wiki/ISO_3166-1_alpha-3#Current_codes) standard. We will begin by taking a close look at Bangladesh. Use the Alpha-3 link to find the 3-letter code for Bangladesh."
      ],
      "id": "KqC5p5LoxLDb"
    },
    {
      "cell_type": "markdown",
      "metadata": {
        "id": "y1iDp38yxLDb"
      },
      "source": [
        "**Question 1.** Create a table called `b_pop` that has two columns labeled `time` and `population_total`. The first column should contain the years from 1970 through 2020 (including both 1970 and 2020) and the second should contain the population of Bangladesh in each of those years.\n"
      ],
      "id": "y1iDp38yxLDb"
    },
    {
      "cell_type": "code",
      "execution_count": null,
      "metadata": {
        "deletable": false,
        "tags": [],
        "id": "s7CSmeMDxLDb"
      },
      "outputs": [],
      "source": [
        "b_pop = ...\n",
        "b_pop"
      ],
      "id": "s7CSmeMDxLDb"
    },
    {
      "cell_type": "code",
      "execution_count": null,
      "metadata": {
        "deletable": false,
        "editable": false,
        "id": "AfNqAUepxLDc"
      },
      "outputs": [],
      "source": [
        "grader.check(\"q1_1\")"
      ],
      "id": "AfNqAUepxLDc"
    },
    {
      "cell_type": "markdown",
      "metadata": {
        "deletable": false,
        "id": "pwdv1pdMxLDc"
      },
      "source": [
        "Run the following cell to create a table called `b_five` that has the population of Bangladesh every five years. At a glance, it appears that the population of Bangladesh has been growing quickly indeed!"
      ],
      "id": "pwdv1pdMxLDc"
    },
    {
      "cell_type": "code",
      "execution_count": null,
      "metadata": {
        "deletable": false,
        "id": "RKbhVMQ7xLDd"
      },
      "outputs": [],
      "source": [
        "b_pop.set_format('population_total', NumberFormatter)\n",
        "\n",
        "fives = np.arange(1970, 2021, 5) # 1970, 1975, 1980, ...\n",
        "b_five = b_pop.sort('time').where('time', are.contained_in(fives))\n",
        "b_five.show()"
      ],
      "id": "RKbhVMQ7xLDd"
    },
    {
      "cell_type": "markdown",
      "metadata": {
        "id": "hUxbSFWkxLDd"
      },
      "source": [
        "**Question 2.** Assign `initial` to an array that contains the population for every five year interval from 1970 to 2015 (inclusive). Then, assign `changed` to an array that contains the population for every five year interval from 1975 to 2020 (inclusive). The first array should include both 1970 and 2015, and the second array should include both 1975 and 2020. You should use the `b_five` table to create both arrays, by first filtering the table to only contain the relevant years.\n",
        "\n",
        "The annual growth rate for a time period is equal to:\n",
        "\n",
        "$$\\left(\\left(\\frac{\\text{Population at end of period}}{\\text{Population at start of period}}\\right)^{\\displaystyle\\frac{1}{\\text{number of years}}}\\right) -1$$\n",
        "\n",
        "We have provided the code below that uses  `initial` and `changed` in order to add a column to `b_five` called `annual_growth`. Don't worry about the calculation of the growth rates; run the test below to test your solution.\n",
        "\n",
        "If you are interested in how we came up with the formula for growth rates, consult the [growth rates](https://inferentialthinking.com/chapters/03/2/1/Growth.html) section of the textbook.\n"
      ],
      "id": "hUxbSFWkxLDd"
    },
    {
      "cell_type": "code",
      "execution_count": null,
      "metadata": {
        "tags": [],
        "id": "5IOx7Yw4xLDd"
      },
      "outputs": [],
      "source": [
        "initial = ...\n",
        "changed = ...\n",
        "\n",
        "b_1970_through_2015 = b_five.where('time', are.below_or_equal_to(2015))\n",
        "b_five_growth = b_1970_through_2015.with_column('annual_growth', (changed/initial)**0.2-1)\n",
        "b_five_growth.set_format('annual_growth', PercentFormatter)"
      ],
      "id": "5IOx7Yw4xLDd"
    },
    {
      "cell_type": "code",
      "execution_count": null,
      "metadata": {
        "deletable": false,
        "editable": false,
        "id": "rnm5HBSExLDd"
      },
      "outputs": [],
      "source": [
        "grader.check(\"q1_2\")"
      ],
      "id": "rnm5HBSExLDd"
    },
    {
      "cell_type": "markdown",
      "metadata": {
        "deletable": false,
        "id": "Shsi7U8_xLDd"
      },
      "source": [
        "While the population has grown every five years since 1970, the annual growth rate decreased dramatically from 1985 to 2015. Let's look at some other information in order to develop a possible explanation. Run the next cell to load three additional tables of measurements about countries over time."
      ],
      "id": "Shsi7U8_xLDd"
    },
    {
      "cell_type": "code",
      "execution_count": null,
      "metadata": {
        "deletable": false,
        "id": "1pmLxr5zxLDd"
      },
      "outputs": [],
      "source": [
        "life_expectancy = Table.read_table('life_expectancy.csv').where('time', are.below(2021))\n",
        "child_mortality = Table.read_table('child_mortality.csv').relabel(2, 'child_mortality_under_5_per_1000_born').where('time', are.below(2021))\n",
        "fertility = Table.read_table('fertility.csv').where('time', are.below(2021))"
      ],
      "id": "1pmLxr5zxLDd"
    },
    {
      "cell_type": "markdown",
      "metadata": {
        "deletable": false,
        "editable": false,
        "id": "FyJ3Hz7vxLDd"
      },
      "source": [
        "The `life_expectancy` table contains a statistic that is often used to measure how long people live, called *life expectancy at birth*. This number, for a country in a given year, [does not measure how long babies born in that year are expected to live](http://blogs.worldbank.org/opendata/what-does-life-expectancy-birth-really-mean). Instead, it measures how long someone would live, on average, if the *mortality conditions* in that year persisted throughout their lifetime. These \"mortality conditions\" describe what fraction of people at each age survived the year. So, it is a way of measuring the proportion of people that are staying alive, aggregated over different age groups in the population."
      ],
      "id": "FyJ3Hz7vxLDd"
    },
    {
      "cell_type": "markdown",
      "metadata": {
        "id": "2kLZaY6CxLDd"
      },
      "source": [
        "Run the following cells below to see `life_expectancy`, `child_mortality`, and `fertility`. Refer back to these tables as they will be helpful for answering further questions!"
      ],
      "id": "2kLZaY6CxLDd"
    },
    {
      "cell_type": "code",
      "execution_count": null,
      "metadata": {
        "id": "Ugbj21cPxLDd"
      },
      "outputs": [],
      "source": [
        "life_expectancy.show(3)"
      ],
      "id": "Ugbj21cPxLDd"
    },
    {
      "cell_type": "code",
      "execution_count": null,
      "metadata": {
        "id": "9I-x06ARxLDe"
      },
      "outputs": [],
      "source": [
        "child_mortality.show(3)"
      ],
      "id": "9I-x06ARxLDe"
    },
    {
      "cell_type": "code",
      "execution_count": null,
      "metadata": {
        "id": "7eaj0MVSxLDe"
      },
      "outputs": [],
      "source": [
        "fertility.show(3)"
      ],
      "id": "7eaj0MVSxLDe"
    },
    {
      "cell_type": "markdown",
      "metadata": {
        "id": "VdKgIP19xLDe"
      },
      "source": [
        "<!-- BEGIN QUESTION -->\n",
        "\n",
        "**Question 3.** Perhaps population is growing more slowly because people aren't living as long. Use the `life_expectancy` table to draw a line graph with the years 1970 and later on the horizontal axis that shows how the *life expectancy at birth* has changed in Bangladesh.\n"
      ],
      "id": "VdKgIP19xLDe"
    },
    {
      "cell_type": "code",
      "execution_count": null,
      "metadata": {
        "deletable": false,
        "manual_grade": true,
        "manual_problem_id": "global_pop_3",
        "tags": [],
        "id": "jPSlpt8rxLDe"
      },
      "outputs": [],
      "source": [
        "#Fill in code here\n",
        "..."
      ],
      "id": "jPSlpt8rxLDe"
    },
    {
      "cell_type": "markdown",
      "metadata": {
        "id": "7Q8_IzGJxLDe"
      },
      "source": [
        "<!-- END QUESTION -->\n",
        "\n",
        "<!-- BEGIN QUESTION -->\n",
        "\n",
        "**Question 4.** Assuming everything else stays the same, do the trends in life expectancy in the graph above directly explain why the population growth rate decreased from 1985 to 2015 in Bangladesh? Why or why not?\n",
        "\n",
        "Hint: What happened in Bangladesh in 1991, and does that event explain the overall change in population growth rate? This [webpage](https://en.wikipedia.org/wiki/1991_Bangladesh_cyclone) provides relevant context.\n"
      ],
      "id": "7Q8_IzGJxLDe"
    },
    {
      "cell_type": "markdown",
      "metadata": {
        "id": "dZQXTL5dxLDe"
      },
      "source": [
        "_Type your answer here, replacing this text._"
      ],
      "id": "dZQXTL5dxLDe"
    },
    {
      "cell_type": "markdown",
      "metadata": {
        "deletable": false,
        "editable": false,
        "id": "3QZk-7WwxLDe"
      },
      "source": [
        "<!-- END QUESTION -->\n",
        "\n",
        "The `fertility` table contains a statistic that is often used to measure how many babies are being born, the *total fertility rate*. This number describes the [number of children a woman would have in her lifetime](https://www.measureevaluation.org/prh/rh_indicators/specific/fertility/total-fertility-rate), on average, if the current rates of birth by age of the mother persisted throughout her child bearing years, assuming she survived through age 49."
      ],
      "id": "3QZk-7WwxLDe"
    },
    {
      "cell_type": "markdown",
      "metadata": {
        "id": "rfR1QbvkxLDe"
      },
      "source": [
        "**Question 5.** Complete the function `fertility_over_time`. It takes the Alpha-3 code of a country as `country_code` and a `start` year. It returns a two-column table with labels `Year` and `Children per woman` that can be used to generate a line chart of the country's fertility rate each year, starting at the `start` year. The plot should include the `start` year and all later years that appear in the `fertility` table.\n",
        "\n",
        "Then, determine the Alpha-3 code for Bangladesh. The code for Bangladesh and the year 1970 are used in the call to your `fertility_over_time` function in order to plot how Bangladesh's fertility rate has changed since 1970. Note that the function `fertility_over_time` should not return the plot itself. **The expression that draws the line plot is provided for you; please don't change it.**\n"
      ],
      "id": "rfR1QbvkxLDe"
    },
    {
      "cell_type": "code",
      "execution_count": null,
      "metadata": {
        "deletable": false,
        "tags": [],
        "id": "qcMCff3lxLDe"
      },
      "outputs": [],
      "source": [
        "def fertility_over_time(country_code, start):\n",
        "    \"\"\"Create a two-column table that describes a country's total fertility rate each year.\"\"\"\n",
        "    country_fertility = ...\n",
        "    country_fertility_after_start = ...\n",
        "    cleaned_table = ...\n",
        "    ...\n",
        "\n",
        "bangladesh_code = ...\n",
        "fertility_over_time(bangladesh_code, 1970).plot(0, 1) # You should *not* change this line."
      ],
      "id": "qcMCff3lxLDe"
    },
    {
      "cell_type": "code",
      "execution_count": null,
      "metadata": {
        "deletable": false,
        "editable": false,
        "id": "TgNfHqdLxLDe"
      },
      "outputs": [],
      "source": [
        "grader.check(\"q1_5\")"
      ],
      "id": "TgNfHqdLxLDe"
    },
    {
      "cell_type": "markdown",
      "metadata": {
        "id": "fhkERAD_xLDe"
      },
      "source": [
        "<!-- BEGIN QUESTION -->\n",
        "\n",
        "**Question 6.** Assuming everything else is constant, do the trends in fertility in the graph above help directly explain why the population growth rate decreased from 1980 to 2020 in Bangladesh? Why or why not?\n"
      ],
      "id": "fhkERAD_xLDe"
    },
    {
      "cell_type": "markdown",
      "metadata": {
        "id": "VGw1AY3qxLDe"
      },
      "source": [
        "_Type your answer here, replacing this text._"
      ],
      "id": "VGw1AY3qxLDe"
    },
    {
      "cell_type": "markdown",
      "metadata": {
        "deletable": false,
        "id": "Fs4Ale9PxLDf"
      },
      "source": [
        "<!-- END QUESTION -->\n",
        "\n",
        "It has been [observed](https://www.ageing.ox.ac.uk/download/143) that lower fertility rates are often associated with lower child mortality rates. The link has been attributed to family planning: if parents can expect that their children will all survive into adulthood, then they will choose to have fewer children. In the reverse direction, having fewer children may allow families to devote more resources to each child, reducing child mortality. We can see if this association is evident in Bangladesh by plotting the relationship between total fertility rate and [child mortality rate per 1000 children](https://en.wikipedia.org/wiki/Child_mortality)."
      ],
      "id": "Fs4Ale9PxLDf"
    },
    {
      "cell_type": "markdown",
      "metadata": {
        "id": "qe96UeOQxLDf"
      },
      "source": [
        "**Question 7.** Using both the `fertility` and `child_mortality` tables, draw a scatter diagram that has Bangladesh's total fertility on the horizontal axis and its child mortality on the vertical axis with one point for each year, starting with 1970.\n",
        "\n",
        "**The code that draws the scatter diagram is provided for you; please don't change it.** Instead, create a table called `post_1969_fertility_and_child_mortality` with the appropriate column labels and data in order to generate the chart correctly. Use the label `Children per woman` to describe total fertility and the label `Child deaths per 1000 born` to describe child mortality.\n",
        "\n",
        "*Hint*: Do not drop the `time` column or you will get an error in the scatterplot in the next cell!\n"
      ],
      "id": "qe96UeOQxLDf"
    },
    {
      "cell_type": "code",
      "execution_count": null,
      "metadata": {
        "deletable": false,
        "tags": [],
        "id": "Q4459Qh9xLDi"
      },
      "outputs": [],
      "source": [
        "bgd_fertility = ...\n",
        "bgd_child_mortality = ...\n",
        "fertility_and_child_mortality = ...\n",
        "post_1969_fertility_and_child_mortality = ...\n",
        "\n",
        "# Don't change anything below this line!\n",
        "x_births = post_1969_fertility_and_child_mortality.column(\"Children per woman\")\n",
        "y_deaths = post_1969_fertility_and_child_mortality.column(\"Child deaths per 1000 born\")\n",
        "time_colors = post_1969_fertility_and_child_mortality.column(\"time\")\n",
        "\n",
        "plots.figure(figsize=(6,6))\n",
        "plots.scatter(x_births, y_deaths, c=time_colors, cmap=\"Blues_r\")\n",
        "plots.colorbar()\n",
        "plots.xlabel(\"Children per woman\")\n",
        "plots.ylabel(\"Child deaths per 1000 born\");"
      ],
      "id": "Q4459Qh9xLDi"
    },
    {
      "cell_type": "code",
      "execution_count": null,
      "metadata": {
        "deletable": false,
        "editable": false,
        "id": "v2zya69nxLDi"
      },
      "outputs": [],
      "source": [
        "grader.check(\"q1_7\")"
      ],
      "id": "v2zya69nxLDi"
    },
    {
      "cell_type": "markdown",
      "metadata": {
        "id": "t6W_EEK9xLDj"
      },
      "source": [
        "The plot above uses **color** to encode data about the `time` column from the table `post_1969_fertility_and_child_mortality`. The colors, ranging from dark blue to white, represent the passing of time between the 1970s to the 2020s. For example, a point on the scatter plot representing data from the 1970s would appear as **dark blue** and a point from the 2010s would appear as **light blue**.\n"
      ],
      "id": "t6W_EEK9xLDj"
    },
    {
      "cell_type": "markdown",
      "metadata": {
        "id": "_xXiwf-dxLDj"
      },
      "source": [
        "<!-- BEGIN QUESTION -->\n",
        "\n",
        "**Question 8.** In one or two sentences, describe the association (if any) that is illustrated by this scatter diagram. Does the diagram show that reduced child mortality *causes* parents to choose to have fewer children?\n"
      ],
      "id": "_xXiwf-dxLDj"
    },
    {
      "cell_type": "markdown",
      "metadata": {
        "id": "GmKCP19UxLDj"
      },
      "source": [
        "_Type your answer here, replacing this text._"
      ],
      "id": "GmKCP19UxLDj"
    },
    {
      "cell_type": "code",
      "execution_count": null,
      "id": "c2bd6398",
      "metadata": {
        "id": "c2bd6398"
      },
      "outputs": [],
      "source": [
        "# Run this cell for a message and animation\n",
        "\n",
        "from IPython.display import HTML\n",
        "print(\"Woohoo you've reached the checkpoint!\")\n",
        "HTML('<img src=\"https://media.giphy.com/media/HZrx8kjIA7lyeTqXVM/giphy.gif\">')"
      ]
    },
    {
      "cell_type": "markdown",
      "metadata": {
        "id": "RSJJ35u4xLDj"
      },
      "source": [
        "<!-- END QUESTION -->"
      ],
      "id": "RSJJ35u4xLDj"
    },
    {
      "cell_type": "markdown",
      "metadata": {
        "id": "gFwUdl36xLDj"
      },
      "source": [
        "---\n",
        "\n",
        "To double check your work, the cell below will rerun all of the autograder tests for Section 1."
      ],
      "id": "gFwUdl36xLDj"
    },
    {
      "cell_type": "code",
      "execution_count": null,
      "metadata": {
        "id": "pL7JO-E2xLDj"
      },
      "outputs": [],
      "source": [
        "checkpoint_tests = [\"q1_1\", \"q1_2\", \"q1_5\", \"q1_7\"]\n",
        "for test in checkpoint_tests:\n",
        "    display(grader.check(test))"
      ],
      "id": "pL7JO-E2xLDj"
    },
    {
      "cell_type": "markdown",
      "metadata": {
        "id": "V9K92J6uxLDj"
      },
      "source": [
        "## Submission\n",
        "Please submit the above sections of your completed notebook for part 1 as a checkpoint to the project. Follow the instructions below.\n",
        "\n",
        "### **Important submission steps:**\n",
        "1. Run the tests and verify that they all pass using the above cell (checkpoint_tests).\n",
        "2. Choose **Save** (and make sure you've already saved a copy in your drive) from the **File** menu.\n",
        "3. You will save two files in the following steps.\n",
        "4. You will submit the two files for this assignment to the corresponding Assignment on the WebCampus (Canvas) course website.\n",
        "\n",
        "**It is your responsibility to make sure your work is saved before following the instructions in the last cell.**"
      ],
      "id": "V9K92J6uxLDj"
    },
    {
      "cell_type": "markdown",
      "id": "fdc03717",
      "metadata": {
        "id": "fdc03717"
      },
      "source": [
        "Make sure you have run all cells in your notebook in order before running the cell below, so that all images/graphs appear in the output.\n",
        "**Please save (or check again) before exporting!**\n",
        "You will save two files:\n",
        "\n",
        "1.   Go to `\"File > Download\"` and choose the **.ipynb format** (first option)\n",
        "  - This will save a copy of the python notebook file- extension .ipynb- in the Downloads folder on your computer (or wherever you have opted to save files)\n",
        "\n",
        "\n",
        "2.  Go to `\"File > Print\"` and save a copy of your notebook in **PDF format**. This is needed for grading the answers by hand as a double check, and to specifically grade any written responses."
      ]
    },
    {
      "cell_type": "markdown",
      "id": "00c44ec7",
      "metadata": {
        "id": "00c44ec7"
      },
      "source": [
        "## Part 2"
      ]
    },
    {
      "cell_type": "markdown",
      "metadata": {
        "deletable": false,
        "id": "4GuAgQ-VxLDk"
      },
      "source": [
        "### The World\n",
        "\n",
        "The change observed in Bangladesh since 1970 can also be observed in many other developing countries: health services improve, life expectancy increases, and child mortality decreases. At the same time, the fertility rate often plummets, and so the population growth rate decreases despite increasing longevity."
      ],
      "id": "4GuAgQ-VxLDk"
    },
    {
      "cell_type": "markdown",
      "metadata": {
        "deletable": false,
        "id": "UG3ws5bNxLDk"
      },
      "source": [
        "Run the cell below to generate two overlaid histograms, one for 1962 and one for 2010, that show the distributions of total fertility rates for these two years among all 201 countries in the `fertility` table."
      ],
      "id": "UG3ws5bNxLDk"
    },
    {
      "cell_type": "code",
      "execution_count": null,
      "metadata": {
        "deletable": false,
        "id": "cRSQpli0xLDk"
      },
      "outputs": [],
      "source": [
        "Table().with_columns(\n",
        "    '1962', fertility.where('time', 1962).column(2),\n",
        "    '2010', fertility.where('time', 2010).column(2)\n",
        ").hist(bins=np.arange(0, 10, 0.5), unit='child per woman')\n",
        "_ = plots.xlabel('Children per woman')\n",
        "_ = plots.ylabel('Percent per children per woman')\n",
        "_ = plots.xticks(np.arange(10))"
      ],
      "id": "cRSQpli0xLDk"
    },
    {
      "cell_type": "markdown",
      "metadata": {
        "id": "84LQx3GRxLDk"
      },
      "source": [
        "**Question 9.** Assign `fertility_statements` to an array of the numbers of each statement below that can be correctly inferred from these histograms.\n",
        "\n",
        "1. About the same number of countries had a fertility rate between 3.5 and 4.5 in both 1962 and 2010.\n",
        "1. In 1962, less than 20% of countries had a fertility rate below 3.\n",
        "1. At least half of countries had a fertility rate between 5 and 8 in 1962.\n",
        "1. In 2010, about 40% of countries had a fertility rate between 1.5 and 2.\n",
        "1. At least half of countries had a fertility rate below 3 in 2010.\n",
        "1. More countries had a fertility rate above 3 in 1962 than in 2010.\n"
      ],
      "id": "84LQx3GRxLDk"
    },
    {
      "cell_type": "code",
      "execution_count": null,
      "metadata": {
        "deletable": false,
        "tags": [],
        "id": "x7I8ZoL5xLDk"
      },
      "outputs": [],
      "source": [
        "fertility_statements = ..."
      ],
      "id": "x7I8ZoL5xLDk"
    },
    {
      "cell_type": "code",
      "execution_count": null,
      "metadata": {
        "deletable": false,
        "editable": false,
        "id": "e4wcmo6YxLDk"
      },
      "outputs": [],
      "source": [
        "grader.check(\"q1_9\")"
      ],
      "id": "e4wcmo6YxLDk"
    },
    {
      "cell_type": "markdown",
      "metadata": {
        "id": "Jw7opP3qxLDk"
      },
      "source": [
        "<!-- BEGIN QUESTION -->\n",
        "\n",
        "**Question 10.** Draw a line plot of the world population from 1800 through 2020 (inclusive of both endpoints). The world population is the sum of all of the countries' populations. You should use the `population` table defined earlier in the project.\n"
      ],
      "id": "Jw7opP3qxLDk"
    },
    {
      "cell_type": "code",
      "execution_count": null,
      "metadata": {
        "deletable": false,
        "manual_grade": true,
        "manual_problem_id": "global_pop_10",
        "tags": [],
        "id": "miBvpYBQxLDk"
      },
      "outputs": [],
      "source": [
        "#Fill in code here\n",
        "..."
      ],
      "id": "miBvpYBQxLDk"
    },
    {
      "cell_type": "markdown",
      "metadata": {
        "id": "IGaBJY_oxLDk"
      },
      "source": [
        "<!-- END QUESTION -->\n",
        "\n",
        "**Question 11.** Create a function `stats_for_year` that takes a `year` and returns a table of statistics. The table it returns should have four columns: `geo`, `population_total`, `children_per_woman_total_fertility`, and `child_mortality_under_5_per_1000_born`. Each row should contain one unique Alpha-3 country code and three statistics: population, fertility rate, and child mortality for that `year` from the `population`, `fertility` and `child_mortality` tables. Only include rows for which all three statistics are available for the country and year.\n",
        "\n",
        "In addition, restrict the result to country codes that appears in `big_50`, an array of the 50 most populous countries in 2020. This restriction will speed up computations later in the project.\n",
        "\n",
        "After you write `stats_for_year`, try calling `stats_for_year` on any year between 1960 and 2020. Try to understand the output of stats_for_year.\n",
        "\n",
        "*Hint*: The tests for this question are quite comprehensive, so if you pass the tests, your function is probably correct. However, without calling your function yourself and looking at the output, it will be very difficult to understand any problems you have, so try your best to write the function correctly and check that it works before you rely on the `grader` tests to confirm your work.\n",
        "\n",
        "*Hint*: What do all three tables have in common (pay attention to column names)?\n"
      ],
      "id": "IGaBJY_oxLDk"
    },
    {
      "cell_type": "code",
      "execution_count": null,
      "metadata": {
        "deletable": false,
        "tags": [],
        "id": "ESiMcuvKxLDl"
      },
      "outputs": [],
      "source": [
        "# We first create a population table that only includes the\n",
        "# 50 countries with the largest 2020 populations. We focus on\n",
        "# these 50 countries only so that plotting later will run faster.\n",
        "big_50 = population.where('time', are.equal_to(2020)).sort(\"population_total\", descending=True).take(np.arange(50)).column('geo')\n",
        "population_of_big_50 = population.where('time', are.above(1959)).where('geo', are.contained_in(big_50))\n",
        "\n",
        "def stats_for_year(year):\n",
        "    \"\"\"Return a table of the stats for each country that year.\"\"\"\n",
        "    p = population_of_big_50.where('time', are.equal_to(year)).drop('time')\n",
        "    f = fertility.where('time', are.equal_to(year)).drop('time')\n",
        "    c = child_mortality.where('time', are.equal_to(year)).drop('time')\n",
        "    ...\n",
        "\n",
        "..."
      ],
      "id": "ESiMcuvKxLDl"
    },
    {
      "cell_type": "code",
      "execution_count": null,
      "metadata": {
        "deletable": false,
        "editable": false,
        "id": "qhojFnnxxLDl"
      },
      "outputs": [],
      "source": [
        "grader.check(\"q1_11\")"
      ],
      "id": "qhojFnnxxLDl"
    },
    {
      "cell_type": "markdown",
      "metadata": {
        "id": "fLb5YSXFxLDl"
      },
      "source": [
        "**Question 12.** Create a table called `pop_by_decade` with two columns called `decade` and `population`, in this order. It has a row for each year that starts a decade, in increasing order starting with 1960 and ending with 2020. For example, 1960 is the start of the 1960's decade. The `population` column contains the total population of all countries included in the result of `stats_for_year(year)` for the first `year` of the decade. You should see that these countries contain most of the world's population.\n",
        "\n",
        "*Hint:* One approach is to define a function `pop_for_year` that computes this total population, then `apply` it to the `decade` column.  The `stats_for_year` function from the previous question may be useful here.\n",
        "\n",
        "This first test is just a sanity check for your helper function if you choose to use it. You will not lose points for not implementing the function `pop_for_year`.\n",
        "\n",
        "**Note:** The cell where you will generate the `pop_by_decade` table is below the cell where you can choose to define the helper function `pop_for_year`. You should define your `pop_by_decade` table in the cell that starts with the table `decades` being defined.\n"
      ],
      "id": "fLb5YSXFxLDl"
    },
    {
      "cell_type": "code",
      "execution_count": null,
      "metadata": {
        "tags": [],
        "id": "ZwWDtdx7xLDl"
      },
      "outputs": [],
      "source": [
        "def pop_for_year(year):\n",
        "    \"\"\"Return the total population for the specified year.\"\"\"\n",
        "    ..."
      ],
      "id": "ZwWDtdx7xLDl"
    },
    {
      "cell_type": "code",
      "execution_count": null,
      "metadata": {
        "deletable": false,
        "editable": false,
        "id": "kIwTXzDoxLDl"
      },
      "outputs": [],
      "source": [
        "grader.check(\"q1_12_0\")"
      ],
      "id": "kIwTXzDoxLDl"
    },
    {
      "cell_type": "markdown",
      "metadata": {
        "id": "yADaStu2xLDl"
      },
      "source": [
        "Now that you've defined your helper function (if you've chosen to do so), define the `pop_by_decade` table.\n"
      ],
      "id": "yADaStu2xLDl"
    },
    {
      "cell_type": "code",
      "execution_count": null,
      "metadata": {
        "deletable": false,
        "tags": [],
        "id": "3h6MLYVpxLDl"
      },
      "outputs": [],
      "source": [
        "decades = Table().with_column('decade', np.arange(1960, 2021, 10))\n",
        "\n",
        "pop_by_decade = ...\n",
        "pop_by_decade.set_format(1, NumberFormatter)"
      ],
      "id": "3h6MLYVpxLDl"
    },
    {
      "cell_type": "code",
      "execution_count": null,
      "metadata": {
        "deletable": false,
        "editable": false,
        "id": "PmroNfEfxLDl"
      },
      "outputs": [],
      "source": [
        "grader.check(\"q1_12\")"
      ],
      "id": "PmroNfEfxLDl"
    },
    {
      "cell_type": "markdown",
      "metadata": {
        "deletable": false,
        "editable": false,
        "id": "0gEa2K68xLDl"
      },
      "source": [
        "The `countries` table describes various characteristics of countries. The `country` column contains the same codes as the `geo` column in each of the other data tables (`population`, `fertility`, and `child_mortality`). The `world_6region` column classifies each country into a region of the world. Run the cell below to inspect the data."
      ],
      "id": "0gEa2K68xLDl"
    },
    {
      "cell_type": "code",
      "execution_count": null,
      "metadata": {
        "id": "TWyrOXx_xLDm"
      },
      "outputs": [],
      "source": [
        "countries = Table.read_table('countries.csv').where('country', are.contained_in(population.group('geo').column('geo')))\n",
        "countries.select('country', 'name', 'world_6region')"
      ],
      "id": "TWyrOXx_xLDm"
    },
    {
      "cell_type": "markdown",
      "metadata": {
        "id": "5BzgakG3xLDm"
      },
      "source": [
        "**Question 13.** Create a table called `region_counts`. It should contain two columns called `region` and `count`. The `region` column should contain regions of the world, and the `count` column should contain the number of countries in each region that appears in the result of `stats_for_year(2020)`.\n",
        "\n",
        "For example, one row would have `south_asia` as its `region` value and an integer as its `count` value: the number of large South Asian countries for which we have population, fertility, and child mortality numbers from 2020.\n",
        "\n",
        "*Hint*: You may have to relabel a column to name it `region`.\n"
      ],
      "id": "5BzgakG3xLDm"
    },
    {
      "cell_type": "code",
      "execution_count": null,
      "metadata": {
        "deletable": false,
        "tags": [],
        "id": "7hwE6J_-xLDm"
      },
      "outputs": [],
      "source": [
        "stats_for_2020 = ...\n",
        "region_counts = ...\n",
        "region_counts"
      ],
      "id": "7hwE6J_-xLDm"
    },
    {
      "cell_type": "code",
      "execution_count": null,
      "metadata": {
        "deletable": false,
        "editable": false,
        "id": "jDgpPGx7xLDm"
      },
      "outputs": [],
      "source": [
        "grader.check(\"q1_13\")"
      ],
      "id": "jDgpPGx7xLDm"
    },
    {
      "cell_type": "markdown",
      "metadata": {
        "deletable": false,
        "id": "9YqE1VkLxLDm"
      },
      "source": [
        "The following scatter diagram compares total fertility rate and child mortality rate for each country in 1960. The area of each dot represents the population of the country, and the color represents its region of the world. Run the cell. Do you think you can identify any of the dots?"
      ],
      "id": "9YqE1VkLxLDm"
    },
    {
      "cell_type": "code",
      "execution_count": null,
      "metadata": {
        "deletable": false,
        "id": "_H3TDgdtxLDm"
      },
      "outputs": [],
      "source": [
        "from functools import lru_cache as cache\n",
        "\n",
        "# This cache annotation makes sure that if the same year\n",
        "# is passed as an argument twice, the work of computing\n",
        "# the result is only carried out once.\n",
        "@cache(None)\n",
        "def stats_relabeled(year):\n",
        "    \"\"\"Relabeled and cached version of stats_for_year.\"\"\"\n",
        "    return stats_for_year(year).relabel(2, 'Children per woman').relabel(3, 'Child deaths per 1000 born')\n",
        "\n",
        "def fertility_vs_child_mortality(year):\n",
        "    \"\"\"Draw a color scatter diagram comparing child mortality and fertility.\"\"\"\n",
        "    with_region = stats_relabeled(year).join('geo', countries.select('country', 'world_6region'), 'country')\n",
        "    with_region.scatter(2, 3, sizes=1, group=4, s=500)\n",
        "    plots.xlim(0,10)\n",
        "    plots.ylim(-50, 500)\n",
        "    plots.title(year)\n",
        "    plots.show()\n",
        "\n",
        "fertility_vs_child_mortality(1960)"
      ],
      "id": "_H3TDgdtxLDm"
    },
    {
      "cell_type": "markdown",
      "metadata": {
        "id": "7UZMfs-WxLDm"
      },
      "source": [
        "**Question 14.** Assign `scatter_statements` to an array of the numbers of each statement below that can be inferred from this scatter diagram for 1960.\n",
        "1. As a whole, the `europe_central_asia` region had the lowest child mortality rate.\n",
        "1. The lowest child mortality rate of any country was from an `east_asia_pacific` country.\n",
        "1. Most countries had a fertility rate above 5.\n",
        "1. There was an association between child mortality and fertility.\n",
        "1. The two largest countries by population also had the two highest child mortality rates.\n"
      ],
      "id": "7UZMfs-WxLDm"
    },
    {
      "cell_type": "code",
      "execution_count": null,
      "metadata": {
        "deletable": false,
        "tags": [],
        "id": "isyxXESFxLDm"
      },
      "outputs": [],
      "source": [
        "scatter_statements = ..."
      ],
      "id": "isyxXESFxLDm"
    },
    {
      "cell_type": "code",
      "execution_count": null,
      "metadata": {
        "deletable": false,
        "editable": false,
        "id": "KafU6oWBxLDm"
      },
      "outputs": [],
      "source": [
        "grader.check(\"q1_14\")"
      ],
      "id": "KafU6oWBxLDm"
    },
    {
      "cell_type": "markdown",
      "metadata": {
        "deletable": false,
        "id": "YYmmd0UrxLDn"
      },
      "source": [
        "The result of the cell below is interactive. Drag the slider to the right to see how countries have changed over time. You'll find that the great divide between so-called \"Western\" and \"developing\" countries that existed in the 1960's has nearly disappeared. This shift in fertility rates is the reason that the global population is expected to grow more slowly in the 21st century than it did in the 19th and 20th centuries.\n",
        "\n",
        "**Note:** Don't worry if a red warning pops up when running the cell below. You'll still be able to run the cell!"
      ],
      "id": "YYmmd0UrxLDn"
    },
    {
      "cell_type": "code",
      "execution_count": null,
      "metadata": {
        "deletable": false,
        "scrolled": true,
        "id": "zP7jK9PhxLDn"
      },
      "outputs": [],
      "source": [
        "import ipywidgets as widgets\n",
        "\n",
        "_ = widgets.interact(fertility_vs_child_mortality,\n",
        "                     year=widgets.IntSlider(min=1960, max=2020, value=1960))"
      ],
      "id": "zP7jK9PhxLDn"
    },
    {
      "cell_type": "markdown",
      "metadata": {
        "deletable": false,
        "editable": false,
        "id": "Wz7NLWs-xLDn"
      },
      "source": [
        "Now is a great time to take a break and watch the same data presented by [Hans Rosling in a 2010 TEDx talk](https://www.gapminder.org/videos/reducing-child-mortality-a-moral-and-environmental-imperative) with smoother animation and witty commentary."
      ],
      "id": "Wz7NLWs-xLDn"
    },
    {
      "cell_type": "markdown",
      "metadata": {
        "deletable": false,
        "id": "BG7K6ut3xLDn"
      },
      "source": [
        "## 2. Global Poverty"
      ],
      "id": "BG7K6ut3xLDn"
    },
    {
      "cell_type": "code",
      "execution_count": null,
      "metadata": {
        "id": "x2Tiv7eWxLDn"
      },
      "outputs": [],
      "source": [
        "# Run this cell to set up the notebook, but please don't change it.\n",
        "# If you restart colab, you will need to rerun this cell\n",
        "\n",
        "# These lines import the Numpy and Datascience modules.\n",
        "import numpy as np\n",
        "from datascience import *\n",
        "\n",
        "# These lines do some fancy plotting magic.\n",
        "import matplotlib\n",
        "%matplotlib inline\n",
        "import matplotlib.pyplot as plots\n",
        "plots.style.use('fivethirtyeight')\n",
        "\n",
        "from ipywidgets import interact, interactive, fixed, interact_manual\n",
        "import ipywidgets as widgets\n",
        "\n",
        "import d8error"
      ],
      "id": "x2Tiv7eWxLDn"
    },
    {
      "cell_type": "markdown",
      "metadata": {
        "deletable": false,
        "id": "qvfB93dqxLDn"
      },
      "source": [
        "In 1800, 85% of the world's 1 billion people lived in [extreme poverty](https://en.wikipedia.org/wiki/Extreme_poverty), defined by the United Nations as \"a condition characterized by severe deprivation of basic human needs, including food, safe drinking water, sanitation facilities, health, shelter, education and information.\" At the time when the data in this project were gathered, a common definition of extreme poverty was a person living on less than \\$1.25 a day.\n",
        "\n",
        "In 2018, the proportion of people living in extreme poverty was estimated to be [about 9\\%](https://unstats.un.org/sdgs/report/2019/goal-01/). Although the world rate of extreme poverty has declined consistently for hundreds of years, the number of people living in extreme poverty is still over 600 million. The United Nations adopted an [ambitious goal](http://www.un.org/sustainabledevelopment/poverty/): \"By 2030, eradicate extreme poverty for all people everywhere.\" In this part of the project we will examine aspects of global poverty that might affect whether the goal is achievable."
      ],
      "id": "qvfB93dqxLDn"
    },
    {
      "cell_type": "markdown",
      "metadata": {
        "deletable": false,
        "editable": false,
        "id": "3GXZtQTFxLDn"
      },
      "source": [
        "First, load the population and poverty rate by country and year and the country descriptions. While the `population` table has values for every recent year for many countries, the `poverty` table only includes certain years for each country in which a measurement of the rate of extreme poverty was available."
      ],
      "id": "3GXZtQTFxLDn"
    },
    {
      "cell_type": "code",
      "execution_count": null,
      "metadata": {
        "id": "I4Uuvr5AxLDn"
      },
      "outputs": [],
      "source": [
        "population = Table.read_table('population.csv')\n",
        "countries = Table.read_table('countries.csv').where('country', are.contained_in(population.group('geo').column('geo')))\n",
        "poverty = Table.read_table('poverty.csv')\n",
        "poverty.show(3)"
      ],
      "id": "I4Uuvr5AxLDn"
    },
    {
      "cell_type": "markdown",
      "metadata": {
        "id": "mce25-FxxLDn"
      },
      "source": [
        "**Question 1.** Assign `latest_poverty` to a three-column table with one row for each country that appears in the `poverty` table. The first column should contain the 3-letter code for the country. The second column should contain the most recent year for which an extreme poverty rate is available for the country. The third column should contain the poverty rate in that year. **Do not change the last line, so that the labels of your table are set correctly.**\n",
        "\n",
        "*Hint*: think about how ```group``` works: it does a sequential search of the table (from top to bottom) and collects values in the array in the order in which they appear, and then applies a function to that array. The `first` function may be helpful, but you are not required to use it.\n"
      ],
      "id": "mce25-FxxLDn"
    },
    {
      "cell_type": "code",
      "execution_count": null,
      "metadata": {
        "deletable": false,
        "tags": [],
        "id": "7ZV1qJxKxLDo"
      },
      "outputs": [],
      "source": [
        "def first(values):\n",
        "    return values.item(0)\n",
        "\n",
        "latest_poverty = ...\n",
        "latest_poverty = latest_poverty.relabeled(0, 'geo').relabeled(1, 'time').relabeled(2, 'poverty_percent') # You should *not* change this line.\n",
        "latest_poverty"
      ],
      "id": "7ZV1qJxKxLDo"
    },
    {
      "cell_type": "code",
      "execution_count": null,
      "metadata": {
        "deletable": false,
        "editable": false,
        "id": "zbJ0VAjXxLDo"
      },
      "outputs": [],
      "source": [
        "grader.check(\"q2_1\")"
      ],
      "id": "zbJ0VAjXxLDo"
    },
    {
      "cell_type": "markdown",
      "metadata": {
        "id": "Qv1HZ8BVxLDo"
      },
      "source": [
        "**Question 2.** Using both `latest_poverty` and `population`, create a four-column table called `recent_poverty_total` with one row for each country in `latest_poverty`. The four columns should have the following labels and contents:\n",
        "1. `geo` contains the 3-letter country code,\n",
        "1. `poverty_percent` contains the most recent poverty percent,\n",
        "1. `population_total` contains the population of the country in 2010,\n",
        "1. `poverty_total` contains the number of people in poverty **rounded to the nearest integer**, based on the 2010 population and most recent poverty rate.\n",
        "\n",
        "*Hint*: You are not required to use `poverty_and_pop`, and you are always welcome to add any additional names."
      ],
      "id": "Qv1HZ8BVxLDo"
    },
    {
      "cell_type": "code",
      "execution_count": null,
      "metadata": {
        "deletable": false,
        "tags": [],
        "id": "tJCOObS3xLDo"
      },
      "outputs": [],
      "source": [
        "poverty_and_pop = ...\n",
        "recent_poverty_total = ...\n",
        "recent_poverty_total"
      ],
      "id": "tJCOObS3xLDo"
    },
    {
      "cell_type": "code",
      "execution_count": null,
      "metadata": {
        "deletable": false,
        "editable": false,
        "id": "Lk2bMAZRxLDo"
      },
      "outputs": [],
      "source": [
        "grader.check(\"q2_2\")"
      ],
      "id": "Lk2bMAZRxLDo"
    },
    {
      "cell_type": "markdown",
      "metadata": {
        "id": "-bKTSsOLxLDo"
      },
      "source": [
        "**Question 3.** Assign the name `poverty_percent` to the known percentage of the world’s 2010 population that were living in extreme poverty. Assume that the `poverty_total` numbers in the `recent_poverty_total` table describe **all** people in 2010 living in extreme poverty. You should get a number that is above the 2018 global estimate of 9%, since many country-specific poverty rates are older than 2018.\n",
        "\n",
        "*Hint*: The sum of the `population_total` column in the `recent_poverty_total` table is not the world population, because only a subset of the world's countries are included in the `recent_poverty_total` table (only some countries have known poverty rates). Use the `population` table to compute the world's 2010 total population.\n",
        "\n",
        "*Hint*: We are computing a percentage (value between 0 and 100), not a proportion (value between 0 and 1).\n"
      ],
      "id": "-bKTSsOLxLDo"
    },
    {
      "cell_type": "code",
      "execution_count": null,
      "metadata": {
        "deletable": false,
        "tags": [],
        "id": "Frbi0PeixLDo"
      },
      "outputs": [],
      "source": [
        "poverty_percent = ...\n",
        "poverty_percent"
      ],
      "id": "Frbi0PeixLDo"
    },
    {
      "cell_type": "code",
      "execution_count": null,
      "metadata": {
        "deletable": false,
        "editable": false,
        "id": "cGgSDhOVxLDo"
      },
      "outputs": [],
      "source": [
        "grader.check(\"q2_3\")"
      ],
      "id": "cGgSDhOVxLDo"
    },
    {
      "cell_type": "markdown",
      "metadata": {
        "deletable": false,
        "editable": false,
        "id": "fY6P1Ll_xLDo"
      },
      "source": [
        "The `countries` table includes not only the name and region of countries, but also their positions on the globe."
      ],
      "id": "fY6P1Ll_xLDo"
    },
    {
      "cell_type": "code",
      "execution_count": null,
      "metadata": {
        "deletable": false,
        "editable": false,
        "id": "OGpc8hDrxLDp"
      },
      "outputs": [],
      "source": [
        "countries.select('country', 'name', 'world_4region', 'latitude', 'longitude')"
      ],
      "id": "OGpc8hDrxLDp"
    },
    {
      "cell_type": "markdown",
      "metadata": {
        "id": "J1V3i9CqxLDp"
      },
      "source": [
        "**Question 4.** Using both `countries` and `recent_poverty_total`, create a five-column table called `poverty_map` with one row for every country in `recent_poverty_total`.  The five columns should have the following labels and contents:\n",
        "1. `latitude` contains the country's latitude,\n",
        "1. `longitude` contains the country's longitude,\n",
        "1. `name` contains the country's name,\n",
        "1. `region` contains the country's region from the `world_4region` column of `countries`,\n",
        "1. `poverty_total` contains the country's poverty total.\n"
      ],
      "id": "J1V3i9CqxLDp"
    },
    {
      "cell_type": "code",
      "execution_count": null,
      "metadata": {
        "deletable": false,
        "tags": [],
        "id": "Mqk449ipxLDp"
      },
      "outputs": [],
      "source": [
        "poverty_map = ...\n",
        "poverty_map"
      ],
      "id": "Mqk449ipxLDp"
    },
    {
      "cell_type": "code",
      "execution_count": null,
      "metadata": {
        "deletable": false,
        "editable": false,
        "id": "veP9tEkjxLDp"
      },
      "outputs": [],
      "source": [
        "grader.check(\"q2_4\")"
      ],
      "id": "veP9tEkjxLDp"
    },
    {
      "cell_type": "markdown",
      "metadata": {
        "deletable": false,
        "editable": false,
        "id": "JLbjQpXUxLDp"
      },
      "source": [
        "Run the cell below to draw a map of the world in which the areas of circles represent the number of people living in extreme poverty. Double-click on the map to zoom in."
      ],
      "id": "JLbjQpXUxLDp"
    },
    {
      "cell_type": "code",
      "execution_count": null,
      "metadata": {
        "deletable": false,
        "editable": false,
        "scrolled": true,
        "id": "x0kSLAutxLDp"
      },
      "outputs": [],
      "source": [
        "# It may take a few seconds to generate this map.\n",
        "colors = {'africa': 'blue', 'europe': 'black', 'asia': 'red', 'americas': 'green'}\n",
        "scaled = poverty_map.with_columns(\n",
        "    'labels', poverty_map.column('name'),\n",
        "    'colors', poverty_map.apply(colors.get, 'region'),\n",
        "    'areas', 1e-4 * poverty_map.column('poverty_total')\n",
        ").drop('name', 'region', 'poverty_total')\n",
        "\n",
        "Circle.map_table(scaled)"
      ],
      "id": "x0kSLAutxLDp"
    },
    {
      "cell_type": "markdown",
      "metadata": {
        "deletable": false,
        "editable": false,
        "id": "o0ot7mD9xLDp"
      },
      "source": [
        "Although people lived in extreme poverty throughout the world in 2010 (with more than 5 million in the United States), the largest numbers were in Asia and Africa."
      ],
      "id": "o0ot7mD9xLDp"
    },
    {
      "cell_type": "markdown",
      "metadata": {
        "id": "KWfdAURWxLDp"
      },
      "source": [
        "**Question 5.** Assign `largest` to a two-column table with the `name` (not the 3-letter code) and `poverty_total` of the 10 countries with the largest number of people living in extreme poverty.\n",
        "\n",
        "*Hint*: How can we use `take` and `np.arange` in conjunction with each other?\n"
      ],
      "id": "KWfdAURWxLDp"
    },
    {
      "cell_type": "code",
      "execution_count": null,
      "metadata": {
        "deletable": false,
        "tags": [],
        "id": "tE4LIxzJxLDp"
      },
      "outputs": [],
      "source": [
        "largest = ...\n",
        "largest.set_format('poverty_total', NumberFormatter)"
      ],
      "id": "tE4LIxzJxLDp"
    },
    {
      "cell_type": "code",
      "execution_count": null,
      "metadata": {
        "deletable": false,
        "editable": false,
        "id": "7czI5YiWxLDp"
      },
      "outputs": [],
      "source": [
        "grader.check(\"q2_5\")"
      ],
      "id": "7czI5YiWxLDp"
    },
    {
      "cell_type": "markdown",
      "metadata": {
        "id": "r9Dk0RhFxLDq"
      },
      "source": [
        "<!-- BEGIN QUESTION -->\n",
        "\n",
        "**Question 6.** It is important to study the absolute number of people living in poverty, not just the percent. The absolute number is an important factor in determining the amount of resources needed to support people living in poverty. In the next two questions you will explore this.\n",
        "\n",
        "In Question 7, you will be asked to write a function called `poverty_timeline` that takes **the name of a country** as its argument  (not the Alpha-3 country code). It should draw a line plot of the number of people living in poverty in that country with time on the horizontal axis. The line plot should have a point for each row in the `poverty` table for that country. To compute the population living in poverty from a poverty percentage, multiply by the population of the country **in that year**.\n",
        "\n",
        "For this question, write out a generalized process for Question 7. What should this function output, and what steps will you take within the function?\n"
      ],
      "id": "r9Dk0RhFxLDq"
    },
    {
      "cell_type": "markdown",
      "metadata": {
        "id": "7dd0KYAvxLDq"
      },
      "source": [
        "_Type your answer here, replacing this text._"
      ],
      "id": "7dd0KYAvxLDq"
    },
    {
      "cell_type": "markdown",
      "metadata": {
        "deletable": false,
        "id": "OT1k0RHTxLDq"
      },
      "source": [
        "<!-- END QUESTION -->\n",
        "\n",
        "**Question 7.** Now, we'll actually write the function called `poverty_timeline`. Recall that `poverty_timeline` takes **the name of a country** as its argument (not the Alpha-3 country code). It should draw a line plot of the number of people living in poverty in that country with time on the horizontal axis. The line plot should have a point for each row in the `poverty` table for that country. To compute the population living in poverty from a poverty percentage, multiply by the population of the country **in that year**.\n",
        "\n",
        "*Hint:* This question is long. Feel free to create cells and experiment. You can create cells by going to the toolbar and hitting the `+` button, or by going to the `Insert` tab."
      ],
      "id": "OT1k0RHTxLDq"
    },
    {
      "cell_type": "markdown",
      "metadata": {
        "id": "wI6ujzlKxLDq"
      },
      "source": [
        "_Type your answer here, replacing this text._"
      ],
      "id": "wI6ujzlKxLDq"
    },
    {
      "cell_type": "code",
      "execution_count": null,
      "metadata": {
        "tags": [],
        "id": "4mC5G5-pxLDq"
      },
      "outputs": [],
      "source": [
        "def poverty_timeline(country):\n",
        "    '''Draw a timeline of people living in extreme poverty in a country.'''\n",
        "    geo = ...\n",
        "    # This solution will take multiple lines of code. Use as many as you need\n",
        "    ...\n",
        "    # Don't change anything below this line.\n",
        "    plots.title(country)\n",
        "    plots.ylim(bottom=0)\n",
        "    plots.show() # This should be the last line of your function."
      ],
      "id": "4mC5G5-pxLDq"
    },
    {
      "cell_type": "code",
      "execution_count": null,
      "metadata": {
        "deletable": false,
        "tags": [],
        "id": "9Xu2HSp6xLDq"
      },
      "outputs": [],
      "source": [
        "poverty_timeline('India')\n",
        "poverty_timeline('Nigeria')\n",
        "poverty_timeline('China')\n",
        "poverty_timeline('Colombia')\n",
        "poverty_timeline('United States')"
      ],
      "id": "9Xu2HSp6xLDq"
    },
    {
      "cell_type": "markdown",
      "metadata": {
        "deletable": false,
        "id": "nZeF6B8-xLDq"
      },
      "source": [
        "Although the number of people living in extreme poverty increased in some countries including Nigeria and the United States, the decreases in other countries, most notably the massive decreases in China and India, have shaped the overall trend that extreme poverty is decreasing worldwide, both in percentage and in absolute number.\n",
        "\n",
        "To learn more, watch [Hans Rosling in a 2015 film](https://www.gapminder.org/videos/dont-panic-end-poverty/) about the UN goal of eradicating extreme poverty from the world.\n",
        "\n",
        "Below, we've also added an interactive dropdown menu for you to visualize `poverty_timeline` graphs for other countries. Note that each dropdown menu selection may take a few seconds to run."
      ],
      "id": "nZeF6B8-xLDq"
    },
    {
      "cell_type": "code",
      "execution_count": null,
      "metadata": {
        "deletable": false,
        "editable": false,
        "id": "0cBXMRpGxLDq"
      },
      "outputs": [],
      "source": [
        "# Just run this cell\n",
        "\n",
        "all_countries = poverty_map.column('name')\n",
        "_ = widgets.interact(poverty_timeline, country=list(all_countries))"
      ],
      "id": "0cBXMRpGxLDq"
    },
    {
      "cell_type": "markdown",
      "metadata": {
        "deletable": false,
        "id": "vbRaq67axLDq"
      },
      "source": [
        "# Project 1 Complete"
      ],
      "id": "vbRaq67axLDq"
    },
    {
      "cell_type": "code",
      "execution_count": null,
      "id": "d437b1d7",
      "metadata": {
        "id": "d437b1d7"
      },
      "outputs": [],
      "source": [
        "# Run this cell for a message and animation\n",
        "from IPython.display import HTML\n",
        "print(\"Congratulations on finishing your first project in data science!\")\n",
        "HTML('<img src=\"https://media.giphy.com/media/3oz9ZE2Oo9zRC/giphy.gif\">')"
      ]
    },
    {
      "cell_type": "markdown",
      "id": "9339c855",
      "metadata": {
        "id": "9339c855"
      },
      "source": [
        "\n",
        "## Final Submission\n",
        "\n",
        "To double-check your work, the cell below will rerun all of the autograder tests."
      ]
    },
    {
      "cell_type": "code",
      "execution_count": null,
      "id": "2ce5634f",
      "metadata": {
        "id": "2ce5634f"
      },
      "outputs": [],
      "source": [
        "# Just run this cell\n",
        "grader.check_all()"
      ]
    },
    {
      "cell_type": "markdown",
      "id": "d4af5fb2",
      "metadata": {
        "id": "d4af5fb2"
      },
      "source": [
        "### **Important submission steps:**\n",
        "1. Run the tests and verify that they all pass.\n",
        "2. Choose **Save** (and make sure you've already saved a copy in your drive) from the **File** menu.\n",
        "3. You will save two files in the following steps.\n",
        "4. You will submit the two files for this assignment to the corresponding Assignment on the WebCampus (Canvas) course website.\n",
        "\n",
        "**It is your responsibility to make sure your work is saved before following the instructions in the last cell.**"
      ]
    },
    {
      "cell_type": "markdown",
      "id": "3fdd5f1f",
      "metadata": {
        "id": "3fdd5f1f"
      },
      "source": [
        "## Submission\n",
        "\n",
        "Make sure you have run all cells in your notebook in order before running the cell below, so that all images/graphs appear in the output.\n",
        "**Please save (or check again) before exporting!**\n",
        "You will save two files:\n",
        "\n",
        "\n",
        "1.   Go to `\"File > Download\"` and choose the **.ipynb format** (first option)\n",
        "  - This will save a copy of the python notebook file- extension .ipynb- in the Downloads folder on your computer (or wherever you have opted to save files)\n",
        "\n",
        "\n",
        "2.  Go to `\"File > Print\"` and save a copy of your notebook in **PDF format**. This is needed for grading the answers by hand as a double check, and to specifically grade any written responses."
      ]
    }
  ],
  "metadata": {
    "kernelspec": {
      "display_name": "Python 3 (ipykernel)",
      "language": "python",
      "name": "python3"
    },
    "language_info": {
      "codemirror_mode": {
        "name": "ipython",
        "version": 3
      },
      "file_extension": ".py",
      "mimetype": "text/x-python",
      "name": "python",
      "nbconvert_exporter": "python",
      "pygments_lexer": "ipython3",
      "version": "3.8.5"
    },
    "colab": {
      "provenance": []
    }
  },
  "nbformat": 4,
  "nbformat_minor": 5
}