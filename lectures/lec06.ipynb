{
  "cells": [
    {
      "cell_type": "markdown",
      "metadata": {
        "id": "ml2I5wZ_U6WO"
      },
      "source": [
        "<a href=\"https://colab.research.google.com/github/tmckim/materials-fa23-colab/blob/main/lectures/lec06.ipynb\" target=\"_parent\"><img src=\"https://colab.research.google.com/assets/colab-badge.svg\" alt=\"Open In Colab\"/></a>"
      ]
    },
    {
      "cell_type": "markdown",
      "metadata": {
        "id": "EiU1HDGvU6WR"
      },
      "source": [
        "## Before you start - Save this notebook!\n",
        "\n",
        "When you open a new Colab notebook from the WebCampus (like you hopefully did for this one), you cannot save changes. So it's  best to store the Colab notebook in your personal drive `\"File > Save a copy in drive...\"` **before** you do anything else.\n",
        "\n",
        "The file will open in a new tab in your web browser, and it is automatically named something like: \"**Copy of lec06.ipynb**\". You can rename this to just the title of the assignment \"**lec06.ipynb**\". Make sure you do keep an informative name (like the name of the assignment) so that you know which files to submit back to WebCampus for grading! More instructions on this are at the end of the notebook.\n",
        "\n",
        "\n",
        "**Where does the notebook get saved in Google Drive?**\n",
        "\n",
        "By default, the notebook will be copied to a folder called “Colab Notebooks” at the root (home directory) of your Google Drive. If you use this for other courses or personal code notebooks, I recommend creating a folder for this course and then moving the assignments AFTER you have completed them."
      ]
    },
    {
      "cell_type": "code",
      "execution_count": null,
      "metadata": {
        "id": "rKWQ9H7MU6WS"
      },
      "outputs": [],
      "source": [
        "# Setup and add files needed to gdrive\n",
        "# If you restart colab, start by rerunning this cell first!\n",
        "from google.colab import drive\n",
        "drive.mount('/content/gdrive', force_remount=True)\n",
        "\n",
        "#!mkdir -p '/content/gdrive/My Drive/colab-materials-NS499DataSci-notebooks/'\n",
        "%cd /content/gdrive/My Drive/colab-materials-NS499DataSci-notebooks/\n",
        "!rm -r materials-fa23-colab\n",
        "\n",
        "!git clone https://github.com/tmckim/materials-fa23-colab '/content/gdrive/My Drive/colab-materials-NS499DataSci-notebooks/materials-fa23-colab/'\n",
        "\n",
        "%cd /content/gdrive/MyDrive/colab-materials-NS499DataSci-notebooks/materials-fa23-colab/lectures/"
      ]
    },
    {
      "cell_type": "code",
      "execution_count": null,
      "metadata": {
        "id": "mIFJZpKfU6WT"
      },
      "outputs": [],
      "source": [
        "# Import packages and other things needed\n",
        "# Don't change this cell; Just run this cell\n",
        "# If you restart colab, make sure to run this cell again after the first one above^\n",
        "\n",
        "from datascience import *\n",
        "import numpy as np\n",
        "# path_data = '../../../assets/data/' ######### is this needed?\n",
        "\n",
        "%matplotlib inline\n",
        "import matplotlib.pyplot as plots\n",
        "plots.style.use('fivethirtyeight')\n",
        "import warnings\n",
        "warnings.simplefilter(action='ignore',category=np.VisibleDeprecationWarning)"
      ]
    },
    {
      "cell_type": "markdown",
      "metadata": {
        "id": "jMHqHNmyU6WU"
      },
      "source": [
        "## Lecture 06 ##"
      ]
    },
    {
      "cell_type": "markdown",
      "metadata": {
        "id": "P-uR6FmDU6WU"
      },
      "source": [
        "\n",
        "Topics:\n",
        "- Reviewing table methods like join, group, pivot and apply\n",
        "- conditional statements\n",
        "- for loops\n",
        "- using `apply` for rows\n",
        "- simulation and using `np.random.choice`"
      ]
    },
    {
      "cell_type": "markdown",
      "metadata": {
        "id": "rAlBzdlxU6WU"
      },
      "source": [
        "## A Join Example ##"
      ]
    },
    {
      "cell_type": "code",
      "execution_count": null,
      "metadata": {
        "colab": {
          "base_uri": "https://localhost:8080/",
          "height": 173
        },
        "id": "AvsCu1enU6WU",
        "outputId": "ee8a8c09-5996-4846-d899-7205217d73ba"
      },
      "outputs": [],
      "source": [
        "# One table\n",
        "full = Table.read_table('nc-est2019-agesex-res.csv')\n",
        "census = full.select('SEX', 'AGE', 'POPESTIMATE2019')\n",
        "census.show(3)"
      ]
    },
    {
      "cell_type": "code",
      "execution_count": null,
      "metadata": {
        "colab": {
          "base_uri": "https://localhost:8080/",
          "height": 143
        },
        "id": "Qi5xJxTJU6WU",
        "outputId": "9d1df0c5-5995-432e-d07e-9a33ecda73aa"
      },
      "outputs": [],
      "source": [
        "# A second table\n",
        "sex_codes = Table().with_columns(\n",
        "    'SEX CODE', make_array(0, 1, 2),\n",
        "    'CODE DEFINITION', make_array('All', 'Selected Male', 'Selected Female')\n",
        ")\n",
        "sex_codes"
      ]
    },
    {
      "cell_type": "code",
      "execution_count": null,
      "metadata": {
        "colab": {
          "base_uri": "https://localhost:8080/",
          "height": 173
        },
        "id": "OGguZLU5U6WU",
        "outputId": "d1ab18d0-6b60-48cc-e208-6ec5d5617261"
      },
      "outputs": [],
      "source": [
        "# Join the tables\n",
        "sex_codes.join('SEX CODE', census, 'SEX').sort('AGE').show(3)"
      ]
    },
    {
      "cell_type": "markdown",
      "metadata": {
        "id": "NruYri69U6WV"
      },
      "source": [
        "## Bike Sharing ##"
      ]
    },
    {
      "cell_type": "code",
      "execution_count": null,
      "metadata": {
        "colab": {
          "base_uri": "https://localhost:8080/",
          "height": 242
        },
        "id": "5TtbCXMvU6WV",
        "outputId": "b479fe17-ed0d-437c-87ce-b911887807e2"
      },
      "outputs": [],
      "source": [
        "# Read in the trip data from csv file\n",
        "trip = Table.read_table('trip.csv')\n",
        "trip.show(3)"
      ]
    },
    {
      "cell_type": "markdown",
      "metadata": {
        "id": "cjRI6UVAU6WV"
      },
      "source": [
        "## Distribution of Durations ##"
      ]
    },
    {
      "cell_type": "code",
      "execution_count": null,
      "metadata": {
        "colab": {
          "base_uri": "https://localhost:8080/",
          "height": 493
        },
        "id": "Z5pzh1vvU6WV",
        "outputId": "8769f113-b738-401b-fa0b-27db30fc73fd"
      },
      "outputs": [],
      "source": [
        "# Visualize the durations (seconds)\n",
        "trip.hist('Duration')"
      ]
    },
    {
      "cell_type": "markdown",
      "metadata": {
        "id": "TlQ6QiVxZfoS"
      },
      "source": [
        "Why does the histogram look like this?"
      ]
    },
    {
      "cell_type": "code",
      "execution_count": null,
      "metadata": {
        "colab": {
          "base_uri": "https://localhost:8080/",
          "height": 583
        },
        "id": "H8U64W_AU6WV",
        "outputId": "e7dfbe9e-7657-4f89-aa79-bb55f5be824f"
      },
      "outputs": [],
      "source": [
        "# Sort by duration with largest values first\n",
        "trip.sort('Duration', descending=True)"
      ]
    },
    {
      "cell_type": "code",
      "execution_count": null,
      "metadata": {
        "colab": {
          "base_uri": "https://localhost:8080/",
          "height": 410
        },
        "id": "hIV3V2piU6WV",
        "outputId": "dcdb284a-617d-47bc-d555-89df3d0822f3"
      },
      "outputs": [],
      "source": [
        "# Just trips under 30 mins (free ride length)\n",
        "commute = trip.where('Duration', are.below(60*30)) # 60 secs * 30 mins\n",
        "commute.hist('Duration')"
      ]
    },
    {
      "cell_type": "markdown",
      "metadata": {
        "id": "znEWYlBSaU1_"
      },
      "source": [
        "Why are there not any values right after 0?<br>Hint: there was a minimum time limit"
      ]
    },
    {
      "cell_type": "code",
      "execution_count": null,
      "metadata": {
        "colab": {
          "base_uri": "https://localhost:8080/",
          "height": 410
        },
        "id": "2T63zcluU6WV",
        "outputId": "798eb64b-f98f-4d75-a227-8d1f2a43efc4"
      },
      "outputs": [],
      "source": [
        "# Now specify bins instead of letting hist automatically pick it\n",
        "commute.hist('Duration', bins=np.arange(0, 1800, 250), unit='Second')"
      ]
    },
    {
      "cell_type": "markdown",
      "metadata": {
        "id": "i-sMVJXZax3R"
      },
      "source": [
        "Based on the histogram, can you approximate the percent of people who have a ride duration between 250 and 500 seconds? <br>\n",
        "Hint: Think about what formula you need and what information you have."
      ]
    },
    {
      "cell_type": "code",
      "execution_count": null,
      "metadata": {
        "colab": {
          "base_uri": "https://localhost:8080/"
        },
        "id": "QfP0_mbiU6WV",
        "outputId": "342f1562-2d0c-41fc-f68a-7f8b0d7b7ae4"
      },
      "outputs": [],
      "source": [
        "# Approx percent of people who have\n",
        "# a ride duration between 250 and 500 seconds\n",
        "# \"between\" = [250, 500)\n",
        "\n",
        "(500-250) * 0.15"
      ]
    },
    {
      "cell_type": "markdown",
      "metadata": {
        "id": "C7urk_UbbWoQ"
      },
      "source": [
        "Calculating the exact value:"
      ]
    },
    {
      "cell_type": "code",
      "execution_count": null,
      "metadata": {
        "colab": {
          "base_uri": "https://localhost:8080/"
        },
        "id": "0GJ3LZbsU6WV",
        "outputId": "9a8c1fb9-2d3e-4060-c2ce-135a0892f32b"
      },
      "outputs": [],
      "source": [
        "# Get the number of rows using .where\n",
        "commute.where('Duration', are.between(250, 500)).num_rows"
      ]
    },
    {
      "cell_type": "code",
      "execution_count": null,
      "metadata": {
        "colab": {
          "base_uri": "https://localhost:8080/"
        },
        "id": "nCIE6J42U6WV",
        "outputId": "6605dc4b-1a27-4cc8-fdcb-61c984bfd927"
      },
      "outputs": [],
      "source": [
        "# take number of trips from the duration window and divide by the number of rows in the table\n",
        "# gives us percentage in that interval\n",
        "129079 / commute.num_rows * 100"
      ]
    },
    {
      "cell_type": "code",
      "execution_count": null,
      "metadata": {
        "colab": {
          "base_uri": "https://localhost:8080/",
          "height": 410
        },
        "id": "v907WA4HU6WW",
        "outputId": "2b669873-48d1-4837-c684-b2786dfbb2c7"
      },
      "outputs": [],
      "source": [
        "# Same code as above\n",
        "commute.hist('Duration', bins=np.arange(0, 1800, 250), unit='Second')"
      ]
    },
    {
      "cell_type": "code",
      "execution_count": null,
      "metadata": {
        "colab": {
          "base_uri": "https://localhost:8080/",
          "height": 410
        },
        "id": "m9DRLZ84U6WW",
        "outputId": "21e2958b-06b6-40a5-ab44-5d3e05a2aa83"
      },
      "outputs": [],
      "source": [
        " # Now put in a number of bins for comparison\n",
        "commute.hist('Duration', bins=60, unit='Second')"
      ]
    },
    {
      "cell_type": "markdown",
      "metadata": {
        "id": "BHXtaaHmU6WW"
      },
      "source": [
        "## Start and End Stations ##"
      ]
    },
    {
      "cell_type": "code",
      "execution_count": null,
      "metadata": {
        "colab": {
          "base_uri": "https://localhost:8080/",
          "height": 392
        },
        "id": "mANs0l30U6WW",
        "outputId": "f0733c20-f02d-404c-c633-03d030a1d63b"
      },
      "outputs": [],
      "source": [
        "# Most common start station\n",
        "# group finds unique values of the Start Station and gets the count of those\n",
        "starts = commute.group('Start Station').sort('count', descending=True)\n",
        "starts"
      ]
    },
    {
      "cell_type": "markdown",
      "metadata": {
        "id": "H3YSctpodxkm"
      },
      "source": [
        "What could we use to look at trips between stations?"
      ]
    },
    {
      "cell_type": "code",
      "execution_count": null,
      "metadata": {
        "colab": {
          "base_uri": "https://localhost:8080/",
          "height": 392
        },
        "id": "4j2WOyM8d1rT",
        "outputId": "0052cd79-a484-48ac-d4ed-2ad6d8286e8f"
      },
      "outputs": [],
      "source": [
        "# Using group\n",
        "commute.group(['Start Station', 'End Station'])"
      ]
    },
    {
      "cell_type": "code",
      "execution_count": null,
      "metadata": {
        "colab": {
          "base_uri": "https://localhost:8080/",
          "height": 846
        },
        "id": "86ELJSYIU6WW",
        "outputId": "a68291ca-8b02-484d-b73d-974df073b186"
      },
      "outputs": [],
      "source": [
        "# Using pivot\n",
        "\n",
        "commute.pivot('Start Station', 'End Station')"
      ]
    },
    {
      "cell_type": "markdown",
      "metadata": {
        "id": "QNmMB8LgeTfl"
      },
      "source": [
        "Why are there so many zeros? Anything you remember about what portion of the dataset we are using?"
      ]
    },
    {
      "cell_type": "markdown",
      "metadata": {
        "id": "YL9x6eKIee9g"
      },
      "source": [
        "Let's look at the average duration for the combination of the stations?"
      ]
    },
    {
      "cell_type": "code",
      "execution_count": null,
      "metadata": {
        "colab": {
          "base_uri": "https://localhost:8080/",
          "height": 846
        },
        "id": "xP4dR_dfU6WW",
        "outputId": "a0f6b2a7-c28e-4da0-cce3-c655fbe1bc6b"
      },
      "outputs": [],
      "source": [
        "# Average durations of trips between stations\n",
        "commute.pivot('Start Station', 'End Station', values='Duration', collect=np.average)"
      ]
    },
    {
      "cell_type": "code",
      "execution_count": null,
      "metadata": {
        "colab": {
          "base_uri": "https://localhost:8080/",
          "height": 846
        },
        "id": "foQNKQQge9cf",
        "outputId": "ba1e7764-07f8-42a6-b288-4b17715f47ae"
      },
      "outputs": [],
      "source": [
        "# Time it should take- direct without stopping\n",
        "commute.pivot('Start Station', 'End Station', values='Duration', collect=min)"
      ]
    },
    {
      "cell_type": "markdown",
      "metadata": {
        "id": "JnS9jyR3iDot"
      },
      "source": [
        "What if we wanted to put multiple numbers in our table that include the min and the max?"
      ]
    },
    {
      "cell_type": "code",
      "execution_count": null,
      "metadata": {
        "id": "9ygH7BIrf1SH"
      },
      "outputs": [],
      "source": [
        "# Define our own function and test it out\n",
        "def min_and_max(values):\n",
        "  return str(min(values)) + \",\" + str(max(values))"
      ]
    },
    {
      "cell_type": "code",
      "execution_count": null,
      "metadata": {
        "colab": {
          "base_uri": "https://localhost:8080/",
          "height": 846
        },
        "id": "91ad-3M-gAgP",
        "outputId": "9177305d-e913-4ee9-8c3a-97af9805f371"
      },
      "outputs": [],
      "source": [
        "# Time it should take- direct without stopping\n",
        "commute.pivot('Start Station', 'End Station', values='Duration', collect=min_and_max)"
      ]
    },
    {
      "cell_type": "markdown",
      "metadata": {
        "id": "h1-KiLIWU6WW"
      },
      "source": [
        "How can we find the fastest trip ever between each pair of stations using group?"
      ]
    },
    {
      "cell_type": "code",
      "execution_count": null,
      "metadata": {
        "colab": {
          "base_uri": "https://localhost:8080/",
          "height": 392
        },
        "id": "NOqpcv6mU6WW",
        "outputId": "8051716e-88ea-40b0-f675-4fe77f918b85"
      },
      "outputs": [],
      "source": [
        "duration = trip.select('Start Station', 'End Station', 'Duration')\n",
        "duration"
      ]
    },
    {
      "cell_type": "code",
      "execution_count": null,
      "metadata": {
        "colab": {
          "base_uri": "https://localhost:8080/",
          "height": 235
        },
        "id": "UOT9bmIPU6WW",
        "outputId": "60c23a6d-25fa-45e4-f931-7762ee9f5296"
      },
      "outputs": [],
      "source": [
        "shortest = duration.group(['Start Station', 'End Station'], min)\n",
        "shortest.show(5)"
      ]
    },
    {
      "cell_type": "markdown",
      "metadata": {
        "id": "qx8z7K0dU6WW"
      },
      "source": [
        "## Discussion question"
      ]
    },
    {
      "cell_type": "markdown",
      "metadata": {
        "id": "OORh53rIU6WW"
      },
      "source": [
        "Find the 5 stations closest to Civic Center BART by minimum trip time."
      ]
    },
    {
      "cell_type": "code",
      "execution_count": null,
      "metadata": {
        "colab": {
          "base_uri": "https://localhost:8080/"
        },
        "id": "ByXx_nvMU6WW",
        "outputId": "080037e6-0685-4ad6-e310-8057844ad033"
      },
      "outputs": [],
      "source": [
        "from_cc = shortest.where(\n",
        "    'Start Station', are.containing('Civic Center BART')).sort(\n",
        "    'Duration min')\n",
        "from_cc.take(np.arange(5)).column('End Station')"
      ]
    },
    {
      "cell_type": "markdown",
      "metadata": {
        "id": "vXiSKYd9U6WW"
      },
      "source": [
        "## Maps ##"
      ]
    },
    {
      "cell_type": "code",
      "execution_count": null,
      "metadata": {
        "colab": {
          "base_uri": "https://localhost:8080/",
          "height": 373
        },
        "id": "8KBS1NaaU6WX",
        "outputId": "3694c335-ff9d-4581-c81c-87b3540be865"
      },
      "outputs": [],
      "source": [
        "# Geographical data on the stations (dropping some columns we don't need)\n",
        "stations = Table.read_table('station.csv').drop(4, 6)\n",
        "stations"
      ]
    },
    {
      "cell_type": "code",
      "execution_count": null,
      "metadata": {
        "id": "l5k3_kZyU6Wd"
      },
      "outputs": [],
      "source": [
        "sf_stations = stations.where('landmark', are.equal_to('San Francisco'))\n",
        "sf_stations_map_data = (sf_stations\n",
        " .select('lat', 'long', 'name')\n",
        " .relabeled('name', 'labels'))\n",
        "sf_stations_map_data.show(3)"
      ]
    },
    {
      "cell_type": "code",
      "execution_count": null,
      "metadata": {
        "id": "NIsPiMAhU6Wd"
      },
      "outputs": [],
      "source": [
        "Marker.map_table(sf_stations_map_data)"
      ]
    },
    {
      "cell_type": "code",
      "execution_count": null,
      "metadata": {
        "id": "D-GhjIe2U6Wd"
      },
      "outputs": [],
      "source": [
        "Circle.map_table(sf_stations_map_data)"
      ]
    },
    {
      "cell_type": "markdown",
      "metadata": {
        "id": "oQUfRMhpU6Wd"
      },
      "source": [
        "### Optional: Discussion question"
      ]
    },
    {
      "cell_type": "markdown",
      "metadata": {
        "id": "jVxuHgWeU6Wd"
      },
      "source": [
        "Map all stations within 4 minutes (minimum ride time) of Civic Center."
      ]
    },
    {
      "cell_type": "code",
      "execution_count": null,
      "metadata": {
        "id": "d2Bk3AKlU6Wd"
      },
      "outputs": [],
      "source": [
        "from_cc.show(3)"
      ]
    },
    {
      "cell_type": "code",
      "execution_count": null,
      "metadata": {
        "id": "rWjelaODU6Wd"
      },
      "outputs": [],
      "source": [
        "sf_stations_map_data.show(3)"
      ]
    },
    {
      "cell_type": "code",
      "execution_count": null,
      "metadata": {
        "id": "pyDB_3ziU6Wd"
      },
      "outputs": [],
      "source": [
        "close_cc = from_cc.where('Duration min', are.below(4 * 60))\n",
        "close_markers = (sf_stations_map_data\n",
        "      .join('labels', close_cc, 'End Station')\n",
        "      .select('lat', 'long', 'labels'))\n",
        "Marker.map_table(close_markers)"
      ]
    },
    {
      "cell_type": "markdown",
      "metadata": {
        "id": "ISKd8oviU6Wd"
      },
      "source": [
        "Choose marker colors by the minimum time from Civic Center"
      ]
    },
    {
      "cell_type": "code",
      "execution_count": null,
      "metadata": {
        "id": "CQKIG40zU6Wd"
      },
      "outputs": [],
      "source": [
        "minutes = np.round(from_cc.column(\"Duration min\") / 60)\n",
        "print(min(minutes), max(minutes))"
      ]
    },
    {
      "cell_type": "code",
      "execution_count": null,
      "metadata": {
        "id": "X6yh4lYqU6Wd"
      },
      "outputs": [],
      "source": [
        "colors = Table().with_columns(\n",
        "    \"minutes\", np.arange(15),\n",
        "    \"colors\",  [\"darkblue\", \"blue\", \"lightblue\",\n",
        "                \"darkgreen\", \"green\", \"lightgreen\",\n",
        "                \"orange\", \"darkred\", \"red\",\n",
        "                \"gray\", \"gray\", \"gray\",\n",
        "                \"gray\", \"gray\", \"gray\"])\n",
        "colors_cc = (from_cc\n",
        " .with_column(\"Minutes\", minutes)\n",
        " .join(\"Minutes\", colors, \"minutes\"))\n",
        "\n",
        "colored_markers = (sf_stations_map_data\n",
        "      .join('labels', colors_cc, 'End Station')\n",
        "      .select('lat', 'long', 'labels', 'colors'))\n",
        "Marker.map_table(colored_markers)"
      ]
    },
    {
      "cell_type": "code",
      "execution_count": null,
      "metadata": {
        "id": "-oE2LIyhU6We"
      },
      "outputs": [],
      "source": [
        "station_starts = stations.join('name', starts, 'Start Station')\n",
        "station_starts.show(3)"
      ]
    },
    {
      "cell_type": "code",
      "execution_count": null,
      "metadata": {
        "id": "n99rhnF_U6We"
      },
      "outputs": [],
      "source": [
        "sf_starts = station_starts.relabeled(\n",
        "    'name', 'labels').where('landmark', 'San Francisco')"
      ]
    },
    {
      "cell_type": "code",
      "execution_count": null,
      "metadata": {
        "id": "8xrTLNl_U6We"
      },
      "outputs": [],
      "source": [
        "sf_starts_map_data = sf_starts.select('lat', 'long', 'labels').with_columns(\n",
        "    'colors', 'blue',\n",
        "    'areas', sf_starts.column('count') / 10\n",
        ")\n",
        "sf_starts_map_data.show(3)"
      ]
    },
    {
      "cell_type": "code",
      "execution_count": null,
      "metadata": {
        "id": "3dT1BD-aU6We"
      },
      "outputs": [],
      "source": [
        "Circle.map_table(sf_starts_map_data)"
      ]
    },
    {
      "cell_type": "markdown",
      "metadata": {
        "id": "YxQQ-VJPBzZW"
      },
      "source": [
        "## Part 2 - Conditionals and Iteration ##"
      ]
    },
    {
      "cell_type": "markdown",
      "metadata": {
        "id": "O7DAMicIBukn"
      },
      "source": [
        "Now I'll introduce boolean expressions, conditional, and for loops."
      ]
    },
    {
      "cell_type": "markdown",
      "metadata": {
        "id": "RKETMl7rBX36"
      },
      "source": [
        "## Comparison ##"
      ]
    },
    {
      "cell_type": "markdown",
      "metadata": {
        "id": "mZHRLoQOB465"
      },
      "source": [
        "We have already seen basic boolean expressions before"
      ]
    },
    {
      "cell_type": "code",
      "execution_count": null,
      "metadata": {
        "colab": {
          "base_uri": "https://localhost:8080/"
        },
        "id": "is-9RthQBX36",
        "outputId": "fb792ac9-2779-405f-f3ac-6ad00965ccaa"
      },
      "outputs": [],
      "source": [
        "3 > 1"
      ]
    },
    {
      "cell_type": "code",
      "execution_count": null,
      "metadata": {
        "colab": {
          "base_uri": "https://localhost:8080/"
        },
        "id": "9QXVW3zvBX36",
        "outputId": "d10ad482-42c3-4046-a56d-956be8c13e63"
      },
      "outputs": [],
      "source": [
        "type(3 > 1)"
      ]
    },
    {
      "cell_type": "code",
      "execution_count": null,
      "metadata": {
        "colab": {
          "base_uri": "https://localhost:8080/"
        },
        "id": "cDc2o1jEBX36",
        "outputId": "08bbdf5c-2861-4155-bff5-1720aa3edfbe"
      },
      "outputs": [],
      "source": [
        "type(True)"
      ]
    },
    {
      "cell_type": "code",
      "execution_count": null,
      "metadata": {
        "colab": {
          "base_uri": "https://localhost:8080/",
          "height": 176
        },
        "id": "HTLs6P1mBX36",
        "outputId": "5b6a0767-5c1a-4a7a-b4fe-c4fe034f4ba3"
      },
      "outputs": [],
      "source": [
        "true"
      ]
    },
    {
      "cell_type": "markdown",
      "metadata": {
        "id": "Crh6VNi-BX36"
      },
      "source": [
        "(We see that capitalization matters.)"
      ]
    },
    {
      "cell_type": "markdown",
      "metadata": {
        "id": "gbbU40oRCA7l"
      },
      "source": [
        "Recall that the single `=` is assignment Thus the following error:"
      ]
    },
    {
      "cell_type": "code",
      "execution_count": null,
      "metadata": {
        "colab": {
          "base_uri": "https://localhost:8080/",
          "height": 141
        },
        "id": "8kTG6KIEBX36",
        "outputId": "e9a2d9e5-d6ca-42c0-bd4c-81354c6576be"
      },
      "outputs": [],
      "source": [
        "3 = 3"
      ]
    },
    {
      "cell_type": "markdown",
      "metadata": {
        "id": "54b1cTTtCR-n"
      },
      "source": [
        "Equality:"
      ]
    },
    {
      "cell_type": "code",
      "execution_count": null,
      "metadata": {
        "colab": {
          "base_uri": "https://localhost:8080/"
        },
        "id": "wdMH3dblBX36",
        "outputId": "ebf0c1de-8f38-4634-e979-6cb3faa868e6"
      },
      "outputs": [],
      "source": [
        "3 == 3.0"
      ]
    },
    {
      "cell_type": "markdown",
      "metadata": {
        "id": "uzHv6oX5CZQa"
      },
      "source": [
        "Inequality (not equal to):"
      ]
    },
    {
      "cell_type": "code",
      "execution_count": null,
      "metadata": {
        "colab": {
          "base_uri": "https://localhost:8080/"
        },
        "id": "kTYAtQXhBX36",
        "outputId": "203d2493-d1e1-48fd-b266-cee27352dbcb"
      },
      "outputs": [],
      "source": [
        "10 != 2"
      ]
    },
    {
      "cell_type": "markdown",
      "metadata": {
        "id": "bf6lAYt9CdU0"
      },
      "source": [
        "Using variables in boolean expressions:"
      ]
    },
    {
      "cell_type": "code",
      "execution_count": null,
      "metadata": {
        "id": "AVORU10RBX36"
      },
      "outputs": [],
      "source": [
        "x = 14\n",
        "y = 3"
      ]
    },
    {
      "cell_type": "code",
      "execution_count": null,
      "metadata": {
        "colab": {
          "base_uri": "https://localhost:8080/"
        },
        "id": "cI0DC8YBBX36",
        "outputId": "9588bb35-0897-42ab-c607-b02a192f853f"
      },
      "outputs": [],
      "source": [
        "x > 15"
      ]
    },
    {
      "cell_type": "code",
      "execution_count": null,
      "metadata": {
        "colab": {
          "base_uri": "https://localhost:8080/"
        },
        "id": "P1Po-LiLBX36",
        "outputId": "a78e3320-d105-47de-a0cf-7c938692f748"
      },
      "outputs": [],
      "source": [
        "12 < x"
      ]
    },
    {
      "cell_type": "code",
      "execution_count": null,
      "metadata": {
        "colab": {
          "base_uri": "https://localhost:8080/"
        },
        "id": "ZDlxEc8bBX36",
        "outputId": "93b6f71e-d3e2-4be2-cde3-2fd60094bb3d"
      },
      "outputs": [],
      "source": [
        "x < 20"
      ]
    },
    {
      "cell_type": "markdown",
      "metadata": {
        "id": "h0scEArmCjfN"
      },
      "source": [
        "Compound boolean expressions:"
      ]
    },
    {
      "cell_type": "code",
      "execution_count": null,
      "metadata": {
        "colab": {
          "base_uri": "https://localhost:8080/"
        },
        "id": "2aAeTvFWBX36",
        "outputId": "dd14982d-31cc-4193-c393-cebd7644d5f7"
      },
      "outputs": [],
      "source": [
        "12 < x < 20"
      ]
    },
    {
      "cell_type": "code",
      "execution_count": null,
      "metadata": {
        "colab": {
          "base_uri": "https://localhost:8080/"
        },
        "id": "gyFUuEoCCumE",
        "outputId": "410a6f4a-1f71-4128-c29e-9770a1daef4a"
      },
      "outputs": [],
      "source": [
        "(12 < x) and (x < 20)"
      ]
    },
    {
      "cell_type": "code",
      "execution_count": null,
      "metadata": {
        "colab": {
          "base_uri": "https://localhost:8080/"
        },
        "id": "8g5YPdbEDEm6",
        "outputId": "75e20cf3-e8bf-49a0-9a22-aeca701b10d8"
      },
      "outputs": [],
      "source": [
        "(12 < x) and (x < 5)"
      ]
    },
    {
      "cell_type": "code",
      "execution_count": null,
      "metadata": {
        "colab": {
          "base_uri": "https://localhost:8080/"
        },
        "id": "jtstnIQMC-Ap",
        "outputId": "7166a71f-a13f-4aa1-bf8d-aafe46a61dbd"
      },
      "outputs": [],
      "source": [
        "(12 < x) or (x < 5)"
      ]
    },
    {
      "cell_type": "code",
      "execution_count": null,
      "metadata": {
        "colab": {
          "base_uri": "https://localhost:8080/"
        },
        "id": "R8mznx6sBX36",
        "outputId": "26b94aac-9e76-4190-bcf6-b2cfe10e32f1"
      },
      "outputs": [],
      "source": [
        "10 < x - y < 13"
      ]
    },
    {
      "cell_type": "code",
      "execution_count": null,
      "metadata": {
        "colab": {
          "base_uri": "https://localhost:8080/"
        },
        "id": "LbTXy_7bBX37",
        "outputId": "f691fada-8b36-4870-b465-ef3e5d94106e"
      },
      "outputs": [],
      "source": [
        "x > 13 and y < 3.14159"
      ]
    },
    {
      "cell_type": "markdown",
      "metadata": {
        "id": "q5gCvylyBX37"
      },
      "source": [
        "(The comparison `12 < x < 20` is equivalent to `12 < x and x < 20`.)"
      ]
    },
    {
      "cell_type": "markdown",
      "metadata": {
        "id": "xXcSzdUvBX37"
      },
      "source": [
        "## Comparisons with arrays"
      ]
    },
    {
      "cell_type": "code",
      "execution_count": null,
      "metadata": {
        "id": "nAeaUkobBX37"
      },
      "outputs": [],
      "source": [
        "# An array of pets\n",
        "pets = make_array('cat', 'cat', 'dog', 'cat', 'dog', 'rabbit')"
      ]
    },
    {
      "cell_type": "code",
      "execution_count": null,
      "metadata": {
        "colab": {
          "base_uri": "https://localhost:8080/"
        },
        "id": "VtsEIp7oBX37",
        "outputId": "956a67b5-fe10-49a5-f2e2-00bf15a1c476"
      },
      "outputs": [],
      "source": [
        "# Here it checks whether each element in the array is equal (==) to cat\n",
        "pets == 'cat'"
      ]
    },
    {
      "cell_type": "markdown",
      "metadata": {
        "id": "AqvpjFAWE4wq"
      },
      "source": [
        "How many cats?"
      ]
    },
    {
      "cell_type": "code",
      "execution_count": null,
      "metadata": {
        "colab": {
          "base_uri": "https://localhost:8080/"
        },
        "id": "Uh75XlhzBX37",
        "outputId": "6e7dbb31-6926-40a9-ec15-1356de1a3d8f"
      },
      "outputs": [],
      "source": [
        "sum(pets == 'cat')"
      ]
    },
    {
      "cell_type": "markdown",
      "metadata": {
        "id": "GMIvcfWBFIaT"
      },
      "source": [
        "Math with booleans"
      ]
    },
    {
      "cell_type": "code",
      "execution_count": null,
      "metadata": {
        "colab": {
          "base_uri": "https://localhost:8080/"
        },
        "id": "QYDStQTHBX37",
        "outputId": "8cc137b4-54fd-4c04-fd42-4a113dfaab20"
      },
      "outputs": [],
      "source": [
        "# Converts to true and false and then counts them as one or zero\n",
        "np.mean(pets == 'cat')"
      ]
    },
    {
      "cell_type": "code",
      "execution_count": null,
      "metadata": {
        "colab": {
          "base_uri": "https://localhost:8080/"
        },
        "id": "QgKhou_jFiL1",
        "outputId": "fabc1e66-7c7d-453c-f04a-688f254a0a10"
      },
      "outputs": [],
      "source": [
        "# An assignment statement with equality operation\n",
        "is_cat = pets == 'cat'\n",
        "is_cat"
      ]
    },
    {
      "cell_type": "code",
      "execution_count": null,
      "metadata": {
        "colab": {
          "base_uri": "https://localhost:8080/"
        },
        "id": "QDzBxNGUFxx6",
        "outputId": "32dd7c4f-5047-4c03-b1ac-0277b44a114e"
      },
      "outputs": [],
      "source": [
        "is_cat * 2 - 1"
      ]
    },
    {
      "cell_type": "code",
      "execution_count": null,
      "metadata": {
        "colab": {
          "base_uri": "https://localhost:8080/"
        },
        "id": "CSBigwOzBX37",
        "outputId": "7ad97438-1f97-404c-a060-1f57cb33bc0b"
      },
      "outputs": [],
      "source": [
        "sum(make_array(True, True, False, True, False, False))"
      ]
    },
    {
      "cell_type": "code",
      "execution_count": null,
      "metadata": {
        "colab": {
          "base_uri": "https://localhost:8080/"
        },
        "id": "CW9Gq5E5BX37",
        "outputId": "c6512174-7d63-4523-9131-b72ceb5c5728"
      },
      "outputs": [],
      "source": [
        "np.count_nonzero(pets == 'dog')"
      ]
    },
    {
      "cell_type": "code",
      "execution_count": null,
      "metadata": {
        "colab": {
          "base_uri": "https://localhost:8080/"
        },
        "id": "HKJ7C-sIBX37",
        "outputId": "4dd90728-88a0-4538-8177-4c4d2c9cc2d4"
      },
      "outputs": [],
      "source": [
        "x = np.arange(20, 31)\n",
        "x"
      ]
    },
    {
      "cell_type": "code",
      "execution_count": null,
      "metadata": {
        "colab": {
          "base_uri": "https://localhost:8080/"
        },
        "id": "PghDY7BCBX37",
        "outputId": "b1687eb2-1f16-4554-dc94-b785d5718e70"
      },
      "outputs": [],
      "source": [
        "x > 28"
      ]
    },
    {
      "cell_type": "code",
      "execution_count": null,
      "metadata": {
        "colab": {
          "base_uri": "https://localhost:8080/"
        },
        "id": "rhYZK_yQBX37",
        "outputId": "f72df8b6-a226-4537-cb6c-2aeba9d70c0a"
      },
      "outputs": [],
      "source": [
        "sum(x > 28)"
      ]
    },
    {
      "cell_type": "markdown",
      "metadata": {
        "id": "pw0lQUJyBX37"
      },
      "source": [
        "## Rows & Apply"
      ]
    },
    {
      "cell_type": "code",
      "execution_count": null,
      "metadata": {
        "colab": {
          "base_uri": "https://localhost:8080/",
          "height": 225
        },
        "id": "gCLNXvHEBX37",
        "outputId": "ab3e2748-ece9-4ca2-8272-37e9a0d40574"
      },
      "outputs": [],
      "source": [
        "# Read in data table\n",
        "survey = Table.read_table('welcome_survey_sp22.csv')\n",
        "survey.show(3)"
      ]
    },
    {
      "cell_type": "code",
      "execution_count": null,
      "metadata": {
        "colab": {
          "base_uri": "https://localhost:8080/"
        },
        "id": "kMDfAO2xIogI",
        "outputId": "83eae572-8b48-4115-f509-3a92124ecb21"
      },
      "outputs": [],
      "source": [
        "# first row\n",
        "survey.row(0)"
      ]
    },
    {
      "cell_type": "code",
      "execution_count": null,
      "metadata": {
        "id": "Mr7gJdHqBX37"
      },
      "outputs": [],
      "source": [
        "r = survey.row(0)"
      ]
    },
    {
      "cell_type": "code",
      "execution_count": null,
      "metadata": {
        "colab": {
          "base_uri": "https://localhost:8080/"
        },
        "id": "GdpixJq3IztY",
        "outputId": "104d69ca-7afd-434e-a6b3-f922a9b5594a"
      },
      "outputs": [],
      "source": [
        "type(r)"
      ]
    },
    {
      "cell_type": "code",
      "execution_count": null,
      "metadata": {
        "id": "pXu80qn6BX37"
      },
      "outputs": [],
      "source": [
        "r.item(0)"
      ]
    },
    {
      "cell_type": "markdown",
      "metadata": {
        "id": "brrOl3JnI2JB"
      },
      "source": [
        "Getting a field from a row"
      ]
    },
    {
      "cell_type": "code",
      "execution_count": null,
      "metadata": {
        "colab": {
          "base_uri": "https://localhost:8080/",
          "height": 36
        },
        "id": "qc-TcryYBX37",
        "outputId": "f1cc1126-2b19-44d0-9899-1c302043ea03"
      },
      "outputs": [],
      "source": [
        "r.item('Year')"
      ]
    },
    {
      "cell_type": "code",
      "execution_count": null,
      "metadata": {
        "colab": {
          "base_uri": "https://localhost:8080/"
        },
        "id": "Jt--veSUI6EA",
        "outputId": "51922972-7d42-40ce-f988-7cd8669eff99"
      },
      "outputs": [],
      "source": [
        "r.item(2)"
      ]
    },
    {
      "cell_type": "markdown",
      "metadata": {
        "id": "7hRcxnVbfWkF"
      },
      "source": [
        "## Math on Rows"
      ]
    },
    {
      "cell_type": "code",
      "execution_count": null,
      "metadata": {
        "colab": {
          "base_uri": "https://localhost:8080/"
        },
        "id": "SslomyWTfZne",
        "outputId": "1bc4b89f-ac6f-4f7c-fbd4-f06afc6283a5"
      },
      "outputs": [],
      "source": [
        "r2 = survey.select('Extroversion', 'Number of textees', 'Hours of sleep').row(1)\n",
        "r2"
      ]
    },
    {
      "cell_type": "markdown",
      "metadata": {
        "id": "BcSXV-Kkfwhg"
      },
      "source": [
        "We can apply aggregation functions to that row"
      ]
    },
    {
      "cell_type": "code",
      "execution_count": null,
      "metadata": {
        "colab": {
          "base_uri": "https://localhost:8080/"
        },
        "id": "dXjFlJgtfzMs",
        "outputId": "4d026ead-3a46-4b70-fc2d-a8452bf8b359"
      },
      "outputs": [],
      "source": [
        "sum(r2)"
      ]
    },
    {
      "cell_type": "markdown",
      "metadata": {
        "id": "835vnI_Pf5AY"
      },
      "source": [
        "Recall that if we wanted to **apply** a function to all the rows of a table we use `apply`"
      ]
    },
    {
      "cell_type": "code",
      "execution_count": null,
      "metadata": {
        "colab": {
          "base_uri": "https://localhost:8080/",
          "height": 392
        },
        "id": "y5tpHfW2gKw_",
        "outputId": "1c892dd0-c3d8-4d7d-e4e6-bf062545e2de"
      },
      "outputs": [],
      "source": [
        "survey.select('Extroversion', 'Number of textees', 'Hours of sleep')"
      ]
    },
    {
      "cell_type": "code",
      "execution_count": null,
      "metadata": {
        "colab": {
          "base_uri": "https://localhost:8080/"
        },
        "id": "UKoZogMugYZP",
        "outputId": "1e0458db-a8c9-4794-b39d-fa2094ae6082"
      },
      "outputs": [],
      "source": [
        "survey.select('Extroversion', 'Number of textees', 'Hours of sleep').apply(sum)"
      ]
    },
    {
      "cell_type": "markdown",
      "metadata": {
        "id": "zYGzqY78gsPc"
      },
      "source": [
        "Let's use this to improve our pivot table"
      ]
    },
    {
      "cell_type": "code",
      "execution_count": null,
      "metadata": {
        "colab": {
          "base_uri": "https://localhost:8080/",
          "height": 551
        },
        "id": "6XiehNtxBX38",
        "outputId": "c3bb8fc0-5943-4142-d930-69e94e7e9f0d"
      },
      "outputs": [],
      "source": [
        "p = survey.pivot('Sleep position', 'Hours of sleep')\n",
        "p.show()"
      ]
    },
    {
      "cell_type": "markdown",
      "metadata": {
        "id": "cJiByyZXg6VS"
      },
      "source": [
        "Add row totals to the table for the values of sleep positions"
      ]
    },
    {
      "cell_type": "code",
      "execution_count": null,
      "metadata": {
        "colab": {
          "base_uri": "https://localhost:8080/",
          "height": 392
        },
        "id": "D4dYHDPkg5FT",
        "outputId": "293ba5c9-f76b-4659-d97c-bddfff814b5f"
      },
      "outputs": [],
      "source": [
        "# Add total column to table\n",
        "p.with_column('Total', p.drop('Hours of sleep').apply(sum))"
      ]
    },
    {
      "cell_type": "markdown",
      "metadata": {
        "id": "g-qq97BKhjw1"
      },
      "source": [
        "Why is `Hours of sleep` still in the table?"
      ]
    },
    {
      "cell_type": "markdown",
      "metadata": {
        "id": "GrmFJxaRhxhC"
      },
      "source": [
        "Do the same thing with a `group` and a `join`:"
      ]
    },
    {
      "cell_type": "code",
      "execution_count": null,
      "metadata": {
        "colab": {
          "base_uri": "https://localhost:8080/",
          "height": 551
        },
        "id": "SP6bY8GGh0GQ",
        "outputId": "76239933-50f4-453f-b91d-7a7405438e63"
      },
      "outputs": [],
      "source": [
        "p.join('Hours of sleep', survey.group('Hours of sleep')).show()"
      ]
    },
    {
      "cell_type": "markdown",
      "metadata": {
        "id": "SeTSo1esBX38"
      },
      "source": [
        "## Conditional Statements"
      ]
    },
    {
      "cell_type": "markdown",
      "metadata": {
        "id": "EPPgjNP2igae"
      },
      "source": [
        "Conditional statements in python allow us to do different things based on the values in our data"
      ]
    },
    {
      "cell_type": "code",
      "execution_count": null,
      "metadata": {
        "id": "wmep_GquBX38"
      },
      "outputs": [],
      "source": [
        "x = 20"
      ]
    },
    {
      "cell_type": "markdown",
      "metadata": {
        "id": "4TePupmnikIh"
      },
      "source": [
        "If the value of x is greater than or equal to 18 then print 'You can legally vote'"
      ]
    },
    {
      "cell_type": "code",
      "execution_count": null,
      "metadata": {
        "colab": {
          "base_uri": "https://localhost:8080/"
        },
        "id": "QpX5-hk5BX38",
        "outputId": "341f52bf-447a-4878-c898-7ea96287ee45"
      },
      "outputs": [],
      "source": [
        "# What happens if x changes?\n",
        "if x >= 18:\n",
        "    print('You can legally vote.')"
      ]
    },
    {
      "cell_type": "markdown",
      "metadata": {
        "id": "jBl43xd2i2a4"
      },
      "source": [
        "Notice that if the boolean expression is False then the body of the if statement is not executed:\n",
        "\n"
      ]
    },
    {
      "cell_type": "code",
      "execution_count": null,
      "metadata": {
        "colab": {
          "base_uri": "https://localhost:8080/"
        },
        "id": "zgQHWuOsBX38",
        "outputId": "8168c9d6-52d1-4419-bde6-e430af784918"
      },
      "outputs": [],
      "source": [
        "print(\"Can you drink?\")\n",
        "\n",
        "if x >= 21:\n",
        "    print('You can legally drink.')\n",
        "    print(\"This line of code is never run...\")\n",
        "    x = 0\n",
        "\n",
        "print(\"This is run\")\n",
        "print(\"The value of x is\", x)"
      ]
    },
    {
      "cell_type": "markdown",
      "metadata": {
        "id": "32tld8x6jh0G"
      },
      "source": [
        "Sometimes you want to do something else if hte first statement wasn't true:"
      ]
    },
    {
      "cell_type": "code",
      "execution_count": null,
      "metadata": {
        "colab": {
          "base_uri": "https://localhost:8080/"
        },
        "id": "66yQZrjXjlpg",
        "outputId": "3d4d5de6-8194-4756-daac-50831c27ed08"
      },
      "outputs": [],
      "source": [
        "if x >= 21:\n",
        "    print('You can legally vote and drink.')\n",
        "else:\n",
        "    print('You can legally drink milk.')"
      ]
    },
    {
      "cell_type": "code",
      "execution_count": null,
      "metadata": {
        "colab": {
          "base_uri": "https://localhost:8080/"
        },
        "id": "Cj2NPx3hkbTK",
        "outputId": "da649373-38fa-4216-de5d-ee395dcaf499"
      },
      "outputs": [],
      "source": [
        "if x >= 21:\n",
        "    print('You can legally vote and drink.')\n",
        "elif x >= 18:\n",
        "    print('You can legally vote.')\n",
        "else:\n",
        "    print('You can legally drink milk.')"
      ]
    },
    {
      "cell_type": "markdown",
      "metadata": {
        "id": "yQbEevGcjolp"
      },
      "source": [
        "Implementing a function with conditionals and multiple return values:"
      ]
    },
    {
      "cell_type": "code",
      "execution_count": null,
      "metadata": {
        "id": "YwgomR_pBX38"
      },
      "outputs": [],
      "source": [
        "def age(x):\n",
        "    if x >= 18:\n",
        "        return 'You can legally vote.'\n",
        "    if x >= 21:\n",
        "        return 'You can legally drink.'"
      ]
    },
    {
      "cell_type": "code",
      "execution_count": null,
      "metadata": {
        "id": "bKCbrwG7BX38"
      },
      "outputs": [],
      "source": [
        "age(3)"
      ]
    },
    {
      "cell_type": "code",
      "execution_count": null,
      "metadata": {
        "colab": {
          "base_uri": "https://localhost:8080/",
          "height": 36
        },
        "id": "I6E5gO0XBX38",
        "outputId": "a3ddff7e-3a5c-42c1-de4b-06a5514958b8"
      },
      "outputs": [],
      "source": [
        "age(20)"
      ]
    },
    {
      "cell_type": "code",
      "execution_count": null,
      "metadata": {
        "colab": {
          "base_uri": "https://localhost:8080/",
          "height": 36
        },
        "id": "A2MrOqo4BX38",
        "outputId": "e117aead-1c78-4189-9b79-ee0238c92c86"
      },
      "outputs": [],
      "source": [
        "age(25)"
      ]
    },
    {
      "cell_type": "code",
      "execution_count": null,
      "metadata": {
        "id": "jBQwnB_RBX38"
      },
      "outputs": [],
      "source": [
        "def age(x):\n",
        "    if x >= 21:\n",
        "        return 'You can legally vote and drink.'\n",
        "    elif x >= 18:\n",
        "        return 'You can legally vote.'\n",
        "    else:\n",
        "        return 'You can legally drink milk.'"
      ]
    },
    {
      "cell_type": "code",
      "execution_count": null,
      "metadata": {
        "colab": {
          "base_uri": "https://localhost:8080/",
          "height": 36
        },
        "id": "jXbVj0_SBX38",
        "outputId": "0c72ca3d-a9c5-4187-ac3a-c6401755f9eb"
      },
      "outputs": [],
      "source": [
        "age(3)"
      ]
    },
    {
      "cell_type": "code",
      "execution_count": null,
      "metadata": {
        "colab": {
          "base_uri": "https://localhost:8080/",
          "height": 36
        },
        "id": "N5E7xcBhBX38",
        "outputId": "a2229fda-4fb0-4867-ff49-04805a69b245"
      },
      "outputs": [],
      "source": [
        "age(20)"
      ]
    },
    {
      "cell_type": "code",
      "execution_count": null,
      "metadata": {
        "colab": {
          "base_uri": "https://localhost:8080/",
          "height": 36
        },
        "id": "A661Kzg8BX38",
        "outputId": "d5a6e1af-294b-4461-b89c-5f7eb77b3909"
      },
      "outputs": [],
      "source": [
        "age(23)"
      ]
    },
    {
      "cell_type": "markdown",
      "metadata": {
        "id": "H7tT6mTLlcVF"
      },
      "source": [
        "## Putting the pieces together <br>\n",
        "Here we will build a function that returns whether the trip was one day or a round trip"
      ]
    },
    {
      "cell_type": "code",
      "execution_count": null,
      "metadata": {
        "colab": {
          "base_uri": "https://localhost:8080/",
          "height": 242
        },
        "id": "xH7m2hWFBX38",
        "outputId": "520f010e-8594-4517-ce9a-5aab19f9e584"
      },
      "outputs": [],
      "source": [
        "# Bike sharing dataset (already have from above, reminder)\n",
        "trip = Table().read_table('trip.csv')\n",
        "trip.show(3)"
      ]
    },
    {
      "cell_type": "code",
      "execution_count": null,
      "metadata": {
        "id": "Au62kdD-BX38"
      },
      "outputs": [],
      "source": [
        "# Define a function to determine the kind of trip\n",
        "def trip_kind(start, end):\n",
        "    if start == end:\n",
        "        return 'round trip'\n",
        "    else:\n",
        "        return 'one way'"
      ]
    },
    {
      "cell_type": "code",
      "execution_count": null,
      "metadata": {
        "colab": {
          "base_uri": "https://localhost:8080/",
          "height": 259
        },
        "id": "hpNvlYmvl1Sx",
        "outputId": "c20b8530-301a-4401-d702-2b494ac34a76"
      },
      "outputs": [],
      "source": [
        "# Add a column of the kind of trip to the table by using apply and our new function to the rows of data\n",
        "kinds = trip.with_column('Trip Kind', trip.apply(trip_kind, 'Start Station', 'End Station'))\n",
        "kinds.show(3)"
      ]
    },
    {
      "cell_type": "code",
      "execution_count": null,
      "metadata": {
        "colab": {
          "base_uri": "https://localhost:8080/",
          "height": 363
        },
        "id": "0DDTQdutBX38",
        "outputId": "a2a6bf15-4b62-49ef-c69d-5d5c251f1dfa"
      },
      "outputs": [],
      "source": [
        "# Now create a pivot table\n",
        "kinds_pivot = kinds.where('Duration', are.below(600)).pivot('Trip Kind', 'Start Station').sort('round trip', descending = True).take(np.arange(10))\n",
        "kinds_pivot"
      ]
    },
    {
      "cell_type": "markdown",
      "metadata": {
        "id": "_2l1AxUXBX38"
      },
      "source": [
        "## Simulation"
      ]
    },
    {
      "cell_type": "markdown",
      "metadata": {
        "id": "FrxtfU5goONV"
      },
      "source": [
        "We will use simulation heavily in this class. A key element of simulation is leveraging randomness. The numpy python library has many functions for generating random events. Today we will use the `np.random.choice` function:"
      ]
    },
    {
      "cell_type": "markdown",
      "metadata": {
        "id": "NtGN_4ZYBX39"
      },
      "source": [
        "### Random Selection"
      ]
    },
    {
      "cell_type": "code",
      "execution_count": null,
      "metadata": {
        "id": "cgrDlbljBX39"
      },
      "outputs": [],
      "source": [
        "mornings = make_array('wake up', 'sleep in')"
      ]
    },
    {
      "cell_type": "code",
      "execution_count": null,
      "metadata": {
        "colab": {
          "base_uri": "https://localhost:8080/",
          "height": 36
        },
        "id": "JGm0GKw5BX39",
        "outputId": "22c13428-c06a-4d60-bcbc-c6b6419f0263"
      },
      "outputs": [],
      "source": [
        "np.random.choice(mornings)"
      ]
    },
    {
      "cell_type": "code",
      "execution_count": null,
      "metadata": {
        "colab": {
          "base_uri": "https://localhost:8080/",
          "height": 36
        },
        "id": "S1n8r_-fBX39",
        "outputId": "12729bfe-aad5-41d2-f404-d51c0d82dfd6"
      },
      "outputs": [],
      "source": [
        "np.random.choice(mornings)"
      ]
    },
    {
      "cell_type": "code",
      "execution_count": null,
      "metadata": {
        "colab": {
          "base_uri": "https://localhost:8080/",
          "height": 36
        },
        "id": "s46M5qORBX39",
        "outputId": "6d8f797e-83c5-45bf-bf54-7e1d82d57aff"
      },
      "outputs": [],
      "source": [
        "np.random.choice(mornings)"
      ]
    },
    {
      "cell_type": "markdown",
      "metadata": {
        "id": "oC9Kczk4BX39"
      },
      "source": [
        "We can also pass an argument that specifies how many times to make a random choice:"
      ]
    },
    {
      "cell_type": "code",
      "execution_count": null,
      "metadata": {
        "colab": {
          "base_uri": "https://localhost:8080/"
        },
        "id": "Slu5n7BbBX39",
        "outputId": "272b5d3d-5265-43c3-f7b0-88a14938f26b"
      },
      "outputs": [],
      "source": [
        "np.random.choice(mornings, 7)"
      ]
    },
    {
      "cell_type": "code",
      "execution_count": null,
      "metadata": {
        "colab": {
          "base_uri": "https://localhost:8080/"
        },
        "id": "GTdhXWLPBX39",
        "outputId": "0f289946-b1e7-4419-87bc-5b64c71697a1"
      },
      "outputs": [],
      "source": [
        "morning_week = np.random.choice(mornings, 7)\n",
        "morning_week"
      ]
    },
    {
      "cell_type": "code",
      "execution_count": null,
      "metadata": {
        "colab": {
          "base_uri": "https://localhost:8080/"
        },
        "id": "L7cNnF_2BX3-",
        "outputId": "c18fd43f-348d-4f27-f5d1-18bf57a79786"
      },
      "outputs": [],
      "source": [
        "sum(morning_week == 'wake up')"
      ]
    },
    {
      "cell_type": "code",
      "execution_count": null,
      "metadata": {
        "colab": {
          "base_uri": "https://localhost:8080/"
        },
        "id": "m0u6LT4BBX3-",
        "outputId": "bd63682c-7152-4a64-ea86-a99bfb6e9a1d"
      },
      "outputs": [],
      "source": [
        "sum(morning_week == 'sleep in')"
      ]
    },
    {
      "cell_type": "markdown",
      "metadata": {
        "id": "0SlYRs_Co-1F"
      },
      "source": [
        "## Playing a Game of Chance"
      ]
    },
    {
      "cell_type": "markdown",
      "metadata": {
        "id": "NCElhzcXBX39"
      },
      "source": [
        "Let's play a game: we each roll a die.\n",
        "\n",
        "If my number is bigger: you pay me a dollar.\n",
        "\n",
        "If they're the same: we do nothing.\n",
        "\n",
        "If your number is bigger: I pay you a dollar."
      ]
    },
    {
      "cell_type": "markdown",
      "metadata": {
        "id": "_uBMQR_ZBX39"
      },
      "source": [
        "Steps:\n",
        "1. Find a way to simulate two dice rolls.\n",
        "2. Compute how much money we win/lose based on the result.\n",
        "3. Do steps 1 and 2 10,000 times."
      ]
    },
    {
      "cell_type": "markdown",
      "metadata": {
        "id": "NVHLYj-4BX3-"
      },
      "source": [
        "### Simulating the roll of a die"
      ]
    },
    {
      "cell_type": "code",
      "execution_count": null,
      "metadata": {
        "colab": {
          "base_uri": "https://localhost:8080/"
        },
        "id": "l6qSyrThBX3-",
        "outputId": "bddf0a52-090b-4373-907b-c9b267efe8e2"
      },
      "outputs": [],
      "source": [
        "die_faces = np.arange(1, 7)\n",
        "die_faces"
      ]
    },
    {
      "cell_type": "code",
      "execution_count": null,
      "metadata": {
        "colab": {
          "base_uri": "https://localhost:8080/"
        },
        "id": "tttEtKyaBX3-",
        "outputId": "00e98c88-daad-406c-968e-033ae4948b6d"
      },
      "outputs": [],
      "source": [
        "np.random.choice(die_faces)"
      ]
    },
    {
      "cell_type": "markdown",
      "metadata": {
        "id": "234yOomMpUIm"
      },
      "source": [
        "Implement a function to simulate a single round of play and return the results"
      ]
    },
    {
      "cell_type": "code",
      "execution_count": null,
      "metadata": {
        "id": "ZOUhFZgJBX3-"
      },
      "outputs": [],
      "source": [
        "def simulate_one_round():\n",
        "    my_roll = np.random.choice(die_faces)\n",
        "    your_roll = np.random.choice(die_faces)\n",
        "\n",
        "# finish function"
      ]
    },
    {
      "cell_type": "code",
      "execution_count": null,
      "metadata": {
        "colab": {
          "base_uri": "https://localhost:8080/"
        },
        "id": "jIdaLKTLBX3-",
        "outputId": "bf256954-c788-4327-a79b-56e22aaace8a"
      },
      "outputs": [],
      "source": [
        "simulate_one_round()"
      ]
    },
    {
      "cell_type": "markdown",
      "metadata": {
        "id": "lvlZqB7-BX3-"
      },
      "source": [
        "### Appending Arrays"
      ]
    },
    {
      "cell_type": "markdown",
      "metadata": {
        "id": "GnkZ0Jfc4rDY"
      },
      "source": [
        "Sometimes we will want to collect the outcomes of our simulations into a single array. We can do this by appending each experiment to the end of an array using the numpy `np.append` function."
      ]
    },
    {
      "cell_type": "code",
      "execution_count": null,
      "metadata": {
        "id": "zHcqwoudBX3-"
      },
      "outputs": [],
      "source": [
        "# Setup two arrays\n",
        "first = np.arange(4)\n",
        "second = np.arange(10, 17)"
      ]
    },
    {
      "cell_type": "code",
      "execution_count": null,
      "metadata": {
        "colab": {
          "base_uri": "https://localhost:8080/"
        },
        "id": "nNm6WQxABX3-",
        "outputId": "a00836e3-e428-42e7-a6b7-fdc6a5529dd5"
      },
      "outputs": [],
      "source": [
        "# Add on to the first array\n",
        "np.append(first, 6)"
      ]
    },
    {
      "cell_type": "code",
      "execution_count": null,
      "metadata": {
        "colab": {
          "base_uri": "https://localhost:8080/"
        },
        "id": "D3UTOprlBX3-",
        "outputId": "48dc8054-083e-4e31-837b-af3cb7f92089"
      },
      "outputs": [],
      "source": [
        "# The first array doesn't change\n",
        "first"
      ]
    },
    {
      "cell_type": "code",
      "execution_count": null,
      "metadata": {
        "colab": {
          "base_uri": "https://localhost:8080/"
        },
        "id": "PN35FXLgBX3-",
        "outputId": "f6bd0957-0e2c-4556-da57-8ceb9131bec4"
      },
      "outputs": [],
      "source": [
        "# Make a longer array\n",
        "np.append(first, second)"
      ]
    },
    {
      "cell_type": "code",
      "execution_count": null,
      "metadata": {
        "colab": {
          "base_uri": "https://localhost:8080/"
        },
        "id": "CYkouJeFBX3-",
        "outputId": "2161d8d7-a2e3-458e-c73f-67b9f70db2ef"
      },
      "outputs": [],
      "source": [
        "# Again, first doesn't change\n",
        "first"
      ]
    },
    {
      "cell_type": "code",
      "execution_count": null,
      "metadata": {
        "colab": {
          "base_uri": "https://localhost:8080/"
        },
        "id": "SXS3tGmkBX3-",
        "outputId": "3ad8cb24-cae5-4aa7-909f-854dcf7b4fd6"
      },
      "outputs": [],
      "source": [
        "# And second doesn't change\n",
        "second"
      ]
    },
    {
      "cell_type": "markdown",
      "metadata": {
        "id": "S8dRRotXBX3-"
      },
      "source": [
        "### Repeated Betting ###"
      ]
    },
    {
      "cell_type": "code",
      "execution_count": null,
      "metadata": {
        "id": "6QvQn9VUBX3-"
      },
      "outputs": [],
      "source": [
        "results = make_array()"
      ]
    },
    {
      "cell_type": "code",
      "execution_count": null,
      "metadata": {
        "colab": {
          "base_uri": "https://localhost:8080/"
        },
        "id": "5JM7YmZKBX3-",
        "outputId": "168e6e5c-eae0-4d0c-db6d-e136699ab399"
      },
      "outputs": [],
      "source": [
        "results = np.append(results, simulate_one_round())\n",
        "results"
      ]
    },
    {
      "cell_type": "code",
      "execution_count": null,
      "metadata": {
        "colab": {
          "base_uri": "https://localhost:8080/"
        },
        "id": "aoBRrLUrBX3_",
        "outputId": "cc5535ea-5566-4253-b45f-89fa95360cf5"
      },
      "outputs": [],
      "source": [
        "results = np.append(results, simulate_one_round())\n",
        "results"
      ]
    },
    {
      "cell_type": "markdown",
      "metadata": {
        "id": "cH0H6si4BX3_"
      },
      "source": [
        "## `For` Statements"
      ]
    },
    {
      "cell_type": "markdown",
      "metadata": {
        "id": "xbZK6p-m4_R2"
      },
      "source": [
        "The for statement is another way to apply code to each element in a list or an array.\n",
        "\n"
      ]
    },
    {
      "cell_type": "code",
      "execution_count": null,
      "metadata": {
        "colab": {
          "base_uri": "https://localhost:8080/"
        },
        "id": "vubvVwTpBX3_",
        "outputId": "5787c271-697e-4acc-c2ed-f9ab285e78dd"
      },
      "outputs": [],
      "source": [
        "for pet in make_array('cat', 'dog', 'rabbit'):\n",
        "    print('I love my ' + pet)"
      ]
    },
    {
      "cell_type": "code",
      "execution_count": null,
      "metadata": {
        "colab": {
          "base_uri": "https://localhost:8080/"
        },
        "id": "pGp3gJbYBX3_",
        "outputId": "f0c549cf-3e2a-4305-c845-86dddc41590e"
      },
      "outputs": [],
      "source": [
        "pet = make_array('cat', 'dog', 'rabbit').item(0)\n",
        "print('I love my ' + pet)\n",
        "\n",
        "pet = make_array('cat', 'dog', 'rabbit').item(1)\n",
        "print('I love my ' + pet)\n",
        "\n",
        "pet = make_array('cat', 'dog', 'rabbit').item(2)\n",
        "print('I love my ' + pet)"
      ]
    },
    {
      "cell_type": "markdown",
      "metadata": {
        "id": "qUfWisgY5Duu"
      },
      "source": [
        "What is the output of this for loop?"
      ]
    },
    {
      "cell_type": "code",
      "execution_count": null,
      "metadata": {
        "colab": {
          "base_uri": "https://localhost:8080/"
        },
        "id": "WOlEoxM9qh46",
        "outputId": "7076376e-f20f-485b-f2e4-79200d152899"
      },
      "outputs": [],
      "source": [
        "x = 0\n",
        "for i in np.arange(1,4):\n",
        "  x = x + i\n",
        "  print(x)\n",
        "\n",
        "print('The final value of x is:', x)"
      ]
    },
    {
      "cell_type": "markdown",
      "metadata": {
        "id": "br0Ovr4s5GIG"
      },
      "source": [
        "Use a for loop to simulate the total outcome of plays of our game of chance:"
      ]
    },
    {
      "cell_type": "code",
      "execution_count": null,
      "metadata": {
        "colab": {
          "base_uri": "https://localhost:8080/"
        },
        "id": "t4U-vIquBX3_",
        "outputId": "58881e76-736c-419e-eeff-9234804965ac"
      },
      "outputs": [],
      "source": [
        "game_outcomes = make_array()\n",
        "\n",
        "for i in np.arange(5):\n",
        "    game_outcomes = np.append(game_outcomes, simulate_one_round())\n",
        "\n",
        "game_outcomes"
      ]
    },
    {
      "cell_type": "code",
      "execution_count": null,
      "metadata": {
        "colab": {
          "base_uri": "https://localhost:8080/"
        },
        "id": "_sQ9Ocm5BX3_",
        "outputId": "7b2c563a-6aa9-4dd4-e473-2095f3f60654"
      },
      "outputs": [],
      "source": [
        "game_outcomes = make_array()\n",
        "\n",
        "for i in np.arange(10000):\n",
        "    game_outcomes = np.append(game_outcomes, simulate_one_round())\n",
        "\n",
        "game_outcomes"
      ]
    },
    {
      "cell_type": "code",
      "execution_count": null,
      "metadata": {
        "colab": {
          "base_uri": "https://localhost:8080/"
        },
        "id": "7M6Fp9ozBX3_",
        "outputId": "9d5a1ba0-9eaf-4134-8848-9a2df688de62"
      },
      "outputs": [],
      "source": [
        "len(game_outcomes)"
      ]
    },
    {
      "cell_type": "code",
      "execution_count": null,
      "metadata": {
        "id": "e1pbfmUGBX3_"
      },
      "outputs": [],
      "source": [
        "results = Table().with_column('My winnings', game_outcomes)"
      ]
    },
    {
      "cell_type": "code",
      "execution_count": null,
      "metadata": {
        "colab": {
          "base_uri": "https://localhost:8080/",
          "height": 392
        },
        "id": "tgx58SWeBX3_",
        "outputId": "1f52dc89-dfdb-4bba-d5e3-05bdac293b1a"
      },
      "outputs": [],
      "source": [
        "results"
      ]
    },
    {
      "cell_type": "code",
      "execution_count": null,
      "metadata": {
        "colab": {
          "base_uri": "https://localhost:8080/",
          "height": 410
        },
        "id": "mzBOExAdBX3_",
        "outputId": "86c46b5b-db3a-4491-df18-87778059720b"
      },
      "outputs": [],
      "source": [
        "results.group('My winnings').barh('My winnings')"
      ]
    },
    {
      "cell_type": "markdown",
      "metadata": {
        "id": "PWHoW-DEBX3_"
      },
      "source": [
        "### Another example: simulating heads in 100 coin tosses"
      ]
    },
    {
      "cell_type": "code",
      "execution_count": null,
      "metadata": {
        "id": "PSaD4pi7BX3_"
      },
      "outputs": [],
      "source": [
        "# Example coin flip\n",
        "coin = make_array('heads', 'tails')"
      ]
    },
    {
      "cell_type": "code",
      "execution_count": null,
      "metadata": {
        "colab": {
          "base_uri": "https://localhost:8080/",
          "height": 36
        },
        "id": "9S13XhoL7IIy",
        "outputId": "ef34aa0d-fe90-4803-fc7f-50b2ddd9db27"
      },
      "outputs": [],
      "source": [
        "# Use np.random.choice to pick\n",
        "np.random.choice(coin)"
      ]
    },
    {
      "cell_type": "code",
      "execution_count": null,
      "metadata": {
        "colab": {
          "base_uri": "https://localhost:8080/"
        },
        "id": "Gh7piT3d7OwM",
        "outputId": "c64111b1-0e4c-4eda-d960-8a08b7a6d10d"
      },
      "outputs": [],
      "source": [
        "# Pick multiple times\n",
        "ten_picks = np.random.choice(coin, 10)\n",
        "ten_picks"
      ]
    },
    {
      "cell_type": "code",
      "execution_count": null,
      "metadata": {
        "colab": {
          "base_uri": "https://localhost:8080/"
        },
        "id": "9M-j5Bgv7uq7",
        "outputId": "11310adb-0724-47e1-a49b-8a5367f8c7b4"
      },
      "outputs": [],
      "source": [
        "ten_picks == 'heads'"
      ]
    },
    {
      "cell_type": "code",
      "execution_count": null,
      "metadata": {
        "colab": {
          "base_uri": "https://localhost:8080/"
        },
        "id": "aG_R0U5B7yIa",
        "outputId": "f9c988bb-43e6-4c40-e89a-c1ab6140d13e"
      },
      "outputs": [],
      "source": [
        "sum(ten_picks == 'heads')"
      ]
    },
    {
      "cell_type": "code",
      "execution_count": null,
      "metadata": {
        "colab": {
          "base_uri": "https://localhost:8080/"
        },
        "id": "X0FQzWmPBX3_",
        "outputId": "05a3e3cb-d4f4-406a-cab1-0dfb10cab841"
      },
      "outputs": [],
      "source": [
        "# Count the sum of heads coin flip results in our array\n",
        "sum(np.random.choice(coin, 10) == 'heads')"
      ]
    },
    {
      "cell_type": "code",
      "execution_count": null,
      "metadata": {
        "colab": {
          "base_uri": "https://localhost:8080/"
        },
        "id": "T4Lr4-0H79yx",
        "outputId": "9f44826a-4de8-4fce-e9a0-93153758487f"
      },
      "outputs": [],
      "source": [
        "sum(np.random.choice(coin, 100) == 'heads')"
      ]
    },
    {
      "cell_type": "code",
      "execution_count": null,
      "metadata": {
        "id": "63r3GBLtBX3_"
      },
      "outputs": [],
      "source": [
        "# Simulate one outcome\n",
        "\n",
        "def num_heads():\n",
        "    return sum(np.random.choice(coin, 100) == 'heads')"
      ]
    },
    {
      "cell_type": "code",
      "execution_count": null,
      "metadata": {
        "id": "bsCL5q61BX3_"
      },
      "outputs": [],
      "source": [
        "# Decide how many times you want to repeat the experiment\n",
        "repetitions = 10000"
      ]
    },
    {
      "cell_type": "code",
      "execution_count": null,
      "metadata": {
        "id": "Fc2UPTCABX3_"
      },
      "outputs": [],
      "source": [
        "# Simulate that many outcomes\n",
        "outcomes = make_array()\n",
        "\n",
        "for i in np.arange(repetitions):\n",
        "    outcomes = np.append(outcomes, num_heads())"
      ]
    },
    {
      "cell_type": "code",
      "execution_count": null,
      "metadata": {
        "colab": {
          "base_uri": "https://localhost:8080/",
          "height": 411
        },
        "id": "1oLpf_hvBX3_",
        "outputId": "43adcd1c-0f49-4de6-e404-ee64403abeb0"
      },
      "outputs": [],
      "source": [
        "heads = Table().with_column('Heads', outcomes)\n",
        "heads.hist(bins = np.arange(29.5, 70.6))"
      ]
    },
    {
      "cell_type": "markdown",
      "metadata": {
        "id": "7pK0wMEPBX3_"
      },
      "source": [
        "## Optional: Advanced `where` ##"
      ]
    },
    {
      "cell_type": "code",
      "execution_count": null,
      "metadata": {
        "id": "VDDR3nijBX4A"
      },
      "outputs": [],
      "source": [
        "ages = make_array(16, 22, 18, 15, 19, 15, 16, 21)\n",
        "age = Table().with_column('Age', ages)"
      ]
    },
    {
      "cell_type": "code",
      "execution_count": null,
      "metadata": {
        "colab": {
          "base_uri": "https://localhost:8080/",
          "height": 300
        },
        "id": "jMq8V0YpBX4A",
        "outputId": "19e4d97a-313a-47e2-82a1-0ddc165e43d0"
      },
      "outputs": [],
      "source": [
        "age"
      ]
    },
    {
      "cell_type": "code",
      "execution_count": null,
      "metadata": {
        "colab": {
          "base_uri": "https://localhost:8080/",
          "height": 175
        },
        "id": "TVUjViecBX4A",
        "outputId": "b5944ca6-49be-4968-c57e-d32dba2ca2c9"
      },
      "outputs": [],
      "source": [
        "age.where('Age', are.above_or_equal_to(18))"
      ]
    },
    {
      "cell_type": "code",
      "execution_count": null,
      "metadata": {
        "id": "W-5K9c7ZBX4A"
      },
      "outputs": [],
      "source": [
        "voter = ages >= 18"
      ]
    },
    {
      "cell_type": "code",
      "execution_count": null,
      "metadata": {
        "colab": {
          "base_uri": "https://localhost:8080/"
        },
        "id": "JgIFNdt_BX4A",
        "outputId": "6352e7db-1013-45cf-8235-a60ae90c965d"
      },
      "outputs": [],
      "source": [
        "voter"
      ]
    },
    {
      "cell_type": "code",
      "execution_count": null,
      "metadata": {
        "colab": {
          "base_uri": "https://localhost:8080/",
          "height": 175
        },
        "id": "Csh4XbeUBX4A",
        "outputId": "9d0a25a4-bd87-48a6-a7da-261ee37b85d6"
      },
      "outputs": [],
      "source": [
        "age.where(voter)"
      ]
    },
    {
      "cell_type": "code",
      "execution_count": null,
      "metadata": {
        "id": "oVBg9dQ-BX4A"
      },
      "outputs": [],
      "source": [
        "is_voter = are.above_or_equal_to(18)"
      ]
    },
    {
      "cell_type": "code",
      "execution_count": null,
      "metadata": {
        "colab": {
          "base_uri": "https://localhost:8080/"
        },
        "id": "s9SNklJOBX4A",
        "outputId": "625509e4-436a-4cd1-b66a-30f5304c7624"
      },
      "outputs": [],
      "source": [
        "type(is_voter)"
      ]
    },
    {
      "cell_type": "code",
      "execution_count": null,
      "metadata": {
        "colab": {
          "base_uri": "https://localhost:8080/"
        },
        "id": "8Jy1IYVUBX4A",
        "outputId": "9b91915d-bda3-49e7-beee-96320645995d"
      },
      "outputs": [],
      "source": [
        "is_voter(22)"
      ]
    },
    {
      "cell_type": "code",
      "execution_count": null,
      "metadata": {
        "colab": {
          "base_uri": "https://localhost:8080/"
        },
        "id": "3DCmYHgwBX4A",
        "outputId": "f23a2b97-51e3-4889-fa62-33bfb7c5349b"
      },
      "outputs": [],
      "source": [
        "is_voter(3)"
      ]
    },
    {
      "cell_type": "code",
      "execution_count": null,
      "metadata": {
        "colab": {
          "base_uri": "https://localhost:8080/"
        },
        "id": "cfh8zfHJBX4A",
        "outputId": "ef432fab-9aa9-4075-bc05-e051ea55163e"
      },
      "outputs": [],
      "source": [
        "age.apply(is_voter, 'Age')"
      ]
    },
    {
      "cell_type": "code",
      "execution_count": null,
      "metadata": {
        "colab": {
          "base_uri": "https://localhost:8080/"
        },
        "id": "alUq04ebBX4A",
        "outputId": "8d371eca-1817-4193-bb23-15cab4aa0e02"
      },
      "outputs": [],
      "source": [
        "ages >= 18"
      ]
    },
    {
      "cell_type": "code",
      "execution_count": null,
      "metadata": {
        "colab": {
          "base_uri": "https://localhost:8080/"
        },
        "id": "ScVUfoNDBX4A",
        "outputId": "8377129e-61b9-4d1a-a4a7-e8214e2bc2aa"
      },
      "outputs": [],
      "source": [
        "voter"
      ]
    },
    {
      "cell_type": "code",
      "execution_count": null,
      "metadata": {
        "id": "9LZ_T3t7BX4A"
      },
      "outputs": [],
      "source": [
        "def my_voter_function(x):\n",
        "    return x >= 18"
      ]
    },
    {
      "cell_type": "code",
      "execution_count": null,
      "metadata": {
        "colab": {
          "base_uri": "https://localhost:8080/",
          "height": 175
        },
        "id": "dvNpIVFhBX4A",
        "outputId": "50b8e9a4-a9fd-4f23-b597-6f0f18f4b3c3"
      },
      "outputs": [],
      "source": [
        "age.where('Age', are.above_or_equal_to(18))"
      ]
    },
    {
      "cell_type": "code",
      "execution_count": null,
      "metadata": {
        "colab": {
          "base_uri": "https://localhost:8080/",
          "height": 175
        },
        "id": "85Z6ipWBBX4A",
        "outputId": "b02f20d0-c8d0-4f89-b907-e1d0b9f433d2"
      },
      "outputs": [],
      "source": [
        "age.where(voter)"
      ]
    },
    {
      "cell_type": "code",
      "execution_count": null,
      "metadata": {
        "colab": {
          "base_uri": "https://localhost:8080/",
          "height": 175
        },
        "id": "ZlQim1ivBX4A",
        "outputId": "d0af13d8-11b2-4595-ddbc-bac8902ab98e"
      },
      "outputs": [],
      "source": [
        "age.where('Age', my_voter_function)"
      ]
    }
  ],
  "metadata": {
    "colab": {
      "provenance": []
    },
    "kernelspec": {
      "display_name": "Python 3",
      "language": "python",
      "name": "python3"
    },
    "language_info": {
      "codemirror_mode": {
        "name": "ipython",
        "version": 3
      },
      "file_extension": ".py",
      "mimetype": "text/x-python",
      "name": "python",
      "nbconvert_exporter": "python",
      "pygments_lexer": "ipython3",
      "version": "3.10.12"
    }
  },
  "nbformat": 4,
  "nbformat_minor": 0
}
