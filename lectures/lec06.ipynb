{
  "cells": [
    {
      "cell_type": "markdown",
      "metadata": {
        "id": "ml2I5wZ_U6WO"
      },
      "source": [
        "<a href=\"https://colab.research.google.com/github/tmckim/materials-fa23-colab-working/blob/main/lectures/lec06.ipynb\" target=\"_parent\"><img src=\"https://colab.research.google.com/assets/colab-badge.svg\" alt=\"Open In Colab\"/></a>"
      ]
    },
    {
      "cell_type": "markdown",
      "metadata": {
        "id": "EiU1HDGvU6WR"
      },
      "source": [
        "## Before you start - Save this notebook!\n",
        "\n",
        "When you open a new Colab notebook from the WebCampus (like you hopefully did for this one), you cannot save changes. So it's  best to store the Colab notebook in your personal drive `\"File > Save a copy in drive...\"` **before** you do anything else.\n",
        "\n",
        "The file will open in a new tab in your web browser, and it is automatically named something like: \"**Copy of lec06.ipynb**\". You can rename this to just the title of the assignment \"**lec06.ipynb**\". Make sure you do keep an informative name (like the name of the assignment) so that you know which files to submit back to WebCampus for grading! More instructions on this are at the end of the notebook.\n",
        "\n",
        "\n",
        "**Where does the notebook get saved in Google Drive?**\n",
        "\n",
        "By default, the notebook will be copied to a folder called “Colab Notebooks” at the root (home directory) of your Google Drive. If you use this for other courses or personal code notebooks, I recommend creating a folder for this course and then moving the assignments AFTER you have completed them."
      ]
    },
    {
      "cell_type": "code",
      "execution_count": null,
      "metadata": {
        "id": "rKWQ9H7MU6WS"
      },
      "outputs": [],
      "source": [
        "# Setup and add files needed to gdrive\n",
        "# If you restart colab, start by rerunning this cell first!\n",
        "from google.colab import drive\n",
        "drive.mount('/content/gdrive', force_remount=True)\n",
        "\n",
        "#!mkdir -p '/content/gdrive/My Drive/colab-materials-NS499DataSci-notebooks/'\n",
        "%cd /content/gdrive/My Drive/colab-materials-NS499DataSci-notebooks/\n",
        "!rm -r materials-fa23-colab-working\n",
        "\n",
        "!git clone https://github.com/tmckim/materials-fa23-colab-working '/content/gdrive/My Drive/colab-materials-NS499DataSci-notebooks/materials-fa23-colab-working/'\n",
        "\n",
        "%cd /content/gdrive/MyDrive/colab-materials-NS499DataSci-notebooks/materials-fa23-colab-working/lectures/"
      ]
    },
    {
      "cell_type": "code",
      "execution_count": 1,
      "metadata": {
        "colab": {
          "base_uri": "https://localhost:8080/"
        },
        "id": "y5J-uEDqU6WT",
        "outputId": "4838a54f-6cb1-4c06-e1e0-b14d85afda86"
      },
      "outputs": [
        {
          "output_type": "stream",
          "name": "stdout",
          "text": [
            "Mounted at /content/gdrive\n",
            "/content/gdrive/MyDrive/colab-materials-NS499DataSci-notebooks/materials-fa23-colab-working/lectures\n"
          ]
        }
      ],
      "source": [
        "############### TEST\n",
        "from google.colab import drive\n",
        "drive.mount('/content/gdrive', force_remount=True)\n",
        "\n",
        "%cd /content/gdrive/MyDrive/colab-materials-NS499DataSci-notebooks/materials-fa23-colab-working/lectures/"
      ]
    },
    {
      "cell_type": "code",
      "execution_count": 2,
      "metadata": {
        "id": "mIFJZpKfU6WT"
      },
      "outputs": [],
      "source": [
        "# Import packages and other things needed\n",
        "# Don't change this cell; Just run this cell\n",
        "# If you restart colab, make sure to run this cell again after the first one above^\n",
        "\n",
        "from datascience import *\n",
        "import numpy as np\n",
        "# path_data = '../../../assets/data/' ######### is this needed?\n",
        "\n",
        "%matplotlib inline\n",
        "import matplotlib.pyplot as plots\n",
        "plots.style.use('fivethirtyeight')\n",
        "import warnings\n",
        "warnings.simplefilter(action='ignore',category=np.VisibleDeprecationWarning)"
      ]
    },
    {
      "cell_type": "markdown",
      "metadata": {
        "id": "jMHqHNmyU6WU"
      },
      "source": [
        "## Lecture 06 ##"
      ]
    },
    {
      "cell_type": "markdown",
      "metadata": {
        "id": "P-uR6FmDU6WU"
      },
      "source": [
        "\n",
        "Topics:\n",
        "- Reviewing lots of things"
      ]
    },
    {
      "cell_type": "markdown",
      "metadata": {
        "id": "rAlBzdlxU6WU"
      },
      "source": [
        "## A Join Example ##"
      ]
    },
    {
      "cell_type": "code",
      "execution_count": null,
      "metadata": {
        "colab": {
          "base_uri": "https://localhost:8080/",
          "height": 173
        },
        "id": "AvsCu1enU6WU",
        "outputId": "ee8a8c09-5996-4846-d899-7205217d73ba"
      },
      "outputs": [
        {
          "data": {
            "text/html": [
              "<table border=\"1\" class=\"dataframe\">\n",
              "    <thead>\n",
              "        <tr>\n",
              "            <th>SEX</th> <th>AGE</th> <th>POPESTIMATE2019</th>\n",
              "        </tr>\n",
              "    </thead>\n",
              "    <tbody>\n",
              "        <tr>\n",
              "            <td>0   </td> <td>0   </td> <td>3783052        </td>\n",
              "        </tr>\n",
              "        <tr>\n",
              "            <td>0   </td> <td>1   </td> <td>3829599        </td>\n",
              "        </tr>\n",
              "        <tr>\n",
              "            <td>0   </td> <td>2   </td> <td>3922044        </td>\n",
              "        </tr>\n",
              "    </tbody>\n",
              "</table>\n",
              "<p>... (303 rows omitted)</p>"
            ],
            "text/plain": [
              "<IPython.core.display.HTML object>"
            ]
          },
          "metadata": {},
          "output_type": "display_data"
        }
      ],
      "source": [
        "# One table\n",
        "full = Table.read_table('nc-est2019-agesex-res.csv')\n",
        "census = full.select('SEX', 'AGE', 'POPESTIMATE2019')\n",
        "census.show(3)"
      ]
    },
    {
      "cell_type": "code",
      "execution_count": null,
      "metadata": {
        "colab": {
          "base_uri": "https://localhost:8080/",
          "height": 143
        },
        "id": "Qi5xJxTJU6WU",
        "outputId": "9d1df0c5-5995-432e-d07e-9a33ecda73aa"
      },
      "outputs": [
        {
          "data": {
            "text/html": [
              "<table border=\"1\" class=\"dataframe\">\n",
              "    <thead>\n",
              "        <tr>\n",
              "            <th>SEX CODE</th> <th>CODE DEFINITION</th>\n",
              "        </tr>\n",
              "    </thead>\n",
              "    <tbody>\n",
              "        <tr>\n",
              "            <td>0       </td> <td>All            </td>\n",
              "        </tr>\n",
              "        <tr>\n",
              "            <td>1       </td> <td>Selected Male  </td>\n",
              "        </tr>\n",
              "        <tr>\n",
              "            <td>2       </td> <td>Selected Female</td>\n",
              "        </tr>\n",
              "    </tbody>\n",
              "</table>"
            ],
            "text/plain": [
              "SEX CODE | CODE DEFINITION\n",
              "0        | All\n",
              "1        | Selected Male\n",
              "2        | Selected Female"
            ]
          },
          "execution_count": 5,
          "metadata": {},
          "output_type": "execute_result"
        }
      ],
      "source": [
        "# A second table\n",
        "sex_codes = Table().with_columns(\n",
        "    'SEX CODE', make_array(0, 1, 2),\n",
        "    'CODE DEFINITION', make_array('All', 'Selected Male', 'Selected Female')\n",
        ")\n",
        "sex_codes"
      ]
    },
    {
      "cell_type": "code",
      "execution_count": null,
      "metadata": {
        "colab": {
          "base_uri": "https://localhost:8080/",
          "height": 173
        },
        "id": "OGguZLU5U6WU",
        "outputId": "d1ab18d0-6b60-48cc-e208-6ec5d5617261"
      },
      "outputs": [
        {
          "data": {
            "text/html": [
              "<table border=\"1\" class=\"dataframe\">\n",
              "    <thead>\n",
              "        <tr>\n",
              "            <th>SEX CODE</th> <th>CODE DEFINITION</th> <th>AGE</th> <th>POPESTIMATE2019</th>\n",
              "        </tr>\n",
              "    </thead>\n",
              "    <tbody>\n",
              "        <tr>\n",
              "            <td>0       </td> <td>All            </td> <td>0   </td> <td>3783052        </td>\n",
              "        </tr>\n",
              "        <tr>\n",
              "            <td>1       </td> <td>Selected Male  </td> <td>0   </td> <td>1935117        </td>\n",
              "        </tr>\n",
              "        <tr>\n",
              "            <td>2       </td> <td>Selected Female</td> <td>0   </td> <td>1847935        </td>\n",
              "        </tr>\n",
              "    </tbody>\n",
              "</table>\n",
              "<p>... (303 rows omitted)</p>"
            ],
            "text/plain": [
              "<IPython.core.display.HTML object>"
            ]
          },
          "metadata": {},
          "output_type": "display_data"
        }
      ],
      "source": [
        "# Join the tables\n",
        "sex_codes.join('SEX CODE', census, 'SEX').sort('AGE').show(3)"
      ]
    },
    {
      "cell_type": "markdown",
      "metadata": {
        "id": "NruYri69U6WV"
      },
      "source": [
        "## Bike Sharing ##"
      ]
    },
    {
      "cell_type": "code",
      "execution_count": null,
      "metadata": {
        "colab": {
          "base_uri": "https://localhost:8080/",
          "height": 242
        },
        "id": "5TtbCXMvU6WV",
        "outputId": "b479fe17-ed0d-437c-87ce-b911887807e2"
      },
      "outputs": [
        {
          "data": {
            "text/html": [
              "<table border=\"1\" class=\"dataframe\">\n",
              "    <thead>\n",
              "        <tr>\n",
              "            <th>Trip ID</th> <th>Duration</th> <th>Start Date</th> <th>Start Station</th> <th>Start Terminal</th> <th>End Date</th> <th>End Station</th> <th>End Terminal</th> <th>Bike #</th> <th>Subscriber Type</th> <th>Zip Code</th>\n",
              "        </tr>\n",
              "    </thead>\n",
              "    <tbody>\n",
              "        <tr>\n",
              "            <td>913460 </td> <td>765     </td> <td>8/31/2015 23:26</td> <td>Harry Bridges Plaza (Ferry Building)</td> <td>50            </td> <td>8/31/2015 23:39</td> <td>San Francisco Caltrain (Townsend at 4th)</td> <td>70          </td> <td>288   </td> <td>Subscriber     </td> <td>2139    </td>\n",
              "        </tr>\n",
              "        <tr>\n",
              "            <td>913459 </td> <td>1036    </td> <td>8/31/2015 23:11</td> <td>San Antonio Shopping Center         </td> <td>31            </td> <td>8/31/2015 23:28</td> <td>Mountain View City Hall                 </td> <td>27          </td> <td>35    </td> <td>Subscriber     </td> <td>95032   </td>\n",
              "        </tr>\n",
              "        <tr>\n",
              "            <td>913455 </td> <td>307     </td> <td>8/31/2015 23:13</td> <td>Post at Kearny                      </td> <td>47            </td> <td>8/31/2015 23:18</td> <td>2nd at South Park                       </td> <td>64          </td> <td>468   </td> <td>Subscriber     </td> <td>94107   </td>\n",
              "        </tr>\n",
              "    </tbody>\n",
              "</table>\n",
              "<p>... (354149 rows omitted)</p>"
            ],
            "text/plain": [
              "<IPython.core.display.HTML object>"
            ]
          },
          "metadata": {},
          "output_type": "display_data"
        }
      ],
      "source": [
        "# Read in the trip data from csv file\n",
        "trip = Table.read_table('trip.csv')\n",
        "trip.show(3)"
      ]
    },
    {
      "cell_type": "markdown",
      "metadata": {
        "id": "cjRI6UVAU6WV"
      },
      "source": [
        "## Distribution of Durations ##"
      ]
    },
    {
      "cell_type": "code",
      "execution_count": null,
      "metadata": {
        "colab": {
          "base_uri": "https://localhost:8080/",
          "height": 493
        },
        "id": "Z5pzh1vvU6WV",
        "outputId": "8769f113-b738-401b-fa0b-27db30fc73fd"
      },
      "outputs": [
        {
          "data": {
            "image/png": "[encoded data removed]",
            "text/plain": [
              "<Figure size 600x400 with 1 Axes>"
            ]
          },
          "metadata": {},
          "output_type": "display_data"
        }
      ],
      "source": [
        "# Visualize the durations (seconds)\n",
        "trip.hist('Duration')"
      ]
    },
    {
      "cell_type": "markdown",
      "metadata": {
        "id": "TlQ6QiVxZfoS"
      },
      "source": [
        "Why does the histogram look like this?"
      ]
    },
    {
      "cell_type": "code",
      "execution_count": null,
      "metadata": {
        "colab": {
          "base_uri": "https://localhost:8080/",
          "height": 583
        },
        "id": "H8U64W_AU6WV",
        "outputId": "e7dfbe9e-7657-4f89-aa79-bb55f5be824f"
      },
      "outputs": [
        {
          "data": {
            "text/html": [
              "<table border=\"1\" class=\"dataframe\">\n",
              "    <thead>\n",
              "        <tr>\n",
              "            <th>Trip ID</th> <th>Duration</th> <th>Start Date</th> <th>Start Station</th> <th>Start Terminal</th> <th>End Date</th> <th>End Station</th> <th>End Terminal</th> <th>Bike #</th> <th>Subscriber Type</th> <th>Zip Code</th>\n",
              "        </tr>\n",
              "    </thead>\n",
              "    <tbody>\n",
              "        <tr>\n",
              "            <td>568474 </td> <td>17270400</td> <td>12/6/2014 21:59</td> <td>South Van Ness at Market     </td> <td>66            </td> <td>6/24/2015 20:18</td> <td>2nd at Folsom                                </td> <td>62          </td> <td>535   </td> <td>Customer       </td> <td>95531   </td>\n",
              "        </tr>\n",
              "        <tr>\n",
              "            <td>825850 </td> <td>2137000 </td> <td>6/28/2015 21:50</td> <td>Market at Sansome            </td> <td>77            </td> <td>7/23/2015 15:27</td> <td>Yerba Buena Center of the Arts (3rd @ Howard)</td> <td>68          </td> <td>466   </td> <td>Customer       </td> <td>97213   </td>\n",
              "        </tr>\n",
              "        <tr>\n",
              "            <td>750192 </td> <td>1852590 </td> <td>5/2/2015 6:17  </td> <td>San Antonio Shopping Center  </td> <td>31            </td> <td>5/23/2015 16:53</td> <td>Castro Street and El Camino Real             </td> <td>32          </td> <td>680   </td> <td>Subscriber     </td> <td>94024   </td>\n",
              "        </tr>\n",
              "        <tr>\n",
              "            <td>841176 </td> <td>1133540 </td> <td>7/10/2015 10:35</td> <td>University and Emerson       </td> <td>35            </td> <td>7/23/2015 13:27</td> <td>University and Emerson                       </td> <td>35          </td> <td>262   </td> <td>Customer       </td> <td>94306   </td>\n",
              "        </tr>\n",
              "        <tr>\n",
              "            <td>522337 </td> <td>720454  </td> <td>10/30/2014 8:29</td> <td>Redwood City Caltrain Station</td> <td>22            </td> <td>11/7/2014 15:36</td> <td>Stanford in Redwood City                     </td> <td>25          </td> <td>692   </td> <td>Customer       </td> <td>94010   </td>\n",
              "        </tr>\n",
              "        <tr>\n",
              "            <td>774999 </td> <td>688899  </td> <td>5/20/2015 15:27</td> <td>Palo Alto Caltrain Station   </td> <td>34            </td> <td>5/28/2015 14:49</td> <td>California Ave Caltrain Station              </td> <td>36          </td> <td>230   </td> <td>Customer       </td> <td>nil     </td>\n",
              "        </tr>\n",
              "        <tr>\n",
              "            <td>635260 </td> <td>655939  </td> <td>2/8/2015 3:05  </td> <td>San Jose Civic Center        </td> <td>3             </td> <td>2/15/2015 17:17</td> <td>SJSU 4th at San Carlos                       </td> <td>12          </td> <td>132   </td> <td>Customer       </td> <td>89451   </td>\n",
              "        </tr>\n",
              "        <tr>\n",
              "            <td>745640 </td> <td>611240  </td> <td>4/29/2015 9:41 </td> <td>University and Emerson       </td> <td>35            </td> <td>5/6/2015 11:28 </td> <td>San Antonio Shopping Center                  </td> <td>31          </td> <td>196   </td> <td>Customer       </td> <td>81      </td>\n",
              "        </tr>\n",
              "        <tr>\n",
              "            <td>635263 </td> <td>602338  </td> <td>2/8/2015 3:09  </td> <td>San Jose Civic Center        </td> <td>3             </td> <td>2/15/2015 2:28 </td> <td>San Jose Civic Center                        </td> <td>3           </td> <td>9     </td> <td>Customer       </td> <td>89451   </td>\n",
              "        </tr>\n",
              "        <tr>\n",
              "            <td>779645 </td> <td>594550  </td> <td>5/24/2015 13:33</td> <td>San Pedro Square             </td> <td>6             </td> <td>5/31/2015 10:42</td> <td>San Pedro Square                             </td> <td>6           </td> <td>39    </td> <td>Customer       </td> <td>95118   </td>\n",
              "        </tr>\n",
              "    </tbody>\n",
              "</table>\n",
              "<p>... (354142 rows omitted)</p>"
            ],
            "text/plain": [
              "Trip ID | Duration | Start Date      | Start Station                 | Start Terminal | End Date        | End Station                                   | End Terminal | Bike # | Subscriber Type | Zip Code\n",
              "568474  | 17270400 | 12/6/2014 21:59 | South Van Ness at Market      | 66             | 6/24/2015 20:18 | 2nd at Folsom                                 | 62           | 535    | Customer        | 95531\n",
              "825850  | 2137000  | 6/28/2015 21:50 | Market at Sansome             | 77             | 7/23/2015 15:27 | Yerba Buena Center of the Arts (3rd @ Howard) | 68           | 466    | Customer        | 97213\n",
              "750192  | 1852590  | 5/2/2015 6:17   | San Antonio Shopping Center   | 31             | 5/23/2015 16:53 | Castro Street and El Camino Real              | 32           | 680    | Subscriber      | 94024\n",
              "841176  | 1133540  | 7/10/2015 10:35 | University and Emerson        | 35             | 7/23/2015 13:27 | University and Emerson                        | 35           | 262    | Customer        | 94306\n",
              "522337  | 720454   | 10/30/2014 8:29 | Redwood City Caltrain Station | 22             | 11/7/2014 15:36 | Stanford in Redwood City                      | 25           | 692    | Customer        | 94010\n",
              "774999  | 688899   | 5/20/2015 15:27 | Palo Alto Caltrain Station    | 34             | 5/28/2015 14:49 | California Ave Caltrain Station               | 36           | 230    | Customer        | nil\n",
              "635260  | 655939   | 2/8/2015 3:05   | San Jose Civic Center         | 3              | 2/15/2015 17:17 | SJSU 4th at San Carlos                        | 12           | 132    | Customer        | 89451\n",
              "745640  | 611240   | 4/29/2015 9:41  | University and Emerson        | 35             | 5/6/2015 11:28  | San Antonio Shopping Center                   | 31           | 196    | Customer        | 81\n",
              "635263  | 602338   | 2/8/2015 3:09   | San Jose Civic Center         | 3              | 2/15/2015 2:28  | San Jose Civic Center                         | 3            | 9      | Customer        | 89451\n",
              "779645  | 594550   | 5/24/2015 13:33 | San Pedro Square              | 6              | 5/31/2015 10:42 | San Pedro Square                              | 6            | 39     | Customer        | 95118\n",
              "... (354142 rows omitted)"
            ]
          },
          "execution_count": 9,
          "metadata": {},
          "output_type": "execute_result"
        }
      ],
      "source": [
        "# Sort by duration with largest values first\n",
        "trip.sort('Duration', descending=True)"
      ]
    },
    {
      "cell_type": "code",
      "execution_count": null,
      "metadata": {
        "colab": {
          "base_uri": "https://localhost:8080/",
          "height": 410
        },
        "id": "hIV3V2piU6WV",
        "outputId": "dcdb284a-617d-47bc-d555-89df3d0822f3"
      },
      "outputs": [
        {
          "data": {
            "image/png": "[encoded data removed]",
            "text/plain": [
              "<Figure size 600x400 with 1 Axes>"
            ]
          },
          "metadata": {},
          "output_type": "display_data"
        }
      ],
      "source": [
        "# Just trips under 30 mins (free ride length)\n",
        "commute = trip.where('Duration', are.below(60*30)) # 60 secs * 30 mins\n",
        "commute.hist('Duration')"
      ]
    },
    {
      "cell_type": "markdown",
      "metadata": {
        "id": "znEWYlBSaU1_"
      },
      "source": [
        "Why are there not any values right after 0?<br>Hint: there was a minimum time limit"
      ]
    },
    {
      "cell_type": "code",
      "execution_count": null,
      "metadata": {
        "colab": {
          "base_uri": "https://localhost:8080/",
          "height": 410
        },
        "id": "2T63zcluU6WV",
        "outputId": "798eb64b-f98f-4d75-a227-8d1f2a43efc4"
      },
      "outputs": [
        {
          "data": {
            "image/png": "[encoded data removed]",
            "text/plain": [
              "<Figure size 600x400 with 1 Axes>"
            ]
          },
          "metadata": {},
          "output_type": "display_data"
        }
      ],
      "source": [
        "# Now specify bins instead of letting hist automatically pick it\n",
        "commute.hist('Duration', bins=np.arange(0, 1800, 250), unit='Second')"
      ]
    },
    {
      "cell_type": "markdown",
      "metadata": {
        "id": "i-sMVJXZax3R"
      },
      "source": [
        "Based on the histogram, can you approximate the percent of people who have a ride duration between 250 and 500 seconds? <br>\n",
        "Hint: Think about what formula you need and what information you have."
      ]
    },
    {
      "cell_type": "code",
      "execution_count": null,
      "metadata": {
        "colab": {
          "base_uri": "https://localhost:8080/"
        },
        "id": "QfP0_mbiU6WV",
        "outputId": "342f1562-2d0c-41fc-f68a-7f8b0d7b7ae4"
      },
      "outputs": [
        {
          "data": {
            "text/plain": [
              "37.5"
            ]
          },
          "execution_count": 13,
          "metadata": {},
          "output_type": "execute_result"
        }
      ],
      "source": [
        "# Approx percent of people who have\n",
        "# a ride duration between 250 and 500 seconds\n",
        "# \"between\" = [250, 500)\n",
        "\n",
        "# area (percent) = width*height\n",
        "\n",
        "(500-250) * 0.15"
      ]
    },
    {
      "cell_type": "markdown",
      "metadata": {
        "id": "C7urk_UbbWoQ"
      },
      "source": [
        "Calculating the exact value:"
      ]
    },
    {
      "cell_type": "code",
      "execution_count": null,
      "metadata": {
        "colab": {
          "base_uri": "https://localhost:8080/"
        },
        "id": "0GJ3LZbsU6WV",
        "outputId": "9a8c1fb9-2d3e-4060-c2ce-135a0892f32b"
      },
      "outputs": [
        {
          "data": {
            "text/plain": [
              "129079"
            ]
          },
          "execution_count": 14,
          "metadata": {},
          "output_type": "execute_result"
        }
      ],
      "source": [
        "# Get the number of rows using .where\n",
        "commute.where('Duration', are.between(250, 500)).num_rows"
      ]
    },
    {
      "cell_type": "code",
      "execution_count": null,
      "metadata": {
        "colab": {
          "base_uri": "https://localhost:8080/"
        },
        "id": "nCIE6J42U6WV",
        "outputId": "6605dc4b-1a27-4cc8-fdcb-61c984bfd927"
      },
      "outputs": [
        {
          "data": {
            "text/plain": [
              "38.150338561755376"
            ]
          },
          "execution_count": 17,
          "metadata": {},
          "output_type": "execute_result"
        }
      ],
      "source": [
        "# take number of trips from the duration window and divide by the number of rows in the table\n",
        "# gives us percentage in that interval\n",
        "129079 / commute.num_rows * 100"
      ]
    },
    {
      "cell_type": "code",
      "execution_count": null,
      "metadata": {
        "colab": {
          "base_uri": "https://localhost:8080/",
          "height": 410
        },
        "id": "v907WA4HU6WW",
        "outputId": "2b669873-48d1-4837-c684-b2786dfbb2c7"
      },
      "outputs": [
        {
          "data": {
            "image/png": "[encoded data removed]",
            "text/plain": [
              "<Figure size 600x400 with 1 Axes>"
            ]
          },
          "metadata": {},
          "output_type": "display_data"
        }
      ],
      "source": [
        "# Same code as above\n",
        "commute.hist('Duration', bins=np.arange(0, 1800, 250), unit='Second')"
      ]
    },
    {
      "cell_type": "code",
      "execution_count": null,
      "metadata": {
        "colab": {
          "base_uri": "https://localhost:8080/",
          "height": 410
        },
        "id": "m9DRLZ84U6WW",
        "outputId": "21e2958b-06b6-40a5-ab44-5d3e05a2aa83"
      },
      "outputs": [
        {
          "data": {
            "image/png": "[encoded data removed]",
            "text/plain": [
              "<Figure size 600x400 with 1 Axes>"
            ]
          },
          "metadata": {},
          "output_type": "display_data"
        }
      ],
      "source": [
        " # Now put in a number of bins for comparison\n",
        "commute.hist('Duration', bins=60, unit='Second')"
      ]
    },
    {
      "cell_type": "markdown",
      "metadata": {
        "id": "BHXtaaHmU6WW"
      },
      "source": [
        "## Start and End Stations ##"
      ]
    },
    {
      "cell_type": "code",
      "execution_count": null,
      "metadata": {
        "colab": {
          "base_uri": "https://localhost:8080/",
          "height": 392
        },
        "id": "mANs0l30U6WW",
        "outputId": "f0733c20-f02d-404c-c633-03d030a1d63b"
      },
      "outputs": [
        {
          "data": {
            "text/html": [
              "<table border=\"1\" class=\"dataframe\">\n",
              "    <thead>\n",
              "        <tr>\n",
              "            <th>Start Station</th> <th>count</th>\n",
              "        </tr>\n",
              "    </thead>\n",
              "    <tbody>\n",
              "        <tr>\n",
              "            <td>San Francisco Caltrain (Townsend at 4th)     </td> <td>25858</td>\n",
              "        </tr>\n",
              "        <tr>\n",
              "            <td>San Francisco Caltrain 2 (330 Townsend)      </td> <td>21523</td>\n",
              "        </tr>\n",
              "        <tr>\n",
              "            <td>Harry Bridges Plaza (Ferry Building)         </td> <td>15543</td>\n",
              "        </tr>\n",
              "        <tr>\n",
              "            <td>Temporary Transbay Terminal (Howard at Beale)</td> <td>14298</td>\n",
              "        </tr>\n",
              "        <tr>\n",
              "            <td>2nd at Townsend                              </td> <td>13674</td>\n",
              "        </tr>\n",
              "        <tr>\n",
              "            <td>Townsend at 7th                              </td> <td>13579</td>\n",
              "        </tr>\n",
              "        <tr>\n",
              "            <td>Steuart at Market                            </td> <td>13215</td>\n",
              "        </tr>\n",
              "        <tr>\n",
              "            <td>Embarcadero at Sansome                       </td> <td>12842</td>\n",
              "        </tr>\n",
              "        <tr>\n",
              "            <td>Market at 10th                               </td> <td>11523</td>\n",
              "        </tr>\n",
              "        <tr>\n",
              "            <td>Market at Sansome                            </td> <td>11023</td>\n",
              "        </tr>\n",
              "    </tbody>\n",
              "</table>\n",
              "<p>... (60 rows omitted)</p>"
            ],
            "text/plain": [
              "Start Station                                 | count\n",
              "San Francisco Caltrain (Townsend at 4th)      | 25858\n",
              "San Francisco Caltrain 2 (330 Townsend)       | 21523\n",
              "Harry Bridges Plaza (Ferry Building)          | 15543\n",
              "Temporary Transbay Terminal (Howard at Beale) | 14298\n",
              "2nd at Townsend                               | 13674\n",
              "Townsend at 7th                               | 13579\n",
              "Steuart at Market                             | 13215\n",
              "Embarcadero at Sansome                        | 12842\n",
              "Market at 10th                                | 11523\n",
              "Market at Sansome                             | 11023\n",
              "... (60 rows omitted)"
            ]
          },
          "execution_count": 20,
          "metadata": {},
          "output_type": "execute_result"
        }
      ],
      "source": [
        "# Most common start station\n",
        "# group finds unique values of the Start Station and gets the count of those\n",
        "starts = commute.group('Start Station').sort('count', descending=True)\n",
        "starts"
      ]
    },
    {
      "cell_type": "markdown",
      "metadata": {
        "id": "H3YSctpodxkm"
      },
      "source": [
        "What could we use to look at trips between stations?"
      ]
    },
    {
      "cell_type": "code",
      "execution_count": null,
      "metadata": {
        "colab": {
          "base_uri": "https://localhost:8080/",
          "height": 392
        },
        "id": "4j2WOyM8d1rT",
        "outputId": "0052cd79-a484-48ac-d4ed-2ad6d8286e8f"
      },
      "outputs": [
        {
          "data": {
            "text/html": [
              "<table border=\"1\" class=\"dataframe\">\n",
              "    <thead>\n",
              "        <tr>\n",
              "            <th>Start Station</th> <th>End Station</th> <th>count</th>\n",
              "        </tr>\n",
              "    </thead>\n",
              "    <tbody>\n",
              "        <tr>\n",
              "            <td>2nd at Folsom</td> <td>2nd at Folsom                    </td> <td>54   </td>\n",
              "        </tr>\n",
              "        <tr>\n",
              "            <td>2nd at Folsom</td> <td>2nd at South Park                </td> <td>295  </td>\n",
              "        </tr>\n",
              "        <tr>\n",
              "            <td>2nd at Folsom</td> <td>2nd at Townsend                  </td> <td>437  </td>\n",
              "        </tr>\n",
              "        <tr>\n",
              "            <td>2nd at Folsom</td> <td>5th at Howard                    </td> <td>113  </td>\n",
              "        </tr>\n",
              "        <tr>\n",
              "            <td>2nd at Folsom</td> <td>Beale at Market                  </td> <td>127  </td>\n",
              "        </tr>\n",
              "        <tr>\n",
              "            <td>2nd at Folsom</td> <td>Broadway St at Battery St        </td> <td>67   </td>\n",
              "        </tr>\n",
              "        <tr>\n",
              "            <td>2nd at Folsom</td> <td>Civic Center BART (7th at Market)</td> <td>47   </td>\n",
              "        </tr>\n",
              "        <tr>\n",
              "            <td>2nd at Folsom</td> <td>Clay at Battery                  </td> <td>240  </td>\n",
              "        </tr>\n",
              "        <tr>\n",
              "            <td>2nd at Folsom</td> <td>Commercial at Montgomery         </td> <td>128  </td>\n",
              "        </tr>\n",
              "        <tr>\n",
              "            <td>2nd at Folsom</td> <td>Davis at Jackson                 </td> <td>28   </td>\n",
              "        </tr>\n",
              "    </tbody>\n",
              "</table>\n",
              "<p>... (1619 rows omitted)</p>"
            ],
            "text/plain": [
              "Start Station | End Station                       | count\n",
              "2nd at Folsom | 2nd at Folsom                     | 54\n",
              "2nd at Folsom | 2nd at South Park                 | 295\n",
              "2nd at Folsom | 2nd at Townsend                   | 437\n",
              "2nd at Folsom | 5th at Howard                     | 113\n",
              "2nd at Folsom | Beale at Market                   | 127\n",
              "2nd at Folsom | Broadway St at Battery St         | 67\n",
              "2nd at Folsom | Civic Center BART (7th at Market) | 47\n",
              "2nd at Folsom | Clay at Battery                   | 240\n",
              "2nd at Folsom | Commercial at Montgomery          | 128\n",
              "2nd at Folsom | Davis at Jackson                  | 28\n",
              "... (1619 rows omitted)"
            ]
          },
          "execution_count": 21,
          "metadata": {},
          "output_type": "execute_result"
        }
      ],
      "source": [
        "# Using group\n",
        "commute.group(['Start Station', 'End Station'])"
      ]
    },
    {
      "cell_type": "code",
      "execution_count": null,
      "metadata": {
        "colab": {
          "base_uri": "https://localhost:8080/",
          "height": 846
        },
        "id": "86ELJSYIU6WW",
        "outputId": "a68291ca-8b02-484d-b73d-974df073b186"
      },
      "outputs": [
        {
          "data": {
            "text/html": [
              "<table border=\"1\" class=\"dataframe\">\n",
              "    <thead>\n",
              "        <tr>\n",
              "            <th>End Station</th> <th>2nd at Folsom</th> <th>2nd at South Park</th> <th>2nd at Townsend</th> <th>5th at Howard</th> <th>Adobe on Almaden</th> <th>Arena Green / SAP Center</th> <th>Beale at Market</th> <th>Broadway St at Battery St</th> <th>California Ave Caltrain Station</th> <th>Castro Street and El Camino Real</th> <th>Civic Center BART (7th at Market)</th> <th>Clay at Battery</th> <th>Commercial at Montgomery</th> <th>Cowper at University</th> <th>Davis at Jackson</th> <th>Embarcadero at Bryant</th> <th>Embarcadero at Folsom</th> <th>Embarcadero at Sansome</th> <th>Embarcadero at Vallejo</th> <th>Evelyn Park and Ride</th> <th>Franklin at Maple</th> <th>Golden Gate at Polk</th> <th>Grant Avenue at Columbus Avenue</th> <th>Harry Bridges Plaza (Ferry Building)</th> <th>Howard at 2nd</th> <th>Japantown</th> <th>MLK Library</th> <th>Market at 10th</th> <th>Market at 4th</th> <th>Market at Sansome</th> <th>Mechanics Plaza (Market at Battery)</th> <th>Mezes Park</th> <th>Mountain View Caltrain Station</th> <th>Mountain View City Hall</th> <th>Palo Alto Caltrain Station</th> <th>Park at Olive</th> <th>Paseo de San Antonio</th> <th>Post at Kearny</th> <th>Powell Street BART</th> <th>Powell at Post (Union Square)</th> <th>Redwood City Caltrain Station</th> <th>Redwood City Medical Center</th> <th>Redwood City Public Library</th> <th>Rengstorff Avenue / California Street</th> <th>Ryland Park</th> <th>SJSU - San Salvador at 9th</th> <th>SJSU 4th at San Carlos</th> <th>San Antonio Caltrain Station</th> <th>San Antonio Shopping Center</th> <th>San Francisco Caltrain (Townsend at 4th)</th> <th>San Francisco Caltrain 2 (330 Townsend)</th> <th>San Francisco City Hall</th> <th>San Jose City Hall</th> <th>San Jose Civic Center</th> <th>San Jose Diridon Caltrain Station</th> <th>San Mateo County Center</th> <th>San Pedro Square</th> <th>San Salvador at 1st</th> <th>Santa Clara County Civic Center</th> <th>Santa Clara at Almaden</th> <th>South Van Ness at Market</th> <th>Spear at Folsom</th> <th>St James Park</th> <th>Stanford in Redwood City</th> <th>Steuart at Market</th> <th>Temporary Transbay Terminal (Howard at Beale)</th> <th>Townsend at 7th</th> <th>University and Emerson</th> <th>Washington at Kearny</th> <th>Yerba Buena Center of the Arts (3rd @ Howard)</th>\n",
              "        </tr>\n",
              "    </thead>\n",
              "    <tbody>\n",
              "        <tr>\n",
              "            <td>2nd at Folsom                   </td> <td>54           </td> <td>190              </td> <td>554            </td> <td>107          </td> <td>0               </td> <td>0                       </td> <td>40             </td> <td>21                       </td> <td>0                              </td> <td>0                               </td> <td>44                               </td> <td>78             </td> <td>54                      </td> <td>0                   </td> <td>9               </td> <td>77                   </td> <td>32                   </td> <td>41                    </td> <td>14                    </td> <td>0                   </td> <td>0                </td> <td>11                 </td> <td>30                             </td> <td>416                                 </td> <td>53           </td> <td>0        </td> <td>0          </td> <td>169           </td> <td>114          </td> <td>302              </td> <td>33                                 </td> <td>0         </td> <td>0                             </td> <td>0                      </td> <td>0                         </td> <td>0            </td> <td>0                   </td> <td>60            </td> <td>121               </td> <td>88                           </td> <td>0                            </td> <td>0                          </td> <td>0                          </td> <td>0                                    </td> <td>0          </td> <td>0                         </td> <td>0                     </td> <td>0                           </td> <td>0                          </td> <td>694                                     </td> <td>445                                    </td> <td>21                     </td> <td>0                 </td> <td>0                    </td> <td>0                                </td> <td>0                      </td> <td>0               </td> <td>0                  </td> <td>0                              </td> <td>0                     </td> <td>38                      </td> <td>57             </td> <td>0            </td> <td>0                       </td> <td>39               </td> <td>237                                          </td> <td>342            </td> <td>0                     </td> <td>17                  </td> <td>31                                           </td>\n",
              "        </tr>\n",
              "        <tr>\n",
              "            <td>2nd at South Park               </td> <td>295          </td> <td>164              </td> <td>71             </td> <td>180          </td> <td>0               </td> <td>0                       </td> <td>208            </td> <td>85                       </td> <td>0                              </td> <td>0                               </td> <td>112                              </td> <td>87             </td> <td>160                     </td> <td>0                   </td> <td>37              </td> <td>56                   </td> <td>178                  </td> <td>83                    </td> <td>116                   </td> <td>0                   </td> <td>0                </td> <td>57                 </td> <td>73                             </td> <td>574                                 </td> <td>500          </td> <td>0        </td> <td>0          </td> <td>139           </td> <td>199          </td> <td>1633             </td> <td>119                                </td> <td>0         </td> <td>0                             </td> <td>0                      </td> <td>0                         </td> <td>0            </td> <td>0                   </td> <td>299           </td> <td>84                </td> <td>113                          </td> <td>0                            </td> <td>0                          </td> <td>0                          </td> <td>0                                    </td> <td>0          </td> <td>0                         </td> <td>0                     </td> <td>0                           </td> <td>0                          </td> <td>559                                     </td> <td>480                                    </td> <td>48                     </td> <td>0                 </td> <td>0                    </td> <td>0                                </td> <td>0                      </td> <td>0               </td> <td>0                  </td> <td>0                              </td> <td>0                     </td> <td>66                      </td> <td>152            </td> <td>0            </td> <td>0                       </td> <td>374              </td> <td>429                                          </td> <td>143            </td> <td>0                     </td> <td>63                  </td> <td>209                                          </td>\n",
              "        </tr>\n",
              "        <tr>\n",
              "            <td>2nd at Townsend                 </td> <td>437          </td> <td>151              </td> <td>185            </td> <td>92           </td> <td>0               </td> <td>0                       </td> <td>608            </td> <td>350                      </td> <td>0                              </td> <td>0                               </td> <td>80                               </td> <td>329            </td> <td>168                     </td> <td>0                   </td> <td>386             </td> <td>361                  </td> <td>658                  </td> <td>506                   </td> <td>254                   </td> <td>0                   </td> <td>0                </td> <td>27                 </td> <td>315                            </td> <td>2607                                </td> <td>295          </td> <td>0        </td> <td>0          </td> <td>110           </td> <td>225          </td> <td>845              </td> <td>177                                </td> <td>0         </td> <td>0                             </td> <td>0                      </td> <td>0                         </td> <td>0            </td> <td>0                   </td> <td>120           </td> <td>100               </td> <td>141                          </td> <td>0                            </td> <td>0                          </td> <td>0                          </td> <td>0                                    </td> <td>0          </td> <td>0                         </td> <td>0                     </td> <td>0                           </td> <td>0                          </td> <td>905                                     </td> <td>299                                    </td> <td>14                     </td> <td>0                 </td> <td>0                    </td> <td>0                                </td> <td>0                      </td> <td>0               </td> <td>0                  </td> <td>0                              </td> <td>0                     </td> <td>72                      </td> <td>508            </td> <td>0            </td> <td>0                       </td> <td>2349             </td> <td>784                                          </td> <td>417            </td> <td>0                     </td> <td>57                  </td> <td>166                                          </td>\n",
              "        </tr>\n",
              "        <tr>\n",
              "            <td>5th at Howard                   </td> <td>113          </td> <td>177              </td> <td>148            </td> <td>83           </td> <td>0               </td> <td>0                       </td> <td>59             </td> <td>130                      </td> <td>0                              </td> <td>0                               </td> <td>203                              </td> <td>76             </td> <td>129                     </td> <td>0                   </td> <td>30              </td> <td>57                   </td> <td>49                   </td> <td>166                   </td> <td>54                    </td> <td>0                   </td> <td>0                </td> <td>85                 </td> <td>78                             </td> <td>371                                 </td> <td>478          </td> <td>0        </td> <td>0          </td> <td>303           </td> <td>158          </td> <td>168              </td> <td>90                                 </td> <td>0         </td> <td>0                             </td> <td>0                      </td> <td>0                         </td> <td>0            </td> <td>0                   </td> <td>93            </td> <td>183               </td> <td>169                          </td> <td>0                            </td> <td>0                          </td> <td>0                          </td> <td>0                                    </td> <td>0          </td> <td>0                         </td> <td>0                     </td> <td>0                           </td> <td>0                          </td> <td>690                                     </td> <td>1859                                   </td> <td>48                     </td> <td>0                 </td> <td>0                    </td> <td>0                                </td> <td>0                      </td> <td>0               </td> <td>0                  </td> <td>0                              </td> <td>0                     </td> <td>116                     </td> <td>102            </td> <td>0            </td> <td>0                       </td> <td>182              </td> <td>750                                          </td> <td>200            </td> <td>0                     </td> <td>43                  </td> <td>267                                          </td>\n",
              "        </tr>\n",
              "        <tr>\n",
              "            <td>Adobe on Almaden                </td> <td>0            </td> <td>0                </td> <td>0              </td> <td>0            </td> <td>11              </td> <td>4                       </td> <td>0              </td> <td>0                        </td> <td>0                              </td> <td>0                               </td> <td>0                                </td> <td>0              </td> <td>0                       </td> <td>0                   </td> <td>0               </td> <td>0                    </td> <td>0                    </td> <td>0                     </td> <td>0                     </td> <td>0                   </td> <td>0                </td> <td>0                  </td> <td>0                              </td> <td>0                                   </td> <td>0            </td> <td>17       </td> <td>7          </td> <td>0             </td> <td>0            </td> <td>0                </td> <td>0                                  </td> <td>0         </td> <td>0                             </td> <td>0                      </td> <td>0                         </td> <td>0            </td> <td>25                  </td> <td>0             </td> <td>0                 </td> <td>0                            </td> <td>0                            </td> <td>0                          </td> <td>0                          </td> <td>0                                    </td> <td>7          </td> <td>7                         </td> <td>16                    </td> <td>0                           </td> <td>0                          </td> <td>0                                       </td> <td>0                                      </td> <td>0                      </td> <td>19                </td> <td>23                   </td> <td>265                              </td> <td>0                      </td> <td>20              </td> <td>4                  </td> <td>5                              </td> <td>10                    </td> <td>0                       </td> <td>0              </td> <td>14           </td> <td>0                       </td> <td>0                </td> <td>0                                            </td> <td>0              </td> <td>0                     </td> <td>0                   </td> <td>0                                            </td>\n",
              "        </tr>\n",
              "        <tr>\n",
              "            <td>Arena Green / SAP Center        </td> <td>0            </td> <td>0                </td> <td>0              </td> <td>0            </td> <td>7               </td> <td>64                      </td> <td>0              </td> <td>0                        </td> <td>0                              </td> <td>0                               </td> <td>0                                </td> <td>0              </td> <td>0                       </td> <td>0                   </td> <td>0               </td> <td>0                    </td> <td>0                    </td> <td>0                     </td> <td>0                     </td> <td>0                   </td> <td>0                </td> <td>0                  </td> <td>0                              </td> <td>0                                   </td> <td>0            </td> <td>16       </td> <td>5          </td> <td>0             </td> <td>0            </td> <td>0                </td> <td>0                                  </td> <td>0         </td> <td>0                             </td> <td>0                      </td> <td>0                         </td> <td>0            </td> <td>21                  </td> <td>0             </td> <td>0                 </td> <td>0                            </td> <td>0                            </td> <td>0                          </td> <td>0                          </td> <td>0                                    </td> <td>24         </td> <td>3                         </td> <td>7                     </td> <td>0                           </td> <td>0                          </td> <td>0                                       </td> <td>0                                      </td> <td>0                      </td> <td>6                 </td> <td>20                   </td> <td>7                                </td> <td>0                      </td> <td>56              </td> <td>12                 </td> <td>38                             </td> <td>259                   </td> <td>0                       </td> <td>0              </td> <td>13           </td> <td>0                       </td> <td>0                </td> <td>0                                            </td> <td>0              </td> <td>0                     </td> <td>0                   </td> <td>0                                            </td>\n",
              "        </tr>\n",
              "        <tr>\n",
              "            <td>Beale at Market                 </td> <td>127          </td> <td>79               </td> <td>183            </td> <td>59           </td> <td>0               </td> <td>0                       </td> <td>59             </td> <td>661                      </td> <td>0                              </td> <td>0                               </td> <td>201                              </td> <td>75             </td> <td>101                     </td> <td>0                   </td> <td>247             </td> <td>178                  </td> <td>38                   </td> <td>590                   </td> <td>165                   </td> <td>0                   </td> <td>0                </td> <td>54                 </td> <td>435                            </td> <td>57                                  </td> <td>72           </td> <td>0        </td> <td>0          </td> <td>286           </td> <td>236          </td> <td>163              </td> <td>26                                 </td> <td>0         </td> <td>0                             </td> <td>0                      </td> <td>0                         </td> <td>0            </td> <td>0                   </td> <td>49            </td> <td>227               </td> <td>179                          </td> <td>0                            </td> <td>0                          </td> <td>0                          </td> <td>0                                    </td> <td>0          </td> <td>0                         </td> <td>0                     </td> <td>0                           </td> <td>0                          </td> <td>640                                     </td> <td>269                                    </td> <td>25                     </td> <td>0                 </td> <td>0                    </td> <td>0                                </td> <td>0                      </td> <td>0               </td> <td>0                  </td> <td>0                              </td> <td>0                     </td> <td>243                     </td> <td>128            </td> <td>0            </td> <td>0                       </td> <td>16               </td> <td>167                                          </td> <td>35             </td> <td>0                     </td> <td>64                  </td> <td>45                                           </td>\n",
              "        </tr>\n",
              "        <tr>\n",
              "            <td>Broadway St at Battery St       </td> <td>67           </td> <td>89               </td> <td>279            </td> <td>119          </td> <td>0               </td> <td>0                       </td> <td>1022           </td> <td>110                      </td> <td>0                              </td> <td>0                               </td> <td>62                               </td> <td>283            </td> <td>226                     </td> <td>0                   </td> <td>191             </td> <td>198                  </td> <td>79                   </td> <td>231                   </td> <td>35                    </td> <td>0                   </td> <td>0                </td> <td>5                  </td> <td>70                             </td> <td>168                                 </td> <td>49           </td> <td>0        </td> <td>0          </td> <td>32            </td> <td>97           </td> <td>341              </td> <td>214                                </td> <td>0         </td> <td>0                             </td> <td>0                      </td> <td>0                         </td> <td>0            </td> <td>0                   </td> <td>169           </td> <td>71                </td> <td>218                          </td> <td>0                            </td> <td>0                          </td> <td>0                          </td> <td>0                                    </td> <td>0          </td> <td>0                         </td> <td>0                     </td> <td>0                           </td> <td>0                          </td> <td>685                                     </td> <td>438                                    </td> <td>7                      </td> <td>0                 </td> <td>0                    </td> <td>0                                </td> <td>0                      </td> <td>0               </td> <td>0                  </td> <td>0                              </td> <td>0                     </td> <td>18                      </td> <td>106            </td> <td>0            </td> <td>0                       </td> <td>344              </td> <td>748                                          </td> <td>50             </td> <td>0                     </td> <td>79                  </td> <td>47                                           </td>\n",
              "        </tr>\n",
              "        <tr>\n",
              "            <td>California Ave Caltrain Station </td> <td>0            </td> <td>0                </td> <td>0              </td> <td>0            </td> <td>0               </td> <td>0                       </td> <td>0              </td> <td>0                        </td> <td>38                             </td> <td>1                               </td> <td>0                                </td> <td>0              </td> <td>0                       </td> <td>29                  </td> <td>0               </td> <td>0                    </td> <td>0                    </td> <td>0                     </td> <td>0                     </td> <td>0                   </td> <td>0                </td> <td>0                  </td> <td>0                              </td> <td>0                                   </td> <td>0            </td> <td>0        </td> <td>0          </td> <td>0             </td> <td>0            </td> <td>0                </td> <td>0                                  </td> <td>0         </td> <td>1                             </td> <td>0                      </td> <td>192                       </td> <td>40           </td> <td>0                   </td> <td>0             </td> <td>0                 </td> <td>0                            </td> <td>0                            </td> <td>0                          </td> <td>0                          </td> <td>6                                    </td> <td>0          </td> <td>0                         </td> <td>0                     </td> <td>17                          </td> <td>10                         </td> <td>0                                       </td> <td>0                                      </td> <td>0                      </td> <td>0                 </td> <td>0                    </td> <td>0                                </td> <td>0                      </td> <td>0               </td> <td>0                  </td> <td>0                              </td> <td>0                     </td> <td>0                       </td> <td>0              </td> <td>0            </td> <td>0                       </td> <td>0                </td> <td>0                                            </td> <td>0              </td> <td>57                    </td> <td>0                   </td> <td>0                                            </td>\n",
              "        </tr>\n",
              "        <tr>\n",
              "            <td>Castro Street and El Camino Real</td> <td>0            </td> <td>0                </td> <td>0              </td> <td>0            </td> <td>0               </td> <td>0                       </td> <td>0              </td> <td>0                        </td> <td>0                              </td> <td>30                              </td> <td>0                                </td> <td>0              </td> <td>0                       </td> <td>0                   </td> <td>0               </td> <td>0                    </td> <td>0                    </td> <td>0                     </td> <td>0                     </td> <td>14                  </td> <td>0                </td> <td>0                  </td> <td>0                              </td> <td>0                                   </td> <td>0            </td> <td>0        </td> <td>0          </td> <td>0             </td> <td>0            </td> <td>0                </td> <td>0                                  </td> <td>0         </td> <td>931                           </td> <td>34                     </td> <td>0                         </td> <td>0            </td> <td>0                   </td> <td>0             </td> <td>0                 </td> <td>0                            </td> <td>0                            </td> <td>0                          </td> <td>0                          </td> <td>7                                    </td> <td>0          </td> <td>0                         </td> <td>0                     </td> <td>4                           </td> <td>12                         </td> <td>0                                       </td> <td>0                                      </td> <td>0                      </td> <td>0                 </td> <td>0                    </td> <td>0                                </td> <td>0                      </td> <td>0               </td> <td>0                  </td> <td>0                              </td> <td>0                     </td> <td>0                       </td> <td>0              </td> <td>0            </td> <td>0                       </td> <td>0                </td> <td>0                                            </td> <td>0              </td> <td>0                     </td> <td>0                   </td> <td>0                                            </td>\n",
              "        </tr>\n",
              "    </tbody>\n",
              "</table>\n",
              "<p>... (60 rows omitted)</p>"
            ],
            "text/plain": [
              "End Station                      | 2nd at Folsom | 2nd at South Park | 2nd at Townsend | 5th at Howard | Adobe on Almaden | Arena Green / SAP Center | Beale at Market | Broadway St at Battery St | California Ave Caltrain Station | Castro Street and El Camino Real | Civic Center BART (7th at Market) | Clay at Battery | Commercial at Montgomery | Cowper at University | Davis at Jackson | Embarcadero at Bryant | Embarcadero at Folsom | Embarcadero at Sansome | Embarcadero at Vallejo | Evelyn Park and Ride | Franklin at Maple | Golden Gate at Polk | Grant Avenue at Columbus Avenue | Harry Bridges Plaza (Ferry Building) | Howard at 2nd | Japantown | MLK Library | Market at 10th | Market at 4th | Market at Sansome | Mechanics Plaza (Market at Battery) | Mezes Park | Mountain View Caltrain Station | Mountain View City Hall | Palo Alto Caltrain Station | Park at Olive | Paseo de San Antonio | Post at Kearny | Powell Street BART | Powell at Post (Union Square) | Redwood City Caltrain Station | Redwood City Medical Center | Redwood City Public Library | Rengstorff Avenue / California Street | Ryland Park | SJSU - San Salvador at 9th | SJSU 4th at San Carlos | San Antonio Caltrain Station | San Antonio Shopping Center | San Francisco Caltrain (Townsend at 4th) | San Francisco Caltrain 2 (330 Townsend) | San Francisco City Hall | San Jose City Hall | San Jose Civic Center | San Jose Diridon Caltrain Station | San Mateo County Center | San Pedro Square | San Salvador at 1st | Santa Clara County Civic Center | Santa Clara at Almaden | South Van Ness at Market | Spear at Folsom | St James Park | Stanford in Redwood City | Steuart at Market | Temporary Transbay Terminal (Howard at Beale) | Townsend at 7th | University and Emerson | Washington at Kearny | Yerba Buena Center of the Arts (3rd @ Howard)\n",
              "2nd at Folsom                    | 54            | 190               | 554             | 107           | 0                | 0                        | 40              | 21                        | 0                               | 0                                | 44                                | 78              | 54                       | 0                    | 9                | 77                    | 32                    | 41                     | 14                     | 0                    | 0                 | 11                  | 30                              | 416                                  | 53            | 0         | 0           | 169            | 114           | 302               | 33                                  | 0          | 0                              | 0                       | 0                          | 0             | 0                    | 60             | 121                | 88                            | 0                             | 0                           | 0                           | 0                                     | 0           | 0                          | 0                      | 0                            | 0                           | 694                                      | 445                                     | 21                      | 0                  | 0                     | 0                                 | 0                       | 0                | 0                   | 0                               | 0                      | 38                       | 57              | 0             | 0                        | 39                | 237                                           | 342             | 0                      | 17                   | 31\n",
              "2nd at South Park                | 295           | 164               | 71              | 180           | 0                | 0                        | 208             | 85                        | 0                               | 0                                | 112                               | 87              | 160                      | 0                    | 37               | 56                    | 178                   | 83                     | 116                    | 0                    | 0                 | 57                  | 73                              | 574                                  | 500           | 0         | 0           | 139            | 199           | 1633              | 119                                 | 0          | 0                              | 0                       | 0                          | 0             | 0                    | 299            | 84                 | 113                           | 0                             | 0                           | 0                           | 0                                     | 0           | 0                          | 0                      | 0                            | 0                           | 559                                      | 480                                     | 48                      | 0                  | 0                     | 0                                 | 0                       | 0                | 0                   | 0                               | 0                      | 66                       | 152             | 0             | 0                        | 374               | 429                                           | 143             | 0                      | 63                   | 209\n",
              "2nd at Townsend                  | 437           | 151               | 185             | 92            | 0                | 0                        | 608             | 350                       | 0                               | 0                                | 80                                | 329             | 168                      | 0                    | 386              | 361                   | 658                   | 506                    | 254                    | 0                    | 0                 | 27                  | 315                             | 2607                                 | 295           | 0         | 0           | 110            | 225           | 845               | 177                                 | 0          | 0                              | 0                       | 0                          | 0             | 0                    | 120            | 100                | 141                           | 0                             | 0                           | 0                           | 0                                     | 0           | 0                          | 0                      | 0                            | 0                           | 905                                      | 299                                     | 14                      | 0                  | 0                     | 0                                 | 0                       | 0                | 0                   | 0                               | 0                      | 72                       | 508             | 0             | 0                        | 2349              | 784                                           | 417             | 0                      | 57                   | 166\n",
              "5th at Howard                    | 113           | 177               | 148             | 83            | 0                | 0                        | 59              | 130                       | 0                               | 0                                | 203                               | 76              | 129                      | 0                    | 30               | 57                    | 49                    | 166                    | 54                     | 0                    | 0                 | 85                  | 78                              | 371                                  | 478           | 0         | 0           | 303            | 158           | 168               | 90                                  | 0          | 0                              | 0                       | 0                          | 0             | 0                    | 93             | 183                | 169                           | 0                             | 0                           | 0                           | 0                                     | 0           | 0                          | 0                      | 0                            | 0                           | 690                                      | 1859                                    | 48                      | 0                  | 0                     | 0                                 | 0                       | 0                | 0                   | 0                               | 0                      | 116                      | 102             | 0             | 0                        | 182               | 750                                           | 200             | 0                      | 43                   | 267\n",
              "Adobe on Almaden                 | 0             | 0                 | 0               | 0             | 11               | 4                        | 0               | 0                         | 0                               | 0                                | 0                                 | 0               | 0                        | 0                    | 0                | 0                     | 0                     | 0                      | 0                      | 0                    | 0                 | 0                   | 0                               | 0                                    | 0             | 17        | 7           | 0              | 0             | 0                 | 0                                   | 0          | 0                              | 0                       | 0                          | 0             | 25                   | 0              | 0                  | 0                             | 0                             | 0                           | 0                           | 0                                     | 7           | 7                          | 16                     | 0                            | 0                           | 0                                        | 0                                       | 0                       | 19                 | 23                    | 265                               | 0                       | 20               | 4                   | 5                               | 10                     | 0                        | 0               | 14            | 0                        | 0                 | 0                                             | 0               | 0                      | 0                    | 0\n",
              "Arena Green / SAP Center         | 0             | 0                 | 0               | 0             | 7                | 64                       | 0               | 0                         | 0                               | 0                                | 0                                 | 0               | 0                        | 0                    | 0                | 0                     | 0                     | 0                      | 0                      | 0                    | 0                 | 0                   | 0                               | 0                                    | 0             | 16        | 5           | 0              | 0             | 0                 | 0                                   | 0          | 0                              | 0                       | 0                          | 0             | 21                   | 0              | 0                  | 0                             | 0                             | 0                           | 0                           | 0                                     | 24          | 3                          | 7                      | 0                            | 0                           | 0                                        | 0                                       | 0                       | 6                  | 20                    | 7                                 | 0                       | 56               | 12                  | 38                              | 259                    | 0                        | 0               | 13            | 0                        | 0                 | 0                                             | 0               | 0                      | 0                    | 0\n",
              "Beale at Market                  | 127           | 79                | 183             | 59            | 0                | 0                        | 59              | 661                       | 0                               | 0                                | 201                               | 75              | 101                      | 0                    | 247              | 178                   | 38                    | 590                    | 165                    | 0                    | 0                 | 54                  | 435                             | 57                                   | 72            | 0         | 0           | 286            | 236           | 163               | 26                                  | 0          | 0                              | 0                       | 0                          | 0             | 0                    | 49             | 227                | 179                           | 0                             | 0                           | 0                           | 0                                     | 0           | 0                          | 0                      | 0                            | 0                           | 640                                      | 269                                     | 25                      | 0                  | 0                     | 0                                 | 0                       | 0                | 0                   | 0                               | 0                      | 243                      | 128             | 0             | 0                        | 16                | 167                                           | 35              | 0                      | 64                   | 45\n",
              "Broadway St at Battery St        | 67            | 89                | 279             | 119           | 0                | 0                        | 1022            | 110                       | 0                               | 0                                | 62                                | 283             | 226                      | 0                    | 191              | 198                   | 79                    | 231                    | 35                     | 0                    | 0                 | 5                   | 70                              | 168                                  | 49            | 0         | 0           | 32             | 97            | 341               | 214                                 | 0          | 0                              | 0                       | 0                          | 0             | 0                    | 169            | 71                 | 218                           | 0                             | 0                           | 0                           | 0                                     | 0           | 0                          | 0                      | 0                            | 0                           | 685                                      | 438                                     | 7                       | 0                  | 0                     | 0                                 | 0                       | 0                | 0                   | 0                               | 0                      | 18                       | 106             | 0             | 0                        | 344               | 748                                           | 50              | 0                      | 79                   | 47\n",
              "California Ave Caltrain Station  | 0             | 0                 | 0               | 0             | 0                | 0                        | 0               | 0                         | 38                              | 1                                | 0                                 | 0               | 0                        | 29                   | 0                | 0                     | 0                     | 0                      | 0                      | 0                    | 0                 | 0                   | 0                               | 0                                    | 0             | 0         | 0           | 0              | 0             | 0                 | 0                                   | 0          | 1                              | 0                       | 192                        | 40            | 0                    | 0              | 0                  | 0                             | 0                             | 0                           | 0                           | 6                                     | 0           | 0                          | 0                      | 17                           | 10                          | 0                                        | 0                                       | 0                       | 0                  | 0                     | 0                                 | 0                       | 0                | 0                   | 0                               | 0                      | 0                        | 0               | 0             | 0                        | 0                 | 0                                             | 0               | 57                     | 0                    | 0\n",
              "Castro Street and El Camino Real | 0             | 0                 | 0               | 0             | 0                | 0                        | 0               | 0                         | 0                               | 30                               | 0                                 | 0               | 0                        | 0                    | 0                | 0                     | 0                     | 0                      | 0                      | 14                   | 0                 | 0                   | 0                               | 0                                    | 0             | 0         | 0           | 0              | 0             | 0                 | 0                                   | 0          | 931                            | 34                      | 0                          | 0             | 0                    | 0              | 0                  | 0                             | 0                             | 0                           | 0                           | 7                                     | 0           | 0                          | 0                      | 4                            | 12                          | 0                                        | 0                                       | 0                       | 0                  | 0                     | 0                                 | 0                       | 0                | 0                   | 0                               | 0                      | 0                        | 0               | 0             | 0                        | 0                 | 0                                             | 0               | 0                      | 0                    | 0\n",
              "... (60 rows omitted)"
            ]
          },
          "execution_count": 22,
          "metadata": {},
          "output_type": "execute_result"
        }
      ],
      "source": [
        "# Using pivot\n",
        "\n",
        "commute.pivot('Start Station', 'End Station')"
      ]
    },
    {
      "cell_type": "markdown",
      "metadata": {
        "id": "QNmMB8LgeTfl"
      },
      "source": [
        "Why are there so many zeros? Anything you remember about what portion of the dataset we are using?"
      ]
    },
    {
      "cell_type": "markdown",
      "metadata": {
        "id": "YL9x6eKIee9g"
      },
      "source": [
        "Let's look at the average duration for the combination of the stations?"
      ]
    },
    {
      "cell_type": "code",
      "execution_count": null,
      "metadata": {
        "colab": {
          "base_uri": "https://localhost:8080/",
          "height": 846
        },
        "id": "xP4dR_dfU6WW",
        "outputId": "a0f6b2a7-c28e-4da0-cce3-c655fbe1bc6b"
      },
      "outputs": [
        {
          "data": {
            "text/html": [
              "<table border=\"1\" class=\"dataframe\">\n",
              "    <thead>\n",
              "        <tr>\n",
              "            <th>End Station</th> <th>2nd at Folsom</th> <th>2nd at South Park</th> <th>2nd at Townsend</th> <th>5th at Howard</th> <th>Adobe on Almaden</th> <th>Arena Green / SAP Center</th> <th>Beale at Market</th> <th>Broadway St at Battery St</th> <th>California Ave Caltrain Station</th> <th>Castro Street and El Camino Real</th> <th>Civic Center BART (7th at Market)</th> <th>Clay at Battery</th> <th>Commercial at Montgomery</th> <th>Cowper at University</th> <th>Davis at Jackson</th> <th>Embarcadero at Bryant</th> <th>Embarcadero at Folsom</th> <th>Embarcadero at Sansome</th> <th>Embarcadero at Vallejo</th> <th>Evelyn Park and Ride</th> <th>Franklin at Maple</th> <th>Golden Gate at Polk</th> <th>Grant Avenue at Columbus Avenue</th> <th>Harry Bridges Plaza (Ferry Building)</th> <th>Howard at 2nd</th> <th>Japantown</th> <th>MLK Library</th> <th>Market at 10th</th> <th>Market at 4th</th> <th>Market at Sansome</th> <th>Mechanics Plaza (Market at Battery)</th> <th>Mezes Park</th> <th>Mountain View Caltrain Station</th> <th>Mountain View City Hall</th> <th>Palo Alto Caltrain Station</th> <th>Park at Olive</th> <th>Paseo de San Antonio</th> <th>Post at Kearny</th> <th>Powell Street BART</th> <th>Powell at Post (Union Square)</th> <th>Redwood City Caltrain Station</th> <th>Redwood City Medical Center</th> <th>Redwood City Public Library</th> <th>Rengstorff Avenue / California Street</th> <th>Ryland Park</th> <th>SJSU - San Salvador at 9th</th> <th>SJSU 4th at San Carlos</th> <th>San Antonio Caltrain Station</th> <th>San Antonio Shopping Center</th> <th>San Francisco Caltrain (Townsend at 4th)</th> <th>San Francisco Caltrain 2 (330 Townsend)</th> <th>San Francisco City Hall</th> <th>San Jose City Hall</th> <th>San Jose Civic Center</th> <th>San Jose Diridon Caltrain Station</th> <th>San Mateo County Center</th> <th>San Pedro Square</th> <th>San Salvador at 1st</th> <th>Santa Clara County Civic Center</th> <th>Santa Clara at Almaden</th> <th>South Van Ness at Market</th> <th>Spear at Folsom</th> <th>St James Park</th> <th>Stanford in Redwood City</th> <th>Steuart at Market</th> <th>Temporary Transbay Terminal (Howard at Beale)</th> <th>Townsend at 7th</th> <th>University and Emerson</th> <th>Washington at Kearny</th> <th>Yerba Buena Center of the Arts (3rd @ Howard)</th>\n",
              "        </tr>\n",
              "    </thead>\n",
              "    <tbody>\n",
              "        <tr>\n",
              "            <td>2nd at Folsom                   </td> <td>702.13       </td> <td>253.874          </td> <td>309.087        </td> <td>418.065      </td> <td>0               </td> <td>0                       </td> <td>424.15         </td> <td>740.714                  </td> <td>0                              </td> <td>0                               </td> <td>668.886                          </td> <td>516.897        </td> <td>495.519                 </td> <td>0                   </td> <td>862.889         </td> <td>388.117              </td> <td>493.469              </td> <td>1114.71               </td> <td>818.429               </td> <td>0                   </td> <td>0                </td> <td>825                </td> <td>662.933                        </td> <td>500.44                              </td> <td>254.245      </td> <td>0        </td> <td>0          </td> <td>728.627       </td> <td>435.947      </td> <td>291.076          </td> <td>378.576                            </td> <td>0         </td> <td>0                             </td> <td>0                      </td> <td>0                         </td> <td>0            </td> <td>0                   </td> <td>380.083       </td> <td>541.926           </td> <td>518.011                      </td> <td>0                            </td> <td>0                          </td> <td>0                          </td> <td>0                                    </td> <td>0          </td> <td>0                         </td> <td>0                     </td> <td>0                           </td> <td>0                          </td> <td>469.137                                 </td> <td>484.382                                </td> <td>1037                   </td> <td>0                 </td> <td>0                    </td> <td>0                                </td> <td>0                      </td> <td>0               </td> <td>0                  </td> <td>0                              </td> <td>0                     </td> <td>836.684                 </td> <td>365.579        </td> <td>0            </td> <td>0                       </td> <td>575.923          </td> <td>250.553                                      </td> <td>646.038        </td> <td>0                     </td> <td>617                 </td> <td>386.032                                      </td>\n",
              "        </tr>\n",
              "        <tr>\n",
              "            <td>2nd at South Park               </td> <td>196.085      </td> <td>618.116          </td> <td>237.366        </td> <td>507.394      </td> <td>0               </td> <td>0                       </td> <td>450.279        </td> <td>715.247                  </td> <td>0                              </td> <td>0                               </td> <td>900.679                          </td> <td>589.368        </td> <td>612.456                 </td> <td>0                   </td> <td>640.081         </td> <td>317.625              </td> <td>404.27               </td> <td>940.253               </td> <td>648.948               </td> <td>0                   </td> <td>0                </td> <td>732.632            </td> <td>815.671                        </td> <td>501.608                             </td> <td>230.486      </td> <td>0        </td> <td>0          </td> <td>834.396       </td> <td>513.307      </td> <td>323.982          </td> <td>423.605                            </td> <td>0         </td> <td>0                             </td> <td>0                      </td> <td>0                         </td> <td>0            </td> <td>0                   </td> <td>328.813       </td> <td>616.429           </td> <td>567.77                       </td> <td>0                            </td> <td>0                          </td> <td>0                          </td> <td>0                                    </td> <td>0          </td> <td>0                         </td> <td>0                     </td> <td>0                           </td> <td>0                          </td> <td>281.635                                 </td> <td>349.079                                </td> <td>780.958                </td> <td>0                 </td> <td>0                    </td> <td>0                                </td> <td>0                      </td> <td>0               </td> <td>0                  </td> <td>0                              </td> <td>0                     </td> <td>831.879                 </td> <td>359.105        </td> <td>0            </td> <td>0                       </td> <td>490.479          </td> <td>356.287                                      </td> <td>473.056        </td> <td>0                     </td> <td>722.063             </td> <td>395.474                                      </td>\n",
              "        </tr>\n",
              "        <tr>\n",
              "            <td>2nd at Townsend                 </td> <td>293.874      </td> <td>281.344          </td> <td>787.314        </td> <td>655.196      </td> <td>0               </td> <td>0                       </td> <td>531.243        </td> <td>759.451                  </td> <td>0                              </td> <td>0                               </td> <td>846.888                          </td> <td>773.72         </td> <td>803.345                 </td> <td>0                   </td> <td>691.054         </td> <td>363.294              </td> <td>465.685              </td> <td>926.796               </td> <td>819.772               </td> <td>0                   </td> <td>0                </td> <td>1070.59            </td> <td>919.073                        </td> <td>609.987                             </td> <td>371.105      </td> <td>0        </td> <td>0          </td> <td>877.591       </td> <td>731.92       </td> <td>506.895          </td> <td>673.452                            </td> <td>0         </td> <td>0                             </td> <td>0                      </td> <td>0                         </td> <td>0            </td> <td>0                   </td> <td>666.625       </td> <td>865.7             </td> <td>776.333                      </td> <td>0                            </td> <td>0                          </td> <td>0                          </td> <td>0                                    </td> <td>0          </td> <td>0                         </td> <td>0                     </td> <td>0                           </td> <td>0                          </td> <td>262.334                                 </td> <td>310.047                                </td> <td>985.214                </td> <td>0                 </td> <td>0                    </td> <td>0                                </td> <td>0                      </td> <td>0               </td> <td>0                  </td> <td>0                              </td> <td>0                     </td> <td>1102.06                 </td> <td>404.522        </td> <td>0            </td> <td>0                       </td> <td>543.83           </td> <td>420.519                                      </td> <td>480.285        </td> <td>0                     </td> <td>1092.67             </td> <td>585.169                                      </td>\n",
              "        </tr>\n",
              "        <tr>\n",
              "            <td>5th at Howard                   </td> <td>381.274      </td> <td>573.729          </td> <td>613.514        </td> <td>718.096      </td> <td>0               </td> <td>0                       </td> <td>611.797        </td> <td>808.077                  </td> <td>0                              </td> <td>0                               </td> <td>379.35                           </td> <td>668.697        </td> <td>542.512                 </td> <td>0                   </td> <td>730.4           </td> <td>666.965              </td> <td>613.49               </td> <td>1056.59               </td> <td>952.167               </td> <td>0                   </td> <td>0                </td> <td>469.741            </td> <td>834.692                        </td> <td>676.55                              </td> <td>281.975      </td> <td>0        </td> <td>0          </td> <td>449.548       </td> <td>295.297      </td> <td>414.857          </td> <td>545.6                              </td> <td>0         </td> <td>0                             </td> <td>0                      </td> <td>0                         </td> <td>0            </td> <td>0                   </td> <td>410.043       </td> <td>255.956           </td> <td>357.799                      </td> <td>0                            </td> <td>0                          </td> <td>0                          </td> <td>0                                    </td> <td>0          </td> <td>0                         </td> <td>0                     </td> <td>0                           </td> <td>0                          </td> <td>434.022                                 </td> <td>386.263                                </td> <td>605.708                </td> <td>0                 </td> <td>0                    </td> <td>0                                </td> <td>0                      </td> <td>0               </td> <td>0                  </td> <td>0                              </td> <td>0                     </td> <td>553.362                 </td> <td>584.98         </td> <td>0            </td> <td>0                       </td> <td>662.308          </td> <td>406.225                                      </td> <td>546.84         </td> <td>0                     </td> <td>972.07              </td> <td>206.704                                      </td>\n",
              "        </tr>\n",
              "        <tr>\n",
              "            <td>Adobe on Almaden                </td> <td>0            </td> <td>0                </td> <td>0              </td> <td>0            </td> <td>462             </td> <td>583.5                   </td> <td>0              </td> <td>0                        </td> <td>0                              </td> <td>0                               </td> <td>0                                </td> <td>0              </td> <td>0                       </td> <td>0                   </td> <td>0               </td> <td>0                    </td> <td>0                    </td> <td>0                     </td> <td>0                     </td> <td>0                   </td> <td>0                </td> <td>0                  </td> <td>0                              </td> <td>0                                   </td> <td>0            </td> <td>942.176  </td> <td>616        </td> <td>0             </td> <td>0            </td> <td>0                </td> <td>0                                  </td> <td>0         </td> <td>0                             </td> <td>0                      </td> <td>0                         </td> <td>0            </td> <td>463.92              </td> <td>0             </td> <td>0                 </td> <td>0                            </td> <td>0                            </td> <td>0                          </td> <td>0                          </td> <td>0                                    </td> <td>639.857    </td> <td>858.571                   </td> <td>534.438               </td> <td>0                           </td> <td>0                          </td> <td>0                                       </td> <td>0                                      </td> <td>0                      </td> <td>546.316           </td> <td>399.435              </td> <td>292.702                          </td> <td>0                      </td> <td>360.4           </td> <td>684                </td> <td>1164.4                         </td> <td>251.9                 </td> <td>0                       </td> <td>0              </td> <td>516.857      </td> <td>0                       </td> <td>0                </td> <td>0                                            </td> <td>0              </td> <td>0                     </td> <td>0                   </td> <td>0                                            </td>\n",
              "        </tr>\n",
              "        <tr>\n",
              "            <td>Arena Green / SAP Center        </td> <td>0            </td> <td>0                </td> <td>0              </td> <td>0            </td> <td>540.286         </td> <td>948.844                 </td> <td>0              </td> <td>0                        </td> <td>0                              </td> <td>0                               </td> <td>0                                </td> <td>0              </td> <td>0                       </td> <td>0                   </td> <td>0               </td> <td>0                    </td> <td>0                    </td> <td>0                     </td> <td>0                     </td> <td>0                   </td> <td>0                </td> <td>0                  </td> <td>0                              </td> <td>0                                   </td> <td>0            </td> <td>955.312  </td> <td>952.6      </td> <td>0             </td> <td>0            </td> <td>0                </td> <td>0                                  </td> <td>0         </td> <td>0                             </td> <td>0                      </td> <td>0                         </td> <td>0            </td> <td>706.762             </td> <td>0             </td> <td>0                 </td> <td>0                            </td> <td>0                            </td> <td>0                          </td> <td>0                          </td> <td>0                                    </td> <td>684.917    </td> <td>902.333                   </td> <td>965                   </td> <td>0                           </td> <td>0                          </td> <td>0                                       </td> <td>0                                      </td> <td>0                      </td> <td>536.667           </td> <td>782.1                </td> <td>778                              </td> <td>0                      </td> <td>373.393         </td> <td>1127.92            </td> <td>1222.24                        </td> <td>219.985               </td> <td>0                       </td> <td>0              </td> <td>645          </td> <td>0                       </td> <td>0                </td> <td>0                                            </td> <td>0              </td> <td>0                     </td> <td>0                   </td> <td>0                                            </td>\n",
              "        </tr>\n",
              "        <tr>\n",
              "            <td>Beale at Market                 </td> <td>360.701      </td> <td>603.873          </td> <td>685.934        </td> <td>625          </td> <td>0               </td> <td>0                       </td> <td>720.932        </td> <td>282.033                  </td> <td>0                              </td> <td>0                               </td> <td>627.423                          </td> <td>273.973        </td> <td>303.168                 </td> <td>0                   </td> <td>232.777         </td> <td>441.483              </td> <td>300.5                </td> <td>498.2                 </td> <td>352.467               </td> <td>0                   </td> <td>0                </td> <td>697.074            </td> <td>416.986                        </td> <td>465.877                             </td> <td>329.5        </td> <td>0        </td> <td>0          </td> <td>731.175       </td> <td>386.292      </td> <td>217.528          </td> <td>350.115                            </td> <td>0         </td> <td>0                             </td> <td>0                      </td> <td>0                         </td> <td>0            </td> <td>0                   </td> <td>340.857       </td> <td>502.335           </td> <td>374.793                      </td> <td>0                            </td> <td>0                          </td> <td>0                          </td> <td>0                                    </td> <td>0          </td> <td>0                         </td> <td>0                     </td> <td>0                           </td> <td>0                          </td> <td>783.228                                 </td> <td>792.387                                </td> <td>809.92                 </td> <td>0                 </td> <td>0                    </td> <td>0                                </td> <td>0                      </td> <td>0               </td> <td>0                  </td> <td>0                              </td> <td>0                     </td> <td>781.634                 </td> <td>301.297        </td> <td>0            </td> <td>0                       </td> <td>438.75           </td> <td>207.94                                       </td> <td>953.429        </td> <td>0                     </td> <td>465.688             </td> <td>444.689                                      </td>\n",
              "        </tr>\n",
              "        <tr>\n",
              "            <td>Broadway St at Battery St       </td> <td>613.672      </td> <td>826.899          </td> <td>719.695        </td> <td>931.891      </td> <td>0               </td> <td>0                       </td> <td>331.727        </td> <td>688.682                  </td> <td>0                              </td> <td>0                               </td> <td>942.629                          </td> <td>240.929        </td> <td>245.23                  </td> <td>0                   </td> <td>190.906         </td> <td>576.172              </td> <td>503.241              </td> <td>369.61                </td> <td>403.314               </td> <td>0                   </td> <td>0                </td> <td>1213.2             </td> <td>364.543                        </td> <td>436.101                             </td> <td>600.939      </td> <td>0        </td> <td>0          </td> <td>1068.12       </td> <td>629.866      </td> <td>416.267          </td> <td>414.935                            </td> <td>0         </td> <td>0                             </td> <td>0                      </td> <td>0                         </td> <td>0            </td> <td>0                   </td> <td>503.763       </td> <td>725.521           </td> <td>562.271                      </td> <td>0                            </td> <td>0                          </td> <td>0                          </td> <td>0                                    </td> <td>0          </td> <td>0                         </td> <td>0                     </td> <td>0                           </td> <td>0                          </td> <td>893.467                                 </td> <td>893.123                                </td> <td>1083.43                </td> <td>0                 </td> <td>0                    </td> <td>0                                </td> <td>0                      </td> <td>0               </td> <td>0                  </td> <td>0                              </td> <td>0                     </td> <td>1010.5                  </td> <td>516.17         </td> <td>0            </td> <td>0                       </td> <td>378.265          </td> <td>484.57                                       </td> <td>1204.94        </td> <td>0                     </td> <td>383.937             </td> <td>648.745                                      </td>\n",
              "        </tr>\n",
              "        <tr>\n",
              "            <td>California Ave Caltrain Station </td> <td>0            </td> <td>0                </td> <td>0              </td> <td>0            </td> <td>0               </td> <td>0                       </td> <td>0              </td> <td>0                        </td> <td>898.553                        </td> <td>1645                            </td> <td>0                                </td> <td>0              </td> <td>0                       </td> <td>977.552             </td> <td>0               </td> <td>0                    </td> <td>0                    </td> <td>0                     </td> <td>0                     </td> <td>0                   </td> <td>0                </td> <td>0                  </td> <td>0                              </td> <td>0                                   </td> <td>0            </td> <td>0        </td> <td>0          </td> <td>0             </td> <td>0            </td> <td>0                </td> <td>0                                  </td> <td>0         </td> <td>1771                          </td> <td>0                      </td> <td>714.922                   </td> <td>277.025      </td> <td>0                   </td> <td>0             </td> <td>0                 </td> <td>0                            </td> <td>0                            </td> <td>0                          </td> <td>0                          </td> <td>1260.33                              </td> <td>0          </td> <td>0                         </td> <td>0                     </td> <td>1295.65                     </td> <td>994                        </td> <td>0                                       </td> <td>0                                      </td> <td>0                      </td> <td>0                 </td> <td>0                    </td> <td>0                                </td> <td>0                      </td> <td>0               </td> <td>0                  </td> <td>0                              </td> <td>0                     </td> <td>0                       </td> <td>0              </td> <td>0            </td> <td>0                       </td> <td>0                </td> <td>0                                            </td> <td>0              </td> <td>973.544               </td> <td>0                   </td> <td>0                                            </td>\n",
              "        </tr>\n",
              "        <tr>\n",
              "            <td>Castro Street and El Camino Real</td> <td>0            </td> <td>0                </td> <td>0              </td> <td>0            </td> <td>0               </td> <td>0                       </td> <td>0              </td> <td>0                        </td> <td>0                              </td> <td>817.5                           </td> <td>0                                </td> <td>0              </td> <td>0                       </td> <td>0                   </td> <td>0               </td> <td>0                    </td> <td>0                    </td> <td>0                     </td> <td>0                     </td> <td>747.214             </td> <td>0                </td> <td>0                  </td> <td>0                              </td> <td>0                                   </td> <td>0            </td> <td>0        </td> <td>0          </td> <td>0             </td> <td>0            </td> <td>0                </td> <td>0                                  </td> <td>0         </td> <td>388.583                       </td> <td>317.118                </td> <td>0                         </td> <td>0            </td> <td>0                   </td> <td>0             </td> <td>0                 </td> <td>0                            </td> <td>0                            </td> <td>0                          </td> <td>0                          </td> <td>894.429                              </td> <td>0          </td> <td>0                         </td> <td>0                     </td> <td>1117                        </td> <td>987.25                     </td> <td>0                                       </td> <td>0                                      </td> <td>0                      </td> <td>0                 </td> <td>0                    </td> <td>0                                </td> <td>0                      </td> <td>0               </td> <td>0                  </td> <td>0                              </td> <td>0                     </td> <td>0                       </td> <td>0              </td> <td>0            </td> <td>0                       </td> <td>0                </td> <td>0                                            </td> <td>0              </td> <td>0                     </td> <td>0                   </td> <td>0                                            </td>\n",
              "        </tr>\n",
              "    </tbody>\n",
              "</table>\n",
              "<p>... (60 rows omitted)</p>"
            ],
            "text/plain": [
              "End Station                      | 2nd at Folsom | 2nd at South Park | 2nd at Townsend | 5th at Howard | Adobe on Almaden | Arena Green / SAP Center | Beale at Market | Broadway St at Battery St | California Ave Caltrain Station | Castro Street and El Camino Real | Civic Center BART (7th at Market) | Clay at Battery | Commercial at Montgomery | Cowper at University | Davis at Jackson | Embarcadero at Bryant | Embarcadero at Folsom | Embarcadero at Sansome | Embarcadero at Vallejo | Evelyn Park and Ride | Franklin at Maple | Golden Gate at Polk | Grant Avenue at Columbus Avenue | Harry Bridges Plaza (Ferry Building) | Howard at 2nd | Japantown | MLK Library | Market at 10th | Market at 4th | Market at Sansome | Mechanics Plaza (Market at Battery) | Mezes Park | Mountain View Caltrain Station | Mountain View City Hall | Palo Alto Caltrain Station | Park at Olive | Paseo de San Antonio | Post at Kearny | Powell Street BART | Powell at Post (Union Square) | Redwood City Caltrain Station | Redwood City Medical Center | Redwood City Public Library | Rengstorff Avenue / California Street | Ryland Park | SJSU - San Salvador at 9th | SJSU 4th at San Carlos | San Antonio Caltrain Station | San Antonio Shopping Center | San Francisco Caltrain (Townsend at 4th) | San Francisco Caltrain 2 (330 Townsend) | San Francisco City Hall | San Jose City Hall | San Jose Civic Center | San Jose Diridon Caltrain Station | San Mateo County Center | San Pedro Square | San Salvador at 1st | Santa Clara County Civic Center | Santa Clara at Almaden | South Van Ness at Market | Spear at Folsom | St James Park | Stanford in Redwood City | Steuart at Market | Temporary Transbay Terminal (Howard at Beale) | Townsend at 7th | University and Emerson | Washington at Kearny | Yerba Buena Center of the Arts (3rd @ Howard)\n",
              "2nd at Folsom                    | 702.13        | 253.874           | 309.087         | 418.065       | 0                | 0                        | 424.15          | 740.714                   | 0                               | 0                                | 668.886                           | 516.897         | 495.519                  | 0                    | 862.889          | 388.117               | 493.469               | 1114.71                | 818.429                | 0                    | 0                 | 825                 | 662.933                         | 500.44                               | 254.245       | 0         | 0           | 728.627        | 435.947       | 291.076           | 378.576                             | 0          | 0                              | 0                       | 0                          | 0             | 0                    | 380.083        | 541.926            | 518.011                       | 0                             | 0                           | 0                           | 0                                     | 0           | 0                          | 0                      | 0                            | 0                           | 469.137                                  | 484.382                                 | 1037                    | 0                  | 0                     | 0                                 | 0                       | 0                | 0                   | 0                               | 0                      | 836.684                  | 365.579         | 0             | 0                        | 575.923           | 250.553                                       | 646.038         | 0                      | 617                  | 386.032\n",
              "2nd at South Park                | 196.085       | 618.116           | 237.366         | 507.394       | 0                | 0                        | 450.279         | 715.247                   | 0                               | 0                                | 900.679                           | 589.368         | 612.456                  | 0                    | 640.081          | 317.625               | 404.27                | 940.253                | 648.948                | 0                    | 0                 | 732.632             | 815.671                         | 501.608                              | 230.486       | 0         | 0           | 834.396        | 513.307       | 323.982           | 423.605                             | 0          | 0                              | 0                       | 0                          | 0             | 0                    | 328.813        | 616.429            | 567.77                        | 0                             | 0                           | 0                           | 0                                     | 0           | 0                          | 0                      | 0                            | 0                           | 281.635                                  | 349.079                                 | 780.958                 | 0                  | 0                     | 0                                 | 0                       | 0                | 0                   | 0                               | 0                      | 831.879                  | 359.105         | 0             | 0                        | 490.479           | 356.287                                       | 473.056         | 0                      | 722.063              | 395.474\n",
              "2nd at Townsend                  | 293.874       | 281.344           | 787.314         | 655.196       | 0                | 0                        | 531.243         | 759.451                   | 0                               | 0                                | 846.888                           | 773.72          | 803.345                  | 0                    | 691.054          | 363.294               | 465.685               | 926.796                | 819.772                | 0                    | 0                 | 1070.59             | 919.073                         | 609.987                              | 371.105       | 0         | 0           | 877.591        | 731.92        | 506.895           | 673.452                             | 0          | 0                              | 0                       | 0                          | 0             | 0                    | 666.625        | 865.7              | 776.333                       | 0                             | 0                           | 0                           | 0                                     | 0           | 0                          | 0                      | 0                            | 0                           | 262.334                                  | 310.047                                 | 985.214                 | 0                  | 0                     | 0                                 | 0                       | 0                | 0                   | 0                               | 0                      | 1102.06                  | 404.522         | 0             | 0                        | 543.83            | 420.519                                       | 480.285         | 0                      | 1092.67              | 585.169\n",
              "5th at Howard                    | 381.274       | 573.729           | 613.514         | 718.096       | 0                | 0                        | 611.797         | 808.077                   | 0                               | 0                                | 379.35                            | 668.697         | 542.512                  | 0                    | 730.4            | 666.965               | 613.49                | 1056.59                | 952.167                | 0                    | 0                 | 469.741             | 834.692                         | 676.55                               | 281.975       | 0         | 0           | 449.548        | 295.297       | 414.857           | 545.6                               | 0          | 0                              | 0                       | 0                          | 0             | 0                    | 410.043        | 255.956            | 357.799                       | 0                             | 0                           | 0                           | 0                                     | 0           | 0                          | 0                      | 0                            | 0                           | 434.022                                  | 386.263                                 | 605.708                 | 0                  | 0                     | 0                                 | 0                       | 0                | 0                   | 0                               | 0                      | 553.362                  | 584.98          | 0             | 0                        | 662.308           | 406.225                                       | 546.84          | 0                      | 972.07               | 206.704\n",
              "Adobe on Almaden                 | 0             | 0                 | 0               | 0             | 462              | 583.5                    | 0               | 0                         | 0                               | 0                                | 0                                 | 0               | 0                        | 0                    | 0                | 0                     | 0                     | 0                      | 0                      | 0                    | 0                 | 0                   | 0                               | 0                                    | 0             | 942.176   | 616         | 0              | 0             | 0                 | 0                                   | 0          | 0                              | 0                       | 0                          | 0             | 463.92               | 0              | 0                  | 0                             | 0                             | 0                           | 0                           | 0                                     | 639.857     | 858.571                    | 534.438                | 0                            | 0                           | 0                                        | 0                                       | 0                       | 546.316            | 399.435               | 292.702                           | 0                       | 360.4            | 684                 | 1164.4                          | 251.9                  | 0                        | 0               | 516.857       | 0                        | 0                 | 0                                             | 0               | 0                      | 0                    | 0\n",
              "Arena Green / SAP Center         | 0             | 0                 | 0               | 0             | 540.286          | 948.844                  | 0               | 0                         | 0                               | 0                                | 0                                 | 0               | 0                        | 0                    | 0                | 0                     | 0                     | 0                      | 0                      | 0                    | 0                 | 0                   | 0                               | 0                                    | 0             | 955.312   | 952.6       | 0              | 0             | 0                 | 0                                   | 0          | 0                              | 0                       | 0                          | 0             | 706.762              | 0              | 0                  | 0                             | 0                             | 0                           | 0                           | 0                                     | 684.917     | 902.333                    | 965                    | 0                            | 0                           | 0                                        | 0                                       | 0                       | 536.667            | 782.1                 | 778                               | 0                       | 373.393          | 1127.92             | 1222.24                         | 219.985                | 0                        | 0               | 645           | 0                        | 0                 | 0                                             | 0               | 0                      | 0                    | 0\n",
              "Beale at Market                  | 360.701       | 603.873           | 685.934         | 625           | 0                | 0                        | 720.932         | 282.033                   | 0                               | 0                                | 627.423                           | 273.973         | 303.168                  | 0                    | 232.777          | 441.483               | 300.5                 | 498.2                  | 352.467                | 0                    | 0                 | 697.074             | 416.986                         | 465.877                              | 329.5         | 0         | 0           | 731.175        | 386.292       | 217.528           | 350.115                             | 0          | 0                              | 0                       | 0                          | 0             | 0                    | 340.857        | 502.335            | 374.793                       | 0                             | 0                           | 0                           | 0                                     | 0           | 0                          | 0                      | 0                            | 0                           | 783.228                                  | 792.387                                 | 809.92                  | 0                  | 0                     | 0                                 | 0                       | 0                | 0                   | 0                               | 0                      | 781.634                  | 301.297         | 0             | 0                        | 438.75            | 207.94                                        | 953.429         | 0                      | 465.688              | 444.689\n",
              "Broadway St at Battery St        | 613.672       | 826.899           | 719.695         | 931.891       | 0                | 0                        | 331.727         | 688.682                   | 0                               | 0                                | 942.629                           | 240.929         | 245.23                   | 0                    | 190.906          | 576.172               | 503.241               | 369.61                 | 403.314                | 0                    | 0                 | 1213.2              | 364.543                         | 436.101                              | 600.939       | 0         | 0           | 1068.12        | 629.866       | 416.267           | 414.935                             | 0          | 0                              | 0                       | 0                          | 0             | 0                    | 503.763        | 725.521            | 562.271                       | 0                             | 0                           | 0                           | 0                                     | 0           | 0                          | 0                      | 0                            | 0                           | 893.467                                  | 893.123                                 | 1083.43                 | 0                  | 0                     | 0                                 | 0                       | 0                | 0                   | 0                               | 0                      | 1010.5                   | 516.17          | 0             | 0                        | 378.265           | 484.57                                        | 1204.94         | 0                      | 383.937              | 648.745\n",
              "California Ave Caltrain Station  | 0             | 0                 | 0               | 0             | 0                | 0                        | 0               | 0                         | 898.553                         | 1645                             | 0                                 | 0               | 0                        | 977.552              | 0                | 0                     | 0                     | 0                      | 0                      | 0                    | 0                 | 0                   | 0                               | 0                                    | 0             | 0         | 0           | 0              | 0             | 0                 | 0                                   | 0          | 1771                           | 0                       | 714.922                    | 277.025       | 0                    | 0              | 0                  | 0                             | 0                             | 0                           | 0                           | 1260.33                               | 0           | 0                          | 0                      | 1295.65                      | 994                         | 0                                        | 0                                       | 0                       | 0                  | 0                     | 0                                 | 0                       | 0                | 0                   | 0                               | 0                      | 0                        | 0               | 0             | 0                        | 0                 | 0                                             | 0               | 973.544                | 0                    | 0\n",
              "Castro Street and El Camino Real | 0             | 0                 | 0               | 0             | 0                | 0                        | 0               | 0                         | 0                               | 817.5                            | 0                                 | 0               | 0                        | 0                    | 0                | 0                     | 0                     | 0                      | 0                      | 747.214              | 0                 | 0                   | 0                               | 0                                    | 0             | 0         | 0           | 0              | 0             | 0                 | 0                                   | 0          | 388.583                        | 317.118                 | 0                          | 0             | 0                    | 0              | 0                  | 0                             | 0                             | 0                           | 0                           | 894.429                               | 0           | 0                          | 0                      | 1117                         | 987.25                      | 0                                        | 0                                       | 0                       | 0                  | 0                     | 0                                 | 0                       | 0                | 0                   | 0                               | 0                      | 0                        | 0               | 0             | 0                        | 0                 | 0                                             | 0               | 0                      | 0                    | 0\n",
              "... (60 rows omitted)"
            ]
          },
          "execution_count": 23,
          "metadata": {},
          "output_type": "execute_result"
        }
      ],
      "source": [
        "# Average durations of trips between stations\n",
        "commute.pivot('Start Station', 'End Station', values='Duration', collect=np.average)"
      ]
    },
    {
      "cell_type": "code",
      "execution_count": null,
      "metadata": {
        "colab": {
          "base_uri": "https://localhost:8080/",
          "height": 846
        },
        "id": "foQNKQQge9cf",
        "outputId": "ba1e7764-07f8-42a6-b288-4b17715f47ae"
      },
      "outputs": [
        {
          "data": {
            "text/html": [
              "<table border=\"1\" class=\"dataframe\">\n",
              "    <thead>\n",
              "        <tr>\n",
              "            <th>End Station</th> <th>2nd at Folsom</th> <th>2nd at South Park</th> <th>2nd at Townsend</th> <th>5th at Howard</th> <th>Adobe on Almaden</th> <th>Arena Green / SAP Center</th> <th>Beale at Market</th> <th>Broadway St at Battery St</th> <th>California Ave Caltrain Station</th> <th>Castro Street and El Camino Real</th> <th>Civic Center BART (7th at Market)</th> <th>Clay at Battery</th> <th>Commercial at Montgomery</th> <th>Cowper at University</th> <th>Davis at Jackson</th> <th>Embarcadero at Bryant</th> <th>Embarcadero at Folsom</th> <th>Embarcadero at Sansome</th> <th>Embarcadero at Vallejo</th> <th>Evelyn Park and Ride</th> <th>Franklin at Maple</th> <th>Golden Gate at Polk</th> <th>Grant Avenue at Columbus Avenue</th> <th>Harry Bridges Plaza (Ferry Building)</th> <th>Howard at 2nd</th> <th>Japantown</th> <th>MLK Library</th> <th>Market at 10th</th> <th>Market at 4th</th> <th>Market at Sansome</th> <th>Mechanics Plaza (Market at Battery)</th> <th>Mezes Park</th> <th>Mountain View Caltrain Station</th> <th>Mountain View City Hall</th> <th>Palo Alto Caltrain Station</th> <th>Park at Olive</th> <th>Paseo de San Antonio</th> <th>Post at Kearny</th> <th>Powell Street BART</th> <th>Powell at Post (Union Square)</th> <th>Redwood City Caltrain Station</th> <th>Redwood City Medical Center</th> <th>Redwood City Public Library</th> <th>Rengstorff Avenue / California Street</th> <th>Ryland Park</th> <th>SJSU - San Salvador at 9th</th> <th>SJSU 4th at San Carlos</th> <th>San Antonio Caltrain Station</th> <th>San Antonio Shopping Center</th> <th>San Francisco Caltrain (Townsend at 4th)</th> <th>San Francisco Caltrain 2 (330 Townsend)</th> <th>San Francisco City Hall</th> <th>San Jose City Hall</th> <th>San Jose Civic Center</th> <th>San Jose Diridon Caltrain Station</th> <th>San Mateo County Center</th> <th>San Pedro Square</th> <th>San Salvador at 1st</th> <th>Santa Clara County Civic Center</th> <th>Santa Clara at Almaden</th> <th>South Van Ness at Market</th> <th>Spear at Folsom</th> <th>St James Park</th> <th>Stanford in Redwood City</th> <th>Steuart at Market</th> <th>Temporary Transbay Terminal (Howard at Beale)</th> <th>Townsend at 7th</th> <th>University and Emerson</th> <th>Washington at Kearny</th> <th>Yerba Buena Center of the Arts (3rd @ Howard)</th>\n",
              "        </tr>\n",
              "    </thead>\n",
              "    <tbody>\n",
              "        <tr>\n",
              "            <td>2nd at Folsom                   </td> <td>61           </td> <td>97               </td> <td>164            </td> <td>268          </td> <td>0               </td> <td>0                       </td> <td>271            </td> <td>407                      </td> <td>0                              </td> <td>0                               </td> <td>483                              </td> <td>329            </td> <td>306                     </td> <td>0                   </td> <td>494             </td> <td>239                  </td> <td>262                  </td> <td>687                   </td> <td>599                   </td> <td>0                   </td> <td>0                </td> <td>639                </td> <td>416                            </td> <td>282                                 </td> <td>80           </td> <td>0        </td> <td>0          </td> <td>506           </td> <td>237          </td> <td>167              </td> <td>250                                </td> <td>0         </td> <td>0                             </td> <td>0                      </td> <td>0                         </td> <td>0            </td> <td>0                   </td> <td>208           </td> <td>264               </td> <td>290                          </td> <td>0                            </td> <td>0                          </td> <td>0                          </td> <td>0                                    </td> <td>0          </td> <td>0                         </td> <td>0                     </td> <td>0                           </td> <td>0                          </td> <td>300                                     </td> <td>303                                    </td> <td>584                    </td> <td>0                 </td> <td>0                    </td> <td>0                                </td> <td>0                      </td> <td>0               </td> <td>0                  </td> <td>0                              </td> <td>0                     </td> <td>590                     </td> <td>208            </td> <td>0            </td> <td>0                       </td> <td>318              </td> <td>149                                          </td> <td>448            </td> <td>0                     </td> <td>429                 </td> <td>165                                          </td>\n",
              "        </tr>\n",
              "        <tr>\n",
              "            <td>2nd at South Park               </td> <td>61           </td> <td>60               </td> <td>77             </td> <td>86           </td> <td>0               </td> <td>0                       </td> <td>78             </td> <td>345                      </td> <td>0                              </td> <td>0                               </td> <td>290                              </td> <td>188            </td> <td>171                     </td> <td>0                   </td> <td>357             </td> <td>104                  </td> <td>81                   </td> <td>490                   </td> <td>341                   </td> <td>0                   </td> <td>0                </td> <td>369                </td> <td>278                            </td> <td>122                                 </td> <td>60           </td> <td>0        </td> <td>0          </td> <td>416           </td> <td>142          </td> <td>61               </td> <td>68                                 </td> <td>0         </td> <td>0                             </td> <td>0                      </td> <td>0                         </td> <td>0            </td> <td>0                   </td> <td>60            </td> <td>237               </td> <td>106                          </td> <td>0                            </td> <td>0                          </td> <td>0                          </td> <td>0                                    </td> <td>0          </td> <td>0                         </td> <td>0                     </td> <td>0                           </td> <td>0                          </td> <td>63                                      </td> <td>66                                     </td> <td>458                    </td> <td>0                 </td> <td>0                    </td> <td>0                                </td> <td>0                      </td> <td>0               </td> <td>0                  </td> <td>0                              </td> <td>0                     </td> <td>399                     </td> <td>63             </td> <td>0            </td> <td>0                       </td> <td>79               </td> <td>61                                           </td> <td>78             </td> <td>0                     </td> <td>270                 </td> <td>96                                           </td>\n",
              "        </tr>\n",
              "        <tr>\n",
              "            <td>2nd at Townsend                 </td> <td>137          </td> <td>67               </td> <td>60             </td> <td>423          </td> <td>0               </td> <td>0                       </td> <td>311            </td> <td>469                      </td> <td>0                              </td> <td>0                               </td> <td>546                              </td> <td>520            </td> <td>474                     </td> <td>0                   </td> <td>436             </td> <td>145                  </td> <td>232                  </td> <td>509                   </td> <td>494                   </td> <td>0                   </td> <td>0                </td> <td>773                </td> <td>549                            </td> <td>325                                 </td> <td>221          </td> <td>0        </td> <td>0          </td> <td>667           </td> <td>367          </td> <td>265              </td> <td>395                                </td> <td>0         </td> <td>0                             </td> <td>0                      </td> <td>0                         </td> <td>0            </td> <td>0                   </td> <td>319           </td> <td>455               </td> <td>398                          </td> <td>0                            </td> <td>0                          </td> <td>0                          </td> <td>0                                    </td> <td>0          </td> <td>0                         </td> <td>0                     </td> <td>0                           </td> <td>0                          </td> <td>125                                     </td> <td>133                                    </td> <td>742                    </td> <td>0                 </td> <td>0                    </td> <td>0                                </td> <td>0                      </td> <td>0               </td> <td>0                  </td> <td>0                              </td> <td>0                     </td> <td>777                     </td> <td>241            </td> <td>0            </td> <td>0                       </td> <td>291              </td> <td>249                                          </td> <td>259            </td> <td>0                     </td> <td>610                 </td> <td>284                                          </td>\n",
              "        </tr>\n",
              "        <tr>\n",
              "            <td>5th at Howard                   </td> <td>215          </td> <td>300              </td> <td>384            </td> <td>68           </td> <td>0               </td> <td>0                       </td> <td>357            </td> <td>530                      </td> <td>0                              </td> <td>0                               </td> <td>179                              </td> <td>412            </td> <td>364                     </td> <td>0                   </td> <td>543             </td> <td>419                  </td> <td>359                  </td> <td>695                   </td> <td>609                   </td> <td>0                   </td> <td>0                </td> <td>235                </td> <td>474                            </td> <td>453                                 </td> <td>145          </td> <td>0        </td> <td>0          </td> <td>269           </td> <td>161          </td> <td>250              </td> <td>306                                </td> <td>0         </td> <td>0                             </td> <td>0                      </td> <td>0                         </td> <td>0            </td> <td>0                   </td> <td>234           </td> <td>89                </td> <td>202                          </td> <td>0                            </td> <td>0                          </td> <td>0                          </td> <td>0                                    </td> <td>0          </td> <td>0                         </td> <td>0                     </td> <td>0                           </td> <td>0                          </td> <td>256                                     </td> <td>221                                    </td> <td>347                    </td> <td>0                 </td> <td>0                    </td> <td>0                                </td> <td>0                      </td> <td>0               </td> <td>0                  </td> <td>0                              </td> <td>0                     </td> <td>375                     </td> <td>402            </td> <td>0            </td> <td>0                       </td> <td>455              </td> <td>265                                          </td> <td>357            </td> <td>0                     </td> <td>553                 </td> <td>109                                          </td>\n",
              "        </tr>\n",
              "        <tr>\n",
              "            <td>Adobe on Almaden                </td> <td>0            </td> <td>0                </td> <td>0              </td> <td>0            </td> <td>84              </td> <td>275                     </td> <td>0              </td> <td>0                        </td> <td>0                              </td> <td>0                               </td> <td>0                                </td> <td>0              </td> <td>0                       </td> <td>0                   </td> <td>0               </td> <td>0                    </td> <td>0                    </td> <td>0                     </td> <td>0                     </td> <td>0                   </td> <td>0                </td> <td>0                  </td> <td>0                              </td> <td>0                                   </td> <td>0            </td> <td>701      </td> <td>387        </td> <td>0             </td> <td>0            </td> <td>0                </td> <td>0                                  </td> <td>0         </td> <td>0                             </td> <td>0                      </td> <td>0                         </td> <td>0            </td> <td>229                 </td> <td>0             </td> <td>0                 </td> <td>0                            </td> <td>0                            </td> <td>0                          </td> <td>0                          </td> <td>0                                    </td> <td>441        </td> <td>452                       </td> <td>318                   </td> <td>0                           </td> <td>0                          </td> <td>0                                       </td> <td>0                                      </td> <td>0                      </td> <td>309               </td> <td>146                  </td> <td>182                              </td> <td>0                      </td> <td>207             </td> <td>358                </td> <td>876                            </td> <td>101                   </td> <td>0                       </td> <td>0              </td> <td>369          </td> <td>0                       </td> <td>0                </td> <td>0                                            </td> <td>0              </td> <td>0                     </td> <td>0                   </td> <td>0                                            </td>\n",
              "        </tr>\n",
              "        <tr>\n",
              "            <td>Arena Green / SAP Center        </td> <td>0            </td> <td>0                </td> <td>0              </td> <td>0            </td> <td>305             </td> <td>62                      </td> <td>0              </td> <td>0                        </td> <td>0                              </td> <td>0                               </td> <td>0                                </td> <td>0              </td> <td>0                       </td> <td>0                   </td> <td>0               </td> <td>0                    </td> <td>0                    </td> <td>0                     </td> <td>0                     </td> <td>0                   </td> <td>0                </td> <td>0                  </td> <td>0                              </td> <td>0                                   </td> <td>0            </td> <td>526      </td> <td>546        </td> <td>0             </td> <td>0            </td> <td>0                </td> <td>0                                  </td> <td>0         </td> <td>0                             </td> <td>0                      </td> <td>0                         </td> <td>0            </td> <td>403                 </td> <td>0             </td> <td>0                 </td> <td>0                            </td> <td>0                            </td> <td>0                          </td> <td>0                          </td> <td>0                                    </td> <td>288        </td> <td>875                       </td> <td>685                   </td> <td>0                           </td> <td>0                          </td> <td>0                                       </td> <td>0                                      </td> <td>0                      </td> <td>440               </td> <td>420                  </td> <td>153                              </td> <td>0                      </td> <td>166             </td> <td>624                </td> <td>759                            </td> <td>116                   </td> <td>0                       </td> <td>0              </td> <td>301          </td> <td>0                       </td> <td>0                </td> <td>0                                            </td> <td>0              </td> <td>0                     </td> <td>0                   </td> <td>0                                            </td>\n",
              "        </tr>\n",
              "        <tr>\n",
              "            <td>Beale at Market                 </td> <td>219          </td> <td>343              </td> <td>417            </td> <td>387          </td> <td>0               </td> <td>0                       </td> <td>60             </td> <td>155                      </td> <td>0                              </td> <td>0                               </td> <td>343                              </td> <td>122            </td> <td>153                     </td> <td>0                   </td> <td>115             </td> <td>216                  </td> <td>170                  </td> <td>303                   </td> <td>198                   </td> <td>0                   </td> <td>0                </td> <td>437                </td> <td>235                            </td> <td>149                                 </td> <td>204          </td> <td>0        </td> <td>0          </td> <td>535           </td> <td>203          </td> <td>88               </td> <td>72                                 </td> <td>0         </td> <td>0                             </td> <td>0                      </td> <td>0                         </td> <td>0            </td> <td>0                   </td> <td>191           </td> <td>316               </td> <td>191                          </td> <td>0                            </td> <td>0                          </td> <td>0                          </td> <td>0                                    </td> <td>0          </td> <td>0                         </td> <td>0                     </td> <td>0                           </td> <td>0                          </td> <td>499                                     </td> <td>395                                    </td> <td>526                    </td> <td>0                 </td> <td>0                    </td> <td>0                                </td> <td>0                      </td> <td>0               </td> <td>0                  </td> <td>0                              </td> <td>0                     </td> <td>575                     </td> <td>173            </td> <td>0            </td> <td>0                       </td> <td>87               </td> <td>94                                           </td> <td>619            </td> <td>0                     </td> <td>222                 </td> <td>264                                          </td>\n",
              "        </tr>\n",
              "        <tr>\n",
              "            <td>Broadway St at Battery St       </td> <td>351          </td> <td>424              </td> <td>499            </td> <td>555          </td> <td>0               </td> <td>0                       </td> <td>195            </td> <td>62                       </td> <td>0                              </td> <td>0                               </td> <td>520                              </td> <td>90             </td> <td>129                     </td> <td>0                   </td> <td>70              </td> <td>340                  </td> <td>284                  </td> <td>128                   </td> <td>101                   </td> <td>0                   </td> <td>0                </td> <td>961                </td> <td>148                            </td> <td>168                                 </td> <td>357          </td> <td>0        </td> <td>0          </td> <td>652           </td> <td>351          </td> <td>218              </td> <td>221                                </td> <td>0         </td> <td>0                             </td> <td>0                      </td> <td>0                         </td> <td>0            </td> <td>0                   </td> <td>255           </td> <td>376               </td> <td>316                          </td> <td>0                            </td> <td>0                          </td> <td>0                          </td> <td>0                                    </td> <td>0          </td> <td>0                         </td> <td>0                     </td> <td>0                           </td> <td>0                          </td> <td>611                                     </td> <td>599                                    </td> <td>799                    </td> <td>0                 </td> <td>0                    </td> <td>0                                </td> <td>0                      </td> <td>0               </td> <td>0                  </td> <td>0                              </td> <td>0                     </td> <td>738                     </td> <td>336            </td> <td>0            </td> <td>0                       </td> <td>169              </td> <td>291                                          </td> <td>885            </td> <td>0                     </td> <td>134                 </td> <td>411                                          </td>\n",
              "        </tr>\n",
              "        <tr>\n",
              "            <td>California Ave Caltrain Station </td> <td>0            </td> <td>0                </td> <td>0              </td> <td>0            </td> <td>0               </td> <td>0                       </td> <td>0              </td> <td>0                        </td> <td>82                             </td> <td>1645                            </td> <td>0                                </td> <td>0              </td> <td>0                       </td> <td>628                 </td> <td>0               </td> <td>0                    </td> <td>0                    </td> <td>0                     </td> <td>0                     </td> <td>0                   </td> <td>0                </td> <td>0                  </td> <td>0                              </td> <td>0                                   </td> <td>0            </td> <td>0        </td> <td>0          </td> <td>0             </td> <td>0            </td> <td>0                </td> <td>0                                  </td> <td>0         </td> <td>1771                          </td> <td>0                      </td> <td>484                       </td> <td>131          </td> <td>0                   </td> <td>0             </td> <td>0                 </td> <td>0                            </td> <td>0                            </td> <td>0                          </td> <td>0                          </td> <td>1077                                 </td> <td>0          </td> <td>0                         </td> <td>0                     </td> <td>870                         </td> <td>911                        </td> <td>0                                       </td> <td>0                                      </td> <td>0                      </td> <td>0                 </td> <td>0                    </td> <td>0                                </td> <td>0                      </td> <td>0               </td> <td>0                  </td> <td>0                              </td> <td>0                     </td> <td>0                       </td> <td>0              </td> <td>0            </td> <td>0                       </td> <td>0                </td> <td>0                                            </td> <td>0              </td> <td>531                   </td> <td>0                   </td> <td>0                                            </td>\n",
              "        </tr>\n",
              "        <tr>\n",
              "            <td>Castro Street and El Camino Real</td> <td>0            </td> <td>0                </td> <td>0              </td> <td>0            </td> <td>0               </td> <td>0                       </td> <td>0              </td> <td>0                        </td> <td>0                              </td> <td>74                              </td> <td>0                                </td> <td>0              </td> <td>0                       </td> <td>0                   </td> <td>0               </td> <td>0                    </td> <td>0                    </td> <td>0                     </td> <td>0                     </td> <td>499                 </td> <td>0                </td> <td>0                  </td> <td>0                              </td> <td>0                                   </td> <td>0            </td> <td>0        </td> <td>0          </td> <td>0             </td> <td>0            </td> <td>0                </td> <td>0                                  </td> <td>0         </td> <td>201                           </td> <td>108                    </td> <td>0                         </td> <td>0            </td> <td>0                   </td> <td>0             </td> <td>0                 </td> <td>0                            </td> <td>0                            </td> <td>0                          </td> <td>0                          </td> <td>654                                  </td> <td>0          </td> <td>0                         </td> <td>0                     </td> <td>953                         </td> <td>696                        </td> <td>0                                       </td> <td>0                                      </td> <td>0                      </td> <td>0                 </td> <td>0                    </td> <td>0                                </td> <td>0                      </td> <td>0               </td> <td>0                  </td> <td>0                              </td> <td>0                     </td> <td>0                       </td> <td>0              </td> <td>0            </td> <td>0                       </td> <td>0                </td> <td>0                                            </td> <td>0              </td> <td>0                     </td> <td>0                   </td> <td>0                                            </td>\n",
              "        </tr>\n",
              "    </tbody>\n",
              "</table>\n",
              "<p>... (60 rows omitted)</p>"
            ],
            "text/plain": [
              "End Station                      | 2nd at Folsom | 2nd at South Park | 2nd at Townsend | 5th at Howard | Adobe on Almaden | Arena Green / SAP Center | Beale at Market | Broadway St at Battery St | California Ave Caltrain Station | Castro Street and El Camino Real | Civic Center BART (7th at Market) | Clay at Battery | Commercial at Montgomery | Cowper at University | Davis at Jackson | Embarcadero at Bryant | Embarcadero at Folsom | Embarcadero at Sansome | Embarcadero at Vallejo | Evelyn Park and Ride | Franklin at Maple | Golden Gate at Polk | Grant Avenue at Columbus Avenue | Harry Bridges Plaza (Ferry Building) | Howard at 2nd | Japantown | MLK Library | Market at 10th | Market at 4th | Market at Sansome | Mechanics Plaza (Market at Battery) | Mezes Park | Mountain View Caltrain Station | Mountain View City Hall | Palo Alto Caltrain Station | Park at Olive | Paseo de San Antonio | Post at Kearny | Powell Street BART | Powell at Post (Union Square) | Redwood City Caltrain Station | Redwood City Medical Center | Redwood City Public Library | Rengstorff Avenue / California Street | Ryland Park | SJSU - San Salvador at 9th | SJSU 4th at San Carlos | San Antonio Caltrain Station | San Antonio Shopping Center | San Francisco Caltrain (Townsend at 4th) | San Francisco Caltrain 2 (330 Townsend) | San Francisco City Hall | San Jose City Hall | San Jose Civic Center | San Jose Diridon Caltrain Station | San Mateo County Center | San Pedro Square | San Salvador at 1st | Santa Clara County Civic Center | Santa Clara at Almaden | South Van Ness at Market | Spear at Folsom | St James Park | Stanford in Redwood City | Steuart at Market | Temporary Transbay Terminal (Howard at Beale) | Townsend at 7th | University and Emerson | Washington at Kearny | Yerba Buena Center of the Arts (3rd @ Howard)\n",
              "2nd at Folsom                    | 61            | 97                | 164             | 268           | 0                | 0                        | 271             | 407                       | 0                               | 0                                | 483                               | 329             | 306                      | 0                    | 494              | 239                   | 262                   | 687                    | 599                    | 0                    | 0                 | 639                 | 416                             | 282                                  | 80            | 0         | 0           | 506            | 237           | 167               | 250                                 | 0          | 0                              | 0                       | 0                          | 0             | 0                    | 208            | 264                | 290                           | 0                             | 0                           | 0                           | 0                                     | 0           | 0                          | 0                      | 0                            | 0                           | 300                                      | 303                                     | 584                     | 0                  | 0                     | 0                                 | 0                       | 0                | 0                   | 0                               | 0                      | 590                      | 208             | 0             | 0                        | 318               | 149                                           | 448             | 0                      | 429                  | 165\n",
              "2nd at South Park                | 61            | 60                | 77              | 86            | 0                | 0                        | 78              | 345                       | 0                               | 0                                | 290                               | 188             | 171                      | 0                    | 357              | 104                   | 81                    | 490                    | 341                    | 0                    | 0                 | 369                 | 278                             | 122                                  | 60            | 0         | 0           | 416            | 142           | 61                | 68                                  | 0          | 0                              | 0                       | 0                          | 0             | 0                    | 60             | 237                | 106                           | 0                             | 0                           | 0                           | 0                                     | 0           | 0                          | 0                      | 0                            | 0                           | 63                                       | 66                                      | 458                     | 0                  | 0                     | 0                                 | 0                       | 0                | 0                   | 0                               | 0                      | 399                      | 63              | 0             | 0                        | 79                | 61                                            | 78              | 0                      | 270                  | 96\n",
              "2nd at Townsend                  | 137           | 67                | 60              | 423           | 0                | 0                        | 311             | 469                       | 0                               | 0                                | 546                               | 520             | 474                      | 0                    | 436              | 145                   | 232                   | 509                    | 494                    | 0                    | 0                 | 773                 | 549                             | 325                                  | 221           | 0         | 0           | 667            | 367           | 265               | 395                                 | 0          | 0                              | 0                       | 0                          | 0             | 0                    | 319            | 455                | 398                           | 0                             | 0                           | 0                           | 0                                     | 0           | 0                          | 0                      | 0                            | 0                           | 125                                      | 133                                     | 742                     | 0                  | 0                     | 0                                 | 0                       | 0                | 0                   | 0                               | 0                      | 777                      | 241             | 0             | 0                        | 291               | 249                                           | 259             | 0                      | 610                  | 284\n",
              "5th at Howard                    | 215           | 300               | 384             | 68            | 0                | 0                        | 357             | 530                       | 0                               | 0                                | 179                               | 412             | 364                      | 0                    | 543              | 419                   | 359                   | 695                    | 609                    | 0                    | 0                 | 235                 | 474                             | 453                                  | 145           | 0         | 0           | 269            | 161           | 250               | 306                                 | 0          | 0                              | 0                       | 0                          | 0             | 0                    | 234            | 89                 | 202                           | 0                             | 0                           | 0                           | 0                                     | 0           | 0                          | 0                      | 0                            | 0                           | 256                                      | 221                                     | 347                     | 0                  | 0                     | 0                                 | 0                       | 0                | 0                   | 0                               | 0                      | 375                      | 402             | 0             | 0                        | 455               | 265                                           | 357             | 0                      | 553                  | 109\n",
              "Adobe on Almaden                 | 0             | 0                 | 0               | 0             | 84               | 275                      | 0               | 0                         | 0                               | 0                                | 0                                 | 0               | 0                        | 0                    | 0                | 0                     | 0                     | 0                      | 0                      | 0                    | 0                 | 0                   | 0                               | 0                                    | 0             | 701       | 387         | 0              | 0             | 0                 | 0                                   | 0          | 0                              | 0                       | 0                          | 0             | 229                  | 0              | 0                  | 0                             | 0                             | 0                           | 0                           | 0                                     | 441         | 452                        | 318                    | 0                            | 0                           | 0                                        | 0                                       | 0                       | 309                | 146                   | 182                               | 0                       | 207              | 358                 | 876                             | 101                    | 0                        | 0               | 369           | 0                        | 0                 | 0                                             | 0               | 0                      | 0                    | 0\n",
              "Arena Green / SAP Center         | 0             | 0                 | 0               | 0             | 305              | 62                       | 0               | 0                         | 0                               | 0                                | 0                                 | 0               | 0                        | 0                    | 0                | 0                     | 0                     | 0                      | 0                      | 0                    | 0                 | 0                   | 0                               | 0                                    | 0             | 526       | 546         | 0              | 0             | 0                 | 0                                   | 0          | 0                              | 0                       | 0                          | 0             | 403                  | 0              | 0                  | 0                             | 0                             | 0                           | 0                           | 0                                     | 288         | 875                        | 685                    | 0                            | 0                           | 0                                        | 0                                       | 0                       | 440                | 420                   | 153                               | 0                       | 166              | 624                 | 759                             | 116                    | 0                        | 0               | 301           | 0                        | 0                 | 0                                             | 0               | 0                      | 0                    | 0\n",
              "Beale at Market                  | 219           | 343               | 417             | 387           | 0                | 0                        | 60              | 155                       | 0                               | 0                                | 343                               | 122             | 153                      | 0                    | 115              | 216                   | 170                   | 303                    | 198                    | 0                    | 0                 | 437                 | 235                             | 149                                  | 204           | 0         | 0           | 535            | 203           | 88                | 72                                  | 0          | 0                              | 0                       | 0                          | 0             | 0                    | 191            | 316                | 191                           | 0                             | 0                           | 0                           | 0                                     | 0           | 0                          | 0                      | 0                            | 0                           | 499                                      | 395                                     | 526                     | 0                  | 0                     | 0                                 | 0                       | 0                | 0                   | 0                               | 0                      | 575                      | 173             | 0             | 0                        | 87                | 94                                            | 619             | 0                      | 222                  | 264\n",
              "Broadway St at Battery St        | 351           | 424               | 499             | 555           | 0                | 0                        | 195             | 62                        | 0                               | 0                                | 520                               | 90              | 129                      | 0                    | 70               | 340                   | 284                   | 128                    | 101                    | 0                    | 0                 | 961                 | 148                             | 168                                  | 357           | 0         | 0           | 652            | 351           | 218               | 221                                 | 0          | 0                              | 0                       | 0                          | 0             | 0                    | 255            | 376                | 316                           | 0                             | 0                           | 0                           | 0                                     | 0           | 0                          | 0                      | 0                            | 0                           | 611                                      | 599                                     | 799                     | 0                  | 0                     | 0                                 | 0                       | 0                | 0                   | 0                               | 0                      | 738                      | 336             | 0             | 0                        | 169               | 291                                           | 885             | 0                      | 134                  | 411\n",
              "California Ave Caltrain Station  | 0             | 0                 | 0               | 0             | 0                | 0                        | 0               | 0                         | 82                              | 1645                             | 0                                 | 0               | 0                        | 628                  | 0                | 0                     | 0                     | 0                      | 0                      | 0                    | 0                 | 0                   | 0                               | 0                                    | 0             | 0         | 0           | 0              | 0             | 0                 | 0                                   | 0          | 1771                           | 0                       | 484                        | 131           | 0                    | 0              | 0                  | 0                             | 0                             | 0                           | 0                           | 1077                                  | 0           | 0                          | 0                      | 870                          | 911                         | 0                                        | 0                                       | 0                       | 0                  | 0                     | 0                                 | 0                       | 0                | 0                   | 0                               | 0                      | 0                        | 0               | 0             | 0                        | 0                 | 0                                             | 0               | 531                    | 0                    | 0\n",
              "Castro Street and El Camino Real | 0             | 0                 | 0               | 0             | 0                | 0                        | 0               | 0                         | 0                               | 74                               | 0                                 | 0               | 0                        | 0                    | 0                | 0                     | 0                     | 0                      | 0                      | 499                  | 0                 | 0                   | 0                               | 0                                    | 0             | 0         | 0           | 0              | 0             | 0                 | 0                                   | 0          | 201                            | 108                     | 0                          | 0             | 0                    | 0              | 0                  | 0                             | 0                             | 0                           | 0                           | 654                                   | 0           | 0                          | 0                      | 953                          | 696                         | 0                                        | 0                                       | 0                       | 0                  | 0                     | 0                                 | 0                       | 0                | 0                   | 0                               | 0                      | 0                        | 0               | 0             | 0                        | 0                 | 0                                             | 0               | 0                      | 0                    | 0\n",
              "... (60 rows omitted)"
            ]
          },
          "execution_count": 24,
          "metadata": {},
          "output_type": "execute_result"
        }
      ],
      "source": [
        "# Time it should take- direct without stopping\n",
        "commute.pivot('Start Station', 'End Station', values='Duration', collect=min)"
      ]
    },
    {
      "cell_type": "markdown",
      "metadata": {
        "id": "JnS9jyR3iDot"
      },
      "source": [
        "What if we wanted to put multiple numbers in our table that include the min and the max?"
      ]
    },
    {
      "cell_type": "code",
      "execution_count": null,
      "metadata": {
        "id": "9ygH7BIrf1SH"
      },
      "outputs": [],
      "source": [
        "# Define our own function and test it out\n",
        "def min_and_max(values):\n",
        "  return str(min(values)) + \",\" + str(max(values))"
      ]
    },
    {
      "cell_type": "code",
      "execution_count": null,
      "metadata": {
        "colab": {
          "base_uri": "https://localhost:8080/",
          "height": 846
        },
        "id": "91ad-3M-gAgP",
        "outputId": "9177305d-e913-4ee9-8c3a-97af9805f371"
      },
      "outputs": [
        {
          "data": {
            "text/html": [
              "<table border=\"1\" class=\"dataframe\">\n",
              "    <thead>\n",
              "        <tr>\n",
              "            <th>End Station</th> <th>2nd at Folsom</th> <th>2nd at South Park</th> <th>2nd at Townsend</th> <th>5th at Howard</th> <th>Adobe on Almaden</th> <th>Arena Green / SAP Center</th> <th>Beale at Market</th> <th>Broadway St at Battery St</th> <th>California Ave Caltrain Station</th> <th>Castro Street and El Camino Real</th> <th>Civic Center BART (7th at Market)</th> <th>Clay at Battery</th> <th>Commercial at Montgomery</th> <th>Cowper at University</th> <th>Davis at Jackson</th> <th>Embarcadero at Bryant</th> <th>Embarcadero at Folsom</th> <th>Embarcadero at Sansome</th> <th>Embarcadero at Vallejo</th> <th>Evelyn Park and Ride</th> <th>Franklin at Maple</th> <th>Golden Gate at Polk</th> <th>Grant Avenue at Columbus Avenue</th> <th>Harry Bridges Plaza (Ferry Building)</th> <th>Howard at 2nd</th> <th>Japantown</th> <th>MLK Library</th> <th>Market at 10th</th> <th>Market at 4th</th> <th>Market at Sansome</th> <th>Mechanics Plaza (Market at Battery)</th> <th>Mezes Park</th> <th>Mountain View Caltrain Station</th> <th>Mountain View City Hall</th> <th>Palo Alto Caltrain Station</th> <th>Park at Olive</th> <th>Paseo de San Antonio</th> <th>Post at Kearny</th> <th>Powell Street BART</th> <th>Powell at Post (Union Square)</th> <th>Redwood City Caltrain Station</th> <th>Redwood City Medical Center</th> <th>Redwood City Public Library</th> <th>Rengstorff Avenue / California Street</th> <th>Ryland Park</th> <th>SJSU - San Salvador at 9th</th> <th>SJSU 4th at San Carlos</th> <th>San Antonio Caltrain Station</th> <th>San Antonio Shopping Center</th> <th>San Francisco Caltrain (Townsend at 4th)</th> <th>San Francisco Caltrain 2 (330 Townsend)</th> <th>San Francisco City Hall</th> <th>San Jose City Hall</th> <th>San Jose Civic Center</th> <th>San Jose Diridon Caltrain Station</th> <th>San Mateo County Center</th> <th>San Pedro Square</th> <th>San Salvador at 1st</th> <th>Santa Clara County Civic Center</th> <th>Santa Clara at Almaden</th> <th>South Van Ness at Market</th> <th>Spear at Folsom</th> <th>St James Park</th> <th>Stanford in Redwood City</th> <th>Steuart at Market</th> <th>Temporary Transbay Terminal (Howard at Beale)</th> <th>Townsend at 7th</th> <th>University and Emerson</th> <th>Washington at Kearny</th> <th>Yerba Buena Center of the Arts (3rd @ Howard)</th>\n",
              "        </tr>\n",
              "    </thead>\n",
              "    <tbody>\n",
              "        <tr>\n",
              "            <td>2nd at Folsom                   </td> <td>61,1796      </td> <td>97,1365          </td> <td>164,1164       </td> <td>268,1565     </td> <td>                </td> <td>                        </td> <td>271,1253       </td> <td>407,1582                 </td> <td>                               </td> <td>                                </td> <td>483,1207                         </td> <td>329,1118       </td> <td>306,939                 </td> <td>                    </td> <td>494,1381        </td> <td>239,1144             </td> <td>262,1763             </td> <td>687,1776              </td> <td>599,1211              </td> <td>                    </td> <td>                 </td> <td>639,1004           </td> <td>416,1155                       </td> <td>282,1706                            </td> <td>80,1643      </td> <td>         </td> <td>           </td> <td>506,1543      </td> <td>237,1050     </td> <td>167,935          </td> <td>250,805                            </td> <td>          </td> <td>                              </td> <td>                       </td> <td>                          </td> <td>             </td> <td>                    </td> <td>208,989       </td> <td>264,1627          </td> <td>290,1361                     </td> <td>                             </td> <td>                           </td> <td>                           </td> <td>                                     </td> <td>           </td> <td>                          </td> <td>                      </td> <td>                            </td> <td>                           </td> <td>300,1254                                </td> <td>303,1742                               </td> <td>584,1450               </td> <td>                  </td> <td>                     </td> <td>                                 </td> <td>                       </td> <td>                </td> <td>                   </td> <td>                               </td> <td>                      </td> <td>590,1197                </td> <td>208,886        </td> <td>             </td> <td>                        </td> <td>318,937          </td> <td>149,890                                      </td> <td>448,1733       </td> <td>                      </td> <td>429,1128            </td> <td>165,1372                                     </td>\n",
              "        </tr>\n",
              "        <tr>\n",
              "            <td>2nd at South Park               </td> <td>61,1478      </td> <td>60,1775          </td> <td>77,1641        </td> <td>86,1767      </td> <td>                </td> <td>                        </td> <td>78,1448        </td> <td>345,1686                 </td> <td>                               </td> <td>                                </td> <td>290,1730                         </td> <td>188,1715       </td> <td>171,1708                </td> <td>                    </td> <td>357,1407        </td> <td>104,972              </td> <td>81,1381              </td> <td>490,1747              </td> <td>341,1765              </td> <td>                    </td> <td>                 </td> <td>369,1064           </td> <td>278,1580                       </td> <td>122,1595                            </td> <td>60,1679      </td> <td>         </td> <td>           </td> <td>416,1604      </td> <td>142,1407     </td> <td>61,1520          </td> <td>68,1530                            </td> <td>          </td> <td>                              </td> <td>                       </td> <td>                          </td> <td>             </td> <td>                    </td> <td>60,927        </td> <td>237,1279          </td> <td>106,1700                     </td> <td>                             </td> <td>                           </td> <td>                           </td> <td>                                     </td> <td>           </td> <td>                          </td> <td>                      </td> <td>                            </td> <td>                           </td> <td>63,1646                                 </td> <td>66,1785                                </td> <td>458,1317               </td> <td>                  </td> <td>                     </td> <td>                                 </td> <td>                       </td> <td>                </td> <td>                   </td> <td>                               </td> <td>                      </td> <td>399,1435                </td> <td>63,1284        </td> <td>             </td> <td>                        </td> <td>79,1787          </td> <td>61,1663                                      </td> <td>78,1435        </td> <td>                      </td> <td>270,1290            </td> <td>96,1781                                      </td>\n",
              "        </tr>\n",
              "        <tr>\n",
              "            <td>2nd at Townsend                 </td> <td>137,1694     </td> <td>67,1755          </td> <td>60,1797        </td> <td>423,1524     </td> <td>                </td> <td>                        </td> <td>311,1747       </td> <td>469,1773                 </td> <td>                               </td> <td>                                </td> <td>546,1629                         </td> <td>520,1640       </td> <td>474,1335                </td> <td>                    </td> <td>436,1516        </td> <td>145,1711             </td> <td>232,1764             </td> <td>509,1730              </td> <td>494,1736              </td> <td>                    </td> <td>                 </td> <td>773,1761           </td> <td>549,1482                       </td> <td>325,1798                            </td> <td>221,1368     </td> <td>         </td> <td>           </td> <td>667,1504      </td> <td>367,1789     </td> <td>265,1639         </td> <td>395,1555                           </td> <td>          </td> <td>                              </td> <td>                       </td> <td>                          </td> <td>             </td> <td>                    </td> <td>319,1687      </td> <td>455,1769          </td> <td>398,1721                     </td> <td>                             </td> <td>                           </td> <td>                           </td> <td>                                     </td> <td>           </td> <td>                          </td> <td>                      </td> <td>                            </td> <td>                           </td> <td>125,1742                                </td> <td>133,1477                               </td> <td>742,1682               </td> <td>                  </td> <td>                     </td> <td>                                 </td> <td>                       </td> <td>                </td> <td>                   </td> <td>                               </td> <td>                      </td> <td>777,1720                </td> <td>241,1706       </td> <td>             </td> <td>                        </td> <td>291,1726         </td> <td>249,1747                                     </td> <td>259,1722       </td> <td>                      </td> <td>610,1798            </td> <td>284,1699                                     </td>\n",
              "        </tr>\n",
              "        <tr>\n",
              "            <td>5th at Howard                   </td> <td>215,1425     </td> <td>300,1576         </td> <td>384,1279       </td> <td>68,1727      </td> <td>                </td> <td>                        </td> <td>357,1483       </td> <td>530,1749                 </td> <td>                               </td> <td>                                </td> <td>179,1734                         </td> <td>412,1221       </td> <td>364,1601                </td> <td>                    </td> <td>543,1005        </td> <td>419,1469             </td> <td>359,1035             </td> <td>695,1775              </td> <td>609,1582              </td> <td>                    </td> <td>                 </td> <td>235,1413           </td> <td>474,1589                       </td> <td>453,1758                            </td> <td>145,1294     </td> <td>         </td> <td>           </td> <td>269,1761      </td> <td>161,1508     </td> <td>250,1321         </td> <td>306,1584                           </td> <td>          </td> <td>                              </td> <td>                       </td> <td>                          </td> <td>             </td> <td>                    </td> <td>234,1553      </td> <td>89,1719           </td> <td>202,1234                     </td> <td>                             </td> <td>                           </td> <td>                           </td> <td>                                     </td> <td>           </td> <td>                          </td> <td>                      </td> <td>                            </td> <td>                           </td> <td>256,1625                                </td> <td>221,1782                               </td> <td>347,1387               </td> <td>                  </td> <td>                     </td> <td>                                 </td> <td>                       </td> <td>                </td> <td>                   </td> <td>                               </td> <td>                      </td> <td>375,1432                </td> <td>402,1192       </td> <td>             </td> <td>                        </td> <td>455,1634         </td> <td>265,1515                                     </td> <td>357,1348       </td> <td>                      </td> <td>553,1627            </td> <td>109,1697                                     </td>\n",
              "        </tr>\n",
              "        <tr>\n",
              "            <td>Adobe on Almaden                </td> <td>             </td> <td>                 </td> <td>               </td> <td>             </td> <td>84,1434         </td> <td>275,809                 </td> <td>               </td> <td>                         </td> <td>                               </td> <td>                                </td> <td>                                 </td> <td>               </td> <td>                        </td> <td>                    </td> <td>                </td> <td>                     </td> <td>                     </td> <td>                      </td> <td>                      </td> <td>                    </td> <td>                 </td> <td>                   </td> <td>                               </td> <td>                                    </td> <td>             </td> <td>701,1271 </td> <td>387,1391   </td> <td>              </td> <td>             </td> <td>                 </td> <td>                                   </td> <td>          </td> <td>                              </td> <td>                       </td> <td>                          </td> <td>             </td> <td>229,1266            </td> <td>              </td> <td>                  </td> <td>                             </td> <td>                             </td> <td>                           </td> <td>                           </td> <td>                                     </td> <td>441,1030   </td> <td>452,1756                  </td> <td>318,1267              </td> <td>                            </td> <td>                           </td> <td>                                        </td> <td>                                       </td> <td>                       </td> <td>309,1157          </td> <td>146,1337             </td> <td>182,1233                         </td> <td>                       </td> <td>207,1228        </td> <td>358,1113           </td> <td>876,1325                       </td> <td>101,1287              </td> <td>                        </td> <td>               </td> <td>369,1136     </td> <td>                        </td> <td>                 </td> <td>                                             </td> <td>               </td> <td>                      </td> <td>                    </td> <td>                                             </td>\n",
              "        </tr>\n",
              "        <tr>\n",
              "            <td>Arena Green / SAP Center        </td> <td>             </td> <td>                 </td> <td>               </td> <td>             </td> <td>305,1433        </td> <td>62,1789                 </td> <td>               </td> <td>                         </td> <td>                               </td> <td>                                </td> <td>                                 </td> <td>               </td> <td>                        </td> <td>                    </td> <td>                </td> <td>                     </td> <td>                     </td> <td>                      </td> <td>                      </td> <td>                    </td> <td>                 </td> <td>                   </td> <td>                               </td> <td>                                    </td> <td>             </td> <td>526,1448 </td> <td>546,1267   </td> <td>              </td> <td>             </td> <td>                 </td> <td>                                   </td> <td>          </td> <td>                              </td> <td>                       </td> <td>                          </td> <td>             </td> <td>403,1375            </td> <td>              </td> <td>                  </td> <td>                             </td> <td>                             </td> <td>                           </td> <td>                           </td> <td>                                     </td> <td>288,1748   </td> <td>875,918                   </td> <td>685,1300              </td> <td>                            </td> <td>                           </td> <td>                                        </td> <td>                                       </td> <td>                       </td> <td>440,674           </td> <td>420,1240             </td> <td>153,1617                         </td> <td>                       </td> <td>166,1403        </td> <td>624,1789           </td> <td>759,1749                       </td> <td>116,1385              </td> <td>                        </td> <td>               </td> <td>301,1045     </td> <td>                        </td> <td>                 </td> <td>                                             </td> <td>               </td> <td>                      </td> <td>                    </td> <td>                                             </td>\n",
              "        </tr>\n",
              "        <tr>\n",
              "            <td>Beale at Market                 </td> <td>219,910      </td> <td>343,1529         </td> <td>417,1654       </td> <td>387,1709     </td> <td>                </td> <td>                        </td> <td>60,1787        </td> <td>155,1288                 </td> <td>                               </td> <td>                                </td> <td>343,1356                         </td> <td>122,1667       </td> <td>153,1104                </td> <td>                    </td> <td>115,1780        </td> <td>216,1617             </td> <td>170,1423             </td> <td>303,1669              </td> <td>198,1486              </td> <td>                    </td> <td>                 </td> <td>437,1169           </td> <td>235,1756                       </td> <td>149,1663                            </td> <td>204,903      </td> <td>         </td> <td>           </td> <td>535,1425      </td> <td>203,1247     </td> <td>88,1590          </td> <td>72,1249                            </td> <td>          </td> <td>                              </td> <td>                       </td> <td>                          </td> <td>             </td> <td>                    </td> <td>191,1074      </td> <td>316,1530          </td> <td>191,1412                     </td> <td>                             </td> <td>                           </td> <td>                           </td> <td>                                     </td> <td>           </td> <td>                          </td> <td>                      </td> <td>                            </td> <td>                           </td> <td>499,1792                                </td> <td>395,1657                               </td> <td>526,1037               </td> <td>                  </td> <td>                     </td> <td>                                 </td> <td>                       </td> <td>                </td> <td>                   </td> <td>                               </td> <td>                      </td> <td>575,1766                </td> <td>173,1197       </td> <td>             </td> <td>                        </td> <td>87,1784          </td> <td>94,1204                                      </td> <td>619,1300       </td> <td>                      </td> <td>222,1497            </td> <td>264,1125                                     </td>\n",
              "        </tr>\n",
              "        <tr>\n",
              "            <td>Broadway St at Battery St       </td> <td>351,1287     </td> <td>424,1531         </td> <td>499,1469       </td> <td>555,1645     </td> <td>                </td> <td>                        </td> <td>195,1076       </td> <td>62,1759                  </td> <td>                               </td> <td>                                </td> <td>520,1483                         </td> <td>90,1756        </td> <td>129,1697                </td> <td>                    </td> <td>70,1751         </td> <td>340,1797             </td> <td>284,1034             </td> <td>128,1676              </td> <td>101,1474              </td> <td>                    </td> <td>                 </td> <td>961,1452           </td> <td>148,1761                       </td> <td>168,1557                            </td> <td>357,1276     </td> <td>         </td> <td>           </td> <td>652,1536      </td> <td>351,1674     </td> <td>218,1745         </td> <td>221,1619                           </td> <td>          </td> <td>                              </td> <td>                       </td> <td>                          </td> <td>             </td> <td>                    </td> <td>255,1180      </td> <td>376,1499          </td> <td>316,1503                     </td> <td>                             </td> <td>                           </td> <td>                           </td> <td>                                     </td> <td>           </td> <td>                          </td> <td>                      </td> <td>                            </td> <td>                           </td> <td>611,1705                                </td> <td>599,1794                               </td> <td>799,1683               </td> <td>                  </td> <td>                     </td> <td>                                 </td> <td>                       </td> <td>                </td> <td>                   </td> <td>                               </td> <td>                      </td> <td>738,1482                </td> <td>336,1731       </td> <td>             </td> <td>                        </td> <td>169,1620         </td> <td>291,1273                                     </td> <td>885,1794       </td> <td>                      </td> <td>134,1761            </td> <td>411,1195                                     </td>\n",
              "        </tr>\n",
              "        <tr>\n",
              "            <td>California Ave Caltrain Station </td> <td>             </td> <td>                 </td> <td>               </td> <td>             </td> <td>                </td> <td>                        </td> <td>               </td> <td>                         </td> <td>82,1767                        </td> <td>1645,1645                       </td> <td>                                 </td> <td>               </td> <td>                        </td> <td>628,1334            </td> <td>                </td> <td>                     </td> <td>                     </td> <td>                      </td> <td>                      </td> <td>                    </td> <td>                 </td> <td>                   </td> <td>                               </td> <td>                                    </td> <td>             </td> <td>         </td> <td>           </td> <td>              </td> <td>             </td> <td>                 </td> <td>                                   </td> <td>          </td> <td>1771,1771                     </td> <td>                       </td> <td>484,1743                  </td> <td>131,1607     </td> <td>                    </td> <td>              </td> <td>                  </td> <td>                             </td> <td>                             </td> <td>                           </td> <td>                           </td> <td>1077,1476                            </td> <td>           </td> <td>                          </td> <td>                      </td> <td>870,1769                    </td> <td>911,1076                   </td> <td>                                        </td> <td>                                       </td> <td>                       </td> <td>                  </td> <td>                     </td> <td>                                 </td> <td>                       </td> <td>                </td> <td>                   </td> <td>                               </td> <td>                      </td> <td>                        </td> <td>               </td> <td>             </td> <td>                        </td> <td>                 </td> <td>                                             </td> <td>               </td> <td>531,1687              </td> <td>                    </td> <td>                                             </td>\n",
              "        </tr>\n",
              "        <tr>\n",
              "            <td>Castro Street and El Camino Real</td> <td>             </td> <td>                 </td> <td>               </td> <td>             </td> <td>                </td> <td>                        </td> <td>               </td> <td>                         </td> <td>                               </td> <td>74,1590                         </td> <td>                                 </td> <td>               </td> <td>                        </td> <td>                    </td> <td>                </td> <td>                     </td> <td>                     </td> <td>                      </td> <td>                      </td> <td>499,1560            </td> <td>                 </td> <td>                   </td> <td>                               </td> <td>                                    </td> <td>             </td> <td>         </td> <td>           </td> <td>              </td> <td>             </td> <td>                 </td> <td>                                   </td> <td>          </td> <td>201,1651                      </td> <td>108,1585               </td> <td>                          </td> <td>             </td> <td>                    </td> <td>              </td> <td>                  </td> <td>                             </td> <td>                             </td> <td>                           </td> <td>                           </td> <td>654,1124                             </td> <td>           </td> <td>                          </td> <td>                      </td> <td>953,1253                    </td> <td>696,1730                   </td> <td>                                        </td> <td>                                       </td> <td>                       </td> <td>                  </td> <td>                     </td> <td>                                 </td> <td>                       </td> <td>                </td> <td>                   </td> <td>                               </td> <td>                      </td> <td>                        </td> <td>               </td> <td>             </td> <td>                        </td> <td>                 </td> <td>                                             </td> <td>               </td> <td>                      </td> <td>                    </td> <td>                                             </td>\n",
              "        </tr>\n",
              "    </tbody>\n",
              "</table>\n",
              "<p>... (60 rows omitted)</p>"
            ],
            "text/plain": [
              "End Station                      | 2nd at Folsom | 2nd at South Park | 2nd at Townsend | 5th at Howard | Adobe on Almaden | Arena Green / SAP Center | Beale at Market | Broadway St at Battery St | California Ave Caltrain Station | Castro Street and El Camino Real | Civic Center BART (7th at Market) | Clay at Battery | Commercial at Montgomery | Cowper at University | Davis at Jackson | Embarcadero at Bryant | Embarcadero at Folsom | Embarcadero at Sansome | Embarcadero at Vallejo | Evelyn Park and Ride | Franklin at Maple | Golden Gate at Polk | Grant Avenue at Columbus Avenue | Harry Bridges Plaza (Ferry Building) | Howard at 2nd | Japantown | MLK Library | Market at 10th | Market at 4th | Market at Sansome | Mechanics Plaza (Market at Battery) | Mezes Park | Mountain View Caltrain Station | Mountain View City Hall | Palo Alto Caltrain Station | Park at Olive | Paseo de San Antonio | Post at Kearny | Powell Street BART | Powell at Post (Union Square) | Redwood City Caltrain Station | Redwood City Medical Center | Redwood City Public Library | Rengstorff Avenue / California Street | Ryland Park | SJSU - San Salvador at 9th | SJSU 4th at San Carlos | San Antonio Caltrain Station | San Antonio Shopping Center | San Francisco Caltrain (Townsend at 4th) | San Francisco Caltrain 2 (330 Townsend) | San Francisco City Hall | San Jose City Hall | San Jose Civic Center | San Jose Diridon Caltrain Station | San Mateo County Center | San Pedro Square | San Salvador at 1st | Santa Clara County Civic Center | Santa Clara at Almaden | South Van Ness at Market | Spear at Folsom | St James Park | Stanford in Redwood City | Steuart at Market | Temporary Transbay Terminal (Howard at Beale) | Townsend at 7th | University and Emerson | Washington at Kearny | Yerba Buena Center of the Arts (3rd @ Howard)\n",
              "2nd at Folsom                    | 61,1796       | 97,1365           | 164,1164        | 268,1565      |                  |                          | 271,1253        | 407,1582                  |                                 |                                  | 483,1207                          | 329,1118        | 306,939                  |                      | 494,1381         | 239,1144              | 262,1763              | 687,1776               | 599,1211               |                      |                   | 639,1004            | 416,1155                        | 282,1706                             | 80,1643       |           |             | 506,1543       | 237,1050      | 167,935           | 250,805                             |            |                                |                         |                            |               |                      | 208,989        | 264,1627           | 290,1361                      |                               |                             |                             |                                       |             |                            |                        |                              |                             | 300,1254                                 | 303,1742                                | 584,1450                |                    |                       |                                   |                         |                  |                     |                                 |                        | 590,1197                 | 208,886         |               |                          | 318,937           | 149,890                                       | 448,1733        |                        | 429,1128             | 165,1372\n",
              "2nd at South Park                | 61,1478       | 60,1775           | 77,1641         | 86,1767       |                  |                          | 78,1448         | 345,1686                  |                                 |                                  | 290,1730                          | 188,1715        | 171,1708                 |                      | 357,1407         | 104,972               | 81,1381               | 490,1747               | 341,1765               |                      |                   | 369,1064            | 278,1580                        | 122,1595                             | 60,1679       |           |             | 416,1604       | 142,1407      | 61,1520           | 68,1530                             |            |                                |                         |                            |               |                      | 60,927         | 237,1279           | 106,1700                      |                               |                             |                             |                                       |             |                            |                        |                              |                             | 63,1646                                  | 66,1785                                 | 458,1317                |                    |                       |                                   |                         |                  |                     |                                 |                        | 399,1435                 | 63,1284         |               |                          | 79,1787           | 61,1663                                       | 78,1435         |                        | 270,1290             | 96,1781\n",
              "2nd at Townsend                  | 137,1694      | 67,1755           | 60,1797         | 423,1524      |                  |                          | 311,1747        | 469,1773                  |                                 |                                  | 546,1629                          | 520,1640        | 474,1335                 |                      | 436,1516         | 145,1711              | 232,1764              | 509,1730               | 494,1736               |                      |                   | 773,1761            | 549,1482                        | 325,1798                             | 221,1368      |           |             | 667,1504       | 367,1789      | 265,1639          | 395,1555                            |            |                                |                         |                            |               |                      | 319,1687       | 455,1769           | 398,1721                      |                               |                             |                             |                                       |             |                            |                        |                              |                             | 125,1742                                 | 133,1477                                | 742,1682                |                    |                       |                                   |                         |                  |                     |                                 |                        | 777,1720                 | 241,1706        |               |                          | 291,1726          | 249,1747                                      | 259,1722        |                        | 610,1798             | 284,1699\n",
              "5th at Howard                    | 215,1425      | 300,1576          | 384,1279        | 68,1727       |                  |                          | 357,1483        | 530,1749                  |                                 |                                  | 179,1734                          | 412,1221        | 364,1601                 |                      | 543,1005         | 419,1469              | 359,1035              | 695,1775               | 609,1582               |                      |                   | 235,1413            | 474,1589                        | 453,1758                             | 145,1294      |           |             | 269,1761       | 161,1508      | 250,1321          | 306,1584                            |            |                                |                         |                            |               |                      | 234,1553       | 89,1719            | 202,1234                      |                               |                             |                             |                                       |             |                            |                        |                              |                             | 256,1625                                 | 221,1782                                | 347,1387                |                    |                       |                                   |                         |                  |                     |                                 |                        | 375,1432                 | 402,1192        |               |                          | 455,1634          | 265,1515                                      | 357,1348        |                        | 553,1627             | 109,1697\n",
              "Adobe on Almaden                 |               |                   |                 |               | 84,1434          | 275,809                  |                 |                           |                                 |                                  |                                   |                 |                          |                      |                  |                       |                       |                        |                        |                      |                   |                     |                                 |                                      |               | 701,1271  | 387,1391    |                |               |                   |                                     |            |                                |                         |                            |               | 229,1266             |                |                    |                               |                               |                             |                             |                                       | 441,1030    | 452,1756                   | 318,1267               |                              |                             |                                          |                                         |                         | 309,1157           | 146,1337              | 182,1233                          |                         | 207,1228         | 358,1113            | 876,1325                        | 101,1287               |                          |                 | 369,1136      |                          |                   |                                               |                 |                        |                      |\n",
              "Arena Green / SAP Center         |               |                   |                 |               | 305,1433         | 62,1789                  |                 |                           |                                 |                                  |                                   |                 |                          |                      |                  |                       |                       |                        |                        |                      |                   |                     |                                 |                                      |               | 526,1448  | 546,1267    |                |               |                   |                                     |            |                                |                         |                            |               | 403,1375             |                |                    |                               |                               |                             |                             |                                       | 288,1748    | 875,918                    | 685,1300               |                              |                             |                                          |                                         |                         | 440,674            | 420,1240              | 153,1617                          |                         | 166,1403         | 624,1789            | 759,1749                        | 116,1385               |                          |                 | 301,1045      |                          |                   |                                               |                 |                        |                      |\n",
              "Beale at Market                  | 219,910       | 343,1529          | 417,1654        | 387,1709      |                  |                          | 60,1787         | 155,1288                  |                                 |                                  | 343,1356                          | 122,1667        | 153,1104                 |                      | 115,1780         | 216,1617              | 170,1423              | 303,1669               | 198,1486               |                      |                   | 437,1169            | 235,1756                        | 149,1663                             | 204,903       |           |             | 535,1425       | 203,1247      | 88,1590           | 72,1249                             |            |                                |                         |                            |               |                      | 191,1074       | 316,1530           | 191,1412                      |                               |                             |                             |                                       |             |                            |                        |                              |                             | 499,1792                                 | 395,1657                                | 526,1037                |                    |                       |                                   |                         |                  |                     |                                 |                        | 575,1766                 | 173,1197        |               |                          | 87,1784           | 94,1204                                       | 619,1300        |                        | 222,1497             | 264,1125\n",
              "Broadway St at Battery St        | 351,1287      | 424,1531          | 499,1469        | 555,1645      |                  |                          | 195,1076        | 62,1759                   |                                 |                                  | 520,1483                          | 90,1756         | 129,1697                 |                      | 70,1751          | 340,1797              | 284,1034              | 128,1676               | 101,1474               |                      |                   | 961,1452            | 148,1761                        | 168,1557                             | 357,1276      |           |             | 652,1536       | 351,1674      | 218,1745          | 221,1619                            |            |                                |                         |                            |               |                      | 255,1180       | 376,1499           | 316,1503                      |                               |                             |                             |                                       |             |                            |                        |                              |                             | 611,1705                                 | 599,1794                                | 799,1683                |                    |                       |                                   |                         |                  |                     |                                 |                        | 738,1482                 | 336,1731        |               |                          | 169,1620          | 291,1273                                      | 885,1794        |                        | 134,1761             | 411,1195\n",
              "California Ave Caltrain Station  |               |                   |                 |               |                  |                          |                 |                           | 82,1767                         | 1645,1645                        |                                   |                 |                          | 628,1334             |                  |                       |                       |                        |                        |                      |                   |                     |                                 |                                      |               |           |             |                |               |                   |                                     |            | 1771,1771                      |                         | 484,1743                   | 131,1607      |                      |                |                    |                               |                               |                             |                             | 1077,1476                             |             |                            |                        | 870,1769                     | 911,1076                    |                                          |                                         |                         |                    |                       |                                   |                         |                  |                     |                                 |                        |                          |                 |               |                          |                   |                                               |                 | 531,1687               |                      |\n",
              "Castro Street and El Camino Real |               |                   |                 |               |                  |                          |                 |                           |                                 | 74,1590                          |                                   |                 |                          |                      |                  |                       |                       |                        |                        | 499,1560             |                   |                     |                                 |                                      |               |           |             |                |               |                   |                                     |            | 201,1651                       | 108,1585                |                            |               |                      |                |                    |                               |                               |                             |                             | 654,1124                              |             |                            |                        | 953,1253                     | 696,1730                    |                                          |                                         |                         |                    |                       |                                   |                         |                  |                     |                                 |                        |                          |                 |               |                          |                   |                                               |                 |                        |                      |\n",
              "... (60 rows omitted)"
            ]
          },
          "execution_count": 28,
          "metadata": {},
          "output_type": "execute_result"
        }
      ],
      "source": [
        "# Time it should take- direct without stopping\n",
        "commute.pivot('Start Station', 'End Station', values='Duration', collect=min_and_max)"
      ]
    },
    {
      "cell_type": "markdown",
      "metadata": {
        "id": "h1-KiLIWU6WW"
      },
      "source": [
        "How can we find the fastest trip ever between each pair of stations using group?"
      ]
    },
    {
      "cell_type": "code",
      "execution_count": null,
      "metadata": {
        "colab": {
          "base_uri": "https://localhost:8080/",
          "height": 392
        },
        "id": "NOqpcv6mU6WW",
        "outputId": "8051716e-88ea-40b0-f675-4fe77f918b85"
      },
      "outputs": [
        {
          "data": {
            "text/html": [
              "<table border=\"1\" class=\"dataframe\">\n",
              "    <thead>\n",
              "        <tr>\n",
              "            <th>Start Station</th> <th>End Station</th> <th>Duration</th>\n",
              "        </tr>\n",
              "    </thead>\n",
              "    <tbody>\n",
              "        <tr>\n",
              "            <td>Harry Bridges Plaza (Ferry Building)         </td> <td>San Francisco Caltrain (Townsend at 4th)     </td> <td>765     </td>\n",
              "        </tr>\n",
              "        <tr>\n",
              "            <td>San Antonio Shopping Center                  </td> <td>Mountain View City Hall                      </td> <td>1036    </td>\n",
              "        </tr>\n",
              "        <tr>\n",
              "            <td>Post at Kearny                               </td> <td>2nd at South Park                            </td> <td>307     </td>\n",
              "        </tr>\n",
              "        <tr>\n",
              "            <td>San Jose City Hall                           </td> <td>San Salvador at 1st                          </td> <td>409     </td>\n",
              "        </tr>\n",
              "        <tr>\n",
              "            <td>Embarcadero at Folsom                        </td> <td>Embarcadero at Sansome                       </td> <td>789     </td>\n",
              "        </tr>\n",
              "        <tr>\n",
              "            <td>Yerba Buena Center of the Arts (3rd @ Howard)</td> <td>San Francisco Caltrain (Townsend at 4th)     </td> <td>293     </td>\n",
              "        </tr>\n",
              "        <tr>\n",
              "            <td>Embarcadero at Folsom                        </td> <td>Embarcadero at Sansome                       </td> <td>896     </td>\n",
              "        </tr>\n",
              "        <tr>\n",
              "            <td>Embarcadero at Sansome                       </td> <td>Steuart at Market                            </td> <td>255     </td>\n",
              "        </tr>\n",
              "        <tr>\n",
              "            <td>Beale at Market                              </td> <td>Temporary Transbay Terminal (Howard at Beale)</td> <td>126     </td>\n",
              "        </tr>\n",
              "        <tr>\n",
              "            <td>Post at Kearny                               </td> <td>South Van Ness at Market                     </td> <td>932     </td>\n",
              "        </tr>\n",
              "    </tbody>\n",
              "</table>\n",
              "<p>... (354142 rows omitted)</p>"
            ],
            "text/plain": [
              "Start Station                                 | End Station                                   | Duration\n",
              "Harry Bridges Plaza (Ferry Building)          | San Francisco Caltrain (Townsend at 4th)      | 765\n",
              "San Antonio Shopping Center                   | Mountain View City Hall                       | 1036\n",
              "Post at Kearny                                | 2nd at South Park                             | 307\n",
              "San Jose City Hall                            | San Salvador at 1st                           | 409\n",
              "Embarcadero at Folsom                         | Embarcadero at Sansome                        | 789\n",
              "Yerba Buena Center of the Arts (3rd @ Howard) | San Francisco Caltrain (Townsend at 4th)      | 293\n",
              "Embarcadero at Folsom                         | Embarcadero at Sansome                        | 896\n",
              "Embarcadero at Sansome                        | Steuart at Market                             | 255\n",
              "Beale at Market                               | Temporary Transbay Terminal (Howard at Beale) | 126\n",
              "Post at Kearny                                | South Van Ness at Market                      | 932\n",
              "... (354142 rows omitted)"
            ]
          },
          "execution_count": 25,
          "metadata": {},
          "output_type": "execute_result"
        }
      ],
      "source": [
        "duration = trip.select('Start Station', 'End Station', 'Duration')\n",
        "duration"
      ]
    },
    {
      "cell_type": "code",
      "execution_count": null,
      "metadata": {
        "colab": {
          "base_uri": "https://localhost:8080/",
          "height": 235
        },
        "id": "UOT9bmIPU6WW",
        "outputId": "60c23a6d-25fa-45e4-f931-7762ee9f5296"
      },
      "outputs": [
        {
          "data": {
            "text/html": [
              "<table border=\"1\" class=\"dataframe\">\n",
              "    <thead>\n",
              "        <tr>\n",
              "            <th>Start Station</th> <th>End Station</th> <th>Duration min</th>\n",
              "        </tr>\n",
              "    </thead>\n",
              "    <tbody>\n",
              "        <tr>\n",
              "            <td>2nd at Folsom</td> <td>2nd at Folsom    </td> <td>61          </td>\n",
              "        </tr>\n",
              "        <tr>\n",
              "            <td>2nd at Folsom</td> <td>2nd at South Park</td> <td>61          </td>\n",
              "        </tr>\n",
              "        <tr>\n",
              "            <td>2nd at Folsom</td> <td>2nd at Townsend  </td> <td>137         </td>\n",
              "        </tr>\n",
              "        <tr>\n",
              "            <td>2nd at Folsom</td> <td>5th at Howard    </td> <td>215         </td>\n",
              "        </tr>\n",
              "        <tr>\n",
              "            <td>2nd at Folsom</td> <td>Beale at Market  </td> <td>219         </td>\n",
              "        </tr>\n",
              "    </tbody>\n",
              "</table>\n",
              "<p>... (1687 rows omitted)</p>"
            ],
            "text/plain": [
              "<IPython.core.display.HTML object>"
            ]
          },
          "metadata": {},
          "output_type": "display_data"
        }
      ],
      "source": [
        "shortest = duration.group(['Start Station', 'End Station'], min)\n",
        "shortest.show(5)"
      ]
    },
    {
      "cell_type": "markdown",
      "metadata": {
        "id": "qx8z7K0dU6WW"
      },
      "source": [
        "## Discussion question"
      ]
    },
    {
      "cell_type": "markdown",
      "metadata": {
        "id": "OORh53rIU6WW"
      },
      "source": [
        "Find the 5 stations closest to Civic Center BART by minimum trip time."
      ]
    },
    {
      "cell_type": "code",
      "execution_count": null,
      "metadata": {
        "colab": {
          "base_uri": "https://localhost:8080/"
        },
        "id": "ByXx_nvMU6WW",
        "outputId": "080037e6-0685-4ad6-e310-8057844ad033"
      },
      "outputs": [
        {
          "data": {
            "text/plain": [
              "array(['Civic Center BART (7th at Market)', 'Powell Street BART',\n",
              "       'Market at 10th', 'Golden Gate at Polk', 'San Francisco City Hall'],\n",
              "      dtype='<U45')"
            ]
          },
          "execution_count": 30,
          "metadata": {},
          "output_type": "execute_result"
        }
      ],
      "source": [
        "from_cc = shortest.where(\n",
        "    'Start Station', are.containing('Civic Center BART')).sort(\n",
        "    'Duration min')\n",
        "from_cc.take(np.arange(5)).column('End Station')"
      ]
    },
    {
      "cell_type": "markdown",
      "metadata": {
        "id": "vXiSKYd9U6WW"
      },
      "source": [
        "## Maps ##"
      ]
    },
    {
      "cell_type": "code",
      "execution_count": null,
      "metadata": {
        "colab": {
          "base_uri": "https://localhost:8080/",
          "height": 373
        },
        "id": "8KBS1NaaU6WX",
        "outputId": "3694c335-ff9d-4581-c81c-87b3540be865"
      },
      "outputs": [
        {
          "ename": "FileNotFoundError",
          "evalue": "ignored",
          "output_type": "error",
          "traceback": [
            "\u001b[0;31m---------------------------------------------------------------------------\u001b[0m",
            "\u001b[0;31mFileNotFoundError\u001b[0m                         Traceback (most recent call last)",
            "\u001b[0;32m<ipython-input-31-4b789ff846e1>\u001b[0m in \u001b[0;36m<cell line: 2>\u001b[0;34m()\u001b[0m\n\u001b[1;32m      1\u001b[0m \u001b[0;31m# Geographical data on the stations (dropping some columns we don't need)\u001b[0m\u001b[0;34m\u001b[0m\u001b[0;34m\u001b[0m\u001b[0m\n\u001b[0;32m----> 2\u001b[0;31m \u001b[0mstations\u001b[0m \u001b[0;34m=\u001b[0m \u001b[0mTable\u001b[0m\u001b[0;34m.\u001b[0m\u001b[0mread_table\u001b[0m\u001b[0;34m(\u001b[0m\u001b[0;34m'station.csv'\u001b[0m\u001b[0;34m)\u001b[0m\u001b[0;34m.\u001b[0m\u001b[0mdrop\u001b[0m\u001b[0;34m(\u001b[0m\u001b[0;36m4\u001b[0m\u001b[0;34m,\u001b[0m \u001b[0;36m6\u001b[0m\u001b[0;34m)\u001b[0m\u001b[0;34m\u001b[0m\u001b[0;34m\u001b[0m\u001b[0m\n\u001b[0m\u001b[1;32m      3\u001b[0m \u001b[0mstations\u001b[0m\u001b[0;34m\u001b[0m\u001b[0;34m\u001b[0m\u001b[0m\n",
            "\u001b[0;32m/usr/local/lib/python3.10/dist-packages/datascience/tables.py\u001b[0m in \u001b[0;36mread_table\u001b[0;34m(cls, filepath_or_buffer, *args, **vargs)\u001b[0m\n\u001b[1;32m    161\u001b[0m         \u001b[0;32mexcept\u001b[0m \u001b[0mAttributeError\u001b[0m\u001b[0;34m:\u001b[0m\u001b[0;34m\u001b[0m\u001b[0;34m\u001b[0m\u001b[0m\n\u001b[1;32m    162\u001b[0m             \u001b[0;32mpass\u001b[0m\u001b[0;34m\u001b[0m\u001b[0;34m\u001b[0m\u001b[0m\n\u001b[0;32m--> 163\u001b[0;31m         \u001b[0mdf\u001b[0m \u001b[0;34m=\u001b[0m \u001b[0mpandas\u001b[0m\u001b[0;34m.\u001b[0m\u001b[0mread_csv\u001b[0m\u001b[0;34m(\u001b[0m\u001b[0mfilepath_or_buffer\u001b[0m\u001b[0;34m,\u001b[0m \u001b[0;34m*\u001b[0m\u001b[0margs\u001b[0m\u001b[0;34m,\u001b[0m \u001b[0;34m**\u001b[0m\u001b[0mvargs\u001b[0m\u001b[0;34m)\u001b[0m\u001b[0;34m\u001b[0m\u001b[0;34m\u001b[0m\u001b[0m\n\u001b[0m\u001b[1;32m    164\u001b[0m         \u001b[0;32mreturn\u001b[0m \u001b[0mcls\u001b[0m\u001b[0;34m.\u001b[0m\u001b[0mfrom_df\u001b[0m\u001b[0;34m(\u001b[0m\u001b[0mdf\u001b[0m\u001b[0;34m)\u001b[0m\u001b[0;34m\u001b[0m\u001b[0;34m\u001b[0m\u001b[0m\n\u001b[1;32m    165\u001b[0m \u001b[0;34m\u001b[0m\u001b[0m\n",
            "\u001b[0;32m/usr/local/lib/python3.10/dist-packages/pandas/util/_decorators.py\u001b[0m in \u001b[0;36mwrapper\u001b[0;34m(*args, **kwargs)\u001b[0m\n\u001b[1;32m    209\u001b[0m                 \u001b[0;32melse\u001b[0m\u001b[0;34m:\u001b[0m\u001b[0;34m\u001b[0m\u001b[0;34m\u001b[0m\u001b[0m\n\u001b[1;32m    210\u001b[0m                     \u001b[0mkwargs\u001b[0m\u001b[0;34m[\u001b[0m\u001b[0mnew_arg_name\u001b[0m\u001b[0;34m]\u001b[0m \u001b[0;34m=\u001b[0m \u001b[0mnew_arg_value\u001b[0m\u001b[0;34m\u001b[0m\u001b[0;34m\u001b[0m\u001b[0m\n\u001b[0;32m--> 211\u001b[0;31m             \u001b[0;32mreturn\u001b[0m \u001b[0mfunc\u001b[0m\u001b[0;34m(\u001b[0m\u001b[0;34m*\u001b[0m\u001b[0margs\u001b[0m\u001b[0;34m,\u001b[0m \u001b[0;34m**\u001b[0m\u001b[0mkwargs\u001b[0m\u001b[0;34m)\u001b[0m\u001b[0;34m\u001b[0m\u001b[0;34m\u001b[0m\u001b[0m\n\u001b[0m\u001b[1;32m    212\u001b[0m \u001b[0;34m\u001b[0m\u001b[0m\n\u001b[1;32m    213\u001b[0m         \u001b[0;32mreturn\u001b[0m \u001b[0mcast\u001b[0m\u001b[0;34m(\u001b[0m\u001b[0mF\u001b[0m\u001b[0;34m,\u001b[0m \u001b[0mwrapper\u001b[0m\u001b[0;34m)\u001b[0m\u001b[0;34m\u001b[0m\u001b[0;34m\u001b[0m\u001b[0m\n",
            "\u001b[0;32m/usr/local/lib/python3.10/dist-packages/pandas/util/_decorators.py\u001b[0m in \u001b[0;36mwrapper\u001b[0;34m(*args, **kwargs)\u001b[0m\n\u001b[1;32m    329\u001b[0m                     \u001b[0mstacklevel\u001b[0m\u001b[0;34m=\u001b[0m\u001b[0mfind_stack_level\u001b[0m\u001b[0;34m(\u001b[0m\u001b[0;34m)\u001b[0m\u001b[0;34m,\u001b[0m\u001b[0;34m\u001b[0m\u001b[0;34m\u001b[0m\u001b[0m\n\u001b[1;32m    330\u001b[0m                 )\n\u001b[0;32m--> 331\u001b[0;31m             \u001b[0;32mreturn\u001b[0m \u001b[0mfunc\u001b[0m\u001b[0;34m(\u001b[0m\u001b[0;34m*\u001b[0m\u001b[0margs\u001b[0m\u001b[0;34m,\u001b[0m \u001b[0;34m**\u001b[0m\u001b[0mkwargs\u001b[0m\u001b[0;34m)\u001b[0m\u001b[0;34m\u001b[0m\u001b[0;34m\u001b[0m\u001b[0m\n\u001b[0m\u001b[1;32m    332\u001b[0m \u001b[0;34m\u001b[0m\u001b[0m\n\u001b[1;32m    333\u001b[0m         \u001b[0;31m# error: \"Callable[[VarArg(Any), KwArg(Any)], Any]\" has no\u001b[0m\u001b[0;34m\u001b[0m\u001b[0;34m\u001b[0m\u001b[0m\n",
            "\u001b[0;32m/usr/local/lib/python3.10/dist-packages/pandas/io/parsers/readers.py\u001b[0m in \u001b[0;36mread_csv\u001b[0;34m(filepath_or_buffer, sep, delimiter, header, names, index_col, usecols, squeeze, prefix, mangle_dupe_cols, dtype, engine, converters, true_values, false_values, skipinitialspace, skiprows, skipfooter, nrows, na_values, keep_default_na, na_filter, verbose, skip_blank_lines, parse_dates, infer_datetime_format, keep_date_col, date_parser, dayfirst, cache_dates, iterator, chunksize, compression, thousands, decimal, lineterminator, quotechar, quoting, doublequote, escapechar, comment, encoding, encoding_errors, dialect, error_bad_lines, warn_bad_lines, on_bad_lines, delim_whitespace, low_memory, memory_map, float_precision, storage_options)\u001b[0m\n\u001b[1;32m    948\u001b[0m     \u001b[0mkwds\u001b[0m\u001b[0;34m.\u001b[0m\u001b[0mupdate\u001b[0m\u001b[0;34m(\u001b[0m\u001b[0mkwds_defaults\u001b[0m\u001b[0;34m)\u001b[0m\u001b[0;34m\u001b[0m\u001b[0;34m\u001b[0m\u001b[0m\n\u001b[1;32m    949\u001b[0m \u001b[0;34m\u001b[0m\u001b[0m\n\u001b[0;32m--> 950\u001b[0;31m     \u001b[0;32mreturn\u001b[0m \u001b[0m_read\u001b[0m\u001b[0;34m(\u001b[0m\u001b[0mfilepath_or_buffer\u001b[0m\u001b[0;34m,\u001b[0m \u001b[0mkwds\u001b[0m\u001b[0;34m)\u001b[0m\u001b[0;34m\u001b[0m\u001b[0;34m\u001b[0m\u001b[0m\n\u001b[0m\u001b[1;32m    951\u001b[0m \u001b[0;34m\u001b[0m\u001b[0m\n\u001b[1;32m    952\u001b[0m \u001b[0;34m\u001b[0m\u001b[0m\n",
            "\u001b[0;32m/usr/local/lib/python3.10/dist-packages/pandas/io/parsers/readers.py\u001b[0m in \u001b[0;36m_read\u001b[0;34m(filepath_or_buffer, kwds)\u001b[0m\n\u001b[1;32m    603\u001b[0m \u001b[0;34m\u001b[0m\u001b[0m\n\u001b[1;32m    604\u001b[0m     \u001b[0;31m# Create the parser.\u001b[0m\u001b[0;34m\u001b[0m\u001b[0;34m\u001b[0m\u001b[0m\n\u001b[0;32m--> 605\u001b[0;31m     \u001b[0mparser\u001b[0m \u001b[0;34m=\u001b[0m \u001b[0mTextFileReader\u001b[0m\u001b[0;34m(\u001b[0m\u001b[0mfilepath_or_buffer\u001b[0m\u001b[0;34m,\u001b[0m \u001b[0;34m**\u001b[0m\u001b[0mkwds\u001b[0m\u001b[0;34m)\u001b[0m\u001b[0;34m\u001b[0m\u001b[0;34m\u001b[0m\u001b[0m\n\u001b[0m\u001b[1;32m    606\u001b[0m \u001b[0;34m\u001b[0m\u001b[0m\n\u001b[1;32m    607\u001b[0m     \u001b[0;32mif\u001b[0m \u001b[0mchunksize\u001b[0m \u001b[0;32mor\u001b[0m \u001b[0miterator\u001b[0m\u001b[0;34m:\u001b[0m\u001b[0;34m\u001b[0m\u001b[0;34m\u001b[0m\u001b[0m\n",
            "\u001b[0;32m/usr/local/lib/python3.10/dist-packages/pandas/io/parsers/readers.py\u001b[0m in \u001b[0;36m__init__\u001b[0;34m(self, f, engine, **kwds)\u001b[0m\n\u001b[1;32m   1440\u001b[0m \u001b[0;34m\u001b[0m\u001b[0m\n\u001b[1;32m   1441\u001b[0m         \u001b[0mself\u001b[0m\u001b[0;34m.\u001b[0m\u001b[0mhandles\u001b[0m\u001b[0;34m:\u001b[0m \u001b[0mIOHandles\u001b[0m \u001b[0;34m|\u001b[0m \u001b[0;32mNone\u001b[0m \u001b[0;34m=\u001b[0m \u001b[0;32mNone\u001b[0m\u001b[0;34m\u001b[0m\u001b[0;34m\u001b[0m\u001b[0m\n\u001b[0;32m-> 1442\u001b[0;31m         \u001b[0mself\u001b[0m\u001b[0;34m.\u001b[0m\u001b[0m_engine\u001b[0m \u001b[0;34m=\u001b[0m \u001b[0mself\u001b[0m\u001b[0;34m.\u001b[0m\u001b[0m_make_engine\u001b[0m\u001b[0;34m(\u001b[0m\u001b[0mf\u001b[0m\u001b[0;34m,\u001b[0m \u001b[0mself\u001b[0m\u001b[0;34m.\u001b[0m\u001b[0mengine\u001b[0m\u001b[0;34m)\u001b[0m\u001b[0;34m\u001b[0m\u001b[0;34m\u001b[0m\u001b[0m\n\u001b[0m\u001b[1;32m   1443\u001b[0m \u001b[0;34m\u001b[0m\u001b[0m\n\u001b[1;32m   1444\u001b[0m     \u001b[0;32mdef\u001b[0m \u001b[0mclose\u001b[0m\u001b[0;34m(\u001b[0m\u001b[0mself\u001b[0m\u001b[0;34m)\u001b[0m \u001b[0;34m->\u001b[0m \u001b[0;32mNone\u001b[0m\u001b[0;34m:\u001b[0m\u001b[0;34m\u001b[0m\u001b[0;34m\u001b[0m\u001b[0m\n",
            "\u001b[0;32m/usr/local/lib/python3.10/dist-packages/pandas/io/parsers/readers.py\u001b[0m in \u001b[0;36m_make_engine\u001b[0;34m(self, f, engine)\u001b[0m\n\u001b[1;32m   1733\u001b[0m                 \u001b[0;32mif\u001b[0m \u001b[0;34m\"b\"\u001b[0m \u001b[0;32mnot\u001b[0m \u001b[0;32min\u001b[0m \u001b[0mmode\u001b[0m\u001b[0;34m:\u001b[0m\u001b[0;34m\u001b[0m\u001b[0;34m\u001b[0m\u001b[0m\n\u001b[1;32m   1734\u001b[0m                     \u001b[0mmode\u001b[0m \u001b[0;34m+=\u001b[0m \u001b[0;34m\"b\"\u001b[0m\u001b[0;34m\u001b[0m\u001b[0;34m\u001b[0m\u001b[0m\n\u001b[0;32m-> 1735\u001b[0;31m             self.handles = get_handle(\n\u001b[0m\u001b[1;32m   1736\u001b[0m                 \u001b[0mf\u001b[0m\u001b[0;34m,\u001b[0m\u001b[0;34m\u001b[0m\u001b[0;34m\u001b[0m\u001b[0m\n\u001b[1;32m   1737\u001b[0m                 \u001b[0mmode\u001b[0m\u001b[0;34m,\u001b[0m\u001b[0;34m\u001b[0m\u001b[0;34m\u001b[0m\u001b[0m\n",
            "\u001b[0;32m/usr/local/lib/python3.10/dist-packages/pandas/io/common.py\u001b[0m in \u001b[0;36mget_handle\u001b[0;34m(path_or_buf, mode, encoding, compression, memory_map, is_text, errors, storage_options)\u001b[0m\n\u001b[1;32m    854\u001b[0m         \u001b[0;32mif\u001b[0m \u001b[0mioargs\u001b[0m\u001b[0;34m.\u001b[0m\u001b[0mencoding\u001b[0m \u001b[0;32mand\u001b[0m \u001b[0;34m\"b\"\u001b[0m \u001b[0;32mnot\u001b[0m \u001b[0;32min\u001b[0m \u001b[0mioargs\u001b[0m\u001b[0;34m.\u001b[0m\u001b[0mmode\u001b[0m\u001b[0;34m:\u001b[0m\u001b[0;34m\u001b[0m\u001b[0;34m\u001b[0m\u001b[0m\n\u001b[1;32m    855\u001b[0m             \u001b[0;31m# Encoding\u001b[0m\u001b[0;34m\u001b[0m\u001b[0;34m\u001b[0m\u001b[0m\n\u001b[0;32m--> 856\u001b[0;31m             handle = open(\n\u001b[0m\u001b[1;32m    857\u001b[0m                 \u001b[0mhandle\u001b[0m\u001b[0;34m,\u001b[0m\u001b[0;34m\u001b[0m\u001b[0;34m\u001b[0m\u001b[0m\n\u001b[1;32m    858\u001b[0m                 \u001b[0mioargs\u001b[0m\u001b[0;34m.\u001b[0m\u001b[0mmode\u001b[0m\u001b[0;34m,\u001b[0m\u001b[0;34m\u001b[0m\u001b[0;34m\u001b[0m\u001b[0m\n",
            "\u001b[0;31mFileNotFoundError\u001b[0m: [Errno 2] No such file or directory: 'station.csv'"
          ]
        }
      ],
      "source": [
        "## Need this dataset\n",
        "\n",
        "# Geographical data on the stations (dropping some columns we don't need)\n",
        "stations = Table.read_table('station.csv').drop(4, 6)\n",
        "stations"
      ]
    },
    {
      "cell_type": "code",
      "execution_count": null,
      "metadata": {
        "id": "l5k3_kZyU6Wd"
      },
      "outputs": [],
      "source": [
        "sf_stations = stations.where('landmark', are.equal_to('San Francisco'))\n",
        "sf_stations_map_data = (sf_stations\n",
        " .select('lat', 'long', 'name')\n",
        " .relabeled('name', 'labels'))\n",
        "sf_stations_map_data.show(3)"
      ]
    },
    {
      "cell_type": "code",
      "execution_count": null,
      "metadata": {
        "id": "NIsPiMAhU6Wd"
      },
      "outputs": [],
      "source": [
        "Marker.map_table(sf_stations_map_data)"
      ]
    },
    {
      "cell_type": "code",
      "execution_count": null,
      "metadata": {
        "id": "D-GhjIe2U6Wd"
      },
      "outputs": [],
      "source": [
        "Circle.map_table(sf_stations_map_data)"
      ]
    },
    {
      "cell_type": "markdown",
      "metadata": {
        "id": "oQUfRMhpU6Wd"
      },
      "source": [
        "### Discussion question"
      ]
    },
    {
      "cell_type": "markdown",
      "metadata": {
        "id": "jVxuHgWeU6Wd"
      },
      "source": [
        "Map all stations within 4 minutes (minimum ride time) of Civic Center."
      ]
    },
    {
      "cell_type": "code",
      "execution_count": null,
      "metadata": {
        "id": "d2Bk3AKlU6Wd"
      },
      "outputs": [],
      "source": [
        "from_cc.show(3)"
      ]
    },
    {
      "cell_type": "code",
      "execution_count": null,
      "metadata": {
        "id": "rWjelaODU6Wd"
      },
      "outputs": [],
      "source": [
        "sf_stations_map_data.show(3)"
      ]
    },
    {
      "cell_type": "code",
      "execution_count": null,
      "metadata": {
        "id": "pyDB_3ziU6Wd"
      },
      "outputs": [],
      "source": [
        "close_cc = from_cc.where('Duration min', are.below(4 * 60))\n",
        "close_markers = (sf_stations_map_data\n",
        "      .join('labels', close_cc, 'End Station')\n",
        "      .select('lat', 'long', 'labels'))\n",
        "Marker.map_table(close_markers)"
      ]
    },
    {
      "cell_type": "markdown",
      "metadata": {
        "id": "ISKd8oviU6Wd"
      },
      "source": [
        "Choose marker colors by the minimum time from Civic Center"
      ]
    },
    {
      "cell_type": "code",
      "execution_count": null,
      "metadata": {
        "id": "CQKIG40zU6Wd"
      },
      "outputs": [],
      "source": [
        "minutes = np.round(from_cc.column(\"Duration min\") / 60)\n",
        "print(min(minutes), max(minutes))"
      ]
    },
    {
      "cell_type": "code",
      "execution_count": null,
      "metadata": {
        "id": "X6yh4lYqU6Wd"
      },
      "outputs": [],
      "source": [
        "colors = Table().with_columns(\n",
        "    \"minutes\", np.arange(15),\n",
        "    \"colors\",  [\"darkblue\", \"blue\", \"lightblue\",\n",
        "                \"darkgreen\", \"green\", \"lightgreen\",\n",
        "                \"orange\", \"darkred\", \"red\",\n",
        "                \"gray\", \"gray\", \"gray\",\n",
        "                \"gray\", \"gray\", \"gray\"])\n",
        "colors_cc = (from_cc\n",
        " .with_column(\"Minutes\", minutes)\n",
        " .join(\"Minutes\", colors, \"minutes\"))\n",
        "\n",
        "colored_markers = (sf_stations_map_data\n",
        "      .join('labels', colors_cc, 'End Station')\n",
        "      .select('lat', 'long', 'labels', 'colors'))\n",
        "Marker.map_table(colored_markers)"
      ]
    },
    {
      "cell_type": "code",
      "execution_count": null,
      "metadata": {
        "id": "-oE2LIyhU6We"
      },
      "outputs": [],
      "source": [
        "station_starts = stations.join('name', starts, 'Start Station')\n",
        "station_starts.show(3)"
      ]
    },
    {
      "cell_type": "code",
      "execution_count": null,
      "metadata": {
        "id": "n99rhnF_U6We"
      },
      "outputs": [],
      "source": [
        "sf_starts = station_starts.relabeled(\n",
        "    'name', 'labels').where('landmark', 'San Francisco')"
      ]
    },
    {
      "cell_type": "code",
      "execution_count": null,
      "metadata": {
        "id": "8xrTLNl_U6We"
      },
      "outputs": [],
      "source": [
        "sf_starts_map_data = sf_starts.select('lat', 'long', 'labels').with_columns(\n",
        "    'colors', 'blue',\n",
        "    'areas', sf_starts.column('count') / 10\n",
        ")\n",
        "sf_starts_map_data.show(3)"
      ]
    },
    {
      "cell_type": "code",
      "execution_count": null,
      "metadata": {
        "id": "3dT1BD-aU6We"
      },
      "outputs": [],
      "source": [
        "Circle.map_table(sf_starts_map_data)"
      ]
    },
    {
      "cell_type": "markdown",
      "source": [
        "## Part 2 - Conditionals and Iteration ##"
      ],
      "metadata": {
        "id": "YxQQ-VJPBzZW"
      }
    },
    {
      "cell_type": "markdown",
      "source": [
        "Now I'll introduce boolean expressions, conditional, and for loops."
      ],
      "metadata": {
        "id": "O7DAMicIBukn"
      }
    },
    {
      "cell_type": "markdown",
      "metadata": {
        "id": "RKETMl7rBX36"
      },
      "source": [
        "## Comparison ##"
      ]
    },
    {
      "cell_type": "markdown",
      "source": [
        "We have already seen basic boolean expressions before"
      ],
      "metadata": {
        "id": "mZHRLoQOB465"
      }
    },
    {
      "cell_type": "code",
      "execution_count": null,
      "metadata": {
        "id": "is-9RthQBX36",
        "outputId": "fb792ac9-2779-405f-f3ac-6ad00965ccaa",
        "colab": {
          "base_uri": "https://localhost:8080/"
        }
      },
      "outputs": [
        {
          "output_type": "execute_result",
          "data": {
            "text/plain": [
              "True"
            ]
          },
          "metadata": {},
          "execution_count": 3
        }
      ],
      "source": [
        "3 > 1"
      ]
    },
    {
      "cell_type": "code",
      "execution_count": null,
      "metadata": {
        "id": "9QXVW3zvBX36",
        "outputId": "d10ad482-42c3-4046-a56d-956be8c13e63",
        "colab": {
          "base_uri": "https://localhost:8080/"
        }
      },
      "outputs": [
        {
          "output_type": "execute_result",
          "data": {
            "text/plain": [
              "bool"
            ]
          },
          "metadata": {},
          "execution_count": 4
        }
      ],
      "source": [
        "type(3 > 1)"
      ]
    },
    {
      "cell_type": "code",
      "execution_count": null,
      "metadata": {
        "id": "cDc2o1jEBX36",
        "outputId": "08bbdf5c-2861-4155-bff5-1720aa3edfbe",
        "colab": {
          "base_uri": "https://localhost:8080/"
        }
      },
      "outputs": [
        {
          "output_type": "execute_result",
          "data": {
            "text/plain": [
              "bool"
            ]
          },
          "metadata": {},
          "execution_count": 7
        }
      ],
      "source": [
        "type(True)"
      ]
    },
    {
      "cell_type": "code",
      "execution_count": null,
      "metadata": {
        "id": "HTLs6P1mBX36",
        "outputId": "5b6a0767-5c1a-4a7a-b4fe-c4fe034f4ba3",
        "colab": {
          "base_uri": "https://localhost:8080/",
          "height": 176
        }
      },
      "outputs": [
        {
          "output_type": "error",
          "ename": "NameError",
          "evalue": "ignored",
          "traceback": [
            "\u001b[0;31m---------------------------------------------------------------------------\u001b[0m",
            "\u001b[0;31mNameError\u001b[0m                                 Traceback (most recent call last)",
            "\u001b[0;32m<ipython-input-6-724ba28f4a9a>\u001b[0m in \u001b[0;36m<cell line: 1>\u001b[0;34m()\u001b[0m\n\u001b[0;32m----> 1\u001b[0;31m \u001b[0mtrue\u001b[0m\u001b[0;34m\u001b[0m\u001b[0;34m\u001b[0m\u001b[0m\n\u001b[0m",
            "\u001b[0;31mNameError\u001b[0m: name 'true' is not defined"
          ]
        }
      ],
      "source": [
        "true"
      ]
    },
    {
      "cell_type": "markdown",
      "metadata": {
        "id": "Crh6VNi-BX36"
      },
      "source": [
        "(We see that capitalization matters.)"
      ]
    },
    {
      "cell_type": "markdown",
      "source": [
        "Recall that the single `=` is assignment Thus the following error:"
      ],
      "metadata": {
        "id": "gbbU40oRCA7l"
      }
    },
    {
      "cell_type": "code",
      "execution_count": null,
      "metadata": {
        "id": "8kTG6KIEBX36",
        "outputId": "e9a2d9e5-d6ca-42c0-bd4c-81354c6576be",
        "colab": {
          "base_uri": "https://localhost:8080/",
          "height": 141
        }
      },
      "outputs": [
        {
          "output_type": "error",
          "ename": "SyntaxError",
          "evalue": "ignored",
          "traceback": [
            "\u001b[0;36m  File \u001b[0;32m\"<ipython-input-8-79bfd1be65e2>\"\u001b[0;36m, line \u001b[0;32m1\u001b[0m\n\u001b[0;31m    3 = 3\u001b[0m\n\u001b[0m    ^\u001b[0m\n\u001b[0;31mSyntaxError\u001b[0m\u001b[0;31m:\u001b[0m cannot assign to literal here. Maybe you meant '==' instead of '='?\n"
          ]
        }
      ],
      "source": [
        "3 = 3"
      ]
    },
    {
      "cell_type": "markdown",
      "source": [
        "Equality:"
      ],
      "metadata": {
        "id": "54b1cTTtCR-n"
      }
    },
    {
      "cell_type": "code",
      "execution_count": null,
      "metadata": {
        "id": "wdMH3dblBX36",
        "outputId": "ebf0c1de-8f38-4634-e979-6cb3faa868e6",
        "colab": {
          "base_uri": "https://localhost:8080/"
        }
      },
      "outputs": [
        {
          "output_type": "execute_result",
          "data": {
            "text/plain": [
              "True"
            ]
          },
          "metadata": {},
          "execution_count": 9
        }
      ],
      "source": [
        "3 == 3.0"
      ]
    },
    {
      "cell_type": "markdown",
      "source": [
        "Inequality (not equal to):"
      ],
      "metadata": {
        "id": "uzHv6oX5CZQa"
      }
    },
    {
      "cell_type": "code",
      "execution_count": null,
      "metadata": {
        "id": "kTYAtQXhBX36",
        "outputId": "203d2493-d1e1-48fd-b266-cee27352dbcb",
        "colab": {
          "base_uri": "https://localhost:8080/"
        }
      },
      "outputs": [
        {
          "output_type": "execute_result",
          "data": {
            "text/plain": [
              "True"
            ]
          },
          "metadata": {},
          "execution_count": 10
        }
      ],
      "source": [
        "10 != 2"
      ]
    },
    {
      "cell_type": "markdown",
      "source": [
        "Using variables in boolean expressions:"
      ],
      "metadata": {
        "id": "bf6lAYt9CdU0"
      }
    },
    {
      "cell_type": "code",
      "execution_count": null,
      "metadata": {
        "id": "AVORU10RBX36"
      },
      "outputs": [],
      "source": [
        "x = 14\n",
        "y = 3"
      ]
    },
    {
      "cell_type": "code",
      "execution_count": null,
      "metadata": {
        "id": "cI0DC8YBBX36",
        "outputId": "9588bb35-0897-42ab-c607-b02a192f853f",
        "colab": {
          "base_uri": "https://localhost:8080/"
        }
      },
      "outputs": [
        {
          "output_type": "execute_result",
          "data": {
            "text/plain": [
              "False"
            ]
          },
          "metadata": {},
          "execution_count": 12
        }
      ],
      "source": [
        "x > 15"
      ]
    },
    {
      "cell_type": "code",
      "execution_count": null,
      "metadata": {
        "id": "P1Po-LiLBX36",
        "outputId": "a78e3320-d105-47de-a0cf-7c938692f748",
        "colab": {
          "base_uri": "https://localhost:8080/"
        }
      },
      "outputs": [
        {
          "output_type": "execute_result",
          "data": {
            "text/plain": [
              "True"
            ]
          },
          "metadata": {},
          "execution_count": 13
        }
      ],
      "source": [
        "12 < x"
      ]
    },
    {
      "cell_type": "code",
      "execution_count": null,
      "metadata": {
        "id": "ZDlxEc8bBX36",
        "outputId": "93b6f71e-d3e2-4be2-cde3-2fd60094bb3d",
        "colab": {
          "base_uri": "https://localhost:8080/"
        }
      },
      "outputs": [
        {
          "output_type": "execute_result",
          "data": {
            "text/plain": [
              "True"
            ]
          },
          "metadata": {},
          "execution_count": 14
        }
      ],
      "source": [
        "x < 20"
      ]
    },
    {
      "cell_type": "markdown",
      "source": [
        "Compound boolean expressions:"
      ],
      "metadata": {
        "id": "h0scEArmCjfN"
      }
    },
    {
      "cell_type": "code",
      "execution_count": null,
      "metadata": {
        "id": "2aAeTvFWBX36",
        "outputId": "dd14982d-31cc-4193-c393-cebd7644d5f7",
        "colab": {
          "base_uri": "https://localhost:8080/"
        }
      },
      "outputs": [
        {
          "output_type": "execute_result",
          "data": {
            "text/plain": [
              "True"
            ]
          },
          "metadata": {},
          "execution_count": 15
        }
      ],
      "source": [
        "12 < x < 20"
      ]
    },
    {
      "cell_type": "code",
      "source": [
        "(12 < x) and (x < 20)"
      ],
      "metadata": {
        "id": "gyFUuEoCCumE",
        "outputId": "410a6f4a-1f71-4128-c29e-9770a1daef4a",
        "colab": {
          "base_uri": "https://localhost:8080/"
        }
      },
      "execution_count": null,
      "outputs": [
        {
          "output_type": "execute_result",
          "data": {
            "text/plain": [
              "True"
            ]
          },
          "metadata": {},
          "execution_count": 17
        }
      ]
    },
    {
      "cell_type": "code",
      "source": [
        "(12 < x) and (x < 5)"
      ],
      "metadata": {
        "id": "8g5YPdbEDEm6",
        "outputId": "75e20cf3-e8bf-49a0-9a22-aeca701b10d8",
        "colab": {
          "base_uri": "https://localhost:8080/"
        }
      },
      "execution_count": null,
      "outputs": [
        {
          "output_type": "execute_result",
          "data": {
            "text/plain": [
              "False"
            ]
          },
          "metadata": {},
          "execution_count": 21
        }
      ]
    },
    {
      "cell_type": "code",
      "source": [
        "(12 < x) or (x < 5)"
      ],
      "metadata": {
        "id": "jtstnIQMC-Ap",
        "outputId": "7166a71f-a13f-4aa1-bf8d-aafe46a61dbd",
        "colab": {
          "base_uri": "https://localhost:8080/"
        }
      },
      "execution_count": null,
      "outputs": [
        {
          "output_type": "execute_result",
          "data": {
            "text/plain": [
              "True"
            ]
          },
          "metadata": {},
          "execution_count": 20
        }
      ]
    },
    {
      "cell_type": "code",
      "execution_count": null,
      "metadata": {
        "id": "R8mznx6sBX36",
        "outputId": "26b94aac-9e76-4190-bcf6-b2cfe10e32f1",
        "colab": {
          "base_uri": "https://localhost:8080/"
        }
      },
      "outputs": [
        {
          "output_type": "execute_result",
          "data": {
            "text/plain": [
              "True"
            ]
          },
          "metadata": {},
          "execution_count": 18
        }
      ],
      "source": [
        "10 < x - y < 13"
      ]
    },
    {
      "cell_type": "code",
      "execution_count": null,
      "metadata": {
        "id": "LbTXy_7bBX37",
        "outputId": "f691fada-8b36-4870-b465-ef3e5d94106e",
        "colab": {
          "base_uri": "https://localhost:8080/"
        }
      },
      "outputs": [
        {
          "output_type": "execute_result",
          "data": {
            "text/plain": [
              "True"
            ]
          },
          "metadata": {},
          "execution_count": 22
        }
      ],
      "source": [
        "x > 13 and y < 3.14159"
      ]
    },
    {
      "cell_type": "markdown",
      "metadata": {
        "id": "q5gCvylyBX37"
      },
      "source": [
        "(The comparison `12 < x < 20` is equivalent to `12 < x and x < 20`.)"
      ]
    },
    {
      "cell_type": "markdown",
      "metadata": {
        "id": "xXcSzdUvBX37"
      },
      "source": [
        "## Comparisons with arrays"
      ]
    },
    {
      "cell_type": "code",
      "execution_count": null,
      "metadata": {
        "id": "nAeaUkobBX37"
      },
      "outputs": [],
      "source": [
        "# An array of pets\n",
        "pets = make_array('cat', 'cat', 'dog', 'cat', 'dog', 'rabbit')"
      ]
    },
    {
      "cell_type": "code",
      "execution_count": null,
      "metadata": {
        "id": "VtsEIp7oBX37",
        "outputId": "956a67b5-fe10-49a5-f2e2-00bf15a1c476",
        "colab": {
          "base_uri": "https://localhost:8080/"
        }
      },
      "outputs": [
        {
          "output_type": "execute_result",
          "data": {
            "text/plain": [
              "array([ True,  True, False,  True, False, False], dtype=bool)"
            ]
          },
          "metadata": {},
          "execution_count": 25
        }
      ],
      "source": [
        "# Here it checks whether each element in the array is equal (==) to cat\n",
        "pets == 'cat'"
      ]
    },
    {
      "cell_type": "markdown",
      "source": [
        "How many cats?"
      ],
      "metadata": {
        "id": "AqvpjFAWE4wq"
      }
    },
    {
      "cell_type": "code",
      "execution_count": null,
      "metadata": {
        "id": "Uh75XlhzBX37",
        "outputId": "6e7dbb31-6926-40a9-ec15-1356de1a3d8f",
        "colab": {
          "base_uri": "https://localhost:8080/"
        }
      },
      "outputs": [
        {
          "output_type": "execute_result",
          "data": {
            "text/plain": [
              "3"
            ]
          },
          "metadata": {},
          "execution_count": 26
        }
      ],
      "source": [
        "sum(pets == 'cat')"
      ]
    },
    {
      "cell_type": "markdown",
      "source": [
        "Math with booleans"
      ],
      "metadata": {
        "id": "GMIvcfWBFIaT"
      }
    },
    {
      "cell_type": "code",
      "execution_count": null,
      "metadata": {
        "id": "QYDStQTHBX37",
        "outputId": "8cc137b4-54fd-4c04-fd42-4a113dfaab20",
        "colab": {
          "base_uri": "https://localhost:8080/"
        }
      },
      "outputs": [
        {
          "output_type": "execute_result",
          "data": {
            "text/plain": [
              "0.5"
            ]
          },
          "metadata": {},
          "execution_count": 29
        }
      ],
      "source": [
        "# Converts to true and false and then counts them as one or zero\n",
        "np.mean(pets == 'cat')"
      ]
    },
    {
      "cell_type": "code",
      "source": [
        "# An assignment statement with equality operation\n",
        "is_cat = pets == 'cat'\n",
        "is_cat"
      ],
      "metadata": {
        "id": "QgKhou_jFiL1",
        "outputId": "fabc1e66-7c7d-453c-f04a-688f254a0a10",
        "colab": {
          "base_uri": "https://localhost:8080/"
        }
      },
      "execution_count": null,
      "outputs": [
        {
          "output_type": "execute_result",
          "data": {
            "text/plain": [
              "array([ True,  True, False,  True, False, False], dtype=bool)"
            ]
          },
          "metadata": {},
          "execution_count": 31
        }
      ]
    },
    {
      "cell_type": "code",
      "source": [
        "is_cat * 2 - 1"
      ],
      "metadata": {
        "id": "QDzBxNGUFxx6",
        "outputId": "32dd7c4f-5047-4c03-b1ac-0277b44a114e",
        "colab": {
          "base_uri": "https://localhost:8080/"
        }
      },
      "execution_count": null,
      "outputs": [
        {
          "output_type": "execute_result",
          "data": {
            "text/plain": [
              "array([ 1,  1, -1,  1, -1, -1])"
            ]
          },
          "metadata": {},
          "execution_count": 32
        }
      ]
    },
    {
      "cell_type": "code",
      "execution_count": null,
      "metadata": {
        "id": "CSBigwOzBX37",
        "outputId": "7ad97438-1f97-404c-a060-1f57cb33bc0b",
        "colab": {
          "base_uri": "https://localhost:8080/"
        }
      },
      "outputs": [
        {
          "output_type": "execute_result",
          "data": {
            "text/plain": [
              "3"
            ]
          },
          "metadata": {},
          "execution_count": 33
        }
      ],
      "source": [
        "sum(make_array(True, True, False, True, False, False))"
      ]
    },
    {
      "cell_type": "code",
      "execution_count": null,
      "metadata": {
        "id": "CW9Gq5E5BX37",
        "outputId": "c6512174-7d63-4523-9131-b72ceb5c5728",
        "colab": {
          "base_uri": "https://localhost:8080/"
        }
      },
      "outputs": [
        {
          "output_type": "execute_result",
          "data": {
            "text/plain": [
              "2"
            ]
          },
          "metadata": {},
          "execution_count": 34
        }
      ],
      "source": [
        "np.count_nonzero(pets == 'dog')"
      ]
    },
    {
      "cell_type": "code",
      "execution_count": null,
      "metadata": {
        "id": "HKJ7C-sIBX37",
        "outputId": "4dd90728-88a0-4538-8177-4c4d2c9cc2d4",
        "colab": {
          "base_uri": "https://localhost:8080/"
        }
      },
      "outputs": [
        {
          "output_type": "execute_result",
          "data": {
            "text/plain": [
              "array([20, 21, 22, 23, 24, 25, 26, 27, 28, 29, 30])"
            ]
          },
          "metadata": {},
          "execution_count": 38
        }
      ],
      "source": [
        "x = np.arange(20, 31)\n",
        "x"
      ]
    },
    {
      "cell_type": "code",
      "execution_count": null,
      "metadata": {
        "id": "PghDY7BCBX37",
        "outputId": "b1687eb2-1f16-4554-dc94-b785d5718e70",
        "colab": {
          "base_uri": "https://localhost:8080/"
        }
      },
      "outputs": [
        {
          "output_type": "execute_result",
          "data": {
            "text/plain": [
              "array([False, False, False, False, False, False, False, False, False,\n",
              "        True,  True], dtype=bool)"
            ]
          },
          "metadata": {},
          "execution_count": 36
        }
      ],
      "source": [
        "x > 28"
      ]
    },
    {
      "cell_type": "code",
      "execution_count": null,
      "metadata": {
        "id": "rhYZK_yQBX37",
        "outputId": "f72df8b6-a226-4537-cb6c-2aeba9d70c0a",
        "colab": {
          "base_uri": "https://localhost:8080/"
        }
      },
      "outputs": [
        {
          "output_type": "execute_result",
          "data": {
            "text/plain": [
              "2"
            ]
          },
          "metadata": {},
          "execution_count": 37
        }
      ],
      "source": [
        "sum(x > 28)"
      ]
    },
    {
      "cell_type": "markdown",
      "metadata": {
        "id": "pw0lQUJyBX37"
      },
      "source": [
        "## Rows & Apply"
      ]
    },
    {
      "cell_type": "code",
      "execution_count": null,
      "metadata": {
        "id": "gCLNXvHEBX37",
        "outputId": "ab3e2748-ece9-4ca2-8272-37e9a0d40574",
        "colab": {
          "base_uri": "https://localhost:8080/",
          "height": 225
        }
      },
      "outputs": [
        {
          "output_type": "display_data",
          "data": {
            "text/plain": [
              "<IPython.core.display.HTML object>"
            ],
            "text/html": [
              "<table border=\"1\" class=\"dataframe\">\n",
              "    <thead>\n",
              "        <tr>\n",
              "            <th>Year</th> <th>Extroversion</th> <th>Number of textees</th> <th>Hours of sleep</th> <th>Handedness</th> <th>Pant leg</th> <th>Sleep position</th> <th>Pets</th> <th>Piercings</th>\n",
              "        </tr>\n",
              "    </thead>\n",
              "    <tbody>\n",
              "        <tr>\n",
              "            <td>Second</td> <td>5           </td> <td>5                </td> <td>8             </td> <td>Left-handed </td> <td>Left leg in first </td> <td>On your left side</td> <td>Ants                          </td> <td>0        </td>\n",
              "        </tr>\n",
              "        <tr>\n",
              "            <td>Fourth</td> <td>2           </td> <td>3                </td> <td>7             </td> <td>Right-handed</td> <td>Left leg in first </td> <td>On your left side</td> <td>Beetles, Centipedes, Scorpions</td> <td>0        </td>\n",
              "        </tr>\n",
              "        <tr>\n",
              "            <td>First </td> <td>3           </td> <td>4                </td> <td>8             </td> <td>Right-handed</td> <td>Right leg in first</td> <td>On your back     </td> <td>Bird                          </td> <td>0        </td>\n",
              "        </tr>\n",
              "    </tbody>\n",
              "</table>\n",
              "<p>... (1340 rows omitted)</p>"
            ]
          },
          "metadata": {}
        }
      ],
      "source": [
        "# Read in data table\n",
        "survey = Table.read_table('welcome_survey_sp22.csv')\n",
        "survey.show(3)"
      ]
    },
    {
      "cell_type": "code",
      "source": [
        "# first row\n",
        "survey.row(0)"
      ],
      "metadata": {
        "id": "kMDfAO2xIogI",
        "outputId": "83eae572-8b48-4115-f509-3a92124ecb21",
        "colab": {
          "base_uri": "https://localhost:8080/"
        }
      },
      "execution_count": null,
      "outputs": [
        {
          "output_type": "execute_result",
          "data": {
            "text/plain": [
              "Row(Year='Second', Extroversion=5, Number of textees=5, Hours of sleep=8.0, Handedness='Left-handed', Pant leg='Left leg in first', Sleep position='On your left side', Pets='Ants', Piercings=0)"
            ]
          },
          "metadata": {},
          "execution_count": 41
        }
      ]
    },
    {
      "cell_type": "code",
      "execution_count": null,
      "metadata": {
        "id": "Mr7gJdHqBX37"
      },
      "outputs": [],
      "source": [
        "r = survey.row(0)"
      ]
    },
    {
      "cell_type": "code",
      "source": [
        "type(r)"
      ],
      "metadata": {
        "id": "GdpixJq3IztY",
        "outputId": "104d69ca-7afd-434e-a6b3-f922a9b5594a",
        "colab": {
          "base_uri": "https://localhost:8080/"
        }
      },
      "execution_count": null,
      "outputs": [
        {
          "output_type": "execute_result",
          "data": {
            "text/plain": [
              "datascience.tables.Row"
            ]
          },
          "metadata": {},
          "execution_count": 43
        }
      ]
    },
    {
      "cell_type": "code",
      "execution_count": null,
      "metadata": {
        "id": "pXu80qn6BX37"
      },
      "outputs": [],
      "source": [
        "r.item(0)"
      ]
    },
    {
      "cell_type": "markdown",
      "source": [
        "Getting a field from a row"
      ],
      "metadata": {
        "id": "brrOl3JnI2JB"
      }
    },
    {
      "cell_type": "code",
      "execution_count": null,
      "metadata": {
        "id": "qc-TcryYBX37",
        "outputId": "f1cc1126-2b19-44d0-9899-1c302043ea03",
        "colab": {
          "base_uri": "https://localhost:8080/",
          "height": 36
        }
      },
      "outputs": [
        {
          "output_type": "execute_result",
          "data": {
            "text/plain": [
              "'Second'"
            ],
            "application/vnd.google.colaboratory.intrinsic+json": {
              "type": "string"
            }
          },
          "metadata": {},
          "execution_count": 44
        }
      ],
      "source": [
        "r.item('Year')"
      ]
    },
    {
      "cell_type": "code",
      "source": [
        "r.item(2)"
      ],
      "metadata": {
        "id": "Jt--veSUI6EA",
        "outputId": "51922972-7d42-40ce-f988-7cd8669eff99",
        "colab": {
          "base_uri": "https://localhost:8080/"
        }
      },
      "execution_count": null,
      "outputs": [
        {
          "output_type": "execute_result",
          "data": {
            "text/plain": [
              "5"
            ]
          },
          "metadata": {},
          "execution_count": 46
        }
      ]
    },
    {
      "cell_type": "markdown",
      "source": [
        "## Math on Rows"
      ],
      "metadata": {
        "id": "7hRcxnVbfWkF"
      }
    },
    {
      "cell_type": "code",
      "source": [
        "r2 = survey.select('Extroversion', 'Number of textees', 'Hours of sleep').row(1)\n",
        "r2"
      ],
      "metadata": {
        "id": "SslomyWTfZne",
        "outputId": "1bc4b89f-ac6f-4f7c-fbd4-f06afc6283a5",
        "colab": {
          "base_uri": "https://localhost:8080/"
        }
      },
      "execution_count": null,
      "outputs": [
        {
          "output_type": "execute_result",
          "data": {
            "text/plain": [
              "Row(Extroversion=2, Number of textees=3, Hours of sleep=7.0)"
            ]
          },
          "metadata": {},
          "execution_count": 6
        }
      ]
    },
    {
      "cell_type": "markdown",
      "source": [
        "We can apply aggregation functions to that row"
      ],
      "metadata": {
        "id": "BcSXV-Kkfwhg"
      }
    },
    {
      "cell_type": "code",
      "source": [
        "sum(r2)"
      ],
      "metadata": {
        "id": "dXjFlJgtfzMs",
        "outputId": "4d026ead-3a46-4b70-fc2d-a8452bf8b359",
        "colab": {
          "base_uri": "https://localhost:8080/"
        }
      },
      "execution_count": null,
      "outputs": [
        {
          "output_type": "execute_result",
          "data": {
            "text/plain": [
              "12.0"
            ]
          },
          "metadata": {},
          "execution_count": 7
        }
      ]
    },
    {
      "cell_type": "markdown",
      "source": [
        "Recall that if we wanted to **apply** a function to all the rows of a table we use `apply`"
      ],
      "metadata": {
        "id": "835vnI_Pf5AY"
      }
    },
    {
      "cell_type": "code",
      "source": [
        " survey.select('Extroversion', 'Number of textees', 'Hours of sleep')"
      ],
      "metadata": {
        "id": "y5tpHfW2gKw_",
        "outputId": "1c892dd0-c3d8-4d7d-e4e6-bf062545e2de",
        "colab": {
          "base_uri": "https://localhost:8080/",
          "height": 392
        }
      },
      "execution_count": null,
      "outputs": [
        {
          "output_type": "execute_result",
          "data": {
            "text/plain": [
              "Extroversion | Number of textees | Hours of sleep\n",
              "5            | 5                 | 8\n",
              "2            | 3                 | 7\n",
              "3            | 4                 | 8\n",
              "4            | 8                 | 8\n",
              "4            | 2                 | 6\n",
              "5            | 4                 | 7\n",
              "4            | 2                 | 8\n",
              "4            | 4                 | 4\n",
              "3            | 3                 | 7\n",
              "2            | 2                 | 7\n",
              "... (1333 rows omitted)"
            ],
            "text/html": [
              "<table border=\"1\" class=\"dataframe\">\n",
              "    <thead>\n",
              "        <tr>\n",
              "            <th>Extroversion</th> <th>Number of textees</th> <th>Hours of sleep</th>\n",
              "        </tr>\n",
              "    </thead>\n",
              "    <tbody>\n",
              "        <tr>\n",
              "            <td>5           </td> <td>5                </td> <td>8             </td>\n",
              "        </tr>\n",
              "        <tr>\n",
              "            <td>2           </td> <td>3                </td> <td>7             </td>\n",
              "        </tr>\n",
              "        <tr>\n",
              "            <td>3           </td> <td>4                </td> <td>8             </td>\n",
              "        </tr>\n",
              "        <tr>\n",
              "            <td>4           </td> <td>8                </td> <td>8             </td>\n",
              "        </tr>\n",
              "        <tr>\n",
              "            <td>4           </td> <td>2                </td> <td>6             </td>\n",
              "        </tr>\n",
              "        <tr>\n",
              "            <td>5           </td> <td>4                </td> <td>7             </td>\n",
              "        </tr>\n",
              "        <tr>\n",
              "            <td>4           </td> <td>2                </td> <td>8             </td>\n",
              "        </tr>\n",
              "        <tr>\n",
              "            <td>4           </td> <td>4                </td> <td>4             </td>\n",
              "        </tr>\n",
              "        <tr>\n",
              "            <td>3           </td> <td>3                </td> <td>7             </td>\n",
              "        </tr>\n",
              "        <tr>\n",
              "            <td>2           </td> <td>2                </td> <td>7             </td>\n",
              "        </tr>\n",
              "    </tbody>\n",
              "</table>\n",
              "<p>... (1333 rows omitted)</p>"
            ]
          },
          "metadata": {},
          "execution_count": 9
        }
      ]
    },
    {
      "cell_type": "code",
      "source": [
        " survey.select('Extroversion', 'Number of textees', 'Hours of sleep').apply(sum)"
      ],
      "metadata": {
        "id": "UKoZogMugYZP",
        "outputId": "1e0458db-a8c9-4794-b39d-fa2094ae6082",
        "colab": {
          "base_uri": "https://localhost:8080/"
        }
      },
      "execution_count": null,
      "outputs": [
        {
          "output_type": "execute_result",
          "data": {
            "text/plain": [
              "array([ 18.,  12.,  15., ...,  20.,  28.,  29.])"
            ]
          },
          "metadata": {},
          "execution_count": 10
        }
      ]
    },
    {
      "cell_type": "markdown",
      "source": [
        "Let's use this to improve our pivot table"
      ],
      "metadata": {
        "id": "zYGzqY78gsPc"
      }
    },
    {
      "cell_type": "code",
      "execution_count": null,
      "metadata": {
        "id": "6XiehNtxBX38",
        "outputId": "c3bb8fc0-5943-4142-d930-69e94e7e9f0d",
        "colab": {
          "base_uri": "https://localhost:8080/",
          "height": 551
        }
      },
      "outputs": [
        {
          "output_type": "display_data",
          "data": {
            "text/plain": [
              "<IPython.core.display.HTML object>"
            ],
            "text/html": [
              "<table border=\"1\" class=\"dataframe\">\n",
              "    <thead>\n",
              "        <tr>\n",
              "            <th>Hours of sleep</th> <th>On your back</th> <th>On your left side</th> <th>On your right side</th> <th>On your stomach</th>\n",
              "        </tr>\n",
              "    </thead>\n",
              "    <tbody>\n",
              "        <tr>\n",
              "            <td>3             </td> <td>0           </td> <td>1                </td> <td>1                 </td> <td>0              </td>\n",
              "        </tr>\n",
              "        <tr>\n",
              "            <td>4             </td> <td>8           </td> <td>2                </td> <td>4                 </td> <td>3              </td>\n",
              "        </tr>\n",
              "        <tr>\n",
              "            <td>5             </td> <td>15          </td> <td>13               </td> <td>23                </td> <td>9              </td>\n",
              "        </tr>\n",
              "        <tr>\n",
              "            <td>5.5           </td> <td>1           </td> <td>0                </td> <td>2                 </td> <td>0              </td>\n",
              "        </tr>\n",
              "        <tr>\n",
              "            <td>6             </td> <td>51          </td> <td>87               </td> <td>91                </td> <td>33             </td>\n",
              "        </tr>\n",
              "        <tr>\n",
              "            <td>6.5           </td> <td>5           </td> <td>1                </td> <td>5                 </td> <td>1              </td>\n",
              "        </tr>\n",
              "        <tr>\n",
              "            <td>7             </td> <td>123         </td> <td>119              </td> <td>183               </td> <td>58             </td>\n",
              "        </tr>\n",
              "        <tr>\n",
              "            <td>7.5           </td> <td>11          </td> <td>9                </td> <td>5                 </td> <td>6              </td>\n",
              "        </tr>\n",
              "        <tr>\n",
              "            <td>8             </td> <td>77          </td> <td>83               </td> <td>136               </td> <td>62             </td>\n",
              "        </tr>\n",
              "        <tr>\n",
              "            <td>8.5           </td> <td>5           </td> <td>3                </td> <td>2                 </td> <td>3              </td>\n",
              "        </tr>\n",
              "        <tr>\n",
              "            <td>9             </td> <td>13          </td> <td>21               </td> <td>27                </td> <td>16             </td>\n",
              "        </tr>\n",
              "        <tr>\n",
              "            <td>9.5           </td> <td>1           </td> <td>0                </td> <td>1                 </td> <td>0              </td>\n",
              "        </tr>\n",
              "        <tr>\n",
              "            <td>10            </td> <td>4           </td> <td>6                </td> <td>3                 </td> <td>4              </td>\n",
              "        </tr>\n",
              "        <tr>\n",
              "            <td>11            </td> <td>0           </td> <td>0                </td> <td>0                 </td> <td>1              </td>\n",
              "        </tr>\n",
              "        <tr>\n",
              "            <td>12            </td> <td>2           </td> <td>0                </td> <td>2                 </td> <td>0              </td>\n",
              "        </tr>\n",
              "        <tr>\n",
              "            <td>14            </td> <td>0           </td> <td>1                </td> <td>0                 </td> <td>0              </td>\n",
              "        </tr>\n",
              "    </tbody>\n",
              "</table>"
            ]
          },
          "metadata": {}
        }
      ],
      "source": [
        "p = survey.pivot('Sleep position', 'Hours of sleep')\n",
        "p.show()"
      ]
    },
    {
      "cell_type": "markdown",
      "source": [
        "Add row totals to the table for the values of sleep positions"
      ],
      "metadata": {
        "id": "cJiByyZXg6VS"
      }
    },
    {
      "cell_type": "code",
      "source": [
        "# Add total column to table\n",
        "p.with_column('Total', p.drop('Hours of sleep').apply(sum))"
      ],
      "metadata": {
        "id": "D4dYHDPkg5FT",
        "outputId": "293ba5c9-f76b-4659-d97c-bddfff814b5f",
        "colab": {
          "base_uri": "https://localhost:8080/",
          "height": 392
        }
      },
      "execution_count": null,
      "outputs": [
        {
          "output_type": "execute_result",
          "data": {
            "text/plain": [
              "Hours of sleep | On your back | On your left side | On your right side | On your stomach | Total\n",
              "3              | 0            | 1                 | 1                  | 0               | 2\n",
              "4              | 8            | 2                 | 4                  | 3               | 17\n",
              "5              | 15           | 13                | 23                 | 9               | 60\n",
              "5.5            | 1            | 0                 | 2                  | 0               | 3\n",
              "6              | 51           | 87                | 91                 | 33              | 262\n",
              "6.5            | 5            | 1                 | 5                  | 1               | 12\n",
              "7              | 123          | 119               | 183                | 58              | 483\n",
              "7.5            | 11           | 9                 | 5                  | 6               | 31\n",
              "8              | 77           | 83                | 136                | 62              | 358\n",
              "8.5            | 5            | 3                 | 2                  | 3               | 13\n",
              "... (6 rows omitted)"
            ],
            "text/html": [
              "<table border=\"1\" class=\"dataframe\">\n",
              "    <thead>\n",
              "        <tr>\n",
              "            <th>Hours of sleep</th> <th>On your back</th> <th>On your left side</th> <th>On your right side</th> <th>On your stomach</th> <th>Total</th>\n",
              "        </tr>\n",
              "    </thead>\n",
              "    <tbody>\n",
              "        <tr>\n",
              "            <td>3             </td> <td>0           </td> <td>1                </td> <td>1                 </td> <td>0              </td> <td>2    </td>\n",
              "        </tr>\n",
              "        <tr>\n",
              "            <td>4             </td> <td>8           </td> <td>2                </td> <td>4                 </td> <td>3              </td> <td>17   </td>\n",
              "        </tr>\n",
              "        <tr>\n",
              "            <td>5             </td> <td>15          </td> <td>13               </td> <td>23                </td> <td>9              </td> <td>60   </td>\n",
              "        </tr>\n",
              "        <tr>\n",
              "            <td>5.5           </td> <td>1           </td> <td>0                </td> <td>2                 </td> <td>0              </td> <td>3    </td>\n",
              "        </tr>\n",
              "        <tr>\n",
              "            <td>6             </td> <td>51          </td> <td>87               </td> <td>91                </td> <td>33             </td> <td>262  </td>\n",
              "        </tr>\n",
              "        <tr>\n",
              "            <td>6.5           </td> <td>5           </td> <td>1                </td> <td>5                 </td> <td>1              </td> <td>12   </td>\n",
              "        </tr>\n",
              "        <tr>\n",
              "            <td>7             </td> <td>123         </td> <td>119              </td> <td>183               </td> <td>58             </td> <td>483  </td>\n",
              "        </tr>\n",
              "        <tr>\n",
              "            <td>7.5           </td> <td>11          </td> <td>9                </td> <td>5                 </td> <td>6              </td> <td>31   </td>\n",
              "        </tr>\n",
              "        <tr>\n",
              "            <td>8             </td> <td>77          </td> <td>83               </td> <td>136               </td> <td>62             </td> <td>358  </td>\n",
              "        </tr>\n",
              "        <tr>\n",
              "            <td>8.5           </td> <td>5           </td> <td>3                </td> <td>2                 </td> <td>3              </td> <td>13   </td>\n",
              "        </tr>\n",
              "    </tbody>\n",
              "</table>\n",
              "<p>... (6 rows omitted)</p>"
            ]
          },
          "metadata": {},
          "execution_count": 13
        }
      ]
    },
    {
      "cell_type": "markdown",
      "source": [
        "Why is `Hours of sleep` still in the table?"
      ],
      "metadata": {
        "id": "g-qq97BKhjw1"
      }
    },
    {
      "cell_type": "markdown",
      "source": [
        "Do the same thing with a `group` and a `join`:"
      ],
      "metadata": {
        "id": "GrmFJxaRhxhC"
      }
    },
    {
      "cell_type": "code",
      "source": [
        "p.join('Hours of sleep', survey.group('Hours of sleep')).show()"
      ],
      "metadata": {
        "id": "SP6bY8GGh0GQ",
        "outputId": "76239933-50f4-453f-b91d-7a7405438e63",
        "colab": {
          "base_uri": "https://localhost:8080/",
          "height": 551
        }
      },
      "execution_count": null,
      "outputs": [
        {
          "output_type": "display_data",
          "data": {
            "text/plain": [
              "<IPython.core.display.HTML object>"
            ],
            "text/html": [
              "<table border=\"1\" class=\"dataframe\">\n",
              "    <thead>\n",
              "        <tr>\n",
              "            <th>Hours of sleep</th> <th>On your back</th> <th>On your left side</th> <th>On your right side</th> <th>On your stomach</th> <th>count</th>\n",
              "        </tr>\n",
              "    </thead>\n",
              "    <tbody>\n",
              "        <tr>\n",
              "            <td>3             </td> <td>0           </td> <td>1                </td> <td>1                 </td> <td>0              </td> <td>2    </td>\n",
              "        </tr>\n",
              "        <tr>\n",
              "            <td>4             </td> <td>8           </td> <td>2                </td> <td>4                 </td> <td>3              </td> <td>17   </td>\n",
              "        </tr>\n",
              "        <tr>\n",
              "            <td>5             </td> <td>15          </td> <td>13               </td> <td>23                </td> <td>9              </td> <td>60   </td>\n",
              "        </tr>\n",
              "        <tr>\n",
              "            <td>5.5           </td> <td>1           </td> <td>0                </td> <td>2                 </td> <td>0              </td> <td>3    </td>\n",
              "        </tr>\n",
              "        <tr>\n",
              "            <td>6             </td> <td>51          </td> <td>87               </td> <td>91                </td> <td>33             </td> <td>262  </td>\n",
              "        </tr>\n",
              "        <tr>\n",
              "            <td>6.5           </td> <td>5           </td> <td>1                </td> <td>5                 </td> <td>1              </td> <td>12   </td>\n",
              "        </tr>\n",
              "        <tr>\n",
              "            <td>7             </td> <td>123         </td> <td>119              </td> <td>183               </td> <td>58             </td> <td>483  </td>\n",
              "        </tr>\n",
              "        <tr>\n",
              "            <td>7.5           </td> <td>11          </td> <td>9                </td> <td>5                 </td> <td>6              </td> <td>31   </td>\n",
              "        </tr>\n",
              "        <tr>\n",
              "            <td>8             </td> <td>77          </td> <td>83               </td> <td>136               </td> <td>62             </td> <td>358  </td>\n",
              "        </tr>\n",
              "        <tr>\n",
              "            <td>8.5           </td> <td>5           </td> <td>3                </td> <td>2                 </td> <td>3              </td> <td>13   </td>\n",
              "        </tr>\n",
              "        <tr>\n",
              "            <td>9             </td> <td>13          </td> <td>21               </td> <td>27                </td> <td>16             </td> <td>77   </td>\n",
              "        </tr>\n",
              "        <tr>\n",
              "            <td>9.5           </td> <td>1           </td> <td>0                </td> <td>1                 </td> <td>0              </td> <td>2    </td>\n",
              "        </tr>\n",
              "        <tr>\n",
              "            <td>10            </td> <td>4           </td> <td>6                </td> <td>3                 </td> <td>4              </td> <td>17   </td>\n",
              "        </tr>\n",
              "        <tr>\n",
              "            <td>11            </td> <td>0           </td> <td>0                </td> <td>0                 </td> <td>1              </td> <td>1    </td>\n",
              "        </tr>\n",
              "        <tr>\n",
              "            <td>12            </td> <td>2           </td> <td>0                </td> <td>2                 </td> <td>0              </td> <td>4    </td>\n",
              "        </tr>\n",
              "        <tr>\n",
              "            <td>14            </td> <td>0           </td> <td>1                </td> <td>0                 </td> <td>0              </td> <td>1    </td>\n",
              "        </tr>\n",
              "    </tbody>\n",
              "</table>"
            ]
          },
          "metadata": {}
        }
      ]
    },
    {
      "cell_type": "markdown",
      "metadata": {
        "id": "SeTSo1esBX38"
      },
      "source": [
        "## Conditional Statements"
      ]
    },
    {
      "cell_type": "markdown",
      "source": [
        "Conditional statements in python allow us to do different things based on the values in our data"
      ],
      "metadata": {
        "id": "EPPgjNP2igae"
      }
    },
    {
      "cell_type": "code",
      "execution_count": null,
      "metadata": {
        "id": "wmep_GquBX38"
      },
      "outputs": [],
      "source": [
        "x = 20"
      ]
    },
    {
      "cell_type": "markdown",
      "source": [
        "If the value of x is greater than or equal to 18 then print 'You can legally vote'"
      ],
      "metadata": {
        "id": "4TePupmnikIh"
      }
    },
    {
      "cell_type": "code",
      "execution_count": null,
      "metadata": {
        "id": "QpX5-hk5BX38",
        "outputId": "341f52bf-447a-4878-c898-7ea96287ee45",
        "colab": {
          "base_uri": "https://localhost:8080/"
        }
      },
      "outputs": [
        {
          "output_type": "stream",
          "name": "stdout",
          "text": [
            "You can legally vote.\n"
          ]
        }
      ],
      "source": [
        "# What happens if x changes?\n",
        "if x >= 18:\n",
        "    print('You can legally vote.')"
      ]
    },
    {
      "cell_type": "markdown",
      "source": [
        "Notice that if the boolean expression is False then the body of the if statement is not executed:\n",
        "\n"
      ],
      "metadata": {
        "id": "jBl43xd2i2a4"
      }
    },
    {
      "cell_type": "code",
      "execution_count": null,
      "metadata": {
        "id": "zgQHWuOsBX38",
        "outputId": "8168c9d6-52d1-4419-bde6-e430af784918",
        "colab": {
          "base_uri": "https://localhost:8080/"
        }
      },
      "outputs": [
        {
          "output_type": "stream",
          "name": "stdout",
          "text": [
            "Can you drink?\n",
            "This is run\n",
            "The value of x is 20\n"
          ]
        }
      ],
      "source": [
        "print(\"Can you drink?\")\n",
        "\n",
        "if x >= 21:\n",
        "    print('You can legally drink.')\n",
        "    print(\"This line of code is never run...\")\n",
        "    x = 0\n",
        "\n",
        "print(\"This is run\")\n",
        "print(\"The value of x is\", x)"
      ]
    },
    {
      "cell_type": "markdown",
      "source": [
        "Sometimes you want to do something else if hte first statement wasn't true:"
      ],
      "metadata": {
        "id": "32tld8x6jh0G"
      }
    },
    {
      "cell_type": "code",
      "source": [
        "if x >= 21:\n",
        "    print('You can legally vote and drink.')\n",
        "else:\n",
        "    print('You can legally drink milk.')"
      ],
      "metadata": {
        "id": "66yQZrjXjlpg",
        "outputId": "3d4d5de6-8194-4756-daac-50831c27ed08",
        "colab": {
          "base_uri": "https://localhost:8080/"
        }
      },
      "execution_count": null,
      "outputs": [
        {
          "output_type": "stream",
          "name": "stdout",
          "text": [
            "You can legally drink milk.\n"
          ]
        }
      ]
    },
    {
      "cell_type": "code",
      "source": [
        "if x >= 21:\n",
        "    print('You can legally vote and drink.')\n",
        "elif x >= 18:\n",
        "    print('You can legally vote.')\n",
        "else:\n",
        "    print('You can legally drink milk.')"
      ],
      "metadata": {
        "id": "Cj2NPx3hkbTK",
        "outputId": "da649373-38fa-4216-de5d-ee395dcaf499",
        "colab": {
          "base_uri": "https://localhost:8080/"
        }
      },
      "execution_count": null,
      "outputs": [
        {
          "output_type": "stream",
          "name": "stdout",
          "text": [
            "You can legally vote.\n"
          ]
        }
      ]
    },
    {
      "cell_type": "markdown",
      "source": [
        "Implementing a function with conditionals and multiple return values:"
      ],
      "metadata": {
        "id": "yQbEevGcjolp"
      }
    },
    {
      "cell_type": "code",
      "execution_count": null,
      "metadata": {
        "id": "YwgomR_pBX38"
      },
      "outputs": [],
      "source": [
        "def age(x):\n",
        "    if x >= 18:\n",
        "        return 'You can legally vote.'\n",
        "    if x >= 21:\n",
        "        return 'You can legally drink.'"
      ]
    },
    {
      "cell_type": "code",
      "execution_count": null,
      "metadata": {
        "id": "bKCbrwG7BX38"
      },
      "outputs": [],
      "source": [
        "age(3)"
      ]
    },
    {
      "cell_type": "code",
      "execution_count": null,
      "metadata": {
        "id": "I6E5gO0XBX38",
        "outputId": "a3ddff7e-3a5c-42c1-de4b-06a5514958b8",
        "colab": {
          "base_uri": "https://localhost:8080/",
          "height": 36
        }
      },
      "outputs": [
        {
          "output_type": "execute_result",
          "data": {
            "text/plain": [
              "'You can legally vote.'"
            ],
            "application/vnd.google.colaboratory.intrinsic+json": {
              "type": "string"
            }
          },
          "metadata": {},
          "execution_count": 25
        }
      ],
      "source": [
        "age(20)"
      ]
    },
    {
      "cell_type": "code",
      "execution_count": null,
      "metadata": {
        "id": "A2MrOqo4BX38",
        "outputId": "e117aead-1c78-4189-9b79-ee0238c92c86",
        "colab": {
          "base_uri": "https://localhost:8080/",
          "height": 36
        }
      },
      "outputs": [
        {
          "output_type": "execute_result",
          "data": {
            "text/plain": [
              "'You can legally vote.'"
            ],
            "application/vnd.google.colaboratory.intrinsic+json": {
              "type": "string"
            }
          },
          "metadata": {},
          "execution_count": 26
        }
      ],
      "source": [
        "age(25)"
      ]
    },
    {
      "cell_type": "code",
      "execution_count": null,
      "metadata": {
        "id": "jBQwnB_RBX38"
      },
      "outputs": [],
      "source": [
        "def age(x):\n",
        "    if x >= 21:\n",
        "        return 'You can legally vote and drink.'\n",
        "    elif x >= 18:\n",
        "        return 'You can legally vote.'\n",
        "    else:\n",
        "        return 'You can legally drink milk.'"
      ]
    },
    {
      "cell_type": "code",
      "execution_count": null,
      "metadata": {
        "id": "jXbVj0_SBX38",
        "outputId": "0c72ca3d-a9c5-4187-ac3a-c6401755f9eb",
        "colab": {
          "base_uri": "https://localhost:8080/",
          "height": 36
        }
      },
      "outputs": [
        {
          "output_type": "execute_result",
          "data": {
            "text/plain": [
              "'You can legally drink milk.'"
            ],
            "application/vnd.google.colaboratory.intrinsic+json": {
              "type": "string"
            }
          },
          "metadata": {},
          "execution_count": 28
        }
      ],
      "source": [
        "age(3)"
      ]
    },
    {
      "cell_type": "code",
      "execution_count": null,
      "metadata": {
        "id": "N5E7xcBhBX38",
        "outputId": "a2229fda-4fb0-4867-ff49-04805a69b245",
        "colab": {
          "base_uri": "https://localhost:8080/",
          "height": 36
        }
      },
      "outputs": [
        {
          "output_type": "execute_result",
          "data": {
            "text/plain": [
              "'You can legally vote.'"
            ],
            "application/vnd.google.colaboratory.intrinsic+json": {
              "type": "string"
            }
          },
          "metadata": {},
          "execution_count": 29
        }
      ],
      "source": [
        "age(20)"
      ]
    },
    {
      "cell_type": "code",
      "execution_count": null,
      "metadata": {
        "id": "A661Kzg8BX38",
        "outputId": "d5a6e1af-294b-4461-b89c-5f7eb77b3909",
        "colab": {
          "base_uri": "https://localhost:8080/",
          "height": 36
        }
      },
      "outputs": [
        {
          "output_type": "execute_result",
          "data": {
            "text/plain": [
              "'You can legally vote and drink.'"
            ],
            "application/vnd.google.colaboratory.intrinsic+json": {
              "type": "string"
            }
          },
          "metadata": {},
          "execution_count": 30
        }
      ],
      "source": [
        "age(23)"
      ]
    },
    {
      "cell_type": "markdown",
      "source": [
        "## Putting the pieces together <br>\n",
        "Here we will build a function that returns whether the trip was one day or a round trip"
      ],
      "metadata": {
        "id": "H7tT6mTLlcVF"
      }
    },
    {
      "cell_type": "code",
      "execution_count": null,
      "metadata": {
        "id": "xH7m2hWFBX38",
        "outputId": "520f010e-8594-4517-ce9a-5aab19f9e584",
        "colab": {
          "base_uri": "https://localhost:8080/",
          "height": 242
        }
      },
      "outputs": [
        {
          "output_type": "display_data",
          "data": {
            "text/plain": [
              "<IPython.core.display.HTML object>"
            ],
            "text/html": [
              "<table border=\"1\" class=\"dataframe\">\n",
              "    <thead>\n",
              "        <tr>\n",
              "            <th>Trip ID</th> <th>Duration</th> <th>Start Date</th> <th>Start Station</th> <th>Start Terminal</th> <th>End Date</th> <th>End Station</th> <th>End Terminal</th> <th>Bike #</th> <th>Subscriber Type</th> <th>Zip Code</th>\n",
              "        </tr>\n",
              "    </thead>\n",
              "    <tbody>\n",
              "        <tr>\n",
              "            <td>913460 </td> <td>765     </td> <td>8/31/2015 23:26</td> <td>Harry Bridges Plaza (Ferry Building)</td> <td>50            </td> <td>8/31/2015 23:39</td> <td>San Francisco Caltrain (Townsend at 4th)</td> <td>70          </td> <td>288   </td> <td>Subscriber     </td> <td>2139    </td>\n",
              "        </tr>\n",
              "        <tr>\n",
              "            <td>913459 </td> <td>1036    </td> <td>8/31/2015 23:11</td> <td>San Antonio Shopping Center         </td> <td>31            </td> <td>8/31/2015 23:28</td> <td>Mountain View City Hall                 </td> <td>27          </td> <td>35    </td> <td>Subscriber     </td> <td>95032   </td>\n",
              "        </tr>\n",
              "        <tr>\n",
              "            <td>913455 </td> <td>307     </td> <td>8/31/2015 23:13</td> <td>Post at Kearny                      </td> <td>47            </td> <td>8/31/2015 23:18</td> <td>2nd at South Park                       </td> <td>64          </td> <td>468   </td> <td>Subscriber     </td> <td>94107   </td>\n",
              "        </tr>\n",
              "    </tbody>\n",
              "</table>\n",
              "<p>... (354149 rows omitted)</p>"
            ]
          },
          "metadata": {}
        }
      ],
      "source": [
        "# Bike sharing dataset (already have from above, reminder)\n",
        "trip = Table().read_table('trip.csv')\n",
        "trip.show(3)"
      ]
    },
    {
      "cell_type": "code",
      "execution_count": null,
      "metadata": {
        "id": "Au62kdD-BX38"
      },
      "outputs": [],
      "source": [
        "# Define a function to determine the kind of trip\n",
        "def trip_kind(start, end):\n",
        "    if start == end:\n",
        "        return 'round trip'\n",
        "    else:\n",
        "        return 'one way'"
      ]
    },
    {
      "cell_type": "code",
      "source": [
        "# Add a column of the kind of trip to the table by using apply and our new function to the rows of data\n",
        "kinds = trip.with_column('Trip Kind', trip.apply(trip_kind, 'Start Station', 'End Station'))\n",
        "kinds.show(3)"
      ],
      "metadata": {
        "id": "hpNvlYmvl1Sx",
        "outputId": "c20b8530-301a-4401-d702-2b494ac34a76",
        "colab": {
          "base_uri": "https://localhost:8080/",
          "height": 259
        }
      },
      "execution_count": null,
      "outputs": [
        {
          "output_type": "display_data",
          "data": {
            "text/plain": [
              "<IPython.core.display.HTML object>"
            ],
            "text/html": [
              "<table border=\"1\" class=\"dataframe\">\n",
              "    <thead>\n",
              "        <tr>\n",
              "            <th>Trip ID</th> <th>Duration</th> <th>Start Date</th> <th>Start Station</th> <th>Start Terminal</th> <th>End Date</th> <th>End Station</th> <th>End Terminal</th> <th>Bike #</th> <th>Subscriber Type</th> <th>Zip Code</th> <th>Trip Kind</th>\n",
              "        </tr>\n",
              "    </thead>\n",
              "    <tbody>\n",
              "        <tr>\n",
              "            <td>913460 </td> <td>765     </td> <td>8/31/2015 23:26</td> <td>Harry Bridges Plaza (Ferry Building)</td> <td>50            </td> <td>8/31/2015 23:39</td> <td>San Francisco Caltrain (Townsend at 4th)</td> <td>70          </td> <td>288   </td> <td>Subscriber     </td> <td>2139    </td> <td>one way  </td>\n",
              "        </tr>\n",
              "        <tr>\n",
              "            <td>913459 </td> <td>1036    </td> <td>8/31/2015 23:11</td> <td>San Antonio Shopping Center         </td> <td>31            </td> <td>8/31/2015 23:28</td> <td>Mountain View City Hall                 </td> <td>27          </td> <td>35    </td> <td>Subscriber     </td> <td>95032   </td> <td>one way  </td>\n",
              "        </tr>\n",
              "        <tr>\n",
              "            <td>913455 </td> <td>307     </td> <td>8/31/2015 23:13</td> <td>Post at Kearny                      </td> <td>47            </td> <td>8/31/2015 23:18</td> <td>2nd at South Park                       </td> <td>64          </td> <td>468   </td> <td>Subscriber     </td> <td>94107   </td> <td>one way  </td>\n",
              "        </tr>\n",
              "    </tbody>\n",
              "</table>\n",
              "<p>... (354149 rows omitted)</p>"
            ]
          },
          "metadata": {}
        }
      ]
    },
    {
      "cell_type": "code",
      "execution_count": null,
      "metadata": {
        "id": "0DDTQdutBX38",
        "outputId": "a2a6bf15-4b62-49ef-c69d-5d5c251f1dfa",
        "colab": {
          "base_uri": "https://localhost:8080/",
          "height": 363
        }
      },
      "outputs": [
        {
          "output_type": "execute_result",
          "data": {
            "text/plain": [
              "Start Station                            | one way | round trip\n",
              "Embarcadero at Sansome                   | 6938    | 120\n",
              "Harry Bridges Plaza (Ferry Building)     | 8643    | 105\n",
              "San Francisco Caltrain 2 (330 Townsend)  | 12021   | 104\n",
              "2nd at South Park                        | 6484    | 98\n",
              "San Francisco Caltrain (Townsend at 4th) | 11181   | 95\n",
              "2nd at Townsend                          | 9513    | 83\n",
              "Powell Street BART                       | 7156    | 81\n",
              "Market at 10th                           | 6599    | 80\n",
              "Civic Center BART (7th at Market)        | 5179    | 73\n",
              "Townsend at 7th                          | 8073    | 68"
            ],
            "text/html": [
              "<table border=\"1\" class=\"dataframe\">\n",
              "    <thead>\n",
              "        <tr>\n",
              "            <th>Start Station</th> <th>one way</th> <th>round trip</th>\n",
              "        </tr>\n",
              "    </thead>\n",
              "    <tbody>\n",
              "        <tr>\n",
              "            <td>Embarcadero at Sansome                  </td> <td>6938   </td> <td>120       </td>\n",
              "        </tr>\n",
              "        <tr>\n",
              "            <td>Harry Bridges Plaza (Ferry Building)    </td> <td>8643   </td> <td>105       </td>\n",
              "        </tr>\n",
              "        <tr>\n",
              "            <td>San Francisco Caltrain 2 (330 Townsend) </td> <td>12021  </td> <td>104       </td>\n",
              "        </tr>\n",
              "        <tr>\n",
              "            <td>2nd at South Park                       </td> <td>6484   </td> <td>98        </td>\n",
              "        </tr>\n",
              "        <tr>\n",
              "            <td>San Francisco Caltrain (Townsend at 4th)</td> <td>11181  </td> <td>95        </td>\n",
              "        </tr>\n",
              "        <tr>\n",
              "            <td>2nd at Townsend                         </td> <td>9513   </td> <td>83        </td>\n",
              "        </tr>\n",
              "        <tr>\n",
              "            <td>Powell Street BART                      </td> <td>7156   </td> <td>81        </td>\n",
              "        </tr>\n",
              "        <tr>\n",
              "            <td>Market at 10th                          </td> <td>6599   </td> <td>80        </td>\n",
              "        </tr>\n",
              "        <tr>\n",
              "            <td>Civic Center BART (7th at Market)       </td> <td>5179   </td> <td>73        </td>\n",
              "        </tr>\n",
              "        <tr>\n",
              "            <td>Townsend at 7th                         </td> <td>8073   </td> <td>68        </td>\n",
              "        </tr>\n",
              "    </tbody>\n",
              "</table>"
            ]
          },
          "metadata": {},
          "execution_count": 39
        }
      ],
      "source": [
        "# Now create a pivot table\n",
        "kinds_pivot = kinds.where('Duration', are.below(600)).pivot('Trip Kind', 'Start Station').sort('round trip', descending = True).take(np.arange(10))\n",
        "kinds_pivot"
      ]
    },
    {
      "cell_type": "markdown",
      "metadata": {
        "id": "_2l1AxUXBX38"
      },
      "source": [
        "## Simulation"
      ]
    },
    {
      "cell_type": "markdown",
      "source": [
        "We will use simulation heavily in this class. A key element of simulation is leveraging randomness. The numpy python library has many functions for generating random events. Today we will use the `np.random.choice` function:"
      ],
      "metadata": {
        "id": "FrxtfU5goONV"
      }
    },
    {
      "cell_type": "markdown",
      "metadata": {
        "id": "NtGN_4ZYBX39"
      },
      "source": [
        "### Random Selection"
      ]
    },
    {
      "cell_type": "code",
      "execution_count": null,
      "metadata": {
        "id": "cgrDlbljBX39"
      },
      "outputs": [],
      "source": [
        "mornings = make_array('wake up', 'sleep in')"
      ]
    },
    {
      "cell_type": "code",
      "execution_count": null,
      "metadata": {
        "id": "JGm0GKw5BX39",
        "outputId": "22c13428-c06a-4d60-bcbc-c6b6419f0263",
        "colab": {
          "base_uri": "https://localhost:8080/",
          "height": 36
        }
      },
      "outputs": [
        {
          "output_type": "execute_result",
          "data": {
            "text/plain": [
              "'wake up'"
            ],
            "application/vnd.google.colaboratory.intrinsic+json": {
              "type": "string"
            }
          },
          "metadata": {},
          "execution_count": 41
        }
      ],
      "source": [
        "np.random.choice(mornings)"
      ]
    },
    {
      "cell_type": "code",
      "execution_count": null,
      "metadata": {
        "id": "S1n8r_-fBX39",
        "outputId": "12729bfe-aad5-41d2-f404-d51c0d82dfd6",
        "colab": {
          "base_uri": "https://localhost:8080/",
          "height": 36
        }
      },
      "outputs": [
        {
          "output_type": "execute_result",
          "data": {
            "text/plain": [
              "'sleep in'"
            ],
            "application/vnd.google.colaboratory.intrinsic+json": {
              "type": "string"
            }
          },
          "metadata": {},
          "execution_count": 42
        }
      ],
      "source": [
        "np.random.choice(mornings)"
      ]
    },
    {
      "cell_type": "code",
      "execution_count": null,
      "metadata": {
        "id": "s46M5qORBX39",
        "outputId": "6d8f797e-83c5-45bf-bf54-7e1d82d57aff",
        "colab": {
          "base_uri": "https://localhost:8080/",
          "height": 36
        }
      },
      "outputs": [
        {
          "output_type": "execute_result",
          "data": {
            "text/plain": [
              "'wake up'"
            ],
            "application/vnd.google.colaboratory.intrinsic+json": {
              "type": "string"
            }
          },
          "metadata": {},
          "execution_count": 43
        }
      ],
      "source": [
        "np.random.choice(mornings)"
      ]
    },
    {
      "cell_type": "markdown",
      "metadata": {
        "id": "oC9Kczk4BX39"
      },
      "source": [
        "We can also pass an argument that specifies how many times to make a random choice:"
      ]
    },
    {
      "cell_type": "code",
      "execution_count": null,
      "metadata": {
        "id": "Slu5n7BbBX39",
        "outputId": "272b5d3d-5265-43c3-f7b0-88a14938f26b",
        "colab": {
          "base_uri": "https://localhost:8080/"
        }
      },
      "outputs": [
        {
          "output_type": "execute_result",
          "data": {
            "text/plain": [
              "array(['wake up', 'sleep in', 'wake up', 'wake up', 'sleep in', 'wake up',\n",
              "       'sleep in'],\n",
              "      dtype='<U8')"
            ]
          },
          "metadata": {},
          "execution_count": 44
        }
      ],
      "source": [
        "np.random.choice(mornings, 7)"
      ]
    },
    {
      "cell_type": "code",
      "execution_count": null,
      "metadata": {
        "id": "GTdhXWLPBX39",
        "outputId": "0f289946-b1e7-4419-87bc-5b64c71697a1",
        "colab": {
          "base_uri": "https://localhost:8080/"
        }
      },
      "outputs": [
        {
          "output_type": "execute_result",
          "data": {
            "text/plain": [
              "array(['wake up', 'sleep in', 'wake up', 'wake up', 'wake up', 'sleep in',\n",
              "       'wake up'],\n",
              "      dtype='<U8')"
            ]
          },
          "metadata": {},
          "execution_count": 49
        }
      ],
      "source": [
        "morning_week = np.random.choice(mornings, 7)\n",
        "morning_week"
      ]
    },
    {
      "cell_type": "code",
      "execution_count": null,
      "metadata": {
        "id": "L7cNnF_2BX3-",
        "outputId": "c18fd43f-348d-4f27-f5d1-18bf57a79786",
        "colab": {
          "base_uri": "https://localhost:8080/"
        }
      },
      "outputs": [
        {
          "output_type": "execute_result",
          "data": {
            "text/plain": [
              "5"
            ]
          },
          "metadata": {},
          "execution_count": 50
        }
      ],
      "source": [
        "sum(morning_week == 'wake up')"
      ]
    },
    {
      "cell_type": "code",
      "execution_count": null,
      "metadata": {
        "id": "m0u6LT4BBX3-",
        "outputId": "bd63682c-7152-4a64-ea86-a99bfb6e9a1d",
        "colab": {
          "base_uri": "https://localhost:8080/"
        }
      },
      "outputs": [
        {
          "output_type": "execute_result",
          "data": {
            "text/plain": [
              "2"
            ]
          },
          "metadata": {},
          "execution_count": 51
        }
      ],
      "source": [
        "sum(morning_week == 'sleep in')"
      ]
    },
    {
      "cell_type": "markdown",
      "source": [
        "## Playing a Game of Chance"
      ],
      "metadata": {
        "id": "0SlYRs_Co-1F"
      }
    },
    {
      "cell_type": "markdown",
      "metadata": {
        "id": "NCElhzcXBX39"
      },
      "source": [
        "Let's play a game: we each roll a die.\n",
        "\n",
        "If my number is bigger: you pay me a dollar.\n",
        "\n",
        "If they're the same: we do nothing.\n",
        "\n",
        "If your number is bigger: I pay you a dollar."
      ]
    },
    {
      "cell_type": "markdown",
      "metadata": {
        "id": "_uBMQR_ZBX39"
      },
      "source": [
        "Steps:\n",
        "1. Find a way to simulate two dice rolls.\n",
        "2. Compute how much money we win/lose based on the result.\n",
        "3. Do steps 1 and 2 10,000 times."
      ]
    },
    {
      "cell_type": "markdown",
      "metadata": {
        "id": "NVHLYj-4BX3-"
      },
      "source": [
        "### Simulating the roll of a die"
      ]
    },
    {
      "cell_type": "code",
      "execution_count": 12,
      "metadata": {
        "id": "l6qSyrThBX3-",
        "outputId": "bddf0a52-090b-4373-907b-c9b267efe8e2",
        "colab": {
          "base_uri": "https://localhost:8080/"
        }
      },
      "outputs": [
        {
          "output_type": "execute_result",
          "data": {
            "text/plain": [
              "array([1, 2, 3, 4, 5, 6])"
            ]
          },
          "metadata": {},
          "execution_count": 12
        }
      ],
      "source": [
        "die_faces = np.arange(1, 7)\n",
        "die_faces"
      ]
    },
    {
      "cell_type": "code",
      "execution_count": 13,
      "metadata": {
        "id": "tttEtKyaBX3-",
        "outputId": "00e98c88-daad-406c-968e-033ae4948b6d",
        "colab": {
          "base_uri": "https://localhost:8080/"
        }
      },
      "outputs": [
        {
          "output_type": "execute_result",
          "data": {
            "text/plain": [
              "1"
            ]
          },
          "metadata": {},
          "execution_count": 13
        }
      ],
      "source": [
        "np.random.choice(die_faces)"
      ]
    },
    {
      "cell_type": "markdown",
      "source": [
        "Implement a function to simulate a single round of play and return the results"
      ],
      "metadata": {
        "id": "234yOomMpUIm"
      }
    },
    {
      "cell_type": "code",
      "execution_count": 14,
      "metadata": {
        "id": "ZOUhFZgJBX3-"
      },
      "outputs": [],
      "source": [
        "def simulate_one_round():\n",
        "    my_roll = np.random.choice(die_faces)\n",
        "    your_roll = np.random.choice(die_faces)\n",
        "\n",
        "    if my_roll > your_roll:\n",
        "      return 1\n",
        "    elif my_roll < your_roll:\n",
        "      return -1\n",
        "    else:\n",
        "      return 0"
      ]
    },
    {
      "cell_type": "code",
      "execution_count": 15,
      "metadata": {
        "id": "jIdaLKTLBX3-",
        "outputId": "bf256954-c788-4327-a79b-56e22aaace8a",
        "colab": {
          "base_uri": "https://localhost:8080/"
        }
      },
      "outputs": [
        {
          "output_type": "execute_result",
          "data": {
            "text/plain": [
              "-1"
            ]
          },
          "metadata": {},
          "execution_count": 15
        }
      ],
      "source": [
        "simulate_one_round()"
      ]
    },
    {
      "cell_type": "markdown",
      "metadata": {
        "id": "lvlZqB7-BX3-"
      },
      "source": [
        "### Appending Arrays"
      ]
    },
    {
      "cell_type": "markdown",
      "source": [
        "Sometimes we will want to collect the outcomes of our simulations into a single array. We can do this by appending each experiment to the end of an array using the numpy `np.append` function."
      ],
      "metadata": {
        "id": "GnkZ0Jfc4rDY"
      }
    },
    {
      "cell_type": "code",
      "execution_count": 3,
      "metadata": {
        "id": "zHcqwoudBX3-"
      },
      "outputs": [],
      "source": [
        "# Setup two arrays\n",
        "first = np.arange(4)\n",
        "second = np.arange(10, 17)"
      ]
    },
    {
      "cell_type": "code",
      "execution_count": 4,
      "metadata": {
        "id": "nNm6WQxABX3-",
        "outputId": "a00836e3-e428-42e7-a6b7-fdc6a5529dd5",
        "colab": {
          "base_uri": "https://localhost:8080/"
        }
      },
      "outputs": [
        {
          "output_type": "execute_result",
          "data": {
            "text/plain": [
              "array([0, 1, 2, 3, 6])"
            ]
          },
          "metadata": {},
          "execution_count": 4
        }
      ],
      "source": [
        "# Add on to the first array\n",
        "np.append(first, 6)"
      ]
    },
    {
      "cell_type": "code",
      "execution_count": 5,
      "metadata": {
        "id": "D3UTOprlBX3-",
        "outputId": "48dc8054-083e-4e31-837b-af3cb7f92089",
        "colab": {
          "base_uri": "https://localhost:8080/"
        }
      },
      "outputs": [
        {
          "output_type": "execute_result",
          "data": {
            "text/plain": [
              "array([0, 1, 2, 3])"
            ]
          },
          "metadata": {},
          "execution_count": 5
        }
      ],
      "source": [
        "# The first array doesn't change\n",
        "first"
      ]
    },
    {
      "cell_type": "code",
      "execution_count": 6,
      "metadata": {
        "id": "PN35FXLgBX3-",
        "outputId": "f6bd0957-0e2c-4556-da57-8ceb9131bec4",
        "colab": {
          "base_uri": "https://localhost:8080/"
        }
      },
      "outputs": [
        {
          "output_type": "execute_result",
          "data": {
            "text/plain": [
              "array([ 0,  1,  2,  3, 10, 11, 12, 13, 14, 15, 16])"
            ]
          },
          "metadata": {},
          "execution_count": 6
        }
      ],
      "source": [
        "# Make a longer array\n",
        "np.append(first, second)"
      ]
    },
    {
      "cell_type": "code",
      "execution_count": 7,
      "metadata": {
        "id": "CYkouJeFBX3-",
        "outputId": "2161d8d7-a2e3-458e-c73f-67b9f70db2ef",
        "colab": {
          "base_uri": "https://localhost:8080/"
        }
      },
      "outputs": [
        {
          "output_type": "execute_result",
          "data": {
            "text/plain": [
              "array([0, 1, 2, 3])"
            ]
          },
          "metadata": {},
          "execution_count": 7
        }
      ],
      "source": [
        "# Again, first doesn't change\n",
        "first"
      ]
    },
    {
      "cell_type": "code",
      "execution_count": 8,
      "metadata": {
        "id": "SXS3tGmkBX3-",
        "outputId": "3ad8cb24-cae5-4aa7-909f-854dcf7b4fd6",
        "colab": {
          "base_uri": "https://localhost:8080/"
        }
      },
      "outputs": [
        {
          "output_type": "execute_result",
          "data": {
            "text/plain": [
              "array([10, 11, 12, 13, 14, 15, 16])"
            ]
          },
          "metadata": {},
          "execution_count": 8
        }
      ],
      "source": [
        "# And second doesn't change\n",
        "second"
      ]
    },
    {
      "cell_type": "markdown",
      "metadata": {
        "id": "S8dRRotXBX3-"
      },
      "source": [
        "### Repeated Betting ###"
      ]
    },
    {
      "cell_type": "code",
      "execution_count": 9,
      "metadata": {
        "id": "6QvQn9VUBX3-"
      },
      "outputs": [],
      "source": [
        "results = make_array()"
      ]
    },
    {
      "cell_type": "code",
      "execution_count": 16,
      "metadata": {
        "id": "5JM7YmZKBX3-",
        "outputId": "168e6e5c-eae0-4d0c-db6d-e136699ab399",
        "colab": {
          "base_uri": "https://localhost:8080/"
        }
      },
      "outputs": [
        {
          "output_type": "execute_result",
          "data": {
            "text/plain": [
              "array([-1.])"
            ]
          },
          "metadata": {},
          "execution_count": 16
        }
      ],
      "source": [
        "results = np.append(results, simulate_one_round())\n",
        "results"
      ]
    },
    {
      "cell_type": "code",
      "execution_count": 17,
      "metadata": {
        "id": "aoBRrLUrBX3_",
        "outputId": "cc5535ea-5566-4253-b45f-89fa95360cf5",
        "colab": {
          "base_uri": "https://localhost:8080/"
        }
      },
      "outputs": [
        {
          "output_type": "execute_result",
          "data": {
            "text/plain": [
              "array([-1., -1.])"
            ]
          },
          "metadata": {},
          "execution_count": 17
        }
      ],
      "source": [
        "results = np.append(results, simulate_one_round())\n",
        "results"
      ]
    },
    {
      "cell_type": "markdown",
      "metadata": {
        "id": "cH0H6si4BX3_"
      },
      "source": [
        "## `For` Statements"
      ]
    },
    {
      "cell_type": "markdown",
      "source": [
        "The for statement is another way to apply code to each element in a list or an array.\n",
        "\n"
      ],
      "metadata": {
        "id": "xbZK6p-m4_R2"
      }
    },
    {
      "cell_type": "code",
      "execution_count": null,
      "metadata": {
        "id": "vubvVwTpBX3_",
        "outputId": "5787c271-697e-4acc-c2ed-f9ab285e78dd",
        "colab": {
          "base_uri": "https://localhost:8080/"
        }
      },
      "outputs": [
        {
          "output_type": "stream",
          "name": "stdout",
          "text": [
            "I love my cat\n",
            "I love my dog\n",
            "I love my rabbit\n"
          ]
        }
      ],
      "source": [
        "for pet in make_array('cat', 'dog', 'rabbit'):\n",
        "    print('I love my ' + pet)"
      ]
    },
    {
      "cell_type": "code",
      "execution_count": 18,
      "metadata": {
        "id": "pGp3gJbYBX3_",
        "outputId": "f0c549cf-3e2a-4305-c845-86dddc41590e",
        "colab": {
          "base_uri": "https://localhost:8080/"
        }
      },
      "outputs": [
        {
          "output_type": "stream",
          "name": "stdout",
          "text": [
            "I love my cat\n",
            "I love my dog\n",
            "I love my rabbit\n"
          ]
        }
      ],
      "source": [
        "pet = make_array('cat', 'dog', 'rabbit').item(0)\n",
        "print('I love my ' + pet)\n",
        "\n",
        "pet = make_array('cat', 'dog', 'rabbit').item(1)\n",
        "print('I love my ' + pet)\n",
        "\n",
        "pet = make_array('cat', 'dog', 'rabbit').item(2)\n",
        "print('I love my ' + pet)"
      ]
    },
    {
      "cell_type": "markdown",
      "source": [
        "What is the output of this for loop?"
      ],
      "metadata": {
        "id": "qUfWisgY5Duu"
      }
    },
    {
      "cell_type": "code",
      "source": [
        "x = 0\n",
        "for i in np.arange(1,4):\n",
        "  x = x + i\n",
        "  print(x)\n",
        "\n",
        "print('The final value of x is:', x)"
      ],
      "metadata": {
        "id": "WOlEoxM9qh46",
        "outputId": "7076376e-f20f-485b-f2e4-79200d152899",
        "colab": {
          "base_uri": "https://localhost:8080/"
        }
      },
      "execution_count": 19,
      "outputs": [
        {
          "output_type": "stream",
          "name": "stdout",
          "text": [
            "1\n",
            "3\n",
            "6\n",
            "The final value of x is: 6\n"
          ]
        }
      ]
    },
    {
      "cell_type": "markdown",
      "source": [
        "Use a for loop to simulate the total outcome of plays of our game of chance:"
      ],
      "metadata": {
        "id": "br0Ovr4s5GIG"
      }
    },
    {
      "cell_type": "code",
      "execution_count": 20,
      "metadata": {
        "id": "t4U-vIquBX3_",
        "outputId": "58881e76-736c-419e-eeff-9234804965ac",
        "colab": {
          "base_uri": "https://localhost:8080/"
        }
      },
      "outputs": [
        {
          "output_type": "execute_result",
          "data": {
            "text/plain": [
              "array([ 1., -1.,  1.,  1.,  1.])"
            ]
          },
          "metadata": {},
          "execution_count": 20
        }
      ],
      "source": [
        "game_outcomes = make_array()\n",
        "\n",
        "for i in np.arange(5):\n",
        "    game_outcomes = np.append(game_outcomes, simulate_one_round())\n",
        "\n",
        "game_outcomes"
      ]
    },
    {
      "cell_type": "code",
      "execution_count": 21,
      "metadata": {
        "id": "_sQ9Ocm5BX3_",
        "outputId": "7b2c563a-6aa9-4dd4-e473-2095f3f60654",
        "colab": {
          "base_uri": "https://localhost:8080/"
        }
      },
      "outputs": [
        {
          "output_type": "execute_result",
          "data": {
            "text/plain": [
              "array([-1.,  1.,  1., ...,  1.,  1.,  0.])"
            ]
          },
          "metadata": {},
          "execution_count": 21
        }
      ],
      "source": [
        "game_outcomes = make_array()\n",
        "\n",
        "for i in np.arange(10000):\n",
        "    game_outcomes = np.append(game_outcomes, simulate_one_round())\n",
        "\n",
        "game_outcomes"
      ]
    },
    {
      "cell_type": "code",
      "execution_count": 22,
      "metadata": {
        "id": "7M6Fp9ozBX3_",
        "outputId": "9d5a1ba0-9eaf-4134-8848-9a2df688de62",
        "colab": {
          "base_uri": "https://localhost:8080/"
        }
      },
      "outputs": [
        {
          "output_type": "execute_result",
          "data": {
            "text/plain": [
              "10000"
            ]
          },
          "metadata": {},
          "execution_count": 22
        }
      ],
      "source": [
        "len(game_outcomes)"
      ]
    },
    {
      "cell_type": "code",
      "execution_count": 23,
      "metadata": {
        "id": "e1pbfmUGBX3_"
      },
      "outputs": [],
      "source": [
        "results = Table().with_column('My winnings', game_outcomes)"
      ]
    },
    {
      "cell_type": "code",
      "execution_count": 24,
      "metadata": {
        "id": "tgx58SWeBX3_",
        "outputId": "1f52dc89-dfdb-4bba-d5e3-05bdac293b1a",
        "colab": {
          "base_uri": "https://localhost:8080/",
          "height": 392
        }
      },
      "outputs": [
        {
          "output_type": "execute_result",
          "data": {
            "text/plain": [
              "My winnings\n",
              "-1\n",
              "1\n",
              "1\n",
              "0\n",
              "1\n",
              "-1\n",
              "-1\n",
              "-1\n",
              "1\n",
              "1\n",
              "... (9990 rows omitted)"
            ],
            "text/html": [
              "<table border=\"1\" class=\"dataframe\">\n",
              "    <thead>\n",
              "        <tr>\n",
              "            <th>My winnings</th>\n",
              "        </tr>\n",
              "    </thead>\n",
              "    <tbody>\n",
              "        <tr>\n",
              "            <td>-1         </td>\n",
              "        </tr>\n",
              "        <tr>\n",
              "            <td>1          </td>\n",
              "        </tr>\n",
              "        <tr>\n",
              "            <td>1          </td>\n",
              "        </tr>\n",
              "        <tr>\n",
              "            <td>0          </td>\n",
              "        </tr>\n",
              "        <tr>\n",
              "            <td>1          </td>\n",
              "        </tr>\n",
              "        <tr>\n",
              "            <td>-1         </td>\n",
              "        </tr>\n",
              "        <tr>\n",
              "            <td>-1         </td>\n",
              "        </tr>\n",
              "        <tr>\n",
              "            <td>-1         </td>\n",
              "        </tr>\n",
              "        <tr>\n",
              "            <td>1          </td>\n",
              "        </tr>\n",
              "        <tr>\n",
              "            <td>1          </td>\n",
              "        </tr>\n",
              "    </tbody>\n",
              "</table>\n",
              "<p>... (9990 rows omitted)</p>"
            ]
          },
          "metadata": {},
          "execution_count": 24
        }
      ],
      "source": [
        "results"
      ]
    },
    {
      "cell_type": "code",
      "execution_count": 25,
      "metadata": {
        "id": "mzBOExAdBX3_",
        "outputId": "86c46b5b-db3a-4491-df18-87778059720b",
        "colab": {
          "base_uri": "https://localhost:8080/",
          "height": 410
        }
      },
      "outputs": [
        {
          "output_type": "display_data",
          "data": {
            "text/plain": [
              "<Figure size 600x400 with 1 Axes>"
            ],
            "image/png": "[encoded data removed]"
          },
          "metadata": {}
        }
      ],
      "source": [
        "results.group('My winnings').barh('My winnings')"
      ]
    },
    {
      "cell_type": "markdown",
      "metadata": {
        "id": "PWHoW-DEBX3_"
      },
      "source": [
        "### Another example: simulating heads in 100 coin tosses"
      ]
    },
    {
      "cell_type": "code",
      "execution_count": 26,
      "metadata": {
        "id": "PSaD4pi7BX3_"
      },
      "outputs": [],
      "source": [
        "# Example coin flip\n",
        "coin = make_array('heads', 'tails')"
      ]
    },
    {
      "cell_type": "code",
      "source": [
        "# Use np.random.choice to pick\n",
        "np.random.choice(coin)"
      ],
      "metadata": {
        "id": "9S13XhoL7IIy",
        "outputId": "ef34aa0d-fe90-4803-fc7f-50b2ddd9db27",
        "colab": {
          "base_uri": "https://localhost:8080/",
          "height": 36
        }
      },
      "execution_count": 30,
      "outputs": [
        {
          "output_type": "execute_result",
          "data": {
            "text/plain": [
              "'tails'"
            ],
            "application/vnd.google.colaboratory.intrinsic+json": {
              "type": "string"
            }
          },
          "metadata": {},
          "execution_count": 30
        }
      ]
    },
    {
      "cell_type": "code",
      "source": [
        "# Pick multiple times\n",
        "ten_picks = np.random.choice(coin, 10)\n",
        "ten_picks"
      ],
      "metadata": {
        "id": "Gh7piT3d7OwM",
        "outputId": "c64111b1-0e4c-4eda-d960-8a08b7a6d10d",
        "colab": {
          "base_uri": "https://localhost:8080/"
        }
      },
      "execution_count": 37,
      "outputs": [
        {
          "output_type": "execute_result",
          "data": {
            "text/plain": [
              "array(['tails', 'heads', 'heads', 'heads', 'tails', 'heads', 'heads',\n",
              "       'heads', 'tails', 'tails'],\n",
              "      dtype='<U5')"
            ]
          },
          "metadata": {},
          "execution_count": 37
        }
      ]
    },
    {
      "cell_type": "code",
      "source": [
        "ten_picks == 'heads'"
      ],
      "metadata": {
        "id": "9M-j5Bgv7uq7",
        "outputId": "11310adb-0724-47e1-a49b-8a5367f8c7b4",
        "colab": {
          "base_uri": "https://localhost:8080/"
        }
      },
      "execution_count": 38,
      "outputs": [
        {
          "output_type": "execute_result",
          "data": {
            "text/plain": [
              "array([False,  True,  True,  True, False,  True,  True,  True, False, False], dtype=bool)"
            ]
          },
          "metadata": {},
          "execution_count": 38
        }
      ]
    },
    {
      "cell_type": "code",
      "source": [
        "sum(ten_picks == 'heads')"
      ],
      "metadata": {
        "id": "aG_R0U5B7yIa",
        "outputId": "f9c988bb-43e6-4c40-e89a-c1ab6140d13e",
        "colab": {
          "base_uri": "https://localhost:8080/"
        }
      },
      "execution_count": 39,
      "outputs": [
        {
          "output_type": "execute_result",
          "data": {
            "text/plain": [
              "6"
            ]
          },
          "metadata": {},
          "execution_count": 39
        }
      ]
    },
    {
      "cell_type": "code",
      "execution_count": 40,
      "metadata": {
        "id": "X0FQzWmPBX3_",
        "outputId": "05a3e3cb-d4f4-406a-cab1-0dfb10cab841",
        "colab": {
          "base_uri": "https://localhost:8080/"
        }
      },
      "outputs": [
        {
          "output_type": "execute_result",
          "data": {
            "text/plain": [
              "8"
            ]
          },
          "metadata": {},
          "execution_count": 40
        }
      ],
      "source": [
        "# Count the sum of heads coin flip results in our array\n",
        "sum(np.random.choice(coin, 10) == 'heads')"
      ]
    },
    {
      "cell_type": "code",
      "source": [
        "sum(np.random.choice(coin, 100) == 'heads')"
      ],
      "metadata": {
        "id": "T4Lr4-0H79yx",
        "outputId": "9f44826a-4de8-4fce-e9a0-93153758487f",
        "colab": {
          "base_uri": "https://localhost:8080/"
        }
      },
      "execution_count": 41,
      "outputs": [
        {
          "output_type": "execute_result",
          "data": {
            "text/plain": [
              "56"
            ]
          },
          "metadata": {},
          "execution_count": 41
        }
      ]
    },
    {
      "cell_type": "code",
      "execution_count": 32,
      "metadata": {
        "id": "63r3GBLtBX3_"
      },
      "outputs": [],
      "source": [
        "# Simulate one outcome\n",
        "\n",
        "def num_heads():\n",
        "    return sum(np.random.choice(coin, 100) == 'heads')"
      ]
    },
    {
      "cell_type": "code",
      "execution_count": 33,
      "metadata": {
        "id": "bsCL5q61BX3_"
      },
      "outputs": [],
      "source": [
        "# Decide how many times you want to repeat the experiment\n",
        "repetitions = 10000"
      ]
    },
    {
      "cell_type": "code",
      "execution_count": 34,
      "metadata": {
        "id": "Fc2UPTCABX3_"
      },
      "outputs": [],
      "source": [
        "# Simulate that many outcomes\n",
        "outcomes = make_array()\n",
        "\n",
        "for i in np.arange(repetitions):\n",
        "    outcomes = np.append(outcomes, num_heads())"
      ]
    },
    {
      "cell_type": "code",
      "execution_count": 35,
      "metadata": {
        "id": "1oLpf_hvBX3_",
        "outputId": "43adcd1c-0f49-4de6-e404-ee64403abeb0",
        "colab": {
          "base_uri": "https://localhost:8080/",
          "height": 411
        }
      },
      "outputs": [
        {
          "output_type": "display_data",
          "data": {
            "text/plain": [
              "<Figure size 600x400 with 1 Axes>"
            ],
            "image/png": "[encoded data removed]"
          },
          "metadata": {}
        }
      ],
      "source": [
        "heads = Table().with_column('Heads', outcomes)\n",
        "heads.hist(bins = np.arange(29.5, 70.6))"
      ]
    },
    {
      "cell_type": "markdown",
      "metadata": {
        "id": "7pK0wMEPBX3_"
      },
      "source": [
        "## Optional: Advanced `where` ##"
      ]
    },
    {
      "cell_type": "code",
      "execution_count": null,
      "metadata": {
        "id": "VDDR3nijBX4A"
      },
      "outputs": [],
      "source": [
        "ages = make_array(16, 22, 18, 15, 19, 15, 16, 21)\n",
        "age = Table().with_column('Age', ages)"
      ]
    },
    {
      "cell_type": "code",
      "execution_count": null,
      "metadata": {
        "id": "jMq8V0YpBX4A",
        "outputId": "19e4d97a-313a-47e2-82a1-0ddc165e43d0",
        "colab": {
          "base_uri": "https://localhost:8080/",
          "height": 300
        }
      },
      "outputs": [
        {
          "output_type": "execute_result",
          "data": {
            "text/plain": [
              "Age\n",
              "16\n",
              "22\n",
              "18\n",
              "15\n",
              "19\n",
              "15\n",
              "16\n",
              "21"
            ],
            "text/html": [
              "<table border=\"1\" class=\"dataframe\">\n",
              "    <thead>\n",
              "        <tr>\n",
              "            <th>Age</th>\n",
              "        </tr>\n",
              "    </thead>\n",
              "    <tbody>\n",
              "        <tr>\n",
              "            <td>16  </td>\n",
              "        </tr>\n",
              "        <tr>\n",
              "            <td>22  </td>\n",
              "        </tr>\n",
              "        <tr>\n",
              "            <td>18  </td>\n",
              "        </tr>\n",
              "        <tr>\n",
              "            <td>15  </td>\n",
              "        </tr>\n",
              "        <tr>\n",
              "            <td>19  </td>\n",
              "        </tr>\n",
              "        <tr>\n",
              "            <td>15  </td>\n",
              "        </tr>\n",
              "        <tr>\n",
              "            <td>16  </td>\n",
              "        </tr>\n",
              "        <tr>\n",
              "            <td>21  </td>\n",
              "        </tr>\n",
              "    </tbody>\n",
              "</table>"
            ]
          },
          "metadata": {},
          "execution_count": 113
        }
      ],
      "source": [
        "age"
      ]
    },
    {
      "cell_type": "code",
      "execution_count": null,
      "metadata": {
        "id": "TVUjViecBX4A",
        "outputId": "b5944ca6-49be-4968-c57e-d32dba2ca2c9",
        "colab": {
          "base_uri": "https://localhost:8080/",
          "height": 175
        }
      },
      "outputs": [
        {
          "output_type": "execute_result",
          "data": {
            "text/plain": [
              "Age\n",
              "22\n",
              "18\n",
              "19\n",
              "21"
            ],
            "text/html": [
              "<table border=\"1\" class=\"dataframe\">\n",
              "    <thead>\n",
              "        <tr>\n",
              "            <th>Age</th>\n",
              "        </tr>\n",
              "    </thead>\n",
              "    <tbody>\n",
              "        <tr>\n",
              "            <td>22  </td>\n",
              "        </tr>\n",
              "        <tr>\n",
              "            <td>18  </td>\n",
              "        </tr>\n",
              "        <tr>\n",
              "            <td>19  </td>\n",
              "        </tr>\n",
              "        <tr>\n",
              "            <td>21  </td>\n",
              "        </tr>\n",
              "    </tbody>\n",
              "</table>"
            ]
          },
          "metadata": {},
          "execution_count": 114
        }
      ],
      "source": [
        "age.where('Age', are.above_or_equal_to(18))"
      ]
    },
    {
      "cell_type": "code",
      "execution_count": null,
      "metadata": {
        "id": "W-5K9c7ZBX4A"
      },
      "outputs": [],
      "source": [
        "voter = ages >= 18"
      ]
    },
    {
      "cell_type": "code",
      "execution_count": null,
      "metadata": {
        "id": "JgIFNdt_BX4A",
        "outputId": "6352e7db-1013-45cf-8235-a60ae90c965d",
        "colab": {
          "base_uri": "https://localhost:8080/"
        }
      },
      "outputs": [
        {
          "output_type": "execute_result",
          "data": {
            "text/plain": [
              "array([False,  True,  True, False,  True, False, False,  True], dtype=bool)"
            ]
          },
          "metadata": {},
          "execution_count": 116
        }
      ],
      "source": [
        "voter"
      ]
    },
    {
      "cell_type": "code",
      "execution_count": null,
      "metadata": {
        "id": "Csh4XbeUBX4A",
        "outputId": "9d0a25a4-bd87-48a6-a7da-261ee37b85d6",
        "colab": {
          "base_uri": "https://localhost:8080/",
          "height": 175
        }
      },
      "outputs": [
        {
          "output_type": "execute_result",
          "data": {
            "text/plain": [
              "Age\n",
              "22\n",
              "18\n",
              "19\n",
              "21"
            ],
            "text/html": [
              "<table border=\"1\" class=\"dataframe\">\n",
              "    <thead>\n",
              "        <tr>\n",
              "            <th>Age</th>\n",
              "        </tr>\n",
              "    </thead>\n",
              "    <tbody>\n",
              "        <tr>\n",
              "            <td>22  </td>\n",
              "        </tr>\n",
              "        <tr>\n",
              "            <td>18  </td>\n",
              "        </tr>\n",
              "        <tr>\n",
              "            <td>19  </td>\n",
              "        </tr>\n",
              "        <tr>\n",
              "            <td>21  </td>\n",
              "        </tr>\n",
              "    </tbody>\n",
              "</table>"
            ]
          },
          "metadata": {},
          "execution_count": 117
        }
      ],
      "source": [
        "age.where(voter)"
      ]
    },
    {
      "cell_type": "code",
      "execution_count": null,
      "metadata": {
        "id": "oVBg9dQ-BX4A"
      },
      "outputs": [],
      "source": [
        "is_voter = are.above_or_equal_to(18)"
      ]
    },
    {
      "cell_type": "code",
      "execution_count": null,
      "metadata": {
        "id": "s9SNklJOBX4A",
        "outputId": "625509e4-436a-4cd1-b66a-30f5304c7624",
        "colab": {
          "base_uri": "https://localhost:8080/"
        }
      },
      "outputs": [
        {
          "output_type": "execute_result",
          "data": {
            "text/plain": [
              "datascience.predicates._combinable"
            ]
          },
          "metadata": {},
          "execution_count": 119
        }
      ],
      "source": [
        "type(is_voter)"
      ]
    },
    {
      "cell_type": "code",
      "execution_count": null,
      "metadata": {
        "id": "8Jy1IYVUBX4A",
        "outputId": "9b91915d-bda3-49e7-beee-96320645995d",
        "colab": {
          "base_uri": "https://localhost:8080/"
        }
      },
      "outputs": [
        {
          "output_type": "execute_result",
          "data": {
            "text/plain": [
              "True"
            ]
          },
          "metadata": {},
          "execution_count": 120
        }
      ],
      "source": [
        "is_voter(22)"
      ]
    },
    {
      "cell_type": "code",
      "execution_count": null,
      "metadata": {
        "id": "3DCmYHgwBX4A",
        "outputId": "f23a2b97-51e3-4889-fa62-33bfb7c5349b",
        "colab": {
          "base_uri": "https://localhost:8080/"
        }
      },
      "outputs": [
        {
          "output_type": "execute_result",
          "data": {
            "text/plain": [
              "False"
            ]
          },
          "metadata": {},
          "execution_count": 121
        }
      ],
      "source": [
        "is_voter(3)"
      ]
    },
    {
      "cell_type": "code",
      "execution_count": null,
      "metadata": {
        "id": "cfh8zfHJBX4A",
        "outputId": "ef432fab-9aa9-4075-bc05-e051ea55163e",
        "colab": {
          "base_uri": "https://localhost:8080/"
        }
      },
      "outputs": [
        {
          "output_type": "execute_result",
          "data": {
            "text/plain": [
              "array([False,  True,  True, False,  True, False, False,  True], dtype=bool)"
            ]
          },
          "metadata": {},
          "execution_count": 122
        }
      ],
      "source": [
        "age.apply(is_voter, 'Age')"
      ]
    },
    {
      "cell_type": "code",
      "execution_count": null,
      "metadata": {
        "id": "alUq04ebBX4A",
        "outputId": "8d371eca-1817-4193-bb23-15cab4aa0e02",
        "colab": {
          "base_uri": "https://localhost:8080/"
        }
      },
      "outputs": [
        {
          "output_type": "execute_result",
          "data": {
            "text/plain": [
              "array([False,  True,  True, False,  True, False, False,  True], dtype=bool)"
            ]
          },
          "metadata": {},
          "execution_count": 123
        }
      ],
      "source": [
        "ages >= 18"
      ]
    },
    {
      "cell_type": "code",
      "execution_count": null,
      "metadata": {
        "id": "ScVUfoNDBX4A",
        "outputId": "8377129e-61b9-4d1a-a4a7-e8214e2bc2aa",
        "colab": {
          "base_uri": "https://localhost:8080/"
        }
      },
      "outputs": [
        {
          "output_type": "execute_result",
          "data": {
            "text/plain": [
              "array([False,  True,  True, False,  True, False, False,  True], dtype=bool)"
            ]
          },
          "metadata": {},
          "execution_count": 124
        }
      ],
      "source": [
        "voter"
      ]
    },
    {
      "cell_type": "code",
      "execution_count": null,
      "metadata": {
        "id": "9LZ_T3t7BX4A"
      },
      "outputs": [],
      "source": [
        "def my_voter_function(x):\n",
        "    return x >= 18"
      ]
    },
    {
      "cell_type": "code",
      "execution_count": null,
      "metadata": {
        "id": "dvNpIVFhBX4A",
        "outputId": "50b8e9a4-a9fd-4f23-b597-6f0f18f4b3c3",
        "colab": {
          "base_uri": "https://localhost:8080/",
          "height": 175
        }
      },
      "outputs": [
        {
          "output_type": "execute_result",
          "data": {
            "text/plain": [
              "Age\n",
              "22\n",
              "18\n",
              "19\n",
              "21"
            ],
            "text/html": [
              "<table border=\"1\" class=\"dataframe\">\n",
              "    <thead>\n",
              "        <tr>\n",
              "            <th>Age</th>\n",
              "        </tr>\n",
              "    </thead>\n",
              "    <tbody>\n",
              "        <tr>\n",
              "            <td>22  </td>\n",
              "        </tr>\n",
              "        <tr>\n",
              "            <td>18  </td>\n",
              "        </tr>\n",
              "        <tr>\n",
              "            <td>19  </td>\n",
              "        </tr>\n",
              "        <tr>\n",
              "            <td>21  </td>\n",
              "        </tr>\n",
              "    </tbody>\n",
              "</table>"
            ]
          },
          "metadata": {},
          "execution_count": 126
        }
      ],
      "source": [
        "age.where('Age', are.above_or_equal_to(18))"
      ]
    },
    {
      "cell_type": "code",
      "execution_count": null,
      "metadata": {
        "id": "85Z6ipWBBX4A",
        "outputId": "b02f20d0-c8d0-4f89-b907-e1d0b9f433d2",
        "colab": {
          "base_uri": "https://localhost:8080/",
          "height": 175
        }
      },
      "outputs": [
        {
          "output_type": "execute_result",
          "data": {
            "text/plain": [
              "Age\n",
              "22\n",
              "18\n",
              "19\n",
              "21"
            ],
            "text/html": [
              "<table border=\"1\" class=\"dataframe\">\n",
              "    <thead>\n",
              "        <tr>\n",
              "            <th>Age</th>\n",
              "        </tr>\n",
              "    </thead>\n",
              "    <tbody>\n",
              "        <tr>\n",
              "            <td>22  </td>\n",
              "        </tr>\n",
              "        <tr>\n",
              "            <td>18  </td>\n",
              "        </tr>\n",
              "        <tr>\n",
              "            <td>19  </td>\n",
              "        </tr>\n",
              "        <tr>\n",
              "            <td>21  </td>\n",
              "        </tr>\n",
              "    </tbody>\n",
              "</table>"
            ]
          },
          "metadata": {},
          "execution_count": 127
        }
      ],
      "source": [
        "age.where(voter)"
      ]
    },
    {
      "cell_type": "code",
      "execution_count": null,
      "metadata": {
        "id": "ZlQim1ivBX4A",
        "outputId": "d0af13d8-11b2-4595-ddbc-bac8902ab98e",
        "colab": {
          "base_uri": "https://localhost:8080/",
          "height": 175
        }
      },
      "outputs": [
        {
          "output_type": "execute_result",
          "data": {
            "text/plain": [
              "Age\n",
              "22\n",
              "18\n",
              "19\n",
              "21"
            ],
            "text/html": [
              "<table border=\"1\" class=\"dataframe\">\n",
              "    <thead>\n",
              "        <tr>\n",
              "            <th>Age</th>\n",
              "        </tr>\n",
              "    </thead>\n",
              "    <tbody>\n",
              "        <tr>\n",
              "            <td>22  </td>\n",
              "        </tr>\n",
              "        <tr>\n",
              "            <td>18  </td>\n",
              "        </tr>\n",
              "        <tr>\n",
              "            <td>19  </td>\n",
              "        </tr>\n",
              "        <tr>\n",
              "            <td>21  </td>\n",
              "        </tr>\n",
              "    </tbody>\n",
              "</table>"
            ]
          },
          "metadata": {},
          "execution_count": 128
        }
      ],
      "source": [
        "age.where('Age', my_voter_function)"
      ]
    }
  ],
  "metadata": {
    "colab": {
      "provenance": []
    },
    "kernelspec": {
      "display_name": "Python 3",
      "language": "python",
      "name": "python3"
    },
    "language_info": {
      "codemirror_mode": {
        "name": "ipython",
        "version": 3
      },
      "file_extension": ".py",
      "mimetype": "text/x-python",
      "name": "python",
      "nbconvert_exporter": "python",
      "pygments_lexer": "ipython3",
      "version": "3.10.12"
    }
  },
  "nbformat": 4,
  "nbformat_minor": 0
}