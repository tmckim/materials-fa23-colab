{
  "cells": [
    {
      "cell_type": "markdown",
      "metadata": {
        "colab_type": "text",
        "id": "view-in-github"
      },
      "source": [
        "<a href=\"https://colab.research.google.com/github/tmckim/materials-fa23-colab-working/blob/main/lectures/lec01.ipynb\" target=\"_parent\"><img src=\"https://colab.research.google.com/assets/colab-badge.svg\" alt=\"Open In Colab\"/></a>"
      ]
    },
    {
      "cell_type": "markdown",
      "metadata": {},
      "source": [
        "## Before you start - Save this notebook!\n",
        "\n",
        "When you open a new Colab notebook from the WebCampus (like you hopefully did for this one), you cannot save changes. So it's  best to store the Colab notebook in your personal drive `\"File > Save a copy in drive...\"` **before** you do anything else.\n",
        "\n",
        "The file will open in a new tab in your web browser, and it is automatically named something like: \"**Copy of lec01.ipynb**\". You can rename this to just the title of the assignment \"**lec01.ipynb**\". Make sure you do keep an informative name (like the name of the assignment) so that you know which files to submit back to WebCampus for grading! More instructions on this are at the end of the notebook.\n",
        "\n",
        "\n",
        "**Where does the notebook get saved in Google Drive?**\n",
        "\n",
        "By default, the notebook will be copied to a folder called “Colab Notebooks” at the root (home directory) of your Google Drive. If you use this for other courses or personal code notebooks, I recommend creating a folder for this course and then moving the assignments AFTER you have completed them."
      ]
    },
    {
      "cell_type": "code",
      "execution_count": null,
      "metadata": {
        "id": "ReOACYIX33lq"
      },
      "outputs": [],
      "source": [
        "from google.colab import drive\n",
        "drive.mount('/content/gdrive', force_remount=True)\n",
        "\n",
        "## Edit this\n",
        "!mkdir -p '/content/gdrive/My Drive/colab-materials-NS499DataSci-notebooks/'\n",
        "!git clone https://github.com/tmckim/materials-fa23-colab '/content/gdrive/My Drive/colab-materials-NS499DataSci-notebooks/materials-fa23-colab/'\n",
        "\n",
        "%cd /content/gdrive/MyDrive/colab-materials-NS499DataSci-notebooks/materials-fa23-colab/lectures/"
      ]
    },
    {
      "cell_type": "code",
      "execution_count": null,
      "metadata": {
        "id": "JE7zWyMx33lt"
      },
      "outputs": [],
      "source": [
        "from datascience import *\n",
        "import numpy as np\n",
        "%matplotlib inline\n",
        "import matplotlib.pyplot as plots\n",
        "plots.style.use('fivethirtyeight')\n",
        "import warnings\n",
        "warnings.simplefilter(action=\"ignore\", category=FutureWarning)\n",
        "\n",
        "from urllib.request import urlopen\n",
        "import re\n",
        "def read_url(url):\n",
        "    return re.sub('\\\\s+', ' ', urlopen(url).read().decode())"
      ]
    },
    {
      "cell_type": "code",
      "execution_count": null,
      "metadata": {
        "id": "AI7ksIim33lu"
      },
      "outputs": [],
      "source": [
        "# Basic math operations and calculations\n",
        "2+3"
      ]
    },
    {
      "cell_type": "code",
      "execution_count": null,
      "metadata": {
        "id": "RCQaNhoA33lu"
      },
      "outputs": [],
      "source": [
        "# Read two books, fast!\n",
        "\n",
        "huck_finn_url = 'https://www.inferentialthinking.com/data/huck_finn.txt'\n",
        "huck_finn_text = read_url(huck_finn_url)\n",
        "huck_finn_chapters = huck_finn_text.split('CHAPTER ')[44:]\n",
        "\n",
        "little_women_url = 'https://www.inferentialthinking.com/data/little_women.txt'\n",
        "little_women_text = read_url(little_women_url)\n",
        "little_women_chapters = little_women_text.split('CHAPTER ')[1:]"
      ]
    },
    {
      "cell_type": "code",
      "execution_count": null,
      "metadata": {
        "id": "lhejNcYC33lu"
      },
      "outputs": [],
      "source": [
        "huck_finn_chapters"
      ]
    },
    {
      "cell_type": "code",
      "execution_count": null,
      "metadata": {
        "id": "yaM7FdFx33lv"
      },
      "outputs": [],
      "source": [
        "# table for each chapter\n",
        "Table().with_column('Chapters', huck_finn_chapters)"
      ]
    },
    {
      "cell_type": "code",
      "execution_count": null,
      "metadata": {
        "id": "gO6bLI--33lv"
      },
      "outputs": [],
      "source": [
        "# Count how many times the name Tom appears in the chapters throughout the book\n",
        "np.char.count(huck_finn_chapters, 'Tom')"
      ]
    },
    {
      "cell_type": "code",
      "execution_count": null,
      "metadata": {
        "id": "OgDxWdKx33lv"
      },
      "outputs": [],
      "source": [
        "np.char.count(huck_finn_chapters, 'Jim')"
      ]
    },
    {
      "cell_type": "code",
      "execution_count": null,
      "metadata": {
        "id": "poIE5vfW33lw"
      },
      "outputs": [],
      "source": [
        "# Create table for all characters and counts\n",
        "counts = Table().with_columns([\n",
        "    'Tom', np.char.count(huck_finn_chapters, 'Tom'),\n",
        "    'Jim', np.char.count(huck_finn_chapters, 'Jim'),\n",
        "    'Huck', np.char.count(huck_finn_chapters, 'Huck'),\n",
        "])\n",
        "counts"
      ]
    },
    {
      "cell_type": "code",
      "execution_count": null,
      "metadata": {
        "id": "2T_jY6jA33lw"
      },
      "outputs": [],
      "source": [
        "# Plot the cumulative counts:\n",
        "# how many times in Chapter 1, how many times in Chapters 1 and 2, and so on.\n",
        "\n",
        "cum_counts = Table().with_columns([\n",
        "'Tom', counts.column('Tom').cumsum(),\n",
        "'Jim', counts.column('Jim').cumsum(),\n",
        "'Huck', counts.column('Huck').cumsum(),\n",
        "'Chapter', np.arange(1, 44, 1),\n",
        "])\n",
        "\n",
        "cum_counts.plot(column_for_xticks=3)\n",
        "plots.title('Cumulative Number of Times Name Appears');"
      ]
    },
    {
      "cell_type": "code",
      "execution_count": null,
      "metadata": {
        "id": "zMA7ryCx33lx"
      },
      "outputs": [],
      "source": [
        "# The chapters of Little Women\n",
        "\n",
        "Table().with_column('Chapters', little_women_chapters)"
      ]
    },
    {
      "cell_type": "code",
      "execution_count": null,
      "metadata": {
        "id": "BwHcOClR33lx"
      },
      "outputs": [],
      "source": [
        "# Counts of names in the chapters of Little Women\n",
        "\n",
        "names = ['Amy', 'Beth', 'Jo', 'Laurie', 'Meg']\n",
        "mentions = {name: np.char.count(little_women_chapters, name) for name in names}\n",
        "\n",
        "counts = Table().with_columns([\n",
        "        'Amy', mentions['Amy'],\n",
        "        'Beth', mentions['Beth'],\n",
        "        'Jo', mentions['Jo'],\n",
        "        'Laurie', mentions['Laurie'],\n",
        "        'Meg', mentions['Meg']\n",
        "    ])"
      ]
    },
    {
      "cell_type": "code",
      "execution_count": null,
      "metadata": {
        "id": "tdnWOETq33lx"
      },
      "outputs": [],
      "source": [
        "# Plot the cumulative counts\n",
        "cum_counts = Table().with_columns([\n",
        "        'Amy', mentions['Amy'].cumsum(),\n",
        "        'Beth', mentions['Beth'].cumsum(),\n",
        "        'Jo', mentions['Jo'].cumsum(),\n",
        "        'Laurie', mentions['Laurie'].cumsum(),\n",
        "        'Meg', mentions['Meg'].cumsum(),\n",
        "        'Chapter', np.arange(1, 48, 1),\n",
        "])\n",
        "\n",
        "cum_counts.plot(column_for_xticks=5)\n",
        "plots.title('Cumulative Number of Times Name Appears');"
      ]
    },
    {
      "cell_type": "code",
      "execution_count": null,
      "metadata": {
        "id": "H9q-X53Y33lx"
      },
      "outputs": [],
      "source": [
        "# Find the length of a string (including spaces)\n",
        "len('Intro to Data Science')"
      ]
    },
    {
      "cell_type": "code",
      "execution_count": null,
      "metadata": {
        "id": "WEjTxaHF33lx"
      },
      "outputs": [],
      "source": [
        "len(read_url(huck_finn_url))"
      ]
    },
    {
      "cell_type": "code",
      "execution_count": null,
      "metadata": {
        "id": "0_aO1WtS33lx"
      },
      "outputs": [],
      "source": [
        "# In each chapter, count the number of all characters;\n",
        "# call this the \"length\" of the chapter.\n",
        "# Also count the number of periods.\n",
        "\n",
        "length_hf = Table().with_columns([\n",
        "        'Length', [len(s) for s in huck_finn_chapters],\n",
        "        'Periods', np.char.count(huck_finn_chapters, '.')\n",
        "    ])\n",
        "length_lw = Table().with_columns([\n",
        "        'Length', [len(s) for s in little_women_chapters],\n",
        "        'Periods', np.char.count(little_women_chapters, '.')\n",
        "    ])"
      ]
    },
    {
      "cell_type": "code",
      "execution_count": null,
      "metadata": {
        "id": "jqutsQlO33lx"
      },
      "outputs": [],
      "source": [
        "# The counts for Huckleberry Finn\n",
        "\n",
        "length_hf"
      ]
    },
    {
      "cell_type": "code",
      "execution_count": null,
      "metadata": {
        "id": "XkLAogXb33ly"
      },
      "outputs": [],
      "source": [
        "# The counts for Little Women\n",
        "\n",
        "length_lw"
      ]
    },
    {
      "cell_type": "code",
      "execution_count": null,
      "metadata": {
        "id": "pZVcia2b33ly"
      },
      "outputs": [],
      "source": [
        "# Plot to compare chapter length across books\n",
        "plots.figure(figsize=(10,10))\n",
        "plots.scatter(length_hf[1], length_hf[0], color='darkblue')\n",
        "plots.scatter(length_lw[1], length_lw[0], color='gold')\n",
        "plots.xlabel('Number of periods in chapter')\n",
        "plots.ylabel('Number of characters in chapter');"
      ]
    },
    {
      "cell_type": "markdown",
      "metadata": {},
      "source": [
        "### Saving\n",
        "Remember to save your notebook before closing.\n",
        "Choose **Save** (and make sure you've already saved a copy in your drive) from the **File** menu."
      ]
    },
    {
      "cell_type": "markdown",
      "metadata": {},
      "source": []
    }
  ],
  "metadata": {
    "anaconda-cloud": {},
    "celltoolbar": "Raw Cell Format",
    "colab": {
      "include_colab_link": true,
      "provenance": []
    },
    "kernelspec": {
      "display_name": "Python 3.8.5 64-bit",
      "language": "python",
      "name": "python3"
    },
    "language_info": {
      "codemirror_mode": {
        "name": "ipython",
        "version": 3
      },
      "file_extension": ".py",
      "mimetype": "text/x-python",
      "name": "python",
      "nbconvert_exporter": "python",
      "pygments_lexer": "ipython3",
      "version": "3.8.5"
    },
    "vscode": {
      "interpreter": {
        "hash": "aee8b7b246df8f9039afb4144a1f6fd8d2ca17a180786b69acc140d282b71a49"
      }
    }
  },
  "nbformat": 4,
  "nbformat_minor": 0
}
