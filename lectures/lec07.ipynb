{
  "cells": [
    {
      "cell_type": "markdown",
      "metadata": {
        "id": "tO-7XkKgVeCQ"
      },
      "source": [
        "<a href=\"https://colab.research.google.com/github/tmckim/materials-fa23-colab-working/blob/main/lectures/lec07.ipynb\" target=\"_parent\"><img src=\"https://colab.research.google.com/assets/colab-badge.svg\" alt=\"Open In Colab\"/></a>"
      ]
    },
    {
      "cell_type": "markdown",
      "metadata": {
        "id": "mmeh1U1uVeCS"
      },
      "source": [
        "## Before you start - Save this notebook!\n",
        "\n",
        "When you open a new Colab notebook from the WebCampus (like you hopefully did for this one), you cannot save changes. So it's  best to store the Colab notebook in your personal drive `\"File > Save a copy in drive...\"` **before** you do anything else.\n",
        "\n",
        "The file will open in a new tab in your web browser, and it is automatically named something like: \"**Copy of lec07.ipynb**\". You can rename this to just the title of the assignment \"**lec07.ipynb**\". Make sure you do keep an informative name (like the name of the assignment) so that you know which files to submit back to WebCampus for grading! More instructions on this are at the end of the notebook.\n",
        "\n",
        "\n",
        "**Where does the notebook get saved in Google Drive?**\n",
        "\n",
        "By default, the notebook will be copied to a folder called “Colab Notebooks” at the root (home directory) of your Google Drive. If you use this for other courses or personal code notebooks, I recommend creating a folder for this course and then moving the assignments AFTER you have completed them."
      ]
    },
    {
      "cell_type": "code",
      "execution_count": null,
      "metadata": {
        "id": "lKtc3YrtVeCT"
      },
      "outputs": [],
      "source": [
        "# Setup and add files needed to gdrive\n",
        "# If you restart colab, start by rerunning this cell first!\n",
        "from google.colab import drive\n",
        "drive.mount('/content/gdrive', force_remount=True)\n",
        "\n",
        "#!mkdir -p '/content/gdrive/My Drive/colab-materials-NS499DataSci-notebooks/'\n",
        "%cd /content/gdrive/My Drive/colab-materials-NS499DataSci-notebooks/\n",
        "!rm -r materials-fa23-colab-working\n",
        "\n",
        "!git clone https://github.com/tmckim/materials-fa23-colab-working '/content/gdrive/My Drive/colab-materials-NS499DataSci-notebooks/materials-fa23-colab-working/'\n",
        "\n",
        "%cd /content/gdrive/MyDrive/colab-materials-NS499DataSci-notebooks/materials-fa23-colab-working/lectures/"
      ]
    },
    {
      "cell_type": "code",
      "execution_count": null,
      "metadata": {
        "id": "PKo0xkhBVeCU"
      },
      "outputs": [],
      "source": [
        "############### TEST\n",
        "from google.colab import drive\n",
        "drive.mount('/content/gdrive', force_remount=True)\n",
        "\n",
        "%cd /content/gdrive/MyDrive/colab-materials-NS499DataSci-notebooks/materials-fa23-colab-working/lectures/"
      ]
    },
    {
      "cell_type": "code",
      "execution_count": null,
      "metadata": {
        "id": "Lz8LexYWVeCV"
      },
      "outputs": [],
      "source": [
        "\n",
        "# Import packages and other things needed\n",
        "# Don't change this cell; Just run this cell\n",
        "# If you restart colab, make sure to run this cell again after the first one above^\n",
        "\n",
        "from datascience import *\n",
        "import numpy as np\n",
        "\n",
        "%matplotlib inline\n",
        "import matplotlib.pyplot as plots\n",
        "plots.style.use('fivethirtyeight')\n",
        "import warnings\n",
        "warnings.simplefilter(action='ignore',category=np.VisibleDeprecationWarning)\n"
      ]
    },
    {
      "cell_type": "markdown",
      "metadata": {
        "id": "erFtbpUYVeCV"
      },
      "source": [
        "## For statements"
      ]
    },
    {
      "cell_type": "code",
      "execution_count": null,
      "metadata": {
        "id": "Supu0xPsVeCV"
      },
      "outputs": [],
      "source": [
        "for pet in make_array('cat', 'dog', 'rabbit'):\n",
        "    print('I love my ' + pet)"
      ]
    },
    {
      "cell_type": "code",
      "execution_count": null,
      "metadata": {
        "id": "nI7AyDMTVeCV"
      },
      "outputs": [],
      "source": [
        "temporary = make_array('cat', 'dog', 'rabbit')\n",
        "\n",
        "pet = temporary.item(0)\n",
        "print('I love my ' + pet)\n",
        "\n",
        "pet = temporary.item(1)\n",
        "print('I love my ' + pet)\n",
        "\n",
        "pet = temporary.item(2)\n",
        "print('I love my ' + pet)"
      ]
    },
    {
      "cell_type": "code",
      "execution_count": null,
      "metadata": {
        "id": "4d5is4byVeCW"
      },
      "outputs": [],
      "source": [
        "for i in np.arange(5):\n",
        "    print(i)"
      ]
    },
    {
      "cell_type": "code",
      "execution_count": null,
      "metadata": {
        "id": "kobpYzfTVeCW"
      },
      "outputs": [],
      "source": [
        "for i in np.arange(5):\n",
        "    print('Go Bears')"
      ]
    },
    {
      "cell_type": "code",
      "execution_count": null,
      "metadata": {
        "id": "SozIBhT4VeCW"
      },
      "outputs": [],
      "source": [
        "s = make_array(2, 3)\n",
        "np.append(s, 4)\n",
        "s"
      ]
    },
    {
      "cell_type": "code",
      "execution_count": null,
      "metadata": {
        "id": "7s8YAyHBVeCW"
      },
      "outputs": [],
      "source": [
        "s + 3\n",
        "s"
      ]
    },
    {
      "cell_type": "code",
      "execution_count": null,
      "metadata": {
        "id": "7D6iFQu0VeCX"
      },
      "outputs": [],
      "source": [
        "s = np.append(s, 4)\n",
        "s"
      ]
    },
    {
      "cell_type": "code",
      "execution_count": null,
      "metadata": {
        "id": "uFlELKHFVeCX"
      },
      "outputs": [],
      "source": [
        "result = make_array(2, 3, 4)\n",
        "for i in np.arange(5):\n",
        "    result = np.append(result, 10 * i)\n",
        "result"
      ]
    },
    {
      "cell_type": "markdown",
      "source": [
        "## Simulation"
      ],
      "metadata": {
        "id": "bA_jZIBrWLCG"
      }
    },
    {
      "cell_type": "code",
      "source": [
        "# 50/50 chance of outcomes\n",
        "coin = make_array('heads', 'tails')"
      ],
      "metadata": {
        "id": "xV2F68atWM99"
      },
      "execution_count": null,
      "outputs": []
    },
    {
      "cell_type": "code",
      "source": [
        "np.random.choice(coin)"
      ],
      "metadata": {
        "id": "Rm3EUvYoWa5j",
        "outputId": "04192db6-00a1-412a-b997-f28b146f9685",
        "colab": {
          "base_uri": "https://localhost:8080/",
          "height": 36
        }
      },
      "execution_count": null,
      "outputs": [
        {
          "output_type": "execute_result",
          "data": {
            "text/plain": [
              "'heads'"
            ],
            "application/vnd.google.colaboratory.intrinsic+json": {
              "type": "string"
            }
          },
          "metadata": {},
          "execution_count": 10
        }
      ]
    },
    {
      "cell_type": "markdown",
      "source": [
        "Multiple coin flips at once:"
      ],
      "metadata": {
        "id": "W_43xDG_WmtJ"
      }
    },
    {
      "cell_type": "code",
      "source": [
        "# Add second argument to specify # of times\n",
        "# Saved into an array\n",
        "np.random.choice(coin,10)"
      ],
      "metadata": {
        "id": "tq1LRp-OWouS",
        "outputId": "0c0e054d-9541-44cd-efc5-0de07182b70c",
        "colab": {
          "base_uri": "https://localhost:8080/"
        }
      },
      "execution_count": null,
      "outputs": [
        {
          "output_type": "execute_result",
          "data": {
            "text/plain": [
              "array(['tails', 'heads', 'tails', 'tails', 'heads', 'tails', 'tails',\n",
              "       'heads', 'tails', 'heads'],\n",
              "      dtype='<U5')"
            ]
          },
          "metadata": {},
          "execution_count": 11
        }
      ]
    },
    {
      "cell_type": "markdown",
      "source": [
        "How many heads did we get in this set of 10?"
      ],
      "metadata": {
        "id": "XKLSFctzWzXw"
      }
    },
    {
      "cell_type": "code",
      "source": [
        "# Show the array and then sum them\n",
        "np.random.choice(coin, 10) == 'heads'"
      ],
      "metadata": {
        "id": "z8hx-TKpW27X",
        "outputId": "7eb6c721-1f42-4fa7-f21c-f365c898101e",
        "colab": {
          "base_uri": "https://localhost:8080/"
        }
      },
      "execution_count": null,
      "outputs": [
        {
          "output_type": "execute_result",
          "data": {
            "text/plain": [
              "array([False,  True, False, False, False,  True, False,  True,  True,  True], dtype=bool)"
            ]
          },
          "metadata": {},
          "execution_count": 13
        }
      ]
    },
    {
      "cell_type": "markdown",
      "source": [
        "Create a function to do this many more times so you do not have to keep rerunning the code"
      ],
      "metadata": {
        "id": "xHM7RKgbXS_N"
      }
    },
    {
      "cell_type": "code",
      "execution_count": null,
      "metadata": {
        "id": "ZsEsTvFqVeCX"
      },
      "outputs": [],
      "source": [
        "# Simulate one outcome\n",
        "\n",
        "def num_heads(n):\n",
        "    return sum(np.random.choice(coin, n) == 'heads')"
      ]
    },
    {
      "cell_type": "markdown",
      "metadata": {
        "collapsed": true,
        "id": "sed-Lh6cVeCX"
      },
      "source": [
        "## Simulating heads in 100 versus 1000 coin tosses"
      ]
    },
    {
      "cell_type": "markdown",
      "source": [
        "Setup how many times here"
      ],
      "metadata": {
        "id": "ydKv6em3XnlA"
      }
    },
    {
      "cell_type": "code",
      "source": [
        "# Appending to the array\n",
        "outcomes = make_array()\n",
        "outcomes = np.append(outcomes, num_heads(1))\n",
        "outcomes"
      ],
      "metadata": {
        "id": "LNwIDFHwX5Ip",
        "outputId": "c6039769-8491-43bc-c1c7-def5d9811ddf",
        "colab": {
          "base_uri": "https://localhost:8080/"
        }
      },
      "execution_count": null,
      "outputs": [
        {
          "output_type": "execute_result",
          "data": {
            "text/plain": [
              "array([ 0.,  0.])"
            ]
          },
          "metadata": {},
          "execution_count": 23
        }
      ]
    },
    {
      "cell_type": "code",
      "execution_count": null,
      "metadata": {
        "id": "uFpvUgC0VeCX"
      },
      "outputs": [],
      "source": [
        "# Decide how many times you want to repeat the experiment\n",
        "repetitions = 1000"
      ]
    },
    {
      "cell_type": "markdown",
      "source": [
        "Create a for loop"
      ],
      "metadata": {
        "id": "rfyyxvhYXmIj"
      }
    },
    {
      "cell_type": "code",
      "execution_count": null,
      "metadata": {
        "id": "AvqtvP16VeCX"
      },
      "outputs": [],
      "source": [
        "# Simulate that many outcomes\n",
        "outcomes = make_array()\n",
        "\n",
        "for i in np.arange(repetitions):\n",
        "    outcomes = np.append(outcomes, num_heads(100))\n"
      ]
    },
    {
      "cell_type": "code",
      "execution_count": null,
      "metadata": {
        "id": "14RTQI86VeCX",
        "outputId": "8452a1f9-ec02-430d-825b-dea098f43d95",
        "colab": {
          "base_uri": "https://localhost:8080/",
          "height": 415
        }
      },
      "outputs": [
        {
          "output_type": "display_data",
          "data": {
            "text/plain": [
              "<Figure size 600x400 with 1 Axes>"
            ],
            "image/png": "[encoded data removed]"
          },
          "metadata": {}
        }
      ],
      "source": [
        "# Put data into table and plot histogram\n",
        "heads = Table().with_column('Heads', outcomes)\n",
        "heads.hist(bins = np.arange(29.5, 70.6))"
      ]
    },
    {
      "cell_type": "markdown",
      "source": [
        "## Chance/Probability"
      ],
      "metadata": {
        "id": "qEptP83vaKI4"
      }
    },
    {
      "cell_type": "markdown",
      "metadata": {
        "id": "7xoOYztxVeCY"
      },
      "source": [
        "Box contains playing cards labeled Ace, King, and Queen. I **draw two cards at random without replacement**."
      ]
    },
    {
      "cell_type": "markdown",
      "metadata": {
        "id": "VkZ8lABbVeCY"
      },
      "source": [
        "### Chance of two events both occurring ###\n",
        "What is the chance that I get a Queen followed by a King?"
      ]
    },
    {
      "cell_type": "markdown",
      "source": [
        "**Equally Likely Outcomes**: Start by writing out the outcomes:"
      ],
      "metadata": {
        "id": "hGsB4yYPcHoj"
      }
    },
    {
      "cell_type": "code",
      "execution_count": null,
      "metadata": {
        "id": "LFGFFYKwVeCY"
      },
      "outputs": [],
      "source": [
        "# 6 possible outcomes and all equally likely\n",
        "AK, AQ, QK, QA, KQ, KA"
      ]
    },
    {
      "cell_type": "markdown",
      "source": [
        "Our event is that Q is first, K is second - there is 1 possible outcome. Take this and divide by the total of outcomes- 6"
      ],
      "metadata": {
        "id": "FpWO95rRcdDH"
      }
    },
    {
      "cell_type": "code",
      "execution_count": null,
      "metadata": {
        "id": "iGGlf6BZVeCY"
      },
      "outputs": [],
      "source": [
        "# Answer:\n",
        "1/6"
      ]
    },
    {
      "cell_type": "markdown",
      "source": [
        "**Multiplication Rule**: What is the chance that I get a Queen followed by a King?"
      ],
      "metadata": {
        "id": "XMRJCzkWeapp"
      }
    },
    {
      "cell_type": "markdown",
      "source": [
        "Multiplication: First draw: A K Q <br>\n",
        "Probability that Q is first- 1/3 <br>\n",
        "Queen is now removed, only Ace and King left. <br>\n",
        "Chance of getting K second, given we already took out the Q <br>\n",
        "Now there are 2 possible outcomes- 1/2"
      ],
      "metadata": {
        "id": "tq7-7FKCdE9c"
      }
    },
    {
      "cell_type": "markdown",
      "source": [
        "Two separate events and found the probability of each and now we can multiply"
      ],
      "metadata": {
        "id": "8TQW5zy3daWB"
      }
    },
    {
      "cell_type": "code",
      "source": [
        "# Q first * K is second, given Q was first\n",
        "1/3 * 1/2"
      ],
      "metadata": {
        "id": "m4PR2rS8derI",
        "outputId": "c823488e-1fb1-4d71-8b7e-179636797e52",
        "colab": {
          "base_uri": "https://localhost:8080/"
        }
      },
      "execution_count": null,
      "outputs": [
        {
          "output_type": "execute_result",
          "data": {
            "text/plain": [
              "0.16666666666666666"
            ]
          },
          "metadata": {},
          "execution_count": 40
        }
      ]
    },
    {
      "cell_type": "markdown",
      "metadata": {
        "id": "sy2ftkWnVeCY"
      },
      "source": [
        "### Chance of an event that can happen in multiple ways ###\n",
        "What is the chance that one of the cards I draw is a King and the other is Queen?"
      ]
    },
    {
      "cell_type": "markdown",
      "source": [
        "Can use **equally likely outcomes**: <br>\n",
        "Don't care about the order, and so find the options where you have both King and a Queen. <br>\n",
        "Answer: 2/6\n"
      ],
      "metadata": {
        "id": "V-1s3WS4ezFw"
      }
    },
    {
      "cell_type": "markdown",
      "source": [
        "**Multiplication Rule** also works by thinking about the two ways to get to these cards being drawn: <br>\n",
        "Q followed by K - we did that above = 1/3 * 1/2 = 1/6 <br>\n",
        "K followed by Q - same thing = 1/3 * 1/2 = 1/6 <br>\n",
        "Answer: 2/6"
      ],
      "metadata": {
        "id": "Y7vhrHqEfJsl"
      }
    },
    {
      "cell_type": "markdown",
      "metadata": {
        "id": "npWPN8NUVeCY"
      },
      "source": [
        "### Challenge Question 2 ###\n",
        "\n",
        "I have a deck of 52 cards. It contains four aces, one of which is the ace of hearts.\n",
        "\n",
        "I shuffle the deck and deal 13 cards.\n",
        "\n",
        "**Without calculation:** What is the chance that the 12th card is the ace of hearts?"
      ]
    },
    {
      "cell_type": "markdown",
      "metadata": {
        "id": "jGvzIwGxVeCZ"
      },
      "source": [
        "### The Monty Hall Problem ###"
      ]
    },
    {
      "cell_type": "markdown",
      "source": [
        "Here we simulate the Monty Hall Problem by breaking it down into 3 steps."
      ],
      "metadata": {
        "id": "WW3eR0BlmG0E"
      }
    },
    {
      "cell_type": "markdown",
      "source": [
        "1. Simulate the prize behind the door we picked (the only chance event):"
      ],
      "metadata": {
        "id": "JOdqwt6VmNhT"
      }
    },
    {
      "cell_type": "code",
      "source": [
        "# Make an array of the 3 prize options\n",
        "prizes = make_array('goat', 'goat', 'car')"
      ],
      "metadata": {
        "id": "B1WM-QOrma4L"
      },
      "execution_count": null,
      "outputs": []
    },
    {
      "cell_type": "code",
      "source": [
        "# Make a table of potential outcomes of my choice\n",
        "N = 10000\n",
        "outcomes = Table().with_column('My Choice', np.random.choice(prizes, N))\n",
        "outcomes"
      ],
      "metadata": {
        "id": "OI2bETQQmgwD",
        "outputId": "e20a37b9-c055-4495-e595-79b678fb09cd",
        "colab": {
          "base_uri": "https://localhost:8080/",
          "height": 392
        }
      },
      "execution_count": null,
      "outputs": [
        {
          "output_type": "execute_result",
          "data": {
            "text/plain": [
              "My choice\n",
              "car\n",
              "car\n",
              "goat\n",
              "goat\n",
              "car\n",
              "car\n",
              "car\n",
              "car\n",
              "goat\n",
              "car\n",
              "... (9990 rows omitted)"
            ],
            "text/html": [
              "<table border=\"1\" class=\"dataframe\">\n",
              "    <thead>\n",
              "        <tr>\n",
              "            <th>My choice</th>\n",
              "        </tr>\n",
              "    </thead>\n",
              "    <tbody>\n",
              "        <tr>\n",
              "            <td>car      </td>\n",
              "        </tr>\n",
              "        <tr>\n",
              "            <td>car      </td>\n",
              "        </tr>\n",
              "        <tr>\n",
              "            <td>goat     </td>\n",
              "        </tr>\n",
              "        <tr>\n",
              "            <td>goat     </td>\n",
              "        </tr>\n",
              "        <tr>\n",
              "            <td>car      </td>\n",
              "        </tr>\n",
              "        <tr>\n",
              "            <td>car      </td>\n",
              "        </tr>\n",
              "        <tr>\n",
              "            <td>car      </td>\n",
              "        </tr>\n",
              "        <tr>\n",
              "            <td>car      </td>\n",
              "        </tr>\n",
              "        <tr>\n",
              "            <td>goat     </td>\n",
              "        </tr>\n",
              "        <tr>\n",
              "            <td>car      </td>\n",
              "        </tr>\n",
              "    </tbody>\n",
              "</table>\n",
              "<p>... (9990 rows omitted)</p>"
            ]
          },
          "metadata": {},
          "execution_count": 54
        }
      ]
    },
    {
      "cell_type": "markdown",
      "source": [
        "2. Then Monty Hall reveals a goat behind one of the other doors."
      ],
      "metadata": {
        "id": "SvFb817mmp-5"
      }
    },
    {
      "cell_type": "code",
      "source": [
        "# Monty Hall always reveals a goat- add column to table\n",
        "outcomes = outcomes.with_column(\"Monty's Door\", \"goat\")\n",
        "outcomes"
      ],
      "metadata": {
        "id": "utuAII9gm0WZ",
        "outputId": "04007f39-0594-4024-8fef-55a6f7f4cc89",
        "colab": {
          "base_uri": "https://localhost:8080/",
          "height": 392
        }
      },
      "execution_count": null,
      "outputs": [
        {
          "output_type": "execute_result",
          "data": {
            "text/plain": [
              "My choice | Monty's Door\n",
              "car       | goat\n",
              "car       | goat\n",
              "goat      | goat\n",
              "goat      | goat\n",
              "car       | goat\n",
              "car       | goat\n",
              "car       | goat\n",
              "car       | goat\n",
              "goat      | goat\n",
              "car       | goat\n",
              "... (9990 rows omitted)"
            ],
            "text/html": [
              "<table border=\"1\" class=\"dataframe\">\n",
              "    <thead>\n",
              "        <tr>\n",
              "            <th>My choice</th> <th>Monty's Door</th>\n",
              "        </tr>\n",
              "    </thead>\n",
              "    <tbody>\n",
              "        <tr>\n",
              "            <td>car      </td> <td>goat        </td>\n",
              "        </tr>\n",
              "        <tr>\n",
              "            <td>car      </td> <td>goat        </td>\n",
              "        </tr>\n",
              "        <tr>\n",
              "            <td>goat     </td> <td>goat        </td>\n",
              "        </tr>\n",
              "        <tr>\n",
              "            <td>goat     </td> <td>goat        </td>\n",
              "        </tr>\n",
              "        <tr>\n",
              "            <td>car      </td> <td>goat        </td>\n",
              "        </tr>\n",
              "        <tr>\n",
              "            <td>car      </td> <td>goat        </td>\n",
              "        </tr>\n",
              "        <tr>\n",
              "            <td>car      </td> <td>goat        </td>\n",
              "        </tr>\n",
              "        <tr>\n",
              "            <td>car      </td> <td>goat        </td>\n",
              "        </tr>\n",
              "        <tr>\n",
              "            <td>goat     </td> <td>goat        </td>\n",
              "        </tr>\n",
              "        <tr>\n",
              "            <td>car      </td> <td>goat        </td>\n",
              "        </tr>\n",
              "    </tbody>\n",
              "</table>\n",
              "<p>... (9990 rows omitted)</p>"
            ]
          },
          "metadata": {},
          "execution_count": 55
        }
      ]
    },
    {
      "cell_type": "markdown",
      "source": [
        "3. Finally we compute the prize behind the remaining door. Since Monty revealed one of the goats, the prize behind the remaining door depends only on our initial choice. If we picked a car, then the remaining door has a goat. Otherwise it has a car."
      ],
      "metadata": {
        "id": "uGsujHbLm4mJ"
      }
    },
    {
      "cell_type": "code",
      "source": [
        "# Simple function to choose the opposite of what I have chosen (only prize option left)\n",
        "def other_door(my_choice):\n",
        "    if my_choice == \"car\":\n",
        "        return \"goat\"\n",
        "    else:\n",
        "        return \"car\""
      ],
      "metadata": {
        "id": "-G2VvBQ9m7oA"
      },
      "execution_count": null,
      "outputs": []
    },
    {
      "cell_type": "code",
      "source": [
        "# Use apply to apply the function to the my choice column and create a new column\n",
        "outcomes = outcomes.with_column(\n",
        "    \"Other Door\", outcomes.apply(other_door, \"My Choice\"))\n",
        "outcomes"
      ],
      "metadata": {
        "id": "PBoUW1rHm86Y",
        "outputId": "d6a005b0-cd75-49af-def5-519e2132d1cd",
        "colab": {
          "base_uri": "https://localhost:8080/",
          "height": 392
        }
      },
      "execution_count": null,
      "outputs": [
        {
          "output_type": "execute_result",
          "data": {
            "text/plain": [
              "My choice | Monty's Door | Other Door\n",
              "car       | goat         | goat\n",
              "car       | goat         | goat\n",
              "goat      | goat         | car\n",
              "goat      | goat         | car\n",
              "car       | goat         | goat\n",
              "car       | goat         | goat\n",
              "car       | goat         | goat\n",
              "car       | goat         | goat\n",
              "goat      | goat         | car\n",
              "car       | goat         | goat\n",
              "... (9990 rows omitted)"
            ],
            "text/html": [
              "<table border=\"1\" class=\"dataframe\">\n",
              "    <thead>\n",
              "        <tr>\n",
              "            <th>My choice</th> <th>Monty's Door</th> <th>Other Door</th>\n",
              "        </tr>\n",
              "    </thead>\n",
              "    <tbody>\n",
              "        <tr>\n",
              "            <td>car      </td> <td>goat        </td> <td>goat      </td>\n",
              "        </tr>\n",
              "        <tr>\n",
              "            <td>car      </td> <td>goat        </td> <td>goat      </td>\n",
              "        </tr>\n",
              "        <tr>\n",
              "            <td>goat     </td> <td>goat        </td> <td>car       </td>\n",
              "        </tr>\n",
              "        <tr>\n",
              "            <td>goat     </td> <td>goat        </td> <td>car       </td>\n",
              "        </tr>\n",
              "        <tr>\n",
              "            <td>car      </td> <td>goat        </td> <td>goat      </td>\n",
              "        </tr>\n",
              "        <tr>\n",
              "            <td>car      </td> <td>goat        </td> <td>goat      </td>\n",
              "        </tr>\n",
              "        <tr>\n",
              "            <td>car      </td> <td>goat        </td> <td>goat      </td>\n",
              "        </tr>\n",
              "        <tr>\n",
              "            <td>car      </td> <td>goat        </td> <td>goat      </td>\n",
              "        </tr>\n",
              "        <tr>\n",
              "            <td>goat     </td> <td>goat        </td> <td>car       </td>\n",
              "        </tr>\n",
              "        <tr>\n",
              "            <td>car      </td> <td>goat        </td> <td>goat      </td>\n",
              "        </tr>\n",
              "    </tbody>\n",
              "</table>\n",
              "<p>... (9990 rows omitted)</p>"
            ]
          },
          "metadata": {},
          "execution_count": 58
        }
      ]
    },
    {
      "cell_type": "markdown",
      "source": [
        "Notice that in the above table each row has two goats and a car. Each row simulates an outcome of playing the game.\n",
        "\n",
        "If we stayed with our initial choice how often would we get a car?"
      ],
      "metadata": {
        "id": "LpT2dYfsnC4m"
      }
    },
    {
      "cell_type": "code",
      "source": [
        "outcomes.group(\"My Choice\").barh(\"My Choice\")"
      ],
      "metadata": {
        "id": "N7WWPttWnHqv",
        "outputId": "64116dc6-f2d5-4640-cc99-a88c3067ff53",
        "colab": {
          "base_uri": "https://localhost:8080/",
          "height": 410
        }
      },
      "execution_count": null,
      "outputs": [
        {
          "output_type": "display_data",
          "data": {
            "text/plain": [
              "<Figure size 600x400 with 1 Axes>"
            ],
            "image/png": "[encoded data removed]"
          },
          "metadata": {}
        }
      ]
    },
    {
      "cell_type": "markdown",
      "source": [
        "If we switched to the Other door how often would we win?"
      ],
      "metadata": {
        "id": "7flP-7Q71J8M"
      }
    },
    {
      "cell_type": "code",
      "source": [
        "outcomes.group(\"Other Door\").barh(\"Other Door\")"
      ],
      "metadata": {
        "id": "_UVGq-YFnLCH",
        "outputId": "1165fb46-94c4-4089-9c8e-14d43c9438a5",
        "colab": {
          "base_uri": "https://localhost:8080/",
          "height": 410
        }
      },
      "execution_count": null,
      "outputs": [
        {
          "output_type": "display_data",
          "data": {
            "text/plain": [
              "<Figure size 600x400 with 1 Axes>"
            ],
            "image/png": "[encoded data removed]"
          },
          "metadata": {}
        }
      ]
    },
    {
      "cell_type": "markdown",
      "source": [
        "## Get counts with `group` and then `join` tables to plot"
      ],
      "metadata": {
        "id": "hFKRn3Yr3alv"
      }
    },
    {
      "cell_type": "code",
      "execution_count": null,
      "metadata": {
        "outputId": "da7f2d0a-567d-42b7-c780-e451399e4c2a",
        "colab": {
          "base_uri": "https://localhost:8080/",
          "height": 143
        },
        "id": "Ng5gTrN-3Fyh"
      },
      "outputs": [
        {
          "output_type": "execute_result",
          "data": {
            "text/plain": [
              "Guess       | count\n",
              "car         | 3370\n",
              "first goat  | 3328\n",
              "second goat | 3302"
            ],
            "text/html": [
              "<table border=\"1\" class=\"dataframe\">\n",
              "    <thead>\n",
              "        <tr>\n",
              "            <th>Guess</th> <th>count</th>\n",
              "        </tr>\n",
              "    </thead>\n",
              "    <tbody>\n",
              "        <tr>\n",
              "            <td>car        </td> <td>3370 </td>\n",
              "        </tr>\n",
              "        <tr>\n",
              "            <td>first goat </td> <td>3328 </td>\n",
              "        </tr>\n",
              "        <tr>\n",
              "            <td>second goat</td> <td>3302 </td>\n",
              "        </tr>\n",
              "    </tbody>\n",
              "</table>"
            ]
          },
          "metadata": {},
          "execution_count": 49
        }
      ],
      "source": [
        "original_choice = outcomes.group('My Choice')\n",
        "original_choice"
      ]
    },
    {
      "cell_type": "code",
      "execution_count": null,
      "metadata": {
        "outputId": "fc200e1a-46e2-40ee-9406-0b936135ea05",
        "colab": {
          "base_uri": "https://localhost:8080/",
          "height": 143
        },
        "id": "b8X4ZHjk3Fyi"
      },
      "outputs": [
        {
          "output_type": "execute_result",
          "data": {
            "text/plain": [
              "Remaining   | count\n",
              "car         | 6630\n",
              "first goat  | 1679\n",
              "second goat | 1691"
            ],
            "text/html": [
              "<table border=\"1\" class=\"dataframe\">\n",
              "    <thead>\n",
              "        <tr>\n",
              "            <th>Remaining</th> <th>count</th>\n",
              "        </tr>\n",
              "    </thead>\n",
              "    <tbody>\n",
              "        <tr>\n",
              "            <td>car        </td> <td>6630 </td>\n",
              "        </tr>\n",
              "        <tr>\n",
              "            <td>first goat </td> <td>1679 </td>\n",
              "        </tr>\n",
              "        <tr>\n",
              "            <td>second goat</td> <td>1691 </td>\n",
              "        </tr>\n",
              "    </tbody>\n",
              "</table>"
            ]
          },
          "metadata": {},
          "execution_count": 50
        }
      ],
      "source": [
        "remaining_door = outcomes.group('Other Door')\n",
        "remaining_door"
      ]
    },
    {
      "cell_type": "code",
      "execution_count": null,
      "metadata": {
        "outputId": "2765b900-24dd-4d3b-f48f-15bac8f23383",
        "colab": {
          "base_uri": "https://localhost:8080/",
          "height": 143
        },
        "id": "l01WNRaa3Fyi"
      },
      "outputs": [
        {
          "output_type": "execute_result",
          "data": {
            "text/plain": [
              "Item        | Original Door | Remaining Door\n",
              "car         | 3370          | 6630\n",
              "first goat  | 3328          | 1679\n",
              "second goat | 3302          | 1691"
            ],
            "text/html": [
              "<table border=\"1\" class=\"dataframe\">\n",
              "    <thead>\n",
              "        <tr>\n",
              "            <th>Item</th> <th>Original Door</th> <th>Remaining Door</th>\n",
              "        </tr>\n",
              "    </thead>\n",
              "    <tbody>\n",
              "        <tr>\n",
              "            <td>car        </td> <td>3370         </td> <td>6630          </td>\n",
              "        </tr>\n",
              "        <tr>\n",
              "            <td>first goat </td> <td>3328         </td> <td>1679          </td>\n",
              "        </tr>\n",
              "        <tr>\n",
              "            <td>second goat</td> <td>3302         </td> <td>1691          </td>\n",
              "        </tr>\n",
              "    </tbody>\n",
              "</table>"
            ]
          },
          "metadata": {},
          "execution_count": 51
        }
      ],
      "source": [
        "joined = original_choice.join('My Choice', remaining_door, 'Other Door')\n",
        "combined = joined.relabeled(0, 'Item').relabeled(1, 'Original Door').relabeled(2, 'Remaining Door')\n",
        "combined"
      ]
    },
    {
      "cell_type": "code",
      "execution_count": null,
      "metadata": {
        "outputId": "74fba5b5-df23-4b94-8007-842da45a6094",
        "colab": {
          "base_uri": "https://localhost:8080/",
          "height": 384
        },
        "id": "X8pakp_13Fyi"
      },
      "outputs": [
        {
          "output_type": "display_data",
          "data": {
            "text/plain": [
              "<Figure size 600x400 with 1 Axes>"
            ],
            "image/png": "[encoded data removed]"
          },
          "metadata": {}
        }
      ],
      "source": [
        "combined.barh(0)"
      ]
    },
    {
      "cell_type": "markdown",
      "source": [
        "## Textbook Code Version"
      ],
      "metadata": {
        "id": "CZkAyzNC3JAY"
      }
    },
    {
      "cell_type": "code",
      "execution_count": null,
      "metadata": {
        "id": "kou2SLdCVeCa"
      },
      "outputs": [],
      "source": [
        "goats = make_array('first goat', 'second goat')"
      ]
    },
    {
      "cell_type": "code",
      "execution_count": null,
      "metadata": {
        "id": "HkD9yvPUVeCa"
      },
      "outputs": [],
      "source": [
        "def other_goat(x):\n",
        "    if x == 'first goat':\n",
        "        return 'second goat'\n",
        "    elif x == 'second goat':\n",
        "        return 'first goat'"
      ]
    },
    {
      "cell_type": "code",
      "execution_count": null,
      "metadata": {
        "id": "qMpSmD28VeCa",
        "outputId": "d6298bf7-a471-4381-f42e-32f8287f4561",
        "colab": {
          "base_uri": "https://localhost:8080/"
        }
      },
      "outputs": [
        {
          "output_type": "execute_result",
          "data": {
            "text/plain": [
              "['second goat', 'first goat']"
            ]
          },
          "metadata": {},
          "execution_count": 43
        }
      ],
      "source": [
        "[other_goat('first goat'), other_goat('second goat')]"
      ]
    },
    {
      "cell_type": "code",
      "execution_count": null,
      "metadata": {
        "id": "wx2VaGa4VeCa",
        "outputId": "1d4a4b2a-8082-4f61-9a33-97b9d033e56c",
        "colab": {
          "base_uri": "https://localhost:8080/"
        }
      },
      "outputs": [
        {
          "output_type": "execute_result",
          "data": {
            "text/plain": [
              "array(['first goat', 'second goat', 'car'],\n",
              "      dtype='<U11')"
            ]
          },
          "metadata": {},
          "execution_count": 44
        }
      ],
      "source": [
        "hidden_behind_doors = np.append(goats, 'car')\n",
        "hidden_behind_doors"
      ]
    },
    {
      "cell_type": "code",
      "execution_count": null,
      "metadata": {
        "id": "p-t2Sd1lVeCa"
      },
      "outputs": [],
      "source": [
        "def monty_hall_game():\n",
        "    \"\"\"Return\n",
        "    [contestant's guess, what Monty reveals, what remains behind the other door]\"\"\"\n",
        "\n",
        "    contestant_guess = np.random.choice(hidden_behind_doors)\n",
        "\n",
        "    if contestant_guess == 'first goat':\n",
        "        return [contestant_guess, 'second goat', 'car']\n",
        "\n",
        "    if contestant_guess == 'second goat':\n",
        "        return [contestant_guess, 'first goat', 'car']\n",
        "\n",
        "    if contestant_guess == 'car':\n",
        "        revealed = np.random.choice(goats)\n",
        "        return [contestant_guess, revealed, other_goat(revealed)]"
      ]
    },
    {
      "cell_type": "code",
      "execution_count": null,
      "metadata": {
        "id": "ga23XoejVeCa",
        "outputId": "57ad2cec-1158-46c6-bd79-c61871fcf17b",
        "colab": {
          "base_uri": "https://localhost:8080/"
        }
      },
      "outputs": [
        {
          "output_type": "execute_result",
          "data": {
            "text/plain": [
              "['car', 'second goat', 'first goat']"
            ]
          },
          "metadata": {},
          "execution_count": 46
        }
      ],
      "source": [
        "monty_hall_game()"
      ]
    },
    {
      "cell_type": "code",
      "execution_count": null,
      "metadata": {
        "id": "vSPiQ56VVeCa"
      },
      "outputs": [],
      "source": [
        "games = Table(['Guess', 'Revealed', 'Remaining'])\n",
        "\n",
        "for i in np.arange(10000):\n",
        "    games.append(monty_hall_game())\n"
      ]
    },
    {
      "cell_type": "code",
      "execution_count": null,
      "metadata": {
        "id": "IkjXYrheVeCa",
        "outputId": "465c21ce-919e-499d-c4d2-2dd5e94c40cb",
        "colab": {
          "base_uri": "https://localhost:8080/",
          "height": 173
        }
      },
      "outputs": [
        {
          "output_type": "display_data",
          "data": {
            "text/plain": [
              "<IPython.core.display.HTML object>"
            ],
            "text/html": [
              "<table border=\"1\" class=\"dataframe\">\n",
              "    <thead>\n",
              "        <tr>\n",
              "            <th>Guess</th> <th>Revealed</th> <th>Remaining</th>\n",
              "        </tr>\n",
              "    </thead>\n",
              "    <tbody>\n",
              "        <tr>\n",
              "            <td>second goat</td> <td>first goat </td> <td>car      </td>\n",
              "        </tr>\n",
              "        <tr>\n",
              "            <td>second goat</td> <td>first goat </td> <td>car      </td>\n",
              "        </tr>\n",
              "        <tr>\n",
              "            <td>first goat </td> <td>second goat</td> <td>car      </td>\n",
              "        </tr>\n",
              "    </tbody>\n",
              "</table>\n",
              "<p>... (9997 rows omitted)</p>"
            ]
          },
          "metadata": {}
        }
      ],
      "source": [
        "games.show(3)"
      ]
    },
    {
      "cell_type": "code",
      "execution_count": null,
      "metadata": {
        "id": "oB8Y9cyiVeCa",
        "outputId": "da7f2d0a-567d-42b7-c780-e451399e4c2a",
        "colab": {
          "base_uri": "https://localhost:8080/",
          "height": 143
        }
      },
      "outputs": [
        {
          "output_type": "execute_result",
          "data": {
            "text/plain": [
              "Guess       | count\n",
              "car         | 3370\n",
              "first goat  | 3328\n",
              "second goat | 3302"
            ],
            "text/html": [
              "<table border=\"1\" class=\"dataframe\">\n",
              "    <thead>\n",
              "        <tr>\n",
              "            <th>Guess</th> <th>count</th>\n",
              "        </tr>\n",
              "    </thead>\n",
              "    <tbody>\n",
              "        <tr>\n",
              "            <td>car        </td> <td>3370 </td>\n",
              "        </tr>\n",
              "        <tr>\n",
              "            <td>first goat </td> <td>3328 </td>\n",
              "        </tr>\n",
              "        <tr>\n",
              "            <td>second goat</td> <td>3302 </td>\n",
              "        </tr>\n",
              "    </tbody>\n",
              "</table>"
            ]
          },
          "metadata": {},
          "execution_count": 49
        }
      ],
      "source": [
        "original_choice = games.group('Guess')\n",
        "original_choice"
      ]
    },
    {
      "cell_type": "code",
      "execution_count": null,
      "metadata": {
        "id": "MHgFwzYdVeCb",
        "outputId": "fc200e1a-46e2-40ee-9406-0b936135ea05",
        "colab": {
          "base_uri": "https://localhost:8080/",
          "height": 143
        }
      },
      "outputs": [
        {
          "output_type": "execute_result",
          "data": {
            "text/plain": [
              "Remaining   | count\n",
              "car         | 6630\n",
              "first goat  | 1679\n",
              "second goat | 1691"
            ],
            "text/html": [
              "<table border=\"1\" class=\"dataframe\">\n",
              "    <thead>\n",
              "        <tr>\n",
              "            <th>Remaining</th> <th>count</th>\n",
              "        </tr>\n",
              "    </thead>\n",
              "    <tbody>\n",
              "        <tr>\n",
              "            <td>car        </td> <td>6630 </td>\n",
              "        </tr>\n",
              "        <tr>\n",
              "            <td>first goat </td> <td>1679 </td>\n",
              "        </tr>\n",
              "        <tr>\n",
              "            <td>second goat</td> <td>1691 </td>\n",
              "        </tr>\n",
              "    </tbody>\n",
              "</table>"
            ]
          },
          "metadata": {},
          "execution_count": 50
        }
      ],
      "source": [
        "remaining_door = games.group('Remaining')\n",
        "remaining_door"
      ]
    },
    {
      "cell_type": "code",
      "execution_count": null,
      "metadata": {
        "id": "hGPa6BctVeCb",
        "outputId": "2765b900-24dd-4d3b-f48f-15bac8f23383",
        "colab": {
          "base_uri": "https://localhost:8080/",
          "height": 143
        }
      },
      "outputs": [
        {
          "output_type": "execute_result",
          "data": {
            "text/plain": [
              "Item        | Original Door | Remaining Door\n",
              "car         | 3370          | 6630\n",
              "first goat  | 3328          | 1679\n",
              "second goat | 3302          | 1691"
            ],
            "text/html": [
              "<table border=\"1\" class=\"dataframe\">\n",
              "    <thead>\n",
              "        <tr>\n",
              "            <th>Item</th> <th>Original Door</th> <th>Remaining Door</th>\n",
              "        </tr>\n",
              "    </thead>\n",
              "    <tbody>\n",
              "        <tr>\n",
              "            <td>car        </td> <td>3370         </td> <td>6630          </td>\n",
              "        </tr>\n",
              "        <tr>\n",
              "            <td>first goat </td> <td>3328         </td> <td>1679          </td>\n",
              "        </tr>\n",
              "        <tr>\n",
              "            <td>second goat</td> <td>3302         </td> <td>1691          </td>\n",
              "        </tr>\n",
              "    </tbody>\n",
              "</table>"
            ]
          },
          "metadata": {},
          "execution_count": 51
        }
      ],
      "source": [
        "joined = original_choice.join('Guess', remaining_door, 'Remaining')\n",
        "combined = joined.relabeled(0, 'Item').relabeled(1, 'Original Door').relabeled(2, 'Remaining Door')\n",
        "combined"
      ]
    },
    {
      "cell_type": "code",
      "execution_count": null,
      "metadata": {
        "id": "Z6kiGo5ZVeCb",
        "outputId": "74fba5b5-df23-4b94-8007-842da45a6094",
        "colab": {
          "base_uri": "https://localhost:8080/",
          "height": 384
        }
      },
      "outputs": [
        {
          "output_type": "display_data",
          "data": {
            "text/plain": [
              "<Figure size 600x400 with 1 Axes>"
            ],
            "image/png": "[encoded data removed]"
          },
          "metadata": {}
        }
      ],
      "source": [
        "combined.barh(0)"
      ]
    }
  ],
  "metadata": {
    "kernelspec": {
      "display_name": "Python 3",
      "language": "python",
      "name": "python3"
    },
    "language_info": {
      "codemirror_mode": {
        "name": "ipython",
        "version": 3
      },
      "file_extension": ".py",
      "mimetype": "text/x-python",
      "name": "python",
      "nbconvert_exporter": "python",
      "pygments_lexer": "ipython3",
      "version": "3.10.12"
    },
    "colab": {
      "provenance": []
    }
  },
  "nbformat": 4,
  "nbformat_minor": 0
}