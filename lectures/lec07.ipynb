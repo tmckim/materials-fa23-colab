{
  "cells": [
    {
      "cell_type": "markdown",
      "metadata": {
        "id": "tO-7XkKgVeCQ"
      },
      "source": [
        "<a href=\"https://colab.research.google.com/github/tmckim/materials-fa23-colab/blob/main/lectures/lec07.ipynb\" target=\"_parent\"><img src=\"https://colab.research.google.com/assets/colab-badge.svg\" alt=\"Open In Colab\"/></a>"
      ]
    },
    {
      "cell_type": "markdown",
      "metadata": {
        "id": "mmeh1U1uVeCS"
      },
      "source": [
        "## Before you start - Save this notebook!\n",
        "\n",
        "When you open a new Colab notebook from the WebCampus (like you hopefully did for this one), you cannot save changes. So it's  best to store the Colab notebook in your personal drive `\"File > Save a copy in drive...\"` **before** you do anything else.\n",
        "\n",
        "The file will open in a new tab in your web browser, and it is automatically named something like: \"**Copy of lec07.ipynb**\". You can rename this to just the title of the assignment \"**lec07.ipynb**\". Make sure you do keep an informative name (like the name of the assignment) so that you know which files to submit back to WebCampus for grading! More instructions on this are at the end of the notebook.\n",
        "\n",
        "\n",
        "**Where does the notebook get saved in Google Drive?**\n",
        "\n",
        "By default, the notebook will be copied to a folder called “Colab Notebooks” at the root (home directory) of your Google Drive. If you use this for other courses or personal code notebooks, I recommend creating a folder for this course and then moving the assignments AFTER you have completed them."
      ]
    },
    {
      "cell_type": "code",
      "execution_count": null,
      "metadata": {
        "id": "lKtc3YrtVeCT"
      },
      "outputs": [],
      "source": [
        "# Setup and add files needed to gdrive\n",
        "# If you restart colab, start by rerunning this cell first!\n",
        "from google.colab import drive\n",
        "drive.mount('/content/gdrive', force_remount=True)\n",
        "\n",
        "#!mkdir -p '/content/gdrive/My Drive/colab-materials-NS499DataSci-notebooks/'\n",
        "%cd /content/gdrive/My Drive/colab-materials-NS499DataSci-notebooks/\n",
        "!rm -r materials-fa23-colab\n",
        "\n",
        "!git clone https://github.com/tmckim/materials-fa23-colab '/content/gdrive/My Drive/colab-materials-NS499DataSci-notebooks/materials-fa23-colab/'\n",
        "\n",
        "%cd /content/gdrive/MyDrive/colab-materials-NS499DataSci-notebooks/materials-fa23-colab/lectures/"
      ]
    },
    {
      "cell_type": "code",
      "execution_count": null,
      "metadata": {
        "id": "PKo0xkhBVeCU"
      },
      "outputs": [],
      "source": [
        "############### TEST\n",
        "from google.colab import drive\n",
        "drive.mount('/content/gdrive', force_remount=True)\n",
        "\n",
        "%cd /content/gdrive/MyDrive/colab-materials-NS499DataSci-notebooks/materials-fa23-colab-working/lectures/"
      ]
    },
    {
      "cell_type": "code",
      "execution_count": null,
      "metadata": {
        "id": "Lz8LexYWVeCV"
      },
      "outputs": [],
      "source": [
        "\n",
        "# Import packages and other things needed\n",
        "# Don't change this cell; Just run this cell\n",
        "# If you restart colab, make sure to run this cell again after the first one above^\n",
        "\n",
        "from datascience import *\n",
        "import numpy as np\n",
        "\n",
        "%matplotlib inline\n",
        "import matplotlib.pyplot as plots\n",
        "plots.style.use('fivethirtyeight')\n",
        "import warnings\n",
        "warnings.simplefilter(action='ignore',category=np.VisibleDeprecationWarning)\n"
      ]
    },
    {
      "cell_type": "markdown",
      "metadata": {
        "id": "erFtbpUYVeCV"
      },
      "source": [
        "## For statements"
      ]
    },
    {
      "cell_type": "code",
      "execution_count": null,
      "metadata": {
        "id": "Supu0xPsVeCV"
      },
      "outputs": [],
      "source": [
        "for pet in make_array('cat', 'dog', 'rabbit'):\n",
        "    print('I love my ' + pet)"
      ]
    },
    {
      "cell_type": "code",
      "execution_count": null,
      "metadata": {
        "id": "nI7AyDMTVeCV"
      },
      "outputs": [],
      "source": [
        "temporary = make_array('cat', 'dog', 'rabbit')\n",
        "\n",
        "pet = temporary.item(0)\n",
        "print('I love my ' + pet)\n",
        "\n",
        "pet = temporary.item(1)\n",
        "print('I love my ' + pet)\n",
        "\n",
        "pet = temporary.item(2)\n",
        "print('I love my ' + pet)"
      ]
    },
    {
      "cell_type": "code",
      "execution_count": null,
      "metadata": {
        "id": "4d5is4byVeCW"
      },
      "outputs": [],
      "source": [
        "for i in np.arange(5):\n",
        "    print(i)"
      ]
    },
    {
      "cell_type": "code",
      "execution_count": null,
      "metadata": {
        "id": "kobpYzfTVeCW"
      },
      "outputs": [],
      "source": [
        "for i in np.arange(5):\n",
        "    print('Go Bears')"
      ]
    },
    {
      "cell_type": "code",
      "execution_count": null,
      "metadata": {
        "id": "SozIBhT4VeCW"
      },
      "outputs": [],
      "source": [
        "s = make_array(2, 3)\n",
        "np.append(s, 4)\n",
        "s"
      ]
    },
    {
      "cell_type": "code",
      "execution_count": null,
      "metadata": {
        "id": "7s8YAyHBVeCW"
      },
      "outputs": [],
      "source": [
        "s + 3\n",
        "s"
      ]
    },
    {
      "cell_type": "code",
      "execution_count": null,
      "metadata": {
        "id": "7D6iFQu0VeCX"
      },
      "outputs": [],
      "source": [
        "s = np.append(s, 4)\n",
        "s"
      ]
    },
    {
      "cell_type": "code",
      "execution_count": null,
      "metadata": {
        "id": "uFlELKHFVeCX"
      },
      "outputs": [],
      "source": [
        "result = make_array(2, 3, 4)\n",
        "for i in np.arange(5):\n",
        "    result = np.append(result, 10 * i)\n",
        "result"
      ]
    },
    {
      "cell_type": "markdown",
      "metadata": {
        "id": "bA_jZIBrWLCG"
      },
      "source": [
        "## Simulation"
      ]
    },
    {
      "cell_type": "code",
      "execution_count": null,
      "metadata": {
        "id": "xV2F68atWM99"
      },
      "outputs": [],
      "source": [
        "# 50/50 chance of outcomes\n",
        "coin = make_array('heads', 'tails')"
      ]
    },
    {
      "cell_type": "code",
      "execution_count": null,
      "metadata": {
        "colab": {
          "base_uri": "https://localhost:8080/",
          "height": 36
        },
        "id": "Rm3EUvYoWa5j",
        "outputId": "04192db6-00a1-412a-b997-f28b146f9685"
      },
      "outputs": [],
      "source": [
        "np.random.choice(coin)"
      ]
    },
    {
      "cell_type": "markdown",
      "metadata": {
        "id": "W_43xDG_WmtJ"
      },
      "source": [
        "Multiple coin flips at once:"
      ]
    },
    {
      "cell_type": "code",
      "execution_count": null,
      "metadata": {
        "colab": {
          "base_uri": "https://localhost:8080/"
        },
        "id": "tq1LRp-OWouS",
        "outputId": "0c0e054d-9541-44cd-efc5-0de07182b70c"
      },
      "outputs": [],
      "source": [
        "# Add second argument to specify # of times\n",
        "# Saved into an array\n",
        "np.random.choice(coin,10)"
      ]
    },
    {
      "cell_type": "markdown",
      "metadata": {
        "id": "XKLSFctzWzXw"
      },
      "source": [
        "How many heads did we get in this set of 10?"
      ]
    },
    {
      "cell_type": "code",
      "execution_count": null,
      "metadata": {
        "colab": {
          "base_uri": "https://localhost:8080/"
        },
        "id": "z8hx-TKpW27X",
        "outputId": "7eb6c721-1f42-4fa7-f21c-f365c898101e"
      },
      "outputs": [],
      "source": [
        "# Show the array and then sum them\n",
        "np.random.choice(coin, 10) == 'heads'"
      ]
    },
    {
      "cell_type": "markdown",
      "metadata": {
        "id": "xHM7RKgbXS_N"
      },
      "source": [
        "Create a function to do this many more times so you do not have to keep rerunning the code"
      ]
    },
    {
      "cell_type": "code",
      "execution_count": null,
      "metadata": {
        "id": "ZsEsTvFqVeCX"
      },
      "outputs": [],
      "source": [
        "# Simulate one outcome\n",
        "\n",
        "def num_heads(n):\n",
        "    return sum(np.random.choice(coin, n) == 'heads')"
      ]
    },
    {
      "cell_type": "markdown",
      "metadata": {
        "collapsed": true,
        "id": "sed-Lh6cVeCX"
      },
      "source": [
        "## Simulating heads in 100 versus 1000 coin tosses"
      ]
    },
    {
      "cell_type": "markdown",
      "metadata": {
        "id": "ydKv6em3XnlA"
      },
      "source": [
        "Setup how many times here"
      ]
    },
    {
      "cell_type": "code",
      "execution_count": null,
      "metadata": {
        "colab": {
          "base_uri": "https://localhost:8080/"
        },
        "id": "LNwIDFHwX5Ip",
        "outputId": "c6039769-8491-43bc-c1c7-def5d9811ddf"
      },
      "outputs": [],
      "source": [
        "# Appending to the array\n",
        "outcomes = make_array()\n",
        "outcomes = np.append(outcomes, num_heads(1))\n",
        "outcomes"
      ]
    },
    {
      "cell_type": "code",
      "execution_count": null,
      "metadata": {
        "id": "uFpvUgC0VeCX"
      },
      "outputs": [],
      "source": [
        "# Decide how many times you want to repeat the experiment\n",
        "repetitions = 1000"
      ]
    },
    {
      "cell_type": "markdown",
      "metadata": {
        "id": "rfyyxvhYXmIj"
      },
      "source": [
        "Create a for loop"
      ]
    },
    {
      "cell_type": "code",
      "execution_count": null,
      "metadata": {
        "id": "AvqtvP16VeCX"
      },
      "outputs": [],
      "source": [
        "# Simulate that many outcomes\n",
        "outcomes = make_array()\n",
        "\n",
        "for i in np.arange(repetitions):\n",
        "    outcomes = np.append(outcomes, num_heads(100))\n"
      ]
    },
    {
      "cell_type": "code",
      "execution_count": null,
      "metadata": {
        "colab": {
          "base_uri": "https://localhost:8080/",
          "height": 415
        },
        "id": "14RTQI86VeCX",
        "outputId": "8452a1f9-ec02-430d-825b-dea098f43d95"
      },
      "outputs": [],
      "source": [
        "# Put data into table and plot histogram\n",
        "heads = Table().with_column('Heads', outcomes)\n",
        "heads.hist(bins = np.arange(29.5, 70.6))"
      ]
    },
    {
      "cell_type": "markdown",
      "metadata": {
        "id": "qEptP83vaKI4"
      },
      "source": [
        "## Chance/Probability"
      ]
    },
    {
      "cell_type": "markdown",
      "metadata": {
        "id": "7xoOYztxVeCY"
      },
      "source": [
        "Box contains playing cards labeled Ace, King, and Queen. I **draw two cards at random without replacement**."
      ]
    },
    {
      "cell_type": "markdown",
      "metadata": {
        "id": "VkZ8lABbVeCY"
      },
      "source": [
        "### Chance of two events both occurring ###\n",
        "What is the chance that I get a Queen followed by a King?"
      ]
    },
    {
      "cell_type": "markdown",
      "metadata": {
        "id": "hGsB4yYPcHoj"
      },
      "source": [
        "**Equally Likely Outcomes**: Start by writing out the outcomes:"
      ]
    },
    {
      "cell_type": "code",
      "execution_count": null,
      "metadata": {
        "id": "iGGlf6BZVeCY"
      },
      "outputs": [],
      "source": [
        "# Answer:"
      ]
    },
    {
      "cell_type": "markdown",
      "metadata": {
        "id": "XMRJCzkWeapp"
      },
      "source": [
        "**Multiplication Rule**: What is the chance that I get a Queen followed by a King?"
      ]
    },
    {
      "cell_type": "markdown",
      "metadata": {
        "id": "8TQW5zy3daWB"
      },
      "source": [
        "Two separate events and found the probability of each and now we can multiply"
      ]
    },
    {
      "cell_type": "markdown",
      "metadata": {},
      "source": [
        "*Type response text here*"
      ]
    },
    {
      "cell_type": "markdown",
      "metadata": {
        "id": "sy2ftkWnVeCY"
      },
      "source": [
        "### Chance of an event that can happen in multiple ways ###\n",
        "What is the chance that one of the cards I draw is a King and the other is Queen?"
      ]
    },
    {
      "cell_type": "markdown",
      "metadata": {
        "id": "V-1s3WS4ezFw"
      },
      "source": [
        "Can use **equally likely outcomes**: <br>\n"
      ]
    },
    {
      "cell_type": "markdown",
      "metadata": {},
      "source": [
        "*Type response text here*"
      ]
    },
    {
      "cell_type": "markdown",
      "metadata": {
        "id": "Y7vhrHqEfJsl"
      },
      "source": [
        "**Multiplication Rule** also works by thinking about the two ways to get to these cards being drawn: <br>"
      ]
    },
    {
      "cell_type": "markdown",
      "metadata": {},
      "source": [
        "*Type response text here*"
      ]
    },
    {
      "cell_type": "markdown",
      "metadata": {
        "id": "jGvzIwGxVeCZ"
      },
      "source": [
        "### The Monty Hall Problem ###"
      ]
    },
    {
      "cell_type": "markdown",
      "metadata": {
        "id": "WW3eR0BlmG0E"
      },
      "source": [
        "Here we simulate the Monty Hall Problem by breaking it down into 3 steps."
      ]
    },
    {
      "cell_type": "markdown",
      "metadata": {
        "id": "JOdqwt6VmNhT"
      },
      "source": [
        "1. Simulate the prize behind the door we picked (the only chance event):"
      ]
    },
    {
      "cell_type": "code",
      "execution_count": null,
      "metadata": {
        "id": "B1WM-QOrma4L"
      },
      "outputs": [],
      "source": [
        "# Make an array of the 3 prize options\n",
        "prizes = make_array('goat', 'goat', 'car')"
      ]
    },
    {
      "cell_type": "code",
      "execution_count": null,
      "metadata": {
        "colab": {
          "base_uri": "https://localhost:8080/",
          "height": 392
        },
        "id": "OI2bETQQmgwD",
        "outputId": "e20a37b9-c055-4495-e595-79b678fb09cd"
      },
      "outputs": [],
      "source": [
        "# Make a table of potential outcomes of my choice\n",
        "N = 10000\n",
        "outcomes = Table().with_column('My Choice', np.random.choice(prizes, N))\n",
        "outcomes"
      ]
    },
    {
      "cell_type": "markdown",
      "metadata": {
        "id": "SvFb817mmp-5"
      },
      "source": [
        "2. Then Monty Hall reveals a goat behind one of the other doors."
      ]
    },
    {
      "cell_type": "code",
      "execution_count": null,
      "metadata": {
        "colab": {
          "base_uri": "https://localhost:8080/",
          "height": 392
        },
        "id": "utuAII9gm0WZ",
        "outputId": "04007f39-0594-4024-8fef-55a6f7f4cc89"
      },
      "outputs": [],
      "source": [
        "# Monty Hall always reveals a goat- add column to table\n",
        "outcomes = outcomes.with_column(\"Monty's Door\", \"goat\")\n",
        "outcomes"
      ]
    },
    {
      "cell_type": "markdown",
      "metadata": {
        "id": "uGsujHbLm4mJ"
      },
      "source": [
        "3. Finally we compute the prize behind the remaining door. Since Monty revealed one of the goats, the prize behind the remaining door depends only on our initial choice. If we picked a car, then the remaining door has a goat. Otherwise it has a car."
      ]
    },
    {
      "cell_type": "code",
      "execution_count": null,
      "metadata": {
        "id": "-G2VvBQ9m7oA"
      },
      "outputs": [],
      "source": [
        "# Simple function to choose the opposite of what I have chosen (only prize option left)\n",
        "def other_door(my_choice):\n",
        "    if my_choice == \"car\":\n",
        "        return \"goat\"\n",
        "    else:\n",
        "        return \"car\""
      ]
    },
    {
      "cell_type": "code",
      "execution_count": null,
      "metadata": {
        "colab": {
          "base_uri": "https://localhost:8080/",
          "height": 392
        },
        "id": "PBoUW1rHm86Y",
        "outputId": "d6a005b0-cd75-49af-def5-519e2132d1cd"
      },
      "outputs": [],
      "source": [
        "# Use apply to apply the function to the my choice column and create a new column\n",
        "outcomes = outcomes.with_column(\n",
        "    \"Other Door\", outcomes.apply(other_door, \"My Choice\"))\n",
        "outcomes"
      ]
    },
    {
      "cell_type": "markdown",
      "metadata": {
        "id": "LpT2dYfsnC4m"
      },
      "source": [
        "Notice that in the above table each row has two goats and a car. Each row simulates an outcome of playing the game.\n",
        "\n",
        "If we stayed with our initial choice how often would we get a car?"
      ]
    },
    {
      "cell_type": "code",
      "execution_count": null,
      "metadata": {
        "colab": {
          "base_uri": "https://localhost:8080/",
          "height": 410
        },
        "id": "N7WWPttWnHqv",
        "outputId": "64116dc6-f2d5-4640-cc99-a88c3067ff53"
      },
      "outputs": [],
      "source": [
        "outcomes.group(\"My Choice\").barh(\"My Choice\")"
      ]
    },
    {
      "cell_type": "markdown",
      "metadata": {
        "id": "7flP-7Q71J8M"
      },
      "source": [
        "If we switched to the Other door how often would we win?"
      ]
    },
    {
      "cell_type": "code",
      "execution_count": null,
      "metadata": {
        "colab": {
          "base_uri": "https://localhost:8080/",
          "height": 410
        },
        "id": "_UVGq-YFnLCH",
        "outputId": "1165fb46-94c4-4089-9c8e-14d43c9438a5"
      },
      "outputs": [],
      "source": [
        "outcomes.group(\"Other Door\").barh(\"Other Door\")"
      ]
    },
    {
      "cell_type": "markdown",
      "metadata": {
        "id": "hFKRn3Yr3alv"
      },
      "source": [
        "## Get counts with `group` and then `join` tables to plot"
      ]
    },
    {
      "cell_type": "code",
      "execution_count": null,
      "metadata": {
        "colab": {
          "base_uri": "https://localhost:8080/",
          "height": 143
        },
        "id": "Ng5gTrN-3Fyh",
        "outputId": "da7f2d0a-567d-42b7-c780-e451399e4c2a"
      },
      "outputs": [],
      "source": [
        "original_choice = outcomes.group('My Choice')\n",
        "original_choice"
      ]
    },
    {
      "cell_type": "code",
      "execution_count": null,
      "metadata": {
        "colab": {
          "base_uri": "https://localhost:8080/",
          "height": 143
        },
        "id": "b8X4ZHjk3Fyi",
        "outputId": "fc200e1a-46e2-40ee-9406-0b936135ea05"
      },
      "outputs": [],
      "source": [
        "remaining_door = outcomes.group('Other Door')\n",
        "remaining_door"
      ]
    },
    {
      "cell_type": "code",
      "execution_count": null,
      "metadata": {
        "colab": {
          "base_uri": "https://localhost:8080/",
          "height": 143
        },
        "id": "l01WNRaa3Fyi",
        "outputId": "2765b900-24dd-4d3b-f48f-15bac8f23383"
      },
      "outputs": [],
      "source": [
        "joined = original_choice.join('My Choice', remaining_door, 'Other Door')\n",
        "combined = joined.relabeled(0, 'Item').relabeled(1, 'Original Door').relabeled(2, 'Remaining Door')\n",
        "combined"
      ]
    },
    {
      "cell_type": "code",
      "execution_count": null,
      "metadata": {
        "colab": {
          "base_uri": "https://localhost:8080/",
          "height": 384
        },
        "id": "X8pakp_13Fyi",
        "outputId": "74fba5b5-df23-4b94-8007-842da45a6094"
      },
      "outputs": [],
      "source": [
        "combined.barh(0)"
      ]
    }
  ],
  "metadata": {
    "colab": {
      "provenance": []
    },
    "kernelspec": {
      "display_name": "Python 3",
      "language": "python",
      "name": "python3"
    },
    "language_info": {
      "codemirror_mode": {
        "name": "ipython",
        "version": 3
      },
      "file_extension": ".py",
      "mimetype": "text/x-python",
      "name": "python",
      "nbconvert_exporter": "python",
      "pygments_lexer": "ipython3",
      "version": "3.10.12"
    }
  },
  "nbformat": 4,
  "nbformat_minor": 0
}
