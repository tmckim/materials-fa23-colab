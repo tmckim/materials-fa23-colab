{
  "cells": [
    {
      "cell_type": "markdown",
      "metadata": {
        "id": "SveFV4cLfssu"
      },
      "source": [
        "<a href=\"https://colab.research.google.com/github/tmckim/materials-fa23-colab/blob/main/lectures/lec09.ipynb\" target=\"_parent\"><img src=\"https://colab.research.google.com/assets/colab-badge.svg\" alt=\"Open In Colab\"/></a>"
      ]
    },
    {
      "cell_type": "markdown",
      "metadata": {
        "id": "uXd125yFfssv"
      },
      "source": [
        "## Before you start - Save this notebook!\n",
        "\n",
        "When you open a new Colab notebook from the WebCampus (like you hopefully did for this one), you cannot save changes. So it's  best to store the Colab notebook in your personal drive `\"File > Save a copy in drive...\"` **before** you do anything else.\n",
        "\n",
        "The file will open in a new tab in your web browser, and it is automatically named something like: \"**Copy of lec09.ipynb**\". You can rename this to just the title of the assignment \"**lec09.ipynb**\". Make sure you do keep an informative name (like the name of the assignment) so that you know which files to submit back to WebCampus for grading! More instructions on this are at the end of the notebook.\n",
        "\n",
        "\n",
        "**Where does the notebook get saved in Google Drive?**\n",
        "\n",
        "By default, the notebook will be copied to a folder called “Colab Notebooks” at the root (home directory) of your Google Drive. If you use this for other courses or personal code notebooks, I recommend creating a folder for this course and then moving the assignments AFTER you have completed them."
      ]
    },
    {
      "cell_type": "code",
      "execution_count": null,
      "metadata": {
        "id": "3jnT_hHDfssw"
      },
      "outputs": [],
      "source": [
        "# Setup and add files needed to gdrive\n",
        "# If you restart colab, start by rerunning this cell first!\n",
        "from google.colab import drive\n",
        "drive.mount('/content/gdrive', force_remount=True)\n",
        "\n",
        "#!mkdir -p '/content/gdrive/My Drive/colab-materials-NS499DataSci-notebooks/'\n",
        "%cd /content/gdrive/My Drive/colab-materials-NS499DataSci-notebooks/\n",
        "!rm -r materials-fa23-colab\n",
        "\n",
        "!git clone https://github.com/tmckim/materials-fa23-colab '/content/gdrive/My Drive/colab-materials-NS499DataSci-notebooks/materials-fa23-colab/'\n",
        "\n",
        "%cd /content/gdrive/MyDrive/colab-materials-NS499DataSci-notebooks/materials-fa23-colab/lectures/"
      ]
    },
    {
      "cell_type": "code",
      "execution_count": null,
      "metadata": {
        "id": "bEv7AWJBfssx"
      },
      "outputs": [],
      "source": [
        "# Import packages and other things needed\n",
        "# Don't change this cell; Just run this cell\n",
        "# If you restart colab, make sure to run this cell again after the first one above^\n",
        "\n",
        "from datascience import *\n",
        "import numpy as np\n",
        "\n",
        "%matplotlib inline\n",
        "import matplotlib.pyplot as plots\n",
        "plots.style.use('fivethirtyeight')"
      ]
    },
    {
      "cell_type": "markdown",
      "metadata": {
        "id": "ggciIDZpfssx"
      },
      "source": [
        "## Lecture 9 ##"
      ]
    },
    {
      "cell_type": "markdown",
      "metadata": {
        "collapsed": true,
        "id": "X3rweHOofssx"
      },
      "source": [
        "## Alameda County Jury Panels ##"
      ]
    },
    {
      "cell_type": "code",
      "execution_count": null,
      "metadata": {
        "colab": {
          "base_uri": "https://localhost:8080/",
          "height": 206
        },
        "id": "Rkz4XtZCfssx",
        "outputId": "be1bad1f-e661-40c5-bcb5-9be7e1e689ad"
      },
      "outputs": [],
      "source": [
        "jury = Table().with_columns(\n",
        "    'Ethnicity', make_array('Asian', 'Black', 'Latino', 'White', 'Other'),\n",
        "    'Eligible', make_array(0.15, 0.18, 0.12, 0.54, 0.01), # proportion from population\n",
        "    'Panels', make_array(0.26, 0.08, 0.08, 0.54, 0.04)    # actual proportions from the panel- empirical data\n",
        ")\n",
        "\n",
        "jury"
      ]
    },
    {
      "cell_type": "code",
      "execution_count": null,
      "metadata": {
        "colab": {
          "base_uri": "https://localhost:8080/",
          "height": 384
        },
        "id": "dEAGp7XNfssy",
        "outputId": "dea8025a-e6f0-4871-818c-b610ff06e622"
      },
      "outputs": [],
      "source": [
        "# Plot the data- what is a good chart to compare these?\n",
        "jury.barh('Ethnicity')"
      ]
    },
    {
      "cell_type": "code",
      "execution_count": null,
      "metadata": {
        "id": "2w7tbha6fssy"
      },
      "outputs": [],
      "source": [
        "# Under the model, this is the true distribution of people (population)\n",
        "# from which the jurors are randomly sampled\n",
        "# eligible column of the table\n",
        "model = make_array(0.15, 0.18, 0.12, 0.54, 0.01)"
      ]
    },
    {
      "cell_type": "code",
      "execution_count": null,
      "metadata": {
        "colab": {
          "base_uri": "https://localhost:8080/"
        },
        "id": "zD664dK6fssy",
        "outputId": "aad2d051-1a76-43fa-a222-0e9da04a699d"
      },
      "outputs": [],
      "source": [
        "# Let's simulate a random draw of 1423 jurors (sample size) from this distribution\n",
        "simulated = sample_proportions(1423, model)\n",
        "simulated"
      ]
    },
    {
      "cell_type": "code",
      "execution_count": null,
      "metadata": {
        "colab": {
          "base_uri": "https://localhost:8080/",
          "height": 206
        },
        "id": "h6mIt79kfssy",
        "outputId": "1b62a322-fc6c-4a6b-c7e4-c0b2fd14c5b5"
      },
      "outputs": [],
      "source": [
        "# The actual observed distribution (Panels) looks quite different\n",
        "# from the simulation -- try running this several times to confirm!\n",
        "jury_with_simulated = jury.with_column('Simulated', simulated)\n",
        "jury_with_simulated"
      ]
    },
    {
      "cell_type": "code",
      "execution_count": null,
      "metadata": {
        "id": "VZAHPnqLfssy",
        "outputId": "1a745a44-96c9-4682-89b6-8b437a2d72e1"
      },
      "outputs": [],
      "source": [
        "# Visualize this new table\n",
        "jury_with_simulated.barh('Ethnicity')"
      ]
    },
    {
      "cell_type": "code",
      "execution_count": null,
      "metadata": {
        "id": "7r1j1KTbhP8U"
      },
      "outputs": [],
      "source": [
        "# In the last lecture, the difference between observed white/purple\n",
        "# and their expected values (25%/75%) was our statistic.\n",
        "\n",
        "# In this case, we need to understand how each of the 5 categories\n",
        "# differ from their expected values according to the model.\n",
        "\n",
        "# How do we summarize this data into a single number?"
      ]
    },
    {
      "cell_type": "markdown",
      "metadata": {
        "id": "6yh7730Pfssz"
      },
      "source": [
        "## Distance Between Distributions"
      ]
    },
    {
      "cell_type": "code",
      "execution_count": null,
      "metadata": {
        "colab": {
          "base_uri": "https://localhost:8080/"
        },
        "id": "tDXS5Zjdfssz",
        "outputId": "eae64f6c-2f50-4cdd-d93b-e291aac27abe"
      },
      "outputs": [],
      "source": [
        "# Calculate the difference\n",
        "diffs = jury.column('Panels') - jury.column('Eligible')\n",
        "diffs"
      ]
    },
    {
      "cell_type": "code",
      "execution_count": null,
      "metadata": {},
      "outputs": [],
      "source": []
    },
    {
      "cell_type": "code",
      "execution_count": null,
      "metadata": {},
      "outputs": [],
      "source": []
    },
    {
      "cell_type": "code",
      "execution_count": null,
      "metadata": {},
      "outputs": [],
      "source": []
    },
    {
      "cell_type": "code",
      "execution_count": null,
      "metadata": {},
      "outputs": [],
      "source": []
    },
    {
      "cell_type": "markdown",
      "metadata": {
        "id": "F2fiI9UMfssz"
      },
      "source": [
        "## Total Variation Distance"
      ]
    },
    {
      "cell_type": "code",
      "execution_count": null,
      "metadata": {
        "id": "BfkFr_ADfssz"
      },
      "outputs": [],
      "source": [
        "# Define a function so that we can repeat this process many times easily\n",
        "def tvd(dist1, dist2):\n",
        "    return sum(abs(dist1 - dist2))/2"
      ]
    },
    {
      "cell_type": "code",
      "execution_count": null,
      "metadata": {
        "colab": {
          "base_uri": "https://localhost:8080/"
        },
        "id": "o5L6_XDFfssz",
        "outputId": "92d1077f-1dc6-46a3-89c3-b193ced05d4b"
      },
      "outputs": [],
      "source": [
        "# The TVD of our observed data (Panels) from their expected values\n",
        "# assuming the model is true (Eligible)\n",
        "obsvd_tvd = tvd(jury.column('Panels'), jury.column('Eligible'))\n",
        "obsvd_tvd"
      ]
    },
    {
      "cell_type": "code",
      "execution_count": null,
      "metadata": {
        "id": "oBIkQdHbfssz"
      },
      "outputs": [],
      "source": [
        "# Define a function to help with simulation\n",
        "\n",
        "def simulated_tvd():\n",
        "    simulated_sample = sample_proportions(1423,model)\n",
        "    return tvd(simulated_sample)"
      ]
    },
    {
      "cell_type": "code",
      "execution_count": null,
      "metadata": {
        "id": "2ZLObqtFFzKj"
      },
      "outputs": [],
      "source": [
        "# Another way to write the function above\n",
        "def simulated_tvd():\n",
        "    return tvd(sample_proportions(1423, model), model)"
      ]
    },
    {
      "cell_type": "code",
      "execution_count": null,
      "metadata": {
        "id": "qIRnxjQMFzKj"
      },
      "outputs": [],
      "source": [
        "# Simulate\n",
        "# make an empty array to append to\n",
        "# use a for loop and simulate using our function from above^\n",
        "# take the output values from the function and add them to our array\n",
        "tvds = make_array()\n",
        "\n",
        "num_simulations = 10000\n",
        "for i in np.arange(num_simulations):\n",
        "    new_tvd = simulated_tvd()\n",
        "    tvds = np.append(tvds, new_tvd)"
      ]
    },
    {
      "cell_type": "code",
      "execution_count": null,
      "metadata": {
        "colab": {
          "base_uri": "https://localhost:8080/",
          "height": 427
        },
        "id": "Zf-2yBEmfss0",
        "outputId": "d44428e8-ab44-4497-f2c5-0602b7a05153"
      },
      "outputs": [],
      "source": [
        "# Now we plot the simulated data\n",
        "title = 'Simulated TVDs (if model is true)'\n",
        "bins = np.arange(0, .05, .005)\n",
        "\n",
        "Table().with_column(title, tvds).hist(bins = bins)\n",
        "print('Observed TVD: ' + str(obsvd_tvd))"
      ]
    },
    {
      "cell_type": "markdown",
      "metadata": {
        "id": "nsUZ04MMFzKk"
      },
      "source": [
        "## The GSI's Defense ##"
      ]
    },
    {
      "cell_type": "code",
      "execution_count": null,
      "metadata": {
        "colab": {
          "base_uri": "https://localhost:8080/",
          "height": 392
        },
        "id": "FDtSu252FzKk",
        "outputId": "af34b053-7a44-4e9e-9741-42f9d7a4155f"
      },
      "outputs": [],
      "source": [
        "# Read in our table of data\n",
        "# Each row is a student\n",
        "scores = Table.read_table('scores_by_section.csv')\n",
        "scores"
      ]
    },
    {
      "cell_type": "code",
      "execution_count": null,
      "metadata": {
        "colab": {
          "base_uri": "https://localhost:8080/",
          "height": 392
        },
        "id": "IilFZ8O3FzKk",
        "outputId": "54c60a90-b976-45c7-af2c-a5fa985c2dd9"
      },
      "outputs": [],
      "source": [
        "# How many people are in each section (all sections)?\n",
        "# Get the sample size\n"
      ]
    },
    {
      "cell_type": "code",
      "execution_count": null,
      "metadata": {
        "colab": {
          "base_uri": "https://localhost:8080/",
          "height": 425
        },
        "id": "3dVaa9WHFzKk",
        "outputId": "de94ead2-b442-4c5f-ce03-ba48381f9092"
      },
      "outputs": [],
      "source": [
        "# Get the average score per section\n"
      ]
    },
    {
      "cell_type": "code",
      "execution_count": null,
      "metadata": {
        "colab": {
          "base_uri": "https://localhost:8080/"
        },
        "id": "W4zT5IuCFzKk",
        "outputId": "2d5c1afe-142e-43e3-da94-2cd24fc2557c"
      },
      "outputs": [],
      "source": [
        "# Average for section 3\n"
      ]
    },
    {
      "cell_type": "code",
      "execution_count": null,
      "metadata": {
        "colab": {
          "base_uri": "https://localhost:8080/",
          "height": 392
        },
        "id": "AJ1Bgm3VFzKk",
        "outputId": "48080a46-830a-422b-a9c8-d1eedfa197f5"
      },
      "outputs": [],
      "source": [
        "# Single simulation\n",
        "random_sample = scores.sample(27, with_replacement=False)\n",
        "random_sample"
      ]
    },
    {
      "cell_type": "code",
      "execution_count": null,
      "metadata": {
        "colab": {
          "base_uri": "https://localhost:8080/"
        },
        "id": "TAKn3hpTFzKk",
        "outputId": "4c6908c5-5384-4e40-fc5b-7c9b9f0dfa5d"
      },
      "outputs": [],
      "source": [
        "# Average score for our simulated sample\n",
        "np.average(random_sample.column('Midterm'))"
      ]
    },
    {
      "cell_type": "code",
      "execution_count": null,
      "metadata": {
        "id": "F41Dr8YOFzKk"
      },
      "outputs": [],
      "source": [
        "# Simulate one value of the test statistic\n",
        "# under the hypothesis that the section is like a random sample from the class\n",
        "\n",
        "def random_sample_midterm_avg():\n",
        "    # Same code as above, but put into the function\n",
        "    # individual sample\n",
        "    # return the data"
      ]
    },
    {
      "cell_type": "code",
      "execution_count": null,
      "metadata": {
        "id": "uxtjru4SKKrk"
      },
      "outputs": [],
      "source": [
        "def random_sample_midterm_avg():\n",
        "    random_sample = scores.sample(27, with_replacement = False)\n",
        "    return np.average(random_sample.column('Midterm'))"
      ]
    },
    {
      "cell_type": "code",
      "execution_count": null,
      "metadata": {
        "id": "XMsi4NGGFzKl"
      },
      "outputs": [],
      "source": [
        "# Simulate 50,000 values of the test statistic\n",
        "\n",
        "sample_averages = make_array()\n",
        "\n",
        "for i in np.arange(50000):\n",
        "    sample_averages = np.append(sample_averages, random_sample_midterm_avg())"
      ]
    },
    {
      "cell_type": "markdown",
      "metadata": {
        "id": "FcMXBRDRFzKl"
      },
      "source": [
        "## Our Decision Using a Visualization"
      ]
    },
    {
      "cell_type": "code",
      "execution_count": null,
      "metadata": {
        "colab": {
          "base_uri": "https://localhost:8080/",
          "height": 410
        },
        "id": "k0d34jebFzKl",
        "outputId": "99f5f81a-1df2-4c47-88bc-6274ab269160"
      },
      "outputs": [],
      "source": [
        "# Compare the simulated distribution of the statistic\n",
        "# and the actual observed statistic\n",
        "averages_tbl = Table().with_column('Random Sample Average', sample_averages)\n",
        "averages_tbl.hist(bins = 20)\n",
        "\n",
        "plots.scatter(observed_average, -0.01, color='red', s=120); # plot observed average- you don't need to know this, this is extra"
      ]
    },
    {
      "cell_type": "markdown",
      "metadata": {
        "id": "jwK0_aNPKx3w"
      },
      "source": [
        "What would you conclude?<br>\n",
        "Is the data consistent with the model or the alternative?"
      ]
    },
    {
      "cell_type": "markdown",
      "metadata": {
        "id": "9X5sFrRKFzKl"
      },
      "source": [
        "### Approach 1"
      ]
    },
    {
      "cell_type": "markdown",
      "metadata": {
        "id": "4D2ko-WHOCGI"
      },
      "source": [
        "How do we determine what percentage of our array (sample_averages) is less than the observed value?"
      ]
    },
    {
      "cell_type": "code",
      "execution_count": null,
      "metadata": {
        "id": "D0FX3cvjFzKl",
        "outputId": "6abfb290-2ef0-4cdd-aabf-20ed3d0bc6e6"
      },
      "outputs": [],
      "source": [
        "# (1) Calculate the p-value: simulation area beyond observed value\n",
        "np.count_nonzero(sample_averages <= observed_average) / 50000\n",
        "# (2) See if this is less than 5%- not quite small enough"
      ]
    },
    {
      "cell_type": "markdown",
      "metadata": {
        "id": "5zxH3-SJFzKl"
      },
      "source": [
        "### Approach 2"
      ]
    },
    {
      "cell_type": "markdown",
      "metadata": {
        "id": "We1_HgKXPMxl"
      },
      "source": [
        "What value of the test statistic correspond to %5?"
      ]
    },
    {
      "cell_type": "code",
      "execution_count": null,
      "metadata": {
        "colab": {
          "base_uri": "https://localhost:8080/"
        },
        "id": "4gK9KWUiFzKl",
        "outputId": "45a931fe-3ff9-4b6f-c1f0-85daba2da87c"
      },
      "outputs": [],
      "source": [
        "# (1) Find simulated value corresponding to 5% of 50,000 = 2500\n"
      ]
    },
    {
      "cell_type": "code",
      "execution_count": null,
      "metadata": {
        "colab": {
          "base_uri": "https://localhost:8080/"
        },
        "id": "R6GZKS1DFzKl",
        "outputId": "cff57490-dab0-48d7-b46b-dff81dc6f4e9"
      },
      "outputs": [],
      "source": [
        "# (2) See if this value is greater than observed value\n",
        "observed_average"
      ]
    },
    {
      "cell_type": "markdown",
      "metadata": {
        "id": "nrh7dGgLFzKm"
      },
      "source": [
        "### Visual Representation"
      ]
    },
    {
      "cell_type": "code",
      "execution_count": null,
      "metadata": {
        "colab": {
          "base_uri": "https://localhost:8080/",
          "height": 440
        },
        "id": "AsjZecY9FzKm",
        "outputId": "0640283c-50d9-427d-9fd4-271a90b0ba41"
      },
      "outputs": [],
      "source": [
        "averages_tbl.hist(bins = 20)\n",
        "plots.plot([five_percent_point, five_percent_point], [0, 0.35], color='gold', lw=2) # cutoff value of 5% (extra, don't need to know)\n",
        "plots.title('Area to the left of the gold line: 5%'); # title\n",
        "plots.scatter(observed_average, -0.01, color='red', s=120);  # add the observed data point"
      ]
    },
    {
      "cell_type": "code",
      "execution_count": null,
      "metadata": {
        "id": "0VWJ5guFFzKm"
      },
      "outputs": [],
      "source": []
    }
  ],
  "metadata": {
    "anaconda-cloud": {},
    "colab": {
      "provenance": []
    },
    "kernelspec": {
      "display_name": "Python 3",
      "language": "python",
      "name": "python3"
    },
    "language_info": {
      "codemirror_mode": {
        "name": "ipython",
        "version": 3
      },
      "file_extension": ".py",
      "mimetype": "text/x-python",
      "name": "python",
      "nbconvert_exporter": "python",
      "pygments_lexer": "ipython3",
      "version": "3.10.12"
    }
  },
  "nbformat": 4,
  "nbformat_minor": 0
}
