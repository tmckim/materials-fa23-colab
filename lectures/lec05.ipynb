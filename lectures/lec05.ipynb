{
  "cells": [
    {
      "cell_type": "markdown",
      "metadata": {
        "id": "c_rW3jotxj3k"
      },
      "source": [
        "<a href=\"https://colab.research.google.com/github/tmckim/materials-fa23-colab/blob/main/lectures/lec05.ipynb\" target=\"_parent\"><img src=\"https://colab.research.google.com/assets/colab-badge.svg\" alt=\"Open In Colab\"/></a>"
      ]
    },
    {
      "cell_type": "markdown",
      "metadata": {
        "id": "cWYjwoGLxj3l"
      },
      "source": [
        "## Before you start - Save this notebook!\n",
        "\n",
        "When you open a new Colab notebook from the WebCampus (like you hopefully did for this one), you cannot save changes. So it's  best to store the Colab notebook in your personal drive `\"File > Save a copy in drive...\"` **before** you do anything else.\n",
        "\n",
        "The file will open in a new tab in your web browser, and it is automatically named something like: \"**Copy of lec05.ipynb**\". You can rename this to just the title of the assignment \"**lec05.ipynb**\". Make sure you do keep an informative name (like the name of the assignment) so that you know which files to submit back to WebCampus for grading! More instructions on this are at the end of the notebook.\n",
        "\n",
        "\n",
        "**Where does the notebook get saved in Google Drive?**\n",
        "\n",
        "By default, the notebook will be copied to a folder called “Colab Notebooks” at the root (home directory) of your Google Drive. If you use this for other courses or personal code notebooks, I recommend creating a folder for this course and then moving the assignments AFTER you have completed them."
      ]
    },
    {
      "cell_type": "code",
      "execution_count": null,
      "metadata": {
        "id": "BsMVboPkxj3l"
      },
      "outputs": [],
      "source": [
        "# Setup and add files needed to gdrive\n",
        "# If you restart colab, start by rerunning this cell first!\n",
        "from google.colab import drive\n",
        "drive.mount('/content/gdrive', force_remount=True)\n",
        "\n",
        "#!mkdir -p '/content/gdrive/My Drive/colab-materials-NS499DataSci-notebooks/'\n",
        "%cd /content/gdrive/My Drive/colab-materials-NS499DataSci-notebooks/\n",
        "!rm -r materials-fa23-colab\n",
        "\n",
        "!git clone https://github.com/tmckim/materials-fa23-colab '/content/gdrive/My Drive/colab-materials-NS499DataSci-notebooks/materials-fa23-colab/'\n",
        "\n",
        "%cd /content/gdrive/MyDrive/colab-materials-NS499DataSci-notebooks/materials-fa23-colab/lectures/"
      ]
    },
    {
      "cell_type": "code",
      "execution_count": null,
      "metadata": {
        "id": "a2rqRgEyxj3m"
      },
      "outputs": [],
      "source": [
        "# Import packages and other things needed\n",
        "# Don't change this cell; Just run this cell\n",
        "# If you restart colab, make sure to run this cell again after the first one above^\n",
        "\n",
        "from datascience import *\n",
        "import numpy as np\n",
        "\n",
        "%matplotlib inline\n",
        "import matplotlib.pyplot as plots\n",
        "plots.style.use('fivethirtyeight')\n",
        "import warnings\n",
        "warnings.simplefilter(action='ignore',category=np.VisibleDeprecationWarning)"
      ]
    },
    {
      "cell_type": "markdown",
      "metadata": {
        "id": "JMxGaDubxj3m"
      },
      "source": [
        "## Lecture 05 ##\n",
        "\n",
        "Topics:\n",
        "- Reviewing functions\n",
        "- Working with apply and group\n",
        "- Introduce Python lists\n",
        "- Show how to build tables from rows instead of columns\n",
        "- Introduce pivots - a special kind of grouping\n",
        "- Introduce joins"
      ]
    },
    {
      "cell_type": "markdown",
      "metadata": {
        "id": "0I2OSukdxj3m"
      },
      "source": [
        "## Prediction ##"
      ]
    },
    {
      "cell_type": "markdown",
      "metadata": {
        "id": "57UhfUWGxj3m"
      },
      "source": [
        "Can we predict how tall a child will grow based on the height of their parents?"
      ]
    },
    {
      "cell_type": "markdown",
      "metadata": {
        "id": "MZuHf6Hxxj3n"
      },
      "source": [
        "To do this we will use the famous [Galton's height dataset](https://galton.org/essays/1880-1889/galton-1886-jaigi-regression-stature.pdf) that was collected to demonstrate the connection between parent's heights and the height of their children.\n"
      ]
    },
    {
      "cell_type": "code",
      "execution_count": null,
      "metadata": {
        "colab": {
          "base_uri": "https://localhost:8080/",
          "height": 392
        },
        "id": "-I_Om-jcxj3n",
        "outputId": "cf9e7fac-591c-4dd3-abf0-48d27f88038f",
        "scrolled": true
      },
      "outputs": [],
      "source": [
        "# Read in the table of data\n",
        "families = Table.read_table('family_heights.csv')\n",
        "families"
      ]
    },
    {
      "cell_type": "markdown",
      "metadata": {
        "id": "eggqkcBsxj3n"
      },
      "source": [
        "## Exploring the Data ##\n",
        "\n",
        "**Exercise**: Add a column `parent average` containing the average height of both parents."
      ]
    },
    {
      "cell_type": "code",
      "execution_count": null,
      "metadata": {
        "colab": {
          "base_uri": "https://localhost:8080/",
          "height": 392
        },
        "id": "IuqYLdsExj3n",
        "outputId": "d659c819-2d3c-4c92-f69a-83801d26c689"
      },
      "outputs": [],
      "source": [
        "families = families.with_columns(\n",
        "    'parent average', (families.column('father') + families.column('mother'))/2)\n",
        "families"
      ]
    },
    {
      "cell_type": "markdown",
      "metadata": {
        "id": "MfvZp_Fcxj3n"
      },
      "source": [
        "What is the relationship between a child's height and the average parent's height?"
      ]
    },
    {
      "cell_type": "markdown",
      "metadata": {
        "id": "Xa_ZmdCaxj3n"
      },
      "source": [
        "**Exercise**: Make a scatterplot showing the relationship between `parent average` and the `child` height"
      ]
    },
    {
      "cell_type": "code",
      "execution_count": null,
      "metadata": {
        "colab": {
          "base_uri": "https://localhost:8080/",
          "height": 496
        },
        "id": "mLkzzX5Lxj3n",
        "outputId": "4a8ddf61-e1ea-46eb-a09b-da9e6d6c9eff"
      },
      "outputs": [],
      "source": [
        "# Scatterplot\n",
        "families.scatter('parent average', 'child')"
      ]
    },
    {
      "cell_type": "markdown",
      "metadata": {
        "id": "tO_wu3tOxj3n"
      },
      "source": [
        "Questions:\n",
        "1. Do we observe a relationship between child and parent height?\n",
        "2. Would a line plot help reveal that relationship?"
      ]
    },
    {
      "cell_type": "code",
      "execution_count": null,
      "metadata": {
        "colab": {
          "base_uri": "https://localhost:8080/",
          "height": 577
        },
        "id": "IF4MuM8p3vYM",
        "outputId": "a7ba0b80-3fe1-4333-88af-3419b682e5c8"
      },
      "outputs": [],
      "source": [
        "# How do we draw a line plot?\n",
        "families.plot('parent average', 'child', marker = 'o')"
      ]
    },
    {
      "cell_type": "markdown",
      "metadata": {
        "id": "1-UPFK_wxj3n"
      },
      "source": [
        "## Making a Prediction ##\n",
        "\n",
        "If we wanted to predict the height of a child given the height of the parents, we could look at the height of children with parents who have a similar average height."
      ]
    },
    {
      "cell_type": "code",
      "execution_count": null,
      "metadata": {
        "id": "7lS8GGO8xj3o"
      },
      "outputs": [],
      "source": [
        "# Example parent height values\n",
        "parent1_height = 5*12 + 10 # 5 ft 10 inches\n",
        "parent2_height = 5*12+7 # 5 ft 7 inches"
      ]
    },
    {
      "cell_type": "code",
      "execution_count": null,
      "metadata": {
        "colab": {
          "base_uri": "https://localhost:8080/"
        },
        "id": "zfZCr7i2xj3o",
        "outputId": "00e5493a-f616-48de-d0f7-84f5b3c0da81"
      },
      "outputs": [],
      "source": [
        "# Calc parent average\n",
        "calc_parent_avg = (parent1_height + parent2_height)/2\n",
        "calc_parent_avg"
      ]
    },
    {
      "cell_type": "markdown",
      "metadata": {
        "id": "jexRfhpGxj3o"
      },
      "source": [
        "Let's look at parents that are within 1 inch of our height"
      ]
    },
    {
      "cell_type": "code",
      "execution_count": null,
      "metadata": {
        "id": "QLVvoyODxj3o"
      },
      "outputs": [],
      "source": [
        "window = 1\n",
        "lower_bound = calc_parent_avg - window\n",
        "upper_bound = calc_parent_avg + window"
      ]
    },
    {
      "cell_type": "code",
      "execution_count": null,
      "metadata": {
        "colab": {
          "base_uri": "https://localhost:8080/",
          "height": 491
        },
        "id": "LdW0NZcCxj3o",
        "outputId": "9cade198-186d-4c74-f73d-8b64deff530d"
      },
      "outputs": [],
      "source": [
        "# Scatterplot\n",
        "families.scatter('parent average', 'child')\n",
        "# you don't need to know the details of this plotting code yet\n",
        "plots.plot([lower_bound, lower_bound], [50, 85], color='red', lw=2)\n",
        "plots.plot([calc_parent_avg, calc_parent_avg], [50, 85], color='orange', lw=2);\n",
        "plots.plot([upper_bound, upper_bound], [50, 85], color='red', lw=2);"
      ]
    },
    {
      "cell_type": "markdown",
      "metadata": {
        "id": "VRRXbe-ixj3o"
      },
      "source": [
        "**Exercise**: Create a function that takes an average of the parent heights and returns ***an array of all the children's heights*** that are within the window of the parent's average height."
      ]
    },
    {
      "cell_type": "code",
      "execution_count": null,
      "metadata": {
        "id": "H1twg4Tlxj3o"
      },
      "outputs": [],
      "source": [
        "def similar_child_heights(parent_average):\n",
        "    lower_bound = parent_average - window\n",
        "    upper_bound = parent_average + window\n",
        "    return (\n",
        "        families\n",
        "        .where(\"parent average\", are.between(lower_bound, upper_bound))\n",
        "        .column(\"child\")\n",
        "    )"
      ]
    },
    {
      "cell_type": "markdown",
      "metadata": {
        "id": "6825g9Pgxj3o"
      },
      "source": [
        "Test the function:"
      ]
    },
    {
      "cell_type": "code",
      "execution_count": null,
      "metadata": {
        "colab": {
          "base_uri": "https://localhost:8080/"
        },
        "id": "njQObuUrxj3o",
        "outputId": "d745d68c-c95d-4563-a6e3-3124f46016d6"
      },
      "outputs": [],
      "source": [
        "# window = 1.0 originally\n",
        "# window = 5.0 # smaller or larger- what happens?\n",
        "similar_child_heights(calc_parent_avg)"
      ]
    },
    {
      "cell_type": "markdown",
      "metadata": {
        "id": "50QCvyxBxj3p"
      },
      "source": [
        "**Exercise**: Create a function to predict the child's height as the average of the height of children within the window of the average parent height."
      ]
    },
    {
      "cell_type": "code",
      "execution_count": null,
      "metadata": {
        "id": "HHdBBtzDxj3p"
      },
      "outputs": [],
      "source": [
        "# Create a new function that uses our previous function\n",
        "def predict_child_height(parent_average):\n",
        "    return np.average(similar_child_heights(parent_average))"
      ]
    },
    {
      "cell_type": "code",
      "execution_count": null,
      "metadata": {
        "colab": {
          "base_uri": "https://localhost:8080/"
        },
        "id": "GOeLdQWxxj3p",
        "outputId": "60e86520-6e4c-4bf3-d5f2-c674b22757b0"
      },
      "outputs": [],
      "source": [
        "# Test the function to get our mean\n",
        "predict_child_height(calc_parent_avg)"
      ]
    },
    {
      "cell_type": "markdown",
      "metadata": {
        "id": "P8dS0ic0xj3p"
      },
      "source": [
        "Let's plot the predicted height as well as the distribution of children's heights:"
      ]
    },
    {
      "cell_type": "code",
      "execution_count": null,
      "metadata": {
        "colab": {
          "base_uri": "https://localhost:8080/",
          "height": 452
        },
        "id": "XooTn8B_xj3p",
        "outputId": "5a8994e9-1c65-4334-aae9-064faff1d005"
      },
      "outputs": [],
      "source": [
        "# window = 1.0\n",
        "similar = similar_child_heights(calc_parent_avg) # array of heights from our first function\n",
        "predicted_height = predict_child_height(calc_parent_avg) # single # for the average from our second function\n",
        "\n",
        "print(\"Mean:\", predicted_height)\n",
        "Table().with_column(\"child\", similar).hist(\"child\", bins= 20) # new table with the values in the array to plot with hist\n",
        "plots.plot([predicted_height, predicted_height], [0,0.1], color = \"red\") # added a line for the average that we calculated"
      ]
    },
    {
      "cell_type": "markdown",
      "metadata": {
        "id": "o6lVs1P7xj3p"
      },
      "source": [
        "## Prediction Accuracy: Evaluating the Predictions ##"
      ]
    },
    {
      "cell_type": "markdown",
      "metadata": {
        "id": "M_htK_tjxj3p"
      },
      "source": [
        "To evalute the predictions, let's see how the predictions compare to the actual heights of all the children in our dataset."
      ]
    },
    {
      "cell_type": "markdown",
      "metadata": {
        "id": "30XD22S_xj3p"
      },
      "source": [
        "**Exercise**: Apply the function (using `appy`) to all the parent averages in the table and save the result to the `predicted` column."
      ]
    },
    {
      "cell_type": "code",
      "execution_count": null,
      "metadata": {
        "colab": {
          "base_uri": "https://localhost:8080/",
          "height": 392
        },
        "id": "j3GaWzllxj3p",
        "outputId": "df777ad8-767e-4e5c-8170-ef048c4e04ab"
      },
      "outputs": [],
      "source": [
        "# window = 1.0\n",
        "families = families.with_column(\n",
        "    \"predicted\", families.apply(predict_child_height, \"parent average\")\n",
        ")\n",
        "families"
      ]
    },
    {
      "cell_type": "markdown",
      "metadata": {
        "id": "NgapSHolxj3p"
      },
      "source": [
        "**Exercise**: Construct a scatterplot with the `parent average` height on the x-axis and the `child` height and the `predicted` height on the y-axis."
      ]
    },
    {
      "cell_type": "code",
      "execution_count": null,
      "metadata": {
        "colab": {
          "base_uri": "https://localhost:8080/",
          "height": 499
        },
        "id": "5OFGqnkuxj3p",
        "outputId": "4c7658f0-08e1-427e-aeed-a8247a37ec3d"
      },
      "outputs": [],
      "source": [
        "families.select(\"parent average\", \"child\", \"predicted\").scatter(\"parent average\")"
      ]
    },
    {
      "cell_type": "markdown",
      "metadata": {
        "id": "10iJP7Evxj3p"
      },
      "source": [
        "**Discussion**: What do we see in this plot?"
      ]
    },
    {
      "cell_type": "markdown",
      "metadata": {
        "id": "3MpQ0FuDxj3q"
      },
      "source": [
        "**Exercise**: Define a function to compute the error (the difference) between the predicted value and the true value. Apply that function to the table adding a column containing the `error`. Then construct a histogram of the errors."
      ]
    },
    {
      "cell_type": "code",
      "execution_count": null,
      "metadata": {
        "colab": {
          "base_uri": "https://localhost:8080/",
          "height": 392
        },
        "id": "WkwLm15Yxj3q",
        "outputId": "4ee730ff-e3ee-4ca2-e182-0be365d7660d"
      },
      "outputs": [],
      "source": [
        "def error(predicted, true_value):\n",
        "    return predicted - true_value\n",
        "\n",
        "families = families.with_column(\n",
        "    \"error\", families.apply(error, \"predicted\", \"child\"))\n",
        "families"
      ]
    },
    {
      "cell_type": "markdown",
      "metadata": {
        "id": "6UNcBscoxj3q"
      },
      "source": [
        "Visualize the distribution of errors:"
      ]
    },
    {
      "cell_type": "code",
      "execution_count": null,
      "metadata": {
        "colab": {
          "base_uri": "https://localhost:8080/",
          "height": 410
        },
        "id": "rZHXTz8ixj3q",
        "outputId": "0ea9df74-9ae3-49c6-9bec-fe9e1cec76b3"
      },
      "outputs": [],
      "source": [
        "families.hist('error')"
      ]
    },
    {
      "cell_type": "markdown",
      "metadata": {
        "id": "HOjRhPW7xj3q"
      },
      "source": [
        "**Exercise**: Overlay the histograms of the error for male and female children."
      ]
    },
    {
      "cell_type": "code",
      "execution_count": null,
      "metadata": {
        "colab": {
          "base_uri": "https://localhost:8080/",
          "height": 410
        },
        "id": "l8eNowsTxj3q",
        "outputId": "51994cb9-49bc-464d-a79c-c4495906027e"
      },
      "outputs": [],
      "source": [
        "families.hist('error', group='sex')"
      ]
    },
    {
      "cell_type": "markdown",
      "metadata": {
        "id": "eFr70CqJxj3q"
      },
      "source": [
        "**Discussion**: What do we observe?"
      ]
    },
    {
      "cell_type": "markdown",
      "metadata": {
        "id": "rV_ovxf6xj3q"
      },
      "source": [
        "# Discussion Question: Building a Better Predictor"
      ]
    },
    {
      "cell_type": "markdown",
      "metadata": {
        "id": "36H9ganuxj3q"
      },
      "source": [
        "**Exercise**: Implement a new height prediction function that considers the averages of the height of children with the same sex and whose parents had a similar height.<br><br>\n",
        "\n",
        "Start by reviewing our previous function:\n",
        "```\n",
        "def similar_child_heights(parent_average):\n",
        "    lower_bound = parent_average - window\n",
        "    upper_bound = parent_average + window\n",
        "    return np.average(\n",
        "        families\n",
        "        .where(\"parent average\", are.between(lower_bound, upper_bound))\n",
        "        .column(\"child\")\n",
        "    )\n",
        "```\n",
        "\n"
      ]
    },
    {
      "cell_type": "code",
      "execution_count": null,
      "metadata": {
        "id": "8Cdjc50vxj3r"
      },
      "outputs": [],
      "source": [
        "def predict_child_height_with_sex(parent_average):"
      ]
    },
    {
      "cell_type": "code",
      "execution_count": null,
      "metadata": {},
      "outputs": [],
      "source": [
        "# Test out our function"
      ]
    },
    {
      "cell_type": "code",
      "execution_count": null,
      "metadata": {},
      "outputs": [],
      "source": [
        "# Test out our function"
      ]
    },
    {
      "cell_type": "markdown",
      "metadata": {
        "id": "BkiXXZ2kxj3r"
      },
      "source": [
        "**Exercise**: Apply the better predictor to the table and save the predictions in a column called `predicted with sex`."
      ]
    },
    {
      "cell_type": "code",
      "execution_count": null,
      "metadata": {
        "colab": {
          "base_uri": "https://localhost:8080/",
          "height": 392
        },
        "id": "HNjzjBDdxj3r",
        "outputId": "8c6bd2b3-90df-40aa-e149-9e9ff93e107e"
      },
      "outputs": [],
      "source": [
        "families= families.with_column(\n",
        "    \"predicted with sex\", families.apply(predict_child_height_with_sex, \"parent average\", \"sex\")\n",
        ")\n",
        "families"
      ]
    },
    {
      "cell_type": "markdown",
      "metadata": {
        "id": "OqbY6NTCxj3r"
      },
      "source": [
        "**Exercise**: Construct a histogram of the new errors broke down by the sex of the child."
      ]
    },
    {
      "cell_type": "code",
      "execution_count": null,
      "metadata": {
        "colab": {
          "base_uri": "https://localhost:8080/",
          "height": 410
        },
        "id": "AAPg0Oymxj3r",
        "outputId": "201fd0fe-a1dd-4f50-eb08-ec9e7dcb3b46"
      },
      "outputs": [],
      "source": [
        "families = families.with_column(\n",
        "    \"error with sex\",  families.apply(error, \"predicted with sex\", \"child\")\n",
        ")\n",
        "families.hist(\"error with sex\", group=\"sex\")"
      ]
    },
    {
      "cell_type": "markdown",
      "metadata": {
        "id": "VU47vM5Cxj3r"
      },
      "source": [
        "The previous plot for comparison:"
      ]
    },
    {
      "cell_type": "code",
      "execution_count": null,
      "metadata": {
        "colab": {
          "base_uri": "https://localhost:8080/",
          "height": 410
        },
        "id": "NUJGnHNDxj3s",
        "outputId": "4639c87f-5748-48f9-80ab-7b230c9acc8f"
      },
      "outputs": [],
      "source": [
        "families.hist(\"error\", group=\"sex\")"
      ]
    },
    {
      "cell_type": "markdown",
      "metadata": {
        "id": "V4oZMa5Yxj3s"
      },
      "source": [
        "## Grouping by One Column ##"
      ]
    },
    {
      "cell_type": "code",
      "execution_count": null,
      "metadata": {
        "colab": {
          "base_uri": "https://localhost:8080/",
          "height": 238
        },
        "id": "HTRAfg52xj3s",
        "outputId": "ea6c7d4b-1ed2-460c-8d2f-4d007d1a8423"
      },
      "outputs": [],
      "source": [
        "# Load in our ice cream data\n",
        "cones = Table.read_table('cones_rating.csv')\n",
        "cones"
      ]
    },
    {
      "cell_type": "markdown",
      "metadata": {
        "id": "KrIwiljYxj3s"
      },
      "source": [
        "**Exercise**: Use the `group` function to determine the number of cones with each flavor."
      ]
    },
    {
      "cell_type": "code",
      "execution_count": null,
      "metadata": {
        "colab": {
          "base_uri": "https://localhost:8080/",
          "height": 143
        },
        "id": "f1P5xYz7xj3s",
        "outputId": "8dbb2973-1cbe-4313-9064-4e74a15b9bda"
      },
      "outputs": [],
      "source": [
        "cones.group('Flavor')"
      ]
    },
    {
      "cell_type": "markdown",
      "metadata": {
        "id": "_ZsXa3uBxj3s"
      },
      "source": [
        "**Exercise**: Use the `group` function to compute the average price of cones for each flavor."
      ]
    },
    {
      "cell_type": "code",
      "execution_count": null,
      "metadata": {
        "colab": {
          "base_uri": "https://localhost:8080/",
          "height": 143
        },
        "id": "Gcz_2n4dxj3s",
        "outputId": "156a10a1-1824-48b1-f947-f416e43064b8",
        "scrolled": true
      },
      "outputs": [],
      "source": [
        "cones.group('Flavor', np.average)"
      ]
    },
    {
      "cell_type": "code",
      "execution_count": null,
      "metadata": {
        "colab": {
          "base_uri": "https://localhost:8080/",
          "height": 143
        },
        "id": "7Fk9c58lA3IO",
        "outputId": "dc4fdb04-54ed-4949-f8bd-bb9bf7798e42"
      },
      "outputs": [],
      "source": [
        "cones.select('Flavor', 'Price').group('Flavor', np.mean)"
      ]
    },
    {
      "cell_type": "markdown",
      "metadata": {
        "id": "3RLN2zvFxj3s"
      },
      "source": [
        "**Exercise**: Use the `group` function to compute the minimum price of cones for each flavor."
      ]
    },
    {
      "cell_type": "code",
      "execution_count": null,
      "metadata": {
        "colab": {
          "base_uri": "https://localhost:8080/",
          "height": 143
        },
        "id": "WHyAJtp_xj3s",
        "outputId": "f2e8326f-2dca-44af-986f-61edd0f5d5a0"
      },
      "outputs": [],
      "source": [
        "cones.group('Flavor', np.min)"
      ]
    },
    {
      "cell_type": "code",
      "execution_count": null,
      "metadata": {
        "colab": {
          "base_uri": "https://localhost:8080/",
          "height": 143
        },
        "id": "vDTKD6FTBLO4",
        "outputId": "5b804608-8e9d-4d05-e051-6589c7cb817e"
      },
      "outputs": [],
      "source": [
        "cones.group('Flavor', min)"
      ]
    },
    {
      "cell_type": "code",
      "execution_count": null,
      "metadata": {
        "colab": {
          "base_uri": "https://localhost:8080/",
          "height": 238
        },
        "id": "o01kuzMhCw8q",
        "outputId": "6b2e81a3-243e-42e3-c120-42d87e55b075"
      },
      "outputs": [],
      "source": [
        "cones"
      ]
    },
    {
      "cell_type": "markdown",
      "metadata": {
        "id": "FkpNiFt4xj3t"
      },
      "source": [
        "## Lists"
      ]
    },
    {
      "cell_type": "code",
      "execution_count": null,
      "metadata": {
        "colab": {
          "base_uri": "https://localhost:8080/"
        },
        "id": "dt-fh3G6xj3t",
        "outputId": "31f3913a-5b76-44e2-a8a1-001e5ab3910f"
      },
      "outputs": [],
      "source": [
        "# A simple list\n",
        "[1, 5, 'hello', 5.0]"
      ]
    },
    {
      "cell_type": "code",
      "execution_count": null,
      "metadata": {
        "colab": {
          "base_uri": "https://localhost:8080/"
        },
        "id": "fZ5f2hxxxj3t",
        "outputId": "17a81c17-881b-4616-a37e-4296a7ff27aa"
      },
      "outputs": [],
      "source": [
        "# Another list\n",
        "another_list = [1, 5, 'hello', 5.0, make_array(1,2,3)]\n",
        "another_list"
      ]
    },
    {
      "cell_type": "markdown",
      "metadata": {
        "id": "6_l8QkQoXljo"
      },
      "source": [
        "You have to use square brackets when accessing elements from a list (you can't use `item`)\n"
      ]
    },
    {
      "cell_type": "code",
      "execution_count": null,
      "metadata": {
        "colab": {
          "base_uri": "https://localhost:8080/",
          "height": 35
        },
        "id": "xdQFzCGdXTjx",
        "outputId": "2cd8488c-6f59-4a34-a10c-5883e1e46679"
      },
      "outputs": [],
      "source": [
        "another_list[2]"
      ]
    },
    {
      "cell_type": "code",
      "execution_count": null,
      "metadata": {
        "colab": {
          "base_uri": "https://localhost:8080/"
        },
        "id": "rZS6t3UpXi8m",
        "outputId": "cc8decbc-3a4b-427d-bf2e-e8799a81cf21"
      },
      "outputs": [],
      "source": [
        "another_list[4][1]"
      ]
    },
    {
      "cell_type": "markdown",
      "metadata": {
        "id": "-uCU6jOxX-Zh"
      },
      "source": [
        "Recall that for arrays you could do either. (In the real world, most people would probably use square brackets)."
      ]
    },
    {
      "cell_type": "code",
      "execution_count": null,
      "metadata": {
        "colab": {
          "base_uri": "https://localhost:8080/",
          "height": 35
        },
        "id": "lmoOx0vCYEPC",
        "outputId": "852b33ab-380d-4906-e90f-a6b58a997462"
      },
      "outputs": [],
      "source": [
        "my_array = make_array('Apple', 'Orange', 'Banana')\n",
        "my_array[1]"
      ]
    },
    {
      "cell_type": "markdown",
      "metadata": {
        "id": "R0drWUwrYMXY"
      },
      "source": [
        "Same thing as:"
      ]
    },
    {
      "cell_type": "code",
      "execution_count": null,
      "metadata": {
        "colab": {
          "base_uri": "https://localhost:8080/",
          "height": 35
        },
        "id": "T4zlmwhTYJa5",
        "outputId": "8387509d-87c6-4d85-ff2f-c3ec52234d7d"
      },
      "outputs": [],
      "source": [
        "my_array.item(1)"
      ]
    },
    {
      "cell_type": "markdown",
      "metadata": {
        "id": "3_2JgRv0YShP"
      },
      "source": [
        "## Rows from Lists ##\n",
        "\n",
        "We need lists to be able to add a row to our table. Why?\n"
      ]
    },
    {
      "cell_type": "markdown",
      "metadata": {
        "id": "S0aA3KlzYZwH"
      },
      "source": [
        "Here we make a table with a column (we've been doing this alot already)."
      ]
    },
    {
      "cell_type": "code",
      "execution_count": null,
      "metadata": {
        "colab": {
          "base_uri": "https://localhost:8080/",
          "height": 143
        },
        "id": "8yX3OxTMYZNv",
        "outputId": "98f83fbc-e61e-4b93-dc63-8d7b00335a87"
      },
      "outputs": [],
      "source": [
        "Table().with_columns('Numbers', [1, 2, 3])"
      ]
    },
    {
      "cell_type": "markdown",
      "metadata": {
        "id": "JOA9FsjzYgnO"
      },
      "source": [
        "Here we make an empty table with just column labels. (This is new!)"
      ]
    },
    {
      "cell_type": "code",
      "execution_count": null,
      "metadata": {
        "colab": {
          "base_uri": "https://localhost:8080/",
          "height": 49
        },
        "id": "IEBabj-1YmZl",
        "outputId": "ca705337-0483-4f61-b5d5-e7998b897372"
      },
      "outputs": [],
      "source": [
        "# Empty table with columns and no rows\n",
        "drinks = Table(['Drink', 'Cafe', 'Price'])\n",
        "drinks"
      ]
    },
    {
      "cell_type": "markdown",
      "metadata": {
        "id": "NgH2rEYeYpqD"
      },
      "source": [
        "Here we add rows to our table. Each row is a `List`of elements -- one for each column.\n",
        "\n"
      ]
    },
    {
      "cell_type": "code",
      "execution_count": null,
      "metadata": {
        "colab": {
          "base_uri": "https://localhost:8080/",
          "height": 175
        },
        "id": "TK5MiIf2YoR1",
        "outputId": "9ff7afcc-64a1-43d3-9350-9954e2c2ff8d"
      },
      "outputs": [],
      "source": [
        "drinks = drinks.with_rows([\n",
        "    ['Milk Tea', 'RareTea', 5.5],\n",
        "    ['Espresso', 'Buzzed Coffee',  1.75],\n",
        "    ['Latte',    'Buzzed Coffee',  3.25],\n",
        "    ['Espresso', \"Starbucks\",   2]\n",
        "])\n",
        "drinks"
      ]
    },
    {
      "cell_type": "markdown",
      "metadata": {
        "id": "Na4pXU2Lxj3t"
      },
      "source": [
        "## Grouping by Two Columns: Cross Classification ##"
      ]
    },
    {
      "cell_type": "markdown",
      "metadata": {
        "id": "t17jO66Cxj3t"
      },
      "source": [
        "Classify the cones by both `flavor` and `color`"
      ]
    },
    {
      "cell_type": "code",
      "execution_count": null,
      "metadata": {
        "colab": {
          "base_uri": "https://localhost:8080/",
          "height": 175
        },
        "id": "eMbwW0Nqa017",
        "outputId": "c04fbd3f-51bd-4638-f590-2789c300ecf6"
      },
      "outputs": [],
      "source": [
        "# Default without specifying an argument is to add a column of the count\n",
        "cones.group(['Flavor', 'Color'])"
      ]
    },
    {
      "cell_type": "markdown",
      "metadata": {
        "id": "a6i5_-oua_pS"
      },
      "source": [
        "Specify how to `collect` the items with `sum`"
      ]
    },
    {
      "cell_type": "code",
      "execution_count": null,
      "metadata": {
        "colab": {
          "base_uri": "https://localhost:8080/",
          "height": 175
        },
        "id": "E9cpFk4oa_ZL",
        "outputId": "3423051e-54c6-4652-e5b4-b99bd23e6eea"
      },
      "outputs": [],
      "source": [
        "cones.group(['Flavor', 'Color'], sum)"
      ]
    },
    {
      "cell_type": "code",
      "execution_count": null,
      "metadata": {
        "colab": {
          "base_uri": "https://localhost:8080/",
          "height": 175
        },
        "id": "gVTTJ6krbX4D",
        "outputId": "87162d01-f281-4d33-82bd-74c1cdb6bcdc"
      },
      "outputs": [],
      "source": [
        "# Average\n",
        "cones.group(['Flavor', 'Color'], np.mean)"
      ]
    },
    {
      "cell_type": "markdown",
      "metadata": {
        "id": "8mcF1QYdghK0"
      },
      "source": [
        "## Pivot Tables ##"
      ]
    },
    {
      "cell_type": "markdown",
      "metadata": {
        "id": "lPO9NqjUglL7"
      },
      "source": [
        "When grouping by two columns it will sometimes be easier to re-arrange the table so that the columns correspond to the values of one of the original grouped columns."
      ]
    },
    {
      "cell_type": "markdown",
      "metadata": {
        "id": "C7VM8ufTgr7D"
      },
      "source": [
        "Here is an example:"
      ]
    },
    {
      "cell_type": "code",
      "execution_count": null,
      "metadata": {
        "colab": {
          "base_uri": "https://localhost:8080/",
          "height": 143
        },
        "id": "GxobfwC3gkTT",
        "outputId": "98deddda-d92d-4e3d-dd67-1d62d6793105"
      },
      "outputs": [],
      "source": [
        "# Pivot using the default collect = count\n",
        "cones.pivot('Color', 'Flavor')"
      ]
    },
    {
      "cell_type": "markdown",
      "metadata": {
        "id": "zyic7MkxhXjZ"
      },
      "source": [
        "Explicitly naming the function arguments. You wouldn't do this in practice, but it helps to highlight the meaning of the four things we passed to the function above."
      ]
    },
    {
      "cell_type": "code",
      "execution_count": null,
      "metadata": {
        "colab": {
          "base_uri": "https://localhost:8080/",
          "height": 143
        },
        "id": "X2fmp0EXhGRH",
        "outputId": "09b86215-f139-4cd0-fc7f-4fba1a979497"
      },
      "outputs": [],
      "source": [
        "cones.pivot(\n",
        "    columns = 'Color', # column whose unique values become columns\n",
        "    rows = 'Flavor', # column whose unique values become rows\n",
        "    values = 'Price', # column that will be used to do computing\n",
        "    collect = np.average) # how to aggregate the values"
      ]
    },
    {
      "cell_type": "markdown",
      "metadata": {
        "id": "mdIXRE24XKFT"
      },
      "source": [
        "## Joins ##"
      ]
    },
    {
      "cell_type": "markdown",
      "metadata": {
        "id": "5rskcmubi37Q"
      },
      "source": [
        "We use join to **join** two tables based on a similar column."
      ]
    },
    {
      "cell_type": "code",
      "execution_count": null,
      "metadata": {
        "colab": {
          "base_uri": "https://localhost:8080/",
          "height": 175
        },
        "id": "1ieXkar6XKFT",
        "outputId": "2eca07c4-e91a-49d1-ce9f-6dc9ff93f64f"
      },
      "outputs": [],
      "source": [
        "drinks"
      ]
    },
    {
      "cell_type": "code",
      "execution_count": null,
      "metadata": {
        "colab": {
          "base_uri": "https://localhost:8080/",
          "height": 143
        },
        "id": "MDZobmSjXKFT",
        "outputId": "a7c12667-e838-4046-e6a7-51d4280b2a2f"
      },
      "outputs": [],
      "source": [
        "discounts = Table().with_columns(\n",
        "    'Coupon % off', make_array(10, 25, 5),\n",
        "    'Location', make_array('RareTea', 'Buzzed Coffee', 'RareTea')\n",
        ")\n",
        "discounts"
      ]
    },
    {
      "cell_type": "markdown",
      "metadata": {
        "id": "Kq92Q-C2jNg2"
      },
      "source": [
        "**Exercise**: Combine the `drinks` and `discounts` tables into a new table which has all possible discounts for each drink."
      ]
    },
    {
      "cell_type": "code",
      "execution_count": null,
      "metadata": {
        "colab": {
          "base_uri": "https://localhost:8080/",
          "height": 175
        },
        "id": "4kxhB54fXKFT",
        "outputId": "9cc4da32-57f5-4a2d-a703-b483862bc944",
        "scrolled": true
      },
      "outputs": [],
      "source": [
        "combined = drinks.join('Cafe', discounts, 'Location')\n",
        "combined"
      ]
    },
    {
      "cell_type": "markdown",
      "metadata": {
        "id": "Ph5qKNyYjchU"
      },
      "source": [
        "**Exercise**: Calculate the lowest rate you can get for each drink using the available coupons."
      ]
    },
    {
      "cell_type": "code",
      "execution_count": null,
      "metadata": {
        "colab": {
          "base_uri": "https://localhost:8080/",
          "height": 143
        },
        "id": "sv3HaDXOXKFT",
        "outputId": "34d58912-d680-4c35-bb5a-d67b93408f9e"
      },
      "outputs": [],
      "source": [
        "discounted_frac = 1 - combined.column('Coupon % off') / 100\n",
        "(\n",
        "combined.with_column('Discounted Price', (combined.column('Price') * discounted_frac))\n",
        ".select('Drink', 'Discounted Price')\n",
        ".group('Drink', min)\n",
        ")"
      ]
    },
    {
      "cell_type": "markdown",
      "metadata": {
        "id": "QMRmJ5aCj8JR"
      },
      "source": [
        "**Exercise**: What happens if I run the following? How many rows will it produce?"
      ]
    },
    {
      "cell_type": "code",
      "execution_count": null,
      "metadata": {
        "colab": {
          "base_uri": "https://localhost:8080/",
          "height": 238
        },
        "id": "Ffc_RDXQXKFT",
        "outputId": "5c43b9dd-adeb-4eca-ed8b-790c816693c1"
      },
      "outputs": [],
      "source": [
        "drinks.join('Cafe', drinks, 'Cafe')"
      ]
    }
  ],
  "metadata": {
    "anaconda-cloud": {},
    "colab": {
      "provenance": [],
      "toc_visible": true
    },
    "kernelspec": {
      "display_name": "Python 3",
      "language": "python",
      "name": "python3"
    },
    "language_info": {
      "codemirror_mode": {
        "name": "ipython",
        "version": 3
      },
      "file_extension": ".py",
      "mimetype": "text/x-python",
      "name": "python",
      "nbconvert_exporter": "python",
      "pygments_lexer": "ipython3",
      "version": "3.10.12"
    }
  },
  "nbformat": 4,
  "nbformat_minor": 0
}
