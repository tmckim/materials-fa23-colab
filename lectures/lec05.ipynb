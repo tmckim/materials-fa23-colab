{
  "cells": [
    {
      "cell_type": "markdown",
      "metadata": {
        "id": "c_rW3jotxj3k"
      },
      "source": [
        "<a href=\"https://colab.research.google.com/github/tmckim/materials-fa23-colab-working/blob/main/lectures/lec05.ipynb\" target=\"_parent\"><img src=\"https://colab.research.google.com/assets/colab-badge.svg\" alt=\"Open In Colab\"/></a>"
      ]
    },
    {
      "cell_type": "markdown",
      "metadata": {
        "id": "cWYjwoGLxj3l"
      },
      "source": [
        "## Before you start - Save this notebook!\n",
        "\n",
        "When you open a new Colab notebook from the WebCampus (like you hopefully did for this one), you cannot save changes. So it's  best to store the Colab notebook in your personal drive `\"File > Save a copy in drive...\"` **before** you do anything else.\n",
        "\n",
        "The file will open in a new tab in your web browser, and it is automatically named something like: \"**Copy of lec05.ipynb**\". You can rename this to just the title of the assignment \"**lec05.ipynb**\". Make sure you do keep an informative name (like the name of the assignment) so that you know which files to submit back to WebCampus for grading! More instructions on this are at the end of the notebook.\n",
        "\n",
        "\n",
        "**Where does the notebook get saved in Google Drive?**\n",
        "\n",
        "By default, the notebook will be copied to a folder called “Colab Notebooks” at the root (home directory) of your Google Drive. If you use this for other courses or personal code notebooks, I recommend creating a folder for this course and then moving the assignments AFTER you have completed them."
      ]
    },
    {
      "cell_type": "code",
      "execution_count": null,
      "metadata": {
        "id": "BsMVboPkxj3l"
      },
      "outputs": [],
      "source": [
        "# Setup and add files needed to gdrive\n",
        "# If you restart colab, start by rerunning this cell first!\n",
        "from google.colab import drive\n",
        "drive.mount('/content/gdrive', force_remount=True)\n",
        "\n",
        "#!mkdir -p '/content/gdrive/My Drive/colab-materials-NS499DataSci-notebooks/'\n",
        "%cd /content/gdrive/My Drive/colab-materials-NS499DataSci-notebooks/\n",
        "!rm -r materials-fa23-colab-working\n",
        "\n",
        "!git clone https://github.com/tmckim/materials-fa23-colab-working '/content/gdrive/My Drive/colab-materials-NS499DataSci-notebooks/materials-fa23-colab-working/'\n",
        "\n",
        "%cd /content/gdrive/MyDrive/colab-materials-NS499DataSci-notebooks/materials-fa23-colab-working/lectures/"
      ]
    },
    {
      "cell_type": "code",
      "source": [
        "############### TEST\n",
        "from google.colab import drive\n",
        "drive.mount('/content/gdrive', force_remount=True)\n",
        "\n",
        "%cd /content/gdrive/MyDrive/colab-materials-NS499DataSci-notebooks/materials-fa23-colab-working/lectures/"
      ],
      "metadata": {
        "colab": {
          "base_uri": "https://localhost:8080/"
        },
        "id": "wjHEp6Djxmoy",
        "outputId": "d406d96b-3ccc-449d-cfaf-ac7b57dcdc8f"
      },
      "execution_count": null,
      "outputs": [
        {
          "output_type": "stream",
          "name": "stdout",
          "text": [
            "Mounted at /content/gdrive\n",
            "/content/gdrive/MyDrive/colab-materials-NS499DataSci-notebooks/materials-fa23-colab-working/lectures\n"
          ]
        }
      ]
    },
    {
      "cell_type": "code",
      "execution_count": null,
      "metadata": {
        "id": "a2rqRgEyxj3m"
      },
      "outputs": [],
      "source": [
        "# Import packages and other things needed\n",
        "# Don't change this cell; Just run this cell\n",
        "# If you restart colab, make sure to run this cell again after the first one above^\n",
        "\n",
        "from datascience import *\n",
        "import numpy as np\n",
        "\n",
        "%matplotlib inline\n",
        "import matplotlib.pyplot as plots\n",
        "plots.style.use('fivethirtyeight')\n",
        "import warnings\n",
        "warnings.simplefilter(action='ignore',category=np.VisibleDeprecationWarning)"
      ]
    },
    {
      "cell_type": "markdown",
      "metadata": {
        "id": "JMxGaDubxj3m"
      },
      "source": [
        "## Lecture 05 ##\n",
        "\n",
        "Topics:\n",
        "- Reviewing functions\n",
        "- Working with apply and group\n",
        "- Introduce Python lists\n",
        "- Show how to build tables from rows instead of columns\n",
        "- Introduce pivots - a special kind of grouping\n",
        "- Introduce joins"
      ]
    },
    {
      "cell_type": "markdown",
      "metadata": {
        "id": "0I2OSukdxj3m"
      },
      "source": [
        "## Prediction ##"
      ]
    },
    {
      "cell_type": "markdown",
      "metadata": {
        "id": "57UhfUWGxj3m"
      },
      "source": [
        "Can we predict how tall a child will grow based on the height of their parents?"
      ]
    },
    {
      "cell_type": "markdown",
      "metadata": {
        "id": "MZuHf6Hxxj3n"
      },
      "source": [
        "To do this we will use the famous [Galton's height dataset](https://galton.org/essays/1880-1889/galton-1886-jaigi-regression-stature.pdf) that was collected to demonstrate the connection between parent's heights and the height of their children.\n"
      ]
    },
    {
      "cell_type": "code",
      "execution_count": null,
      "metadata": {
        "scrolled": true,
        "colab": {
          "base_uri": "https://localhost:8080/",
          "height": 392
        },
        "id": "-I_Om-jcxj3n",
        "outputId": "cf9e7fac-591c-4dd3-abf0-48d27f88038f"
      },
      "outputs": [
        {
          "output_type": "execute_result",
          "data": {
            "text/plain": [
              "family | father | mother | child | children | order | sex\n",
              "1      | 78.5   | 67     | 73.2  | 4        | 1     | male\n",
              "1      | 78.5   | 67     | 69.2  | 4        | 2     | female\n",
              "1      | 78.5   | 67     | 69    | 4        | 3     | female\n",
              "1      | 78.5   | 67     | 69    | 4        | 4     | female\n",
              "2      | 75.5   | 66.5   | 73.5  | 4        | 1     | male\n",
              "2      | 75.5   | 66.5   | 72.5  | 4        | 2     | male\n",
              "2      | 75.5   | 66.5   | 65.5  | 4        | 3     | female\n",
              "2      | 75.5   | 66.5   | 65.5  | 4        | 4     | female\n",
              "3      | 75     | 64     | 71    | 2        | 1     | male\n",
              "3      | 75     | 64     | 68    | 2        | 2     | female\n",
              "... (924 rows omitted)"
            ],
            "text/html": [
              "<table border=\"1\" class=\"dataframe\">\n",
              "    <thead>\n",
              "        <tr>\n",
              "            <th>family</th> <th>father</th> <th>mother</th> <th>child</th> <th>children</th> <th>order</th> <th>sex</th>\n",
              "        </tr>\n",
              "    </thead>\n",
              "    <tbody>\n",
              "        <tr>\n",
              "            <td>1     </td> <td>78.5  </td> <td>67    </td> <td>73.2 </td> <td>4       </td> <td>1    </td> <td>male  </td>\n",
              "        </tr>\n",
              "        <tr>\n",
              "            <td>1     </td> <td>78.5  </td> <td>67    </td> <td>69.2 </td> <td>4       </td> <td>2    </td> <td>female</td>\n",
              "        </tr>\n",
              "        <tr>\n",
              "            <td>1     </td> <td>78.5  </td> <td>67    </td> <td>69   </td> <td>4       </td> <td>3    </td> <td>female</td>\n",
              "        </tr>\n",
              "        <tr>\n",
              "            <td>1     </td> <td>78.5  </td> <td>67    </td> <td>69   </td> <td>4       </td> <td>4    </td> <td>female</td>\n",
              "        </tr>\n",
              "        <tr>\n",
              "            <td>2     </td> <td>75.5  </td> <td>66.5  </td> <td>73.5 </td> <td>4       </td> <td>1    </td> <td>male  </td>\n",
              "        </tr>\n",
              "        <tr>\n",
              "            <td>2     </td> <td>75.5  </td> <td>66.5  </td> <td>72.5 </td> <td>4       </td> <td>2    </td> <td>male  </td>\n",
              "        </tr>\n",
              "        <tr>\n",
              "            <td>2     </td> <td>75.5  </td> <td>66.5  </td> <td>65.5 </td> <td>4       </td> <td>3    </td> <td>female</td>\n",
              "        </tr>\n",
              "        <tr>\n",
              "            <td>2     </td> <td>75.5  </td> <td>66.5  </td> <td>65.5 </td> <td>4       </td> <td>4    </td> <td>female</td>\n",
              "        </tr>\n",
              "        <tr>\n",
              "            <td>3     </td> <td>75    </td> <td>64    </td> <td>71   </td> <td>2       </td> <td>1    </td> <td>male  </td>\n",
              "        </tr>\n",
              "        <tr>\n",
              "            <td>3     </td> <td>75    </td> <td>64    </td> <td>68   </td> <td>2       </td> <td>2    </td> <td>female</td>\n",
              "        </tr>\n",
              "    </tbody>\n",
              "</table>\n",
              "<p>... (924 rows omitted)</p>"
            ]
          },
          "metadata": {},
          "execution_count": 10
        }
      ],
      "source": [
        "# Read in the table of data\n",
        "families = Table.read_table('family_heights.csv')\n",
        "families"
      ]
    },
    {
      "cell_type": "markdown",
      "metadata": {
        "id": "eggqkcBsxj3n"
      },
      "source": [
        "## Exploring the Data ##\n",
        "\n",
        "**Exercise**: Add a column `parent average` containing the average height of both parents."
      ]
    },
    {
      "cell_type": "code",
      "execution_count": null,
      "metadata": {
        "colab": {
          "base_uri": "https://localhost:8080/",
          "height": 392
        },
        "id": "IuqYLdsExj3n",
        "outputId": "d659c819-2d3c-4c92-f69a-83801d26c689"
      },
      "outputs": [
        {
          "output_type": "execute_result",
          "data": {
            "text/plain": [
              "family | father | mother | child | children | order | sex    | parent average\n",
              "1      | 78.5   | 67     | 73.2  | 4        | 1     | male   | 72.75\n",
              "1      | 78.5   | 67     | 69.2  | 4        | 2     | female | 72.75\n",
              "1      | 78.5   | 67     | 69    | 4        | 3     | female | 72.75\n",
              "1      | 78.5   | 67     | 69    | 4        | 4     | female | 72.75\n",
              "2      | 75.5   | 66.5   | 73.5  | 4        | 1     | male   | 71\n",
              "2      | 75.5   | 66.5   | 72.5  | 4        | 2     | male   | 71\n",
              "2      | 75.5   | 66.5   | 65.5  | 4        | 3     | female | 71\n",
              "2      | 75.5   | 66.5   | 65.5  | 4        | 4     | female | 71\n",
              "3      | 75     | 64     | 71    | 2        | 1     | male   | 69.5\n",
              "3      | 75     | 64     | 68    | 2        | 2     | female | 69.5\n",
              "... (924 rows omitted)"
            ],
            "text/html": [
              "<table border=\"1\" class=\"dataframe\">\n",
              "    <thead>\n",
              "        <tr>\n",
              "            <th>family</th> <th>father</th> <th>mother</th> <th>child</th> <th>children</th> <th>order</th> <th>sex</th> <th>parent average</th>\n",
              "        </tr>\n",
              "    </thead>\n",
              "    <tbody>\n",
              "        <tr>\n",
              "            <td>1     </td> <td>78.5  </td> <td>67    </td> <td>73.2 </td> <td>4       </td> <td>1    </td> <td>male  </td> <td>72.75         </td>\n",
              "        </tr>\n",
              "        <tr>\n",
              "            <td>1     </td> <td>78.5  </td> <td>67    </td> <td>69.2 </td> <td>4       </td> <td>2    </td> <td>female</td> <td>72.75         </td>\n",
              "        </tr>\n",
              "        <tr>\n",
              "            <td>1     </td> <td>78.5  </td> <td>67    </td> <td>69   </td> <td>4       </td> <td>3    </td> <td>female</td> <td>72.75         </td>\n",
              "        </tr>\n",
              "        <tr>\n",
              "            <td>1     </td> <td>78.5  </td> <td>67    </td> <td>69   </td> <td>4       </td> <td>4    </td> <td>female</td> <td>72.75         </td>\n",
              "        </tr>\n",
              "        <tr>\n",
              "            <td>2     </td> <td>75.5  </td> <td>66.5  </td> <td>73.5 </td> <td>4       </td> <td>1    </td> <td>male  </td> <td>71            </td>\n",
              "        </tr>\n",
              "        <tr>\n",
              "            <td>2     </td> <td>75.5  </td> <td>66.5  </td> <td>72.5 </td> <td>4       </td> <td>2    </td> <td>male  </td> <td>71            </td>\n",
              "        </tr>\n",
              "        <tr>\n",
              "            <td>2     </td> <td>75.5  </td> <td>66.5  </td> <td>65.5 </td> <td>4       </td> <td>3    </td> <td>female</td> <td>71            </td>\n",
              "        </tr>\n",
              "        <tr>\n",
              "            <td>2     </td> <td>75.5  </td> <td>66.5  </td> <td>65.5 </td> <td>4       </td> <td>4    </td> <td>female</td> <td>71            </td>\n",
              "        </tr>\n",
              "        <tr>\n",
              "            <td>3     </td> <td>75    </td> <td>64    </td> <td>71   </td> <td>2       </td> <td>1    </td> <td>male  </td> <td>69.5          </td>\n",
              "        </tr>\n",
              "        <tr>\n",
              "            <td>3     </td> <td>75    </td> <td>64    </td> <td>68   </td> <td>2       </td> <td>2    </td> <td>female</td> <td>69.5          </td>\n",
              "        </tr>\n",
              "    </tbody>\n",
              "</table>\n",
              "<p>... (924 rows omitted)</p>"
            ]
          },
          "metadata": {},
          "execution_count": 11
        }
      ],
      "source": [
        "families = families.with_columns(\n",
        "    'parent average', (families.column('father') + families.column('mother'))/2)\n",
        "families"
      ]
    },
    {
      "cell_type": "markdown",
      "metadata": {
        "id": "MfvZp_Fcxj3n"
      },
      "source": [
        "What is the relationship between a child's height and the average parent's height?"
      ]
    },
    {
      "cell_type": "markdown",
      "metadata": {
        "id": "Xa_ZmdCaxj3n"
      },
      "source": [
        "**Exercise**: make a scatterplot showing the relationship between `parent average` and the `child` height"
      ]
    },
    {
      "cell_type": "code",
      "execution_count": null,
      "metadata": {
        "colab": {
          "base_uri": "https://localhost:8080/",
          "height": 496
        },
        "id": "mLkzzX5Lxj3n",
        "outputId": "4a8ddf61-e1ea-46eb-a09b-da9e6d6c9eff"
      },
      "outputs": [
        {
          "output_type": "display_data",
          "data": {
            "text/plain": [
              "<Figure size 500x500 with 1 Axes>"
            ],
            "image/png": "[encoded data removed]"
          },
          "metadata": {}
        }
      ],
      "source": [
        "# Scatterplot\n",
        "families.scatter('parent average', 'child')"
      ]
    },
    {
      "cell_type": "markdown",
      "metadata": {
        "id": "tO_wu3tOxj3n"
      },
      "source": [
        "Questions:\n",
        "1. Do we observe a relationship between child and parent height?\n",
        "2. Would a line plot help reveal that relationship?"
      ]
    },
    {
      "cell_type": "code",
      "source": [
        "# How do we draw a line plot?\n",
        "families.plot('parent average', 'child', marker = 'o')"
      ],
      "metadata": {
        "colab": {
          "base_uri": "https://localhost:8080/",
          "height": 577
        },
        "id": "IF4MuM8p3vYM",
        "outputId": "a7ba0b80-3fe1-4333-88af-3419b682e5c8"
      },
      "execution_count": null,
      "outputs": [
        {
          "output_type": "display_data",
          "data": {
            "text/plain": [
              "<Figure size 600x600 with 1 Axes>"
            ],
            "image/png": "[encoded data removed]"
          },
          "metadata": {}
        }
      ]
    },
    {
      "cell_type": "markdown",
      "metadata": {
        "id": "1-UPFK_wxj3n"
      },
      "source": [
        "## Making a Prediction ##\n",
        "\n",
        "If we wanted to predict the height of a child given the height of the parents, we could look at the height of children with parents who have a similar average height."
      ]
    },
    {
      "cell_type": "code",
      "execution_count": null,
      "metadata": {
        "id": "7lS8GGO8xj3o"
      },
      "outputs": [],
      "source": [
        "# Example parent height values\n",
        "parent1_height = 5*12 + 10 # 5 ft 10 inches\n",
        "parent2_height = 5*12+7 # 5 ft 7 inches"
      ]
    },
    {
      "cell_type": "code",
      "execution_count": null,
      "metadata": {
        "colab": {
          "base_uri": "https://localhost:8080/"
        },
        "id": "zfZCr7i2xj3o",
        "outputId": "00e5493a-f616-48de-d0f7-84f5b3c0da81"
      },
      "outputs": [
        {
          "output_type": "execute_result",
          "data": {
            "text/plain": [
              "68.5"
            ]
          },
          "metadata": {},
          "execution_count": 21
        }
      ],
      "source": [
        "# Calc parent average\n",
        "calc_parent_avg = (parent1_height + parent2_height)/2\n",
        "calc_parent_avg"
      ]
    },
    {
      "cell_type": "markdown",
      "metadata": {
        "id": "jexRfhpGxj3o"
      },
      "source": [
        "Let's look at parents that are within 1 inch of our height"
      ]
    },
    {
      "cell_type": "code",
      "execution_count": null,
      "metadata": {
        "id": "QLVvoyODxj3o"
      },
      "outputs": [],
      "source": [
        "window = 1\n",
        "lower_bound = calc_parent_avg - window\n",
        "upper_bound = calc_parent_avg + window"
      ]
    },
    {
      "cell_type": "code",
      "execution_count": null,
      "metadata": {
        "colab": {
          "base_uri": "https://localhost:8080/",
          "height": 491
        },
        "id": "LdW0NZcCxj3o",
        "outputId": "9cade198-186d-4c74-f73d-8b64deff530d"
      },
      "outputs": [
        {
          "output_type": "display_data",
          "data": {
            "text/plain": [
              "<Figure size 500x500 with 1 Axes>"
            ],
            "image/png": "[encoded data removed]"
          },
          "metadata": {}
        }
      ],
      "source": [
        "# Scatterplot\n",
        "families.scatter('parent average', 'child')\n",
        "# you don't need to know the details of this plotting code yet\n",
        "plots.plot([lower_bound, lower_bound], [50, 85], color='red', lw=2)\n",
        "plots.plot([calc_parent_avg, calc_parent_avg], [50, 85], color='orange', lw=2);\n",
        "plots.plot([upper_bound, upper_bound], [50, 85], color='red', lw=2);"
      ]
    },
    {
      "cell_type": "markdown",
      "metadata": {
        "id": "VRRXbe-ixj3o"
      },
      "source": [
        "**Exercise**: Create a function that takes an average of the parent heights and returns ***an array of all the children's heights*** that are within the window of the parent's average height."
      ]
    },
    {
      "cell_type": "code",
      "execution_count": null,
      "metadata": {
        "id": "H1twg4Tlxj3o"
      },
      "outputs": [],
      "source": [
        "def similar_child_heights(parent_average):\n",
        "    lower_bound = parent_average - window\n",
        "    upper_bound = parent_average + window\n",
        "    return (\n",
        "        families\n",
        "        .where(\"parent average\", are.between(lower_bound, upper_bound))\n",
        "        .column(\"child\")\n",
        "    )"
      ]
    },
    {
      "cell_type": "markdown",
      "metadata": {
        "id": "6825g9Pgxj3o"
      },
      "source": [
        "Test the function:"
      ]
    },
    {
      "cell_type": "code",
      "execution_count": null,
      "metadata": {
        "colab": {
          "base_uri": "https://localhost:8080/"
        },
        "id": "njQObuUrxj3o",
        "outputId": "d745d68c-c95d-4563-a6e3-3124f46016d6"
      },
      "outputs": [
        {
          "output_type": "execute_result",
          "data": {
            "text/plain": [
              "array([ 74. ,  70. ,  68. ,  67. ,  67. ,  66. ,  63.5,  63. ,  74. ,\n",
              "        73. ,  71.5,  62.5,  66.5,  62.3,  66. ,  64.5,  64. ,  62.7,\n",
              "        74.2,  70.5,  69.5,  66. ,  65.5,  65. ,  65. ,  65.5,  66. ,\n",
              "        63. ,  67.5,  67.2,  66.7,  70. ,  67. ,  67. ,  66.5,  70. ,\n",
              "        69. ,  68.5,  66. ,  64.5,  63. ,  71. ,  67. ,  76. ,  72. ,\n",
              "        71. ,  66. ,  66. ,  70.5,  72. ,  72. ,  71. ,  69. ,  66. ,\n",
              "        65. ,  73. ,  65.2,  68.5,  67.7,  68. ,  68. ,  62. ,  72. ,\n",
              "        71. ,  70.5,  67. ,  72. ,  71. ,  70. ,  66. ,  64.5,  64.5,\n",
              "        62. ,  70. ,  69. ,  66. ,  64. ,  60. ,  67.5,  73. ,  72. ,\n",
              "        72. ,  66.5,  69.2,  67.2,  66.5,  66. ,  66. ,  64.2,  63.7,\n",
              "        75. ,  71. ,  70. ,  66. ,  66. ,  65.5,  65. ,  65. ,  64. ,\n",
              "        64. ,  64. ,  70.5,  67.5,  64.5,  64. ])"
            ]
          },
          "metadata": {},
          "execution_count": 27
        }
      ],
      "source": [
        "# window = 1.0 originally\n",
        "# window = 5.0 # smaller or larger- what happens?\n",
        "similar_child_heights(calc_parent_avg)"
      ]
    },
    {
      "cell_type": "markdown",
      "metadata": {
        "id": "50QCvyxBxj3p"
      },
      "source": [
        "**Exercise**: Create a function to predict the child's height as the average of the height of children within the window of the average parent height."
      ]
    },
    {
      "cell_type": "code",
      "execution_count": null,
      "metadata": {
        "id": "HHdBBtzDxj3p"
      },
      "outputs": [],
      "source": [
        "# Create a new function that uses our previous function\n",
        "def predict_child_height(parent_average):\n",
        "    return np.average(similar_child_heights(parent_average))"
      ]
    },
    {
      "cell_type": "code",
      "execution_count": null,
      "metadata": {
        "colab": {
          "base_uri": "https://localhost:8080/"
        },
        "id": "GOeLdQWxxj3p",
        "outputId": "60e86520-6e4c-4bf3-d5f2-c674b22757b0"
      },
      "outputs": [
        {
          "output_type": "execute_result",
          "data": {
            "text/plain": [
              "67.531428571428577"
            ]
          },
          "metadata": {},
          "execution_count": 33
        }
      ],
      "source": [
        "# Test the function to get our mean\n",
        "predict_child_height(calc_parent_avg)"
      ]
    },
    {
      "cell_type": "markdown",
      "metadata": {
        "id": "P8dS0ic0xj3p"
      },
      "source": [
        "Let's plot the predicted height as well as the distribution of children's heights:"
      ]
    },
    {
      "cell_type": "code",
      "execution_count": null,
      "metadata": {
        "colab": {
          "base_uri": "https://localhost:8080/",
          "height": 452
        },
        "id": "XooTn8B_xj3p",
        "outputId": "5a8994e9-1c65-4334-aae9-064faff1d005"
      },
      "outputs": [
        {
          "output_type": "stream",
          "name": "stdout",
          "text": [
            "Mean: 67.5314285714\n"
          ]
        },
        {
          "output_type": "execute_result",
          "data": {
            "text/plain": [
              "[<matplotlib.lines.Line2D at 0x791fd3803e20>]"
            ]
          },
          "metadata": {},
          "execution_count": 34
        },
        {
          "output_type": "display_data",
          "data": {
            "text/plain": [
              "<Figure size 600x400 with 1 Axes>"
            ],
            "image/png": "[encoded data removed]"
          },
          "metadata": {}
        }
      ],
      "source": [
        "# window = 1.0\n",
        "similar = similar_child_heights(calc_parent_avg) # array of heights from our first function\n",
        "predicted_height = predict_child_height(calc_parent_avg) # single # for the average from our second function\n",
        "\n",
        "print(\"Mean:\", predicted_height)\n",
        "Table().with_column(\"child\", similar).hist(\"child\", bins= 20) # new table with the values in the array to plot with hist\n",
        "plots.plot([predicted_height, predicted_height], [0,0.1], color = \"red\") # added a line for the average that we calculated"
      ]
    },
    {
      "cell_type": "markdown",
      "metadata": {
        "id": "o6lVs1P7xj3p"
      },
      "source": [
        "## Prediction Accuracy: Evaluating the Predictions ##"
      ]
    },
    {
      "cell_type": "markdown",
      "metadata": {
        "id": "M_htK_tjxj3p"
      },
      "source": [
        "To evalute the predictions, let's see how the predictions compare to the actual heights of all the children in our dataset."
      ]
    },
    {
      "cell_type": "markdown",
      "metadata": {
        "id": "30XD22S_xj3p"
      },
      "source": [
        "**Exercise**: Apply the function (using `appy`) to all the parent averages in the table and save the result to the `predicted` column."
      ]
    },
    {
      "cell_type": "code",
      "execution_count": null,
      "metadata": {
        "colab": {
          "base_uri": "https://localhost:8080/",
          "height": 392
        },
        "id": "j3GaWzllxj3p",
        "outputId": "df777ad8-767e-4e5c-8170-ef048c4e04ab"
      },
      "outputs": [
        {
          "output_type": "execute_result",
          "data": {
            "text/plain": [
              "family | father | mother | child | children | order | sex    | parent average | predicted\n",
              "1      | 78.5   | 67     | 73.2  | 4        | 1     | male   | 72.75          | 70.1\n",
              "1      | 78.5   | 67     | 69.2  | 4        | 2     | female | 72.75          | 70.1\n",
              "1      | 78.5   | 67     | 69    | 4        | 3     | female | 72.75          | 70.1\n",
              "1      | 78.5   | 67     | 69    | 4        | 4     | female | 72.75          | 70.1\n",
              "2      | 75.5   | 66.5   | 73.5  | 4        | 1     | male   | 71             | 70.4158\n",
              "2      | 75.5   | 66.5   | 72.5  | 4        | 2     | male   | 71             | 70.4158\n",
              "2      | 75.5   | 66.5   | 65.5  | 4        | 3     | female | 71             | 70.4158\n",
              "2      | 75.5   | 66.5   | 65.5  | 4        | 4     | female | 71             | 70.4158\n",
              "3      | 75     | 64     | 71    | 2        | 1     | male   | 69.5           | 68.5025\n",
              "3      | 75     | 64     | 68    | 2        | 2     | female | 69.5           | 68.5025\n",
              "... (924 rows omitted)"
            ],
            "text/html": [
              "<table border=\"1\" class=\"dataframe\">\n",
              "    <thead>\n",
              "        <tr>\n",
              "            <th>family</th> <th>father</th> <th>mother</th> <th>child</th> <th>children</th> <th>order</th> <th>sex</th> <th>parent average</th> <th>predicted</th>\n",
              "        </tr>\n",
              "    </thead>\n",
              "    <tbody>\n",
              "        <tr>\n",
              "            <td>1     </td> <td>78.5  </td> <td>67    </td> <td>73.2 </td> <td>4       </td> <td>1    </td> <td>male  </td> <td>72.75         </td> <td>70.1     </td>\n",
              "        </tr>\n",
              "        <tr>\n",
              "            <td>1     </td> <td>78.5  </td> <td>67    </td> <td>69.2 </td> <td>4       </td> <td>2    </td> <td>female</td> <td>72.75         </td> <td>70.1     </td>\n",
              "        </tr>\n",
              "        <tr>\n",
              "            <td>1     </td> <td>78.5  </td> <td>67    </td> <td>69   </td> <td>4       </td> <td>3    </td> <td>female</td> <td>72.75         </td> <td>70.1     </td>\n",
              "        </tr>\n",
              "        <tr>\n",
              "            <td>1     </td> <td>78.5  </td> <td>67    </td> <td>69   </td> <td>4       </td> <td>4    </td> <td>female</td> <td>72.75         </td> <td>70.1     </td>\n",
              "        </tr>\n",
              "        <tr>\n",
              "            <td>2     </td> <td>75.5  </td> <td>66.5  </td> <td>73.5 </td> <td>4       </td> <td>1    </td> <td>male  </td> <td>71            </td> <td>70.4158  </td>\n",
              "        </tr>\n",
              "        <tr>\n",
              "            <td>2     </td> <td>75.5  </td> <td>66.5  </td> <td>72.5 </td> <td>4       </td> <td>2    </td> <td>male  </td> <td>71            </td> <td>70.4158  </td>\n",
              "        </tr>\n",
              "        <tr>\n",
              "            <td>2     </td> <td>75.5  </td> <td>66.5  </td> <td>65.5 </td> <td>4       </td> <td>3    </td> <td>female</td> <td>71            </td> <td>70.4158  </td>\n",
              "        </tr>\n",
              "        <tr>\n",
              "            <td>2     </td> <td>75.5  </td> <td>66.5  </td> <td>65.5 </td> <td>4       </td> <td>4    </td> <td>female</td> <td>71            </td> <td>70.4158  </td>\n",
              "        </tr>\n",
              "        <tr>\n",
              "            <td>3     </td> <td>75    </td> <td>64    </td> <td>71   </td> <td>2       </td> <td>1    </td> <td>male  </td> <td>69.5          </td> <td>68.5025  </td>\n",
              "        </tr>\n",
              "        <tr>\n",
              "            <td>3     </td> <td>75    </td> <td>64    </td> <td>68   </td> <td>2       </td> <td>2    </td> <td>female</td> <td>69.5          </td> <td>68.5025  </td>\n",
              "        </tr>\n",
              "    </tbody>\n",
              "</table>\n",
              "<p>... (924 rows omitted)</p>"
            ]
          },
          "metadata": {},
          "execution_count": 36
        }
      ],
      "source": [
        "# window = 1.0\n",
        "families = families.with_column(\n",
        "    \"predicted\", families.apply(predict_child_height, \"parent average\")\n",
        ")\n",
        "families"
      ]
    },
    {
      "cell_type": "markdown",
      "metadata": {
        "id": "NgapSHolxj3p"
      },
      "source": [
        "**Exercise**: Construct a scatterplot with the `parent average` height on the x-axis and the `child` height and the `predicted` height on the y-axis."
      ]
    },
    {
      "cell_type": "code",
      "execution_count": null,
      "metadata": {
        "colab": {
          "base_uri": "https://localhost:8080/",
          "height": 499
        },
        "id": "5OFGqnkuxj3p",
        "outputId": "4c7658f0-08e1-427e-aeed-a8247a37ec3d"
      },
      "outputs": [
        {
          "output_type": "display_data",
          "data": {
            "text/plain": [
              "<Figure size 500x500 with 1 Axes>"
            ],
            "image/png": "[encoded data removed]"
          },
          "metadata": {}
        }
      ],
      "source": [
        "families.select(\"parent average\", \"child\", \"predicted\").scatter(\"parent average\")"
      ]
    },
    {
      "cell_type": "markdown",
      "metadata": {
        "id": "10iJP7Evxj3p"
      },
      "source": [
        "**Discussion**: What do we see in this plot?"
      ]
    },
    {
      "cell_type": "markdown",
      "metadata": {
        "id": "3MpQ0FuDxj3q"
      },
      "source": [
        "**Exercise**: Define a function to compute the error (the difference) between the predicted value and the true value. Apply that function to the table adding a column containing the `error`. Then construct a histogram of the errors."
      ]
    },
    {
      "cell_type": "code",
      "execution_count": null,
      "metadata": {
        "colab": {
          "base_uri": "https://localhost:8080/",
          "height": 392
        },
        "id": "WkwLm15Yxj3q",
        "outputId": "4ee730ff-e3ee-4ca2-e182-0be365d7660d"
      },
      "outputs": [
        {
          "output_type": "execute_result",
          "data": {
            "text/plain": [
              "family | father | mother | child | children | order | sex    | parent average | predicted | error\n",
              "1      | 78.5   | 67     | 73.2  | 4        | 1     | male   | 72.75          | 70.1      | -3.1\n",
              "1      | 78.5   | 67     | 69.2  | 4        | 2     | female | 72.75          | 70.1      | 0.9\n",
              "1      | 78.5   | 67     | 69    | 4        | 3     | female | 72.75          | 70.1      | 1.1\n",
              "1      | 78.5   | 67     | 69    | 4        | 4     | female | 72.75          | 70.1      | 1.1\n",
              "2      | 75.5   | 66.5   | 73.5  | 4        | 1     | male   | 71             | 70.4158   | -3.08421\n",
              "2      | 75.5   | 66.5   | 72.5  | 4        | 2     | male   | 71             | 70.4158   | -2.08421\n",
              "2      | 75.5   | 66.5   | 65.5  | 4        | 3     | female | 71             | 70.4158   | 4.91579\n",
              "2      | 75.5   | 66.5   | 65.5  | 4        | 4     | female | 71             | 70.4158   | 4.91579\n",
              "3      | 75     | 64     | 71    | 2        | 1     | male   | 69.5           | 68.5025   | -2.4975\n",
              "3      | 75     | 64     | 68    | 2        | 2     | female | 69.5           | 68.5025   | 0.5025\n",
              "... (924 rows omitted)"
            ],
            "text/html": [
              "<table border=\"1\" class=\"dataframe\">\n",
              "    <thead>\n",
              "        <tr>\n",
              "            <th>family</th> <th>father</th> <th>mother</th> <th>child</th> <th>children</th> <th>order</th> <th>sex</th> <th>parent average</th> <th>predicted</th> <th>error</th>\n",
              "        </tr>\n",
              "    </thead>\n",
              "    <tbody>\n",
              "        <tr>\n",
              "            <td>1     </td> <td>78.5  </td> <td>67    </td> <td>73.2 </td> <td>4       </td> <td>1    </td> <td>male  </td> <td>72.75         </td> <td>70.1     </td> <td>-3.1    </td>\n",
              "        </tr>\n",
              "        <tr>\n",
              "            <td>1     </td> <td>78.5  </td> <td>67    </td> <td>69.2 </td> <td>4       </td> <td>2    </td> <td>female</td> <td>72.75         </td> <td>70.1     </td> <td>0.9     </td>\n",
              "        </tr>\n",
              "        <tr>\n",
              "            <td>1     </td> <td>78.5  </td> <td>67    </td> <td>69   </td> <td>4       </td> <td>3    </td> <td>female</td> <td>72.75         </td> <td>70.1     </td> <td>1.1     </td>\n",
              "        </tr>\n",
              "        <tr>\n",
              "            <td>1     </td> <td>78.5  </td> <td>67    </td> <td>69   </td> <td>4       </td> <td>4    </td> <td>female</td> <td>72.75         </td> <td>70.1     </td> <td>1.1     </td>\n",
              "        </tr>\n",
              "        <tr>\n",
              "            <td>2     </td> <td>75.5  </td> <td>66.5  </td> <td>73.5 </td> <td>4       </td> <td>1    </td> <td>male  </td> <td>71            </td> <td>70.4158  </td> <td>-3.08421</td>\n",
              "        </tr>\n",
              "        <tr>\n",
              "            <td>2     </td> <td>75.5  </td> <td>66.5  </td> <td>72.5 </td> <td>4       </td> <td>2    </td> <td>male  </td> <td>71            </td> <td>70.4158  </td> <td>-2.08421</td>\n",
              "        </tr>\n",
              "        <tr>\n",
              "            <td>2     </td> <td>75.5  </td> <td>66.5  </td> <td>65.5 </td> <td>4       </td> <td>3    </td> <td>female</td> <td>71            </td> <td>70.4158  </td> <td>4.91579 </td>\n",
              "        </tr>\n",
              "        <tr>\n",
              "            <td>2     </td> <td>75.5  </td> <td>66.5  </td> <td>65.5 </td> <td>4       </td> <td>4    </td> <td>female</td> <td>71            </td> <td>70.4158  </td> <td>4.91579 </td>\n",
              "        </tr>\n",
              "        <tr>\n",
              "            <td>3     </td> <td>75    </td> <td>64    </td> <td>71   </td> <td>2       </td> <td>1    </td> <td>male  </td> <td>69.5          </td> <td>68.5025  </td> <td>-2.4975 </td>\n",
              "        </tr>\n",
              "        <tr>\n",
              "            <td>3     </td> <td>75    </td> <td>64    </td> <td>68   </td> <td>2       </td> <td>2    </td> <td>female</td> <td>69.5          </td> <td>68.5025  </td> <td>0.5025  </td>\n",
              "        </tr>\n",
              "    </tbody>\n",
              "</table>\n",
              "<p>... (924 rows omitted)</p>"
            ]
          },
          "metadata": {},
          "execution_count": 38
        }
      ],
      "source": [
        "def error(predicted, true_value):\n",
        "    return predicted - true_value\n",
        "\n",
        "families = families.with_column(\n",
        "    \"error\", families.apply(error, \"predicted\", \"child\"))\n",
        "families"
      ]
    },
    {
      "cell_type": "markdown",
      "metadata": {
        "id": "6UNcBscoxj3q"
      },
      "source": [
        "Visualize the distribution of errors:"
      ]
    },
    {
      "cell_type": "code",
      "execution_count": null,
      "metadata": {
        "colab": {
          "base_uri": "https://localhost:8080/",
          "height": 410
        },
        "id": "rZHXTz8ixj3q",
        "outputId": "0ea9df74-9ae3-49c6-9bec-fe9e1cec76b3"
      },
      "outputs": [
        {
          "output_type": "display_data",
          "data": {
            "text/plain": [
              "<Figure size 600x400 with 1 Axes>"
            ],
            "image/png": "[encoded data removed]"
          },
          "metadata": {}
        }
      ],
      "source": [
        "families.hist('error')"
      ]
    },
    {
      "cell_type": "markdown",
      "metadata": {
        "id": "HOjRhPW7xj3q"
      },
      "source": [
        "**Exercise**: Overlay the histograms of the error for male and female children."
      ]
    },
    {
      "cell_type": "code",
      "execution_count": null,
      "metadata": {
        "colab": {
          "base_uri": "https://localhost:8080/",
          "height": 410
        },
        "id": "l8eNowsTxj3q",
        "outputId": "51994cb9-49bc-464d-a79c-c4495906027e"
      },
      "outputs": [
        {
          "output_type": "display_data",
          "data": {
            "text/plain": [
              "<Figure size 600x400 with 1 Axes>"
            ],
            "image/png": "[encoded data removed]"
          },
          "metadata": {}
        }
      ],
      "source": [
        "families.hist('error', group='sex')"
      ]
    },
    {
      "cell_type": "markdown",
      "metadata": {
        "id": "eFr70CqJxj3q"
      },
      "source": [
        "**Discussion**: What do we observe?"
      ]
    },
    {
      "cell_type": "markdown",
      "metadata": {
        "id": "rV_ovxf6xj3q"
      },
      "source": [
        "# Discussion Question: Building a Better Predictor"
      ]
    },
    {
      "cell_type": "markdown",
      "metadata": {
        "id": "36H9ganuxj3q"
      },
      "source": [
        "**Exercise**: Implement a new height prediction function that considers the averages of the height of children with the same sex and whose parents had a similar height.<br><br>\n",
        "\n",
        "Start by reviewing our previous function:\n",
        "```\n",
        "def similar_child_heights(parent_average):\n",
        "    lower_bound = parent_average - window\n",
        "    upper_bound = parent_average + window\n",
        "    return np.average(\n",
        "        families\n",
        "        .where(\"parent average\", are.between(lower_bound, upper_bound))\n",
        "        .column(\"child\")\n",
        "    )\n",
        "```\n",
        "\n"
      ]
    },
    {
      "cell_type": "code",
      "execution_count": null,
      "metadata": {
        "id": "8Cdjc50vxj3r"
      },
      "outputs": [],
      "source": [
        "def predict_child_height_with_sex(parent_average,sex):\n",
        "    lower_bound = parent_average - window\n",
        "    upper_bound = parent_average + window\n",
        "    return np.average(\n",
        "        families\n",
        "        .where(\"sex\", sex)\n",
        "        .where(\"parent average\", are.between(lower_bound, upper_bound))\n",
        "        .column(\"child\")\n",
        "    )"
      ]
    },
    {
      "cell_type": "code",
      "execution_count": null,
      "metadata": {
        "colab": {
          "base_uri": "https://localhost:8080/"
        },
        "id": "BbkhEHGBxj3r",
        "outputId": "ba815eec-bf64-419b-c1ce-a3461498ff4b"
      },
      "outputs": [
        {
          "output_type": "execute_result",
          "data": {
            "text/plain": [
              "65.256666666666661"
            ]
          },
          "metadata": {},
          "execution_count": 45
        }
      ],
      "source": [
        "predict_child_height_with_sex(calc_parent_avg, 'female')"
      ]
    },
    {
      "cell_type": "code",
      "execution_count": null,
      "metadata": {
        "colab": {
          "base_uri": "https://localhost:8080/"
        },
        "id": "eyQ3AAOyxj3r",
        "outputId": "ffcacc2e-2a4a-49b7-83db-c3d7bc126407"
      },
      "outputs": [
        {
          "output_type": "execute_result",
          "data": {
            "text/plain": [
              "70.564444444444447"
            ]
          },
          "metadata": {},
          "execution_count": 46
        }
      ],
      "source": [
        "predict_child_height_with_sex(calc_parent_avg, 'male')"
      ]
    },
    {
      "cell_type": "markdown",
      "metadata": {
        "id": "BkiXXZ2kxj3r"
      },
      "source": [
        "**Exercise**: Apply the better predictor to the table and save the predictions in a column called `predicted with sex`."
      ]
    },
    {
      "cell_type": "code",
      "execution_count": null,
      "metadata": {
        "colab": {
          "base_uri": "https://localhost:8080/",
          "height": 392
        },
        "id": "HNjzjBDdxj3r",
        "outputId": "8c6bd2b3-90df-40aa-e149-9e9ff93e107e"
      },
      "outputs": [
        {
          "output_type": "execute_result",
          "data": {
            "text/plain": [
              "family | father | mother | child | children | order | sex    | parent average | predicted | error    | predicted with sex\n",
              "1      | 78.5   | 67     | 73.2  | 4        | 1     | male   | 72.75          | 70.1      | -3.1     | 73.2\n",
              "1      | 78.5   | 67     | 69.2  | 4        | 2     | female | 72.75          | 70.1      | 0.9      | 69.0667\n",
              "1      | 78.5   | 67     | 69    | 4        | 3     | female | 72.75          | 70.1      | 1.1      | 69.0667\n",
              "1      | 78.5   | 67     | 69    | 4        | 4     | female | 72.75          | 70.1      | 1.1      | 69.0667\n",
              "2      | 75.5   | 66.5   | 73.5  | 4        | 1     | male   | 71             | 70.4158   | -3.08421 | 73.4889\n",
              "2      | 75.5   | 66.5   | 72.5  | 4        | 2     | male   | 71             | 70.4158   | -2.08421 | 73.4889\n",
              "2      | 75.5   | 66.5   | 65.5  | 4        | 3     | female | 71             | 70.4158   | 4.91579  | 67.65\n",
              "2      | 75.5   | 66.5   | 65.5  | 4        | 4     | female | 71             | 70.4158   | 4.91579  | 67.65\n",
              "3      | 75     | 64     | 71    | 2        | 1     | male   | 69.5           | 68.5025   | -2.4975  | 70.7955\n",
              "3      | 75     | 64     | 68    | 2        | 2     | female | 69.5           | 68.5025   | 0.5025   | 65.7\n",
              "... (924 rows omitted)"
            ],
            "text/html": [
              "<table border=\"1\" class=\"dataframe\">\n",
              "    <thead>\n",
              "        <tr>\n",
              "            <th>family</th> <th>father</th> <th>mother</th> <th>child</th> <th>children</th> <th>order</th> <th>sex</th> <th>parent average</th> <th>predicted</th> <th>error</th> <th>predicted with sex</th>\n",
              "        </tr>\n",
              "    </thead>\n",
              "    <tbody>\n",
              "        <tr>\n",
              "            <td>1     </td> <td>78.5  </td> <td>67    </td> <td>73.2 </td> <td>4       </td> <td>1    </td> <td>male  </td> <td>72.75         </td> <td>70.1     </td> <td>-3.1    </td> <td>73.2              </td>\n",
              "        </tr>\n",
              "        <tr>\n",
              "            <td>1     </td> <td>78.5  </td> <td>67    </td> <td>69.2 </td> <td>4       </td> <td>2    </td> <td>female</td> <td>72.75         </td> <td>70.1     </td> <td>0.9     </td> <td>69.0667           </td>\n",
              "        </tr>\n",
              "        <tr>\n",
              "            <td>1     </td> <td>78.5  </td> <td>67    </td> <td>69   </td> <td>4       </td> <td>3    </td> <td>female</td> <td>72.75         </td> <td>70.1     </td> <td>1.1     </td> <td>69.0667           </td>\n",
              "        </tr>\n",
              "        <tr>\n",
              "            <td>1     </td> <td>78.5  </td> <td>67    </td> <td>69   </td> <td>4       </td> <td>4    </td> <td>female</td> <td>72.75         </td> <td>70.1     </td> <td>1.1     </td> <td>69.0667           </td>\n",
              "        </tr>\n",
              "        <tr>\n",
              "            <td>2     </td> <td>75.5  </td> <td>66.5  </td> <td>73.5 </td> <td>4       </td> <td>1    </td> <td>male  </td> <td>71            </td> <td>70.4158  </td> <td>-3.08421</td> <td>73.4889           </td>\n",
              "        </tr>\n",
              "        <tr>\n",
              "            <td>2     </td> <td>75.5  </td> <td>66.5  </td> <td>72.5 </td> <td>4       </td> <td>2    </td> <td>male  </td> <td>71            </td> <td>70.4158  </td> <td>-2.08421</td> <td>73.4889           </td>\n",
              "        </tr>\n",
              "        <tr>\n",
              "            <td>2     </td> <td>75.5  </td> <td>66.5  </td> <td>65.5 </td> <td>4       </td> <td>3    </td> <td>female</td> <td>71            </td> <td>70.4158  </td> <td>4.91579 </td> <td>67.65             </td>\n",
              "        </tr>\n",
              "        <tr>\n",
              "            <td>2     </td> <td>75.5  </td> <td>66.5  </td> <td>65.5 </td> <td>4       </td> <td>4    </td> <td>female</td> <td>71            </td> <td>70.4158  </td> <td>4.91579 </td> <td>67.65             </td>\n",
              "        </tr>\n",
              "        <tr>\n",
              "            <td>3     </td> <td>75    </td> <td>64    </td> <td>71   </td> <td>2       </td> <td>1    </td> <td>male  </td> <td>69.5          </td> <td>68.5025  </td> <td>-2.4975 </td> <td>70.7955           </td>\n",
              "        </tr>\n",
              "        <tr>\n",
              "            <td>3     </td> <td>75    </td> <td>64    </td> <td>68   </td> <td>2       </td> <td>2    </td> <td>female</td> <td>69.5          </td> <td>68.5025  </td> <td>0.5025  </td> <td>65.7              </td>\n",
              "        </tr>\n",
              "    </tbody>\n",
              "</table>\n",
              "<p>... (924 rows omitted)</p>"
            ]
          },
          "metadata": {},
          "execution_count": 47
        }
      ],
      "source": [
        "families= families.with_column(\n",
        "    \"predicted with sex\", families.apply(predict_child_height_with_sex, \"parent average\", \"sex\")\n",
        ")\n",
        "families"
      ]
    },
    {
      "cell_type": "markdown",
      "metadata": {
        "id": "OqbY6NTCxj3r"
      },
      "source": [
        "**Exercise**: Construct a histogram of the new errors broke down by the sex of the child."
      ]
    },
    {
      "cell_type": "code",
      "execution_count": null,
      "metadata": {
        "colab": {
          "base_uri": "https://localhost:8080/",
          "height": 410
        },
        "id": "AAPg0Oymxj3r",
        "outputId": "201fd0fe-a1dd-4f50-eb08-ec9e7dcb3b46"
      },
      "outputs": [
        {
          "output_type": "display_data",
          "data": {
            "text/plain": [
              "<Figure size 600x400 with 1 Axes>"
            ],
            "image/png": "[encoded data removed]"
          },
          "metadata": {}
        }
      ],
      "source": [
        "families = families.with_column(\n",
        "    \"error with sex\",  families.apply(error, \"predicted with sex\", \"child\")\n",
        ")\n",
        "families.hist(\"error with sex\", group=\"sex\")"
      ]
    },
    {
      "cell_type": "markdown",
      "metadata": {
        "id": "VU47vM5Cxj3r"
      },
      "source": [
        "The previous plot for comparison:"
      ]
    },
    {
      "cell_type": "code",
      "execution_count": null,
      "metadata": {
        "colab": {
          "base_uri": "https://localhost:8080/",
          "height": 410
        },
        "id": "NUJGnHNDxj3s",
        "outputId": "4639c87f-5748-48f9-80ab-7b230c9acc8f"
      },
      "outputs": [
        {
          "output_type": "display_data",
          "data": {
            "text/plain": [
              "<Figure size 600x400 with 1 Axes>"
            ],
            "image/png": "[encoded data removed]"
          },
          "metadata": {}
        }
      ],
      "source": [
        "families.hist(\"error\", group=\"sex\")"
      ]
    },
    {
      "cell_type": "markdown",
      "metadata": {
        "id": "V4oZMa5Yxj3s"
      },
      "source": [
        "## Grouping by One Column ##"
      ]
    },
    {
      "cell_type": "code",
      "execution_count": null,
      "metadata": {
        "colab": {
          "base_uri": "https://localhost:8080/",
          "height": 238
        },
        "id": "HTRAfg52xj3s",
        "outputId": "ea6c7d4b-1ed2-460c-8d2f-4d007d1a8423"
      },
      "outputs": [
        {
          "output_type": "execute_result",
          "data": {
            "text/plain": [
              "Flavor     | Color       | Price | Rating\n",
              "strawberry | pink        | 3.55  | 1\n",
              "chocolate  | light brown | 4.75  | 4\n",
              "chocolate  | dark brown  | 5.25  | 3\n",
              "strawberry | pink        | 5.25  | 2\n",
              "chocolate  | dark brown  | 5.25  | 5\n",
              "bubblegum  | pink        | 4.75  | 1"
            ],
            "text/html": [
              "<table border=\"1\" class=\"dataframe\">\n",
              "    <thead>\n",
              "        <tr>\n",
              "            <th>Flavor</th> <th>Color</th> <th>Price</th> <th>Rating</th>\n",
              "        </tr>\n",
              "    </thead>\n",
              "    <tbody>\n",
              "        <tr>\n",
              "            <td>strawberry</td> <td>pink       </td> <td>3.55 </td> <td>1     </td>\n",
              "        </tr>\n",
              "        <tr>\n",
              "            <td>chocolate </td> <td>light brown</td> <td>4.75 </td> <td>4     </td>\n",
              "        </tr>\n",
              "        <tr>\n",
              "            <td>chocolate </td> <td>dark brown </td> <td>5.25 </td> <td>3     </td>\n",
              "        </tr>\n",
              "        <tr>\n",
              "            <td>strawberry</td> <td>pink       </td> <td>5.25 </td> <td>2     </td>\n",
              "        </tr>\n",
              "        <tr>\n",
              "            <td>chocolate </td> <td>dark brown </td> <td>5.25 </td> <td>5     </td>\n",
              "        </tr>\n",
              "        <tr>\n",
              "            <td>bubblegum </td> <td>pink       </td> <td>4.75 </td> <td>1     </td>\n",
              "        </tr>\n",
              "    </tbody>\n",
              "</table>"
            ]
          },
          "metadata": {},
          "execution_count": 19
        }
      ],
      "source": [
        "# Load in our ice cream data\n",
        "cones = Table.read_table('cones_rating.csv')\n",
        "cones"
      ]
    },
    {
      "cell_type": "markdown",
      "metadata": {
        "id": "KrIwiljYxj3s"
      },
      "source": [
        "**Exercise**: use the `group` function to determine the number of cones with each flavor."
      ]
    },
    {
      "cell_type": "code",
      "execution_count": null,
      "metadata": {
        "colab": {
          "base_uri": "https://localhost:8080/",
          "height": 143
        },
        "id": "f1P5xYz7xj3s",
        "outputId": "8dbb2973-1cbe-4313-9064-4e74a15b9bda"
      },
      "outputs": [
        {
          "output_type": "execute_result",
          "data": {
            "text/plain": [
              "Flavor     | count\n",
              "bubblegum  | 1\n",
              "chocolate  | 3\n",
              "strawberry | 2"
            ],
            "text/html": [
              "<table border=\"1\" class=\"dataframe\">\n",
              "    <thead>\n",
              "        <tr>\n",
              "            <th>Flavor</th> <th>count</th>\n",
              "        </tr>\n",
              "    </thead>\n",
              "    <tbody>\n",
              "        <tr>\n",
              "            <td>bubblegum </td> <td>1    </td>\n",
              "        </tr>\n",
              "        <tr>\n",
              "            <td>chocolate </td> <td>3    </td>\n",
              "        </tr>\n",
              "        <tr>\n",
              "            <td>strawberry</td> <td>2    </td>\n",
              "        </tr>\n",
              "    </tbody>\n",
              "</table>"
            ]
          },
          "metadata": {},
          "execution_count": 57
        }
      ],
      "source": [
        "cones.group('Flavor')"
      ]
    },
    {
      "cell_type": "markdown",
      "metadata": {
        "id": "_ZsXa3uBxj3s"
      },
      "source": [
        "**Exercise**: Use the `group` function to compute the average price of cones for each flavor."
      ]
    },
    {
      "cell_type": "code",
      "execution_count": null,
      "metadata": {
        "scrolled": true,
        "colab": {
          "base_uri": "https://localhost:8080/",
          "height": 143
        },
        "id": "Gcz_2n4dxj3s",
        "outputId": "156a10a1-1824-48b1-f947-f416e43064b8"
      },
      "outputs": [
        {
          "output_type": "execute_result",
          "data": {
            "text/plain": [
              "Flavor     | Color average | Price average | Rating average\n",
              "bubblegum  |               | 4.75          | 1\n",
              "chocolate  |               | 5.08333       | 4\n",
              "strawberry |               | 4.4           | 1.5"
            ],
            "text/html": [
              "<table border=\"1\" class=\"dataframe\">\n",
              "    <thead>\n",
              "        <tr>\n",
              "            <th>Flavor</th> <th>Color average</th> <th>Price average</th> <th>Rating average</th>\n",
              "        </tr>\n",
              "    </thead>\n",
              "    <tbody>\n",
              "        <tr>\n",
              "            <td>bubblegum </td> <td>             </td> <td>4.75         </td> <td>1             </td>\n",
              "        </tr>\n",
              "        <tr>\n",
              "            <td>chocolate </td> <td>             </td> <td>5.08333      </td> <td>4             </td>\n",
              "        </tr>\n",
              "        <tr>\n",
              "            <td>strawberry</td> <td>             </td> <td>4.4          </td> <td>1.5           </td>\n",
              "        </tr>\n",
              "    </tbody>\n",
              "</table>"
            ]
          },
          "metadata": {},
          "execution_count": 58
        }
      ],
      "source": [
        "cones.group('Flavor', np.average)"
      ]
    },
    {
      "cell_type": "code",
      "source": [
        "cones.select('Flavor', 'Price').group('Flavor', np.mean)"
      ],
      "metadata": {
        "colab": {
          "base_uri": "https://localhost:8080/",
          "height": 143
        },
        "id": "7Fk9c58lA3IO",
        "outputId": "dc4fdb04-54ed-4949-f8bd-bb9bf7798e42"
      },
      "execution_count": null,
      "outputs": [
        {
          "output_type": "execute_result",
          "data": {
            "text/plain": [
              "Flavor     | Price mean\n",
              "bubblegum  | 4.75\n",
              "chocolate  | 5.08333\n",
              "strawberry | 4.4"
            ],
            "text/html": [
              "<table border=\"1\" class=\"dataframe\">\n",
              "    <thead>\n",
              "        <tr>\n",
              "            <th>Flavor</th> <th>Price mean</th>\n",
              "        </tr>\n",
              "    </thead>\n",
              "    <tbody>\n",
              "        <tr>\n",
              "            <td>bubblegum </td> <td>4.75      </td>\n",
              "        </tr>\n",
              "        <tr>\n",
              "            <td>chocolate </td> <td>5.08333   </td>\n",
              "        </tr>\n",
              "        <tr>\n",
              "            <td>strawberry</td> <td>4.4       </td>\n",
              "        </tr>\n",
              "    </tbody>\n",
              "</table>"
            ]
          },
          "metadata": {},
          "execution_count": 59
        }
      ]
    },
    {
      "cell_type": "markdown",
      "metadata": {
        "id": "3RLN2zvFxj3s"
      },
      "source": [
        "**Exercise**: Use the `group` function to compute the minimum price of cones for each flavor."
      ]
    },
    {
      "cell_type": "code",
      "execution_count": null,
      "metadata": {
        "colab": {
          "base_uri": "https://localhost:8080/",
          "height": 143
        },
        "id": "WHyAJtp_xj3s",
        "outputId": "f2e8326f-2dca-44af-986f-61edd0f5d5a0"
      },
      "outputs": [
        {
          "output_type": "execute_result",
          "data": {
            "text/plain": [
              "Flavor     | Color amin | Price amin | Rating amin\n",
              "bubblegum  |            | 4.75       | 1\n",
              "chocolate  |            | 4.75       | 3\n",
              "strawberry |            | 3.55       | 1"
            ],
            "text/html": [
              "<table border=\"1\" class=\"dataframe\">\n",
              "    <thead>\n",
              "        <tr>\n",
              "            <th>Flavor</th> <th>Color amin</th> <th>Price amin</th> <th>Rating amin</th>\n",
              "        </tr>\n",
              "    </thead>\n",
              "    <tbody>\n",
              "        <tr>\n",
              "            <td>bubblegum </td> <td>          </td> <td>4.75      </td> <td>1          </td>\n",
              "        </tr>\n",
              "        <tr>\n",
              "            <td>chocolate </td> <td>          </td> <td>4.75      </td> <td>3          </td>\n",
              "        </tr>\n",
              "        <tr>\n",
              "            <td>strawberry</td> <td>          </td> <td>3.55      </td> <td>1          </td>\n",
              "        </tr>\n",
              "    </tbody>\n",
              "</table>"
            ]
          },
          "metadata": {},
          "execution_count": 60
        }
      ],
      "source": [
        "cones.group('Flavor', np.min)"
      ]
    },
    {
      "cell_type": "code",
      "source": [
        "cones.group('Flavor', min)"
      ],
      "metadata": {
        "colab": {
          "base_uri": "https://localhost:8080/",
          "height": 143
        },
        "id": "vDTKD6FTBLO4",
        "outputId": "5b804608-8e9d-4d05-e051-6589c7cb817e"
      },
      "execution_count": null,
      "outputs": [
        {
          "output_type": "execute_result",
          "data": {
            "text/plain": [
              "Flavor     | Color min  | Price min | Rating min\n",
              "bubblegum  | pink       | 4.75      | 1\n",
              "chocolate  | dark brown | 4.75      | 3\n",
              "strawberry | pink       | 3.55      | 1"
            ],
            "text/html": [
              "<table border=\"1\" class=\"dataframe\">\n",
              "    <thead>\n",
              "        <tr>\n",
              "            <th>Flavor</th> <th>Color min</th> <th>Price min</th> <th>Rating min</th>\n",
              "        </tr>\n",
              "    </thead>\n",
              "    <tbody>\n",
              "        <tr>\n",
              "            <td>bubblegum </td> <td>pink      </td> <td>4.75     </td> <td>1         </td>\n",
              "        </tr>\n",
              "        <tr>\n",
              "            <td>chocolate </td> <td>dark brown</td> <td>4.75     </td> <td>3         </td>\n",
              "        </tr>\n",
              "        <tr>\n",
              "            <td>strawberry</td> <td>pink      </td> <td>3.55     </td> <td>1         </td>\n",
              "        </tr>\n",
              "    </tbody>\n",
              "</table>"
            ]
          },
          "metadata": {},
          "execution_count": 61
        }
      ]
    },
    {
      "cell_type": "code",
      "source": [
        "cones"
      ],
      "metadata": {
        "id": "o01kuzMhCw8q",
        "outputId": "6b2e81a3-243e-42e3-c120-42d87e55b075",
        "colab": {
          "base_uri": "https://localhost:8080/",
          "height": 238
        }
      },
      "execution_count": null,
      "outputs": [
        {
          "output_type": "execute_result",
          "data": {
            "text/plain": [
              "Flavor     | Color       | Price | Rating\n",
              "strawberry | pink        | 3.55  | 1\n",
              "chocolate  | light brown | 4.75  | 4\n",
              "chocolate  | dark brown  | 5.25  | 3\n",
              "strawberry | pink        | 5.25  | 2\n",
              "chocolate  | dark brown  | 5.25  | 5\n",
              "bubblegum  | pink        | 4.75  | 1"
            ],
            "text/html": [
              "<table border=\"1\" class=\"dataframe\">\n",
              "    <thead>\n",
              "        <tr>\n",
              "            <th>Flavor</th> <th>Color</th> <th>Price</th> <th>Rating</th>\n",
              "        </tr>\n",
              "    </thead>\n",
              "    <tbody>\n",
              "        <tr>\n",
              "            <td>strawberry</td> <td>pink       </td> <td>3.55 </td> <td>1     </td>\n",
              "        </tr>\n",
              "        <tr>\n",
              "            <td>chocolate </td> <td>light brown</td> <td>4.75 </td> <td>4     </td>\n",
              "        </tr>\n",
              "        <tr>\n",
              "            <td>chocolate </td> <td>dark brown </td> <td>5.25 </td> <td>3     </td>\n",
              "        </tr>\n",
              "        <tr>\n",
              "            <td>strawberry</td> <td>pink       </td> <td>5.25 </td> <td>2     </td>\n",
              "        </tr>\n",
              "        <tr>\n",
              "            <td>chocolate </td> <td>dark brown </td> <td>5.25 </td> <td>5     </td>\n",
              "        </tr>\n",
              "        <tr>\n",
              "            <td>bubblegum </td> <td>pink       </td> <td>4.75 </td> <td>1     </td>\n",
              "        </tr>\n",
              "    </tbody>\n",
              "</table>"
            ]
          },
          "metadata": {},
          "execution_count": 64
        }
      ]
    },
    {
      "cell_type": "code",
      "execution_count": null,
      "metadata": {
        "colab": {
          "base_uri": "https://localhost:8080/",
          "height": 300
        },
        "id": "pvr48rp-xj3s",
        "outputId": "3e54c003-c9a9-4135-e922-c972d966a86b"
      },
      "outputs": [
        {
          "output_type": "stream",
          "name": "stdout",
          "text": [
            "['pink']\n",
            "['light brown' 'dark brown' 'dark brown']\n",
            "['pink' 'pink']\n",
            "[ 4.75]\n",
            "[ 4.75  5.25  5.25]\n",
            "[ 3.55  5.25]\n",
            "[1]\n",
            "[4 3 5]\n",
            "[1 2]\n"
          ]
        },
        {
          "output_type": "execute_result",
          "data": {
            "text/plain": [
              "Flavor     | Color my_grp                              | Price my_grp        | Rating my_grp\n",
              "bubblegum  | ['pink']                                  | [ 4.75]             | [1]\n",
              "chocolate  | ['light brown' 'dark brown' 'dark brown'] | [ 4.75  5.25  5.25] | [4 3 5]\n",
              "strawberry | ['pink' 'pink']                           | [ 3.55  5.25]       | [1 2]"
            ],
            "text/html": [
              "<table border=\"1\" class=\"dataframe\">\n",
              "    <thead>\n",
              "        <tr>\n",
              "            <th>Flavor</th> <th>Color my_grp</th> <th>Price my_grp</th> <th>Rating my_grp</th>\n",
              "        </tr>\n",
              "    </thead>\n",
              "    <tbody>\n",
              "        <tr>\n",
              "            <td>bubblegum </td> <td>['pink']                                 </td> <td>[ 4.75]            </td> <td>[1]          </td>\n",
              "        </tr>\n",
              "        <tr>\n",
              "            <td>chocolate </td> <td>['light brown' 'dark brown' 'dark brown']</td> <td>[ 4.75  5.25  5.25]</td> <td>[4 3 5]      </td>\n",
              "        </tr>\n",
              "        <tr>\n",
              "            <td>strawberry</td> <td>['pink' 'pink']                          </td> <td>[ 3.55  5.25]      </td> <td>[1 2]        </td>\n",
              "        </tr>\n",
              "    </tbody>\n",
              "</table>"
            ]
          },
          "metadata": {},
          "execution_count": 63
        }
      ],
      "source": [
        "def my_grp(grp):\n",
        "    print(grp)\n",
        "    return grp\n",
        "\n",
        "cones.group(\"Flavor\", my_grp)"
      ]
    },
    {
      "cell_type": "markdown",
      "metadata": {
        "id": "FkpNiFt4xj3t"
      },
      "source": [
        "## Lists"
      ]
    },
    {
      "cell_type": "code",
      "execution_count": null,
      "metadata": {
        "id": "dt-fh3G6xj3t",
        "colab": {
          "base_uri": "https://localhost:8080/"
        },
        "outputId": "31f3913a-5b76-44e2-a8a1-001e5ab3910f"
      },
      "outputs": [
        {
          "output_type": "execute_result",
          "data": {
            "text/plain": [
              "[1, 5, 'hello', 5.0]"
            ]
          },
          "metadata": {},
          "execution_count": 4
        }
      ],
      "source": [
        "# A simple list\n",
        "[1, 5, 'hello', 5.0]"
      ]
    },
    {
      "cell_type": "code",
      "execution_count": null,
      "metadata": {
        "id": "fZ5f2hxxxj3t",
        "colab": {
          "base_uri": "https://localhost:8080/"
        },
        "outputId": "17a81c17-881b-4616-a37e-4296a7ff27aa"
      },
      "outputs": [
        {
          "output_type": "execute_result",
          "data": {
            "text/plain": [
              "[1, 5, 'hello', 5.0, array([1, 2, 3])]"
            ]
          },
          "metadata": {},
          "execution_count": 6
        }
      ],
      "source": [
        "# Another list\n",
        "another_list = [1, 5, 'hello', 5.0, make_array(1,2,3)]\n",
        "another_list"
      ]
    },
    {
      "cell_type": "markdown",
      "source": [],
      "metadata": {
        "id": "OnOzh2wJXngd"
      }
    },
    {
      "cell_type": "markdown",
      "source": [
        "You have to use square brackets when accessing elements from a list (you can't use `item`)\n"
      ],
      "metadata": {
        "id": "6_l8QkQoXljo"
      }
    },
    {
      "cell_type": "code",
      "source": [
        "another_list[2]"
      ],
      "metadata": {
        "colab": {
          "base_uri": "https://localhost:8080/",
          "height": 35
        },
        "id": "xdQFzCGdXTjx",
        "outputId": "2cd8488c-6f59-4a34-a10c-5883e1e46679"
      },
      "execution_count": null,
      "outputs": [
        {
          "output_type": "execute_result",
          "data": {
            "text/plain": [
              "'hello'"
            ],
            "application/vnd.google.colaboratory.intrinsic+json": {
              "type": "string"
            }
          },
          "metadata": {},
          "execution_count": 7
        }
      ]
    },
    {
      "cell_type": "code",
      "source": [
        "another_list[4][1]"
      ],
      "metadata": {
        "colab": {
          "base_uri": "https://localhost:8080/"
        },
        "id": "rZS6t3UpXi8m",
        "outputId": "cc8decbc-3a4b-427d-bf2e-e8799a81cf21"
      },
      "execution_count": null,
      "outputs": [
        {
          "output_type": "execute_result",
          "data": {
            "text/plain": [
              "2"
            ]
          },
          "metadata": {},
          "execution_count": 8
        }
      ]
    },
    {
      "cell_type": "markdown",
      "source": [
        "Recall that for arrays you could do either. (In the real world, most people would probably use square brackets)."
      ],
      "metadata": {
        "id": "-uCU6jOxX-Zh"
      }
    },
    {
      "cell_type": "code",
      "source": [
        "my_array = make_array('Apple', 'Orange', 'Banana')\n",
        "my_array[1]"
      ],
      "metadata": {
        "colab": {
          "base_uri": "https://localhost:8080/",
          "height": 35
        },
        "id": "lmoOx0vCYEPC",
        "outputId": "852b33ab-380d-4906-e90f-a6b58a997462"
      },
      "execution_count": null,
      "outputs": [
        {
          "output_type": "execute_result",
          "data": {
            "text/plain": [
              "'Orange'"
            ],
            "application/vnd.google.colaboratory.intrinsic+json": {
              "type": "string"
            }
          },
          "metadata": {},
          "execution_count": 10
        }
      ]
    },
    {
      "cell_type": "markdown",
      "source": [
        "Same thing as:"
      ],
      "metadata": {
        "id": "R0drWUwrYMXY"
      }
    },
    {
      "cell_type": "code",
      "source": [
        "my_array.item(1)"
      ],
      "metadata": {
        "colab": {
          "base_uri": "https://localhost:8080/",
          "height": 35
        },
        "id": "T4zlmwhTYJa5",
        "outputId": "8387509d-87c6-4d85-ff2f-c3ec52234d7d"
      },
      "execution_count": null,
      "outputs": [
        {
          "output_type": "execute_result",
          "data": {
            "text/plain": [
              "'Orange'"
            ],
            "application/vnd.google.colaboratory.intrinsic+json": {
              "type": "string"
            }
          },
          "metadata": {},
          "execution_count": 11
        }
      ]
    },
    {
      "cell_type": "markdown",
      "source": [
        "## Rows from Lists ##\n",
        "\n",
        "We need lists to be able to add a row to our table. Why?\n"
      ],
      "metadata": {
        "id": "3_2JgRv0YShP"
      }
    },
    {
      "cell_type": "markdown",
      "source": [
        "Here we make a table with a column (we've been doing this alot already)."
      ],
      "metadata": {
        "id": "S0aA3KlzYZwH"
      }
    },
    {
      "cell_type": "code",
      "source": [
        "Table().with_columns('Numbers', [1, 2, 3])"
      ],
      "metadata": {
        "colab": {
          "base_uri": "https://localhost:8080/",
          "height": 143
        },
        "id": "8yX3OxTMYZNv",
        "outputId": "98f83fbc-e61e-4b93-dc63-8d7b00335a87"
      },
      "execution_count": null,
      "outputs": [
        {
          "output_type": "execute_result",
          "data": {
            "text/plain": [
              "Numbers\n",
              "1\n",
              "2\n",
              "3"
            ],
            "text/html": [
              "<table border=\"1\" class=\"dataframe\">\n",
              "    <thead>\n",
              "        <tr>\n",
              "            <th>Numbers</th>\n",
              "        </tr>\n",
              "    </thead>\n",
              "    <tbody>\n",
              "        <tr>\n",
              "            <td>1      </td>\n",
              "        </tr>\n",
              "        <tr>\n",
              "            <td>2      </td>\n",
              "        </tr>\n",
              "        <tr>\n",
              "            <td>3      </td>\n",
              "        </tr>\n",
              "    </tbody>\n",
              "</table>"
            ]
          },
          "metadata": {},
          "execution_count": 12
        }
      ]
    },
    {
      "cell_type": "markdown",
      "source": [
        "Here we make an empty table with just column labels. (This is new!)"
      ],
      "metadata": {
        "id": "JOA9FsjzYgnO"
      }
    },
    {
      "cell_type": "code",
      "source": [
        "# Empty table with columns and no rows\n",
        "drinks = Table(['Drink', 'Cafe', 'Price'])\n",
        "drinks"
      ],
      "metadata": {
        "colab": {
          "base_uri": "https://localhost:8080/",
          "height": 49
        },
        "id": "IEBabj-1YmZl",
        "outputId": "ca705337-0483-4f61-b5d5-e7998b897372"
      },
      "execution_count": null,
      "outputs": [
        {
          "output_type": "execute_result",
          "data": {
            "text/plain": [
              "Drink | Cafe | Price"
            ],
            "text/html": [
              "<table border=\"1\" class=\"dataframe\">\n",
              "    <thead>\n",
              "        <tr>\n",
              "            <th>Drink</th> <th>Cafe</th> <th>Price</th>\n",
              "        </tr>\n",
              "    </thead>\n",
              "    <tbody>\n",
              "    </tbody>\n",
              "</table>"
            ]
          },
          "metadata": {},
          "execution_count": 44
        }
      ]
    },
    {
      "cell_type": "markdown",
      "source": [
        "Here we add rows to our table. Each row is a `List`of elements -- one for each column.\n",
        "\n"
      ],
      "metadata": {
        "id": "NgH2rEYeYpqD"
      }
    },
    {
      "cell_type": "code",
      "source": [
        "drinks = drinks.with_rows([\n",
        "    ['Milk Tea', 'RareTea', 5.5],\n",
        "    ['Espresso', 'Buzzed Coffee',  1.75],\n",
        "    ['Latte',    'Buzzed Coffee',  3.25],\n",
        "    ['Espresso', \"Starbucks\",   2]\n",
        "])\n",
        "drinks"
      ],
      "metadata": {
        "colab": {
          "base_uri": "https://localhost:8080/",
          "height": 175
        },
        "id": "TK5MiIf2YoR1",
        "outputId": "9ff7afcc-64a1-43d3-9350-9954e2c2ff8d"
      },
      "execution_count": null,
      "outputs": [
        {
          "output_type": "execute_result",
          "data": {
            "text/plain": [
              "Drink    | Cafe          | Price\n",
              "Milk Tea | RareTea       | 5.5\n",
              "Espresso | Buzzed Coffee | 1.75\n",
              "Latte    | Buzzed Coffee | 3.25\n",
              "Espresso | Starbucks     | 2"
            ],
            "text/html": [
              "<table border=\"1\" class=\"dataframe\">\n",
              "    <thead>\n",
              "        <tr>\n",
              "            <th>Drink</th> <th>Cafe</th> <th>Price</th>\n",
              "        </tr>\n",
              "    </thead>\n",
              "    <tbody>\n",
              "        <tr>\n",
              "            <td>Milk Tea</td> <td>RareTea      </td> <td>5.5  </td>\n",
              "        </tr>\n",
              "        <tr>\n",
              "            <td>Espresso</td> <td>Buzzed Coffee</td> <td>1.75 </td>\n",
              "        </tr>\n",
              "        <tr>\n",
              "            <td>Latte   </td> <td>Buzzed Coffee</td> <td>3.25 </td>\n",
              "        </tr>\n",
              "        <tr>\n",
              "            <td>Espresso</td> <td>Starbucks    </td> <td>2    </td>\n",
              "        </tr>\n",
              "    </tbody>\n",
              "</table>"
            ]
          },
          "metadata": {},
          "execution_count": 45
        }
      ]
    },
    {
      "cell_type": "markdown",
      "metadata": {
        "id": "Na4pXU2Lxj3t"
      },
      "source": [
        "## Grouping by Two Columns: Cross Classification ##"
      ]
    },
    {
      "cell_type": "markdown",
      "metadata": {
        "id": "t17jO66Cxj3t"
      },
      "source": [
        "Classify the cones by both `flavor` and `color`"
      ]
    },
    {
      "cell_type": "code",
      "source": [
        "# Default without specifying an argument is to add a column of the count\n",
        "cones.group(['Flavor', 'Color'])"
      ],
      "metadata": {
        "colab": {
          "base_uri": "https://localhost:8080/",
          "height": 175
        },
        "id": "eMbwW0Nqa017",
        "outputId": "c04fbd3f-51bd-4638-f590-2789c300ecf6"
      },
      "execution_count": null,
      "outputs": [
        {
          "output_type": "execute_result",
          "data": {
            "text/plain": [
              "Flavor     | Color       | count\n",
              "bubblegum  | pink        | 1\n",
              "chocolate  | dark brown  | 2\n",
              "chocolate  | light brown | 1\n",
              "strawberry | pink        | 2"
            ],
            "text/html": [
              "<table border=\"1\" class=\"dataframe\">\n",
              "    <thead>\n",
              "        <tr>\n",
              "            <th>Flavor</th> <th>Color</th> <th>count</th>\n",
              "        </tr>\n",
              "    </thead>\n",
              "    <tbody>\n",
              "        <tr>\n",
              "            <td>bubblegum </td> <td>pink       </td> <td>1    </td>\n",
              "        </tr>\n",
              "        <tr>\n",
              "            <td>chocolate </td> <td>dark brown </td> <td>2    </td>\n",
              "        </tr>\n",
              "        <tr>\n",
              "            <td>chocolate </td> <td>light brown</td> <td>1    </td>\n",
              "        </tr>\n",
              "        <tr>\n",
              "            <td>strawberry</td> <td>pink       </td> <td>2    </td>\n",
              "        </tr>\n",
              "    </tbody>\n",
              "</table>"
            ]
          },
          "metadata": {},
          "execution_count": 26
        }
      ]
    },
    {
      "cell_type": "markdown",
      "source": [
        "Specify how to `collect` the items with `sum`"
      ],
      "metadata": {
        "id": "a6i5_-oua_pS"
      }
    },
    {
      "cell_type": "code",
      "source": [
        "cones.group(['Flavor', 'Color'], sum)"
      ],
      "metadata": {
        "colab": {
          "base_uri": "https://localhost:8080/",
          "height": 175
        },
        "id": "E9cpFk4oa_ZL",
        "outputId": "3423051e-54c6-4652-e5b4-b99bd23e6eea"
      },
      "execution_count": null,
      "outputs": [
        {
          "output_type": "execute_result",
          "data": {
            "text/plain": [
              "Flavor     | Color       | Price sum | Rating sum\n",
              "bubblegum  | pink        | 4.75      | 1\n",
              "chocolate  | dark brown  | 10.5      | 8\n",
              "chocolate  | light brown | 4.75      | 4\n",
              "strawberry | pink        | 8.8       | 3"
            ],
            "text/html": [
              "<table border=\"1\" class=\"dataframe\">\n",
              "    <thead>\n",
              "        <tr>\n",
              "            <th>Flavor</th> <th>Color</th> <th>Price sum</th> <th>Rating sum</th>\n",
              "        </tr>\n",
              "    </thead>\n",
              "    <tbody>\n",
              "        <tr>\n",
              "            <td>bubblegum </td> <td>pink       </td> <td>4.75     </td> <td>1         </td>\n",
              "        </tr>\n",
              "        <tr>\n",
              "            <td>chocolate </td> <td>dark brown </td> <td>10.5     </td> <td>8         </td>\n",
              "        </tr>\n",
              "        <tr>\n",
              "            <td>chocolate </td> <td>light brown</td> <td>4.75     </td> <td>4         </td>\n",
              "        </tr>\n",
              "        <tr>\n",
              "            <td>strawberry</td> <td>pink       </td> <td>8.8      </td> <td>3         </td>\n",
              "        </tr>\n",
              "    </tbody>\n",
              "</table>"
            ]
          },
          "metadata": {},
          "execution_count": 27
        }
      ]
    },
    {
      "cell_type": "code",
      "source": [
        "# Average\n",
        "cones.group(['Flavor', 'Color'], np.mean)"
      ],
      "metadata": {
        "colab": {
          "base_uri": "https://localhost:8080/",
          "height": 175
        },
        "id": "gVTTJ6krbX4D",
        "outputId": "87162d01-f281-4d33-82bd-74c1cdb6bcdc"
      },
      "execution_count": null,
      "outputs": [
        {
          "output_type": "execute_result",
          "data": {
            "text/plain": [
              "Flavor     | Color       | Price mean | Rating mean\n",
              "bubblegum  | pink        | 4.75       | 1\n",
              "chocolate  | dark brown  | 5.25       | 4\n",
              "chocolate  | light brown | 4.75       | 4\n",
              "strawberry | pink        | 4.4        | 1.5"
            ],
            "text/html": [
              "<table border=\"1\" class=\"dataframe\">\n",
              "    <thead>\n",
              "        <tr>\n",
              "            <th>Flavor</th> <th>Color</th> <th>Price mean</th> <th>Rating mean</th>\n",
              "        </tr>\n",
              "    </thead>\n",
              "    <tbody>\n",
              "        <tr>\n",
              "            <td>bubblegum </td> <td>pink       </td> <td>4.75      </td> <td>1          </td>\n",
              "        </tr>\n",
              "        <tr>\n",
              "            <td>chocolate </td> <td>dark brown </td> <td>5.25      </td> <td>4          </td>\n",
              "        </tr>\n",
              "        <tr>\n",
              "            <td>chocolate </td> <td>light brown</td> <td>4.75      </td> <td>4          </td>\n",
              "        </tr>\n",
              "        <tr>\n",
              "            <td>strawberry</td> <td>pink       </td> <td>4.4       </td> <td>1.5        </td>\n",
              "        </tr>\n",
              "    </tbody>\n",
              "</table>"
            ]
          },
          "metadata": {},
          "execution_count": 28
        }
      ]
    },
    {
      "cell_type": "markdown",
      "source": [
        "## Pivot Tables ##"
      ],
      "metadata": {
        "id": "8mcF1QYdghK0"
      }
    },
    {
      "cell_type": "markdown",
      "source": [
        "When grouping by two columns it will sometimes be easier to re-arrange the table so that the columns correspond to the values of one of the original grouped columns."
      ],
      "metadata": {
        "id": "lPO9NqjUglL7"
      }
    },
    {
      "cell_type": "markdown",
      "source": [
        "Here is an example:"
      ],
      "metadata": {
        "id": "C7VM8ufTgr7D"
      }
    },
    {
      "cell_type": "code",
      "source": [
        "# Pivot using the default collect = count\n",
        "cones.pivot('Color', 'Flavor')"
      ],
      "metadata": {
        "colab": {
          "base_uri": "https://localhost:8080/",
          "height": 143
        },
        "id": "GxobfwC3gkTT",
        "outputId": "98deddda-d92d-4e3d-dd67-1d62d6793105"
      },
      "execution_count": null,
      "outputs": [
        {
          "output_type": "execute_result",
          "data": {
            "text/plain": [
              "Flavor     | dark brown | light brown | pink\n",
              "bubblegum  | 0          | 0           | 1\n",
              "chocolate  | 2          | 1           | 0\n",
              "strawberry | 0          | 0           | 2"
            ],
            "text/html": [
              "<table border=\"1\" class=\"dataframe\">\n",
              "    <thead>\n",
              "        <tr>\n",
              "            <th>Flavor</th> <th>dark brown</th> <th>light brown</th> <th>pink</th>\n",
              "        </tr>\n",
              "    </thead>\n",
              "    <tbody>\n",
              "        <tr>\n",
              "            <td>bubblegum </td> <td>0         </td> <td>0          </td> <td>1   </td>\n",
              "        </tr>\n",
              "        <tr>\n",
              "            <td>chocolate </td> <td>2         </td> <td>1          </td> <td>0   </td>\n",
              "        </tr>\n",
              "        <tr>\n",
              "            <td>strawberry</td> <td>0         </td> <td>0          </td> <td>2   </td>\n",
              "        </tr>\n",
              "    </tbody>\n",
              "</table>"
            ]
          },
          "metadata": {},
          "execution_count": 32
        }
      ]
    },
    {
      "cell_type": "markdown",
      "source": [
        "Explicitly naming the function arguments. You wouldn't do this in practice, but it helps to highlight the meaning of the four things we passed to the function above."
      ],
      "metadata": {
        "id": "zyic7MkxhXjZ"
      }
    },
    {
      "cell_type": "code",
      "source": [
        "cones.pivot(\n",
        "    columns = 'Color', # column whose unique values become columns\n",
        "    rows = 'Flavor', # column whose unique values become rows\n",
        "    values = 'Price', # column that will be used to do computing\n",
        "    collect = np.average) # how to aggregate the values"
      ],
      "metadata": {
        "colab": {
          "base_uri": "https://localhost:8080/",
          "height": 143
        },
        "id": "X2fmp0EXhGRH",
        "outputId": "09b86215-f139-4cd0-fc7f-4fba1a979497"
      },
      "execution_count": null,
      "outputs": [
        {
          "output_type": "execute_result",
          "data": {
            "text/plain": [
              "Flavor     | dark brown | light brown | pink\n",
              "bubblegum  | 0          | 0           | 4.75\n",
              "chocolate  | 5.25       | 4.75        | 0\n",
              "strawberry | 0          | 0           | 4.4"
            ],
            "text/html": [
              "<table border=\"1\" class=\"dataframe\">\n",
              "    <thead>\n",
              "        <tr>\n",
              "            <th>Flavor</th> <th>dark brown</th> <th>light brown</th> <th>pink</th>\n",
              "        </tr>\n",
              "    </thead>\n",
              "    <tbody>\n",
              "        <tr>\n",
              "            <td>bubblegum </td> <td>0         </td> <td>0          </td> <td>4.75</td>\n",
              "        </tr>\n",
              "        <tr>\n",
              "            <td>chocolate </td> <td>5.25      </td> <td>4.75       </td> <td>0   </td>\n",
              "        </tr>\n",
              "        <tr>\n",
              "            <td>strawberry</td> <td>0         </td> <td>0          </td> <td>4.4 </td>\n",
              "        </tr>\n",
              "    </tbody>\n",
              "</table>"
            ]
          },
          "metadata": {},
          "execution_count": 35
        }
      ]
    },
    {
      "cell_type": "markdown",
      "metadata": {
        "id": "mdIXRE24XKFT"
      },
      "source": [
        "## Joins ##"
      ]
    },
    {
      "cell_type": "markdown",
      "source": [
        "We use join to **join** two tables based on a similar column."
      ],
      "metadata": {
        "id": "5rskcmubi37Q"
      }
    },
    {
      "cell_type": "code",
      "execution_count": null,
      "metadata": {
        "id": "1ieXkar6XKFT",
        "colab": {
          "base_uri": "https://localhost:8080/",
          "height": 175
        },
        "outputId": "2eca07c4-e91a-49d1-ce9f-6dc9ff93f64f"
      },
      "outputs": [
        {
          "output_type": "execute_result",
          "data": {
            "text/plain": [
              "Drink    | Cafe          | Price\n",
              "Milk Tea | RareTea       | 5.5\n",
              "Espresso | Buzzed Coffee | 1.75\n",
              "Latte    | Buzzed Coffee | 3.25\n",
              "Espresso | Starbucks     | 2"
            ],
            "text/html": [
              "<table border=\"1\" class=\"dataframe\">\n",
              "    <thead>\n",
              "        <tr>\n",
              "            <th>Drink</th> <th>Cafe</th> <th>Price</th>\n",
              "        </tr>\n",
              "    </thead>\n",
              "    <tbody>\n",
              "        <tr>\n",
              "            <td>Milk Tea</td> <td>RareTea      </td> <td>5.5  </td>\n",
              "        </tr>\n",
              "        <tr>\n",
              "            <td>Espresso</td> <td>Buzzed Coffee</td> <td>1.75 </td>\n",
              "        </tr>\n",
              "        <tr>\n",
              "            <td>Latte   </td> <td>Buzzed Coffee</td> <td>3.25 </td>\n",
              "        </tr>\n",
              "        <tr>\n",
              "            <td>Espresso</td> <td>Starbucks    </td> <td>2    </td>\n",
              "        </tr>\n",
              "    </tbody>\n",
              "</table>"
            ]
          },
          "metadata": {},
          "execution_count": 54
        }
      ],
      "source": [
        "drinks"
      ]
    },
    {
      "cell_type": "code",
      "execution_count": null,
      "metadata": {
        "id": "MDZobmSjXKFT",
        "colab": {
          "base_uri": "https://localhost:8080/",
          "height": 143
        },
        "outputId": "a7c12667-e838-4046-e6a7-51d4280b2a2f"
      },
      "outputs": [
        {
          "output_type": "execute_result",
          "data": {
            "text/plain": [
              "Coupon % off | Location\n",
              "10           | RareTea\n",
              "25           | Buzzed Coffee\n",
              "5            | RareTea"
            ],
            "text/html": [
              "<table border=\"1\" class=\"dataframe\">\n",
              "    <thead>\n",
              "        <tr>\n",
              "            <th>Coupon % off</th> <th>Location</th>\n",
              "        </tr>\n",
              "    </thead>\n",
              "    <tbody>\n",
              "        <tr>\n",
              "            <td>10          </td> <td>RareTea      </td>\n",
              "        </tr>\n",
              "        <tr>\n",
              "            <td>25          </td> <td>Buzzed Coffee</td>\n",
              "        </tr>\n",
              "        <tr>\n",
              "            <td>5           </td> <td>RareTea      </td>\n",
              "        </tr>\n",
              "    </tbody>\n",
              "</table>"
            ]
          },
          "metadata": {},
          "execution_count": 55
        }
      ],
      "source": [
        "discounts = Table().with_columns(\n",
        "    'Coupon % off', make_array(10, 25, 5),\n",
        "    'Location', make_array('RareTea', 'Buzzed Coffee', 'RareTea')\n",
        ")\n",
        "discounts"
      ]
    },
    {
      "cell_type": "markdown",
      "source": [
        "**Exercise**: Combine the `drinks` and `discounts` tables into a new table which has all possible discounts for each drink."
      ],
      "metadata": {
        "id": "Kq92Q-C2jNg2"
      }
    },
    {
      "cell_type": "code",
      "execution_count": null,
      "metadata": {
        "scrolled": true,
        "id": "4kxhB54fXKFT",
        "colab": {
          "base_uri": "https://localhost:8080/",
          "height": 175
        },
        "outputId": "9cc4da32-57f5-4a2d-a703-b483862bc944"
      },
      "outputs": [
        {
          "output_type": "execute_result",
          "data": {
            "text/plain": [
              "Cafe          | Drink    | Price | Coupon % off\n",
              "Buzzed Coffee | Espresso | 1.75  | 25\n",
              "Buzzed Coffee | Latte    | 3.25  | 25\n",
              "RareTea       | Milk Tea | 5.5   | 10\n",
              "RareTea       | Milk Tea | 5.5   | 5"
            ],
            "text/html": [
              "<table border=\"1\" class=\"dataframe\">\n",
              "    <thead>\n",
              "        <tr>\n",
              "            <th>Cafe</th> <th>Drink</th> <th>Price</th> <th>Coupon % off</th>\n",
              "        </tr>\n",
              "    </thead>\n",
              "    <tbody>\n",
              "        <tr>\n",
              "            <td>Buzzed Coffee</td> <td>Espresso</td> <td>1.75 </td> <td>25          </td>\n",
              "        </tr>\n",
              "        <tr>\n",
              "            <td>Buzzed Coffee</td> <td>Latte   </td> <td>3.25 </td> <td>25          </td>\n",
              "        </tr>\n",
              "        <tr>\n",
              "            <td>RareTea      </td> <td>Milk Tea</td> <td>5.5  </td> <td>10          </td>\n",
              "        </tr>\n",
              "        <tr>\n",
              "            <td>RareTea      </td> <td>Milk Tea</td> <td>5.5  </td> <td>5           </td>\n",
              "        </tr>\n",
              "    </tbody>\n",
              "</table>"
            ]
          },
          "metadata": {},
          "execution_count": 56
        }
      ],
      "source": [
        "combined = drinks.join('Cafe', discounts, 'Location')\n",
        "combined"
      ]
    },
    {
      "cell_type": "markdown",
      "source": [
        "**Exercise**: Calculate the lowest rate you can get for each drink using the available coupons."
      ],
      "metadata": {
        "id": "Ph5qKNyYjchU"
      }
    },
    {
      "cell_type": "code",
      "execution_count": null,
      "metadata": {
        "id": "sv3HaDXOXKFT",
        "colab": {
          "base_uri": "https://localhost:8080/",
          "height": 143
        },
        "outputId": "34d58912-d680-4c35-bb5a-d67b93408f9e"
      },
      "outputs": [
        {
          "output_type": "execute_result",
          "data": {
            "text/plain": [
              "Drink    | Discounted Price min\n",
              "Espresso | 1.3125\n",
              "Latte    | 2.4375\n",
              "Milk Tea | 4.95"
            ],
            "text/html": [
              "<table border=\"1\" class=\"dataframe\">\n",
              "    <thead>\n",
              "        <tr>\n",
              "            <th>Drink</th> <th>Discounted Price min</th>\n",
              "        </tr>\n",
              "    </thead>\n",
              "    <tbody>\n",
              "        <tr>\n",
              "            <td>Espresso</td> <td>1.3125              </td>\n",
              "        </tr>\n",
              "        <tr>\n",
              "            <td>Latte   </td> <td>2.4375              </td>\n",
              "        </tr>\n",
              "        <tr>\n",
              "            <td>Milk Tea</td> <td>4.95                </td>\n",
              "        </tr>\n",
              "    </tbody>\n",
              "</table>"
            ]
          },
          "metadata": {},
          "execution_count": 63
        }
      ],
      "source": [
        "discounted_frac = 1 - combined.column('Coupon % off') / 100\n",
        "(\n",
        "combined.with_column('Discounted Price', (combined.column('Price') * discounted_frac))\n",
        ".select('Drink', 'Discounted Price')\n",
        ".group('Drink', min)\n",
        ")"
      ]
    },
    {
      "cell_type": "markdown",
      "source": [
        "**Exercise**: What happens if I run the following? How many rows will it produce?"
      ],
      "metadata": {
        "id": "QMRmJ5aCj8JR"
      }
    },
    {
      "cell_type": "code",
      "execution_count": null,
      "metadata": {
        "id": "Ffc_RDXQXKFT",
        "colab": {
          "base_uri": "https://localhost:8080/",
          "height": 238
        },
        "outputId": "5c43b9dd-adeb-4eca-ed8b-790c816693c1"
      },
      "outputs": [
        {
          "output_type": "execute_result",
          "data": {
            "text/plain": [
              "Cafe          | Drink    | Price | Drink_2  | Price_2\n",
              "Buzzed Coffee | Espresso | 1.75  | Espresso | 1.75\n",
              "Buzzed Coffee | Espresso | 1.75  | Latte    | 3.25\n",
              "Buzzed Coffee | Latte    | 3.25  | Espresso | 1.75\n",
              "Buzzed Coffee | Latte    | 3.25  | Latte    | 3.25\n",
              "RareTea       | Milk Tea | 5.5   | Milk Tea | 5.5\n",
              "Starbucks     | Espresso | 2     | Espresso | 2"
            ],
            "text/html": [
              "<table border=\"1\" class=\"dataframe\">\n",
              "    <thead>\n",
              "        <tr>\n",
              "            <th>Cafe</th> <th>Drink</th> <th>Price</th> <th>Drink_2</th> <th>Price_2</th>\n",
              "        </tr>\n",
              "    </thead>\n",
              "    <tbody>\n",
              "        <tr>\n",
              "            <td>Buzzed Coffee</td> <td>Espresso</td> <td>1.75 </td> <td>Espresso</td> <td>1.75   </td>\n",
              "        </tr>\n",
              "        <tr>\n",
              "            <td>Buzzed Coffee</td> <td>Espresso</td> <td>1.75 </td> <td>Latte   </td> <td>3.25   </td>\n",
              "        </tr>\n",
              "        <tr>\n",
              "            <td>Buzzed Coffee</td> <td>Latte   </td> <td>3.25 </td> <td>Espresso</td> <td>1.75   </td>\n",
              "        </tr>\n",
              "        <tr>\n",
              "            <td>Buzzed Coffee</td> <td>Latte   </td> <td>3.25 </td> <td>Latte   </td> <td>3.25   </td>\n",
              "        </tr>\n",
              "        <tr>\n",
              "            <td>RareTea      </td> <td>Milk Tea</td> <td>5.5  </td> <td>Milk Tea</td> <td>5.5    </td>\n",
              "        </tr>\n",
              "        <tr>\n",
              "            <td>Starbucks    </td> <td>Espresso</td> <td>2    </td> <td>Espresso</td> <td>2      </td>\n",
              "        </tr>\n",
              "    </tbody>\n",
              "</table>"
            ]
          },
          "metadata": {},
          "execution_count": 64
        }
      ],
      "source": [
        "drinks.join('Cafe', drinks, 'Cafe')"
      ]
    },
    {
      "cell_type": "markdown",
      "metadata": {
        "id": "flc8kkdQXKFR"
      },
      "source": [
        "## Discussion Questions ##"
      ]
    },
    {
      "cell_type": "code",
      "execution_count": null,
      "metadata": {
        "id": "RUDJqWkkXKFR",
        "outputId": "fb1f4d56-847f-49aa-c14c-0745fa0438c5"
      },
      "outputs": [
        {
          "data": {
            "text/html": [
              "<table border=\"1\" class=\"dataframe\">\n",
              "    <thead>\n",
              "        <tr>\n",
              "            <th>name</th> <th>material</th> <th>city</th> <th>height</th> <th>age</th>\n",
              "        </tr>\n",
              "    </thead>\n",
              "    <tbody>\n",
              "        <tr>\n",
              "            <td>One World Trade Center</td> <td>mixed/composite</td> <td>New York City</td> <td>541.3 </td> <td>8   </td>\n",
              "        </tr>\n",
              "        <tr>\n",
              "            <td>Willis Tower          </td> <td>steel          </td> <td>Chicago      </td> <td>442.14</td> <td>48  </td>\n",
              "        </tr>\n",
              "        <tr>\n",
              "            <td>432 Park Avenue       </td> <td>concrete       </td> <td>New York City</td> <td>425.5 </td> <td>7   </td>\n",
              "        </tr>\n",
              "    </tbody>\n",
              "</table>\n",
              "<p>... (1778 rows omitted)</p>"
            ],
            "text/plain": [
              "<IPython.core.display.HTML object>"
            ]
          },
          "metadata": {},
          "output_type": "display_data"
        }
      ],
      "source": [
        "# From the CORGIS Dataset Project\n",
        "# By Austin Cory Bart acbart@vt.edu\n",
        "# Version 2.0.0, created 3/22/2016\n",
        "# https://corgis-edu.github.io/corgis/csv/skyscrapers/\n",
        "\n",
        "sky = Table.read_table('skyscrapers.csv')\n",
        "sky = (sky.with_column('age', 2023 - sky.column('completed'))\n",
        "          .drop('completed'))\n",
        "sky.show(3)"
      ]
    },
    {
      "cell_type": "code",
      "execution_count": null,
      "metadata": {
        "id": "Otb849FrXKFS"
      },
      "outputs": [],
      "source": [
        "# 1. For each city, what’s the tallest building for each material?\n",
        "\n",
        "\n",
        "\n",
        "\n",
        "\n",
        "\n",
        "\n",
        "\n"
      ]
    },
    {
      "cell_type": "code",
      "execution_count": null,
      "metadata": {
        "id": "I-RjzqcEXKFS"
      },
      "outputs": [],
      "source": [
        "# 2. For each city, what’s the height difference between the tallest\n",
        "#    steel building and the tallest concrete building?\n",
        "\n",
        "\n",
        "\n",
        "\n",
        "\n",
        "\n",
        "\n",
        "\n",
        "\n",
        "\n"
      ]
    },
    {
      "cell_type": "markdown",
      "metadata": {
        "id": "9OWgfjDUXKFS"
      },
      "source": [
        "Don't read ahead until you try the challenge questions yourself first!"
      ]
    },
    {
      "cell_type": "code",
      "execution_count": null,
      "metadata": {
        "scrolled": false,
        "id": "WG1OermRXKFS"
      },
      "outputs": [],
      "source": [
        "sky.select('material', 'city', 'height').group(['city', 'material'], collect=max)"
      ]
    },
    {
      "cell_type": "code",
      "execution_count": null,
      "metadata": {
        "id": "Wkgvg_jjXKFS"
      },
      "outputs": [],
      "source": [
        "sky_p = sky.pivot('material', 'city', values='height', collect=max)\n",
        "sky_p.show()"
      ]
    },
    {
      "cell_type": "code",
      "execution_count": null,
      "metadata": {
        "id": "xlzooGrdXKFT"
      },
      "outputs": [],
      "source": [
        "sky_p = sky_p.with_column(\n",
        "    'difference',\n",
        "    abs(sky_p.column('steel') - sky_p.column('concrete'))\n",
        ")\n",
        "sky_p"
      ]
    },
    {
      "cell_type": "code",
      "execution_count": null,
      "metadata": {
        "id": "L_iN0I7cXKFT"
      },
      "outputs": [],
      "source": [
        "sky_p.sort('difference', True)"
      ]
    },
    {
      "cell_type": "code",
      "execution_count": null,
      "metadata": {
        "id": "96gxoG8BXKFT"
      },
      "outputs": [],
      "source": [
        "# 3. Generate a table of the names of the oldest buildings for each\n",
        "#    material for each city:\n",
        "\n",
        "# Hint: You can use sort to find the name of the oldest building in the dataset\n",
        "sky.sort('age', descending=True).column('name').item(0)\n",
        "\n",
        "\n",
        "\n",
        "\n",
        "\n",
        "\n",
        "\n",
        "\n",
        "\n"
      ]
    },
    {
      "cell_type": "markdown",
      "metadata": {
        "id": "Gm0y2LkmXKFT"
      },
      "source": [
        "(No peeking! A solution appears below.)"
      ]
    },
    {
      "cell_type": "code",
      "execution_count": null,
      "metadata": {
        "id": "94Z9qxiJXKFT"
      },
      "outputs": [],
      "source": [
        "def first(s):\n",
        "    \"Return the first element in an array.\"\n",
        "    return s.item(0)\n",
        "\n",
        "(sky\n",
        " .sort('age', descending=True)\n",
        " .pivot('material', 'city', 'name', first)\n",
        ")#.where('city', 'San Francisco')"
      ]
    }
  ],
  "metadata": {
    "anaconda-cloud": {},
    "kernelspec": {
      "display_name": "Python 3",
      "language": "python",
      "name": "python3"
    },
    "language_info": {
      "codemirror_mode": {
        "name": "ipython",
        "version": 3
      },
      "file_extension": ".py",
      "mimetype": "text/x-python",
      "name": "python",
      "nbconvert_exporter": "python",
      "pygments_lexer": "ipython3",
      "version": "3.10.12"
    },
    "colab": {
      "provenance": [],
      "toc_visible": true
    }
  },
  "nbformat": 4,
  "nbformat_minor": 0
}