{
  "cells": [
    {
      "cell_type": "markdown",
      "metadata": {
        "id": "33Vax7Gn-qBD"
      },
      "source": [
        "<a href=\"https://colab.research.google.com/github/tmckim/materials-fa23-colab/blob/main/lectures/lec08.ipynb\" target=\"_parent\"><img src=\"https://colab.research.google.com/assets/colab-badge.svg\" alt=\"Open In Colab\"/></a>"
      ]
    },
    {
      "cell_type": "markdown",
      "metadata": {
        "id": "AxOCU-Ud-qBI"
      },
      "source": [
        "## Before you start - Save this notebook!\n",
        "\n",
        "When you open a new Colab notebook from the WebCampus (like you hopefully did for this one), you cannot save changes. So it's  best to store the Colab notebook in your personal drive `\"File > Save a copy in drive...\"` **before** you do anything else.\n",
        "\n",
        "The file will open in a new tab in your web browser, and it is automatically named something like: \"**Copy of lec08.ipynb**\". You can rename this to just the title of the assignment \"**lec08.ipynb**\". Make sure you do keep an informative name (like the name of the assignment) so that you know which files to submit back to WebCampus for grading! More instructions on this are at the end of the notebook.\n",
        "\n",
        "\n",
        "**Where does the notebook get saved in Google Drive?**\n",
        "\n",
        "By default, the notebook will be copied to a folder called “Colab Notebooks” at the root (home directory) of your Google Drive. If you use this for other courses or personal code notebooks, I recommend creating a folder for this course and then moving the assignments AFTER you have completed them."
      ]
    },
    {
      "cell_type": "code",
      "execution_count": null,
      "metadata": {
        "id": "-zcfaK0S-qBJ"
      },
      "outputs": [],
      "source": [
        "# Setup and add files needed to gdrive\n",
        "# If you restart colab, start by rerunning this cell first!\n",
        "from google.colab import drive\n",
        "drive.mount('/content/gdrive', force_remount=True)\n",
        "\n",
        "#!mkdir -p '/content/gdrive/My Drive/colab-materials-NS499DataSci-notebooks/'\n",
        "%cd /content/gdrive/My Drive/colab-materials-NS499DataSci-notebooks/\n",
        "!rm -r materials-fa23-colab\n",
        "\n",
        "!git clone https://github.com/tmckim/materials-fa23-colab '/content/gdrive/My Drive/colab-materials-NS499DataSci-notebooks/materials-fa23-colab/'\n",
        "\n",
        "%cd /content/gdrive/MyDrive/colab-materials-NS499DataSci-notebooks/materials-fa23-colab/lectures/"
      ]
    },
    {
      "cell_type": "code",
      "execution_count": null,
      "metadata": {
        "id": "qK42NZIo-qBL"
      },
      "outputs": [],
      "source": [
        "# Import packages and other things needed\n",
        "# Don't change this cell; Just run this cell\n",
        "# If you restart colab, make sure to run this cell again after the first one above^\n",
        "\n",
        "from datascience import *\n",
        "import numpy as np\n",
        "\n",
        "%matplotlib inline\n",
        "import matplotlib.pyplot as plots\n",
        "plots.style.use('fivethirtyeight')"
      ]
    },
    {
      "cell_type": "markdown",
      "metadata": {
        "id": "0azJYZO0-qBM"
      },
      "source": [
        "## Lecture 08 ##"
      ]
    },
    {
      "cell_type": "markdown",
      "metadata": {
        "id": "6EmBmjeT-qBM"
      },
      "source": [
        "In this lecture we will:\n",
        "- Demonstrate deterministic and random sampling\n",
        "- Plot Probability and Empirical Distributions\n",
        "- Demonstrate the law of large numbers"
      ]
    },
    {
      "cell_type": "markdown",
      "metadata": {
        "id": "bqsZSzGH-qBN"
      },
      "source": [
        "## Random Sampling ##"
      ]
    },
    {
      "cell_type": "markdown",
      "metadata": {
        "id": "ez9rJsWf-qBN"
      },
      "source": [
        "We load in a dataset of all United flights national flights from 6/1/15 to 8/9/15, their destination and how long they were delayed, in minutes."
      ]
    },
    {
      "cell_type": "code",
      "execution_count": null,
      "metadata": {
        "id": "0xRu_SMC-6FK"
      },
      "outputs": [],
      "source": [
        "# columns:\n",
        "# date\n",
        "# flight number\n",
        "# destination\n",
        "# delay (in minutes)"
      ]
    },
    {
      "cell_type": "code",
      "execution_count": null,
      "metadata": {
        "id": "FK_4QWus-qBO"
      },
      "outputs": [],
      "source": [
        "# Load in our data\n",
        "united = Table.read_table('united.csv')\n",
        "united = united.with_column('Row', np.arange(united.num_rows)).move_to_start('Row') # add row numbers so we can see samples more easily\n",
        "united"
      ]
    },
    {
      "cell_type": "markdown",
      "metadata": {
        "id": "Tsa8ZMpa-qBO"
      },
      "source": [
        "For each of the following, is this a deterministic or a random sampling strategy?"
      ]
    },
    {
      "cell_type": "code",
      "execution_count": null,
      "metadata": {
        "id": "s3BUjeXp-qBP"
      },
      "outputs": [],
      "source": [
        "# Take a sample, like we've been doing already in this class\n",
        "united.where('Destination', 'JFK')"
      ]
    },
    {
      "cell_type": "code",
      "execution_count": null,
      "metadata": {
        "id": "SbRMiVQg-qBP"
      },
      "outputs": [],
      "source": [
        "# Sampling table method, with replacement\n",
        "united.sample(3, with_replacement= True)"
      ]
    },
    {
      "cell_type": "code",
      "execution_count": null,
      "metadata": {
        "id": "-3DSHFlG-qBP"
      },
      "outputs": [],
      "source": [
        "# sample using np.arange\n",
        "united.take(np.arange(0, united.num_rows, 1000))"
      ]
    },
    {
      "cell_type": "code",
      "execution_count": null,
      "metadata": {
        "id": "RLN00_JL-qBQ"
      },
      "outputs": [],
      "source": [
        "# Sample using take method\n",
        "united.take(make_array(34, 6321, 10040))"
      ]
    },
    {
      "cell_type": "code",
      "execution_count": null,
      "metadata": {
        "id": "RjD0YrtS-qBQ"
      },
      "outputs": [],
      "source": [
        "# combination of methods\n",
        "united.where('Destination', 'JFK').sample(3,with_replacement= True)"
      ]
    },
    {
      "cell_type": "code",
      "execution_count": null,
      "metadata": {
        "id": "fZM43OhN-qBQ"
      },
      "outputs": [],
      "source": [
        "# A systematic sample example\n",
        "start = np.random.choice(np.arange(1000))\n",
        "systematic_sample = united.take(np.arange(start, united.num_rows, 1000))\n",
        "systematic_sample.show()"
      ]
    },
    {
      "cell_type": "markdown",
      "metadata": {
        "id": "v6A4gvtv-qBQ"
      },
      "source": [
        "## Distributions ##"
      ]
    },
    {
      "cell_type": "code",
      "execution_count": null,
      "metadata": {
        "id": "oV0AwOcS-qBQ"
      },
      "outputs": [],
      "source": [
        "# A single, fair die\n",
        "die = Table().with_column('Face', np.arange(1, 7))\n",
        "die"
      ]
    },
    {
      "cell_type": "markdown",
      "metadata": {
        "id": "lk2YLh0h-qBR"
      },
      "source": [
        "What is the **Probability Distribution** of drawing each face assuming each face is equally likely (a 'fair die')?"
      ]
    },
    {
      "cell_type": "code",
      "execution_count": null,
      "metadata": {
        "id": "BuykMyaM-qBR"
      },
      "outputs": [],
      "source": [
        "# Probability distribution\n",
        "roll_bins = np.arange(0.5,6.6,1)\n",
        "die.hist(bins=roll_bins)"
      ]
    },
    {
      "cell_type": "markdown",
      "metadata": {
        "id": "30gstqAy-qBR"
      },
      "source": [
        "We can sample from the die table many tims with replacement:"
      ]
    },
    {
      "cell_type": "code",
      "execution_count": null,
      "metadata": {
        "id": "_83JJaxC-qBR"
      },
      "outputs": [],
      "source": [
        "die.sample(5)"
      ]
    },
    {
      "cell_type": "markdown",
      "metadata": {
        "id": "-jgJ53ki-qBR"
      },
      "source": [
        "We can construct an **Empirical Distribution** from our simulation:"
      ]
    },
    {
      "cell_type": "code",
      "execution_count": null,
      "metadata": {
        "id": "-EamBcEB-qBS"
      },
      "outputs": [],
      "source": [
        "die.sample(10).hist(bins=roll_bins)"
      ]
    },
    {
      "cell_type": "markdown",
      "metadata": {
        "id": "U1G7AoiD-qBS"
      },
      "source": [
        "What happens if we increase the number of trials in our simulation? What happens to the distribution?"
      ]
    },
    {
      "cell_type": "code",
      "execution_count": null,
      "metadata": {
        "id": "9als5-JH-qBS"
      },
      "outputs": [],
      "source": [
        "die.sample(1000).hist(bins=roll_bins)"
      ]
    },
    {
      "cell_type": "code",
      "execution_count": null,
      "metadata": {
        "id": "9Xjx0jSh-qBS"
      },
      "outputs": [],
      "source": [
        "die.sample(100000).hist(bins=roll_bins)"
      ]
    },
    {
      "cell_type": "markdown",
      "metadata": {
        "id": "xNvu6Wl2-qBS"
      },
      "source": [
        "## Large Random Samples ##"
      ]
    },
    {
      "cell_type": "markdown",
      "metadata": {
        "id": "RiC_D2IF-qBS"
      },
      "source": [
        "The United flight dataset is a relatively large dataset:"
      ]
    },
    {
      "cell_type": "code",
      "execution_count": null,
      "metadata": {
        "id": "DNa9z0TD-qBS"
      },
      "outputs": [],
      "source": [
        "# Show how much data\n",
        "united.num_rows"
      ]
    },
    {
      "cell_type": "markdown",
      "metadata": {
        "id": "WLBhE8Oj-qBT"
      },
      "source": [
        "We can plot the distribution of delays for the population:"
      ]
    },
    {
      "cell_type": "code",
      "execution_count": null,
      "metadata": {
        "id": "RffmXVZy-qBT"
      },
      "outputs": [],
      "source": [
        "# Some very delayed flights\n",
        "united.hist('Delay', bins = 50)"
      ]
    },
    {
      "cell_type": "code",
      "execution_count": null,
      "metadata": {
        "id": "4R8nPxiJ-qBT"
      },
      "outputs": [],
      "source": [
        "united.sort('Delay', descending = True)"
      ]
    },
    {
      "cell_type": "markdown",
      "metadata": {
        "id": "5uu-m7C0-qBT"
      },
      "source": [
        "Let's truncate the extreme flights with a histogram from -20 to 201. (More on why later)"
      ]
    },
    {
      "cell_type": "code",
      "execution_count": null,
      "metadata": {
        "id": "yLKv3oX3-qBT"
      },
      "outputs": [],
      "source": [
        "# Show the adjusted histogram\n",
        "united_bins = np.arange(-20,201,5) # -20 means left early, and then up to 5 mins\n",
        "united.hist('Delay', bins = united_bins)"
      ]
    },
    {
      "cell_type": "markdown",
      "metadata": {
        "id": "1U3WRGn2-qBT"
      },
      "source": [
        "What happens if we take a small sample from this population of flights and compute the distribution of delays:"
      ]
    },
    {
      "cell_type": "code",
      "execution_count": null,
      "metadata": {
        "id": "e3SkYFvL-qBY"
      },
      "outputs": [],
      "source": [
        "united.sample(10).hist('Delay', bins = united_bins)"
      ]
    },
    {
      "cell_type": "code",
      "execution_count": null,
      "metadata": {
        "id": "MYTwdgw5-qBY"
      },
      "outputs": [],
      "source": [
        "# Increase the sample size\n",
        "united.sample(1000).hist('Delay', bins = united_bins)"
      ]
    },
    {
      "cell_type": "markdown",
      "metadata": {
        "id": "NDGugW6q-qBY"
      },
      "source": [
        "## Simulating Statistics ##"
      ]
    },
    {
      "cell_type": "markdown",
      "metadata": {
        "id": "dD6Tev6j-qBZ"
      },
      "source": [
        "Because we have access to the population (this is rare!) we can compute the parameters directly from the data. For example, suppose we wanted to know the median flight delay:"
      ]
    },
    {
      "cell_type": "code",
      "execution_count": null,
      "metadata": {
        "id": "dZuj-MhS-qBZ"
      },
      "outputs": [],
      "source": [
        "np.median(united.column('Delay'))"
      ]
    },
    {
      "cell_type": "markdown",
      "metadata": {
        "id": "r1uMLGtp-qBZ"
      },
      "source": [
        "In practice, we will often have a sample. The median of the sample is a statistic that estimates the median of the population."
      ]
    },
    {
      "cell_type": "code",
      "execution_count": null,
      "metadata": {
        "id": "A1KEaj6L-qBZ"
      },
      "outputs": [],
      "source": [
        "np.median(united.sample(10).column('Delay'))"
      ]
    },
    {
      "cell_type": "markdown",
      "metadata": {
        "id": "xjtgEp1i-qBZ"
      },
      "source": [
        "Here we define a function to simulate the process of computing the median from a random sample of a given size:"
      ]
    },
    {
      "cell_type": "code",
      "execution_count": null,
      "metadata": {
        "id": "9y1_iWie-qBZ"
      },
      "outputs": [],
      "source": [
        "def sample_median(size):\n",
        "    return np.median(united.sample(size).column('Delay'))"
      ]
    },
    {
      "cell_type": "code",
      "execution_count": null,
      "metadata": {
        "id": "nTVShBB4-qBZ"
      },
      "outputs": [],
      "source": [
        "sample_median(10)"
      ]
    },
    {
      "cell_type": "markdown",
      "metadata": {
        "id": "xHvGA14z-qBa"
      },
      "source": [
        "We can then simulate this sampling process many times:"
      ]
    },
    {
      "cell_type": "code",
      "execution_count": null,
      "metadata": {
        "id": "UMJdl8eS-qBa"
      },
      "outputs": [],
      "source": [
        "sample_medians = make_array()\n",
        "\n",
        "for i in np.arange(1000):\n",
        "    new_median = sample_median(10)\n",
        "    sample_medians = np.append(sample_medians, new_median)"
      ]
    },
    {
      "cell_type": "code",
      "execution_count": null,
      "metadata": {
        "id": "ZeTHAb4_-qBa",
        "scrolled": true
      },
      "outputs": [],
      "source": [
        "medians = Table().with_columns('Sample medians', sample_medians, 'Sample size', 10)\n",
        "medians.hist('Sample medians', bins = 50)"
      ]
    },
    {
      "cell_type": "code",
      "execution_count": null,
      "metadata": {
        "id": "y0Fb27YH-qBa"
      },
      "outputs": [],
      "source": [
        "sample_medians2 = make_array()\n",
        "\n",
        "for i in np.arange(1000):\n",
        "    new_median = sample_median(1000)\n",
        "    sample_medians2 = np.append(sample_medians2, new_median)"
      ]
    },
    {
      "cell_type": "code",
      "execution_count": null,
      "metadata": {
        "id": "comv52bw-qBa"
      },
      "outputs": [],
      "source": [
        "# Combine both samples into a table and plot\n",
        "overall_tbl = medians.append(Table().with_columns(\n",
        "    \"Sample medians\", sample_medians2,\n",
        "    \"Sample size\", 1000))\n",
        "overall_tbl.hist(\"Sample medians\", group=\"Sample size\", bins = 50)"
      ]
    },
    {
      "cell_type": "markdown",
      "metadata": {
        "id": "L9xcQ0zysmNh"
      },
      "source": [
        "#### Empirical Distributions of a Statistic (Overlayed)"
      ]
    },
    {
      "cell_type": "code",
      "execution_count": null,
      "metadata": {
        "id": "LmVzPmlpsmNh"
      },
      "outputs": [],
      "source": [
        "sample_medians_10 = make_array()\n",
        "sample_medians_100 = make_array()\n",
        "sample_medians_1000 = make_array()\n",
        "\n",
        "num_simulations = 2000\n",
        "\n",
        "for i in np.arange(num_simulations):\n",
        "    new_median_10 = sample_median(10)\n",
        "    sample_medians_10 = np.append(sample_medians_10, new_median_10)\n",
        "    new_median_100 = sample_median(100)\n",
        "    sample_medians_100 = np.append(sample_medians_100, new_median_100)\n",
        "    new_median_1000 = sample_median(1000)\n",
        "    sample_medians_1000 = np.append(sample_medians_1000, new_median_1000)"
      ]
    },
    {
      "cell_type": "code",
      "execution_count": null,
      "metadata": {
        "id": "q_tP-wMCsmNh"
      },
      "outputs": [],
      "source": [
        "sample_medians = Table().with_columns('Size 10', sample_medians_10,\n",
        "                                      'Size 100', sample_medians_100,\n",
        "                                      'Size 1000', sample_medians_1000)"
      ]
    },
    {
      "cell_type": "code",
      "execution_count": null,
      "metadata": {
        "id": "ie8OtagksmNh"
      },
      "outputs": [],
      "source": [
        "sample_medians.hist(bins = np.arange(-5, 30))"
      ]
    },
    {
      "cell_type": "markdown",
      "metadata": {
        "id": "Kqbdbs90smNh"
      },
      "source": [
        "## Mendel and Pea Flowers ##"
      ]
    },
    {
      "cell_type": "code",
      "execution_count": null,
      "metadata": {
        "id": "5vKhPw9KsmNi"
      },
      "outputs": [],
      "source": [
        "## Mendel had 929 plants, of which 709 had purple flowers\n",
        "observed_purples = 709 / 929\n",
        "observed_purples"
      ]
    },
    {
      "cell_type": "code",
      "execution_count": null,
      "metadata": {
        "id": "bAOAkcZesmNi"
      },
      "outputs": [],
      "source": [
        "predicted_proportions = make_array(.75, .25)\n",
        "sample_proportions(929, predicted_proportions)"
      ]
    },
    {
      "cell_type": "code",
      "execution_count": null,
      "metadata": {
        "id": "R78kYlC2smNi"
      },
      "outputs": [],
      "source": [
        "def purple_flowers():\n",
        "    return sample_proportions(929, predicted_proportions).item(0) * 100"
      ]
    },
    {
      "cell_type": "code",
      "execution_count": null,
      "metadata": {
        "id": "oI6MnybcsmNi"
      },
      "outputs": [],
      "source": [
        "purple_flowers()"
      ]
    },
    {
      "cell_type": "code",
      "execution_count": null,
      "metadata": {
        "id": "udCxsM20smNi"
      },
      "outputs": [],
      "source": [
        "purples = make_array()\n",
        "\n",
        "for i in np.arange(10000):\n",
        "    new_purple = purple_flowers()\n",
        "    purples = np.append(purples, new_purple)"
      ]
    },
    {
      "cell_type": "code",
      "execution_count": null,
      "metadata": {
        "id": "TFBkUkmnsmNi"
      },
      "outputs": [],
      "source": [
        "Table().with_column('Percent of purple flowers in sample of 929', purples).hist()"
      ]
    },
    {
      "cell_type": "code",
      "execution_count": null,
      "metadata": {
        "id": "ajz8PtTEsmNi"
      },
      "outputs": [],
      "source": [
        "Table().with_column('Discrepancy in sample of 929 if the model is true', abs(purples- 75)).hist()"
      ]
    },
    {
      "cell_type": "code",
      "execution_count": null,
      "metadata": {
        "id": "z47oROsRsmNi"
      },
      "outputs": [],
      "source": [
        "abs(observed_purples * 100 - 75)"
      ]
    },
    {
      "cell_type": "markdown",
      "metadata": {
        "id": "stiKspPasmNi"
      },
      "source": [
        "## Swain vs. Alabama ##"
      ]
    },
    {
      "cell_type": "code",
      "execution_count": null,
      "metadata": {
        "id": "LGfc_orSsmNi"
      },
      "outputs": [],
      "source": [
        "population_proportions = make_array(.26, .74)\n",
        "population_proportions"
      ]
    },
    {
      "cell_type": "code",
      "execution_count": null,
      "metadata": {
        "id": "7xT5gQIvsmNi"
      },
      "outputs": [],
      "source": [
        "sample_proportions(100, population_proportions)"
      ]
    },
    {
      "cell_type": "code",
      "execution_count": null,
      "metadata": {
        "id": "oR_Eig1lsmNi"
      },
      "outputs": [],
      "source": [
        "def panel_proportion():\n",
        "    return sample_proportions(100, population_proportions).item(0)"
      ]
    },
    {
      "cell_type": "code",
      "execution_count": null,
      "metadata": {
        "id": "AIJgxuXEsmNi"
      },
      "outputs": [],
      "source": [
        "panel_proportion()"
      ]
    },
    {
      "cell_type": "code",
      "execution_count": null,
      "metadata": {
        "id": "XsVpmQAusmNi"
      },
      "outputs": [],
      "source": [
        "panels = make_array()\n",
        "\n",
        "for i in np.arange(10000):\n",
        "    new_panel = panel_proportion() * 100\n",
        "    panels = np.append(panels, new_panel)"
      ]
    },
    {
      "cell_type": "code",
      "execution_count": null,
      "metadata": {
        "id": "koGy2BvTsmNi"
      },
      "outputs": [],
      "source": [
        "Table().with_column(\n",
        "    'Number of Black Men on Panel of 100', panels\n",
        ").hist(bins=np.arange(5.5,40.))\n",
        "\n",
        "# Plotting details; ignore this code\n",
        "plots.ylim(-0.002, 0.09)\n",
        "plots.scatter(8, 0, color='red', s=30);"
      ]
    }
  ],
  "metadata": {
    "anaconda-cloud": {},
    "colab": {
      "provenance": []
    },
    "kernelspec": {
      "display_name": "Python 3",
      "language": "python",
      "name": "python3"
    },
    "language_info": {
      "codemirror_mode": {
        "name": "ipython",
        "version": 3
      },
      "file_extension": ".py",
      "mimetype": "text/x-python",
      "name": "python",
      "nbconvert_exporter": "python",
      "pygments_lexer": "ipython3",
      "version": "3.8.17"
    }
  },
  "nbformat": 4,
  "nbformat_minor": 0
}