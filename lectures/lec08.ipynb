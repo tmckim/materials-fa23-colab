{
  "cells": [
    {
      "cell_type": "markdown",
      "metadata": {
        "id": "33Vax7Gn-qBD"
      },
      "source": [
        "<a href=\"https://colab.research.google.com/github/tmckim/materials-fa23-colab-working/blob/main/lectures/lec08.ipynb\" target=\"_parent\"><img src=\"https://colab.research.google.com/assets/colab-badge.svg\" alt=\"Open In Colab\"/></a>"
      ]
    },
    {
      "cell_type": "markdown",
      "metadata": {
        "id": "AxOCU-Ud-qBI"
      },
      "source": [
        "## Before you start - Save this notebook!\n",
        "\n",
        "When you open a new Colab notebook from the WebCampus (like you hopefully did for this one), you cannot save changes. So it's  best to store the Colab notebook in your personal drive `\"File > Save a copy in drive...\"` **before** you do anything else.\n",
        "\n",
        "The file will open in a new tab in your web browser, and it is automatically named something like: \"**Copy of lec08.ipynb**\". You can rename this to just the title of the assignment \"**lec08.ipynb**\". Make sure you do keep an informative name (like the name of the assignment) so that you know which files to submit back to WebCampus for grading! More instructions on this are at the end of the notebook.\n",
        "\n",
        "\n",
        "**Where does the notebook get saved in Google Drive?**\n",
        "\n",
        "By default, the notebook will be copied to a folder called “Colab Notebooks” at the root (home directory) of your Google Drive. If you use this for other courses or personal code notebooks, I recommend creating a folder for this course and then moving the assignments AFTER you have completed them."
      ]
    },
    {
      "cell_type": "code",
      "execution_count": null,
      "metadata": {
        "id": "-zcfaK0S-qBJ"
      },
      "outputs": [],
      "source": [
        "# Setup and add files needed to gdrive\n",
        "# If you restart colab, start by rerunning this cell first!\n",
        "from google.colab import drive\n",
        "drive.mount('/content/gdrive', force_remount=True)\n",
        "\n",
        "#!mkdir -p '/content/gdrive/My Drive/colab-materials-NS499DataSci-notebooks/'\n",
        "%cd /content/gdrive/My Drive/colab-materials-NS499DataSci-notebooks/\n",
        "!rm -r materials-fa23-colab-working\n",
        "\n",
        "!git clone https://github.com/tmckim/materials-fa23-colab-working '/content/gdrive/My Drive/colab-materials-NS499DataSci-notebooks/materials-fa23-colab-working/'\n",
        "\n",
        "%cd /content/gdrive/MyDrive/colab-materials-NS499DataSci-notebooks/materials-fa23-colab-working/lectures/"
      ]
    },
    {
      "cell_type": "code",
      "execution_count": 1,
      "metadata": {
        "colab": {
          "base_uri": "https://localhost:8080/"
        },
        "id": "-I41ePW0-qBL",
        "outputId": "be4ccf34-7813-41cd-9135-e00a56a7b69a"
      },
      "outputs": [
        {
          "name": "stdout",
          "output_type": "stream",
          "text": [
            "Mounted at /content/gdrive\n",
            "/content/gdrive/MyDrive/colab-materials-NS499DataSci-notebooks/materials-fa23-colab-working/lectures\n"
          ]
        }
      ],
      "source": [
        "############### TEST\n",
        "from google.colab import drive\n",
        "drive.mount('/content/gdrive', force_remount=True)\n",
        "\n",
        "%cd /content/gdrive/MyDrive/colab-materials-NS499DataSci-notebooks/materials-fa23-colab-working/lectures/"
      ]
    },
    {
      "cell_type": "code",
      "execution_count": 2,
      "metadata": {
        "id": "qK42NZIo-qBL"
      },
      "outputs": [],
      "source": [
        "# Import packages and other things needed\n",
        "# Don't change this cell; Just run this cell\n",
        "# If you restart colab, make sure to run this cell again after the first one above^\n",
        "\n",
        "from datascience import *\n",
        "import numpy as np\n",
        "\n",
        "%matplotlib inline\n",
        "import matplotlib.pyplot as plots\n",
        "plots.style.use('fivethirtyeight')"
      ]
    },
    {
      "cell_type": "markdown",
      "metadata": {
        "id": "0azJYZO0-qBM"
      },
      "source": [
        "## Lecture 08 ##"
      ]
    },
    {
      "cell_type": "markdown",
      "metadata": {
        "id": "6EmBmjeT-qBM"
      },
      "source": [
        "In this lecture we will:\n",
        "- Demonstrate deterministic and random sampling\n",
        "- Plot Probability and Empirical Distributions\n",
        "- Demonstrate the law of large numbers"
      ]
    },
    {
      "cell_type": "markdown",
      "metadata": {
        "id": "bqsZSzGH-qBN"
      },
      "source": [
        "## Random Sampling ##"
      ]
    },
    {
      "cell_type": "markdown",
      "metadata": {
        "id": "ez9rJsWf-qBN"
      },
      "source": [
        "We load in a dataset of all United flights national flights from 6/1/15 to 8/9/15, their destination and how long they were delayed, in minutes."
      ]
    },
    {
      "cell_type": "code",
      "execution_count": null,
      "metadata": {
        "id": "0xRu_SMC-6FK"
      },
      "outputs": [],
      "source": [
        "# columns:\n",
        "# date\n",
        "# flight number\n",
        "# destination\n",
        "# delay (in minutes)"
      ]
    },
    {
      "cell_type": "code",
      "execution_count": 3,
      "metadata": {
        "colab": {
          "base_uri": "https://localhost:8080/",
          "height": 392
        },
        "id": "FK_4QWus-qBO",
        "outputId": "43d52f6c-1db5-4049-b185-e10d596d371b"
      },
      "outputs": [
        {
          "data": {
            "text/html": [
              "<table border=\"1\" class=\"dataframe\">\n",
              "    <thead>\n",
              "        <tr>\n",
              "            <th>Row</th> <th>Date</th> <th>Flight Number</th> <th>Destination</th> <th>Delay</th>\n",
              "        </tr>\n",
              "    </thead>\n",
              "    <tbody>\n",
              "        <tr>\n",
              "            <td>0   </td> <td>6/1/15</td> <td>73           </td> <td>HNL        </td> <td>257  </td>\n",
              "        </tr>\n",
              "        <tr>\n",
              "            <td>1   </td> <td>6/1/15</td> <td>217          </td> <td>EWR        </td> <td>28   </td>\n",
              "        </tr>\n",
              "        <tr>\n",
              "            <td>2   </td> <td>6/1/15</td> <td>237          </td> <td>STL        </td> <td>-3   </td>\n",
              "        </tr>\n",
              "        <tr>\n",
              "            <td>3   </td> <td>6/1/15</td> <td>250          </td> <td>SAN        </td> <td>0    </td>\n",
              "        </tr>\n",
              "        <tr>\n",
              "            <td>4   </td> <td>6/1/15</td> <td>267          </td> <td>PHL        </td> <td>64   </td>\n",
              "        </tr>\n",
              "        <tr>\n",
              "            <td>5   </td> <td>6/1/15</td> <td>273          </td> <td>SEA        </td> <td>-6   </td>\n",
              "        </tr>\n",
              "        <tr>\n",
              "            <td>6   </td> <td>6/1/15</td> <td>278          </td> <td>SEA        </td> <td>-8   </td>\n",
              "        </tr>\n",
              "        <tr>\n",
              "            <td>7   </td> <td>6/1/15</td> <td>292          </td> <td>EWR        </td> <td>12   </td>\n",
              "        </tr>\n",
              "        <tr>\n",
              "            <td>8   </td> <td>6/1/15</td> <td>300          </td> <td>HNL        </td> <td>20   </td>\n",
              "        </tr>\n",
              "        <tr>\n",
              "            <td>9   </td> <td>6/1/15</td> <td>317          </td> <td>IND        </td> <td>-10  </td>\n",
              "        </tr>\n",
              "    </tbody>\n",
              "</table>\n",
              "<p>... (13815 rows omitted)</p>"
            ],
            "text/plain": [
              "Row  | Date   | Flight Number | Destination | Delay\n",
              "0    | 6/1/15 | 73            | HNL         | 257\n",
              "1    | 6/1/15 | 217           | EWR         | 28\n",
              "2    | 6/1/15 | 237           | STL         | -3\n",
              "3    | 6/1/15 | 250           | SAN         | 0\n",
              "4    | 6/1/15 | 267           | PHL         | 64\n",
              "5    | 6/1/15 | 273           | SEA         | -6\n",
              "6    | 6/1/15 | 278           | SEA         | -8\n",
              "7    | 6/1/15 | 292           | EWR         | 12\n",
              "8    | 6/1/15 | 300           | HNL         | 20\n",
              "9    | 6/1/15 | 317           | IND         | -10\n",
              "... (13815 rows omitted)"
            ]
          },
          "execution_count": 3,
          "metadata": {},
          "output_type": "execute_result"
        }
      ],
      "source": [
        "# Load in our data\n",
        "united = Table.read_table('united.csv')\n",
        "united = united.with_column('Row', np.arange(united.num_rows)).move_to_start('Row') # add row numbers so we can see samples more easily\n",
        "united"
      ]
    },
    {
      "cell_type": "markdown",
      "metadata": {
        "id": "Tsa8ZMpa-qBO"
      },
      "source": [
        "For each of the following, is this a deterministic or a random sampling strategy?"
      ]
    },
    {
      "cell_type": "code",
      "execution_count": 4,
      "metadata": {
        "colab": {
          "base_uri": "https://localhost:8080/",
          "height": 392
        },
        "id": "s3BUjeXp-qBP",
        "outputId": "b8b7381f-575b-49ee-c735-198c3b31f1e9"
      },
      "outputs": [
        {
          "data": {
            "text/html": [
              "<table border=\"1\" class=\"dataframe\">\n",
              "    <thead>\n",
              "        <tr>\n",
              "            <th>Row</th> <th>Date</th> <th>Flight Number</th> <th>Destination</th> <th>Delay</th>\n",
              "        </tr>\n",
              "    </thead>\n",
              "    <tbody>\n",
              "        <tr>\n",
              "            <td>26  </td> <td>6/1/15</td> <td>502          </td> <td>JFK        </td> <td>-4   </td>\n",
              "        </tr>\n",
              "        <tr>\n",
              "            <td>33  </td> <td>6/1/15</td> <td>637          </td> <td>JFK        </td> <td>141  </td>\n",
              "        </tr>\n",
              "        <tr>\n",
              "            <td>39  </td> <td>6/1/15</td> <td>704          </td> <td>JFK        </td> <td>-8   </td>\n",
              "        </tr>\n",
              "        <tr>\n",
              "            <td>50  </td> <td>6/1/15</td> <td>758          </td> <td>JFK        </td> <td>-5   </td>\n",
              "        </tr>\n",
              "        <tr>\n",
              "            <td>51  </td> <td>6/1/15</td> <td>760          </td> <td>JFK        </td> <td>352  </td>\n",
              "        </tr>\n",
              "        <tr>\n",
              "            <td>56  </td> <td>6/1/15</td> <td>824          </td> <td>JFK        </td> <td>3    </td>\n",
              "        </tr>\n",
              "        <tr>\n",
              "            <td>57  </td> <td>6/1/15</td> <td>898          </td> <td>JFK        </td> <td>290  </td>\n",
              "        </tr>\n",
              "        <tr>\n",
              "            <td>179 </td> <td>6/2/15</td> <td>502          </td> <td>JFK        </td> <td>0    </td>\n",
              "        </tr>\n",
              "        <tr>\n",
              "            <td>188 </td> <td>6/2/15</td> <td>637          </td> <td>JFK        </td> <td>202  </td>\n",
              "        </tr>\n",
              "        <tr>\n",
              "            <td>194 </td> <td>6/2/15</td> <td>704          </td> <td>JFK        </td> <td>-11  </td>\n",
              "        </tr>\n",
              "    </tbody>\n",
              "</table>\n",
              "<p>... (593 rows omitted)</p>"
            ],
            "text/plain": [
              "Row  | Date   | Flight Number | Destination | Delay\n",
              "26   | 6/1/15 | 502           | JFK         | -4\n",
              "33   | 6/1/15 | 637           | JFK         | 141\n",
              "39   | 6/1/15 | 704           | JFK         | -8\n",
              "50   | 6/1/15 | 758           | JFK         | -5\n",
              "51   | 6/1/15 | 760           | JFK         | 352\n",
              "56   | 6/1/15 | 824           | JFK         | 3\n",
              "57   | 6/1/15 | 898           | JFK         | 290\n",
              "179  | 6/2/15 | 502           | JFK         | 0\n",
              "188  | 6/2/15 | 637           | JFK         | 202\n",
              "194  | 6/2/15 | 704           | JFK         | -11\n",
              "... (593 rows omitted)"
            ]
          },
          "execution_count": 4,
          "metadata": {},
          "output_type": "execute_result"
        }
      ],
      "source": [
        "# Take a sample, like we've been doing already in this class\n",
        "united.where('Destination', 'JFK')"
      ]
    },
    {
      "cell_type": "code",
      "execution_count": 5,
      "metadata": {
        "colab": {
          "base_uri": "https://localhost:8080/",
          "height": 143
        },
        "id": "SbRMiVQg-qBP",
        "outputId": "1183f6ef-7983-48a2-a65e-0a9ea7e1932b"
      },
      "outputs": [
        {
          "data": {
            "text/html": [
              "<table border=\"1\" class=\"dataframe\">\n",
              "    <thead>\n",
              "        <tr>\n",
              "            <th>Row</th> <th>Date</th> <th>Flight Number</th> <th>Destination</th> <th>Delay</th>\n",
              "        </tr>\n",
              "    </thead>\n",
              "    <tbody>\n",
              "        <tr>\n",
              "            <td>5950</td> <td>7/10/15</td> <td>1742         </td> <td>EWR        </td> <td>20   </td>\n",
              "        </tr>\n",
              "        <tr>\n",
              "            <td>8527</td> <td>7/27/15</td> <td>1796         </td> <td>IAD        </td> <td>14   </td>\n",
              "        </tr>\n",
              "        <tr>\n",
              "            <td>820 </td> <td>6/6/15 </td> <td>1121         </td> <td>PHL        </td> <td>163  </td>\n",
              "        </tr>\n",
              "    </tbody>\n",
              "</table>"
            ],
            "text/plain": [
              "Row  | Date    | Flight Number | Destination | Delay\n",
              "5950 | 7/10/15 | 1742          | EWR         | 20\n",
              "8527 | 7/27/15 | 1796          | IAD         | 14\n",
              "820  | 6/6/15  | 1121          | PHL         | 163"
            ]
          },
          "execution_count": 5,
          "metadata": {},
          "output_type": "execute_result"
        }
      ],
      "source": [
        "# Sampling table method, with replacement\n",
        "united.sample(3, with_replacement= True)"
      ]
    },
    {
      "cell_type": "code",
      "execution_count": 6,
      "metadata": {
        "colab": {
          "base_uri": "https://localhost:8080/",
          "height": 392
        },
        "id": "-3DSHFlG-qBP",
        "outputId": "1a076633-1dae-4639-baef-82e1fbacc294"
      },
      "outputs": [
        {
          "data": {
            "text/html": [
              "<table border=\"1\" class=\"dataframe\">\n",
              "    <thead>\n",
              "        <tr>\n",
              "            <th>Row</th> <th>Date</th> <th>Flight Number</th> <th>Destination</th> <th>Delay</th>\n",
              "        </tr>\n",
              "    </thead>\n",
              "    <tbody>\n",
              "        <tr>\n",
              "            <td>0   </td> <td>6/1/15 </td> <td>73           </td> <td>HNL        </td> <td>257  </td>\n",
              "        </tr>\n",
              "        <tr>\n",
              "            <td>1000</td> <td>6/7/15 </td> <td>1692         </td> <td>EWR        </td> <td>7    </td>\n",
              "        </tr>\n",
              "        <tr>\n",
              "            <td>2000</td> <td>6/14/15</td> <td>824          </td> <td>JFK        </td> <td>-1   </td>\n",
              "        </tr>\n",
              "        <tr>\n",
              "            <td>3000</td> <td>6/21/15</td> <td>217          </td> <td>EWR        </td> <td>5    </td>\n",
              "        </tr>\n",
              "        <tr>\n",
              "            <td>4000</td> <td>6/27/15</td> <td>1401         </td> <td>SAN        </td> <td>-4   </td>\n",
              "        </tr>\n",
              "        <tr>\n",
              "            <td>5000</td> <td>7/4/15 </td> <td>1614         </td> <td>LAS        </td> <td>-2   </td>\n",
              "        </tr>\n",
              "        <tr>\n",
              "            <td>6000</td> <td>7/11/15</td> <td>401          </td> <td>CLE        </td> <td>4    </td>\n",
              "        </tr>\n",
              "        <tr>\n",
              "            <td>7000</td> <td>7/17/15</td> <td>1645         </td> <td>IAD        </td> <td>0    </td>\n",
              "        </tr>\n",
              "        <tr>\n",
              "            <td>8000</td> <td>7/24/15</td> <td>624          </td> <td>ORD        </td> <td>61   </td>\n",
              "        </tr>\n",
              "        <tr>\n",
              "            <td>9000</td> <td>7/30/15</td> <td>1728         </td> <td>ORD        </td> <td>209  </td>\n",
              "        </tr>\n",
              "    </tbody>\n",
              "</table>\n",
              "<p>... (4 rows omitted)</p>"
            ],
            "text/plain": [
              "Row  | Date    | Flight Number | Destination | Delay\n",
              "0    | 6/1/15  | 73            | HNL         | 257\n",
              "1000 | 6/7/15  | 1692          | EWR         | 7\n",
              "2000 | 6/14/15 | 824           | JFK         | -1\n",
              "3000 | 6/21/15 | 217           | EWR         | 5\n",
              "4000 | 6/27/15 | 1401          | SAN         | -4\n",
              "5000 | 7/4/15  | 1614          | LAS         | -2\n",
              "6000 | 7/11/15 | 401           | CLE         | 4\n",
              "7000 | 7/17/15 | 1645          | IAD         | 0\n",
              "8000 | 7/24/15 | 624           | ORD         | 61\n",
              "9000 | 7/30/15 | 1728          | ORD         | 209\n",
              "... (4 rows omitted)"
            ]
          },
          "execution_count": 6,
          "metadata": {},
          "output_type": "execute_result"
        }
      ],
      "source": [
        "# sample using np.arange\n",
        "united.take(np.arange(0, united.num_rows, 1000))"
      ]
    },
    {
      "cell_type": "code",
      "execution_count": 7,
      "metadata": {
        "colab": {
          "base_uri": "https://localhost:8080/",
          "height": 143
        },
        "id": "RLN00_JL-qBQ",
        "outputId": "49f9b804-72ce-4903-c9db-1a92db658936"
      },
      "outputs": [
        {
          "data": {
            "text/html": [
              "<table border=\"1\" class=\"dataframe\">\n",
              "    <thead>\n",
              "        <tr>\n",
              "            <th>Row</th> <th>Date</th> <th>Flight Number</th> <th>Destination</th> <th>Delay</th>\n",
              "        </tr>\n",
              "    </thead>\n",
              "    <tbody>\n",
              "        <tr>\n",
              "            <td>34   </td> <td>6/1/15 </td> <td>650          </td> <td>AUS        </td> <td>44   </td>\n",
              "        </tr>\n",
              "        <tr>\n",
              "            <td>6321 </td> <td>7/13/15</td> <td>1124         </td> <td>SEA        </td> <td>-7   </td>\n",
              "        </tr>\n",
              "        <tr>\n",
              "            <td>10040</td> <td>8/6/15 </td> <td>1216         </td> <td>LAS        </td> <td>2    </td>\n",
              "        </tr>\n",
              "    </tbody>\n",
              "</table>"
            ],
            "text/plain": [
              "Row   | Date    | Flight Number | Destination | Delay\n",
              "34    | 6/1/15  | 650           | AUS         | 44\n",
              "6321  | 7/13/15 | 1124          | SEA         | -7\n",
              "10040 | 8/6/15  | 1216          | LAS         | 2"
            ]
          },
          "execution_count": 7,
          "metadata": {},
          "output_type": "execute_result"
        }
      ],
      "source": [
        "# Sample using take method\n",
        "united.take(make_array(34, 6321, 10040))"
      ]
    },
    {
      "cell_type": "code",
      "execution_count": 8,
      "metadata": {
        "colab": {
          "base_uri": "https://localhost:8080/",
          "height": 143
        },
        "id": "RjD0YrtS-qBQ",
        "outputId": "52d3db59-a6c7-4889-f1d5-0799f6868fd6"
      },
      "outputs": [
        {
          "data": {
            "text/html": [
              "<table border=\"1\" class=\"dataframe\">\n",
              "    <thead>\n",
              "        <tr>\n",
              "            <th>Row</th> <th>Date</th> <th>Flight Number</th> <th>Destination</th> <th>Delay</th>\n",
              "        </tr>\n",
              "    </thead>\n",
              "    <tbody>\n",
              "        <tr>\n",
              "            <td>6440 </td> <td>7/14/15</td> <td>502          </td> <td>JFK        </td> <td>151  </td>\n",
              "        </tr>\n",
              "        <tr>\n",
              "            <td>11561</td> <td>8/16/15</td> <td>758          </td> <td>JFK        </td> <td>-6   </td>\n",
              "        </tr>\n",
              "        <tr>\n",
              "            <td>1400 </td> <td>6/10/15</td> <td>760          </td> <td>JFK        </td> <td>5    </td>\n",
              "        </tr>\n",
              "    </tbody>\n",
              "</table>"
            ],
            "text/plain": [
              "Row   | Date    | Flight Number | Destination | Delay\n",
              "6440  | 7/14/15 | 502           | JFK         | 151\n",
              "11561 | 8/16/15 | 758           | JFK         | -6\n",
              "1400  | 6/10/15 | 760           | JFK         | 5"
            ]
          },
          "execution_count": 8,
          "metadata": {},
          "output_type": "execute_result"
        }
      ],
      "source": [
        "# combination of methods\n",
        "united.where('Destination', 'JFK').sample(3,with_replacement= True)"
      ]
    },
    {
      "cell_type": "code",
      "execution_count": 9,
      "metadata": {
        "colab": {
          "base_uri": "https://localhost:8080/",
          "height": 488
        },
        "id": "fZM43OhN-qBQ",
        "outputId": "d9aaf940-ac21-4771-dd0e-ba5520aa3743"
      },
      "outputs": [
        {
          "data": {
            "text/html": [
              "<table border=\"1\" class=\"dataframe\">\n",
              "    <thead>\n",
              "        <tr>\n",
              "            <th>Row</th> <th>Date</th> <th>Flight Number</th> <th>Destination</th> <th>Delay</th>\n",
              "        </tr>\n",
              "    </thead>\n",
              "    <tbody>\n",
              "        <tr>\n",
              "            <td>305  </td> <td>6/3/15 </td> <td>317          </td> <td>IND        </td> <td>25   </td>\n",
              "        </tr>\n",
              "        <tr>\n",
              "            <td>1305 </td> <td>6/9/15 </td> <td>1645         </td> <td>IAD        </td> <td>-6   </td>\n",
              "        </tr>\n",
              "        <tr>\n",
              "            <td>2305 </td> <td>6/16/15</td> <td>824          </td> <td>JFK        </td> <td>-2   </td>\n",
              "        </tr>\n",
              "        <tr>\n",
              "            <td>3305 </td> <td>6/23/15</td> <td>251          </td> <td>PDX        </td> <td>0    </td>\n",
              "        </tr>\n",
              "        <tr>\n",
              "            <td>4305 </td> <td>6/29/15</td> <td>1581         </td> <td>OGG        </td> <td>-7   </td>\n",
              "        </tr>\n",
              "        <tr>\n",
              "            <td>5305 </td> <td>7/6/15 </td> <td>1748         </td> <td>AUS        </td> <td>83   </td>\n",
              "        </tr>\n",
              "        <tr>\n",
              "            <td>6305 </td> <td>7/13/15</td> <td>820          </td> <td>ORD        </td> <td>4    </td>\n",
              "        </tr>\n",
              "        <tr>\n",
              "            <td>7305 </td> <td>7/19/15</td> <td>1946         </td> <td>BOS        </td> <td>1    </td>\n",
              "        </tr>\n",
              "        <tr>\n",
              "            <td>8305 </td> <td>7/26/15</td> <td>834          </td> <td>DEN        </td> <td>-4   </td>\n",
              "        </tr>\n",
              "        <tr>\n",
              "            <td>9305 </td> <td>8/1/15 </td> <td>1796         </td> <td>IAD        </td> <td>30   </td>\n",
              "        </tr>\n",
              "        <tr>\n",
              "            <td>10305</td> <td>8/8/15 </td> <td>390          </td> <td>ORD        </td> <td>-6   </td>\n",
              "        </tr>\n",
              "        <tr>\n",
              "            <td>11305</td> <td>8/14/15</td> <td>1211         </td> <td>ORD        </td> <td>0    </td>\n",
              "        </tr>\n",
              "        <tr>\n",
              "            <td>12305</td> <td>8/21/15</td> <td>718          </td> <td>IAH        </td> <td>37   </td>\n",
              "        </tr>\n",
              "        <tr>\n",
              "            <td>13305</td> <td>8/28/15</td> <td>664          </td> <td>LAS        </td> <td>-4   </td>\n",
              "        </tr>\n",
              "    </tbody>\n",
              "</table>"
            ],
            "text/plain": [
              "<IPython.core.display.HTML object>"
            ]
          },
          "metadata": {},
          "output_type": "display_data"
        }
      ],
      "source": [
        "# A systematic sample example\n",
        "start = np.random.choice(np.arange(1000))\n",
        "systematic_sample = united.take(np.arange(start, united.num_rows, 1000))\n",
        "systematic_sample.show()"
      ]
    },
    {
      "cell_type": "markdown",
      "metadata": {
        "id": "v6A4gvtv-qBQ"
      },
      "source": [
        "## Distributions ##"
      ]
    },
    {
      "cell_type": "code",
      "execution_count": 10,
      "metadata": {
        "colab": {
          "base_uri": "https://localhost:8080/",
          "height": 238
        },
        "id": "oV0AwOcS-qBQ",
        "outputId": "426a8096-9a4c-4465-ce36-e4b03fd85c95"
      },
      "outputs": [
        {
          "data": {
            "text/html": [
              "<table border=\"1\" class=\"dataframe\">\n",
              "    <thead>\n",
              "        <tr>\n",
              "            <th>Face</th>\n",
              "        </tr>\n",
              "    </thead>\n",
              "    <tbody>\n",
              "        <tr>\n",
              "            <td>1   </td>\n",
              "        </tr>\n",
              "        <tr>\n",
              "            <td>2   </td>\n",
              "        </tr>\n",
              "        <tr>\n",
              "            <td>3   </td>\n",
              "        </tr>\n",
              "        <tr>\n",
              "            <td>4   </td>\n",
              "        </tr>\n",
              "        <tr>\n",
              "            <td>5   </td>\n",
              "        </tr>\n",
              "        <tr>\n",
              "            <td>6   </td>\n",
              "        </tr>\n",
              "    </tbody>\n",
              "</table>"
            ],
            "text/plain": [
              "Face\n",
              "1\n",
              "2\n",
              "3\n",
              "4\n",
              "5\n",
              "6"
            ]
          },
          "execution_count": 10,
          "metadata": {},
          "output_type": "execute_result"
        }
      ],
      "source": [
        "# A single, fair die\n",
        "die = Table().with_column('Face', np.arange(1, 7))\n",
        "die"
      ]
    },
    {
      "cell_type": "markdown",
      "metadata": {
        "id": "lk2YLh0h-qBR"
      },
      "source": [
        "What is the **Probability Distribution** of drawing each face assuming each face is equally likely (a 'fair die')?"
      ]
    },
    {
      "cell_type": "code",
      "execution_count": 14,
      "metadata": {
        "colab": {
          "base_uri": "https://localhost:8080/",
          "height": 417
        },
        "id": "BuykMyaM-qBR",
        "outputId": "ff6e0c38-b929-4f27-93dd-7e6dddff1748"
      },
      "outputs": [
        {
          "data": {
            "image/png": "[encoded data removed]",
            "text/plain": [
              "<Figure size 600x400 with 1 Axes>"
            ]
          },
          "metadata": {},
          "output_type": "display_data"
        }
      ],
      "source": [
        "# Probability distribution\n",
        "roll_bins = np.arange(0.5,6.6,1)\n",
        "die.hist(bins=roll_bins)"
      ]
    },
    {
      "cell_type": "markdown",
      "metadata": {
        "id": "30gstqAy-qBR"
      },
      "source": [
        "We can sample from the die table many tims with replacement:"
      ]
    },
    {
      "cell_type": "code",
      "execution_count": 12,
      "metadata": {
        "colab": {
          "base_uri": "https://localhost:8080/",
          "height": 206
        },
        "id": "_83JJaxC-qBR",
        "outputId": "ea918cb3-2e0a-489b-80d1-09df90822974"
      },
      "outputs": [
        {
          "data": {
            "text/html": [
              "<table border=\"1\" class=\"dataframe\">\n",
              "    <thead>\n",
              "        <tr>\n",
              "            <th>Face</th>\n",
              "        </tr>\n",
              "    </thead>\n",
              "    <tbody>\n",
              "        <tr>\n",
              "            <td>3   </td>\n",
              "        </tr>\n",
              "        <tr>\n",
              "            <td>2   </td>\n",
              "        </tr>\n",
              "        <tr>\n",
              "            <td>5   </td>\n",
              "        </tr>\n",
              "        <tr>\n",
              "            <td>1   </td>\n",
              "        </tr>\n",
              "        <tr>\n",
              "            <td>6   </td>\n",
              "        </tr>\n",
              "    </tbody>\n",
              "</table>"
            ],
            "text/plain": [
              "Face\n",
              "3\n",
              "2\n",
              "5\n",
              "1\n",
              "6"
            ]
          },
          "execution_count": 12,
          "metadata": {},
          "output_type": "execute_result"
        }
      ],
      "source": [
        "die.sample(5)"
      ]
    },
    {
      "cell_type": "markdown",
      "metadata": {
        "id": "-jgJ53ki-qBR"
      },
      "source": [
        "We can construct an **Empirical Distribution** from our simulation:"
      ]
    },
    {
      "cell_type": "code",
      "execution_count": 21,
      "metadata": {
        "colab": {
          "base_uri": "https://localhost:8080/",
          "height": 410
        },
        "id": "-EamBcEB-qBS",
        "outputId": "0b3f50c7-7692-40d4-9f9b-b913437468dd"
      },
      "outputs": [
        {
          "data": {
            "image/png": "[encoded data removed]",
            "text/plain": [
              "<Figure size 600x400 with 1 Axes>"
            ]
          },
          "metadata": {},
          "output_type": "display_data"
        }
      ],
      "source": [
        "die.sample(10).hist(bins=roll_bins)"
      ]
    },
    {
      "cell_type": "markdown",
      "metadata": {
        "id": "U1G7AoiD-qBS"
      },
      "source": [
        "What happens if we increase the number of trials in our simulation? What happens to the distribution?"
      ]
    },
    {
      "cell_type": "code",
      "execution_count": 23,
      "metadata": {
        "colab": {
          "base_uri": "https://localhost:8080/",
          "height": 410
        },
        "id": "9als5-JH-qBS",
        "outputId": "8a9e84ff-145d-43c0-bdf8-f24563e7212b"
      },
      "outputs": [
        {
          "data": {
            "image/png": "[encoded data removed]",
            "text/plain": [
              "<Figure size 600x400 with 1 Axes>"
            ]
          },
          "metadata": {},
          "output_type": "display_data"
        }
      ],
      "source": [
        "die.sample(1000).hist(bins=roll_bins)"
      ]
    },
    {
      "cell_type": "code",
      "execution_count": 24,
      "metadata": {
        "colab": {
          "base_uri": "https://localhost:8080/",
          "height": 414
        },
        "id": "9Xjx0jSh-qBS",
        "outputId": "c827520f-2aa5-4d1f-feb1-ec38710fcdb6"
      },
      "outputs": [
        {
          "data": {
            "image/png": "[encoded data removed]",
            "text/plain": [
              "<Figure size 600x400 with 1 Axes>"
            ]
          },
          "metadata": {},
          "output_type": "display_data"
        }
      ],
      "source": [
        "die.sample(100000).hist(bins=roll_bins)"
      ]
    },
    {
      "cell_type": "markdown",
      "metadata": {
        "id": "xNvu6Wl2-qBS"
      },
      "source": [
        "## Large Random Samples ##"
      ]
    },
    {
      "cell_type": "markdown",
      "metadata": {
        "id": "RiC_D2IF-qBS"
      },
      "source": [
        "The United flight dataset is a relatively large dataset:"
      ]
    },
    {
      "cell_type": "code",
      "execution_count": 25,
      "metadata": {
        "colab": {
          "base_uri": "https://localhost:8080/"
        },
        "id": "DNa9z0TD-qBS",
        "outputId": "8a36f4ac-08bd-4216-ffb5-a385d95e74be"
      },
      "outputs": [
        {
          "data": {
            "text/plain": [
              "13825"
            ]
          },
          "execution_count": 25,
          "metadata": {},
          "output_type": "execute_result"
        }
      ],
      "source": [
        "# Show how much data\n",
        "united.num_rows"
      ]
    },
    {
      "cell_type": "markdown",
      "metadata": {
        "id": "WLBhE8Oj-qBT"
      },
      "source": [
        "We can plot the distribution of delays for the population:"
      ]
    },
    {
      "cell_type": "code",
      "execution_count": 26,
      "metadata": {
        "colab": {
          "base_uri": "https://localhost:8080/",
          "height": 410
        },
        "id": "RffmXVZy-qBT",
        "outputId": "92d41730-b5ac-4bf6-d763-b943a118361d"
      },
      "outputs": [
        {
          "data": {
            "image/png": "[encoded data removed]",
            "text/plain": [
              "<Figure size 600x400 with 1 Axes>"
            ]
          },
          "metadata": {},
          "output_type": "display_data"
        }
      ],
      "source": [
        "# Some very delayed flights\n",
        "united.hist('Delay', bins = 50)"
      ]
    },
    {
      "cell_type": "code",
      "execution_count": 27,
      "metadata": {
        "colab": {
          "base_uri": "https://localhost:8080/",
          "height": 392
        },
        "id": "4R8nPxiJ-qBT",
        "outputId": "1342059d-5e22-4d3a-d710-1a63a5783b29"
      },
      "outputs": [
        {
          "data": {
            "text/html": [
              "<table border=\"1\" class=\"dataframe\">\n",
              "    <thead>\n",
              "        <tr>\n",
              "            <th>Row</th> <th>Date</th> <th>Flight Number</th> <th>Destination</th> <th>Delay</th>\n",
              "        </tr>\n",
              "    </thead>\n",
              "    <tbody>\n",
              "        <tr>\n",
              "            <td>3140 </td> <td>6/21/15</td> <td>1964         </td> <td>SEA        </td> <td>580  </td>\n",
              "        </tr>\n",
              "        <tr>\n",
              "            <td>3154 </td> <td>6/22/15</td> <td>300          </td> <td>HNL        </td> <td>537  </td>\n",
              "        </tr>\n",
              "        <tr>\n",
              "            <td>3069 </td> <td>6/21/15</td> <td>1149         </td> <td>IAD        </td> <td>508  </td>\n",
              "        </tr>\n",
              "        <tr>\n",
              "            <td>2888 </td> <td>6/20/15</td> <td>353          </td> <td>ORD        </td> <td>505  </td>\n",
              "        </tr>\n",
              "        <tr>\n",
              "            <td>12627</td> <td>8/23/15</td> <td>1589         </td> <td>ORD        </td> <td>458  </td>\n",
              "        </tr>\n",
              "        <tr>\n",
              "            <td>7949 </td> <td>7/23/15</td> <td>1960         </td> <td>LAX        </td> <td>438  </td>\n",
              "        </tr>\n",
              "        <tr>\n",
              "            <td>3412 </td> <td>6/23/15</td> <td>1606         </td> <td>ORD        </td> <td>430  </td>\n",
              "        </tr>\n",
              "        <tr>\n",
              "            <td>578  </td> <td>6/4/15 </td> <td>1743         </td> <td>LAX        </td> <td>408  </td>\n",
              "        </tr>\n",
              "        <tr>\n",
              "            <td>2474 </td> <td>6/17/15</td> <td>1122         </td> <td>HNL        </td> <td>405  </td>\n",
              "        </tr>\n",
              "        <tr>\n",
              "            <td>8426 </td> <td>7/27/15</td> <td>572          </td> <td>ORD        </td> <td>385  </td>\n",
              "        </tr>\n",
              "    </tbody>\n",
              "</table>\n",
              "<p>... (13815 rows omitted)</p>"
            ],
            "text/plain": [
              "Row   | Date    | Flight Number | Destination | Delay\n",
              "3140  | 6/21/15 | 1964          | SEA         | 580\n",
              "3154  | 6/22/15 | 300           | HNL         | 537\n",
              "3069  | 6/21/15 | 1149          | IAD         | 508\n",
              "2888  | 6/20/15 | 353           | ORD         | 505\n",
              "12627 | 8/23/15 | 1589          | ORD         | 458\n",
              "7949  | 7/23/15 | 1960          | LAX         | 438\n",
              "3412  | 6/23/15 | 1606          | ORD         | 430\n",
              "578   | 6/4/15  | 1743          | LAX         | 408\n",
              "2474  | 6/17/15 | 1122          | HNL         | 405\n",
              "8426  | 7/27/15 | 572           | ORD         | 385\n",
              "... (13815 rows omitted)"
            ]
          },
          "execution_count": 27,
          "metadata": {},
          "output_type": "execute_result"
        }
      ],
      "source": [
        "united.sort('Delay', descending = True)"
      ]
    },
    {
      "cell_type": "markdown",
      "metadata": {
        "id": "5uu-m7C0-qBT"
      },
      "source": [
        "Let's truncate the extreme flights with a histogram from -20 to 201. (More on why later)"
      ]
    },
    {
      "cell_type": "code",
      "execution_count": 28,
      "metadata": {
        "colab": {
          "base_uri": "https://localhost:8080/",
          "height": 410
        },
        "id": "yLKv3oX3-qBT",
        "outputId": "584b88e2-30ec-4cbc-b394-af5f5a4298d5"
      },
      "outputs": [
        {
          "data": {
            "image/png": "[encoded data removed]",
            "text/plain": [
              "<Figure size 600x400 with 1 Axes>"
            ]
          },
          "metadata": {},
          "output_type": "display_data"
        }
      ],
      "source": [
        "# Show the adjusted histogram\n",
        "united_bins = np.arange(-20,201,5) # -20 means left early, and then up to 5 mins\n",
        "united.hist('Delay', bins = united_bins)"
      ]
    },
    {
      "cell_type": "markdown",
      "metadata": {
        "id": "1U3WRGn2-qBT"
      },
      "source": [
        "What happens if we take a small sample from this population of flights and compute the distribution of delays:"
      ]
    },
    {
      "cell_type": "code",
      "execution_count": 31,
      "metadata": {
        "colab": {
          "base_uri": "https://localhost:8080/",
          "height": 410
        },
        "id": "e3SkYFvL-qBY",
        "outputId": "135fe915-c874-4f92-b6c0-5facdc989d34"
      },
      "outputs": [
        {
          "data": {
            "image/png": "[encoded data removed]",
            "text/plain": [
              "<Figure size 600x400 with 1 Axes>"
            ]
          },
          "metadata": {},
          "output_type": "display_data"
        }
      ],
      "source": [
        "united.sample(10).hist('Delay', bins = united_bins)"
      ]
    },
    {
      "cell_type": "code",
      "execution_count": 32,
      "metadata": {
        "colab": {
          "base_uri": "https://localhost:8080/",
          "height": 410
        },
        "id": "MYTwdgw5-qBY",
        "outputId": "61ca9e9d-9e96-4012-cd26-db23e859eff1"
      },
      "outputs": [
        {
          "data": {
            "image/png": "[encoded data removed]",
            "text/plain": [
              "<Figure size 600x400 with 1 Axes>"
            ]
          },
          "metadata": {},
          "output_type": "display_data"
        }
      ],
      "source": [
        "# Increase the sample size\n",
        "united.sample(1000).hist('Delay', bins = united_bins)"
      ]
    },
    {
      "cell_type": "markdown",
      "metadata": {
        "id": "NDGugW6q-qBY"
      },
      "source": [
        "## Simulating Statistics ##"
      ]
    },
    {
      "cell_type": "markdown",
      "metadata": {
        "id": "dD6Tev6j-qBZ"
      },
      "source": [
        "Because we have access to the population (this is rare!) we can compute the parameters directly from the data. For example, suppose we wanted to know the median flight delay:"
      ]
    },
    {
      "cell_type": "code",
      "execution_count": 33,
      "metadata": {
        "colab": {
          "base_uri": "https://localhost:8080/"
        },
        "id": "dZuj-MhS-qBZ",
        "outputId": "014f4fac-0211-43bc-ab8d-a8183584df14"
      },
      "outputs": [
        {
          "data": {
            "text/plain": [
              "2.0"
            ]
          },
          "execution_count": 33,
          "metadata": {},
          "output_type": "execute_result"
        }
      ],
      "source": [
        "np.median(united.column('Delay'))"
      ]
    },
    {
      "cell_type": "markdown",
      "metadata": {
        "id": "r1uMLGtp-qBZ"
      },
      "source": [
        "In practice, we will often have a sample. The median of the sample is a statistic that estimates the median of the population."
      ]
    },
    {
      "cell_type": "code",
      "execution_count": 35,
      "metadata": {
        "colab": {
          "base_uri": "https://localhost:8080/"
        },
        "id": "A1KEaj6L-qBZ",
        "outputId": "8ecba764-920a-4c23-a22c-ac8002eb0adf"
      },
      "outputs": [
        {
          "data": {
            "text/plain": [
              "4.5"
            ]
          },
          "execution_count": 35,
          "metadata": {},
          "output_type": "execute_result"
        }
      ],
      "source": [
        "np.median(united.sample(10).column('Delay'))"
      ]
    },
    {
      "cell_type": "markdown",
      "metadata": {
        "id": "xjtgEp1i-qBZ"
      },
      "source": [
        "Here we define a function to simulate the process of computing the median from a random sample of a given size:"
      ]
    },
    {
      "cell_type": "code",
      "execution_count": 36,
      "metadata": {
        "id": "9y1_iWie-qBZ"
      },
      "outputs": [],
      "source": [
        "def sample_median(size):\n",
        "    return np.median(united.sample(size).column('Delay'))"
      ]
    },
    {
      "cell_type": "code",
      "execution_count": 39,
      "metadata": {
        "colab": {
          "base_uri": "https://localhost:8080/"
        },
        "id": "nTVShBB4-qBZ",
        "outputId": "ce846e44-7f86-4953-9710-7ab7b44c9aa6"
      },
      "outputs": [
        {
          "data": {
            "text/plain": [
              "1.5"
            ]
          },
          "execution_count": 39,
          "metadata": {},
          "output_type": "execute_result"
        }
      ],
      "source": [
        "sample_median(10)"
      ]
    },
    {
      "cell_type": "markdown",
      "metadata": {
        "id": "xHvGA14z-qBa"
      },
      "source": [
        "We can then simulate this sampling process many times:"
      ]
    },
    {
      "cell_type": "code",
      "execution_count": 83,
      "metadata": {
        "id": "UMJdl8eS-qBa"
      },
      "outputs": [],
      "source": [
        "sample_medians = make_array()\n",
        "\n",
        "for i in np.arange(1000):\n",
        "    new_median = sample_median(10)\n",
        "    sample_medians = np.append(sample_medians, new_median)"
      ]
    },
    {
      "cell_type": "code",
      "execution_count": 84,
      "metadata": {
        "colab": {
          "base_uri": "https://localhost:8080/",
          "height": 410
        },
        "id": "ZeTHAb4_-qBa",
        "outputId": "85075179-875a-4fbe-cc38-495cf0ef7c40",
        "scrolled": true
      },
      "outputs": [
        {
          "data": {
            "image/png": "[encoded data removed]",
            "text/plain": [
              "<Figure size 600x400 with 1 Axes>"
            ]
          },
          "metadata": {},
          "output_type": "display_data"
        }
      ],
      "source": [
        "medians = Table().with_columns('Sample medians', sample_medians, 'Sample size', 10)\n",
        "medians.hist('Sample medians', bins = 50)"
      ]
    },
    {
      "cell_type": "code",
      "execution_count": 85,
      "metadata": {
        "id": "y0Fb27YH-qBa"
      },
      "outputs": [],
      "source": [
        "sample_medians2 = make_array()\n",
        "\n",
        "for i in np.arange(1000):\n",
        "    new_median = sample_median(1000)\n",
        "    sample_medians2 = np.append(sample_medians2, new_median)"
      ]
    },
    {
      "cell_type": "code",
      "execution_count": 86,
      "metadata": {
        "colab": {
          "base_uri": "https://localhost:8080/",
          "height": 410
        },
        "id": "comv52bw-qBa",
        "outputId": "927c175d-8683-4a13-d40a-43bd34a77596"
      },
      "outputs": [
        {
          "data": {
            "image/png": "[encoded data removed]",
            "text/plain": [
              "<Figure size 600x400 with 1 Axes>"
            ]
          },
          "metadata": {},
          "output_type": "display_data"
        }
      ],
      "source": [
        "# Combine both samples into a table and plot\n",
        "overall_tbl = medians.append(Table().with_columns(\n",
        "    \"Sample medians\", sample_medians2,\n",
        "    \"Sample size\", 1000))\n",
        "overall_tbl.hist(\"Sample medians\", group=\"Sample size\", bins = 50)"
      ]
    },
    {
      "cell_type": "markdown",
      "metadata": {},
      "source": [
        "#### Empirical Distributions of a Statistic (Overlayed)"
      ]
    },
    {
      "cell_type": "code",
      "execution_count": null,
      "metadata": {},
      "outputs": [],
      "source": [
        "sample_medians_10 = make_array()\n",
        "sample_medians_100 = make_array()\n",
        "sample_medians_1000 = make_array()\n",
        "\n",
        "num_simulations = 2000\n",
        "\n",
        "for i in np.arange(num_simulations):\n",
        "    new_median_10 = sample_median(10)\n",
        "    sample_medians_10 = np.append(sample_medians_10, new_median_10)\n",
        "    new_median_100 = sample_median(100)\n",
        "    sample_medians_100 = np.append(sample_medians_100, new_median_100)\n",
        "    new_median_1000 = sample_median(1000)\n",
        "    sample_medians_1000 = np.append(sample_medians_1000, new_median_1000)"
      ]
    },
    {
      "cell_type": "code",
      "execution_count": null,
      "metadata": {},
      "outputs": [],
      "source": [
        "sample_medians = Table().with_columns('Size 10', sample_medians_10, \n",
        "                                      'Size 100', sample_medians_100,\n",
        "                                      'Size 1000', sample_medians_1000)"
      ]
    },
    {
      "cell_type": "code",
      "execution_count": null,
      "metadata": {},
      "outputs": [
        {
          "data": {
            "image/png": "[encoded data removed]",
            "text/plain": [
              "<Figure size 432x288 with 1 Axes>"
            ]
          },
          "metadata": {},
          "output_type": "display_data"
        }
      ],
      "source": [
        "sample_medians.hist(bins = np.arange(-5, 30))"
      ]
    },
    {
      "cell_type": "markdown",
      "metadata": {},
      "source": [
        "## Mendel and Pea Flowers ##"
      ]
    },
    {
      "cell_type": "code",
      "execution_count": null,
      "metadata": {},
      "outputs": [
        {
          "data": {
            "text/plain": [
              "0.7631862217438106"
            ]
          },
          "metadata": {},
          "output_type": "display_data"
        }
      ],
      "source": [
        "## Mendel had 929 plants, of which 709 had purple flowers\n",
        "observed_purples = 709 / 929\n",
        "observed_purples"
      ]
    },
    {
      "cell_type": "code",
      "execution_count": null,
      "metadata": {},
      "outputs": [
        {
          "data": {
            "text/plain": [
              "array([0.7416577, 0.2583423])"
            ]
          },
          "metadata": {},
          "output_type": "display_data"
        }
      ],
      "source": [
        "predicted_proportions = make_array(.75, .25)\n",
        "sample_proportions(929, predicted_proportions)"
      ]
    },
    {
      "cell_type": "code",
      "execution_count": null,
      "metadata": {},
      "outputs": [],
      "source": [
        "def purple_flowers():\n",
        "    return sample_proportions(929, predicted_proportions).item(0) * 100"
      ]
    },
    {
      "cell_type": "code",
      "execution_count": null,
      "metadata": {},
      "outputs": [
        {
          "data": {
            "text/plain": [
              "74.59634015069967"
            ]
          },
          "metadata": {},
          "output_type": "display_data"
        }
      ],
      "source": [
        "purple_flowers()"
      ]
    },
    {
      "cell_type": "code",
      "execution_count": null,
      "metadata": {},
      "outputs": [],
      "source": [
        "purples = make_array()\n",
        "\n",
        "for i in np.arange(10000):\n",
        "    new_purple = purple_flowers()\n",
        "    purples = np.append(purples, new_purple)"
      ]
    },
    {
      "cell_type": "code",
      "execution_count": null,
      "metadata": {},
      "outputs": [
        {
          "data": {
            "image/png": "[encoded data removed]",
            "text/plain": [
              "<Figure size 432x288 with 1 Axes>"
            ]
          },
          "metadata": {},
          "output_type": "display_data"
        }
      ],
      "source": [
        "Table().with_column('Percent of purple flowers in sample of 929', purples).hist()"
      ]
    },
    {
      "cell_type": "code",
      "execution_count": null,
      "metadata": {},
      "outputs": [
        {
          "data": {
            "image/png": "[encoded data removed]",
            "text/plain": [
              "<Figure size 432x288 with 1 Axes>"
            ]
          },
          "metadata": {},
          "output_type": "display_data"
        }
      ],
      "source": [
        "Table().with_column('Discrepancy in sample of 929 if the model is true', abs(purples- 75)).hist()"
      ]
    },
    {
      "cell_type": "code",
      "execution_count": null,
      "metadata": {},
      "outputs": [
        {
          "data": {
            "text/plain": [
              "1.318622174381062"
            ]
          },
          "metadata": {},
          "output_type": "display_data"
        }
      ],
      "source": [
        "abs(observed_purples * 100 - 75)"
      ]
    },
    {
      "cell_type": "markdown",
      "metadata": {},
      "source": [
        "## Swain vs. Alabama ##"
      ]
    },
    {
      "cell_type": "code",
      "execution_count": null,
      "metadata": {},
      "outputs": [
        {
          "data": {
            "text/plain": [
              "array([0.26, 0.74])"
            ]
          },
          "metadata": {},
          "output_type": "display_data"
        }
      ],
      "source": [
        "population_proportions = make_array(.26, .74)\n",
        "population_proportions"
      ]
    },
    {
      "cell_type": "code",
      "execution_count": null,
      "metadata": {},
      "outputs": [
        {
          "data": {
            "text/plain": [
              "array([0.22, 0.78])"
            ]
          },
          "metadata": {},
          "output_type": "display_data"
        }
      ],
      "source": [
        "sample_proportions(100, population_proportions)"
      ]
    },
    {
      "cell_type": "code",
      "execution_count": null,
      "metadata": {},
      "outputs": [],
      "source": [
        "def panel_proportion():\n",
        "    return sample_proportions(100, population_proportions).item(0)"
      ]
    },
    {
      "cell_type": "code",
      "execution_count": null,
      "metadata": {},
      "outputs": [
        {
          "data": {
            "text/plain": [
              "0.26"
            ]
          },
          "metadata": {},
          "output_type": "display_data"
        }
      ],
      "source": [
        "panel_proportion()"
      ]
    },
    {
      "cell_type": "code",
      "execution_count": null,
      "metadata": {},
      "outputs": [],
      "source": [
        "panels = make_array()\n",
        "\n",
        "for i in np.arange(10000):\n",
        "    new_panel = panel_proportion() * 100\n",
        "    panels = np.append(panels, new_panel)"
      ]
    },
    {
      "cell_type": "code",
      "execution_count": null,
      "metadata": {},
      "outputs": [
        {
          "data": {
            "image/png": "[encoded data removed]",
            "text/plain": [
              "<Figure size 432x288 with 1 Axes>"
            ]
          },
          "metadata": {},
          "output_type": "display_data"
        }
      ],
      "source": [
        "Table().with_column(\n",
        "    'Number of Black Men on Panel of 100', panels\n",
        ").hist(bins=np.arange(5.5,40.))\n",
        "\n",
        "# Plotting details; ignore this code\n",
        "plots.ylim(-0.002, 0.09)\n",
        "plots.scatter(8, 0, color='red', s=30);"
      ]
    }
  ],
  "metadata": {
    "anaconda-cloud": {},
    "colab": {
      "provenance": []
    },
    "kernelspec": {
      "display_name": "Python 3",
      "language": "python",
      "name": "python3"
    },
    "language_info": {
      "codemirror_mode": {
        "name": "ipython",
        "version": 3
      },
      "file_extension": ".py",
      "mimetype": "text/x-python",
      "name": "python",
      "nbconvert_exporter": "python",
      "pygments_lexer": "ipython3",
      "version": "3.8.17"
    }
  },
  "nbformat": 4,
  "nbformat_minor": 0
}
