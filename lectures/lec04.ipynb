{
  "cells": [
    {
      "cell_type": "markdown",
      "metadata": {
        "id": "27CcYSR1FsT_"
      },
      "source": [
        "<a href=\"https://colab.research.google.com/github/tmckim/materials-fa23-colab/blob/main/lectures/lec04.ipynb\" target=\"_parent\"><img src=\"https://colab.research.google.com/assets/colab-badge.svg\" alt=\"Open In Colab\"/></a>"
      ]
    },
    {
      "cell_type": "markdown",
      "metadata": {
        "id": "P8-D3wz5FsUB"
      },
      "source": [
        "## Before you start - Save this notebook!\n",
        "\n",
        "When you open a new Colab notebook from the WebCampus (like you hopefully did for this one), you cannot save changes. So it's  best to store the Colab notebook in your personal drive `\"File > Save a copy in drive...\"` **before** you do anything else.\n",
        "\n",
        "The file will open in a new tab in your web browser, and it is automatically named something like: \"**Copy of lec04.ipynb**\". You can rename this to just the title of the assignment \"**lec04.ipynb**\". Make sure you do keep an informative name (like the name of the lecture and number) so that you know which files go with the course sessions. More instruction on file formats is at the end of the notebook.\n",
        "\n",
        "\n",
        "**Where does the notebook get saved in Google Drive?**\n",
        "\n",
        "By default, the notebook will be copied to a folder called “Colab Notebooks” at the root (home directory) of your Google Drive. If you use this for other courses or personal code notebooks, I recommend creating a folder for this course and then moving the assignments AFTER you have completed them."
      ]
    },
    {
      "cell_type": "code",
      "execution_count": null,
      "metadata": {
        "id": "ERd0-tn9FsUC"
      },
      "outputs": [],
      "source": [
        "# Just run this cell\n",
        "from google.colab import drive\n",
        "drive.mount('/content/gdrive', force_remount=True)\n",
        "\n",
        "#!mkdir -p '/content/gdrive/My Drive/colab-materials-NS499DataSci-notebooks/'\n",
        "!rm -r materials-fa23-colab\n",
        "!git clone https://github.com/tmckim/materials-fa23-colab '/content/gdrive/My Drive/colab-materials-NS499DataSci-notebooks/materials-fa23-colab/'\n",
        "\n",
        "%cd /content/gdrive/MyDrive/colab-materials-NS499DataSci-notebooks/materials-fa23-colab/lectures/"
      ]
    },
    {
      "cell_type": "code",
      "execution_count": null,
      "metadata": {
        "id": "Z0QL_Qe2FsUD"
      },
      "outputs": [],
      "source": [
        "# Just run this cell. Import packages and visualization options\n",
        "from datascience import *\n",
        "import numpy as np\n",
        "import warnings\n",
        "warnings.filterwarnings(\"ignore\")\n",
        "\n",
        "%matplotlib inline\n",
        "import matplotlib.pyplot as plots\n",
        "plots.style.use('fivethirtyeight')\n",
        "plots.rcParams[\"patch.force_edgecolor\"] = True"
      ]
    },
    {
      "cell_type": "markdown",
      "metadata": {
        "id": "unSVLbHiFsUD"
      },
      "source": [
        "## Lecture 4 ##\n",
        "\n",
        "Topic: Visualizing the distribution of data"
      ]
    },
    {
      "cell_type": "markdown",
      "metadata": {
        "id": "jamSsdy7FsUD"
      },
      "source": [
        "## Categorical Distribution ##"
      ]
    },
    {
      "cell_type": "markdown",
      "metadata": {
        "id": "nWbiYLwhFsUE"
      },
      "source": [
        "How often does each possible value occur? There are a finite set of values and so we can visualize those counts as a bar chart."
      ]
    },
    {
      "cell_type": "code",
      "execution_count": null,
      "metadata": {
        "id": "U0WZm7cxFsUE"
      },
      "outputs": [],
      "source": [
        "# Using the top movies dataset\n",
        "top_movies = Table.read_table('top_movies_2017.csv')\n",
        "top_movies"
      ]
    },
    {
      "cell_type": "markdown",
      "metadata": {
        "id": "wUQOn4BHFsUE"
      },
      "source": [
        "### Exercise:\n",
        "Compute how many times does each studio appear in the list. (Here we use the `group` function which we will go over more later.)<br>\n",
        "Info can be found [here](https://www.data8.org/sp23/reference/)"
      ]
    },
    {
      "cell_type": "code",
      "execution_count": null,
      "metadata": {
        "id": "b2_uZLWIFsUF"
      },
      "outputs": [],
      "source": [
        "# Use the group function to count number of movies per Studio\n",
        "studio_distribution = studios.group('Studio')\n",
        "studio_distribution"
      ]
    },
    {
      "cell_type": "markdown",
      "metadata": {
        "id": "_TmVycZUFsUF"
      },
      "source": [
        "## Bar Charts ##"
      ]
    },
    {
      "cell_type": "markdown",
      "metadata": {
        "id": "oljdWB-NFsUF"
      },
      "source": [
        "### Exercise:\n",
        "Construct a bar chart depicting the number of movies from each studio (the \"`count`\")"
      ]
    },
    {
      "cell_type": "code",
      "execution_count": null,
      "metadata": {
        "id": "RozRTJsOFsUF"
      },
      "outputs": [],
      "source": [
        "# Use barh\n",
        "studio_distribution.barh('Studio')"
      ]
    },
    {
      "cell_type": "code",
      "execution_count": null,
      "metadata": {
        "id": "zGG27GRoFsUG"
      },
      "outputs": [],
      "source": [
        "# Also using sort to make it prettier\n",
        "studio_distribution.sort('count', descending=True).barh('Studio')"
      ]
    },
    {
      "cell_type": "code",
      "execution_count": null,
      "metadata": {
        "id": "qaqnLyLpFsUG"
      },
      "outputs": [],
      "source": [
        "# What's wrong with this? It still produces a plot\n",
        "studio_distribution.take(np.arange(10)).sort('count', descending=True).barh('Studio')"
      ]
    },
    {
      "cell_type": "markdown",
      "metadata": {
        "id": "37C9Or1NFsUG"
      },
      "source": [
        "## Exercise:\n",
        "Construct a bar chart containing the percentage of the movies from each studio."
      ]
    },
    {
      "cell_type": "code",
      "execution_count": null,
      "metadata": {
        "id": "reC9X6hpFsUG"
      },
      "outputs": [],
      "source": [
        "# Array of counts\n",
        "count_col = studio_distribution.column('count')\n",
        "count_col"
      ]
    },
    {
      "cell_type": "code",
      "execution_count": null,
      "metadata": {
        "id": "35QjQ7S0FsUG"
      },
      "outputs": [],
      "source": [
        "# compute percentage\n",
        "count_col / count_col.sum()"
      ]
    },
    {
      "cell_type": "code",
      "execution_count": null,
      "metadata": {
        "id": "yL3GV7mTFsUG"
      },
      "outputs": [],
      "source": [
        "# Put this column into the table\n",
        "studio_distribution = studio_distribution.with_column('percent', 100 * count_col / count_col.sum())\n",
        "studio_distribution"
      ]
    },
    {
      "cell_type": "code",
      "execution_count": null,
      "metadata": {
        "id": "BaTW-Pr5FsUG"
      },
      "outputs": [],
      "source": [
        "# Now make the visualization\n",
        "studio_distribution.sort('percent', descending=True).barh('Studio', 'percent')"
      ]
    },
    {
      "cell_type": "markdown",
      "metadata": {
        "id": "XQKYiM49FsUG"
      },
      "source": [
        "## Numerical Distribution ##"
      ]
    },
    {
      "cell_type": "markdown",
      "metadata": {
        "id": "hWvtHTdtFsUG"
      },
      "source": [
        "The most basic tool for visualizing the distribution of numerical data is the historgram."
      ]
    },
    {
      "cell_type": "code",
      "execution_count": null,
      "metadata": {
        "id": "maChrnhqFsUH"
      },
      "outputs": [],
      "source": [
        "# Examine the age of the top 200 films\n",
        "# Show just a preview of the table\n",
        "top_movies.take(np.arange(5))"
      ]
    },
    {
      "cell_type": "code",
      "execution_count": null,
      "metadata": {
        "id": "14qftW1vFsUH"
      },
      "outputs": [],
      "source": [
        "# Add a column containing the age of each movie in the top_movies table\n",
        "this_year = 2023\n",
        "ages = this_year - top_movies.column('Year')\n",
        "top_movies = top_movies.with_column('Age', ages)"
      ]
    },
    {
      "cell_type": "code",
      "execution_count": null,
      "metadata": {
        "id": "XywtN6dwFsUH"
      },
      "outputs": [],
      "source": [
        "# Show the table\n",
        "top_movies"
      ]
    },
    {
      "cell_type": "code",
      "execution_count": null,
      "metadata": {
        "id": "sNRe37p3FsUH"
      },
      "outputs": [],
      "source": [
        "# Find the min and max using built in functions we've learned before\n",
        "min(ages), max(ages)"
      ]
    },
    {
      "cell_type": "markdown",
      "metadata": {
        "id": "eMsyODe9FsUH"
      },
      "source": [
        "### Exercise:\n",
        "Split the \"`Age`\" column into the following bins"
      ]
    },
    {
      "cell_type": "code",
      "execution_count": null,
      "metadata": {
        "id": "hzZ16cKHFsUH"
      },
      "outputs": [],
      "source": [
        "# Create the bins\n",
        "my_bins = make_array(0, 5, 10, 15, 25, 40, 65, 100)"
      ]
    },
    {
      "cell_type": "code",
      "execution_count": null,
      "metadata": {
        "id": "fV4BF1o6FsUH"
      },
      "outputs": [],
      "source": [
        "# Bin the data\n",
        "binned_data = top_movies.bin('Age', bins = my_bins)\n",
        "binned_data"
      ]
    },
    {
      "cell_type": "markdown",
      "metadata": {
        "id": "gI-LSDpzFsUH"
      },
      "source": [
        "You an also use `np.arange` to create regular bins of a fixed size or even just specify a number."
      ]
    },
    {
      "cell_type": "code",
      "execution_count": null,
      "metadata": {
        "id": "Bs-wxyj0FsUH"
      },
      "outputs": [],
      "source": [
        "# Demonstrate other ways to bin the data\n",
        "my_bins_another_way = top_movies.bin('Age', bins = np.arange(0,126,25))\n",
        "my_bins_another_way"
      ]
    },
    {
      "cell_type": "code",
      "execution_count": null,
      "metadata": {
        "id": "YJc9-tZrFsUH"
      },
      "outputs": [],
      "source": [
        "# Demonstrate other ways to bin the data\n",
        "my_bins_another_way = top_movies.bin('Age', bins = 15)\n",
        "my_bins_another_way"
      ]
    },
    {
      "cell_type": "markdown",
      "metadata": {
        "id": "v2gckdp5FsUH"
      },
      "source": [
        "## Histograms ##"
      ]
    },
    {
      "cell_type": "markdown",
      "metadata": {
        "id": "KeWMQ5aHFsUI"
      },
      "source": [
        "We can construct histograms of numerical variables by calling `tbl.hist(...)` function using our `bins`"
      ]
    },
    {
      "cell_type": "markdown",
      "metadata": {
        "id": "RnjEYumGFsUI"
      },
      "source": [
        "## Exercise:\n",
        "Make a histogram of `Age` using `my_bins`"
      ]
    },
    {
      "cell_type": "code",
      "execution_count": null,
      "metadata": {
        "id": "dOOQpCX0FsUI"
      },
      "outputs": [],
      "source": [
        "# What are my_bins from before?\n",
        "my_bins"
      ]
    },
    {
      "cell_type": "code",
      "execution_count": null,
      "metadata": {
        "id": "5KRqxgF4FsUI"
      },
      "outputs": [],
      "source": [
        "# Reminder of the data with original bins\n",
        "binned_data"
      ]
    },
    {
      "cell_type": "code",
      "execution_count": null,
      "metadata": {
        "id": "gA2TLqkOFsUI"
      },
      "outputs": [],
      "source": [
        "# Show table with new column\n",
        "binned_data"
      ]
    },
    {
      "cell_type": "code",
      "execution_count": null,
      "metadata": {
        "id": "sXtR0EtLFsUJ"
      },
      "outputs": [],
      "source": [
        "# Let's make our first histogram!\n",
        "top_movies.hist('Age', bins = my_bins, unit = 'Year')"
      ]
    },
    {
      "cell_type": "code",
      "execution_count": null,
      "metadata": {
        "id": "EEyY8bCyFsUK"
      },
      "outputs": [],
      "source": [
        "# Let's try equally spaced bins instead.\n",
        "top_movies.hist('Age', bins = np.arange(0, 110, 10), unit = 'Year')"
      ]
    },
    {
      "cell_type": "code",
      "execution_count": null,
      "metadata": {
        "id": "k-GV2gcCFsUK"
      },
      "outputs": [],
      "source": [
        "# Let's try not specifying any bins\n",
        "top_movies.hist('Age', unit='Year')"
      ]
    },
    {
      "cell_type": "markdown",
      "metadata": {
        "id": "vHTsvK2VFsUK"
      },
      "source": [
        "## Height ##\n",
        "\n",
        "### Question: What is the height of the [40, 65) bin?"
      ]
    },
    {
      "cell_type": "code",
      "execution_count": null,
      "metadata": {
        "id": "YHnyh2ZYFsUK"
      },
      "outputs": [],
      "source": [
        "# Review the plot to remind ourselves what it looks like based on bins\n",
        "top_movies.hist('Age', bins=my_bins, unit='Year')\n",
        "binned_data"
      ]
    },
    {
      "cell_type": "code",
      "source": [
        "# Add a column containing what percent of movies are in each bin\n",
        "binned_data = binned_data.with_column(\n",
        "    'percent', 100 * binned_data.column('Age count') / binned_data.column('Age count').sum())\n",
        "binned_data"
      ],
      "metadata": {
        "id": "f6Wn34MaKPAO"
      },
      "execution_count": null,
      "outputs": []
    },
    {
      "cell_type": "code",
      "execution_count": null,
      "metadata": {
        "id": "haDjF-K1FsUL"
      },
      "outputs": [],
      "source": [
        "# Step 1: Calculate % of movies in the [40, 65) bin\n",
        "percent = binned_data.where('bin',40).column('percent').item(0)\n",
        "percent"
      ]
    },
    {
      "cell_type": "code",
      "execution_count": null,
      "metadata": {
        "id": "bldAfoz9FsUL"
      },
      "outputs": [],
      "source": [
        "# Step 2: Calculate the width of the 40-65 bin\n",
        "width = 65 - 40"
      ]
    },
    {
      "cell_type": "code",
      "execution_count": null,
      "metadata": {
        "id": "JJycYQL-FsUL"
      },
      "outputs": [],
      "source": [
        "# Step 3: Area of rectangle = height * width\n",
        "#         --> height = percent / width\n",
        "height = percent / width\n",
        "height"
      ]
    },
    {
      "cell_type": "markdown",
      "metadata": {
        "id": "ezeijMf9FsUL"
      },
      "source": [
        "### What are the heights of the rest of the bins?"
      ]
    },
    {
      "cell_type": "code",
      "execution_count": null,
      "metadata": {
        "id": "EDHCOb2KFsUL"
      },
      "outputs": [],
      "source": [
        "# Get the bin lefts\n",
        "bin_lefts = binned_data.take(np.arange(binned_data.num_rows - 1))"
      ]
    },
    {
      "cell_type": "code",
      "execution_count": null,
      "metadata": {
        "id": "AXu5Yk1LFsUL"
      },
      "outputs": [],
      "source": [
        "# Get the bin widths\n",
        "bin_widths = np.diff(binned_data.column('bin'))\n",
        "bin_lefts = bin_lefts.with_column('width', bin_widths)"
      ]
    },
    {
      "cell_type": "code",
      "execution_count": null,
      "metadata": {
        "id": "Ud38LJ2OFsUM"
      },
      "outputs": [],
      "source": [
        "# Get the bin heights\n",
        "bin_heights = bin_lefts.column('percent') / bin_widths\n",
        "bin_lefts = bin_lefts.with_column('height', bin_heights)"
      ]
    },
    {
      "cell_type": "code",
      "execution_count": null,
      "metadata": {
        "id": "DSde3hj8FsUM"
      },
      "outputs": [],
      "source": [
        "bin_lefts"
      ]
    },
    {
      "cell_type": "code",
      "execution_count": null,
      "metadata": {
        "id": "9UVuN6XSFsUM"
      },
      "outputs": [],
      "source": [
        "top_movies.hist('Age', bins = my_bins, unit = 'Year')"
      ]
    },
    {
      "cell_type": "markdown",
      "metadata": {
        "id": "IhXffKS8FsUM"
      },
      "source": [
        "## Defining Functions ##  "
      ]
    },
    {
      "cell_type": "markdown",
      "metadata": {
        "id": "6evJV4yFFsUM"
      },
      "source": [
        "Example: Create a function that takes a numerical input and triples it: $\\textsf{triple}(x)=3\\,x$"
      ]
    },
    {
      "cell_type": "code",
      "execution_count": null,
      "metadata": {
        "id": "Qlxh9EJEFsUN"
      },
      "outputs": [],
      "source": [
        "# Define our first function\n",
        "def triple(x):"
      ]
    },
    {
      "cell_type": "code",
      "execution_count": null,
      "metadata": {
        "id": "EZSzmFTpFsUN"
      },
      "outputs": [],
      "source": [
        "# Call and run this function\n",
        "triple(3)"
      ]
    },
    {
      "cell_type": "markdown",
      "metadata": {
        "id": "ecR2XrilFsUN"
      },
      "source": [
        "We can also assign a value to a name, and call the function on the name:"
      ]
    },
    {
      "cell_type": "code",
      "execution_count": null,
      "metadata": {
        "id": "diKHdi_lFsUN"
      },
      "outputs": [],
      "source": [
        "num = 4"
      ]
    },
    {
      "cell_type": "code",
      "execution_count": null,
      "metadata": {
        "id": "aaG1aGUiFsUN"
      },
      "outputs": [],
      "source": [
        "# Function with input num as argument\n",
        "triple(num)"
      ]
    },
    {
      "cell_type": "code",
      "execution_count": null,
      "metadata": {
        "id": "dGGQ78G-FsUN"
      },
      "outputs": [],
      "source": [
        "# More interesting expressions\n",
        "triple(num * 5)"
      ]
    },
    {
      "cell_type": "markdown",
      "metadata": {
        "id": "IyD4N1ZkFsUO"
      },
      "source": [
        "## The Anatomy of a Function ##  \n",
        "    \n",
        "```python\n",
        "def functionname(Arguments_Parameters_Expressions_or_Values):     \n",
        "      return return_expression\n",
        "```"
      ]
    },
    {
      "cell_type": "markdown",
      "metadata": {
        "id": "h2-ujkQNFsUO"
      },
      "source": [
        "## Functions are Type-Agnostic  ##"
      ]
    },
    {
      "cell_type": "code",
      "execution_count": null,
      "metadata": {
        "id": "1eOqc_-sFsUO"
      },
      "outputs": [],
      "source": [
        "# Input string as an argument to our function\n",
        "triple('ha')"
      ]
    },
    {
      "cell_type": "code",
      "execution_count": null,
      "metadata": {
        "id": "73Dd1V1IFsUO"
      },
      "outputs": [],
      "source": [
        "# Create an array and view the numbers\n",
        "np.arange(4)"
      ]
    },
    {
      "cell_type": "markdown",
      "metadata": {
        "id": "3XXl8efoFsUO"
      },
      "source": [
        "Feed the array above into our function `triple` to see what is produced:"
      ]
    },
    {
      "cell_type": "code",
      "execution_count": null,
      "metadata": {
        "id": "ktKs0jCxFsUO"
      },
      "outputs": [],
      "source": [
        "# Input an array as an argument to our function\n",
        "triple(np.arange(4))"
      ]
    },
    {
      "cell_type": "markdown",
      "metadata": {
        "id": "F5eGk5UaFsUP"
      },
      "source": [
        "### Discussion ###\n",
        "\n",
        "- What does the following function do?\n",
        "- What type of input does it take?\n",
        "- What type of output does it produce?\n",
        "- What's a good name for the function?\n",
        "\n",
        "```python\n",
        "def f(s):     \n",
        "      return np.round(s / sum(s) * 100, 2)\n",
        "```"
      ]
    },
    {
      "cell_type": "code",
      "execution_count": null,
      "metadata": {
        "id": "fpITX9jsFsUP"
      },
      "outputs": [],
      "source": [
        "# Define our function\n",
        "def f(s):\n",
        "    \"\"\"\n",
        "\n",
        "    \"\"\"\n",
        "    return np.round(s / sum(s) * 100, 2)"
      ]
    },
    {
      "cell_type": "code",
      "execution_count": null,
      "metadata": {
        "id": "3JWeTqtMFsUP"
      },
      "outputs": [],
      "source": [
        "# Make an array\n",
        "first_four=make_array(1,2,3,4)\n",
        "first_four"
      ]
    },
    {
      "cell_type": "code",
      "execution_count": null,
      "metadata": {
        "id": "WkJ75YGaFsUP"
      },
      "outputs": [],
      "source": [
        "# Input name as an argument to our function\n",
        "f(first_four)"
      ]
    },
    {
      "cell_type": "code",
      "execution_count": null,
      "metadata": {
        "id": "n5cRRLLuFsUP"
      },
      "outputs": [],
      "source": [
        "# Input a different array as an argument to our function\n",
        "f(make_array(1, 213, 38))"
      ]
    },
    {
      "cell_type": "markdown",
      "metadata": {
        "id": "PU3rKlrUFsUP"
      },
      "source": [
        "### Functions Can Take Multiple Arguments ###"
      ]
    },
    {
      "cell_type": "markdown",
      "metadata": {
        "id": "B0MA2VwRFsUP"
      },
      "source": [
        "Example: Calculate the Hypotenuse Length of a Right Triangle\n",
        "\n",
        "\n",
        "Pythagoras's Theorem: If $x$ and $y$ denote the lengths of the right-angle sides, then the hypotenuse length $h$ satisfies:\n",
        "\n",
        "$$ h^2 = x^2 + y^2 \\qquad \\text{which implies}\\qquad \\hspace{20 pt} h = \\sqrt{ x^2 + y^2 } $$"
      ]
    },
    {
      "cell_type": "code",
      "execution_count": null,
      "metadata": {
        "id": "bkJaf1sKFsUQ"
      },
      "outputs": [],
      "source": [
        "# Define our function with two arguments\n",
        "def hypotenuse(x, y):\n",
        "    hypot_squared = (x ** 2 + y ** 2)\n",
        "    hypot = hypot_squared ** 0.5\n",
        "    return hypot"
      ]
    },
    {
      "cell_type": "code",
      "execution_count": null,
      "metadata": {
        "id": "NSnXg5n4FsUQ"
      },
      "outputs": [],
      "source": [
        "# Test out our function with values\n",
        "hypotenuse(1, 2)"
      ]
    },
    {
      "cell_type": "code",
      "execution_count": null,
      "metadata": {
        "id": "6yrZtBQfFsUQ"
      },
      "outputs": [],
      "source": [
        "# Run our function with different values\n",
        "hypotenuse(3, 4)"
      ]
    },
    {
      "cell_type": "markdown",
      "metadata": {
        "id": "Z89o3qq9FsUQ"
      },
      "source": [
        "We could've typed the body all in one line. Do you find this more readable or less readable than the original version?"
      ]
    },
    {
      "cell_type": "code",
      "execution_count": null,
      "metadata": {
        "id": "qj8lU9YnFsUQ"
      },
      "outputs": [],
      "source": [
        "# Another way to write our function\n",
        "def hypotenuse(x,y):\n",
        "    return (x ** 2 + y ** 2) ** 0.5"
      ]
    },
    {
      "cell_type": "code",
      "execution_count": null,
      "metadata": {
        "id": "lmwiT97JFsUQ"
      },
      "outputs": [],
      "source": [
        "# Test it out\n",
        "hypotenuse(9, 12)"
      ]
    },
    {
      "cell_type": "markdown",
      "metadata": {
        "id": "pblumEabFsUR"
      },
      "source": [
        "### Example: A function that takes the year of birth of a person and produces their age in years. ###"
      ]
    },
    {
      "cell_type": "code",
      "execution_count": null,
      "metadata": {
        "id": "5jDX1QksFsUR"
      },
      "outputs": [],
      "source": [
        "# Define our age function\n",
        "def age(year):\n",
        "    age = 2023 - year\n",
        "    return age"
      ]
    },
    {
      "cell_type": "code",
      "execution_count": null,
      "metadata": {
        "id": "fo1txWX4FsUR"
      },
      "outputs": [],
      "source": [
        "# Run our function\n",
        "age(1942)"
      ]
    },
    {
      "cell_type": "markdown",
      "metadata": {
        "id": "givLLcc5FsUR"
      },
      "source": [
        "Now add some bells and whistles:  Take person's name and year of birth (two arguments). Produce a sentence that states how old they are."
      ]
    },
    {
      "cell_type": "code",
      "execution_count": null,
      "metadata": {
        "id": "a971qqy0FsUR"
      },
      "outputs": [],
      "source": [
        "# A more refined function with two arguments\n",
        "def name_and_age(name, year):\n",
        "    return name + ' is ' + str(age(year)) + ' years old.'"
      ]
    },
    {
      "cell_type": "code",
      "execution_count": null,
      "metadata": {
        "id": "-uE-4m9UFsUR"
      },
      "outputs": [],
      "source": [
        "# Run our function to see what it returns\n",
        "name_and_age('Joe', 1942)"
      ]
    },
    {
      "cell_type": "markdown",
      "metadata": {
        "id": "vKxlZS36FsUR"
      },
      "source": [
        "## Apply ##"
      ]
    },
    {
      "cell_type": "code",
      "execution_count": null,
      "metadata": {
        "id": "TocLRg2XFsUS"
      },
      "outputs": [],
      "source": [
        "# A table with office characters\n",
        "ages = Table().with_columns(\n",
        "    'Person', make_array('Jim', 'Pam', 'Michael', 'Creed'),\n",
        "    'Birth Year', make_array(1985, 1988, 1967, 1904)\n",
        ")\n",
        "ages"
      ]
    },
    {
      "cell_type": "code",
      "execution_count": null,
      "metadata": {
        "id": "fpe9jg3sFsUS"
      },
      "outputs": [],
      "source": [
        "# Use our age function on each column\n",
        "make_array(age(ages.column('Birth Year').item(0)),\n",
        "           age(ages.column('Birth Year').item(1)),\n",
        "           age(ages.column('Birth Year').item(2)),\n",
        "           age(ages.column('Birth Year').item(3)))"
      ]
    },
    {
      "cell_type": "code",
      "execution_count": null,
      "metadata": {
        "id": "ZfcVH7sQFsUS"
      },
      "outputs": [],
      "source": [
        "# Use the apply function to run it on the entire table\n",
        "ages.apply(age, 'Birth Year')"
      ]
    },
    {
      "cell_type": "code",
      "execution_count": null,
      "metadata": {
        "id": "KsrYbsH0FsUS"
      },
      "outputs": [],
      "source": [
        "# Run our other function using apply\n",
        "ages.apply(name_and_age, 'Person', 'Birth Year')"
      ]
    },
    {
      "cell_type": "markdown",
      "metadata": {
        "id": "X8dQpnMaFsUS"
      },
      "source": [
        "### Saving\n",
        "Remember to save your notebook before closing.\n",
        "Choose **Save** (and make sure you've already saved a copy in your drive) from the **File** menu."
      ]
    },
    {
      "cell_type": "markdown",
      "metadata": {
        "id": "IaDBVrZSFsUS"
      },
      "source": []
    }
  ],
  "metadata": {
    "anaconda-cloud": {},
    "kernelspec": {
      "display_name": "Python 3",
      "language": "python",
      "name": "python3"
    },
    "language_info": {
      "codemirror_mode": {
        "name": "ipython",
        "version": 3
      },
      "file_extension": ".py",
      "mimetype": "text/x-python",
      "name": "python",
      "nbconvert_exporter": "python",
      "pygments_lexer": "ipython3",
      "version": "3.8.5"
    },
    "colab": {
      "provenance": []
    }
  },
  "nbformat": 4,
  "nbformat_minor": 0
}