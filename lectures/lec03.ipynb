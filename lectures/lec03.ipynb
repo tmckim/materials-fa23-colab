{
  "cells": [
    {
      "cell_type": "markdown",
      "metadata": {
        "id": "lWPjSFBeJfU2"
      },
      "source": [
        "<a href=\"https://colab.research.google.com/github/tmckim/materials-fa23-colab/blob/main/lectures/lec03.ipynb\" target=\"_parent\"><img src=\"https://colab.research.google.com/assets/colab-badge.svg\" alt=\"Open In Colab\"/></a>"
      ]
    },
    {
      "cell_type": "markdown",
      "metadata": {
        "id": "OnBSpwoEJfU4"
      },
      "source": [
        "## Before you start - Save this notebook!\n",
        "\n",
        "When you open a new Colab notebook from the WebCampus (like you hopefully did for this one), you cannot save changes. So it's  best to store the Colab notebook in your personal drive `\"File > Save a copy in drive...\"` **before** you do anything else.\n",
        "\n",
        "The file will open in a new tab in your web browser, and it is automatically named something like: \"**Copy of lec02.ipynb**\". You can rename this to just the title of the assignment \"**lec02.ipynb**\". Make sure you do keep an informative name (like the name of the lecture and number) so that you know which files go with the course sessions. More instruction on file formats is at the end of the notebook.\n",
        "\n",
        "\n",
        "**Where does the notebook get saved in Google Drive?**\n",
        "\n",
        "By default, the notebook will be copied to a folder called “Colab Notebooks” at the root (home directory) of your Google Drive. If you use this for other courses or personal code notebooks, I recommend creating a folder for this course and then moving the assignments AFTER you have completed them."
      ]
    },
    {
      "cell_type": "code",
      "execution_count": null,
      "metadata": {
        "id": "9ZrTWUDjJfU5"
      },
      "outputs": [],
      "source": [
        "from google.colab import drive\n",
        "drive.mount('/content/gdrive', force_remount=True)\n",
        "\n",
        "#!mkdir -p '/content/gdrive/My Drive/colab-materials-NS499DataSci-notebooks/'\n",
        "%cd /content/gdrive/MyDrive/colab-materials-NS499DataSci-notebooks/\n",
        "!rm -r materials-fa23-colab\n",
        "!git clone https://github.com/tmckim/materials-fa23-colab '/content/gdrive/My Drive/colab-materials-NS499DataSci-notebooks/materials-fa23-colab/'\n",
        "\n",
        "%cd /content/gdrive/MyDrive/colab-materials-NS499DataSci-notebooks/materials-fa23-colab/lectures/"
      ]
    },
    {
      "cell_type": "code",
      "execution_count": null,
      "metadata": {
        "id": "MRkneuHTMdzE"
      },
      "outputs": [],
      "source": [
        "from datascience import *\n",
        "import numpy as np\n",
        "\n",
        "%matplotlib inline\n",
        "import matplotlib.pyplot as plots\n",
        "plots.style.use(\"fivethirtyeight\")"
      ]
    },
    {
      "cell_type": "markdown",
      "metadata": {
        "id": "F-STlMCOJfU6"
      },
      "source": [
        "## Part 1"
      ]
    },
    {
      "cell_type": "markdown",
      "metadata": {
        "id": "RVoCaY8kJfVM"
      },
      "source": [
        "## Arrays ##"
      ]
    },
    {
      "cell_type": "code",
      "execution_count": null,
      "metadata": {
        "id": "fe0z_iCrJfVM"
      },
      "outputs": [],
      "source": [
        "# An array of 4 numbers\n",
        "first_four = make_array(1, 2, 3, 4)"
      ]
    },
    {
      "cell_type": "code",
      "execution_count": null,
      "metadata": {
        "id": "YdW9yW4kJfVM"
      },
      "outputs": [],
      "source": [
        "# Show the array\n",
        "first_four"
      ]
    },
    {
      "cell_type": "code",
      "execution_count": null,
      "metadata": {
        "id": "rihklkVtJfVM"
      },
      "outputs": [],
      "source": [
        "# Multiply the array by 2\n",
        "first_four * 2"
      ]
    },
    {
      "cell_type": "code",
      "execution_count": null,
      "metadata": {
        "id": "LC3JMEpCJfVM"
      },
      "outputs": [],
      "source": [
        "# Squaring the array\n",
        "first_four ** 2"
      ]
    },
    {
      "cell_type": "code",
      "execution_count": null,
      "metadata": {
        "id": "VLObJAnwJfVM"
      },
      "outputs": [],
      "source": [
        "# Add to the array\n",
        "first_four + 1"
      ]
    },
    {
      "cell_type": "code",
      "execution_count": null,
      "metadata": {
        "id": "w1cK-OjEJfVM"
      },
      "outputs": [],
      "source": [
        "# The original array is unchanged, just like when we call show/select/drop on Table\n",
        "first_four"
      ]
    },
    {
      "cell_type": "code",
      "execution_count": null,
      "metadata": {
        "id": "guS-mW7_JfVM"
      },
      "outputs": [],
      "source": [
        "# A new array\n",
        "next_four = make_array(5, 6, 7, 8)"
      ]
    },
    {
      "cell_type": "code",
      "execution_count": null,
      "metadata": {
        "id": "MaVNZU_7JfVN"
      },
      "outputs": [],
      "source": [
        "# Add two arrays\n",
        "first_four + next_four"
      ]
    },
    {
      "cell_type": "code",
      "execution_count": null,
      "metadata": {
        "id": "bQXpJr_6JfVN"
      },
      "outputs": [],
      "source": [
        "# A third array\n",
        "only_three = make_array(5, 6, 7)"
      ]
    },
    {
      "cell_type": "code",
      "execution_count": null,
      "metadata": {
        "id": "IykGAhsAJfVN"
      },
      "outputs": [],
      "source": [
        "# This line will cause an error - why?\n",
        "first_four + only_three"
      ]
    },
    {
      "cell_type": "code",
      "execution_count": null,
      "metadata": {
        "id": "XNgeHnZHJfVN"
      },
      "outputs": [],
      "source": [
        "# A string array\n",
        "str_array = make_array('ha', 'he', 'ho')"
      ]
    },
    {
      "cell_type": "code",
      "execution_count": null,
      "metadata": {
        "id": "sCIzjZMfJfVN"
      },
      "outputs": [],
      "source": [
        "# Show the array\n",
        "str_array"
      ]
    },
    {
      "cell_type": "code",
      "execution_count": null,
      "metadata": {
        "id": "T1nD9MCIJfVN"
      },
      "outputs": [],
      "source": [
        "# Multiply a string array by a number?\n",
        "str_array * 4"
      ]
    },
    {
      "cell_type": "code",
      "execution_count": null,
      "metadata": {
        "id": "DTT51HIpJfVN"
      },
      "outputs": [],
      "source": [
        "# Show this array again\n",
        "next_four"
      ]
    },
    {
      "cell_type": "code",
      "execution_count": null,
      "metadata": {
        "id": "PlU-9Jc3Uvtf"
      },
      "outputs": [],
      "source": [
        "# Adding the array of numbers\n",
        "sum(next_four)"
      ]
    },
    {
      "cell_type": "code",
      "execution_count": null,
      "metadata": {
        "id": "Nmy4f1aPUvtf"
      },
      "outputs": [],
      "source": [
        "# Another way to do this\n",
        "next_four.sum()"
      ]
    },
    {
      "cell_type": "code",
      "execution_count": null,
      "metadata": {
        "id": "6A2PAiOWUvtf"
      },
      "outputs": [],
      "source": [
        "# Using numpy to average the array\n",
        "np.average(next_four)"
      ]
    },
    {
      "cell_type": "code",
      "execution_count": null,
      "metadata": {
        "id": "v78a2vzAUvtg"
      },
      "outputs": [],
      "source": [
        "# Using numpy to take the mean of the array\n",
        "np.mean(next_four)"
      ]
    },
    {
      "cell_type": "code",
      "execution_count": null,
      "metadata": {
        "id": "H8rhtGbMUvtg"
      },
      "outputs": [],
      "source": [
        "# Use the len function to determine the length\n",
        "len(next_four)"
      ]
    },
    {
      "cell_type": "code",
      "execution_count": null,
      "metadata": {
        "id": "vni31SYXUvtg"
      },
      "outputs": [],
      "source": [
        "# Arrays also have a member variable array_name.size that contains the size of the array\n",
        "# Note, size here isn't a function so it doesn't require () after it\n",
        "next_four.size"
      ]
    },
    {
      "cell_type": "markdown",
      "metadata": {
        "id": "IbmqL6RAUvtg"
      },
      "source": [
        "### Accessing Elements"
      ]
    },
    {
      "cell_type": "code",
      "execution_count": null,
      "metadata": {
        "id": "4t8FnUjMVzTi"
      },
      "outputs": [],
      "source": [
        "# Show array again as reminder\n",
        "next_four"
      ]
    },
    {
      "cell_type": "code",
      "execution_count": null,
      "metadata": {
        "id": "YriKy2vUJfVN"
      },
      "outputs": [],
      "source": [
        "# How to index an array\n",
        "next_four.item(0)"
      ]
    },
    {
      "cell_type": "code",
      "execution_count": null,
      "metadata": {
        "id": "nBTditUHJfVN"
      },
      "outputs": [],
      "source": [
        "# What item are we indexing here?\n",
        "next_four.item(1)"
      ]
    },
    {
      "cell_type": "markdown",
      "metadata": {
        "id": "M81vaW2cUvtg"
      },
      "source": [
        "**Bonus!** This is called **array indexing**. There is a shorter \"equivalent\" syntax that people often use. However, for this class you only need to know about `.item()`.<br><br>\n",
        "`array[ INDEX ]`"
      ]
    },
    {
      "cell_type": "code",
      "execution_count": null,
      "metadata": {
        "id": "ZhyJLzZpUvtg"
      },
      "outputs": [],
      "source": [
        "# Shorter and more compact\n",
        "next_four[1]"
      ]
    },
    {
      "cell_type": "markdown",
      "metadata": {
        "id": "pYBMSTGFUvtg"
      },
      "source": [
        "## Ranges ##"
      ]
    },
    {
      "cell_type": "markdown",
      "metadata": {
        "id": "NmBzHJfzUvth"
      },
      "source": [
        "We use ranges to make arrays of number sequences easily. The numpy `np.arange(start, stop, step)` function produces an array starting at `start` and ending *before* `stop`, in increments of `step`."
      ]
    },
    {
      "cell_type": "code",
      "execution_count": null,
      "metadata": {
        "id": "eQMCU3_BUvth"
      },
      "outputs": [],
      "source": [
        "# how we previously learned to make an array\n",
        "make_array(0, 1, 2, 3, 4, 5, 6)"
      ]
    },
    {
      "cell_type": "code",
      "execution_count": null,
      "metadata": {
        "id": "IFqmIiwIUvth"
      },
      "outputs": [],
      "source": [
        "# Use numpy to make a range- what numbers will we get?\n",
        "np.arange(0,7,1)"
      ]
    },
    {
      "cell_type": "code",
      "execution_count": null,
      "metadata": {
        "id": "tR20UqDlUvth"
      },
      "outputs": [],
      "source": [
        "# Can we write it shorter? Default setting for step size\n",
        "np.arange(0,7)"
      ]
    },
    {
      "cell_type": "code",
      "execution_count": null,
      "metadata": {
        "id": "pwHJcWVFUvth"
      },
      "outputs": [],
      "source": [
        "# Even shorter- assumes we start from 0\n",
        "np.arange(7)"
      ]
    },
    {
      "cell_type": "code",
      "execution_count": null,
      "metadata": {
        "id": "Ubs7ZdExUvth"
      },
      "outputs": [],
      "source": [
        "# Anything else yoou want me to try?\n",
        "np.arange(0, 20, 2)"
      ]
    },
    {
      "cell_type": "markdown",
      "metadata": {
        "id": "WTSHeXmQJfVO"
      },
      "source": [
        "## Columns of Tables are Arrays ##"
      ]
    },
    {
      "cell_type": "markdown",
      "metadata": {
        "id": "-kiMqEo3JfVO"
      },
      "source": [
        "### A more interesting table"
      ]
    },
    {
      "cell_type": "code",
      "execution_count": null,
      "metadata": {
        "id": "hFp_LLQXJfVO"
      },
      "outputs": [],
      "source": [
        "# Originally from https://github.com/erikgregorywebb/datasets/blob/master/nba-salaries.csv\n",
        "# salary is in millions of dollars\n",
        "# Create a table named nba from the data file using the Table method and read_table function\n",
        "nba = Table.read_table('nba_salaries.csv')\n",
        "nba"
      ]
    },
    {
      "cell_type": "code",
      "execution_count": null,
      "metadata": {
        "id": "FzPHZ8h1JfVP"
      },
      "outputs": [],
      "source": [
        "# Create a table called point_guards by finding where the position column is labeled PG (point guard) during the 2020 season\n",
        "point_guards = nba.where('position', 'PG').where('season', 2020)"
      ]
    },
    {
      "cell_type": "code",
      "execution_count": null,
      "metadata": {
        "id": "QXmZ0qstJfVP"
      },
      "outputs": [],
      "source": [
        "# Show the table\n",
        "point_guards"
      ]
    },
    {
      "cell_type": "code",
      "execution_count": null,
      "metadata": {
        "id": "o8oeZIYTJfVP"
      },
      "outputs": [],
      "source": [
        "# Drop (remove) the position column\n",
        "point_guards.drop('position')"
      ]
    },
    {
      "cell_type": "code",
      "execution_count": null,
      "metadata": {
        "id": "LhoD30dTJfVP"
      },
      "outputs": [],
      "source": [
        "# Show the table\n",
        "point_guards"
      ]
    },
    {
      "cell_type": "code",
      "execution_count": null,
      "metadata": {
        "id": "DvtAoayHJfVP"
      },
      "outputs": [],
      "source": [
        "# Further remove columns from the table\n",
        "point_guards = point_guards.drop('rank', 'position', 'season')"
      ]
    },
    {
      "cell_type": "code",
      "execution_count": null,
      "metadata": {
        "id": "wdd-eAtzJfVP"
      },
      "outputs": [],
      "source": [
        "# Show the first 10 rows of the table\n",
        "point_guards.show(10)"
      ]
    },
    {
      "cell_type": "code",
      "execution_count": null,
      "metadata": {
        "id": "vv1uq4uiJfVP"
      },
      "outputs": [],
      "source": [
        "# Combine table functions: first sort by salary and then show the first 10 rows\n",
        "# What is the default sorting direction? Hint: what is the default for the optional argument, descending?\n",
        "point_guards.sort('salary').show(10)"
      ]
    },
    {
      "cell_type": "code",
      "execution_count": null,
      "metadata": {
        "id": "rzhkqRCSJfVQ"
      },
      "outputs": [],
      "source": [
        "# The line below will cause a value error- order of combining methods matters!\n",
        "nba.drop('position').where('position', 'PG')"
      ]
    },
    {
      "cell_type": "code",
      "execution_count": null,
      "metadata": {
        "id": "K4spWkwzJfVQ"
      },
      "outputs": [],
      "source": [
        "# Create a table of only the data from the 2020 season\n",
        "nba = Table.read_table('nba_salaries.csv').where('season', 2020).drop('season')\n",
        "nba.show(5)"
      ]
    },
    {
      "cell_type": "code",
      "execution_count": null,
      "metadata": {
        "id": "Gq4OdUykJfVQ"
      },
      "outputs": [],
      "source": [
        "# Create a table of Golden State Warriors data\n",
        "warriors = nba.where('team', 'Golden State Warriors')\n",
        "warriors.show(5)"
      ]
    },
    {
      "cell_type": "code",
      "execution_count": null,
      "metadata": {
        "id": "J4NMr6EGJfVQ"
      },
      "outputs": [],
      "source": [
        "# Show the salary column\n",
        "warriors.select('salary')"
      ]
    },
    {
      "cell_type": "code",
      "execution_count": null,
      "metadata": {
        "id": "BVzK2f5vJfVQ"
      },
      "outputs": [],
      "source": [
        "# What type is the salary column?\n",
        "type(warriors.select('salary'))"
      ]
    },
    {
      "cell_type": "code",
      "execution_count": null,
      "metadata": {
        "id": "_pDr9flUJfVQ"
      },
      "outputs": [],
      "source": [
        "# Access the numbers in the salary column\n",
        "warriors.column('salary')"
      ]
    },
    {
      "cell_type": "code",
      "execution_count": null,
      "metadata": {
        "id": "LsGij55iJfVQ"
      },
      "outputs": [],
      "source": [
        "# Average the numbers in the salary column\n",
        "np.average(warriors.column('salary'))"
      ]
    },
    {
      "cell_type": "code",
      "execution_count": null,
      "metadata": {
        "id": "kQOT0LKqUvtk"
      },
      "outputs": [],
      "source": [
        "# Another way to do this\n",
        "warriors.column('salary').mean()"
      ]
    },
    {
      "cell_type": "code",
      "execution_count": null,
      "metadata": {
        "id": "nG61dEtpUvtk"
      },
      "outputs": [],
      "source": [
        "# Why doesn't this work?\n",
        "np.average(warriors.select('salary'))"
      ]
    },
    {
      "cell_type": "code",
      "execution_count": null,
      "metadata": {
        "id": "B88r9STFJfVQ"
      },
      "outputs": [],
      "source": [
        "# Create a table with Phoenix Suns data\n",
        "suns = nba.where('team', 'Phoenix Suns')"
      ]
    },
    {
      "cell_type": "code",
      "execution_count": null,
      "metadata": {
        "id": "Ht4faffcJfVR"
      },
      "outputs": [],
      "source": [
        "# Subtract averages from the salary columns to compare the two teams\n",
        "np.average(warriors.column('salary')) - np.average(suns.column('salary'))"
      ]
    },
    {
      "cell_type": "code",
      "execution_count": null,
      "metadata": {
        "id": "yvcZVqiGJfVR"
      },
      "outputs": [],
      "source": [
        "# How many rows in the warrior table?\n",
        "warriors.num_rows"
      ]
    },
    {
      "cell_type": "code",
      "execution_count": null,
      "metadata": {
        "id": "TJmMo2MoJfVR"
      },
      "outputs": [],
      "source": [
        "# How many rows in the suns table?\n",
        "suns.num_rows"
      ]
    },
    {
      "cell_type": "markdown",
      "metadata": {
        "id": "rK25tML2Uvtl"
      },
      "source": [
        "# Ways to Create a Table #\n",
        "\n",
        "## Creating a Table from Scratch ##"
      ]
    },
    {
      "cell_type": "code",
      "execution_count": null,
      "metadata": {
        "id": "At8q8dWnUvtl"
      },
      "outputs": [],
      "source": [
        "# Make an array of streets\n",
        "streets = make_array('Bancroft', 'Durant', 'Channing', 'Haste')\n",
        "streets"
      ]
    },
    {
      "cell_type": "code",
      "execution_count": null,
      "metadata": {
        "id": "c2OF1FPoUvtl"
      },
      "outputs": [],
      "source": [
        "# Create an empty table\n",
        "empty_table = Table()\n",
        "empty_table"
      ]
    },
    {
      "cell_type": "code",
      "execution_count": null,
      "metadata": {
        "id": "dO5durFuUvtl"
      },
      "outputs": [],
      "source": [
        "# Create a table using the array we made above (streets)\n",
        "southside = Table().with_column('Streets', streets)\n",
        "southside"
      ]
    },
    {
      "cell_type": "code",
      "execution_count": null,
      "metadata": {
        "id": "qN4VndOmUvtl"
      },
      "outputs": [],
      "source": [
        "# Add a column to the table\n",
        "southside.with_column('Blocks from campus', np.arange(4))\n",
        "southside"
      ]
    },
    {
      "cell_type": "code",
      "execution_count": null,
      "metadata": {
        "id": "tmT-VbN2Uvtm"
      },
      "outputs": [],
      "source": [
        "# Add a column to the table- what's the difference from the above code?\n",
        "southside = southside.with_column('Blocks from campus', np.arange(4))\n",
        "southside"
      ]
    },
    {
      "cell_type": "code",
      "execution_count": null,
      "metadata": {
        "id": "c_VVrfWeUvtm"
      },
      "outputs": [],
      "source": [
        "# Create a table with multiple columns in one step\n",
        "Table().with_columns(\n",
        "    'Streets', streets,\n",
        "    'Blocks from campus', np.arange(4)\n",
        ")"
      ]
    },
    {
      "cell_type": "markdown",
      "metadata": {
        "id": "zMEqI1xaUvtm"
      },
      "source": [
        "## Census Data ##"
      ]
    },
    {
      "cell_type": "code",
      "execution_count": null,
      "metadata": {
        "id": "shQ4daELUvtm"
      },
      "outputs": [],
      "source": [
        "# Read in the Census data table\n",
        "full = Table.read_table('nc-est2019-agesex-res.csv')"
      ]
    },
    {
      "cell_type": "code",
      "execution_count": null,
      "metadata": {
        "id": "hNGE_-dLUvtm"
      },
      "outputs": [],
      "source": [
        "# Keep only the columns we care about- 2014 and 2019\n",
        "partial = full.select('SEX', 'AGE', 'POPESTIMATE2014', 'POPESTIMATE2019')"
      ]
    },
    {
      "cell_type": "code",
      "execution_count": null,
      "metadata": {
        "id": "Z_CJVFAnUvtm"
      },
      "outputs": [],
      "source": [
        "# Make things easier to read\n",
        "simple = partial.relabeled(2, '2014').relabeled(3, '2019')\n",
        "simple"
      ]
    },
    {
      "cell_type": "code",
      "execution_count": null,
      "metadata": {
        "id": "Fr0ZaGhyUvtm"
      },
      "outputs": [],
      "source": [
        "# Remove the age totals- coded as 999\n",
        "no_999 = simple.where('AGE', are.below(999))\n",
        "no_999"
      ]
    },
    {
      "cell_type": "markdown",
      "metadata": {
        "id": "REwhE9PuUvtm"
      },
      "source": [
        "## Line Plots ##"
      ]
    },
    {
      "cell_type": "code",
      "execution_count": null,
      "metadata": {
        "id": "RwgTHYqJUvtm"
      },
      "outputs": [],
      "source": [
        "# Our first chart!\n",
        "no_999.plot('AGE', '2019')"
      ]
    },
    {
      "cell_type": "code",
      "execution_count": null,
      "metadata": {
        "id": "p4vjg3FjUvtn"
      },
      "outputs": [],
      "source": [
        "# Adjusted plot\n",
        "overall = no_999.where('SEX', 0)\n",
        "overall.plot('AGE', '2019')"
      ]
    },
    {
      "cell_type": "code",
      "execution_count": null,
      "metadata": {
        "id": "MrwikdJgUvtn"
      },
      "outputs": [],
      "source": [
        "# ^^ That plot should be labeled! Here are 3 ways to label it:"
      ]
    },
    {
      "cell_type": "code",
      "execution_count": null,
      "metadata": {
        "id": "2r6tkvqBUvtn"
      },
      "outputs": [],
      "source": [
        "# US Population  <--- Just add a comment\n",
        "\n",
        "overall.plot('AGE', '2019')"
      ]
    },
    {
      "cell_type": "code",
      "execution_count": null,
      "metadata": {
        "id": "C6VDdZI5Uvtn"
      },
      "outputs": [],
      "source": [
        "overall.plot('AGE', '2019')\n",
        "print('US Population')  # <--- Print out what it is"
      ]
    },
    {
      "cell_type": "code",
      "execution_count": null,
      "metadata": {
        "id": "9JHwVBQNUvtn"
      },
      "outputs": [],
      "source": [
        "overall.plot('AGE', '2019')\n",
        "plots.title('US Population');    # <--- Add a title"
      ]
    },
    {
      "cell_type": "code",
      "execution_count": null,
      "metadata": {
        "id": "Nf8EHLO_Uvtn"
      },
      "outputs": [],
      "source": [
        "# Now plot 2014"
      ]
    },
    {
      "cell_type": "code",
      "execution_count": null,
      "metadata": {
        "id": "zvTMXEXlUvtn"
      },
      "outputs": [],
      "source": [
        "# Put both years on the same plot\n",
        "overall.drop('SEX').plot('AGE')"
      ]
    },
    {
      "cell_type": "markdown",
      "metadata": {
        "id": "Nd7MBHdFUvto"
      },
      "source": [
        "## Males vs Females (Optional)"
      ]
    },
    {
      "cell_type": "code",
      "execution_count": null,
      "metadata": {
        "id": "dgE07ck0Uvto"
      },
      "outputs": [],
      "source": [
        "# Let's compare male and female counts per age\n",
        "males = no_999.where('SEX', 1).drop('SEX')\n",
        "females = no_999.where('SEX', 2).drop('SEX')"
      ]
    },
    {
      "cell_type": "code",
      "execution_count": null,
      "metadata": {
        "id": "vqfBTTlAUvto"
      },
      "outputs": [],
      "source": [
        "# Create table for 2019\n",
        "pop_2019 = Table().with_columns(\n",
        "    'Age', males.column('AGE'),\n",
        "    'Males', males.column('2019'),\n",
        "    'Females', females.column('2019')\n",
        ")\n",
        "pop_2019"
      ]
    },
    {
      "cell_type": "code",
      "execution_count": null,
      "metadata": {
        "id": "6EKzTL0_Uvto"
      },
      "outputs": [],
      "source": [
        "# Plot 2019 data\n",
        "pop_2019.plot('Age')"
      ]
    },
    {
      "cell_type": "code",
      "execution_count": null,
      "metadata": {
        "id": "F2ho6I8kUvto"
      },
      "outputs": [],
      "source": [
        "# Calculate the percent female for each age\n",
        "total = pop_2019.column('Males') + pop_2019.column('Females')\n",
        "pct_female = pop_2019.column('Females') / total * 100\n",
        "pct_female"
      ]
    },
    {
      "cell_type": "code",
      "execution_count": null,
      "metadata": {
        "id": "TeHCGzxZUvto"
      },
      "outputs": [],
      "source": [
        "# Round it to 3 so that it's easier to read\n",
        "pct_female = np.round(pct_female, 3)\n",
        "pct_female"
      ]
    },
    {
      "cell_type": "code",
      "execution_count": null,
      "metadata": {
        "id": "fWg9oR-dUvto"
      },
      "outputs": [],
      "source": [
        "# Add female percent to our table\n",
        "pop_2019 = pop_2019.with_column('Percent female', pct_female)\n",
        "pop_2019"
      ]
    },
    {
      "cell_type": "code",
      "execution_count": null,
      "metadata": {
        "id": "e1lqm2HXUvto"
      },
      "outputs": [],
      "source": [
        "# Plot percent\n",
        "pop_2019.plot('Age', 'Percent female')"
      ]
    },
    {
      "cell_type": "code",
      "execution_count": null,
      "metadata": {
        "id": "0un4SEn3Uvtp"
      },
      "outputs": [],
      "source": [
        "# ^^ Look at the y-axis! Trend is not as dramatic as you might think\n",
        "\n",
        "pop_2019.plot('Age', 'Percent female')\n",
        "plots.ylim(0, 100);  # Optional for this course"
      ]
    },
    {
      "cell_type": "markdown",
      "metadata": {
        "id": "VgvKaJn1Uvtp"
      },
      "source": [
        "## Scatter Plots ##"
      ]
    },
    {
      "cell_type": "code",
      "execution_count": null,
      "metadata": {
        "id": "Kjp8CyiQUvtp"
      },
      "outputs": [],
      "source": [
        "# Actors and their highest grossing movies\n",
        "actors = Table.read_table('actors.csv')\n",
        "actors"
      ]
    },
    {
      "cell_type": "code",
      "execution_count": null,
      "metadata": {
        "id": "L_mc50bOUvtp"
      },
      "outputs": [],
      "source": [
        "# Create scatter plot from slides\n",
        "actors.scatter('Number of Movies', 'Average per Movie')"
      ]
    },
    {
      "cell_type": "code",
      "execution_count": null,
      "metadata": {
        "id": "ZkriddcxUvtp"
      },
      "outputs": [],
      "source": [
        "# How do we find the highest average per movie?\n",
        "actors.where('Average per Movie', are.above(400))"
      ]
    },
    {
      "cell_type": "code",
      "execution_count": null,
      "metadata": {
        "id": "8Vv_RB8gUvtp"
      },
      "outputs": [],
      "source": [
        "# Extra: Scatter of # of movies compared to total gross amount\n",
        "#actors.scatter('Number of Movies', 'Total Gross')"
      ]
    },
    {
      "cell_type": "markdown",
      "metadata": {
        "id": "tON-vCDWUvtp"
      },
      "source": [
        "## Bar Charts ##"
      ]
    },
    {
      "cell_type": "code",
      "execution_count": null,
      "metadata": {
        "id": "ghuBJO2WUvtp"
      },
      "outputs": [],
      "source": [
        "# Highest grossing movies as of 2017\n",
        "top_movies = Table.read_table('top_movies_2017.csv')\n",
        "top_movies"
      ]
    },
    {
      "cell_type": "code",
      "execution_count": null,
      "metadata": {
        "id": "c5R7LcyCUvtq"
      },
      "outputs": [],
      "source": [
        "# Find the top 10 movies\n",
        "top10_adjusted = top_movies.take(np.arange(10))\n",
        "top10_adjusted"
      ]
    },
    {
      "cell_type": "code",
      "execution_count": null,
      "metadata": {
        "id": "Br5kr4zuUvtq"
      },
      "outputs": [],
      "source": [
        "# Convert to millions of dollars for readability\n",
        "millions = np.round(top10_adjusted.column('Gross (Adjusted)') / 1000000, 3)\n",
        "top10_adjusted = top10_adjusted.with_column('Millions', millions)\n",
        "top10_adjusted\n"
      ]
    },
    {
      "cell_type": "code",
      "execution_count": null,
      "metadata": {
        "id": "Y3Q2jOOIUvtq"
      },
      "outputs": [],
      "source": [
        "# A line plot doesn't make sense here: don't do this!\n",
        "top10_adjusted.plot('Year', 'Millions')"
      ]
    },
    {
      "cell_type": "code",
      "execution_count": null,
      "metadata": {
        "id": "G88VU1XIUvtq"
      },
      "outputs": [],
      "source": [
        "# Use a bar plot instead\n",
        "top10_adjusted.barh('Title', 'Millions')"
      ]
    },
    {
      "cell_type": "markdown",
      "metadata": {
        "id": "bwaJEK_MUvtq"
      },
      "source": [
        "Exercise: Generate the chart shown in the slides: a bar chart of age (# years since release) for the 10 highest grossing movies (non-adjusted)."
      ]
    },
    {
      "cell_type": "code",
      "execution_count": null,
      "metadata": {
        "id": "4nmihN98YuIi"
      },
      "outputs": [],
      "source": [
        "# Insert code here"
      ]
    },
    {
      "cell_type": "markdown",
      "metadata": {
        "id": "CaR9gP1kJfVR"
      },
      "source": [
        "### Saving\n",
        "Remember to save your notebook before closing.\n",
        "Choose **Save** (and make sure you've already saved a copy in your drive) from the **File** menu."
      ]
    }
  ],
  "metadata": {
    "anaconda-cloud": {},
    "colab": {
      "provenance": []
    },
    "kernelspec": {
      "display_name": "Python 3",
      "language": "python",
      "name": "python3"
    },
    "language_info": {
      "codemirror_mode": {
        "name": "ipython",
        "version": 3
      },
      "file_extension": ".py",
      "mimetype": "text/x-python",
      "name": "python",
      "nbconvert_exporter": "python",
      "pygments_lexer": "ipython3",
      "version": "3.8.5"
    }
  },
  "nbformat": 4,
  "nbformat_minor": 0
}
