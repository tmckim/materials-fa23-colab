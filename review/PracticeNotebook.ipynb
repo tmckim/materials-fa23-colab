{
  "cells": [
    {
      "cell_type": "markdown",
      "metadata": {
        "id": "BxuZNpkj91ju"
      },
      "source": [
        "<a href=\"https://colab.research.google.com/github/tmckim/materials-fa23-colab/blob/main/review/PracticeNotebook.ipynb\" target=\"_parent\"><img src=\"https://colab.research.google.com/assets/colab-badge.svg\" alt=\"Open In Colab\"/></a>"
      ]
    },
    {
      "cell_type": "markdown",
      "metadata": {
        "id": "MTOUEaqY9-7V"
      },
      "source": [
        "## Before you start - Save this notebook!\n",
        "\n",
        "When you open a new Colab notebook from the WebCampus (like you hopefully did for this one), you cannot save changes. So it's  best to store the Colab notebook in your personal drive `\"File > Save a copy in drive...\"` **before** you do anything else.\n",
        "\n",
        "The file will open in a new tab in your web browser, and it is automatically named something like: \"**Copy of PracticeNotebook.ipynb**\". You can rename this to just the title of the assignment \"**PracticeNotebook.ipynb**\". Make sure you do keep an informative name (like the name of the assignment) so that you know which files to submit back to WebCampus for grading! More instructions on this are at the end of the notebook.\n",
        "\n",
        "\n",
        "**Where does the notebook get saved in Google Drive?**\n",
        "\n",
        "By default, the notebook will be copied to a folder called “Colab Notebooks” at the root (home directory) of your Google Drive. If you use this for other courses or personal code notebooks, I recommend creating a folder for this course and then moving the assignments AFTER you have completed them."
      ]
    },
    {
      "cell_type": "code",
      "execution_count": null,
      "metadata": {
        "id": "MM49HGp39wEG"
      },
      "outputs": [],
      "source": [
        "# Setup and add files needed to gdrive\n",
        "# If you restart colab, start by rerunning this cell first!\n",
        "from google.colab import drive\n",
        "drive.mount('/content/gdrive', force_remount=True)\n",
        "\n",
        "#!mkdir -p '/content/gdrive/My Drive/colab-materials-NS499DataSci-notebooks/'\n",
        "%cd /content/gdrive/My Drive/colab-materials-NS499DataSci-notebooks/\n",
        "!rm -r materials-fa23-colab\n",
        "\n",
        "!git clone https://github.com/tmckim/materials-fa23-colab '/content/gdrive/My Drive/colab-materials-NS499DataSci-notebooks/materials-fa23-colab/'\n",
        "\n",
        "%cd /content/gdrive/MyDrive/colab-materials-NS499DataSci-notebooks/materials-fa23-colab/review/"
      ]
    },
    {
      "cell_type": "code",
      "execution_count": null,
      "metadata": {
        "id": "ljxqxt9Z-LUO"
      },
      "outputs": [],
      "source": [
        "# Import packages and other things needed\n",
        "# Don't change this cell; Just run this cell\n",
        "# If you restart colab, make sure to run this cell again after the first one above^\n",
        "\n",
        "from datascience import *\n",
        "import numpy as np\n",
        "\n",
        "%matplotlib inline\n",
        "import matplotlib.pyplot as plt\n",
        "plt.style.use('fivethirtyeight')\n",
        "import warnings\n",
        "warnings.simplefilter(action='ignore',category=np.VisibleDeprecationWarning)"
      ]
    },
    {
      "cell_type": "markdown",
      "metadata": {
        "id": "CRuXL9VLIGcy"
      },
      "source": [
        "### Working with Tables and Data Organization"
      ]
    },
    {
      "cell_type": "markdown",
      "metadata": {
        "id": "zM0jgp4FZBnt"
      },
      "source": [
        "Case Study: Understanding the [W. E. B. Du Bois Visualization](https://en.wikipedia.org/wiki/W._E._B._Du_Bois)\n"
      ]
    },
    {
      "cell_type": "markdown",
      "metadata": {
        "id": "y83Z2p7DZGCt"
      },
      "source": [
        "From Wikipedia: William Edward Burghardt Du Bois (February 23, 1868 – August 27, 1963) was an American sociologist, socialist, historian, and Pan-Africanist civil rights activist. Born in Great Barrington, Massachusetts, Du Bois grew up in a relatively tolerant and integrated community. After completing graduate work at the University of Berlin and Harvard University, where he was the first African American to earn a doctorate, he became a professor of history, sociology, and economics at Atlanta University. Du Bois was one of the founders of the National Association for the Advancement of Colored People (NAACP) in 1909.\n",
        "\n",
        "For more context on the visualization in lecture checkout [Du Bois’ Data Portraits Tell A Story About Black Life In Georgia And Beyond](https://www.wabe.org/du-bois-data-portraits/) <br>\n",
        "\n",
        "The data we will be working with is from this image: <br>\n",
        "![](dubois_image.jpg)\n"
      ]
    },
    {
      "cell_type": "code",
      "execution_count": null,
      "metadata": {
        "colab": {
          "base_uri": "https://localhost:8080/",
          "height": 269
        },
        "id": "etpJNVOj-_6N",
        "outputId": "d53b2f0e-6fc3-45a4-e30b-40b7b82dca00"
      },
      "outputs": [],
      "source": [
        "# Read in the table for these exercises\n",
        "du_bois = Table.read_table('du_bois.csv')\n",
        "du_bois"
      ]
    },
    {
      "cell_type": "markdown",
      "metadata": {
        "id": "II_2F2vFD7vx"
      },
      "source": [
        "Columns in the table are:\n",
        "\n",
        "`Class`: range of annual income values <br>\n",
        "`Actual Average`: Average value of annual income per class<br>\n",
        "`Rent`: % of income spent on rent<br>\n",
        "`Food`: % of income spent on food<br>\n",
        "`Clothes`: % of income spent on clothes<br>\n",
        "`Taxes`: % of income spent on taxes<br>\n",
        "`Other`: % of income spent on religion, art, education, health, savings, amusements, books, travel, etc.\n",
        "\n",
        "\n"
      ]
    },
    {
      "cell_type": "markdown",
      "metadata": {
        "id": "tIAUD70vFJFF"
      },
      "source": [
        "**Exercise**: Get an array of the 'Actual Average' column values\n"
      ]
    },
    {
      "cell_type": "code",
      "execution_count": null,
      "metadata": {
        "id": "bUuxnVPzEfAO"
      },
      "outputs": [],
      "source": [
        "# Write an expression to access the values in the `Actual Average` column\n",
        "# the output should be an array of the 7 numbers"
      ]
    },
    {
      "cell_type": "markdown",
      "metadata": {
        "id": "zWiyfTfvZSdl"
      },
      "source": [
        "**Exercise**: Compute the amount of money spent on food and add it to the table as \"FOOD $\":\n"
      ]
    },
    {
      "cell_type": "code",
      "execution_count": null,
      "metadata": {
        "id": "BzUfaCTOEne0"
      },
      "outputs": [],
      "source": [
        "# Calculate the amount spent on food for each income level\n",
        "# Multiply all values for the income column (choose the correct one) by the % spent on food (choose the correct column)\n",
        "# Add your new values to the table in a new column with the correct name\n",
        "# Feel free to use mutiple lines of code or cells to arrive at the answer"
      ]
    },
    {
      "cell_type": "markdown",
      "metadata": {
        "id": "13bZWnqwFqqp"
      },
      "source": [
        "**Exercise**: Find the maximum and the minmum amount spent from the new column you added (`Food $`)\n"
      ]
    },
    {
      "cell_type": "code",
      "execution_count": null,
      "metadata": {
        "id": "k0Hasy_IF5F_"
      },
      "outputs": [],
      "source": [
        "# Code goes here for max and min"
      ]
    },
    {
      "cell_type": "markdown",
      "metadata": {
        "id": "_lIPsWbTZWyp"
      },
      "source": [
        "**Exercise**: Find the income bracket (\"class\") that spent the most money on rent.\n",
        "\n"
      ]
    },
    {
      "cell_type": "code",
      "execution_count": null,
      "metadata": {
        "id": "SASho0OSF9wo"
      },
      "outputs": [],
      "source": [
        "# Similar to above- calculate the values you need and add the data as a new column to the table\n",
        "# Manipulate/rearrange the data to find the highest value\n",
        "# Your final expression should return the single highest value"
      ]
    },
    {
      "cell_type": "markdown",
      "metadata": {
        "id": "-kiMqEo3JfVO"
      },
      "source": [
        "### Working with tables - More Practice\n"
      ]
    },
    {
      "cell_type": "code",
      "execution_count": null,
      "metadata": {
        "colab": {
          "base_uri": "https://localhost:8080/",
          "height": 392
        },
        "id": "hFp_LLQXJfVO",
        "outputId": "129d73c6-2cd1-43df-fc94-29ecca1ce519"
      },
      "outputs": [],
      "source": [
        "# Create a table named nba from the data file using the Table method and read_table function\n",
        "nba = Table.read_table('nba_salaries.csv')\n",
        "nba"
      ]
    },
    {
      "cell_type": "markdown",
      "metadata": {
        "id": "yc1Oa0VDSirk"
      },
      "source": [
        "**Exercise**: Create a table called `point_guards` by using the entries in the `position` column labeled with `PG` during the 2020 season. <br>\n",
        "*Hint*: You need to filter the table using `where` for multiple columns and values."
      ]
    },
    {
      "cell_type": "code",
      "execution_count": null,
      "metadata": {
        "id": "Vk_Rez3G1YFA"
      },
      "outputs": [],
      "source": [
        "# Create a table called point_guards by finding where the position column is labeled PG (point guard) during the 2020 season"
      ]
    },
    {
      "cell_type": "markdown",
      "metadata": {
        "id": "KcSz-ncWS9_K"
      },
      "source": [
        "**Exercise**: Now that we have filtered the table, remove the `position` column"
      ]
    },
    {
      "cell_type": "code",
      "execution_count": null,
      "metadata": {
        "id": "-p_csvsK1iPm"
      },
      "outputs": [],
      "source": [
        "# Drop (remove) the position column"
      ]
    },
    {
      "cell_type": "markdown",
      "metadata": {
        "id": "2alR1_a-TTPA"
      },
      "source": [
        "**Exercise**: If we were to run the line below, after the ones above, why does this error?"
      ]
    },
    {
      "cell_type": "code",
      "execution_count": null,
      "metadata": {
        "id": "rzhkqRCSJfVQ"
      },
      "outputs": [],
      "source": [
        "# The line below will cause a value error- uncomment (remove the # to see what it says if you'd like)\n",
        "# nba.drop('position').where('position', 'PG')"
      ]
    },
    {
      "cell_type": "markdown",
      "metadata": {
        "id": "Enu46ObVTZqf"
      },
      "source": [
        "*Type your response here*"
      ]
    },
    {
      "cell_type": "markdown",
      "metadata": {
        "id": "Lwc-BawETj0o"
      },
      "source": [
        "**Exercise**: Also remove the `rank`, `position`, and `season` columns. Try to do this only one line of code."
      ]
    },
    {
      "cell_type": "code",
      "execution_count": null,
      "metadata": {
        "id": "PnynTDm41rQ-"
      },
      "outputs": [],
      "source": [
        "# Further remove columns from the table"
      ]
    },
    {
      "cell_type": "markdown",
      "metadata": {
        "id": "bw80X95jTxC_"
      },
      "source": [
        "**Exercise**: Show your table, and check that it has only 3 remaining columns: `name`, `team`, and `salary`"
      ]
    },
    {
      "cell_type": "code",
      "execution_count": null,
      "metadata": {
        "id": "VDXtf_RZ1tS9"
      },
      "outputs": [],
      "source": [
        "# Show the first 10 rows of the table"
      ]
    },
    {
      "cell_type": "markdown",
      "metadata": {
        "id": "LyW_W97RT9nu"
      },
      "source": [
        "**Exercise**: Find the maximum and minimum salary values. You should return a single value for the maximum and then the minimum in the cells below."
      ]
    },
    {
      "cell_type": "code",
      "execution_count": null,
      "metadata": {
        "id": "pVeSeYFC1ujR"
      },
      "outputs": [],
      "source": [
        "# Combine table functions: first sort by salary and then show the first 10 rows\n",
        "# What is the default sorting direction?\n",
        "# Hint: what is the default for the optional argument, descending?"
      ]
    },
    {
      "cell_type": "code",
      "execution_count": null,
      "metadata": {
        "id": "GfVo7luigPBs"
      },
      "outputs": [],
      "source": [
        "# Max and min values"
      ]
    },
    {
      "cell_type": "markdown",
      "metadata": {
        "id": "C5N7Hzm8UwjK"
      },
      "source": [
        "**Exercise**: Return all values in the row for the maximum and minimum salaries.<br>\n",
        " *Hint*: There is a `row` method you can use, refer to the [documentation](https://www.data8.org/sp22/python-reference.html)"
      ]
    },
    {
      "cell_type": "code",
      "execution_count": null,
      "metadata": {
        "id": "20efvT3iVHkZ"
      },
      "outputs": [],
      "source": [
        "# Max row"
      ]
    },
    {
      "cell_type": "code",
      "execution_count": null,
      "metadata": {
        "id": "Ppf21yDwVJgo"
      },
      "outputs": [],
      "source": [
        "# Min row"
      ]
    },
    {
      "cell_type": "markdown",
      "metadata": {
        "id": "TsXR27MwVLuI"
      },
      "source": [
        "**Exercise**: Create a table (from the original we loaded in, not the one you were just using) of data for a single team that you choose."
      ]
    },
    {
      "cell_type": "code",
      "execution_count": null,
      "metadata": {
        "colab": {
          "base_uri": "https://localhost:8080/"
        },
        "id": "aCB6AHCuVsDw",
        "outputId": "4c5d4035-d912-4302-a0f2-8f55e1b4ab11"
      },
      "outputs": [],
      "source": [
        "# Just run this cell\n",
        "# Here is a list of all the team names- pick your favorite\n",
        "np.unique(nba.column('team'))"
      ]
    },
    {
      "cell_type": "code",
      "execution_count": null,
      "metadata": {
        "id": "sLCQqMiX16sq"
      },
      "outputs": [],
      "source": [
        "# Create a table of your team"
      ]
    },
    {
      "cell_type": "markdown",
      "metadata": {
        "id": "O1bAPEqZWNnm"
      },
      "source": [
        "**Exercise**: What is the average salary for the players on the team you've chosen?\n",
        "\n",
        "\n"
      ]
    },
    {
      "cell_type": "code",
      "execution_count": null,
      "metadata": {
        "id": "0kSdVdPR2E1R"
      },
      "outputs": [],
      "source": [
        "# Average the numbers in the salary column"
      ]
    },
    {
      "cell_type": "markdown",
      "metadata": {
        "id": "sL5Ee7QbWTg-"
      },
      "source": [
        "**Exercise**: Round this to a reasonable number of decimal places of your choosing.\n",
        "\n"
      ]
    },
    {
      "cell_type": "code",
      "execution_count": null,
      "metadata": {
        "id": "Pegwl0qt2GRK"
      },
      "outputs": [],
      "source": [
        "# Round the salary value from above"
      ]
    },
    {
      "cell_type": "markdown",
      "metadata": {
        "id": "KtLk72nmWhCb"
      },
      "source": [
        "**Exercise**: Create a table with the data from another team of your choosing.\n",
        "\n"
      ]
    },
    {
      "cell_type": "code",
      "execution_count": null,
      "metadata": {
        "id": "zftkm2uc2KqA"
      },
      "outputs": [],
      "source": [
        "# Create a table with another team (you will compare them in the next cell)"
      ]
    },
    {
      "cell_type": "markdown",
      "metadata": {
        "id": "7YYucgLaWkxL"
      },
      "source": [
        "**Exercise**: What is the difference in the average salary between the two teams?"
      ]
    },
    {
      "cell_type": "code",
      "execution_count": null,
      "metadata": {
        "id": "BlgfPjUq2Ozu"
      },
      "outputs": [],
      "source": [
        "# Subtract averages from the salary columns to compare the two teams\n"
      ]
    },
    {
      "cell_type": "markdown",
      "metadata": {
        "id": "2uZSnTOjWzGr"
      },
      "source": [
        "**Exercise**: How many players are on each team?"
      ]
    },
    {
      "cell_type": "code",
      "execution_count": null,
      "metadata": {
        "id": "Vk5gBqHU2Smf"
      },
      "outputs": [],
      "source": [
        "# Players on Team 1"
      ]
    },
    {
      "cell_type": "code",
      "execution_count": null,
      "metadata": {
        "id": "fB3cd5tG2UAW"
      },
      "outputs": [],
      "source": [
        "# Players on Team 2"
      ]
    },
    {
      "cell_type": "markdown",
      "metadata": {
        "id": "ov9Om81mtFsg"
      },
      "source": [
        "### Group Review"
      ]
    },
    {
      "cell_type": "markdown",
      "metadata": {
        "id": "j3Eune8JtKnM"
      },
      "source": [
        "**Exercise**: Determine how much money did each team pay for its players’ salaries? <br>\n",
        "*Hint*: you should use `group`\n",
        "\n"
      ]
    },
    {
      "cell_type": "code",
      "execution_count": null,
      "metadata": {
        "id": "IHx0STHC2bPl"
      },
      "outputs": [],
      "source": [
        "# First select only the columns you need- simplify the table\n",
        "# Use group in the second line"
      ]
    },
    {
      "cell_type": "markdown",
      "metadata": {
        "id": "PqT8WqzHtdWo"
      },
      "source": [
        "**Exercise**: Determine how many NBA players were there in each of the positions?\n",
        "\n"
      ]
    },
    {
      "cell_type": "code",
      "execution_count": null,
      "metadata": {
        "id": "8A5ei_3V2hv9"
      },
      "outputs": [],
      "source": [
        "# Number of plays for each position"
      ]
    },
    {
      "cell_type": "markdown",
      "metadata": {
        "id": "3SmW_uxetpPv"
      },
      "source": [
        "**Exercise**: What was the average salary of the players at each of the positions?\n",
        "\n"
      ]
    },
    {
      "cell_type": "code",
      "execution_count": null,
      "metadata": {
        "id": "oWDZ_QCw2l31"
      },
      "outputs": [],
      "source": [
        "# Averge salary of the players in each position"
      ]
    },
    {
      "cell_type": "markdown",
      "metadata": {
        "id": "YMy2wXWZt25f"
      },
      "source": [
        "A note about using group: It will not average columns that have non-numerical data. For example, for the `name` or `team` columns, you cannot average strings like “Atlanta Hawks” or 'Lebron James'. It will leave those columns blank as you can see when you run the code below."
      ]
    },
    {
      "cell_type": "code",
      "execution_count": null,
      "metadata": {
        "colab": {
          "base_uri": "https://localhost:8080/",
          "height": 332
        },
        "id": "li5GR1RSt5C3",
        "outputId": "5897a573-217e-492c-ea64-84ec3ee16500"
      },
      "outputs": [],
      "source": [
        "# Test this out here- you should see empty columns\n",
        "nba.group('position', np.mean)"
      ]
    },
    {
      "cell_type": "markdown",
      "metadata": {
        "id": "zMEqI1xaUvtm"
      },
      "source": [
        "## Census Data - Working with Tables & Plotting"
      ]
    },
    {
      "cell_type": "code",
      "execution_count": null,
      "metadata": {
        "colab": {
          "base_uri": "https://localhost:8080/",
          "height": 412
        },
        "id": "shQ4daELUvtm",
        "outputId": "0d461291-2c95-4961-e441-5fd81ef443a2"
      },
      "outputs": [],
      "source": [
        "# Read in the Census data table\n",
        "full = Table.read_table('nc-est2019-agesex-res.csv')\n",
        "full"
      ]
    },
    {
      "cell_type": "markdown",
      "metadata": {
        "id": "Q6bcTT4qHSmY"
      },
      "source": [
        "Columns in the table: <br>\n",
        "`SEX`: coded so that values of: 0 = total, 1 = male, 2 = female <br>\n",
        "`AGE`: ages in completed years, but with special values: <br>\n",
        "*   999 = sum of the total population\n",
        "*   100 = all persons 100 and over <br><br>\n",
        "\n",
        "\n",
        "The other columns contain estimates of the US population in each category of sex and age in the years 2010 through 2019. The Census takes place every 10 years. For years in between, the Census Bureau estimates population changes each year. That is why the columns are labeled with `POPESTIMATE` for population estimates.\n"
      ]
    },
    {
      "cell_type": "markdown",
      "metadata": {
        "id": "It9B91BcIeRw"
      },
      "source": [
        "**Exercise**: We only want to work with the population changes from 2014 to 2019. Create a smaller table that has the `SEX`, `AGE`, and population estimate columns for these two years.\n"
      ]
    },
    {
      "cell_type": "code",
      "execution_count": null,
      "metadata": {
        "colab": {
          "base_uri": "https://localhost:8080/",
          "height": 392
        },
        "id": "hNGE_-dLUvtm",
        "outputId": "94987560-8a42-44b3-a0e1-4cef9224b45b"
      },
      "outputs": [],
      "source": [
        "# Keep only the columns we care about- 2014 and 2019\n",
        "partial = full.select('SEX', 'AGE', 'POPESTIMATE2014', 'POPESTIMATE2019')\n",
        "partial"
      ]
    },
    {
      "cell_type": "markdown",
      "metadata": {
        "id": "IDOmn2uTIwCO"
      },
      "source": [
        "**Exercise**: Relabel the names of the columns in our smaller table to remove `POPESTIMATE` and only keep the year as the column name."
      ]
    },
    {
      "cell_type": "code",
      "execution_count": null,
      "metadata": {
        "id": "xlDpHWC03QVJ"
      },
      "outputs": [],
      "source": [
        "# Relabeled columns (2014 and 2019)"
      ]
    },
    {
      "cell_type": "markdown",
      "metadata": {
        "id": "SwMqwb3BI-_m"
      },
      "source": [
        "**Exercise**: Remove the values in the `AGE` column that are coded as `999`. <br>\n",
        "*Hint*: Use `where` to do this."
      ]
    },
    {
      "cell_type": "code",
      "execution_count": null,
      "metadata": {
        "colab": {
          "base_uri": "https://localhost:8080/"
        },
        "id": "jQ5TysX9JVQz",
        "outputId": "b8be726f-f6ab-4e07-8d26-6d489d64d9b6"
      },
      "outputs": [],
      "source": [
        "# Run this line of code to see all unique values in the AGE column.\n",
        "# This is meant to help you decide which predicate (the part that uses `are`) that goes along with `where`\n",
        "np.unique(simple.column('AGE'))"
      ]
    },
    {
      "cell_type": "code",
      "execution_count": null,
      "metadata": {
        "id": "0GFAYUdD3YfJ"
      },
      "outputs": [],
      "source": [
        "# Remove the age totals- coded as 999"
      ]
    },
    {
      "cell_type": "markdown",
      "metadata": {
        "id": "P5Tk6VQ1J7uI"
      },
      "source": [
        "**Exercise**: Create two separate tables: one table that contains the data for males, and one table that contains the data for females. Each table should have 3 columns: `AGE`, `2014`, and `2019`.<br>\n",
        "Hint: This means that after you get the data you want for just males and females in their respective tables, you should use `.drop` to remove the `SEX` column."
      ]
    },
    {
      "cell_type": "code",
      "execution_count": null,
      "metadata": {
        "id": "6ZuJSvS83dZe"
      },
      "outputs": [],
      "source": [
        "# 2 tables: 1 for females and 1 for males"
      ]
    },
    {
      "cell_type": "markdown",
      "metadata": {
        "id": "m0hv58SSKpJQ"
      },
      "source": [
        "**Exercise**: Create a table that contains `AGE` and a column for `Males` and `Females` that contain only their respective data from 2019. The table should have these 3 columns only. <br>\n",
        "*Hint*: Create a new table from the two separate tables you made above."
      ]
    },
    {
      "cell_type": "code",
      "execution_count": null,
      "metadata": {
        "id": "AnmcaR-Q3kTO"
      },
      "outputs": [],
      "source": [
        "# Creating a new table"
      ]
    },
    {
      "cell_type": "markdown",
      "metadata": {
        "id": "qw4BRMNULFK2"
      },
      "source": [
        "**Exercise**: Create a line plot of the data by `AGE` for this new 2019 table you made above. The x-axis should be `AGE` and there should be two lines on the plot- one line for males and one line for females."
      ]
    },
    {
      "cell_type": "code",
      "execution_count": null,
      "metadata": {
        "id": "aRs7Rh583m53"
      },
      "outputs": [],
      "source": [
        "# lineplot of 2019 data"
      ]
    },
    {
      "cell_type": "markdown",
      "metadata": {
        "id": "xiAVGH8ELZYN"
      },
      "source": [
        "**Exercise**: Calculate the percent female for each age and return this as an array. <br>\n",
        "*Hint*: Use all the data from the `Females` column and basic arithmetic operations to esnure the value for each `Age` entry are calculated. You need to find the total population and use this as your denominator. Also multiply this value by 100 to get %."
      ]
    },
    {
      "cell_type": "code",
      "execution_count": null,
      "metadata": {
        "id": "S0oGrbzV3ou-"
      },
      "outputs": [],
      "source": [
        "# Calculate the percent female for each age"
      ]
    },
    {
      "cell_type": "markdown",
      "metadata": {
        "id": "6V2u3_QDMOJJ"
      },
      "source": [
        "**Exercise**: Take your array and round it to 3 decimal places to make it easier to read. <br>\n",
        "*Hint*: Use np.round to round your array."
      ]
    },
    {
      "cell_type": "code",
      "execution_count": null,
      "metadata": {
        "id": "w64kpUMU3qmc"
      },
      "outputs": [],
      "source": [
        "# Round the percent female array to 3 decimal places"
      ]
    },
    {
      "cell_type": "markdown",
      "metadata": {
        "id": "0R81J2_3Mhtn"
      },
      "source": [
        "**Exercise**: Add the array to the table with the 2019 data. There should now be 4 columns: `Age`, `Males`, `Females`, `Percent Female`."
      ]
    },
    {
      "cell_type": "code",
      "execution_count": null,
      "metadata": {
        "id": "vJwk_eFX3yfF"
      },
      "outputs": [],
      "source": [
        "# Add female percent to our table of 2019 data"
      ]
    },
    {
      "cell_type": "markdown",
      "metadata": {
        "id": "S53P7zsfMv43"
      },
      "source": [
        "**Exercise**: Create a line plot of the data by `AGE` and `Percent Female` for the 2019 data."
      ]
    },
    {
      "cell_type": "code",
      "execution_count": null,
      "metadata": {
        "id": "oUIHywLs32jE"
      },
      "outputs": [],
      "source": [
        "# Plot percent female"
      ]
    },
    {
      "cell_type": "markdown",
      "metadata": {
        "id": "Z9SVfCbtM87O"
      },
      "source": [
        "**Exercise**: Adjust your y-axis by adding the line below as the second line to your plotting code from above."
      ]
    },
    {
      "cell_type": "code",
      "execution_count": null,
      "metadata": {
        "id": "0un4SEn3Uvtp"
      },
      "outputs": [],
      "source": [
        "# ^^ Look at the y-axis! Trend is not as dramatic as you might think\n",
        "\n",
        "# plot goes here- fill in this code\n",
        "...\n",
        "plt.ylim(0, 100);  # Do not change"
      ]
    },
    {
      "cell_type": "markdown",
      "metadata": {
        "id": "rAlBzdlxU6WU"
      },
      "source": [
        "### Census Data: Joining Tables"
      ]
    },
    {
      "cell_type": "markdown",
      "metadata": {
        "id": "wMWyQNPufoae"
      },
      "source": [
        "**Exercise**: You are given the two tables below, and want to join them to add the `CODE DEFINITION` column to the first table. Fill in the code to join them so your table has a total of 4 columns."
      ]
    },
    {
      "cell_type": "code",
      "execution_count": null,
      "metadata": {
        "colab": {
          "base_uri": "https://localhost:8080/",
          "height": 172
        },
        "id": "AvsCu1enU6WU",
        "outputId": "3cfac8e5-14e9-4e74-86c7-3392f015197f"
      },
      "outputs": [],
      "source": [
        "# One table\n",
        "full = Table.read_table('nc-est2019-agesex-res.csv')\n",
        "census = full.select('SEX', 'AGE', 'POPESTIMATE2019')\n",
        "census.show(3)"
      ]
    },
    {
      "cell_type": "code",
      "execution_count": null,
      "metadata": {
        "colab": {
          "base_uri": "https://localhost:8080/",
          "height": 143
        },
        "id": "Qi5xJxTJU6WU",
        "outputId": "2529bbf1-848f-4940-e267-03f75dc4eb3a"
      },
      "outputs": [],
      "source": [
        "# A second table\n",
        "sex_codes = Table().with_columns(\n",
        "    'SEX CODE', make_array(0, 1, 2),\n",
        "    'CODE DEFINITION', make_array('All', 'Selected Male', 'Selected Female')\n",
        ")\n",
        "sex_codes"
      ]
    },
    {
      "cell_type": "code",
      "execution_count": null,
      "metadata": {
        "id": "qZIJNbfB4GbS"
      },
      "outputs": [],
      "source": [
        "# Join the tables here"
      ]
    },
    {
      "cell_type": "markdown",
      "metadata": {
        "id": "WNz1vdVMNcsT"
      },
      "source": [
        "## More Plotting and Group Practice"
      ]
    },
    {
      "cell_type": "markdown",
      "metadata": {
        "id": "LBJkp2bLP0Zh"
      },
      "source": [
        "Bar charts are used to visualize the relationship between numerical attributes and categorical attributes.\n",
        "\n",
        "Here we examine the top 200 highest grossing movies of all time (as of 2017)."
      ]
    },
    {
      "cell_type": "code",
      "execution_count": null,
      "metadata": {
        "colab": {
          "base_uri": "https://localhost:8080/",
          "height": 392
        },
        "id": "i-NGMrx2TkV5",
        "outputId": "c6b25de4-1c7f-4c75-85c1-4e31cff85e12"
      },
      "outputs": [],
      "source": [
        "# Highest grossing movies as of 2017\n",
        "top_movies = Table.read_table('top_movies_2017.csv')\n",
        "top_movies"
      ]
    },
    {
      "cell_type": "markdown",
      "metadata": {
        "id": "N4eHF1mzP6Rg"
      },
      "source": [
        "**Exercise**: Based on this data, what is the relationship between the studios and their total revenue? Construct a bar plot showing the total Gross (Adjusted) income for each studio."
      ]
    },
    {
      "cell_type": "code",
      "execution_count": null,
      "metadata": {
        "id": "y31vvMdpQ42d"
      },
      "outputs": [],
      "source": [
        "# Use multiple lines here\n",
        "# Start by selecting the columns of data you need (only 2 of the 5 above)\n",
        "# Use group and get the sum based on the grouping variable mentioned in the question\n",
        "# Relabel the column name after grouping- remember it tacks on whatever you specify as the `collect` method\n",
        "# Make sure to order the studios from highest to lowest total revenue\n",
        "# Create your bar plot"
      ]
    },
    {
      "cell_type": "markdown",
      "metadata": {
        "id": "idt7xX08RcA6"
      },
      "source": [
        "**Exercise**: Look further into the top studio (should be Buena Vista from above plot).\n",
        "\n",
        "1.   Plot the top grossing movies for the top studio\n",
        "2.   Plot relationship between gross revenue and release year\n",
        "\n",
        "\n",
        "\n"
      ]
    },
    {
      "cell_type": "code",
      "execution_count": null,
      "metadata": {
        "id": "LNvlcn6E4M_B"
      },
      "outputs": [],
      "source": [
        "# 1. Plot the top grossing movies for the top studio"
      ]
    },
    {
      "cell_type": "code",
      "execution_count": null,
      "metadata": {
        "id": "DFwpMgQM4Oeq"
      },
      "outputs": [],
      "source": [
        "# 2. Plot relationship between gross revenue and release year"
      ]
    },
    {
      "cell_type": "markdown",
      "metadata": {
        "id": "erFtbpUYVeCV"
      },
      "source": [
        "## For Statements Review"
      ]
    },
    {
      "cell_type": "markdown",
      "metadata": {
        "id": "Yrmz5EsCXHy4"
      },
      "source": [
        "**Exercise**: Run the line of code below to see what the `for` loop prints on each iteration. Below this, write several lines of code that unroll this loop. This means that you should access each element in your array and print the entry."
      ]
    },
    {
      "cell_type": "code",
      "execution_count": null,
      "metadata": {
        "id": "Supu0xPsVeCV"
      },
      "outputs": [],
      "source": [
        "for pet in make_array('cat', 'dog', 'rabbit'):\n",
        "    print('I love my ' + pet)"
      ]
    },
    {
      "cell_type": "code",
      "execution_count": null,
      "metadata": {
        "id": "WaEG0W35XWde"
      },
      "outputs": [],
      "source": [
        "# Make an array of the three strings\n",
        "# 2 lines per element in the array:\n",
        "  # get the item from the array\n",
        "  # write a print statement refering to the text of that element"
      ]
    },
    {
      "cell_type": "markdown",
      "metadata": {
        "id": "bZfTTZHBXlin"
      },
      "source": [
        "**Exercise**: Review the code below for `np.arange`. Note what happens on each iteration of your loop."
      ]
    },
    {
      "cell_type": "code",
      "execution_count": null,
      "metadata": {
        "id": "4d5is4byVeCW"
      },
      "outputs": [],
      "source": [
        "for i in np.arange(5):\n",
        "    print(i)"
      ]
    },
    {
      "cell_type": "markdown",
      "metadata": {
        "id": "2xNzUkDJXsYI"
      },
      "source": [
        "**Exercise**: Compare what happened above to what happens in the loop below. Why are they different? What do they have in common?"
      ]
    },
    {
      "cell_type": "code",
      "execution_count": null,
      "metadata": {
        "id": "kobpYzfTVeCW"
      },
      "outputs": [],
      "source": [
        "for i in np.arange(5):\n",
        "    print('Go Bears')"
      ]
    },
    {
      "cell_type": "markdown",
      "metadata": {
        "id": "CjXGegiC4bfJ"
      },
      "source": [
        "*Type your response here*"
      ]
    },
    {
      "cell_type": "markdown",
      "metadata": {
        "id": "NRf3T3UpYCrL"
      },
      "source": [
        "**Exercise**: Run the code below. What gets printed out and why?"
      ]
    },
    {
      "cell_type": "code",
      "execution_count": null,
      "metadata": {
        "id": "SozIBhT4VeCW"
      },
      "outputs": [],
      "source": [
        "s = make_array(2, 3)\n",
        "np.append(s, 4)\n",
        "s"
      ]
    },
    {
      "cell_type": "markdown",
      "metadata": {
        "id": "3Eja-Zp9Yocv"
      },
      "source": [
        "*Type your response here*"
      ]
    },
    {
      "cell_type": "markdown",
      "metadata": {
        "id": "wMEhJI8sYKnr"
      },
      "source": [
        "**Exercise**: Now run this code below. Notice that now the value 4 is actually appended to `s`. Why does this happen? What is different compared to the lines above? <br>\n",
        "Hint: It has to do with the assignment expression for `s`."
      ]
    },
    {
      "cell_type": "code",
      "execution_count": null,
      "metadata": {
        "id": "7D6iFQu0VeCX"
      },
      "outputs": [],
      "source": [
        "s = np.append(s, 4)\n",
        "s"
      ]
    },
    {
      "cell_type": "markdown",
      "metadata": {
        "id": "bkp_-A2lYnDk"
      },
      "source": [
        "*Type your response here*"
      ]
    },
    {
      "cell_type": "markdown",
      "metadata": {
        "id": "bBXmIZUqYYxa"
      },
      "source": [
        "**Exercise**: Review the code below. What do you think it does? Write out the steps below *first*. Then run the cell and check your understanding."
      ]
    },
    {
      "cell_type": "markdown",
      "metadata": {
        "id": "03s7WEn2YiKj"
      },
      "source": [
        "*Type your response here*"
      ]
    },
    {
      "cell_type": "code",
      "execution_count": null,
      "metadata": {
        "id": "uFlELKHFVeCX"
      },
      "outputs": [],
      "source": [
        "result = make_array(2, 3, 4)\n",
        "for i in np.arange(5):\n",
        "    result = np.append(result, 10 * i)\n",
        "result"
      ]
    },
    {
      "cell_type": "markdown",
      "metadata": {
        "id": "uX63ysMprr5J"
      },
      "source": [
        "## Pivot review"
      ]
    },
    {
      "cell_type": "code",
      "execution_count": null,
      "metadata": {
        "id": "9oDGMFC7rqP-"
      },
      "outputs": [],
      "source": [
        "# Read in the nba table\n",
        "nba = Table.read_table('nba_salaries.csv')"
      ]
    },
    {
      "cell_type": "code",
      "execution_count": null,
      "metadata": {
        "id": "IGtFfbAoruCx"
      },
      "outputs": [],
      "source": [
        "# Preview data\n",
        "nba.show(20)"
      ]
    },
    {
      "cell_type": "code",
      "execution_count": null,
      "metadata": {
        "colab": {
          "base_uri": "https://localhost:8080/"
        },
        "id": "s7nXeUYSq0oB",
        "outputId": "5ab9df0d-c9ef-4e38-c35b-94f71f14ab34"
      },
      "outputs": [],
      "source": [
        "# Examine unique values of one column- season for example\n",
        "np.unique(nba.column('season'))"
      ]
    },
    {
      "cell_type": "markdown",
      "metadata": {
        "id": "1mLoq76Srw_U"
      },
      "source": [
        "Each player has two categorical attributes, Position and Team (actually three, because their name is also categorical)."
      ]
    },
    {
      "cell_type": "code",
      "execution_count": null,
      "metadata": {
        "id": "nc4lk1CarxKk"
      },
      "outputs": [],
      "source": [
        "# Count how many players are in each Position/Team pair\n",
        "# Two required arguments:\n",
        "# First is the column label of the attribute\n",
        "# whose values are the column labels of the pivot table\n",
        "# Second is the label for the rows\n",
        "\n",
        "# Each cell contains the number of players in that Position/Team category.\n",
        "\n",
        "nba_pvt = nba.pivot('position', 'team')"
      ]
    },
    {
      "cell_type": "code",
      "execution_count": null,
      "metadata": {
        "colab": {
          "base_uri": "https://localhost:8080/",
          "height": 1000
        },
        "id": "NnLmH9coo_7o",
        "outputId": "9a5c529e-1c23-4882-aba9-48abfe612cb7"
      },
      "outputs": [],
      "source": [
        "nba_pvt.show()"
      ]
    },
    {
      "cell_type": "code",
      "execution_count": null,
      "metadata": {
        "colab": {
          "base_uri": "https://localhost:8080/",
          "height": 404
        },
        "id": "kdefM00Nr0xm",
        "outputId": "d862a601-5c2a-412b-c06a-3175f036f806"
      },
      "outputs": [],
      "source": [
        "# Flip the order and compare to above. Which is easier for you to read?\n",
        "nba.pivot('team', 'position')"
      ]
    },
    {
      "cell_type": "markdown",
      "metadata": {
        "id": "m88PSCOTr4IN"
      },
      "source": [
        "Optionally, you can ask pivot to do the following: for each Position/Team combo, find all the **values** of another attribute and **collect** them in some way; display this in the cell.\n",
        "\n",
        "- The `values` argument has to be the column label of the new attribute\n",
        "- The `collect` argument has to be the name of a function"
      ]
    },
    {
      "cell_type": "code",
      "execution_count": null,
      "metadata": {
        "colab": {
          "base_uri": "https://localhost:8080/",
          "height": 1000
        },
        "id": "xN2bfwpor5YY",
        "outputId": "d248f1ae-49f9-46de-9660-0dfdddc2dc4e"
      },
      "outputs": [],
      "source": [
        "# List the players in each Position/Team combo\n",
        "\n",
        "nba.pivot('position', 'team', values = 'name', collect = list)"
      ]
    },
    {
      "cell_type": "markdown",
      "metadata": {
        "id": "YHK2rutxhIw5"
      },
      "source": [
        "**Exercise**: Find the total salary for position and team combinations. Your first column should be team (with a row for each team) and the following columns should include each position.<br>\n",
        "*Hint*: You should use pivot."
      ]
    },
    {
      "cell_type": "code",
      "execution_count": null,
      "metadata": {
        "id": "qZRDUaul4wq2"
      },
      "outputs": [],
      "source": [
        "# Total salary in each Position/Team combo"
      ]
    },
    {
      "cell_type": "markdown",
      "metadata": {
        "id": "pEmk8KY4haYn"
      },
      "source": [
        "**Exercise**: Now find the median salary for position and team combinations. Your first column should be team and the following columns should include each position."
      ]
    },
    {
      "cell_type": "code",
      "execution_count": null,
      "metadata": {
        "id": "QgU5U1hS42p-"
      },
      "outputs": [],
      "source": [
        "# Median salary in each Position/Team combo"
      ]
    },
    {
      "cell_type": "markdown",
      "metadata": {
        "id": "hixEtUTVheQd"
      },
      "source": [
        "Here we will simply demonstrate that you can use `pivot` with any function- even ones that you create and define yourself."
      ]
    },
    {
      "cell_type": "code",
      "execution_count": null,
      "metadata": {
        "id": "QdkPGJ-TsCcj"
      },
      "outputs": [],
      "source": [
        "# This function returns the distance between the max and the min of a list/array\n",
        "\n",
        "def data_range(x):\n",
        "    return max(x) - min(x)"
      ]
    },
    {
      "cell_type": "code",
      "execution_count": null,
      "metadata": {
        "id": "67ASKlezsDpp"
      },
      "outputs": [],
      "source": [
        "# You can use your own function as the collect\n",
        "# Distance between the max salary and min salary in each Position/Team combo\n",
        "\n",
        "nba.pivot('position', 'team', 'salary', data_range)"
      ]
    },
    {
      "cell_type": "markdown",
      "metadata": {
        "id": "dF6ByHrSwZS3"
      },
      "source": [
        "### Pivot Example 2 <br>"
      ]
    },
    {
      "cell_type": "code",
      "execution_count": null,
      "metadata": {
        "colab": {
          "base_uri": "https://localhost:8080/",
          "height": 583
        },
        "id": "juiV7mrEwYUx",
        "outputId": "3f432bc1-bd87-4d2c-f226-049f30760b72"
      },
      "outputs": [],
      "source": [
        "# Read in table and filter to only year 2014\n",
        "full_table = Table.read_table('educ_inc.csv')\n",
        "ca_2014 = full_table.where('Year', are.equal_to('1/1/14 0:00')).where('Age', are.not_equal_to('00 to 17'))\n",
        "ca_2014"
      ]
    },
    {
      "cell_type": "code",
      "execution_count": null,
      "metadata": {
        "colab": {
          "base_uri": "https://localhost:8080/",
          "height": 392
        },
        "id": "pSQCtpRpwmHz",
        "outputId": "85bdfb5e-7893-435c-def5-cae4076ee18a"
      },
      "outputs": [],
      "source": [
        "# Focus on educational attainment, personal income and population count\n",
        "educ_inc = ca_2014.select('Educational Attainment', 'Personal Income', 'Population Count')\n",
        "educ_inc"
      ]
    },
    {
      "cell_type": "markdown",
      "metadata": {
        "id": "ihmJ_LqvxAL6"
      },
      "source": [
        "Let’s start by looking at educational level alone. The categories of this variable have been subdivided by the different levels of income. So we will group the table by `Educational Attainment` and sum the `Population Count` in each category."
      ]
    },
    {
      "cell_type": "code",
      "execution_count": null,
      "metadata": {
        "colab": {
          "base_uri": "https://localhost:8080/",
          "height": 175
        },
        "id": "zeA_6JlZwtoF",
        "outputId": "ec6d2773-320c-48c7-b571-07676e59c9e2"
      },
      "outputs": [],
      "source": [
        "# Just run this cell\n",
        "education = educ_inc.select('Educational Attainment', 'Population Count')\n",
        "educ_totals = education.group('Educational Attainment', sum)\n",
        "educ_totals"
      ]
    },
    {
      "cell_type": "markdown",
      "metadata": {
        "id": "khyP9St_xD7q"
      },
      "source": [
        "There are only four categories of educational attainment. The counts are so large that is is more helpful to look at percents. For this, we will use the function percents that we defined in an earlier section. It converts an array of numbers to an array of percents out of the total in the input array."
      ]
    },
    {
      "cell_type": "code",
      "execution_count": null,
      "metadata": {
        "id": "Q8dc_NFPxDVh"
      },
      "outputs": [],
      "source": [
        "def percents(array_x):\n",
        "    return np.round( (array_x/sum(array_x))*100, 2)"
      ]
    },
    {
      "cell_type": "code",
      "execution_count": null,
      "metadata": {
        "colab": {
          "base_uri": "https://localhost:8080/",
          "height": 175
        },
        "id": "kvbQGZgJxHWy",
        "outputId": "40c0dcd0-1559-4fa0-a0b5-016aaf597114"
      },
      "outputs": [],
      "source": [
        "educ_distribution = educ_totals.with_column(\n",
        "    'Population Percent', percents(educ_totals.column(1))\n",
        ")\n",
        "educ_distribution"
      ]
    },
    {
      "cell_type": "markdown",
      "metadata": {
        "id": "QPhLVJpYiEnN"
      },
      "source": [
        "**Exercise**: Create a table that classifies individuals by `Educational Attainment` and `Personal Income`. Your final table should have `Personal Income` categories as rows and `Educational Attainment` categories as columns.\n",
        "*Hint*: You should use pivot."
      ]
    },
    {
      "cell_type": "code",
      "execution_count": null,
      "metadata": {
        "id": "OCPrE13W495O"
      },
      "outputs": [],
      "source": [
        "# Pivot table here- don't change the name `totals`, it is used in the cell below\n",
        "totals = ...\n",
        "totals"
      ]
    },
    {
      "cell_type": "markdown",
      "metadata": {
        "id": "6HrWr74_xY0x"
      },
      "source": [
        "Here you see the power of pivot over other cross-classification methods. Each column of counts is a distribution of personal income at a specific level of educational attainment. Converting the counts to percents allows us to compare the four distributions."
      ]
    },
    {
      "cell_type": "code",
      "execution_count": null,
      "metadata": {
        "colab": {
          "base_uri": "https://localhost:8080/",
          "height": 456
        },
        "id": "aKWbQ9ewxRru",
        "outputId": "675c3398-d7ea-4de8-c461-a7aaac754458"
      },
      "outputs": [],
      "source": [
        "# Just run this cell\n",
        "distributions = totals.select(0).with_columns(\n",
        "    \"Bachelor's degree or higher\", percents(totals.column(1)),\n",
        "    'College, less than 4-yr degree', percents(totals.column(2)),\n",
        "    'High school or equivalent', percents(totals.column(3)),\n",
        "    'No high school diploma', percents(totals.column(4))\n",
        "    )\n",
        "\n",
        "distributions"
      ]
    },
    {
      "cell_type": "markdown",
      "metadata": {
        "id": "X9gx619zxeDg"
      },
      "source": [
        "At a glance, you can see that over 35% of those with Bachelor’s degrees or higher had incomes of\n",
        " and over, whereas fewer than 10% of the people in the other education categories had that level of income."
      ]
    },
    {
      "cell_type": "code",
      "execution_count": null,
      "metadata": {
        "id": "SVOt0P4vjASk"
      },
      "outputs": [],
      "source": [
        "# Just run this cell to select a subset of the data to plot below\n",
        "distributions_plot = distributions.select(0, 1, 4)"
      ]
    },
    {
      "cell_type": "markdown",
      "metadata": {
        "id": "yL7Jhljgi26G"
      },
      "source": [
        "**Exercise**: Create a barplot that shows the `Personal Income` distribution by the two `Educational Attainment` columns above."
      ]
    },
    {
      "cell_type": "code",
      "execution_count": null,
      "metadata": {
        "id": "tRn5b-255DBF"
      },
      "outputs": [],
      "source": [
        "# Barplot"
      ]
    },
    {
      "cell_type": "markdown",
      "metadata": {
        "id": "3ET-Kd3tiyJu"
      },
      "source": [
        "\n",
        "The bar chart should compare the personal income distributions of adult Californians who have no high school diploma with those who have completed a Bachelor’s degree or higher."
      ]
    },
    {
      "cell_type": "markdown",
      "metadata": {
        "id": "stiKspPasmNi"
      },
      "source": [
        "## Testing Hypotheses: Assessing a Model"
      ]
    },
    {
      "cell_type": "markdown",
      "metadata": {
        "id": "2bv_U3Pt1u_L"
      },
      "source": [
        "### Swain vs. Alabama: Jury Selection Case"
      ]
    },
    {
      "cell_type": "markdown",
      "metadata": {
        "id": "iGnhi4_X1zBY"
      },
      "source": [
        "* U.S. Constitution grants equal protection under the law\n",
        "* All defendants have the right to due process\n",
        "\n",
        "This is a U.S. Supreme Court case in the 1960s and became a foundation of significant reform.\n",
        "* A Black defendant was denied his Constitutional right to a fair jury\n",
        "* The Court made incorrect and biased judgments about\n",
        "the data in the case the legal processes in the defendant’s original trial\n",
        "* This case highlights racial bias in the Court’s judgment <br>\n",
        "\n",
        "\n"
      ]
    },
    {
      "cell_type": "markdown",
      "metadata": {
        "id": "xtA9PNWM2Wyz"
      },
      "source": [
        "Robert Swain’s Case\n",
        "* Robert Swain, a Black man, was convicted in Talladega County, AL\n",
        "* He appealed to the U.S. Supreme Court\n",
        "* Main reason: Unfair jury selection in the County’s trials\n"
      ]
    },
    {
      "cell_type": "markdown",
      "metadata": {
        "id": "V_22X14c3yQT"
      },
      "source": [
        "![](Slide1.png)"
      ]
    },
    {
      "cell_type": "markdown",
      "metadata": {},
      "source": [
        "![](Slide2.png)"
      ]
    },
    {
      "cell_type": "markdown",
      "metadata": {
        "id": "2qTGNWNs4vDs"
      },
      "source": [
        "To walk through this example, we follow the steps to assess a model:\n",
        "1. Write out the hypotheses (two viewpoints)\n",
        "2. Choose a statistic to measure discrepancy between the model and the data\n",
        "3. Simulate the statistic under the model's assumptions\n",
        "4. Compare the data to the model's predictions:\n",
        "  * Draw a histogram of simulated values of the statistic\n",
        "  * Compute the observed statistic from the real sample\n",
        "5. Make a conclusion: if the observed statistic is far from the histogram, that is evidence against the model"
      ]
    },
    {
      "cell_type": "markdown",
      "metadata": {
        "id": "1hcX_NKk5tdR"
      },
      "source": [
        "1. Hypotheses from this example:<br>\n",
        "    **Model**: The people on the jury panels were selected at random from the eligible population<br>\n",
        "    **Alternative**: No, they were biased against black men\n",
        "\n",
        "![](Slide4.png)"
      ]
    },
    {
      "cell_type": "markdown",
      "metadata": {
        "id": "G5tJ7mRH6q6F"
      },
      "source": [
        "2. What statistic could we use in this example?"
      ]
    },
    {
      "cell_type": "markdown",
      "metadata": {
        "id": "yGu--9nc61jY"
      },
      "source": [
        "*Type your response here*"
      ]
    },
    {
      "cell_type": "markdown",
      "metadata": {
        "id": "bCU9d5mN69KQ"
      },
      "source": [
        "3. Simulation Process\n",
        "\n",
        "The observed statistic is the 26% given in the example. This is the value we will compare to in our histogram"
      ]
    },
    {
      "cell_type": "markdown",
      "metadata": {
        "id": "xz3xxFKb7Ii_"
      },
      "source": [
        "> 3.1 Define our population proportions given from this example\n",
        "\n"
      ]
    },
    {
      "cell_type": "code",
      "execution_count": null,
      "metadata": {
        "id": "uD_WEVu_5ifw"
      },
      "outputs": [],
      "source": [
        "# The numbers need to add up to 1 (or 100%)\n",
        "# We were given 26%, so calculate the difference from 100\n",
        "# Enter both numbers below as proportions (they should be decimals- 0.26 for example)"
      ]
    },
    {
      "cell_type": "markdown",
      "metadata": {
        "id": "RY_faLCL7X0H"
      },
      "source": [
        "Test this out using `sample_proportions`. <br>\n",
        "Run this several times to see how the values change - they will vary each time."
      ]
    },
    {
      "cell_type": "code",
      "execution_count": null,
      "metadata": {
        "id": "rGfAKHPh8TmC"
      },
      "outputs": [],
      "source": [
        "# Use sample proportions to test this out\n",
        "# Include the sample size of 100 as our first input argument\n",
        "# Replace the <text> below with the correct info that should be used\n",
        "\n",
        "sample_proportions(<sample_size>, <array_of_population_proportions>)"
      ]
    },
    {
      "cell_type": "markdown",
      "metadata": {
        "id": "I4q-Uy-47p4W"
      },
      "source": [
        "> 3.2 Before we do the simulation, we will write a function so that we can repeat this process easily many times in our `for` loop below."
      ]
    },
    {
      "cell_type": "code",
      "execution_count": null,
      "metadata": {
        "id": "jKvSG2M48lVa"
      },
      "outputs": [],
      "source": [
        "# Fill in what we should return\n",
        "# It will be similar to the code you used above, but you need to make sure you\n",
        "# only return the *first* value that is output from sample_proportions\n",
        "def panel_proportion():\n",
        "  return ..."
      ]
    },
    {
      "cell_type": "markdown",
      "metadata": {
        "id": "AXxIENi781aZ"
      },
      "source": [
        "Test out and verify that your function works by running the code below."
      ]
    },
    {
      "cell_type": "code",
      "execution_count": null,
      "metadata": {
        "id": "AIJgxuXEsmNi"
      },
      "outputs": [],
      "source": [
        "panel_proportion()"
      ]
    },
    {
      "cell_type": "markdown",
      "metadata": {
        "id": "aegDBEyo85dW"
      },
      "source": [
        "> 3.3 Here we do the simulation:<br>\n",
        "      >1. Make an empty array to store our values <br>\n",
        "      >2. Use a `for` loop and simulate 10000 times<br>\n",
        "      >3. Use our function to get a sample proportion value & multiply by 100 to get percent (for plotting)<br>\n",
        "      >4. Add our data back into the array we initialized to store all 10000 values from the loop<br>"
      ]
    },
    {
      "cell_type": "code",
      "execution_count": null,
      "metadata": {
        "id": "JJZSN5Al9fts"
      },
      "outputs": [],
      "source": [
        "panels = ...                                    # edit this to initialize the array\n",
        "\n",
        "for ... in ...(10000):                          # setup our loop as we usually do\n",
        "    new_panel = ... * 100                       # use the function we wrote above and multiply by 100 to get percent\n",
        "    ...                                         # append our data each time through the loop here - make sure to use the name of the array from the beginning!"
      ]
    },
    {
      "cell_type": "markdown",
      "metadata": {
        "id": "Hjv71d2e98ID"
      },
      "source": [
        "4. Add our data to a table and visualize with a histogram. We will also add the observed statistic (the 26% value) to our plot."
      ]
    },
    {
      "cell_type": "code",
      "execution_count": null,
      "metadata": {
        "id": "tfP5tWYa-NXI"
      },
      "outputs": [],
      "source": [
        "# Edit the code below by adding a label and filling in what values should be plotted where ... is located\n",
        "Table().with_column('Add label here', ...).hist(bins=np.arange(5.5,40.)) # do not need to change the bins here, setup for you\n",
        "\n",
        "# Plotting details; do not change this\n",
        "plt.ylim(-0.002, 0.09)\n",
        "plt.scatter(8, 0, color='red', s=30);"
      ]
    },
    {
      "cell_type": "markdown",
      "metadata": {
        "id": "v_OS6Qg1-mOO"
      },
      "source": [
        "5. Make a conclusion: <br>\n",
        "Does the plot support the model or the alternative? Explain your answer."
      ]
    },
    {
      "cell_type": "markdown",
      "metadata": {
        "id": "uEKuaVlj-t3F"
      },
      "source": [
        "*Type your answer here*"
      ]
    },
    {
      "cell_type": "markdown",
      "metadata": {
        "id": "m8dftPvG_q0h"
      },
      "source": [
        "![](Slide3.png)"
      ]
    },
    {
      "cell_type": "markdown",
      "metadata": {
        "id": "WgFG5CW6anxf"
      },
      "source": [
        "# Bike sharing- using `group` and even more table practice"
      ]
    },
    {
      "cell_type": "code",
      "execution_count": null,
      "metadata": {
        "colab": {
          "base_uri": "https://localhost:8080/",
          "height": 173
        },
        "id": "5TtbCXMvU6WV",
        "outputId": "1e49b481-0d2b-4cab-bac3-9b9502920da8"
      },
      "outputs": [],
      "source": [
        "# Read in the trip data from csv file\n",
        "trip = Table.read_table('trip.csv')\n",
        "trip.show(3)"
      ]
    },
    {
      "cell_type": "code",
      "execution_count": null,
      "metadata": {
        "colab": {
          "base_uri": "https://localhost:8080/",
          "height": 410
        },
        "id": "hIV3V2piU6WV",
        "outputId": "be9c185d-102e-4665-a01a-20d74c26e8e0"
      },
      "outputs": [],
      "source": [
        "# Just trips under 30 mins (free ride length)\n",
        "# Duration is in seconds\n",
        "commute = trip.where('Duration', are.below(60*30)) # 60 secs * 30 mins\n",
        "commute.hist('Duration')"
      ]
    },
    {
      "cell_type": "code",
      "execution_count": null,
      "metadata": {
        "colab": {
          "base_uri": "https://localhost:8080/",
          "height": 392
        },
        "id": "mANs0l30U6WW",
        "outputId": "6039385e-034f-489d-c400-f54da20a1779"
      },
      "outputs": [],
      "source": [
        "# Most common start station\n",
        "# group finds unique values of the Start Station and gets the count of those\n",
        "starts = commute.group('Start Station').sort('count', descending=True)\n",
        "starts"
      ]
    },
    {
      "cell_type": "code",
      "execution_count": null,
      "metadata": {
        "colab": {
          "base_uri": "https://localhost:8080/",
          "height": 36
        },
        "id": "p1kft50ZinxL",
        "outputId": "f8cba440-0e70-4819-8b8e-270082f39a50"
      },
      "outputs": [],
      "source": [
        "starts.column('Start Station').item(0)"
      ]
    },
    {
      "cell_type": "markdown",
      "metadata": {
        "id": "vnIbpuR6iMd0"
      },
      "source": [
        "**Exercise**: Write a Python expression that returns the name of the station where most rentals ended\n",
        "\n"
      ]
    },
    {
      "cell_type": "code",
      "execution_count": null,
      "metadata": {
        "id": "zDiR_uszipU0"
      },
      "outputs": [],
      "source": [
        "# Most common end station\n"
      ]
    },
    {
      "cell_type": "markdown",
      "metadata": {
        "id": "EeVOZpQjiS7r"
      },
      "source": [
        "**Exercise**: Write a Python expression that returns the number of stations for which the average duration of trips ending at that station was more than 10 minutes"
      ]
    },
    {
      "cell_type": "code",
      "execution_count": null,
      "metadata": {
        "id": "BwfTs6436Bov"
      },
      "outputs": [],
      "source": [
        "# Code goes here- use as many lines as you need!"
      ]
    },
    {
      "cell_type": "markdown",
      "metadata": {
        "id": "dAEelHpFiXel"
      },
      "source": [
        "**Exercise**: Write a Python expression that returns the number of stations that have more than 500 starts and more than 500 ends."
      ]
    },
    {
      "cell_type": "code",
      "execution_count": null,
      "metadata": {
        "id": "ua4CbrTx6Djv"
      },
      "outputs": [],
      "source": [
        "# Start and end 500 stations- use as many lines as you need!"
      ]
    },
    {
      "cell_type": "markdown",
      "metadata": {
        "id": "7pK0wMEPBX3_"
      },
      "source": [
        "# Comparing `where` and Boolean values ##"
      ]
    },
    {
      "cell_type": "code",
      "execution_count": null,
      "metadata": {
        "id": "VDDR3nijBX4A"
      },
      "outputs": [],
      "source": [
        "# Just run this cell\n",
        "ages = make_array(16, 22, 18, 15, 19, 15, 16, 21)\n",
        "age = Table().with_column('Age', ages)"
      ]
    },
    {
      "cell_type": "code",
      "execution_count": null,
      "metadata": {
        "id": "jMq8V0YpBX4A"
      },
      "outputs": [],
      "source": [
        "# preview the age table\n",
        "age"
      ]
    },
    {
      "cell_type": "markdown",
      "metadata": {
        "id": "JFg59rWVkmeP"
      },
      "source": [
        "**Exercise**: Use `where` to find `Age` values that are above or equal to the age of 18."
      ]
    },
    {
      "cell_type": "code",
      "execution_count": null,
      "metadata": {
        "id": "NSiTaZfV6MNt"
      },
      "outputs": [],
      "source": [
        "# Finding ages 18 and above"
      ]
    },
    {
      "cell_type": "markdown",
      "metadata": {
        "id": "DmuU9TtIkwmQ"
      },
      "source": [
        "**Exercise**: Repeat what you did above, but use boolean logic. This means that when you evaluate what the value of `voter` is in the next cell, you get an array of `True` and `False` values."
      ]
    },
    {
      "cell_type": "code",
      "execution_count": null,
      "metadata": {
        "id": "5T0vVTc66Qle"
      },
      "outputs": [],
      "source": [
        "# Using boolean logic"
      ]
    },
    {
      "cell_type": "markdown",
      "metadata": {
        "id": "XcaAxCTdk839"
      },
      "source": [
        "**Exercise**: Run the cell below to show the original array. Review the `True` and `False` values in comparison to this array and make sure you understand how these two things match up."
      ]
    },
    {
      "cell_type": "code",
      "execution_count": null,
      "metadata": {
        "id": "DGZBJ0p_mvDv"
      },
      "outputs": [],
      "source": [
        "# Just run this cell\n",
        "ages"
      ]
    },
    {
      "cell_type": "markdown",
      "metadata": {
        "id": "6v3a5uiHcED3"
      },
      "source": [
        "# Hypothesis Testing Example"
      ]
    },
    {
      "cell_type": "markdown",
      "metadata": {
        "id": "SX3vNNsJcAkA"
      },
      "source": [
        "**Super Soda Co and the Case of Bad Taste** <br>\n",
        "Manufacturers of Super Soda run a taste test and 91 out of 200 tasters prefer Super Soda over its rival.<br>\n",
        "The boss is upset! He asks: <br>\n",
        "\n",
        "Do fewer people prefer Super Soda, or is this just chance?\n",
        "\n",
        "You run a hypothesis test:\n",
        "\n",
        "* **Null Hypothesis**: Equal proportions of the population prefer Super Soda as Rival and any variability is due to chance. <br>\n",
        "* **Alternative Hypothesis**: Fewer people in the population prefer Super Soda than its Rival.<br>\n",
        "* **Test Statistic**: Number of people who prefer Super Soda<br><br>\n",
        "\n",
        "You pick a p-value cutoff of 0.05"
      ]
    },
    {
      "cell_type": "markdown",
      "metadata": {
        "id": "jSwZcGF2lSy_"
      },
      "source": [
        "**Exercise**: Define the observed statistic from the sample given above"
      ]
    },
    {
      "cell_type": "code",
      "execution_count": null,
      "metadata": {
        "id": "frc-G2-R6ghL"
      },
      "outputs": [],
      "source": [
        "# Define the observed statistic"
      ]
    },
    {
      "cell_type": "markdown",
      "metadata": {
        "id": "tBSI_SH8cdrq"
      },
      "source": [
        "**Exercise**: Just run the cell to define a function and then simulate the test statistic from the null hypothesis\n"
      ]
    },
    {
      "cell_type": "code",
      "execution_count": null,
      "metadata": {
        "id": "f2NZksA9cbFj"
      },
      "outputs": [],
      "source": [
        "# Function definition- don't change this name, it is used below\n",
        "def simulate_one_count(sample_size):\n",
        "    simulated_data = np.random.choice(['Super', 'Rival'], sample_size)\n",
        "    simulated_statistic = np.count_nonzero(simulated_data == \"Super\")\n",
        "    return simulated_statistic\n",
        "simulate_one_count(200)"
      ]
    },
    {
      "cell_type": "markdown",
      "metadata": {
        "id": "N-YgwPkk6zsz"
      },
      "source": [
        "**Exercise**: Simulate repeating the above process many times."
      ]
    },
    {
      "cell_type": "code",
      "execution_count": null,
      "metadata": {
        "id": "N8zAocIechiY"
      },
      "outputs": [],
      "source": [
        "# Simulation\n",
        "num_simulations = 10000\n",
        "\n",
        "counts = make_array()             # set this equal to your empty array\n",
        "for ... in ...(...):              # initiate your loop here\n",
        "    ... = ...(..., ...)           # here is where you add on to the counts array by using your function each time through the loop"
      ]
    },
    {
      "cell_type": "markdown",
      "metadata": {
        "id": "g3N13F6XciAH"
      },
      "source": [
        "**Exercise**: Just run the cell below to plot the distribution of the test statistic under the null hypothesis\n",
        "\n"
      ]
    },
    {
      "cell_type": "code",
      "execution_count": null,
      "metadata": {
        "id": "2n5o3aEkclHY"
      },
      "outputs": [],
      "source": [
        "# Plot the distribution\n",
        "trials = Table().with_column('Number of Super', counts)\n",
        "trials.hist(right_end=91)\n",
        "plt.ylim(-0.001, 0.055)\n",
        "plt.scatter(91, 0, color='red', s=40, zorder=3)\n",
        "plt.title('Prediction Under the Null');"
      ]
    },
    {
      "cell_type": "markdown",
      "metadata": {
        "id": "1F71HCzQlyob"
      },
      "source": [
        "**Exercise**: Calculate the p-value and make a conclusion"
      ]
    },
    {
      "cell_type": "code",
      "execution_count": null,
      "metadata": {
        "id": "qolUTdJD7KHP"
      },
      "outputs": [],
      "source": [
        "# Calculate the p-value"
      ]
    },
    {
      "cell_type": "markdown",
      "metadata": {
        "id": "CH9AE0Z0cnBP"
      },
      "source": [
        "Conclusion:\n",
        "\n"
      ]
    },
    {
      "cell_type": "markdown",
      "metadata": {
        "id": "OCFOkhIlcoo_"
      },
      "source": [
        "*Type your response here*"
      ]
    },
    {
      "cell_type": "markdown",
      "metadata": {
        "id": "aLfZ1kd0csSW"
      },
      "source": [
        "### Changing the number of simulations"
      ]
    },
    {
      "cell_type": "markdown",
      "metadata": {
        "id": "l0dQX2kzc34U"
      },
      "source": [
        "**Exercise**: Just run the cells below to see what happens if we run a different number of simulations.\n",
        "\n"
      ]
    },
    {
      "cell_type": "code",
      "execution_count": null,
      "metadata": {
        "id": "KE8-cdlNc5G6"
      },
      "outputs": [],
      "source": [
        "# Keeping the data fixed, we can re-run the test with a new simulation under the null\n",
        "# Don't change the name of this function, just run this cell\n",
        "def simulate_null(num_simulations, sample_size):\n",
        "    counts = make_array()\n",
        "    for i in np.arange(num_simulations):\n",
        "        counts = np.append(counts, simulate_one_count(sample_size))\n",
        "    return counts"
      ]
    },
    {
      "cell_type": "code",
      "execution_count": null,
      "metadata": {
        "id": "oYHMhWGvc6lD"
      },
      "outputs": [],
      "source": [
        "# Keeping the data fixed, we can re-run the test with a new simulation under the null\n",
        "# Just run this cell\n",
        "def run_test(num_simulations, sample_size, obs_statistic):\n",
        "    counts = simulate_null(num_simulations, sample_size)\n",
        "    # compute the p value\n",
        "    p_value = np.count_nonzero(counts <= obs_statistic)/len(counts)\n",
        "    return p_value"
      ]
    },
    {
      "cell_type": "markdown",
      "metadata": {
        "id": "gXHbHauGmHbP"
      },
      "source": [
        "**Exercise**: What do you conclude from the p-value?"
      ]
    },
    {
      "cell_type": "markdown",
      "metadata": {
        "id": "etqOD5ZJc8KU"
      },
      "source": [
        "### Simulating the Simulation (Again)"
      ]
    },
    {
      "cell_type": "markdown",
      "metadata": {
        "id": "bChfmsJwdAuw"
      },
      "source": [
        "**Exercise**: Just run this cell\n"
      ]
    },
    {
      "cell_type": "code",
      "execution_count": null,
      "metadata": {
        "id": "_gcc_S36dB4w"
      },
      "outputs": [],
      "source": [
        "# Let's repeat that 50 times for each number of simulations\n",
        "tests = Table(['simulations', 'p-value for 91'])\n",
        "for k in np.arange(100): # will run the simulation 100 times\n",
        "    for num_sims in [100, 1000, 10000]:\n",
        "        p_value = run_test(num_sims, 200, 91)\n",
        "        tests = tests.with_row([num_sims, p_value])\n",
        "tests.show(3)"
      ]
    },
    {
      "cell_type": "markdown",
      "metadata": {
        "id": "zeDxyEOUdDaZ"
      },
      "source": [
        "**Exercise**: Run this cell to visualize the distribution of p-values.\n"
      ]
    },
    {
      "cell_type": "code",
      "execution_count": null,
      "metadata": {
        "id": "X8WAzmSJdEw4"
      },
      "outputs": [],
      "source": [
        "# For larger numbers of simulations, p-values are more consistent\n",
        "tests.hist(\"p-value for 91\", group='simulations', bins=20)"
      ]
    },
    {
      "cell_type": "markdown",
      "metadata": {
        "id": "lVND0GhidGWg"
      },
      "source": [
        "### Law of Large Numbers"
      ]
    },
    {
      "cell_type": "markdown",
      "metadata": {
        "id": "TEK5dDzfdJBQ"
      },
      "source": [
        "The reason the p-values concentrate towards the true p-value is that the emprical distribution under the null is better approximates by increasing the number of simulations. More is better!\n",
        "\n"
      ]
    },
    {
      "cell_type": "code",
      "execution_count": null,
      "metadata": {
        "id": "lcivBu64dKjg"
      },
      "outputs": [],
      "source": [
        "# Just run this cell\n",
        "t1 = Table().with_columns(\"Number of Heads\", simulate_null(100, 200),\n",
        "                           \"Simulation Size\", 100)\n",
        "t2 = Table().with_columns(\"Number of Heads\", simulate_null(100_000, 200),\n",
        "                           \"Simulation Size\", 100_000)\n",
        "t1.append(t2).hist(group='Simulation Size', bins=np.arange(70.5, 131, 1))"
      ]
    },
    {
      "cell_type": "markdown",
      "metadata": {
        "id": "4o3rdaVBdLpx"
      },
      "source": [
        "### The Importance of Sample Size"
      ]
    },
    {
      "cell_type": "markdown",
      "metadata": {
        "id": "z9C7MG1hdOcX"
      },
      "source": [
        "Larger samples give us more information about the population and also allow us to test more subtle differences.\n",
        "\n",
        "Suppose that the true proportion of people who prefer Super Soda is 45%"
      ]
    },
    {
      "cell_type": "code",
      "execution_count": null,
      "metadata": {
        "id": "TRKW-jAMdP4f"
      },
      "outputs": [],
      "source": [
        "true_proportion = 0.45\n",
        "true_distribution = make_array(true_proportion, 1 - true_proportion)\n",
        "true_distribution"
      ]
    },
    {
      "cell_type": "markdown",
      "metadata": {
        "id": "qprEGepcdSCH"
      },
      "source": [
        "Taste tests with 200 people will give varioius numbers of people who prefer Super Soda\n",
        "\n"
      ]
    },
    {
      "cell_type": "code",
      "execution_count": null,
      "metadata": {
        "id": "uZ85DMXrdTKl"
      },
      "outputs": [],
      "source": [
        "sample_size = 200\n",
        "sample_proportions(sample_size, true_distribution) * sample_size"
      ]
    },
    {
      "cell_type": "markdown",
      "metadata": {
        "id": "Q1dbf1FNmxlg"
      },
      "source": [
        "**Exercise**: Run this cell. What do you conclude based on the p-value?"
      ]
    },
    {
      "cell_type": "code",
      "execution_count": null,
      "metadata": {
        "id": "XXJp2ksNdUct"
      },
      "outputs": [],
      "source": [
        "def run_experiment(num_simulations, sample_size, true_proportion):\n",
        "    # Collect data\n",
        "    true_distribution = make_array(true_proportion, 1 - true_proportion)\n",
        "    taste_test_results = sample_proportions(sample_size, true_distribution) * sample_size\n",
        "    observed_stat_from_this_sample = taste_test_results.item(0)\n",
        "\n",
        "    # Conduct hypothesis test\n",
        "    p_value = run_test(num_simulations, sample_size, observed_stat_from_this_sample)\n",
        "    return p_value\n",
        "\n",
        "run_experiment(10000, 200, 0.45)"
      ]
    },
    {
      "cell_type": "markdown",
      "metadata": {
        "id": "h7kLOeOSdVqE"
      },
      "source": [
        "**Exercise**: Try using different values for the true_proportion and sample size. What happens to as the true proportion gets closer to 0.5? What happens if we increase the sample size?\n",
        "\n"
      ]
    },
    {
      "cell_type": "markdown",
      "metadata": {
        "id": "h9CTUmsrm5eW"
      },
      "source": [
        "*Type your response here*"
      ]
    },
    {
      "cell_type": "markdown",
      "metadata": {
        "id": "ZPrAKtC5m9Xd"
      },
      "source": [
        "**Exercise**: Just run this cell to demonstrate running our taste test repeatedly to see how often we reject the null hypothesis."
      ]
    },
    {
      "cell_type": "code",
      "execution_count": null,
      "metadata": {
        "id": "hlQmOJvDdYEk"
      },
      "outputs": [],
      "source": [
        "true_proportion = 0.45\n",
        "sample_size = 100\n",
        "p_values = make_array()\n",
        "for k in np.arange(100):\n",
        "    p_value = run_experiment(1000, sample_size, true_proportion)\n",
        "    p_values = np.append(p_values, p_value)\n",
        "Table().with_column('P-value', p_values).hist(0, right_end=0.05, bins=np.arange(0,1,0.1))\n",
        "print(\"Percent that correctly reject the null\", 100*np.mean(p_values <= 0.05))"
      ]
    },
    {
      "cell_type": "markdown",
      "metadata": {
        "id": "st0UsP_Od8x4"
      },
      "source": [
        "# Additional Hypothesis Testing Examples"
      ]
    },
    {
      "cell_type": "markdown",
      "metadata": {
        "id": "HCdk6W6gd8x4"
      },
      "source": [
        "## Sample in Two Categories ##"
      ]
    },
    {
      "cell_type": "markdown",
      "metadata": {
        "id": "ebs3rKHId8x4"
      },
      "source": [
        "## Example 1 ##\n",
        "Jo: Every single day this bus has chance 70% of being late, regardless of other days.\n",
        "\n",
        "Mo: Are you kidding? It's late more often than that!\n",
        "\n",
        "Data: Watch bus for 200 days, note whether late or not <br><br>"
      ]
    },
    {
      "cell_type": "markdown",
      "metadata": {
        "id": "c8OGnAHx8rwY"
      },
      "source": [
        "**Exercise**: State the null and alternative hypotheses."
      ]
    },
    {
      "cell_type": "markdown",
      "metadata": {
        "id": "TS6YzpeG8wFv"
      },
      "source": [
        "*Type your response here*\n"
      ]
    },
    {
      "cell_type": "markdown",
      "metadata": {
        "id": "-VxHnRL68125"
      },
      "source": [
        "**Exercise**: State the test statistic you should use and which direction supports the alternative. Which direction will you look on your distribution plot?"
      ]
    },
    {
      "cell_type": "markdown",
      "metadata": {
        "id": "Vq45dogk9ABI"
      },
      "source": [
        "*Type your response here*"
      ]
    },
    {
      "cell_type": "markdown",
      "metadata": {
        "id": "0WJzr04rd8x4"
      },
      "source": [
        "## Example 2 ##\n",
        "Jo: Every single day this bus has chance 70% of being late, regardless of other days.\n",
        "\n",
        "Po: Jo, stop whining. It's not late that often.\n",
        "\n",
        "Data: Watch bus for 200 days, note whether late or not\n",
        "\n"
      ]
    },
    {
      "cell_type": "markdown",
      "metadata": {
        "id": "_USwUAV79RwT"
      },
      "source": [
        "**Exercise**: State the null and alternative hypotheses."
      ]
    },
    {
      "cell_type": "markdown",
      "metadata": {
        "id": "HKdwZt6V9Y8Y"
      },
      "source": [
        "*Type your response here*\n"
      ]
    },
    {
      "cell_type": "markdown",
      "metadata": {
        "id": "AoTRnnAr9TlB"
      },
      "source": [
        "**Exercise**: State the test statistic you should use and which direction supports the alternative. Which direction will you look on your distribution plot?"
      ]
    },
    {
      "cell_type": "markdown",
      "metadata": {
        "id": "cqeErbKx9ZQS"
      },
      "source": [
        "*Type your response here*\n"
      ]
    },
    {
      "cell_type": "markdown",
      "metadata": {
        "id": "1RuWXKRsd8x4"
      },
      "source": [
        "## Example 3 ##\n",
        "Jo: Every single day this bus has chance 70% of being late, regardless of other days.\n",
        "\n",
        "Bo: Jo, that's just not true.\n",
        "\n",
        "Data: Watch bus for 200 days, note whether late or not\n",
        "\n"
      ]
    },
    {
      "cell_type": "markdown",
      "metadata": {
        "id": "wu2iH9op9im2"
      },
      "source": [
        "**Exercise**: State the null and alternative hypotheses."
      ]
    },
    {
      "cell_type": "markdown",
      "metadata": {
        "id": "iW0-MrJS9jht"
      },
      "source": [
        "*Type your response here*\n"
      ]
    },
    {
      "cell_type": "markdown",
      "metadata": {
        "id": "zjvHK7b_9kUz"
      },
      "source": [
        "**Exercise**: State the test statistic you should use and which direction supports the alternative. Which direction will you look on your distribution plot?"
      ]
    },
    {
      "cell_type": "markdown",
      "metadata": {
        "id": "eSEAv9ID9lIG"
      },
      "source": [
        "*Type your response here*\n"
      ]
    },
    {
      "cell_type": "markdown",
      "metadata": {
        "id": "HoukpJvP9mQS"
      },
      "source": [
        "**Exercise**: Let's setup our steps to simulate."
      ]
    },
    {
      "cell_type": "markdown",
      "metadata": {
        "id": "SrC6L9Xliory"
      },
      "source": [
        "**Exercise**: Complete the next 3 code cells and then run the last one to plot the distribution from your simulation."
      ]
    },
    {
      "cell_type": "code",
      "execution_count": null,
      "metadata": {
        "id": "zXiBWMUd9ra7"
      },
      "outputs": [],
      "source": [
        "# The simulation will be under which hypothesis?\n",
        "\n",
        "null_proportions = ..."
      ]
    },
    {
      "cell_type": "code",
      "execution_count": null,
      "metadata": {
        "id": "CVKzVDWn9xzC"
      },
      "outputs": [],
      "source": [
        "# Suppose we choose |proportion late - .7| as the test statistic.\n",
        "# Define a function that simulates ONE value of this statistic under the null\n",
        "\n",
        "def distance_under_null():\n",
        "    ...                                    # need to use a sampling method we learned about with input arguments: sample size is 200, and use the proportions from above, making sure to select the correct one\n",
        "    return ...                             # abs value of what is stated at beginning as example test statistic\n",
        "\n",
        "# Note: If you want to use counts instead of proportions, multiply by sample size\n",
        "# If you want to use percents instead of proportions, multiply by 100"
      ]
    },
    {
      "cell_type": "code",
      "execution_count": null,
      "metadata": {
        "id": "Fvwzzx64-IzW"
      },
      "outputs": [],
      "source": [
        "# Simulate 10,000 values of the test statistic and collect them in an array.\n",
        "# This code always looks the same.\n",
        "\n",
        "distances = ...                                               # make this your array- don't change the name, the plot uses it below\n",
        "for ... in ...(10000):                                        # fill in the loop like always\n",
        "    ...                                                       # use your array here and add on values from the function you wrote above"
      ]
    },
    {
      "cell_type": "code",
      "execution_count": null,
      "metadata": {
        "id": "emDT7l2dd8x5"
      },
      "outputs": [],
      "source": [
        "# If the null is true, this is how the statistic should behave\n",
        "\n",
        "distance_tbl = Table().with_column('Distance', distances)\n",
        "distance_tbl.hist(bins=np.arange(0, 0.14, 0.01))"
      ]
    },
    {
      "cell_type": "code",
      "execution_count": null,
      "metadata": {
        "id": "C6HTE3WWd8x5"
      },
      "outputs": [],
      "source": [
        "# Until now, we haven't needed to use what was actually observed.\n",
        "# But at this point we have to compare the null prediction with the observed statistic.\n",
        "\n",
        "# Suppose the data are 150 times late out of 200 times\n",
        "\n",
        "observed_statistic = abs(150/200 - .7)\n",
        "observed_statistic"
      ]
    },
    {
      "cell_type": "markdown",
      "metadata": {
        "id": "H89OHY6p-lyV"
      },
      "source": [
        "**Exercise**: Calculate the p-value"
      ]
    },
    {
      "cell_type": "code",
      "execution_count": null,
      "metadata": {
        "id": "STa03zMK-pND"
      },
      "outputs": [],
      "source": [
        "# Calculating p-value\n",
        "empirical_p = ..."
      ]
    },
    {
      "cell_type": "markdown",
      "metadata": {
        "id": "MQIJDt-r-xo5"
      },
      "source": [
        "**Exercise**: What do you conclude based on the p-value?"
      ]
    },
    {
      "cell_type": "markdown",
      "metadata": {
        "id": "vUgir_HD-0oO"
      },
      "source": [
        "*Type your response here*"
      ]
    },
    {
      "cell_type": "code",
      "execution_count": null,
      "metadata": {
        "id": "Z4y8ozold8x6",
        "outputId": "58d1550d-d388-4130-b559-68fcd344c069"
      },
      "outputs": [],
      "source": [
        "# Want to use the TVD as the statistic?\n",
        "# Go ahead:\n",
        "\n",
        "(abs(0.75 - .7) + abs(.25 - .3)) / 2"
      ]
    },
    {
      "cell_type": "markdown",
      "metadata": {
        "id": "wwuvJxYX-3_a"
      },
      "source": [
        "**Exercise**: If we used TVD, how does this compare to your observed statistic?"
      ]
    },
    {
      "cell_type": "markdown",
      "metadata": {
        "id": "IJleje-ld8x6"
      },
      "source": [
        ">*Answer*: When there are just two categories of data, the TVD is equal to the distance between one of the proportions and the corresponding proportion in the null. In other words, the simple distance we calculated as our statistic is actually the TVD."
      ]
    },
    {
      "cell_type": "markdown",
      "metadata": {
        "id": "6bkX3lCwd8x6"
      },
      "source": [
        "## Sample in Multiple Categories ##"
      ]
    },
    {
      "cell_type": "markdown",
      "metadata": {
        "id": "VLxEqdlTd8x6"
      },
      "source": [
        "Jo: Every single day this bus has a 50% chance of being a bit late, a 20% chance of being very late, and a 30% chance of being on time, regardless of other days.\n",
        "\n",
        "Po: No it doesn't.\n",
        "\n",
        "Data: Watch bus for 200 days, note arrivals in the three categories <br> <br>\n"
      ]
    },
    {
      "cell_type": "markdown",
      "metadata": {
        "id": "izq-Gyjd_Pyp"
      },
      "source": [
        "**Exercise**: State the null and alternative hypotheses."
      ]
    },
    {
      "cell_type": "markdown",
      "metadata": {
        "id": "lG6HzGbQ_Pt2"
      },
      "source": [
        "*Type your response here*"
      ]
    },
    {
      "cell_type": "markdown",
      "metadata": {
        "id": "jqyhM8KR_U4L"
      },
      "source": [
        "**Exercise**: State the test statistic you should use and which direction supports the alternative. Which direction will you look on your distribution plot?"
      ]
    },
    {
      "cell_type": "markdown",
      "metadata": {
        "id": "k6dnGWe1_WOy"
      },
      "source": [
        "*Type your response here*"
      ]
    },
    {
      "cell_type": "markdown",
      "metadata": {
        "id": "0pM0ks9s_ZDG"
      },
      "source": [
        "**Exercise**: Let's setup our steps to simulate."
      ]
    },
    {
      "cell_type": "code",
      "execution_count": null,
      "metadata": {
        "id": "wv4HeqEj_osk"
      },
      "outputs": [],
      "source": [
        "# The simulation will be under which hypothesis?\n",
        "\n",
        "null_proportions = ..."
      ]
    },
    {
      "cell_type": "markdown",
      "metadata": {
        "id": "_TMKt4ZC_s1U"
      },
      "source": [
        "**Exercise**: Define a function to use for simulation."
      ]
    },
    {
      "cell_type": "code",
      "execution_count": null,
      "metadata": {
        "id": "Qm69fmkR_q-0"
      },
      "outputs": [],
      "source": [
        "def tvd_under_null():\n",
        "    ...                         # use sample proportions and the null to calculate based on sample size of 200\n",
        "    return ...                  # standard formula for tvd goes here"
      ]
    },
    {
      "cell_type": "markdown",
      "metadata": {
        "id": "wmTZs6ft_77d"
      },
      "source": [
        "**Exercise**: Fill in the simulation code here."
      ]
    },
    {
      "cell_type": "code",
      "execution_count": null,
      "metadata": {
        "id": "WjhVB45b__oT"
      },
      "outputs": [],
      "source": [
        "# Simulation code goes here\n",
        "tvds = ...                        # Don't change this name, used below to plot\n",
        "...                               # Fill in these lines based on the same procedure we've been doing (for loop and appending)\n",
        "..."
      ]
    },
    {
      "cell_type": "code",
      "execution_count": null,
      "metadata": {
        "id": "qRYOX0T4d8x6",
        "outputId": "79de1406-7c1f-4cba-dd4f-d805b04f1748"
      },
      "outputs": [],
      "source": [
        "# Plot a histogram of simulation results\n",
        "tvd_tbl = Table().with_column('TVD', tvds)\n",
        "tvd_tbl.hist(bins=np.arange(0, .12, 0.01))"
      ]
    },
    {
      "cell_type": "code",
      "execution_count": null,
      "metadata": {
        "id": "5koqAXogd8x6",
        "outputId": "b5e7ade8-dd43-49fc-bfa6-03ec9b0e09a3"
      },
      "outputs": [],
      "source": [
        "# This above is the prediction made by the null hypothesis.\n",
        "# Compare with the data:\n",
        "# Suppose the data are 90 times a bit late, 60 times very late, 50 times on time\n",
        "\n",
        "observed_proportions = make_array(90, 60, 50)/200\n",
        "observed_tvd = sum(abs(observed_proportions - null_proportions))/2\n",
        "observed_tvd"
      ]
    },
    {
      "cell_type": "markdown",
      "metadata": {
        "id": "CKCDDu1vATdn"
      },
      "source": [
        "**Exercise**: Calculate the p-value."
      ]
    },
    {
      "cell_type": "code",
      "execution_count": null,
      "metadata": {
        "id": "3DsUmk6sAWfw"
      },
      "outputs": [],
      "source": [
        "# p-value calculation"
      ]
    },
    {
      "cell_type": "markdown",
      "metadata": {
        "id": "r4I9xarbAYxJ"
      },
      "source": [
        "**Exercise**: What is the conclusion based on simulation and p-value?"
      ]
    },
    {
      "cell_type": "markdown",
      "metadata": {
        "id": "kokVybrvAcrA"
      },
      "source": [
        "*Type your response here*"
      ]
    },
    {
      "cell_type": "markdown",
      "metadata": {
        "id": "eSIE6gz5d8x7"
      },
      "source": [
        "## A/B Testing: Example ##"
      ]
    },
    {
      "cell_type": "code",
      "execution_count": null,
      "metadata": {
        "id": "lxawmStNd8x7"
      },
      "outputs": [],
      "source": [
        "# Read in the table of data for this example\n",
        "births = Table.read_table('baby.csv')"
      ]
    },
    {
      "cell_type": "code",
      "execution_count": null,
      "metadata": {
        "id": "FUUaliPBd8x7",
        "outputId": "9e448161-f8fb-4f86-b6d2-f402595171ea"
      },
      "outputs": [],
      "source": [
        "# Plot and review the data\n",
        "births.hist('Maternal Age', group='Maternal Smoker')"
      ]
    },
    {
      "cell_type": "markdown",
      "metadata": {
        "id": "OTTXn7gfA5le"
      },
      "source": [
        "**Exercise**: We want to test whether there is a difference in maternal age based on smoking status.<br>\n",
        "Write the null and alternative hypotheses."
      ]
    },
    {
      "cell_type": "markdown",
      "metadata": {
        "id": "EOBAjY6MBINr"
      },
      "source": [
        "*Type your response here*"
      ]
    },
    {
      "cell_type": "markdown",
      "metadata": {
        "id": "t7j2_ueaBLOU"
      },
      "source": [
        "**Exercise**: What is the test statistic we should use, and which direction supports the alternative (where would we look on the plot)?"
      ]
    },
    {
      "cell_type": "markdown",
      "metadata": {
        "id": "qrFW6kEEBTYw"
      },
      "source": [
        "*Type your response here*"
      ]
    },
    {
      "cell_type": "markdown",
      "metadata": {
        "id": "PWBbEvAVd8x7"
      },
      "source": [
        "## Calculating the Observed Statistic ##\n",
        "This can be left till the end, but doing it now will help us understand how to code the simulation under the null."
      ]
    },
    {
      "cell_type": "code",
      "execution_count": null,
      "metadata": {
        "id": "dDwjpr5Ld8x7"
      },
      "outputs": [],
      "source": [
        "# This just selects only the two relevant columns; you don't have to do this.\n",
        "\n",
        "ages = births.select('Maternal Age', 'Maternal Smoker')\n",
        "ages = ages.relabeled(0, 'Age').relabeled(1, 'Smoker')"
      ]
    },
    {
      "cell_type": "code",
      "execution_count": null,
      "metadata": {
        "id": "5YHjBgzzd8x8",
        "outputId": "d98fd191-d6fd-4fe0-9a7d-e934dd5eab94"
      },
      "outputs": [],
      "source": [
        "ages"
      ]
    },
    {
      "cell_type": "code",
      "execution_count": null,
      "metadata": {
        "id": "c-KwON8Kd8x8",
        "outputId": "f9f87d0a-275f-4995-90b9-fc20bded26ea"
      },
      "outputs": [],
      "source": [
        "# The group means in a table\n",
        "\n",
        "means_table = ages.group('Smoker', np.average)\n",
        "means_table"
      ]
    },
    {
      "cell_type": "markdown",
      "metadata": {
        "id": "uG4-fV5gBZTi"
      },
      "source": [
        "**Exercise**: Calculate the difference between the two means to get the observed difference."
      ]
    },
    {
      "cell_type": "code",
      "execution_count": null,
      "metadata": {
        "id": "-q2bdf5_Be1Z"
      },
      "outputs": [],
      "source": [
        "# Extract the difference between the two means\n",
        "\n",
        "means = ...\n",
        "observed_differences = ...\n",
        "observed_difference"
      ]
    },
    {
      "cell_type": "markdown",
      "metadata": {
        "id": "8QpHoMZNd8x8"
      },
      "source": [
        "## Simulating Under the Null ##"
      ]
    },
    {
      "cell_type": "code",
      "execution_count": null,
      "metadata": {
        "id": "xXzxP1xNd8x8",
        "outputId": "e992e547-1be1-4048-f58a-bc86d2976a4c"
      },
      "outputs": [],
      "source": [
        "# Review our table\n",
        "ages"
      ]
    },
    {
      "cell_type": "markdown",
      "metadata": {
        "id": "Gx_xQe4TBo9Q"
      },
      "source": [
        "**Exercise**: Since this is an A/B test, what method do we need to use next before simulation?<br>\n",
        "*Hint*: Use permutation."
      ]
    },
    {
      "cell_type": "code",
      "execution_count": null,
      "metadata": {
        "id": "OyKr2dswB5km"
      },
      "outputs": [],
      "source": [
        "# Code to shuffle"
      ]
    },
    {
      "cell_type": "markdown",
      "metadata": {
        "id": "JumNUcT9B_KH"
      },
      "source": [
        "**Exercise**: Add the data back into the original table for comparison."
      ]
    },
    {
      "cell_type": "code",
      "execution_count": null,
      "metadata": {
        "id": "X2Oz1SVHB8QG"
      },
      "outputs": [],
      "source": [
        "# Add the shuffled labels to the original `ages` table"
      ]
    },
    {
      "cell_type": "markdown",
      "metadata": {
        "id": "TuXCNqHJCEVO"
      },
      "source": [
        "**Exercise**: Do exactly what you did to find the observed statistic, that is, take the averages and subtract the difference. Make sure to use the same direction that you originally did."
      ]
    },
    {
      "cell_type": "code",
      "execution_count": null,
      "metadata": {
        "id": "19QTGmjxCTLc"
      },
      "outputs": [],
      "source": [
        "# Now do exactly what you did to find the observed statistic, but with this new shuffled_table\n",
        "\n",
        "# The shuffled group means in a table- fill in code here\n",
        "\n",
        "# The difference between the two shuffled group means - fill in code here"
      ]
    },
    {
      "cell_type": "markdown",
      "metadata": {
        "id": "JLDGdynDCams"
      },
      "source": [
        "**Exercise**: Now we want to repeat this process many times, so setup a function for simulation. This is similar to the above steps you should have been doing along the way."
      ]
    },
    {
      "cell_type": "code",
      "execution_count": null,
      "metadata": {
        "id": "XvGUgY1ECnYL"
      },
      "outputs": [],
      "source": [
        "# Put it all together in a function.\n",
        "# You can just copy and paste the steps!\n",
        "\n",
        "def one_shuffled_difference():\n",
        "    shuffled_labels = ...               # step to shuffle the labels\n",
        "    shuffled_table =  ...               # select the shuffled labels columns\n",
        "    shuffled_means_table = ...          # average the means from the shuffling\n",
        "    shuffled_means = ...                # select the correct column\n",
        "    return                              # calculate the difference of the shuffled means"
      ]
    },
    {
      "cell_type": "markdown",
      "metadata": {
        "id": "v67uxLPQDEsB"
      },
      "source": [
        "**Exercise**: Simulate with a `for` loop and collect the results into an array to plot in the next step."
      ]
    },
    {
      "cell_type": "code",
      "execution_count": null,
      "metadata": {
        "id": "Dpp5bnmxDLeZ"
      },
      "outputs": [],
      "source": [
        "# Our old friends the for loop and collection array\n",
        "# This one takes a while to run.\n",
        "\n",
        "differences = ...                 # Don't change the name, used next to plot\n",
        "for ... in ...(5000):             # fill in loop\n",
        "    ...                           # add on to the array using the function written above"
      ]
    },
    {
      "cell_type": "code",
      "execution_count": null,
      "metadata": {
        "id": "fXBgnHlud8x9",
        "outputId": "504bbb14-db4d-475f-eb07-241aaa414da6"
      },
      "outputs": [],
      "source": [
        "# Plot the predicted distribution of the statistic under the null\n",
        "\n",
        "diff_table = Table().with_column('Difference', differences)\n",
        "diff_table.hist(bins=20)"
      ]
    },
    {
      "cell_type": "markdown",
      "metadata": {
        "id": "GcQMXzbODara"
      },
      "source": [
        "**Exercise**: Calculate the p-value."
      ]
    },
    {
      "cell_type": "code",
      "execution_count": null,
      "metadata": {
        "id": "vTCwAIEzDg0Z"
      },
      "outputs": [],
      "source": [
        "# Calculate the p-value"
      ]
    },
    {
      "cell_type": "markdown",
      "metadata": {
        "id": "sgveMk9zDi-_"
      },
      "source": [
        "**Exercise**: With a 5% cutoff, what do you conclude?"
      ]
    },
    {
      "cell_type": "markdown",
      "metadata": {
        "id": "nPNZl3wXDmgw"
      },
      "source": [
        "*Type your response here*"
      ]
    }
  ],
  "metadata": {
    "colab": {
      "provenance": [],
      "toc_visible": true
    },
    "kernelspec": {
      "display_name": "Python 3",
      "name": "python3"
    },
    "language_info": {
      "name": "python"
    }
  },
  "nbformat": 4,
  "nbformat_minor": 0
}
