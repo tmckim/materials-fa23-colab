{
  "cells": [
    {
      "cell_type": "markdown",
      "id": "5d753af1",
      "metadata": {
        "id": "5d753af1"
      },
      "source": [
        "<a href=\"https://colab.research.google.com/github/tmckim/materials-fa23-colab/blob/main/hw/hw06/hw06.ipynb\" target=\"_parent\"><img src=\"https://colab.research.google.com/assets/colab-badge.svg\" alt=\"Open In Colab\"/></a>"
      ]
    },
    {
      "cell_type": "markdown",
      "id": "3e5dc077",
      "metadata": {
        "id": "3e5dc077"
      },
      "source": [
        "## Before you start - Save this notebook!\n",
        "\n",
        "When you open a new Colab notebook from the WebCampus (like you hopefully did for this one), you cannot save changes. So it's  best to store the Colab notebook in your personal drive `\"File > Save a copy in drive...\"` **before** you do anything else.\n",
        "\n",
        "The file will open in a new tab in your web browser, and it is automatically named something like: \"**Copy of hw06.ipynb**\". You can rename this to just the title of the assignment \"**hw06.ipynb**\". Make sure you do keep an informative name (like the name of the assignment) so that you know which files to submit back to WebCampus for grading! More instructions on this are at the end of the notebook.\n",
        "\n",
        "\n",
        "**Where does the notebook get saved in Google Drive?**\n",
        "\n",
        "By default, the notebook will be copied to a folder called “Colab Notebooks” at the root (home directory) of your Google Drive. If you use this for other courses or personal code notebooks, I recommend creating a folder for this course and then moving the assignments AFTER you have completed them."
      ]
    },
    {
      "cell_type": "code",
      "execution_count": null,
      "metadata": {
        "deletable": false,
        "editable": false,
        "id": "pXUKo5Lqrfmp"
      },
      "outputs": [],
      "source": [
        "# Setup and add files needed to gdrive\n",
        "# If you restart colab, start by rerunning this cell first!\n",
        "from google.colab import drive\n",
        "drive.mount('/content/gdrive', force_remount=True)\n",
        "\n",
        "#!mkdir -p '/content/gdrive/My Drive/colab-materials-NS499DataSci-notebooks/'\n",
        "%cd /content/gdrive/MyDrive/colab-materials-NS499DataSci-notebooks/\n",
        "!rm -r materials-fa23-colab\n",
        "!git clone https://github.com/tmckim/materials-fa23-colab '/content/gdrive/My Drive/colab-materials-NS499DataSci-notebooks/materials-fa23-colab/'\n",
        "\n",
        "%pip install otter-grader==4.3.4\n",
        "%cd /content/gdrive/MyDrive/colab-materials-NS499DataSci-notebooks/materials-fa23-colab/hw/hw06/\n",
        "\n",
        "# Initialize Otter\n",
        "import otter\n",
        "grader = otter.Notebook(colab=True)"
      ],
      "id": "pXUKo5Lqrfmp"
    },
    {
      "cell_type": "markdown",
      "metadata": {
        "id": "Tf3FCQ_8rfmp"
      },
      "source": [
        "# Homework 6: Probability, Simulation, Estimation, and Assessing Models\n",
        "\n",
        "Please complete this notebook by filling in the cells provided. Before you begin, execute the previous cell to load the provided tests."
      ],
      "id": "Tf3FCQ_8rfmp"
    },
    {
      "cell_type": "markdown",
      "metadata": {
        "id": "aDXBLz-_rfmp"
      },
      "source": [
        "**Helpful Resource:**\n",
        "- [Python Reference](http://data8.org/sp22/python-reference.html): Cheat sheet of helpful array & table methods used in Data 8!\n",
        "\n",
        "**Recommended Readings**:\n",
        "* [Randomness](https://www.inferentialthinking.com/chapters/09/Randomness.html)\n",
        "* [Sampling and Empirical Distributions](https://www.inferentialthinking.com/chapters/10/Sampling_and_Empirical_Distributions.html)\n",
        "* [Testing Hypotheses](https://www.inferentialthinking.com/chapters/11/Testing_Hypotheses.html)"
      ],
      "id": "aDXBLz-_rfmp"
    },
    {
      "cell_type": "markdown",
      "metadata": {
        "id": "yiIe1BE9rfmp"
      },
      "source": [
        "Please complete this notebook by filling in the cells provided. Before you begin, execute the following cell to setup the notebook by importing some helpful libraries. Each time you start your server, you will need to execute this cell again.\n",
        "\n",
        "For all problems that you must write explanations and sentences for, you **must** provide your answer in the designated space. **Moreover, throughout this homework and all future ones, please be sure to not re-assign variables throughout the notebook!** For example, if you use `max_temperature` in your answer to one question, do not reassign it later on. Otherwise, you will fail tests that you thought you were passing previously!\n",
        "\n",
        "\n",
        "**Note: This homework has hidden tests on it. That means even though the tests may say 100% passed, it doesn't mean your final grade will be 100%. We will be running more tests for correctness once everyone turns in the homework.**\n",
        "\n",
        "\n",
        "Directly sharing answers is not okay, but discussing problems with the course staff or with other students is encouraged.\n",
        "\n",
        "You should start early so that you have time to get help if you're stuck."
      ],
      "id": "yiIe1BE9rfmp"
    },
    {
      "cell_type": "markdown",
      "metadata": {
        "id": "7HcBGMxBrfmp"
      },
      "source": [
        "## 1. Roulette"
      ],
      "id": "7HcBGMxBrfmp"
    },
    {
      "cell_type": "code",
      "execution_count": null,
      "metadata": {
        "id": "Ip8wvjKrrfmp"
      },
      "outputs": [],
      "source": [
        "# Run this cell to set up the notebook, but please don't change it.\n",
        "# If you restart colab, make sure to re-run this cell!\n",
        "\n",
        "# These lines import the Numpy and Datascience modules.\n",
        "import numpy as np\n",
        "from datascience import *\n",
        "import d8error\n",
        "\n",
        "# These lines do some fancy plotting magic.\n",
        "import matplotlib\n",
        "%matplotlib inline\n",
        "import matplotlib.pyplot as plt\n",
        "plt.style.use('fivethirtyeight')\n",
        "import warnings\n",
        "warnings.simplefilter('ignore', FutureWarning)"
      ],
      "id": "Ip8wvjKrrfmp"
    },
    {
      "cell_type": "markdown",
      "metadata": {
        "id": "Mxn5HZ1Orfmp"
      },
      "source": [
        "A Nevada roulette wheel has 38 pockets and a small ball that rests on the wheel. When the wheel is spun, the ball comes to rest in one of the 38 pockets. That pocket is declared the winner.\n",
        "\n",
        "The pockets are labeled 0, 00, 1, 2, 3, 4, ... , 36. Pockets 0 and 00 are green, and the other pockets are alternately red and black. The table `wheel` is a representation of a Nevada roulette wheel. **Note that *both* columns consist of strings.** Below is an example of a roulette wheel!"
      ],
      "id": "Mxn5HZ1Orfmp"
    },
    {
      "cell_type": "markdown",
      "metadata": {
        "id": "yRaDa3Wvrfmp"
      },
      "source": [
        "<img src=\"https://github.com/tmckim/materials-fa23-colab/blob/main/hw/hw06/roulette_wheel.jpeg?raw=1\" width=\"330px\">"
      ],
      "id": "yRaDa3Wvrfmp"
    },
    {
      "cell_type": "markdown",
      "metadata": {
        "id": "EJwcrpugrfmq"
      },
      "source": [
        "Run the cell below to load the `wheel` table."
      ],
      "id": "EJwcrpugrfmq"
    },
    {
      "cell_type": "code",
      "execution_count": null,
      "metadata": {
        "id": "LFjej0Tvrfmq"
      },
      "outputs": [],
      "source": [
        "wheel = Table.read_table('roulette_wheel.csv', dtype=str)\n",
        "wheel"
      ],
      "id": "LFjej0Tvrfmq"
    },
    {
      "cell_type": "markdown",
      "metadata": {
        "id": "HA1bhUx5rfmq"
      },
      "source": [
        "### Betting on Red ###\n",
        "If you bet on *red*, you are betting that the winning pocket will be red. This bet *pays 1 to 1*. That means if you place a one-dollar bet on red, then:\n",
        "\n",
        "- If the winning pocket is red, you gain 1 dollar. That is, you get your original dollar back, plus one more dollar.\n",
        "- if the winning pocket is not red, you lose your dollar. In other words, you gain -1 dollars.\n",
        "\n",
        "Let's see if you can make money by betting on red at roulette."
      ],
      "id": "HA1bhUx5rfmq"
    },
    {
      "cell_type": "markdown",
      "metadata": {
        "id": "xUjygX03rfmq"
      },
      "source": [
        "**Question 1.** Define a function `dollar_bet_on_red` that takes the name of a color and returns your gain in dollars if that color had won and you had placed a one-dollar bet on red. Remember that the gain can be negative. Make sure your function returns an integer. **(4 points)**\n",
        "\n",
        "*Note:* You can assume that the only colors that will be passed as arguments are red, black, and green. Your function doesn't have to check that.\n"
      ],
      "id": "xUjygX03rfmq"
    },
    {
      "cell_type": "code",
      "execution_count": null,
      "metadata": {
        "tags": [],
        "id": "4cSlCPFHrfmq"
      },
      "outputs": [],
      "source": [
        "def dollar_bet_on_red(...):\n",
        "    ..."
      ],
      "id": "4cSlCPFHrfmq"
    },
    {
      "cell_type": "code",
      "execution_count": null,
      "metadata": {
        "deletable": false,
        "editable": false,
        "id": "DYHCEHDurfmq"
      },
      "outputs": [],
      "source": [
        "grader.check(\"q1_1\")"
      ],
      "id": "DYHCEHDurfmq"
    },
    {
      "cell_type": "markdown",
      "metadata": {
        "id": "KArz-FUOrfmq"
      },
      "source": [
        "Run the cell below to make sure your function is working."
      ],
      "id": "KArz-FUOrfmq"
    },
    {
      "cell_type": "code",
      "execution_count": null,
      "metadata": {
        "id": "tKll9WwDrfmq"
      },
      "outputs": [],
      "source": [
        "print(dollar_bet_on_red('green'))\n",
        "print(dollar_bet_on_red('black'))\n",
        "print(dollar_bet_on_red('red'))"
      ],
      "id": "tKll9WwDrfmq"
    },
    {
      "cell_type": "markdown",
      "metadata": {
        "id": "1GfVIKpXrfmq"
      },
      "source": [
        "**Question 2.** Add a column labeled `Winnings: Red` to the table `wheel`. For each pocket, the column should contain your gain in dollars if that pocket won and you had bet one dollar on red. Your code should use the function `dollar_bet_on_red`. **(4 points)**\n"
      ],
      "id": "1GfVIKpXrfmq"
    },
    {
      "cell_type": "code",
      "execution_count": null,
      "metadata": {
        "scrolled": true,
        "tags": [],
        "id": "ekFUp5lDrfmq"
      },
      "outputs": [],
      "source": [
        "red_winnings = ...\n",
        "wheel = ...\n",
        "wheel"
      ],
      "id": "ekFUp5lDrfmq"
    },
    {
      "cell_type": "code",
      "execution_count": null,
      "metadata": {
        "deletable": false,
        "editable": false,
        "id": "VtAkYFa1rfmq"
      },
      "outputs": [],
      "source": [
        "grader.check(\"q1_2\")"
      ],
      "id": "VtAkYFa1rfmq"
    },
    {
      "cell_type": "markdown",
      "metadata": {
        "id": "Z5teJHYzrfmq"
      },
      "source": [
        "### Simulating 10 Bets on Red\n",
        "Roulette wheels are set up so that each time they are spun, the winning pocket is equally likely to be any of the 38 pockets regardless of the results of all other spins. Let's see what would happen if we decided to bet one dollar on red each round.\n",
        "\n",
        "**Question 3.** Create a table `ten_bets` by sampling the table `wheel` to simulate 10 spins of the roulette wheel. Your table should have the same three column labels as in `wheel`. Once you've created that table, set `sum_bets` to your net gain in all 10 bets, assuming that you bet one dollar on red each time. **(4 points)**\n",
        "\n",
        "*Hint:* It may be helpful to print out `ten_bets` after you create it!\n"
      ],
      "id": "Z5teJHYzrfmq"
    },
    {
      "cell_type": "code",
      "execution_count": null,
      "metadata": {
        "tags": [],
        "id": "Cfxdy7hmrfmq"
      },
      "outputs": [],
      "source": [
        "ten_bets = ...\n",
        "sum_bets = ...(ten_bets.column('Winnings: Red'))\n",
        "sum_bets"
      ],
      "id": "Cfxdy7hmrfmq"
    },
    {
      "cell_type": "code",
      "execution_count": null,
      "metadata": {
        "deletable": false,
        "editable": false,
        "id": "bocpWK4mrfmq"
      },
      "outputs": [],
      "source": [
        "grader.check(\"q1_3\")"
      ],
      "id": "bocpWK4mrfmq"
    },
    {
      "cell_type": "markdown",
      "metadata": {
        "id": "anflJS-Arfmq"
      },
      "source": [
        "Run the cells above a few times to see how much money you would make if you made 10 one-dollar bets on red. Making a negative amount of money doesn't feel good, but it is a reality in gambling. Casinos are a business, and they make money when gamblers lose."
      ],
      "id": "anflJS-Arfmq"
    },
    {
      "cell_type": "markdown",
      "metadata": {
        "id": "1fyDcz-grfmq"
      },
      "source": [
        "**Question 4.** Let's see what would happen if you made more bets. Define a function `net_gain_red` that takes the number of bets and returns the net gain in that number of one-dollar bets on red. **(4 points)**\n",
        "\n",
        "*Hint:* You should use your `wheel` table within your function.\n"
      ],
      "id": "1fyDcz-grfmq"
    },
    {
      "cell_type": "code",
      "execution_count": null,
      "metadata": {
        "tags": [],
        "id": "cl9pAfO1rfmq"
      },
      "outputs": [],
      "source": [
        "def net_gain_red(...):\n",
        "    ..."
      ],
      "id": "cl9pAfO1rfmq"
    },
    {
      "cell_type": "code",
      "execution_count": null,
      "metadata": {
        "deletable": false,
        "editable": false,
        "id": "Tk5-EM_Rrfmq"
      },
      "outputs": [],
      "source": [
        "grader.check(\"q1_4\")"
      ],
      "id": "Tk5-EM_Rrfmq"
    },
    {
      "cell_type": "markdown",
      "metadata": {
        "id": "KO9zUX1Crfmr"
      },
      "source": [
        "Run the cell below a few times to make sure that the results are similar to those you observed in the previous exercise."
      ],
      "id": "KO9zUX1Crfmr"
    },
    {
      "cell_type": "code",
      "execution_count": null,
      "metadata": {
        "id": "Z9xMgVT5rfmr"
      },
      "outputs": [],
      "source": [
        "net_gain_red(10)"
      ],
      "id": "Z9xMgVT5rfmr"
    },
    {
      "cell_type": "markdown",
      "metadata": {
        "id": "_gS93U2mrfmr"
      },
      "source": [
        "**Question 5.** Complete the cell below to simulate the net gain in 200 one-dollar bets on red, repeating the process 10,000 times. After the cell is run, `all_gains_red` should be an array with 10,000 entries, each of which is the net gain in 200 one-dollar bets on red. **(4 points)**\n",
        "\n",
        "*Hint:* Think about which computational tool might be helpful for simulating a process multiple times. Lab 5 might be a good resource to look at!\n",
        "\n",
        "*Note:* This cell might take a few seconds to run.\n"
      ],
      "id": "_gS93U2mrfmr"
    },
    {
      "cell_type": "code",
      "execution_count": null,
      "metadata": {
        "tags": [],
        "id": "VeQwVsEsrfmr"
      },
      "outputs": [],
      "source": [
        "num_bets = ...\n",
        "repetitions = ...\n",
        "\n",
        "all_gains_red = ...\n",
        "...\n",
        "\n",
        "len(all_gains_red) # Do not change this line! Check that all_gains_red is length 10000."
      ],
      "id": "VeQwVsEsrfmr"
    },
    {
      "cell_type": "code",
      "execution_count": null,
      "metadata": {
        "deletable": false,
        "editable": false,
        "id": "q37YboJerfmr"
      },
      "outputs": [],
      "source": [
        "grader.check(\"q1_5\")"
      ],
      "id": "q37YboJerfmr"
    },
    {
      "cell_type": "markdown",
      "metadata": {
        "id": "BoP_atY7rfmr"
      },
      "source": [
        "Run the cell below to visualize the results of your simulation."
      ],
      "id": "BoP_atY7rfmr"
    },
    {
      "cell_type": "code",
      "execution_count": null,
      "metadata": {
        "id": "Y7ghVj2Urfmr"
      },
      "outputs": [],
      "source": [
        "gains = Table().with_columns('Net Gain on Red', all_gains_red)\n",
        "gains.hist(bins = np.arange(-80, 41, 4))"
      ],
      "id": "Y7ghVj2Urfmr"
    },
    {
      "cell_type": "markdown",
      "metadata": {
        "id": "nf8FCMW-rfmr"
      },
      "source": [
        "**Question 6:** Using the histogram above, decide whether the following statement is true or false:\n",
        "\n",
        ">If you make 200 one-dollar bets on red, your chance of losing money is more than 50%.\n",
        "\n",
        "Assign `loss_more_than_50` to either `True` or `False` depending on your answer to the question. **(4 points)**\n"
      ],
      "id": "nf8FCMW-rfmr"
    },
    {
      "cell_type": "code",
      "execution_count": null,
      "metadata": {
        "tags": [],
        "id": "bReXz2lnrfmr"
      },
      "outputs": [],
      "source": [
        "loss_more_than_50 = ..."
      ],
      "id": "bReXz2lnrfmr"
    },
    {
      "cell_type": "code",
      "execution_count": null,
      "metadata": {
        "deletable": false,
        "editable": false,
        "id": "TXrot2d4rfmr"
      },
      "outputs": [],
      "source": [
        "grader.check(\"q1_6\")"
      ],
      "id": "TXrot2d4rfmr"
    },
    {
      "cell_type": "markdown",
      "metadata": {
        "id": "kx9xyx1Arfmr"
      },
      "source": [
        "### Betting on a Split ###\n",
        "If betting on red doesn't seem like a good idea, maybe a gambler might want to try a different bet. A bet on a *split* is a bet on two consecutive numbers such as 5 and 6. This bets pays 17 to 1. That means if you place a one-dollar bet on the split 5 and 6, then:\n",
        "\n",
        "- If the winning pocket is either 5 or 6, your gain is 17 dollars.\n",
        "- If any other pocket wins, you lose your dollar, so your gain is -1 dollars.\n",
        "\n",
        "**Question 7.** Define a function `dollar_bet_on_split` that takes a pocket number and returns your gain in dollars if that pocket won and you had bet one dollar on the 5-6 split. **(4 points)**\n",
        "\n",
        "*Hint:* Remember that the pockets are represented as strings.\n"
      ],
      "id": "kx9xyx1Arfmr"
    },
    {
      "cell_type": "code",
      "execution_count": null,
      "metadata": {
        "tags": [],
        "id": "kL328pZfrfmz"
      },
      "outputs": [],
      "source": [
        "def dollar_bet_on_split(...):\n",
        "    ..."
      ],
      "id": "kL328pZfrfmz"
    },
    {
      "cell_type": "code",
      "execution_count": null,
      "metadata": {
        "deletable": false,
        "editable": false,
        "id": "mgPiLcPtrfmz"
      },
      "outputs": [],
      "source": [
        "grader.check(\"q1_7\")"
      ],
      "id": "mgPiLcPtrfmz"
    },
    {
      "cell_type": "markdown",
      "metadata": {
        "id": "gOhsNR4Jrfmz"
      },
      "source": [
        "Run the cell below to check that your function is doing what it should."
      ],
      "id": "gOhsNR4Jrfmz"
    },
    {
      "cell_type": "code",
      "execution_count": null,
      "metadata": {
        "scrolled": true,
        "id": "RCYM4ZZJrfmz"
      },
      "outputs": [],
      "source": [
        "print(dollar_bet_on_split('5'))\n",
        "print(dollar_bet_on_split('6'))\n",
        "print(dollar_bet_on_split('00'))\n",
        "print(dollar_bet_on_split('23'))"
      ],
      "id": "RCYM4ZZJrfmz"
    },
    {
      "cell_type": "markdown",
      "metadata": {
        "id": "XkjNhnubrfmz"
      },
      "source": [
        "**Question 8.** Add a column `Winnings: Split` to the `wheel` table. For each pocket, the column should contain your gain in dollars if that pocket won and you had bet one dollar on the 5-6 split. **(4 points)**\n"
      ],
      "id": "XkjNhnubrfmz"
    },
    {
      "cell_type": "code",
      "execution_count": null,
      "metadata": {
        "scrolled": true,
        "tags": [],
        "id": "aStG6lOUrfmz"
      },
      "outputs": [],
      "source": [
        "split_winnings = ...\n",
        "wheel = ...\n",
        "wheel.show(5) # Do not change this line."
      ],
      "id": "aStG6lOUrfmz"
    },
    {
      "cell_type": "code",
      "execution_count": null,
      "metadata": {
        "deletable": false,
        "editable": false,
        "id": "cm15qTRCrfm0"
      },
      "outputs": [],
      "source": [
        "grader.check(\"q1_8\")"
      ],
      "id": "cm15qTRCrfm0"
    },
    {
      "cell_type": "markdown",
      "metadata": {
        "id": "nzo3DPMWrfm0"
      },
      "source": [
        "**Question 9.** Simulate the net gain in 200 one-dollar bets on the 5-6 split, repeating the process 10,000 times and saving your gains in the array `all_gains_split`. **(4 points)**\n",
        "\n",
        "*Hint:* Your code in Questions 4 and 5 may be helpful here!\n"
      ],
      "id": "nzo3DPMWrfm0"
    },
    {
      "cell_type": "code",
      "execution_count": null,
      "metadata": {
        "scrolled": true,
        "tags": [],
        "id": "nTti8tQ0rfm0"
      },
      "outputs": [],
      "source": [
        "all_gains_split = ...\n",
        "\n",
        "...\n",
        "\n",
        "# Do not change the two lines below\n",
        "gains = gains.with_columns('Net Gain on Split', all_gains_split)\n",
        "gains.hist(bins = np.arange(-200, 150, 20))"
      ],
      "id": "nTti8tQ0rfm0"
    },
    {
      "cell_type": "code",
      "execution_count": null,
      "metadata": {
        "deletable": false,
        "editable": false,
        "id": "8NLKjMi0rfm0"
      },
      "outputs": [],
      "source": [
        "grader.check(\"q1_9\")"
      ],
      "id": "8NLKjMi0rfm0"
    },
    {
      "cell_type": "markdown",
      "metadata": {
        "id": "wAXpdob-rfm0"
      },
      "source": [
        "**Question 10.** Look carefully at the visualization above, and assign `histogram_statements` to an array of the numbers of each statement below that can be correctly inferred from the overlaid histogram. **(4 points)**\n",
        "\n",
        "1. If you bet one dollar 200 times on a split, your chance of losing money is more than 50%.\n",
        "2. If you bet one dollar 200 times in roulette, your chance of making more than 50 dollars is greater if you bet on a split each time than if you bet on red each time.\n",
        "3. If you bet one dollar 200 times in roulette, your chance of losing more than 50 dollars is greater if you bet on a split each time than if you bet on red each time.\n",
        "\n",
        "*Hint:* We've already seen one of these statements in a prior question.\n"
      ],
      "id": "wAXpdob-rfm0"
    },
    {
      "cell_type": "code",
      "execution_count": null,
      "metadata": {
        "tags": [],
        "id": "M3uJNAJjrfm0"
      },
      "outputs": [],
      "source": [
        "histogram_statements = ..."
      ],
      "id": "M3uJNAJjrfm0"
    },
    {
      "cell_type": "code",
      "execution_count": null,
      "metadata": {
        "deletable": false,
        "editable": false,
        "id": "osioVGQRrfm0"
      },
      "outputs": [],
      "source": [
        "grader.check(\"q1_10\")"
      ],
      "id": "osioVGQRrfm0"
    },
    {
      "cell_type": "markdown",
      "metadata": {
        "id": "-TsnKStlrfm0"
      },
      "source": [
        "If this exercise has put you off playing roulette, it has done its job. If you are still curious about other bets, [here](https://en.wikipedia.org/wiki/Roulette#Bet_odds_table) they all are, and [here](https://en.wikipedia.org/wiki/Roulette#House_edge) is the bad news. The house – that is, the casino – always has an edge over the gambler."
      ],
      "id": "-TsnKStlrfm0"
    },
    {
      "cell_type": "markdown",
      "metadata": {
        "id": "QS3dfNoXrfm0"
      },
      "source": [
        "## 2. Chances"
      ],
      "id": "QS3dfNoXrfm0"
    },
    {
      "cell_type": "markdown",
      "metadata": {
        "id": "QE_yKgpnrfm0"
      },
      "source": [
        "Before you do this exercise, make sure you understand the logic behind all the examples in [Section 9.5](https://inferentialthinking.com/chapters/09/5/Finding_Probabilities.html).\n",
        "\n",
        "Good ways to approach probability calculations include:\n",
        "\n",
        "- Thinking one trial at a time: What does the first one have to be? Then what does the next one have to be?\n",
        "- Breaking up the event into distinct ways in which it can happen.\n",
        "- Seeing if it is easier to find the chance that the event does not happen."
      ],
      "id": "QE_yKgpnrfm0"
    },
    {
      "cell_type": "markdown",
      "metadata": {
        "id": "zr4M4xovrfm0"
      },
      "source": [
        "### Finding Chances\n",
        "\n",
        "On each spin of a roulette wheel, all 38 pockets are equally likely to be the winner regardless of the results of other spins. Among the 38 pockets, 18 are red, 18 black, and 2 green. In each part below, write an expression that evaluates to the chance of the event described."
      ],
      "id": "zr4M4xovrfm0"
    },
    {
      "cell_type": "markdown",
      "metadata": {
        "id": "G7PG5WG6rfm0"
      },
      "source": [
        "**Question 1.** The winning pocket is black on all of the first three spins. **(4 points)**\n"
      ],
      "id": "G7PG5WG6rfm0"
    },
    {
      "cell_type": "code",
      "execution_count": null,
      "metadata": {
        "tags": [],
        "id": "R6TKJrSFrfm0"
      },
      "outputs": [],
      "source": [
        "first_three_black = ..."
      ],
      "id": "R6TKJrSFrfm0"
    },
    {
      "cell_type": "code",
      "execution_count": null,
      "metadata": {
        "deletable": false,
        "editable": false,
        "id": "tHvkOcrarfm0"
      },
      "outputs": [],
      "source": [
        "grader.check(\"q2_1\")"
      ],
      "id": "tHvkOcrarfm0"
    },
    {
      "cell_type": "markdown",
      "metadata": {
        "id": "D8U5LA6-rfm0"
      },
      "source": [
        "**Question 2.** The color green never wins in the first 10 spins. **(4 points)**\n"
      ],
      "id": "D8U5LA6-rfm0"
    },
    {
      "cell_type": "code",
      "execution_count": null,
      "metadata": {
        "tags": [],
        "id": "xb9WDm9Mrfm0"
      },
      "outputs": [],
      "source": [
        "no_green = ..."
      ],
      "id": "xb9WDm9Mrfm0"
    },
    {
      "cell_type": "code",
      "execution_count": null,
      "metadata": {
        "deletable": false,
        "editable": false,
        "id": "lHkB20Ntrfm0"
      },
      "outputs": [],
      "source": [
        "grader.check(\"q2_2\")"
      ],
      "id": "lHkB20Ntrfm0"
    },
    {
      "cell_type": "markdown",
      "metadata": {
        "id": "yYDJ6rYqrfm0"
      },
      "source": [
        "**Question 3.** The color green wins at least once on the first 10 spins. **(4 points)**\n"
      ],
      "id": "yYDJ6rYqrfm0"
    },
    {
      "cell_type": "code",
      "execution_count": null,
      "metadata": {
        "tags": [],
        "id": "ss7T2z7Brfm0"
      },
      "outputs": [],
      "source": [
        "at_least_one_green = ..."
      ],
      "id": "ss7T2z7Brfm0"
    },
    {
      "cell_type": "code",
      "execution_count": null,
      "metadata": {
        "deletable": false,
        "editable": false,
        "id": "z8WtooeUrfm0"
      },
      "outputs": [],
      "source": [
        "grader.check(\"q2_3\")"
      ],
      "id": "z8WtooeUrfm0"
    },
    {
      "cell_type": "markdown",
      "metadata": {
        "id": "vpPpwcA4rfm0"
      },
      "source": [
        "**Question 4.** Two of the three colors never win in the first 10 spins. **(4 points)**\n",
        "\n",
        "*Hint:* Imagine the event with the colors red, yellow, and orange. What situation(s) lead to two of the three colors never winning in the first 10 spins?\n"
      ],
      "id": "vpPpwcA4rfm0"
    },
    {
      "cell_type": "code",
      "execution_count": null,
      "metadata": {
        "tags": [],
        "id": "RCa3GcsOrfm1"
      },
      "outputs": [],
      "source": [
        "lone_winners = ..."
      ],
      "id": "RCa3GcsOrfm1"
    },
    {
      "cell_type": "code",
      "execution_count": null,
      "metadata": {
        "deletable": false,
        "editable": false,
        "id": "jrdFoQjprfm1"
      },
      "outputs": [],
      "source": [
        "grader.check(\"q2_4\")"
      ],
      "id": "jrdFoQjprfm1"
    },
    {
      "cell_type": "markdown",
      "metadata": {
        "id": "y221BwZOrfm1"
      },
      "source": [
        "### Comparing Chances\n",
        "In each of Questions 5-7, two events A and B are described. Choose from one of the following three options and set each **answer variable to a single integer**:\n",
        "\n",
        "1. Event A is more likely than Event B\n",
        "2. Event B is more likely than Event A\n",
        "3. The two events have the same chance.\n",
        "\n",
        "You should be able to make the choices **without calculation**. Good ways to approach this exercise include imagining carrying out the chance experiments yourself, one trial at a time, and by thinking about the [law of averages](https://inferentialthinking.com/chapters/10/1/Empirical_Distributions.html#the-law-of-averages)."
      ],
      "id": "y221BwZOrfm1"
    },
    {
      "cell_type": "markdown",
      "metadata": {
        "id": "XEap_krOrfm1"
      },
      "source": [
        "**Question 5.** A child picks four times at random from a box that has four toy animals: a bear, an elephant, a giraffe, and a kangaroo. **(4 points)**\n",
        "\n",
        "- Event A: all four different animals are picked (assuming the child picks without replacement)\n",
        "- Event B: all four different animals are picked (assuming the child picks with replacement)\n"
      ],
      "id": "XEap_krOrfm1"
    },
    {
      "cell_type": "code",
      "execution_count": null,
      "metadata": {
        "tags": [],
        "id": "oG_HoXMirfm1"
      },
      "outputs": [],
      "source": [
        "toys_option = ..."
      ],
      "id": "oG_HoXMirfm1"
    },
    {
      "cell_type": "code",
      "execution_count": null,
      "metadata": {
        "deletable": false,
        "editable": false,
        "id": "VQ2SxVl3rfm1"
      },
      "outputs": [],
      "source": [
        "grader.check(\"q2_5\")"
      ],
      "id": "VQ2SxVl3rfm1"
    },
    {
      "cell_type": "markdown",
      "metadata": {
        "id": "rRrhRL4prfm1"
      },
      "source": [
        "**Question 6.** In a lottery, two numbers are drawn at random with replacement from the integers 1 through 1000. **(4 points)**\n",
        "\n",
        "- Event A: The number 8 is picked on both draws\n",
        "- Event B: The same number is picked on both draws\n"
      ],
      "id": "rRrhRL4prfm1"
    },
    {
      "cell_type": "code",
      "execution_count": null,
      "metadata": {
        "tags": [],
        "id": "rZIXyNsTrfm1"
      },
      "outputs": [],
      "source": [
        "lottery_option = ..."
      ],
      "id": "rZIXyNsTrfm1"
    },
    {
      "cell_type": "code",
      "execution_count": null,
      "metadata": {
        "deletable": false,
        "editable": false,
        "id": "9sELGg8zrfm1"
      },
      "outputs": [],
      "source": [
        "grader.check(\"q2_6\")"
      ],
      "id": "9sELGg8zrfm1"
    },
    {
      "cell_type": "markdown",
      "metadata": {
        "id": "Rbajc_GXrfm1"
      },
      "source": [
        "**Question 7.** A fair coin is tossed repeatedly. **(4 points)**\n",
        "\n",
        "- Event A: There are 60 or more heads in 100 tosses\n",
        "- Event B: There are 600 or more heads in 1000 tosses\n",
        "\n",
        "*Hint*: Think about the law of averages!\n"
      ],
      "id": "Rbajc_GXrfm1"
    },
    {
      "cell_type": "code",
      "execution_count": null,
      "metadata": {
        "tags": [],
        "id": "c_awjfwYrfm1"
      },
      "outputs": [],
      "source": [
        "coin_option = ..."
      ],
      "id": "c_awjfwYrfm1"
    },
    {
      "cell_type": "code",
      "execution_count": null,
      "metadata": {
        "deletable": false,
        "editable": false,
        "id": "ZOtaNiywrfm1"
      },
      "outputs": [],
      "source": [
        "grader.check(\"q2_7\")"
      ],
      "id": "ZOtaNiywrfm1"
    },
    {
      "cell_type": "markdown",
      "metadata": {
        "id": "qVbf0Spyrfm1"
      },
      "source": [
        "## 3. Three Ways Python Draws Random Samples"
      ],
      "id": "qVbf0Spyrfm1"
    },
    {
      "cell_type": "markdown",
      "metadata": {
        "id": "bC4_060Drfm1"
      },
      "source": [
        "You have learned three ways to draw random samples using Python:\n",
        "\n",
        "- `tbl.sample` draws a random sample of rows from the table `tbl`. The output is a table consisting of the sampled rows.\n",
        "\n",
        "- `np.random.choice` draws a random sample from a population whose elements are in an array. The output is an array consisting of the sampled elements.\n",
        "\n",
        "- `sample_proportions` draws from a categorical distribution whose proportions are in an array. The output is an array consisting of the sampled proportions in all the categories."
      ],
      "id": "bC4_060Drfm1"
    },
    {
      "cell_type": "code",
      "execution_count": null,
      "metadata": {
        "id": "t-9h6_2jrfm1"
      },
      "outputs": [],
      "source": [
        "# Look through this code and run this cell for questions 1 and 2\n",
        "top = Table.read_table('top_movies_2017.csv').select(0, 1)\n",
        "top.show(3)"
      ],
      "id": "t-9h6_2jrfm1"
    },
    {
      "cell_type": "code",
      "execution_count": null,
      "metadata": {
        "id": "3DfhHQtbrfm1"
      },
      "outputs": [],
      "source": [
        "# Look through this code and run this cell for questions 1 and 2\n",
        "studios_with_counts = top.group('Studio').sort('count', descending=True)\n",
        "studios_with_counts.show(3)"
      ],
      "id": "3DfhHQtbrfm1"
    },
    {
      "cell_type": "code",
      "execution_count": null,
      "metadata": {
        "id": "TF4nLJRarfm1"
      },
      "outputs": [],
      "source": [
        "# Look through this code and run this cell for questions 1 and 2\n",
        "studios_of_all_movies = top.column('Studio')\n",
        "distinct_studios = studios_with_counts.column('Studio')\n",
        "\n",
        "print(\"studios_of_all_movies:\", studios_of_all_movies[:10], \"...\")\n",
        "print(\"\\n distinct_studios:\", distinct_studios)"
      ],
      "id": "TF4nLJRarfm1"
    },
    {
      "cell_type": "code",
      "execution_count": null,
      "metadata": {
        "id": "7x1x8Kg7rfm1"
      },
      "outputs": [],
      "source": [
        "# Look through this code and run this cell for questions 1 and 2\n",
        "studio_counts_only = studios_with_counts.column('count')\n",
        "studio_proportions_only = studio_counts_only / sum(studio_counts_only)\n",
        "\n",
        "print(\"studio_counts_only:\", studio_counts_only)\n",
        "print(\"\\n studio_proportions_only:\", studio_proportions_only)"
      ],
      "id": "7x1x8Kg7rfm1"
    },
    {
      "cell_type": "markdown",
      "metadata": {
        "id": "nqy18xQGrfm1"
      },
      "source": [
        "In Questions 1 and 2, we will present a scenario. Determine which three of the following six options are true in regards to what the question is asking, and list them in the following answer cell. If your answer includes any of (i)-(iii), state what you would fill in the blank to make it true: `top`, `studios_with_counts`, `studios_of_all_movies`, `distinct_studios`, `studio_counts_only` or `studio_proportions_only`.\n",
        "\n",
        "(i) This can be done using `sample` and the table _________.\n",
        "\n",
        "(ii) This can be done using `np.random.choice` and the array ________.\n",
        "\n",
        "(iii) This can be done using `sample_proportions` and the array _______.\n",
        "\n",
        "(iv) This cannot be done using `sample` and the data given.\n",
        "\n",
        "(v) This cannot be done using `np.random.choice` and the data given.\n",
        "\n",
        "(vi) This cannot be done using `sample_proportions` and the data given."
      ],
      "id": "nqy18xQGrfm1"
    },
    {
      "cell_type": "markdown",
      "metadata": {
        "id": "UCDz0tNmrfm1"
      },
      "source": [
        "<!-- BEGIN QUESTION -->\n",
        "\n",
        "**Question 1.** Simulate a sample of 10 movies drawn at random with replacement from the 200 movies. Outputs True if Paramount appears more often than Warner Brothers among studios that released the sampled movies, and False otherwise. **(4 points)**\n",
        "\n",
        "*Example Answer:* (i) studios_of_all_movies, (iii) top, (v)\n",
        "\n",
        "***Note***: Do not explain your answer for any of the options you've chosen; please follow the structure of the example answer provided.\n"
      ],
      "id": "UCDz0tNmrfm1"
    },
    {
      "cell_type": "markdown",
      "metadata": {
        "id": "d2TKeRU-rfm1"
      },
      "source": [
        "_Type your answer here, replacing this text._"
      ],
      "id": "d2TKeRU-rfm1"
    },
    {
      "cell_type": "markdown",
      "metadata": {
        "id": "hD9tDWyZrfm2"
      },
      "source": [
        "<!-- END QUESTION -->\n",
        "\n",
        "<!-- BEGIN QUESTION -->\n",
        "\n",
        "**Question 2.** Simulate a sample of 10 movies drawn at random with replacement from the 200 movies. Outputs True if the first sampled movie was released by the same studio as the last sampled movie. **(4 points)**\n",
        "\n",
        "*Example Answer:* (i) studios_of_all_movies, (iii) top, (v)\n",
        "\n",
        "***Note***: Do not explain your answer for any of the options you've chosen; please follow the structure of the example answer provided.\n"
      ],
      "id": "hD9tDWyZrfm2"
    },
    {
      "cell_type": "markdown",
      "metadata": {
        "id": "U2LF_t7drfm2"
      },
      "source": [
        "_Type your answer here, replacing this text._"
      ],
      "id": "U2LF_t7drfm2"
    },
    {
      "cell_type": "markdown",
      "metadata": {
        "tags": [],
        "id": "c6yCjbPNrfm2"
      },
      "source": [
        "<!-- END QUESTION -->\n",
        "\n",
        "## 4. Assessing Jade's Models\n",
        "\n",
        "Before you begin, [Section 10.4](https://inferentialthinking.com/chapters/10/4/Random_Sampling_in_Python.html) of the textbook is a useful reference for this part."
      ],
      "id": "c6yCjbPNrfm2"
    },
    {
      "cell_type": "markdown",
      "metadata": {
        "id": "mQNCynyErfm2"
      },
      "source": [
        "### Games with Jade\n",
        "Our friend Jade comes over and asks us to play a game with her. The game works like this:\n",
        "\n",
        "> We will draw randomly with replacement from a simplified 13 card deck with 4 face cards (A, J, Q, K), and 9 numbered cards (2, 3, 4, 5, 6, 7, 8, 9, 10). If we draw cards with replacement 13 times, and if the number of face cards is greater than or equal to 4, we lose.\n",
        ">\n",
        "> Otherwise, Jade loses.\n",
        "\n",
        "We play the game once and we lose, observing 8 total face cards. We are angry and accuse Jade of cheating! Jade is adamant, however, that the deck is fair.\n",
        "\n",
        "Jade's model claims that there is an equal chance of getting any of the cards (A, 2, 3, 4, 5, 6, 7, 8, 9, 10, J, Q, K), but we do not believe her. We believe that the deck is clearly rigged, with face cards (A, J, Q, K) being more likely than the numbered cards (2, 3, 4, 5, 6, 7, 8, 9, 10)."
      ],
      "id": "mQNCynyErfm2"
    },
    {
      "cell_type": "markdown",
      "metadata": {
        "id": "CU79sfSrrfm2"
      },
      "source": [
        "**Question 1.** Assign `deck_model_probabilities` to a two-item array containing the chance of drawing a face card as the first element, and the chance of drawing a numbered card as the second element under Jade's model. Since we're working with probabilities, make sure your values are between 0 and 1. **(4 Points)**\n"
      ],
      "id": "CU79sfSrrfm2"
    },
    {
      "cell_type": "code",
      "execution_count": null,
      "metadata": {
        "tags": [],
        "id": "3BrmgutQrfm2"
      },
      "outputs": [],
      "source": [
        "deck_model_probabilities = ...\n",
        "deck_model_probabilities"
      ],
      "id": "3BrmgutQrfm2"
    },
    {
      "cell_type": "code",
      "execution_count": null,
      "metadata": {
        "deletable": false,
        "editable": false,
        "id": "HQwt2Eytrfm2"
      },
      "outputs": [],
      "source": [
        "grader.check(\"q4_1\")"
      ],
      "id": "HQwt2Eytrfm2"
    },
    {
      "cell_type": "markdown",
      "metadata": {
        "id": "l6aqCIQmrfm2"
      },
      "source": [
        "**Question 2.** We believe Jade's model is incorrect. In particular, we believe there to be a *larger* chance of getting a face card. Which of the following statistics can we use during our simulation to test between the model and our alternative? Assign `statistic_choice` to the correct answer. **(5 Points)**\n",
        "\n",
        "1. The distance (absolute value) between the actual number of face cards in 13 draws and 4, the expected number of face cards in 13 draws\n",
        "2. The expected number of face cards in 13 draws, 4\n",
        "3. The number of face cards we get in 13 draws\n"
      ],
      "id": "l6aqCIQmrfm2"
    },
    {
      "cell_type": "code",
      "execution_count": null,
      "metadata": {
        "tags": [],
        "id": "ikPGxXUjrfm2"
      },
      "outputs": [],
      "source": [
        "statistic_choice = ...\n",
        "statistic_choice"
      ],
      "id": "ikPGxXUjrfm2"
    },
    {
      "cell_type": "code",
      "execution_count": null,
      "metadata": {
        "deletable": false,
        "editable": false,
        "id": "YkpZQ4fJrfm2"
      },
      "outputs": [],
      "source": [
        "grader.check(\"q4_2\")"
      ],
      "id": "YkpZQ4fJrfm2"
    },
    {
      "cell_type": "markdown",
      "metadata": {
        "id": "0nQhM-KCrfm2"
      },
      "source": [
        "**Question 3.** Define the function `deck_simulation_and_statistic`, which, given a sample size and an array of model proportions (like the one you created in Question 1), returns the number of face cards in one simulation of drawing cards under the model specified in `model_proportions`. **(5 Points)**\n",
        "\n",
        "*Hint:* Think about how you can use the function `sample_proportions`.\n"
      ],
      "id": "0nQhM-KCrfm2"
    },
    {
      "cell_type": "code",
      "execution_count": null,
      "metadata": {
        "tags": [],
        "id": "VDX8JWhSrfm2"
      },
      "outputs": [],
      "source": [
        "def deck_simulation_and_statistic(sample_size, model_proportions):\n",
        "    ...\n",
        "\n",
        "deck_simulation_and_statistic(13, deck_model_probabilities)"
      ],
      "id": "VDX8JWhSrfm2"
    },
    {
      "cell_type": "code",
      "execution_count": null,
      "metadata": {
        "deletable": false,
        "editable": false,
        "id": "HF884i4-rfm2"
      },
      "outputs": [],
      "source": [
        "grader.check(\"q4_3\")"
      ],
      "id": "HF884i4-rfm2"
    },
    {
      "cell_type": "markdown",
      "metadata": {
        "id": "mQW9r_36rfm2"
      },
      "source": [
        "**Question 4.** Use your function from above to simulate the drawing of 13 cards 5000 times under the proportions that you specified in Question 1. Keep track of all of your statistics in `deck_statistics`. **(5 Points)**\n"
      ],
      "id": "mQW9r_36rfm2"
    },
    {
      "cell_type": "code",
      "execution_count": null,
      "metadata": {
        "tags": [],
        "id": "P4sQoJIlrfm2"
      },
      "outputs": [],
      "source": [
        "repetitions = 5000\n",
        "...\n",
        "\n",
        "deck_statistics"
      ],
      "id": "P4sQoJIlrfm2"
    },
    {
      "cell_type": "code",
      "execution_count": null,
      "metadata": {
        "deletable": false,
        "editable": false,
        "id": "yMkaK8Z0rfm2"
      },
      "outputs": [],
      "source": [
        "grader.check(\"q4_4\")"
      ],
      "id": "yMkaK8Z0rfm2"
    },
    {
      "cell_type": "markdown",
      "metadata": {
        "id": "2OXy78Tnrfm2"
      },
      "source": [
        "Let’s take a look at the distribution of simulated statistics."
      ],
      "id": "2OXy78Tnrfm2"
    },
    {
      "cell_type": "code",
      "execution_count": null,
      "metadata": {
        "id": "9FiWRjdTrfm2"
      },
      "outputs": [],
      "source": [
        "# Draw a distribution of statistics\n",
        "Table().with_column('Deck Statistics', deck_statistics).hist()"
      ],
      "id": "9FiWRjdTrfm2"
    },
    {
      "cell_type": "markdown",
      "metadata": {
        "id": "gRf7_in-rfm2"
      },
      "source": [
        "<!-- BEGIN QUESTION -->\n",
        "\n",
        "**Question 5.** Given your observed value, do you believe that Jade's model is reasonable, or is our alternative (that our deck is rigged) more likely? Explain your answer using the histogram produced above. **(5 Points)**\n"
      ],
      "id": "gRf7_in-rfm2"
    },
    {
      "cell_type": "markdown",
      "metadata": {
        "id": "ByPZQjxwrfm2"
      },
      "source": [
        "_Type your answer here, replacing this text._"
      ],
      "id": "ByPZQjxwrfm2"
    },
    {
      "cell_type": "markdown",
      "metadata": {
        "id": "TXc9x0j2rfm2"
      },
      "source": [
        "<!-- END QUESTION -->\n",
        "\n",
        "# Homework 6 Complete"
      ],
      "id": "TXc9x0j2rfm2"
    },
    {
      "cell_type": "markdown",
      "id": "50d03153",
      "metadata": {
        "id": "50d03153"
      },
      "source": [
        "To double-check your work, the cell below will rerun all of the autograder tests.\n"
      ]
    },
    {
      "cell_type": "code",
      "execution_count": null,
      "id": "b1d2af08",
      "metadata": {
        "id": "b1d2af08"
      },
      "outputs": [],
      "source": [
        "# Just run this cell.\n",
        "grader.check_all()"
      ]
    },
    {
      "cell_type": "code",
      "execution_count": null,
      "id": "5a4f3f05",
      "metadata": {
        "id": "5a4f3f05"
      },
      "outputs": [],
      "source": [
        "# Run this cell for a fun animation and message!\n",
        "\n",
        "from IPython.display import HTML\n",
        "print('Skeleton dance!')\n",
        "HTML('<img src=\"https://media.giphy.com/media/2gLxx75OmfCaNu2yI8/giphy.gif\">')"
      ]
    },
    {
      "cell_type": "markdown",
      "metadata": {
        "deletable": false,
        "editable": false,
        "id": "5dHKXL1orfm3"
      },
      "source": [
        "### **Important submission steps:**\n",
        "1. Run the tests and verify that they all pass.\n",
        "2. Choose **Save** (and make sure you've already saved a copy in your drive) from the **File** menu.\n",
        "3. You will save two files in the following steps.\n",
        "4. You will submit the two files for this assignment to the corresponding Assignment on the WebCampus (Canvas) course website.\n",
        "\n",
        "**It is your responsibility to make sure your work is saved before following the instructions in the last cell.**"
      ],
      "id": "5dHKXL1orfm3"
    },
    {
      "cell_type": "markdown",
      "id": "9b23915e",
      "metadata": {
        "id": "9b23915e"
      },
      "source": [
        "## Submission\n",
        "\n",
        "Make sure you have run all cells in your notebook in order before running the cell below, so that all images/graphs appear in the output.\n",
        "**Please save (or check again) before exporting!**\n",
        "You will save two files:\n",
        "\n",
        "\n",
        "1.   Go to `\"File > Download\"` and choose the **.ipynb format** (first option)\n",
        "  - This will save a copy of the python notebook file- extension .ipynb- in the Downloads folder on your computer (or wherever you have opted to save files)\n",
        "\n",
        "\n",
        "2.  Go to `\"File > Print\"` and save a copy of your notebook in **PDF format**. This is needed for grading the answers by hand as a double check, and to specifically grade any written responses."
      ]
    },
    {
      "cell_type": "markdown",
      "metadata": {
        "id": "FBTnE9uTrfm3"
      },
      "source": [],
      "id": "FBTnE9uTrfm3"
    }
  ],
  "metadata": {
    "kernelspec": {
      "display_name": "Python 3 (ipykernel)",
      "language": "python",
      "name": "python3"
    },
    "language_info": {
      "codemirror_mode": {
        "name": "ipython",
        "version": 3
      },
      "file_extension": ".py",
      "mimetype": "text/x-python",
      "name": "python",
      "nbconvert_exporter": "python",
      "pygments_lexer": "ipython3",
      "version": "3.8.5"
    },
    "colab": {
      "provenance": []
    }
  },
  "nbformat": 4,
  "nbformat_minor": 5
}