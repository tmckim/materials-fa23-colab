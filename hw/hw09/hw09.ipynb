{
  "cells": [
    {
      "cell_type": "markdown",
      "metadata": {
        "id": "mg_5tsydM1EJ"
      },
      "source": [
        "<a href=\"https://colab.research.google.com/github/tmckim/materials-fa23-colab-working/blob/main/hw/hw09/hw09.ipynb\" target=\"_parent\"><img src=\"https://colab.research.google.com/assets/colab-badge.svg\" alt=\"Open In Colab\"/></a>"
      ]
    },
    {
      "cell_type": "markdown",
      "metadata": {
        "id": "uwG8xVXAJMT5"
      },
      "source": [
        "# Allen Institute Cell Types Dataset - Focus on Epilepsy\n",
        "\n",
        "It's time to access the Allen Cell Types Database to do some analysis for Dr. Marsh's research. Refer to the HW08 document for details on how this dataset was collected and how to interpret it.\n",
        "\n",
        "This notebook will help us investigate data collected from the [Cell Types](https://celltypes.brain-map.org/) dataset from the Allen Brain Institute.\n"
      ]
    },
    {
      "cell_type": "markdown",
      "metadata": {
        "id": "vaFkATheJFeB"
      },
      "source": [
        "## Before you start - Save this notebook!\n",
        "\n",
        "When you open a new Colab notebook from the WebCampus (like you hopefully did for this one), you cannot save changes. So it's  best to store the Colab notebook in your personal drive `\"File > Save a copy in drive...\"` **before** you do anything else.\n",
        "\n",
        "The file will open in a new tab in your web browser, and it is automatically named something like: \"**hw09.ipynb**\". You can rename this to just the title of the assignment \"**hw09.ipynb**\". Make sure you do keep an informative name (like the name of the assignment) so that you know which files to submit back to WebCampus for grading! More instructions on this are at the end of the notebook.\n",
        "\n",
        "\n",
        "**Where does the notebook get saved in Google Drive?**\n",
        "\n",
        "By default, the notebook will be copied to a folder called “Colab Notebooks” at the root (home directory) of your Google Drive. If you use this for other courses or personal code notebooks, I recommend creating a folder for this course and then moving the assignments AFTER you have completed them."
      ]
    },
    {
      "cell_type": "markdown",
      "metadata": {
        "id": "dnc_ifOWI9ti"
      },
      "source": [
        "____\n",
        "# Learning Objectives\n",
        "## At the end of this assignment, you'll be able to:\n",
        "* Apply big data from high-throughput experiments to detect patterns and quantify data\n",
        "* Apply appropriate statistics to quantitative results\n",
        "* Describe practical considerations of data collection in humans\n",
        "* Access data from high-throughput experiments on living human brain tissue in the Allen Institue database\n",
        "* Interpret basic science data in the context of pre-translational research\n",
        "______"
      ]
    },
    {
      "cell_type": "markdown",
      "metadata": {
        "id": "ouCqGc10ZbFu"
      },
      "source": [
        "# Setup and import files needed"
      ]
    },
    {
      "cell_type": "code",
      "execution_count": null,
      "metadata": {
        "id": "DToQohnXZSMY"
      },
      "outputs": [],
      "source": [
        "# Setup and add files needed to gdrive\n",
        "# If you restart colab, start by rerunning this cell first!\n",
        "from google.colab import drive\n",
        "drive.mount('/content/gdrive', force_remount=True)\n",
        "\n",
        "#!mkdir -p '/content/gdrive/My Drive/colab-materials-NS499DataSci-notebooks/'\n",
        "%cd /content/gdrive/My Drive/colab-materials-NS499DataSci-notebooks/\n",
        "!rm -r materials-fa23-colab\n",
        "\n",
        "!git clone https://github.com/tmckim/materials-fa23-colab '/content/gdrive/My Drive/colab-materials-NS499DataSci-notebooks/materials-fa23-colab/'\n",
        "\n",
        "%cd /content/gdrive/My Drive/colab-materials-NS499DataSci-notebooks/materials-fa23-colab/hw/hw09/"
      ]
    },
    {
      "cell_type": "markdown",
      "metadata": {
        "id": "4XzotQBeZfOt"
      },
      "source": [
        "## Import packages needed"
      ]
    },
    {
      "cell_type": "code",
      "execution_count": null,
      "metadata": {
        "id": "IUXV1xJHkIq8"
      },
      "outputs": [],
      "source": [
        "# Import our plotting package from matplotlib\n",
        "import matplotlib.pyplot as plt\n",
        "\n",
        "# Specify that all plots will happen inline & in high resolution\n",
        "%matplotlib inline\n",
        "%config InlineBackend.figure_format = 'retina'\n",
        "\n",
        "# Import pandas for working with databases\n",
        "import pandas as pd\n",
        "\n",
        "# Import numpy\n",
        "import numpy as np\n",
        "\n",
        "# Import stats from scipy- *new*\n",
        "from scipy import stats\n",
        "\n",
        "# Print statement to confirm\n",
        "print('Packages imported!')\n"
      ]
    },
    {
      "cell_type": "markdown",
      "metadata": {
        "id": "Kl7_zvnQZuI7"
      },
      "source": [
        "## Load in the data file\n",
        "\n",
        "The data was directly downloaded from the website to a csv file. It was copied to your google drive folder upon import at the beginning. This way we can easily import the data we want to work with and don't have to deal with loading and setting up the AllenSDK."
      ]
    },
    {
      "cell_type": "code",
      "execution_count": null,
      "metadata": {
        "id": "EKNbbgpfIh0g"
      },
      "outputs": [],
      "source": [
        "## Import file\n",
        "all_data = pd.read_csv('Allen_celltypes_specimen_alldata_downloaded_11102023.csv')\n",
        "all_data"
      ]
    },
    {
      "cell_type": "markdown",
      "metadata": {
        "id": "zEokLjDCaM4N"
      },
      "source": [
        "## Preview the data"
      ]
    },
    {
      "cell_type": "code",
      "execution_count": null,
      "metadata": {
        "id": "ikx5hJ_YJcYm"
      },
      "outputs": [],
      "source": [
        "# Let's sort the column names and take a peek at them\n",
        "list(all_data)                # if you want a nicely aligned column in order appearing in dataframe"
      ]
    },
    {
      "cell_type": "code",
      "execution_count": null,
      "metadata": {
        "id": "-RiR3os2pm4z"
      },
      "outputs": [],
      "source": [
        "# np.sort(list(all_data))     # uncomment this line if you want to see them sorted alphabetically instead"
      ]
    },
    {
      "cell_type": "markdown",
      "metadata": {
        "id": "C2LaM5hjasTH"
      },
      "source": [
        "**Exercise**: Which column do you think has the info about humans versus mouse data? Fill this in the code below where it says `<insert_column_name_here>`<br>\n",
        "*Hint*: Look back and check out what values are in each column."
      ]
    },
    {
      "cell_type": "code",
      "execution_count": null,
      "metadata": {
        "id": "5IbdUzXiZnSy"
      },
      "outputs": [],
      "source": [
        "# Use unique to show the categories and information we need in the next step\n",
        "all_data.<insert_column_name_here>.unique()"
      ]
    },
    {
      "cell_type": "markdown",
      "metadata": {
        "id": "yTXwYCWcayIv"
      },
      "source": [
        "**Exercise**: Now we want to subset our data frame based on this. We **only want data for humans**, so subset the dataset like we've been practicing in `pandas`."
      ]
    },
    {
      "cell_type": "code",
      "execution_count": null,
      "metadata": {
        "id": "CQfnegd4ZxOS"
      },
      "outputs": [],
      "source": [
        "# Get human data only\n",
        "human_data = ...\n",
        "human_data"
      ]
    },
    {
      "cell_type": "markdown",
      "metadata": {
        "id": "n1mMcJv3aFw_"
      },
      "source": [
        "There are alot of variables here that we don't need. You will also notice that some were specific to mouse data, such as `line_name` which is now filled with all NaNs (missing values) for our human subject data. We are going to simplify our dataframe using `.drop` to remove columns we don't need. Just run the cell below."
      ]
    },
    {
      "cell_type": "code",
      "execution_count": null,
      "metadata": {
        "id": "IJ-xXR3IaL-c"
      },
      "outputs": [],
      "source": [
        "# Drop columns that we don't need\n",
        "human_data = human_data.drop(columns=['line_name', 'structure_parent__acronym', 'nr__max_euclidean_distance',\n",
        "                                     'nr__number_stems','nr__number_bifurcations', 'nr__average_contraction',\n",
        "                                     'nr__average_parent_daughter_ratio', 'nr__reconstruction_type', 'si__height',\n",
        "                                     'si__width', 'si__path', 'csl__x', 'csl__y', 'csl__z','cell_reporter_status',\n",
        "                                     'm__glif', 'm__biophys', 'm__biophys_perisomatic', 'm__biophys_all_active',\n",
        "                                     'morph_thumb_path','ephys_thumb_path', 'ephys_inst_thresh_thumb_path'])"
      ]
    },
    {
      "cell_type": "code",
      "execution_count": null,
      "metadata": {
        "id": "h22rcmudp1Dv"
      },
      "outputs": [],
      "source": [
        "# Now check the # of columns in our dataset\n",
        "human_data.shape"
      ]
    },
    {
      "cell_type": "markdown",
      "metadata": {
        "id": "_wiMkSs1aSwR"
      },
      "source": [
        "# Brain regions and cells to examine"
      ]
    },
    {
      "cell_type": "markdown",
      "metadata": {
        "id": "60jQd-7WX2Tl"
      },
      "source": [
        "Now that we only have the human data we want to work with, it's time for your tasks from Dr. Marsh. She has assigned you to evalute the properties of neurons in the temporal lobe, and determine if they are distinct from properties of other brain regions. <br>\n",
        "We will focus 3 brain regions that have the most cells in the dataset for comparison. <br>\n",
        "The three brain regions are: <br>\n",
        "\n",
        "\n",
        "1.   Middle temporal gyrus (MTG) - 309 cells\n",
        "2.   Frontal lobe (FroL) - 23 cells\n",
        "3.   Middle frontal gyrus (MFG) - 26 cells\n",
        "\n",
        "Check out the regions in the atlas [here](https://atlas.brain-map.org/atlas?atlas=138322605#atlas=138322605&plate=102339919&structure=10390&x=40320&y=46976&zoom=-7&resolution=124.49&z=3). You can type the name in to the top left search bar.\n",
        "\n"
      ]
    },
    {
      "cell_type": "markdown",
      "metadata": {
        "id": "TJOt4ZQ4bzzI"
      },
      "source": [
        "**Exercise**: Let's see how many brain regions there actually are. Fill in the line below where you see `<insert_df_name>` and `<insert_brainarea_column_name>`."
      ]
    },
    {
      "cell_type": "code",
      "execution_count": null,
      "metadata": {
        "id": "NqkFvgtsbIv_"
      },
      "outputs": [],
      "source": [
        "# Get info on brain regions\n",
        "print('brain regions:', <insert_df_name>.<insert_brainarea_column_name>.unique())"
      ]
    },
    {
      "cell_type": "markdown",
      "metadata": {
        "id": "gzv9GbugcIw3"
      },
      "source": [
        "Now let's take a look at the number of cells per brain region. Just run the cell below."
      ]
    },
    {
      "cell_type": "code",
      "execution_count": null,
      "metadata": {
        "id": "_-HiYH_LMbya"
      },
      "outputs": [],
      "source": [
        "# For loop to find and print the cell counts for each brain region\n",
        "nums = []                                                                         # This will allow us to do an overall count too\n",
        "\n",
        "for i, structure__acronym in enumerate(human_data.structure__acronym.unique()):\n",
        "  brain_data = human_data[human_data.structure__acronym == structure__acronym]\n",
        "  cell_count = len(brain_data)\n",
        "  nums = np.append(nums, cell_count)\n",
        "  print(f'# of cells in {structure__acronym}: ' + str(cell_count))\n",
        "\n",
        "print('Total # of cells in dataset: ' + str(sum(nums)))"
      ]
    },
    {
      "cell_type": "markdown",
      "metadata": {
        "id": "kC0-wwwDREnD"
      },
      "source": [
        "# Considering demographics: converting age from string to number"
      ]
    },
    {
      "cell_type": "markdown",
      "metadata": {
        "id": "wM_cAo4gPLF8"
      },
      "source": [
        "It's time do a little bit of data wrangling."
      ]
    },
    {
      "cell_type": "markdown",
      "metadata": {
        "id": "RojOc5IfOXrL"
      },
      "source": [
        "\n",
        "![image.png](data:image/png;base64,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)"
      ]
    },
    {
      "cell_type": "markdown",
      "metadata": {
        "id": "dpiP-OAvPMh-"
      },
      "source": [
        "Image [source](https://www.codeastar.com/data-wrangling/)"
      ]
    },
    {
      "cell_type": "markdown",
      "metadata": {
        "id": "bWqUl__TPVPd"
      },
      "source": [
        "Let's review our age variable. Before running the following cell, what would you expect a value like this to be- in python, what should be the data `type`?"
      ]
    },
    {
      "cell_type": "code",
      "execution_count": null,
      "metadata": {
        "id": "-YLo9mjnO8LU"
      },
      "outputs": [],
      "source": [
        "# What is age?\n",
        "human_data.donor__age.unique()"
      ]
    },
    {
      "cell_type": "markdown",
      "metadata": {
        "id": "efGZJ7HqPs4r"
      },
      "source": [
        "Hmmmm, interesting. It seems there is more information in each cell than we really need. We need to convert this data into a format that is useable for us to review some desriptive statistics (more on this below)."
      ]
    },
    {
      "cell_type": "markdown",
      "metadata": {
        "id": "ujgV_987QGG5"
      },
      "source": [
        "In one of the beginning labs for this course, we worked with a method to split text or strings. We will do that below. Just run this cell."
      ]
    },
    {
      "cell_type": "code",
      "execution_count": null,
      "metadata": {
        "id": "RZYEZ_w9TA7d"
      },
      "outputs": [],
      "source": [
        "# Split the string into the 2 components - numbers versus text\n",
        "age = human_data.donor__age.str.split(pat = ' ', expand = True)         # Uses pandas str.split to find the space (pat = ' ') between the text for the # versus yrs\n",
        "age.rename(columns={0:'age', 1:'years'},inplace=True)                   # Setting expand on the above line creates a df with two columns [0 1] and we want to rename them to be informative\n",
        "age                                                                     # Show the final df"
      ]
    },
    {
      "cell_type": "markdown",
      "metadata": {
        "id": "pZKvbmX4QrSl"
      },
      "source": [
        "Remember, we just performed this manipulation on strings (text). We will want to work with `age` as a number. We will convert it to an integer below. Just run this cell."
      ]
    },
    {
      "cell_type": "code",
      "execution_count": null,
      "metadata": {
        "id": "ECzTw0vMKyaT"
      },
      "outputs": [],
      "source": [
        "# Convert string to a number\n",
        "age['age'] = age['age'].astype(int)             # we want to perform this manipulation on the `age` column of our df\n",
        "age['age']"
      ]
    },
    {
      "cell_type": "markdown",
      "metadata": {
        "id": "W3q0KgsJQ-UQ"
      },
      "source": [
        "You can double check it was successful if you'd like here by also finding `unique` values again. We can see our array does not include quotes around our numbers."
      ]
    },
    {
      "cell_type": "code",
      "execution_count": null,
      "metadata": {
        "id": "a54tW7VzK6aJ"
      },
      "outputs": [],
      "source": [
        "# Check the values and that they are not strings anymore\n",
        "age.age.unique()"
      ]
    },
    {
      "cell_type": "markdown",
      "metadata": {
        "id": "xjmVjbDKRWYB"
      },
      "source": [
        "Now we will add our columns to the original dataframe. We will use `pd.concat` to do this. <br>\n",
        "It basically sticks the new columns we just made onto the end of our dataframe. <br>\n",
        "Note that this is slightly different than `join` because we don't really specify how to add things on, just to do it. More on this in after running the following cell."
      ]
    },
    {
      "cell_type": "code",
      "execution_count": null,
      "metadata": {
        "id": "FNY-oqhEJfsu"
      },
      "outputs": [],
      "source": [
        "# Concatenate the original dataframe and our age dataframe\n",
        "human_data = pd.concat([human_data, age],axis = 1)\n",
        "human_data"
      ]
    },
    {
      "cell_type": "markdown",
      "metadata": {
        "id": "97A-qpjuR20y"
      },
      "source": [
        "You can see we now have more columns and the values were just added to end of the dataframe. This works in our case because we took the data from our original table in the same order as we've been working with. We didn't sort or manipulate it in any way in between steps, so the values for age should still appropriately match the entry for each participant. This is something to be aware of when working with data. Below, you will see an example of code that you can use to check and briefly verify that the values do still match up from the original dataframe. <br> <br> If you are working with lots of data and doing various manipulations, it's always a good idea to build in checks like these. It helps to ensure you aren't introducing anything you don't want into the data, to prevent errors, and also as a way to write notes to yourself on what you did and why! You can save these in intermediate versions of your code and then comment out or remove in the final, polished version if necessary."
      ]
    },
    {
      "cell_type": "code",
      "execution_count": null,
      "metadata": {
        "id": "ULhXw9W1JssL"
      },
      "outputs": [],
      "source": [
        "# Double check:\n",
        "# Select two columns from our dataframe side by side to compare by eye\n",
        "compare = human_data[['donor__age', 'age']]\n",
        "compare"
      ]
    },
    {
      "cell_type": "markdown",
      "metadata": {
        "id": "CH7CjwRPSWs9"
      },
      "source": [
        "Great! We are almost ready to move on to reviewing our data. But before we get there, we should clean up the dataframe. <br><br>\n",
        "**Exercise**: Remove the redundant columns now that we've added `age` as an integer. Drop the original age column (starts with `donor__`) and the new `years` column that is just text. Fill in the parts below that start with: `<insert_..>`.<br>\n",
        "*Hint*: You will need to use `axis = 1` in your code to specify with `pandas` that you want to drop the [columns](https://pandas.pydata.org/docs/reference/api/pandas.DataFrame.drop.html)"
      ]
    },
    {
      "cell_type": "code",
      "execution_count": null,
      "metadata": {
        "id": "IKwHI1PgTuaS"
      },
      "outputs": [],
      "source": [
        "# Remove the extra columns\n",
        "\n",
        "human_data = <insert_df_name>.<insert_method_to_use>(['<insert_col_1_name>', '<insert_col_2_name>'], axis = 1)"
      ]
    },
    {
      "cell_type": "markdown",
      "metadata": {
        "id": "rEmtekPLaHgs"
      },
      "source": [
        "# Reviewing the Data: Categorical and Numerical Values Contained in Columns"
      ]
    },
    {
      "cell_type": "markdown",
      "metadata": {
        "id": "YZoqAUoAMrDG"
      },
      "source": [
        "**Exercise**: Let's print out information about our dataset. <br>Use the example statement in the first cell to repeat this process for the other cells. <br> The comment lists what should be printed, so find the appropriate column name from the dataframe to print out the information about the conditions for each column."
      ]
    },
    {
      "cell_type": "code",
      "execution_count": null,
      "metadata": {
        "id": "PEFQT0hZMqPo"
      },
      "outputs": [],
      "source": [
        "# Show the disease state (reason for tissue removal)\n",
        "print('Disease state:', human_data.donor__disease_state.unique())"
      ]
    },
    {
      "cell_type": "code",
      "execution_count": null,
      "metadata": {
        "id": "zKfqrj7pNqfY"
      },
      "outputs": [],
      "source": [
        "# Race/ethnicity"
      ]
    },
    {
      "cell_type": "code",
      "execution_count": null,
      "metadata": {
        "id": "zzyC0StkNrTQ"
      },
      "outputs": [],
      "source": [
        "# Biological Sex"
      ]
    },
    {
      "cell_type": "code",
      "execution_count": null,
      "metadata": {
        "id": "nqChXv3KNsFs"
      },
      "outputs": [],
      "source": [
        "# Years of seizure history"
      ]
    },
    {
      "cell_type": "code",
      "execution_count": null,
      "metadata": {
        "id": "jG3Z4s_oNs8r"
      },
      "outputs": [],
      "source": [
        "# Cortical layer from where cells were sampled in the brain region\n"
      ]
    },
    {
      "cell_type": "markdown",
      "metadata": {
        "id": "jGdOijFsaV0y"
      },
      "source": [
        "## Frequency of Values from Columns"
      ]
    },
    {
      "cell_type": "markdown",
      "metadata": {
        "id": "b63kMXWKajPi"
      },
      "source": [
        "**Exercise**: What if we want to get a count of the values from our columns? We can combine `unique` from above with `len`. Start by finding the number of participants in the dataset by replacing the code below where it contains `<insert_..>` or `...`. Then complete the remaining cells to get more information from some of the columns we examined above."
      ]
    },
    {
      "cell_type": "code",
      "execution_count": null,
      "metadata": {
        "id": "nPyzRqGRYHEZ"
      },
      "outputs": [],
      "source": [
        "# Donor name / donor id (they are coding the same information in separate columns)\n",
        "print('Number of participants in this dataset:', len(<insert_dataframe_name>.<insert_col_name>.unique()))"
      ]
    },
    {
      "cell_type": "code",
      "execution_count": null,
      "metadata": {
        "id": "ObsbY2axbaXh"
      },
      "outputs": [],
      "source": [
        "# Cell count- does this match what we already calculated above? It should!\n",
        "print('there are', ... , 'cells in this dataset')"
      ]
    },
    {
      "cell_type": "markdown",
      "metadata": {
        "id": "cV6YB6k1cKqd"
      },
      "source": [
        "**Exercise**: To get the count of biological sex information, we subset our data first into the corresponding groups. Once we do this, you can use similar code from above to complete the following lines. Fill in the appropriate code below where you see `...`"
      ]
    },
    {
      "cell_type": "code",
      "execution_count": null,
      "metadata": {
        "id": "R4g_CO5AcGSF"
      },
      "outputs": [],
      "source": [
        "# Female count\n",
        "females = human_data[(human_data.donor__sex == 'Female')]\n",
        "print('there are', ... , 'females in this dataset')"
      ]
    },
    {
      "cell_type": "code",
      "execution_count": null,
      "metadata": {
        "id": "TyQwBX1NcIvl"
      },
      "outputs": [],
      "source": [
        "# Male count\n",
        "males = human_data[(human_data.donor__sex == 'Male')]\n",
        "print('there are', ... , 'males in this dataset')"
      ]
    },
    {
      "cell_type": "markdown",
      "metadata": {
        "id": "fD9z5ZayaPyj"
      },
      "source": [
        "## Optional- what do you want to know?"
      ]
    },
    {
      "cell_type": "code",
      "execution_count": null,
      "metadata": {
        "id": "Uffyt7dhr4ti"
      },
      "outputs": [],
      "source": [
        "#Advanced: If you want to get information about race/ethnicity, use a for loop below to do so\n",
        "\n",
        "nums = []                                                                         # This will allow us to do an overall count too\n",
        "\n",
        "for i, ... in enumerate(...):\n",
        "  race_data = ...\n",
        "  race_count = ...\n",
        "  nums = np.append(..., ...)\n",
        "  print(f'Number of participants in the {donor__race} category: ' + str(...))\n",
        "\n",
        "print('Total # of participants in dataset: ' + str(sum(nums)))"
      ]
    },
    {
      "cell_type": "code",
      "execution_count": null,
      "metadata": {
        "id": "J52EmNUUNuRR"
      },
      "outputs": [],
      "source": [
        "# Optional:\n",
        "# If there is anything else about the columns or dataset that you are curious about, test it here!\n",
        "\n"
      ]
    },
    {
      "cell_type": "markdown",
      "metadata": {
        "id": "DW5vYtVCUW3j"
      },
      "source": [
        "# Descriptive Statistics"
      ]
    },
    {
      "cell_type": "markdown",
      "metadata": {
        "id": "REFc0L1ZUbIf"
      },
      "source": [
        "We will now examine descriptive statistics of our different variables. We are interested in things that we've been discussing from the course such as counts, means, and standard deviation. This will tell us more about our sample -- it will describe the data we have available to work with."
      ]
    },
    {
      "cell_type": "markdown",
      "metadata": {
        "id": "jLn9Un8HUyuc"
      },
      "source": [
        "From our previous lab on comparing the `datascience` and `pandas` packages, we worked with [groupby](https://pandas.pydata.org/pandas-docs/stable/user_guide/groupby.html). We used this operation to help us get info about the variables in our dataset into a summary dataframe. Refer back to lab08 if you need a refresher on how to work with the code below.\n"
      ]
    },
    {
      "cell_type": "markdown",
      "metadata": {
        "id": "sp5Sm0zn7li_"
      },
      "source": [
        "## Using  `groupby` to generate our descriptive table"
      ]
    },
    {
      "cell_type": "markdown",
      "metadata": {
        "id": "0GLia0YzVoLm"
      },
      "source": [
        "**Exercise**: Complete the code below in the sections that start with `<insert_...>` to find descriptives about the dataset. <br>\n",
        "We will start by grouping by brain regions and returning the count of ids as well as the mean and standard deviation of age based on these groupings. <br><br>\n",
        "\n",
        "When we specify what we want to use with `by`, this will be one or more column names that contain *categorical* data. When we specify what to use with `agg`, this is where we put in column names for *numerical* data and the method we want to perform on the data (mean, count, std, etc.)"
      ]
    },
    {
      "cell_type": "code",
      "execution_count": null,
      "metadata": {
        "id": "L6bdfcMH65Hg"
      },
      "outputs": [],
      "source": [
        "# Calculate summary statistics to review and compare to plot\n",
        "print(\"Summary statistics:\")\n",
        "\n",
        "# Get the values\n",
        "summary_stats = human_data.groupby(by=[\"<insert_brain_region_col_name>\"]).agg(\n",
        "    {\"specimen__id\": \"count\",\"age\": [\"mean\", \"std\"]}).round(2)\n",
        "\n",
        "display(summary_stats)"
      ]
    },
    {
      "cell_type": "markdown",
      "metadata": {
        "id": "s65lQg3J5G7z"
      },
      "source": [
        "Hmmm, in all cases you can see that we have multiple specimen id values - this is a count of the cells in the brain region. However, when we look at age, we calculate a mean, but if that is the case, why is the standard deviation zero?"
      ]
    },
    {
      "cell_type": "markdown",
      "metadata": {
        "id": "u1uGrKDs5_Hv"
      },
      "source": [
        "This has to do with the fact that `specimen__id` corresponds to each cell, and a single participant may contribute multiple cells to the dataset. So, let's now check this in combination with data from a column that allows us to uniquely identify each participant."
      ]
    },
    {
      "cell_type": "markdown",
      "metadata": {
        "id": "RUBulpbt6OV0"
      },
      "source": [
        "**Exercise**: Just run the cell below. Notice that we are using a new option for `agg` called `nunique`. This will give us the count of unique entries for our column, `donor__name`."
      ]
    },
    {
      "cell_type": "code",
      "execution_count": null,
      "metadata": {
        "id": "idxsnxdn6nub"
      },
      "outputs": [],
      "source": [
        "# Calculate summary statistics to review and compare to plot\n",
        "print(\"Summary statistics:\")\n",
        "\n",
        "# get the numerical values\n",
        "summary_stats = human_data.groupby(by=[\"structure__acronym\"]).agg(\n",
        "    {\"specimen__id\": \"count\",\"donor__name\":\"nunique\",\"age\": [\"mean\", \"std\"]}).round(2)\n",
        "\n",
        "display(summary_stats)"
      ]
    },
    {
      "cell_type": "markdown",
      "metadata": {
        "id": "klsNs7Dn6qyU"
      },
      "source": [
        "This makes it more clear why there are zeros in the standard deviation that corresponds to age. We can see that in those rows, there is only 1 participant that is contributing cells to that brain region."
      ]
    },
    {
      "cell_type": "markdown",
      "metadata": {
        "id": "Hh29o5uS9YEn"
      },
      "source": [
        "**Exercise**: We want to `groupby` using brain region and donor disease state to return the count of cells (`specimen__id`) as well as participant (`donor__name`). <br>\n",
        "Complete the code below in the sections that start with `<insert_...>`.\n",
        "\n"
      ]
    },
    {
      "cell_type": "code",
      "execution_count": null,
      "metadata": {
        "id": "2CWExrLb9uLw"
      },
      "outputs": [],
      "source": [
        "# Calculate summary statistics to review and compare to plot\n",
        "print(\"Summary statistics:\")\n",
        "\n",
        "# Get the  values\n",
        "summary_stats = human_data.groupby(by=[\"<insert_brain_region_col_name>\", \"<insert_disease_state_col_name>\"]).agg(\n",
        "    {\"specimen__id\": \"count\", \"donor__name\":\"nunique\"}).round(2)\n",
        "\n",
        "display(summary_stats)"
      ]
    },
    {
      "cell_type": "markdown",
      "metadata": {
        "id": "fjGlJh9g-CqB"
      },
      "source": [
        "Here we can see which brain regions have cells related to conditions for surgical removal of tissue that were for epilepsy versus tumor."
      ]
    },
    {
      "cell_type": "markdown",
      "metadata": {
        "id": "89YklDqwDqmB"
      },
      "source": [
        "# Brain Regions of Interest"
      ]
    },
    {
      "cell_type": "markdown",
      "metadata": {
        "id": "VOWM-vOLENtF"
      },
      "source": [
        "Now that we've reviewed info about all of data, we want to go through and specifically focus on our brain regions of interest. <br><br>\n",
        "For each **brain region** and **cortical layer**, we want to calculate the **mean** and **standard deviation** of the **firing rate** and **resting potential**."
      ]
    },
    {
      "cell_type": "markdown",
      "metadata": {
        "id": "lZrN2fGjE_rY"
      },
      "source": [
        "**Exercise**: First, we want to subset our dataframe to only contain data from the **brain regions** we are interested in. <br>\n",
        "Fill in the abbreviations for the 3 regions we want to work with where the code below contains `<insert_brain_region_abbrev>`. <br>\n",
        "*Hint*: This was listed above under the section 'Brain regions and cells to examine'."
      ]
    },
    {
      "cell_type": "code",
      "execution_count": null,
      "metadata": {
        "id": "kmRdbXBHdg9S"
      },
      "outputs": [],
      "source": [
        "# Dataset with data from 3 regions\n",
        "# Notice here we are using the or operator ('|')\n",
        "brains = human_data[(human_data.structure__acronym == '<insert_brain_region_abbrev>') |\n",
        "        (human_data.structure__acronym == '<insert_brain_region_abbrev>') |\n",
        "        (human_data.structure__acronym == '<insert_brain_region_abbrev>')]\n",
        "brains"
      ]
    },
    {
      "cell_type": "markdown",
      "metadata": {
        "id": "V7e0iHbNd-uq"
      },
      "source": [
        "**Exercise**: Use `unique` to check that the dataframe now only contains the 3 regions we want to work with."
      ]
    },
    {
      "cell_type": "code",
      "execution_count": null,
      "metadata": {
        "id": "A1-GxTBjeIRe"
      },
      "outputs": [],
      "source": [
        "# Check we properly subsetted the dataframe to contain only the brain regions we wanted with `unique`\n"
      ]
    },
    {
      "cell_type": "markdown",
      "metadata": {
        "id": "I3gbyWYmTWYC"
      },
      "source": [
        "## Calculating Descriptive Statistics"
      ]
    },
    {
      "cell_type": "markdown",
      "metadata": {
        "id": "3bGKdvvjeN6G"
      },
      "source": [
        "**Exercise**: Now we are ready to calculate descriptives for our brain regions. <br> We want to obtain the **mean** and **standard deviation** for each **brain region** and **cortical layer** combination of values from the dataframe for the **resting potential** and **average firing rate**. <br>\n",
        "Hint: look for a combination of these words in the column names. Also, the column for resting potential will have *negative* values in it. <br><br>\n",
        "\n",
        "Use `groupby` in the following code cell and input the correct information from the prompt. Review previous examples that we've worked with above or in **lab08** if you need a reference. Also make sure to round the results to 2 decimal places (we've done this above as well). <br><br>\n",
        "\n",
        "*Optional*: You are welcome to also include the counts of `specimen__id` for the combinations of brain region and cortical layers if you would like to see how many cells there are for each."
      ]
    },
    {
      "cell_type": "code",
      "execution_count": null,
      "metadata": {
        "id": "XJ9Njzpee5FL"
      },
      "outputs": [],
      "source": [
        "# Calculate summary statistics to review and compare to plot\n",
        "print(\"Summary statistics:\")\n",
        "\n",
        "# get the numerical values using `groupby`\n",
        "summary_stats_brains = ...\n",
        "\n",
        "display(summary_stats_brains)"
      ]
    },
    {
      "cell_type": "markdown",
      "metadata": {
        "id": "_VmEwwXcf9Oh"
      },
      "source": [
        "You should see some NaN values, particularly for the combinations of conditions (brain region and cortical layers) that only have a count of 1 cell. This indicates there were not measurements of useable data."
      ]
    },
    {
      "cell_type": "markdown",
      "metadata": {
        "id": "n6z2ZP_8O32y"
      },
      "source": [
        "## Looking into NaN values further"
      ]
    },
    {
      "cell_type": "markdown",
      "metadata": {
        "id": "5dpoIY3rlvx-"
      },
      "source": [
        "NaNs are important to consider though, because depending on how we setup our statistics next, NaNs may or may not influence our results. This depends on how the packages deal with NaNs in our dataframe, and what the default behavior of the package is."
      ]
    },
    {
      "cell_type": "markdown",
      "metadata": {
        "id": "c0ROA4DZQsBJ"
      },
      "source": [
        "Let's check our variables of interest, and keep this in mind as we go through the next section. I will highlight what we can do when it comes to our data with NaNs."
      ]
    },
    {
      "cell_type": "markdown",
      "metadata": {
        "id": "0eYBzKl4Q8LM"
      },
      "source": [
        "We will use `pandas` `isna` to help us here. More documentation can be found here: https://pandas.pydata.org/docs/reference/api/pandas.DataFrame.isna.html"
      ]
    },
    {
      "cell_type": "code",
      "execution_count": null,
      "metadata": {
        "id": "jd-C6okjnZyW"
      },
      "outputs": [],
      "source": [
        "# This finds NaNs and then we check whether we have them (True/False)\n",
        "nan_df = brains.ef__vrest.isna()\n",
        "nan_df.unique()"
      ]
    },
    {
      "cell_type": "code",
      "execution_count": null,
      "metadata": {
        "id": "FS_ygt_smsN-"
      },
      "outputs": [],
      "source": [
        "# This finds NaNs and then we check whether we have them (True/False)\n",
        "nan_df = brains.ef__avg_firing_rate.isna()\n",
        "nan_df.unique()"
      ]
    },
    {
      "cell_type": "markdown",
      "metadata": {
        "id": "-1HKwHuzRIRD"
      },
      "source": [
        "**Summary**: This means that there are not NaN values in the resting membrane potential. However, we do have to account for NaNs in average firing rate data. <br>\n",
        "You can also refer back to the descriptive tables you made above. If a mean value was NaN, it means there was no measurement for that condition."
      ]
    },
    {
      "cell_type": "markdown",
      "metadata": {
        "id": "12ErgeSvMKZq"
      },
      "source": [
        "# Making Comparisons: Two sample statistics"
      ]
    },
    {
      "cell_type": "markdown",
      "metadata": {
        "id": "pOTKSP7yMMSa"
      },
      "source": [
        "In our discussions of hypothesis testing, we have been testing whether two distributions were different or if the observed distribution had a different mean than the population distribution."
      ]
    },
    {
      "cell_type": "markdown",
      "metadata": {
        "id": "GC_50-eHOr7x"
      },
      "source": [
        "If the distributions are normal we can use what are called parametric statistics. These include tests like t-tests. These are included in standard statistical packages (such as `stats` in `scipy`). This one is a new [package](https://docs.scipy.org/doc/scipy/reference/stats.html) we imported at the top of this notebook! <br>\n",
        "We could run these tests on our data with code like this: `stats.ttest_ind()` if we were running an independent samples t-test."
      ]
    },
    {
      "cell_type": "markdown",
      "metadata": {
        "id": "2zWtiwb7PNUD"
      },
      "source": [
        "If instead the distributions we are dealing with in our data are not normal, we would use a nonparametric test. This type of test can be used when our population distributions are skewed. The type of test we would use in this case is called the Mann-Whitney U for independent samples: `stats.mannwhitneyu()`."
      ]
    },
    {
      "cell_type": "markdown",
      "metadata": {
        "id": "YJ4hn9hQ2g2X"
      },
      "source": [
        "# Supplemental Statistical Resources\n",
        "\n",
        "The following sections of [An Introduction to the Science of Statistics: From Theory to Implementation](https://www.math.arizona.edu/~jwatkins/statbook.pdf):\n",
        "1.   Mean (section 2.1.2, page 21)\n",
        "2.   Standard Deviation (section 2.2.2, page 25)\n",
        "3.   Interpreting p-values (section 18.3, page 331)\n",
        "4.   T-test (section 20.5 for two samples, page 368)\n",
        "5.   Mann-Whitney U test (section 20.9.2, page 378)\n",
        "\n",
        "[One versus two tail tests](https://www.graphpad.com/guides/prism/8/statistics/one-tail_vs__two-tail_p_values.htm) <br>\n",
        "\n",
        "[Mann-Whitney test](https://www.graphpad.com/guides/prism/8/statistics/how_the_mann-whitney_test_works.htm)"
      ]
    },
    {
      "cell_type": "markdown",
      "metadata": {
        "id": "VNIjmySjPlgF"
      },
      "source": [
        "## Determining which test to use - checking for skew\n",
        "To determine which we will use, we will check the skewness of our data. This option is also included in the `scipy` package, and we will use: `stats.skewtest()` to check the distributions of our variables of interest. <br><br>\n",
        "\n",
        "The results of the test will display a p-value and we will compare this to a cutoff of 5%. <br> If the p-value from the skewness results is less than 0.05, this indicates that our data is skewed."
      ]
    },
    {
      "cell_type": "markdown",
      "metadata": {
        "id": "C-0FMB-ojG1k"
      },
      "source": [
        "**Exercise**: Subset the `brains` dataframe from above to get the data for two brain regions to compare. <br>\n",
        "Use the '**FroL**' and the '**MTG**' regions."
      ]
    },
    {
      "cell_type": "code",
      "execution_count": null,
      "metadata": {
        "id": "HdmWCI3mj6Wk"
      },
      "outputs": [],
      "source": [
        "# Subset the data into what we need for comparison\n",
        "frol_df = ...\n",
        "mtg_df = ..."
      ]
    },
    {
      "cell_type": "markdown",
      "metadata": {
        "id": "3LOccPSMTu8k"
      },
      "source": [
        "## Evaluating brain region differences in resting potential"
      ]
    },
    {
      "cell_type": "markdown",
      "metadata": {
        "id": "LZMMo66HkA32"
      },
      "source": [
        "**Exercise**: Now we will run the skew test and plot the data for **resting potential**. Fill in the code below where it starts with `<insert_...>` based on the dataframes we subset above and the correct column name for resting potential. <br>\n",
        "*Hint*: the column name has the text `rest` in it."
      ]
    },
    {
      "cell_type": "code",
      "execution_count": null,
      "metadata": {
        "id": "GhMpZObMk0Ud"
      },
      "outputs": [],
      "source": [
        "# Subselect our samples- fill in this code\n",
        "sample_1 = <insert_dataframe_name_FroL>['<insert_colname_for_restingpotential>']\n",
        "sample_2 = <insert_dataframe_name_MTG>['<insert_colname_for_restingpotential>']\n",
        "\n",
        "# Don't change below this line\n",
        "# Run the skew test\n",
        "stats_1, pvalue_1 = stats.skewtest(sample_1)\n",
        "stats_2, pvalue_2 = stats.skewtest(sample_2)\n",
        "\n",
        "# Print the p-value of both skew tests\n",
        "print('FroL skew test pvalue: ' + str(pvalue_1))\n",
        "print('MTG skew test pvalue: ' + str(pvalue_2))\n",
        "\n",
        "# Plot our distributions\n",
        "plt.hist(sample_1)\n",
        "plt.title('FroL distribution')\n",
        "plt.show()\n",
        "plt.hist(sample_2)\n",
        "plt.title('MTG distribution')\n",
        "plt.show()"
      ]
    },
    {
      "cell_type": "markdown",
      "metadata": {
        "id": "zIVr7yxhlfZu"
      },
      "source": [
        "What do these results show? You should see that our data are not considered skewed based on the plots and p-value."
      ]
    },
    {
      "cell_type": "markdown",
      "metadata": {
        "id": "jJFzthKwvgvb"
      },
      "source": [
        "This indicates that we should use the Independent Samples T-test. Just run the cell below."
      ]
    },
    {
      "cell_type": "code",
      "execution_count": null,
      "metadata": {
        "id": "JKH_QUSpuN2T"
      },
      "outputs": [],
      "source": [
        "# Independent Samples t-test\n",
        "print(stats.ttest_ind(sample_1, sample_2))"
      ]
    },
    {
      "cell_type": "markdown",
      "metadata": {
        "id": "Wjan_eb5vl8d"
      },
      "source": [
        "**Exercise**: Interpret the results of your test. What can you say about the difference between temporal and non-temporal neurons? What can't you say? Think about the sample you were testing when you describe what your results apply to. You can also go back to the descriptives we looked at to think about these questions. <br>\n",
        "You could also look back at the mean values for each brain region and state how the two compare- how do they differ?"
      ]
    },
    {
      "cell_type": "markdown",
      "metadata": {
        "id": "6RHNwB66xQi7"
      },
      "source": [
        "*Type your response here*"
      ]
    },
    {
      "cell_type": "markdown",
      "metadata": {
        "id": "wrMXFg7OwsIy"
      },
      "source": [
        "## Evaluating brain region differences in average firing rate\n"
      ]
    },
    {
      "cell_type": "markdown",
      "metadata": {
        "id": "-z4T71a0wuJV"
      },
      "source": [
        "**Exercise**: Repeat the above procedure, but now use the column that contains data for **average firing rate**. <br>\n",
        "\n",
        "Note that in the code below, we account for NaNs by removing those observations from consideration. We didn't have data there, so we are going to tell python to ignore them. If we didn't do this, the results for the test and plot would all come out to NaN and not tell us anything about our data."
      ]
    },
    {
      "cell_type": "code",
      "execution_count": null,
      "metadata": {
        "id": "YdWPa2YHT-Mx"
      },
      "outputs": [],
      "source": [
        "# Copy and paste the code you used above (including the plotting code), editing the `sample_1` and `sample_2` assignment statements\n"
      ]
    },
    {
      "cell_type": "markdown",
      "metadata": {
        "id": "GcTTf2gmw5Mt"
      },
      "source": [
        "This indicates we should use the Mann-Whitney U test.\n",
        "Just run the cell below."
      ]
    },
    {
      "cell_type": "code",
      "execution_count": null,
      "metadata": {
        "id": "RsbOJlq1w8Ue"
      },
      "outputs": [],
      "source": [
        "# Mann-Whitney U test\n",
        "print(stats.mannwhitneyu(sample_1, sample_2, nan_policy= 'omit'))     # here is how we deal with NaNs"
      ]
    },
    {
      "cell_type": "markdown",
      "metadata": {
        "id": "rcKKD_2TxM_E"
      },
      "source": [
        "**Exercise**: Interpret the results of your test. What can you say about the difference between temporal and non-temporal neurons? What can't you say? Think about the sample you were testing when you describe what your results apply to."
      ]
    },
    {
      "cell_type": "markdown",
      "metadata": {
        "id": "cjvwmyj0xNqK"
      },
      "source": [
        "*Type your response here*"
      ]
    },
    {
      "cell_type": "markdown",
      "metadata": {
        "id": "p6Fc72UbUzQP"
      },
      "source": [
        "# Comparison of your choice"
      ]
    },
    {
      "cell_type": "markdown",
      "metadata": {
        "id": "YeFIC7zVU1r4"
      },
      "source": [
        "Using this data, make an additional comparison of your choice. <br>\n",
        "1.   Describe your comparison\n",
        "2.   Check the data for skew and plot\n",
        "3.   Run the appropriate test: independent t-test or Mann-Whitney U\n",
        "4.   Interpret the results of your statistical comparison."
      ]
    },
    {
      "cell_type": "markdown",
      "metadata": {
        "id": "D1BbEhGDVXqi"
      },
      "source": [
        "1. Describe your comparison. What did you choose to do?<br>\n",
        "\n",
        "*     For this you can choose to *compare 2 different brain regions* instead of the combination we did above. Choose only from these options: **FroL**, **MTG**, and **MFG**. (We are focusing on these because they have the most cells compared to the others for valid comparisons) <br>\n",
        "*     You could instead compare *across cortical layers* within a *single brain region*. If you do this, make sure to try to pick the ones with the most number of cells that appear in the descriptive table above. You should not compare layers that have only 1 cell, or a NaN value!"
      ]
    },
    {
      "cell_type": "markdown",
      "metadata": {
        "id": "gdGRE14fVdWH"
      },
      "source": [
        "*Type your response here*"
      ]
    },
    {
      "cell_type": "markdown",
      "metadata": {
        "id": "Y6RULZi6WPlO"
      },
      "source": [
        "**Exercise**: You need an intermediate step here to actually create dataframes for whatever comparison you are doing. <br>\n",
        "\n",
        "*   If you are going to use MFG, you need to create a subset of the data here like we did above for FroL and MTG.\n",
        "*   If you are going to compare across cortical layers, then you need to create at least 2 dataframes that are for your single brain region and each layer. <br>\n",
        "\n",
        "*Hint*: If you are unsure how to create a dataframe based on 2 conditions (brain region & cortical layer), refer back to the demo code from last week's lecture (**Allen Institute Visual Behavior Dataset**) or **lab08** on how to combine these conditions with `&` while subsetting the data.  "
      ]
    },
    {
      "cell_type": "code",
      "execution_count": null,
      "metadata": {
        "id": "vzof3LdgWPDW"
      },
      "outputs": [],
      "source": [
        "# Code goes here for your dataframes"
      ]
    },
    {
      "cell_type": "markdown",
      "metadata": {
        "id": "48R3Toh3VfNH"
      },
      "source": [
        "2. Add the code for skew and plot below"
      ]
    },
    {
      "cell_type": "code",
      "execution_count": null,
      "metadata": {
        "id": "q-Lz76sgViGl"
      },
      "outputs": [],
      "source": [
        "# Code for skew test and plot goes here"
      ]
    },
    {
      "cell_type": "markdown",
      "metadata": {
        "id": "f_-gzQCdVj6_"
      },
      "source": [
        "3. Run the appropriate test based on the skew test p-value."
      ]
    },
    {
      "cell_type": "code",
      "execution_count": null,
      "metadata": {
        "id": "0Duuu0t3X5cq"
      },
      "outputs": [],
      "source": [
        "# Independent t-test or Mann-Whitney U\n"
      ]
    },
    {
      "cell_type": "markdown",
      "metadata": {
        "id": "LUZmwZ_aX83I"
      },
      "source": [
        "4. Interpret your results<br>\n",
        "\n",
        "What can you say about the difference between neurons in the brain regions or cortical layers? What can't you say? Think about the sample you were testing when you describe what your results apply to."
      ]
    },
    {
      "cell_type": "markdown",
      "metadata": {
        "id": "EYgEUU6sYFcG"
      },
      "source": [
        "*Type your response here*"
      ]
    },
    {
      "cell_type": "markdown",
      "metadata": {
        "id": "Jgwf8NsEU29l"
      },
      "source": [
        "# Technical Notes & Credits\n",
        "\n",
        "The exercises for this case study were adapted from Sabrina Robertson, PhD at UNC. Example text and scipy stats info also referenced examples from Teaching and Learning with NWB Datasets, the module on [Data Science in Python: SciPy](https://nwb4edu.github.io/Data_Science_In_Python/SciPy.html).\n"
      ]
    }
  ],
  "metadata": {
    "colab": {
      "provenance": [],
      "toc_visible": true
    },
    "kernelspec": {
      "display_name": "Python 3",
      "name": "python3"
    },
    "language_info": {
      "name": "python"
    }
  },
  "nbformat": 4,
  "nbformat_minor": 0
}